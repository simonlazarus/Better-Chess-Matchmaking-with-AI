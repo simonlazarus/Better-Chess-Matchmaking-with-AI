{
 "cells": [
  {
   "cell_type": "markdown",
   "id": "1d3b2856-30a7-4fe3-9b74-67fd8ea0a2a7",
   "metadata": {},
   "source": [
    "# Summary of this notebook"
   ]
  },
  {
   "cell_type": "markdown",
   "id": "ec43bc9c-1340-4b83-a561-2de25e9e5412",
   "metadata": {},
   "source": [
    "In this notebook, we create our baseline models that we will use as a basis of comparison for our production model.  We first explain why it is appropriate to evaluate our models in terms of *binary cross-entropy (BCE) score* and not merely accuracy score.  We then give a brief overview of the primary player-rating systems in use today, \"Elo\" and \"Glicko\".  We explain why it is not possible to perfectly replicate the winner-prediction model used on Lichess.org with the data available to us, and then we determine which models might be reasonable baselines.  Finally, we construct and evaluate these baseline models."
   ]
  },
  {
   "cell_type": "code",
   "execution_count": 1,
   "id": "069c52d2-a8e2-4f7f-9d21-bacac2ff8a7d",
   "metadata": {},
   "outputs": [],
   "source": [
    "import pandas as pd\n",
    "import numpy as np\n",
    "import matplotlib.pyplot as plt\n",
    "\n",
    "import torch\n",
    "import torch.nn as nn\n",
    "from sklearn import metrics\n",
    "from sklearn.model_selection import train_test_split\n",
    "\n",
    "from helper_functions import elo_expectation, glicko_expectation"
   ]
  },
  {
   "cell_type": "markdown",
   "id": "d877f274-8214-41f3-a4c9-faad058af4da",
   "metadata": {},
   "source": [
    "# Background"
   ]
  },
  {
   "cell_type": "markdown",
   "id": "81c9b427-d059-48a6-94c2-beec547677bc",
   "metadata": {},
   "source": [
    "Here, we explain which metrics we will use to evaluate our models.  We then briefly summarize the Elo and Glicko ratings systems that are in wide use today, including on Lichess.org.  Finally, we explain which models we will use as baselines for comparison with our production model."
   ]
  },
  {
   "cell_type": "markdown",
   "id": "06528787-76b5-4212-b42d-f57b1d4ca7e9",
   "metadata": {},
   "source": [
    "## Metrics for Evaluating Models: BCE, MAE and Accuracy"
   ]
  },
  {
   "cell_type": "markdown",
   "id": "dfaadef0-9fba-4fca-9f6b-5531f1fc4f44",
   "metadata": {},
   "source": [
    "The problem with which we have tasked ourselves is to predict the outcome of a new player's 2nd-ever game on Lichess.org so that we can create better matchmaking for new players.  To adequately address this problem, we must ask: What makes for a good match between two players?\n",
    "\n",
    "A \"good match\" should be one wherein the two players have similar \"skill.\"  Framed differently, a good match is one where the *probability that Player 1 beats Player 2* is as close to 50% as possible.  In order to select between all the potential matches that could be made for a new player, we must therefore be able to predict the *probability* that the new player would win / lose if matched against a given opponent.\n",
    "\n",
    "This means that discrete predictions (or \"classifications\") of the form \"We expect new player A to lose if paired against opponent X in her 2nd game\" or \"We expect new player B to win if paired against opponent Y in her 2nd game\" are *not sufficient* for our purposes.  We need our models to produce *probabilistic predictions*.\n",
    "\n",
    "Similarly, given two models that probabilistically predict the outcomes of new players' 2nd games, we should not compare the two models merely in terms of their *accuracy scores*: we should also compare them in terms of a metric that penalizes models *more strongly* if their probabilistic predictions are *farther* from the truth.  For this reason, we compare models primarily on the basis of *[binary cross-entropy (BCE)](https://en.wikipedia.org/wiki/Cross_entropy)* score and only secondarily on the basis of accuracy score.\n",
    "\n",
    "Indeed, BCE is a standard metric used to evaluate player-rating models.  It was used, for example, in the [Deloitte/FIDE Chess Rating Challenge](https://www.kaggle.com/c/ChessRatings2/overview/custom).  (Technically this competition scored models on the basis of [Binomial Deviance](https://stats.stackexchange.com/questions/371476/calculate-binomial-deviance-binomial-log-likelihood-in-the-test-dataset), which is just a constant times BCE.)\n",
    "\n",
    "We will also use Mean Absolute Error (MAE or \"$\\mathcal{L}^1$ loss\") as a secondary metric to evaluate our models' predictions.  Like BCE, MAE penalizes models for making probabilistic predictions that are *farther* from the truth: for example, if the true value is 1 and the model predicts .3, this prediction receives a larger loss than if it had predicted .4 (even though the discrete prediction is the same in both cases)."
   ]
  },
  {
   "cell_type": "markdown",
   "id": "0e69df48-0c07-4b18-b675-822c2e7b3113",
   "metadata": {},
   "source": [
    "## BCE or MAE as the loss function for good matchmaking?\n",
    "\n",
    "When compared to BCE, MAE has the advantage of being especially easy to interpret: MAE is simply the average amount by which the model's probabilistic predictions are \"off\" from the truth.  Unlike BCE, though, MAE does *not* have the advantage of penalizing *each additional unit of distance from the truth* by *greater and greater amounts*.\n",
    "\n",
    "This \"increasing marginal loss\" property of BCE is a desirable property of a loss function when trying to make good matches between players.  For example, consider the following two possible models:\n",
    "- Model A is off by about .2 units of probability for all observations.\n",
    "- Model B is off by about .04 units of probability in 2/3 of observations and is off by about .5 units of probability in 1/3 of observations (where these \"2/3 or 1/3\" cases are split independently of the model's estimated probability that Player 1 will win).\n",
    "\n",
    "Model A will likely lead to reasonably good chess matches between all players.  When Model A finds a match for which its estimated win probability of Player 1 is .55, the true win probability for player 1 will be approximately in the interval \\[.35, .75\\].  Even in the case where Player 1's win probability is .75, Player 2 stands a reasonable fighting chance.\n",
    "\n",
    "Model B, on the other hand, is likely to make *exceptionally good* matches in 2/3 of cases but *potentially horrible* matches in 1/3 of cases.  Indeed, in the 1/3 of cases in which it is off by about .5, the true win probability for Player 1 could be *as small as 0* or *as large as 1*.  This means that in about 1/3 of cases where the model has identified a \"good match\", it may have actually identified a *horrible match*: potentially a bad experience that causes one or both players to spend less time on the chess platform in the future.  Thus, for the purposes of good matchmaking, model A is preferable to model B.\n",
    "\n",
    "A BCE loss function therefore makes the \"correct\" choice between models A and B: Model A has a BCE loss of $-\\ln(.8) = .223$ while Model B has a larger BCE loss of $(2/3) \\ln(.96) + (1/3) \\ln(.5) = .258$ (see below for a review of these calculations).  However, the MAE loss function makes the \"wrong\" choice here: Model A has a MAE of .2, while model B's MAE is only .193.\n",
    "\n",
    "For these reasons, even though BCE is less easily interpretable than MAE, we will use BCE as our primary metric to evaluate models."
   ]
  },
  {
   "cell_type": "markdown",
   "id": "74c1a268-b803-49f2-bb05-53bfbb968ac2",
   "metadata": {},
   "source": [
    "### A review of BCE loss"
   ]
  },
  {
   "cell_type": "markdown",
   "id": "bbafcb27-f466-4699-884d-2f7cec315b28",
   "metadata": {},
   "source": [
    "For a traditional binary classification problem, the BCE loss between a vector of predictions and a vector of (true) taregt values (each 0 or 1) is computed as follows.\n",
    "\n",
    "1. For each observation, compute the natural logarithm of (1 minus the distance between the prediction and the true value).\n",
    "- For example, if for one observation the prediction is .7 and the true value is 1, then the distance between the true value and the prediction is .3, so 1 minus this distance is .7, meaning the log is $ln(.7) = -0.357$.\n",
    "- If for another observation the prediction is .7 and instead the true value is 0, then the distance between the true value and the prediction is .7, so 1 minus this distance is .3, meaning the log is $ln(.3) = -1.204$.\n",
    "- If for a third observation the prediction is .9 and the true value is 1, then the log is $ln(.9) = -.105$.\n",
    "- If for a 4th observation the prediction is 1.0 and the true value is 1, then the log is $ln(1) = 0$.  (In reality most sensible models will *never* make a probabilistic prediction of *exactly 1* or *exactly 0*, since if the prediction is wrong then the loss coming from this observation is $ln(0) = -\\infty$.)\n",
    "\n",
    "2. Average the computed logs across all observations in the vector, then take the negative of this average.\n",
    "- In our example, this means that the BCE loss is\n",
    "$$ \\frac{1}{4}(.357 + 1.204 + .105 + 0) = 0.4165.$$\n",
    "\n",
    "As we can see, when the true value is 1 (respectively, 0), a prediction closer to 1 (respectively, 0) means the loss due to this observation will be smaller."
   ]
  },
  {
   "cell_type": "markdown",
   "id": "188c6474-0e71-42c9-92e0-5015630ba9b4",
   "metadata": {},
   "source": [
    "### A note about BCE loss when the \"true value\" can be probabilistic\n",
    "\n",
    "In chess, the outcome of a game is *usually* a win or loss for a given player; however, there are also cases where a *draw* can occur.  In our data, the target variable (what we're trying to predict) measures the outcome of a new player's 2nd game on Lichess.org.  It is encoded as follows:\n",
    "- A \"1\" means that the new player won.\n",
    "- A \"0\" means that the new player lost.\n",
    "- A \".5\" means that the new player *had a draw*.\n",
    "\n",
    "If we use these numbers as the \"true values\" in a manner similar to the above - so that the \"true value\" is now not always 0 or 1, but can sometimes be .5 - then we still arrive at a sensible loss function.  Let's look at a few examples:\n",
    "- If for one observation the prediction is .7 and the true value is .5, then the distance between the true value and the prediction is .2, so 1 minus this distance is .8, meaning the log is $ln(.8) = -.223$.\n",
    "\n",
    "As we can see, the loss from this observation (where we predicted \".7\") when the true value is .5 is *smaller* than the loss would be if the true value were 1 or 0.  This is because .7 is closer to .5 than it is to 1 or 0.\n",
    "\n",
    "- If we predicted .5 and the true value is .5, then the distance is 0, so 1 minus the distance is 1, so the log is $ln(1) = 0$.\n",
    "\n",
    "As we can see, in case of a draw, a prediction of .5 is rewarded with *no loss at all* for that observation.\n",
    "\n",
    "- If we predicted 1 and the true value is .5, then the distance is .5, so 1 minus the distance is also .5, so the log is $ln(.5) = -.693$.\n",
    "\n",
    "Thus - unlike when the true value is 0 or 1 and we can potentially achieve an *arbitrarily large loss* if our prediction is too far from the true value - when the true value is .5 the maximum loss that can be achieved from a single observation is $.693$, and it is achieved when the prediction is too confident on *either* 0 or 1.  This maximum-loss-from-a-single-observation value of .693 is the same as the loss that would be achieved by a prediction of .5 when the true value is *either* 0 or 1.\n",
    "\n",
    "The BCE loss function therefore generalizes quite naturally to the case where a \"draw\" is encoded as a value of .5.\n"
   ]
  },
  {
   "cell_type": "markdown",
   "id": "bbac0852-0037-4ae2-a561-f3408fc9dbd6",
   "metadata": {},
   "source": [
    "### How we'll compute BCE loss when training our models"
   ]
  },
  {
   "cell_type": "markdown",
   "id": "b3223df3-c6ac-4eec-8ce8-c8b9fccf7c08",
   "metadata": {},
   "source": [
    "We will use [PyTorch's built-in BCE loss function](https://pytorch.org/docs/stable/generated/torch.nn.BCELoss.html) to compute BCE loss in this project.  This function applies the same method mentioned above, except it \"clamps its log function outputs to be greater than or equal to -100.\"  That is, to avoid the problem of a loss value from a single observation swamping all other loss values (which is particularly dangerous when training models using gradient descent), this function substitutes a value of -100 whenever the \"log\" caluclation for a single observation would yield a value even more negative than -100."
   ]
  },
  {
   "cell_type": "markdown",
   "id": "8ff42837-423d-4841-a855-c5d34107c9eb",
   "metadata": {},
   "source": [
    "## Elo and Glicko Ratings Systems"
   ]
  },
  {
   "cell_type": "markdown",
   "id": "8b6481ba-eccb-488b-abbf-4cd04149bbfd",
   "metadata": {},
   "source": [
    "The [International Chess Federation (FIDE)](https://www.fide.com/) uses the [Elo rating system](https://en.wikipedia.org/wiki/Elo_rating_system) to rate its players, while many chess websites (including Lichess.org) use variants of the more advnaced [Glicko rating system](https://www.glicko.net/glicko.html).  For a good introduction to the most basic variant, Glicko-1, see [this document](https://www.glicko.net/glicko/glicko.pdf).\n",
    "\n",
    "Regardless of whether one uses the Elo system or the Glicko system, the center and spread of the long-run distribution of players' ratings will be a function of (1) the initial rating that you choose to give to all new players and (2) some paramters of the rules used to update ratings.  Lichess.org uses an initial rating of 1500 and sets its paramters such that nearly all players have a rating between around 600 and 2700 in its [long-run distribution](https://lichess.org/stat/rating/distribution/rapid).\n",
    "\n",
    "Essentially, both the Elo and Glicko systems model players' skill through a \"rating\" score in such a way that if two players P1 and P2 have ratings $r_1$ and $r_2$ prior to playing each other, then the expected probability $E$ that P1 defeats P2 is a logistic function of the ratings difference $(r_1 - r_2)$.  The exact parameters of this logistic function depend upon the parameters chosen in (2) above, but for a Lichess-like distribution, the Elo function looks like\n",
    "\n",
    "$$E_{Elo} = \\frac{1}{1+10^{-(r_1-r_2)/400}}.$$\n",
    "\n",
    "The Elo scoring system updates players' ratings based on who defeats whom (and the ratings of the players who won/lost); the exact method for updating scores is not important for our analysis.\n",
    "\n",
    "Under the Glicko system, players' ratings are reported not as point estimates but instead as 95% confidence intervals.  Each player $i$ has both a *rating* $r_i$ and a *rating deviation* $RD_i$ so that the 95% confidence interval for the player's \"true rating\" is\n",
    "\n",
    "$$ r_i \\pm RD_i. $$\n",
    "\n",
    "(We follow the definition of \"ratings deviation\" used by Lichess.org; another common definition defines $RD_i$ such that the 95% confidence interval is $r_i \\pm 1.96 RD_i$.) After the players play against each other (perhaps multiple times, during a \"rating period\"), the Glicko system has a formula for updating the players' ratings *and* their ratings deviations based on (A) the outcome(s) of their match(es) and (B) the players' ratings and ratings deviations prior to their match(es).  Crucially, as a player plays more matches (within a given rating period, at least), her ratings deviation always goes *down*.  That is, as the player plays more games and we observe the games' outcomes, we become more and more certain about her skill level.\n",
    "\n",
    "When computing the expected probability that P1 defeats P2, the Glicko system takes into account both the players' ratings and their ratings deviations.  For a Lichess-like distribution, the expectation function (i.e. expected probability that P1 defeats P2) is\n",
    "\n",
    "$$E_{Glicko} = \\frac{1}{1+10^{-g\\left(\\sqrt{RD_1^2 + RD_2^2}\\right) \\cdot (r_1-r_2)/400}}$$\n",
    "\n",
    "where $g : \\mathbb{R} \\to (0,1]$ is the strictly decreasing positive function given by\n",
    "\n",
    "$$ g(x) = \\frac{1}{\\sqrt{1 + \\frac{3q^2}{\\pi^2} x^2}}$$\n",
    "\n",
    "where $q = \\ln(10)/400$.  As we can see, the Glicko expectation function is the same as the Elo expectation function, except it *downweights* the exponent in the denominator towards 0: all else equal, if *either* player's ratings deviation $RD_1$ or $RD_2$ increases, then the weighting factor $g\\left(\\sqrt{RD_1^2 + RD_2^2}\\right)$ gets closer to 0, causing the expected probability that P1 defeats P2 to get closer to $\\frac{1}{2}$.\n",
    "\n",
    "This means that the Glicko system makes an Elo-like prediction of who will win, but downweights its prediction based on how much uncertainty there is about the players' ratings.  In the extreme case where both players have a ratings deviation of 0 (no uncertainty), the Glicko system's expectation function reverts to the Elo expectation function; that is, there is no downweighting.  In the other extreme where one or both players have exceptionally large ratings deviations (lots of uncertainty), the Glicko system's expectation will be very close to $\\frac{1}{2}$; that is, it downweights all the way to an uninformed guess.\n",
    "\n",
    "Below, we plot the Glicko expectation of a game's outcome as a function of the difference $r_1 - r_2$ between the two players' ratings.  We plot this function for various values of the players' ratings deviations."
   ]
  },
  {
   "cell_type": "code",
   "execution_count": 2,
   "id": "255187fb-4002-4b89-8377-6fe28c6b472d",
   "metadata": {},
   "outputs": [],
   "source": [
    "xs = np.linspace(0,1200,1000)\n",
    "elos = [glicko_expectation(x, 0, 0, 0) for x in xs]\n",
    "glickos_minRD = [glicko_expectation(x, 0, 45, 45) for x in xs]\n",
    "glickos_maxcertainRD = [glicko_expectation(x, 0, 110, 110) for x in xs]\n",
    "glickos_500RD = [glicko_expectation(x, 0, 500, 500) for x in xs]\n",
    "glickos_startingRD = [glicko_expectation(x, 0, 1000, 1000) for x in xs]"
   ]
  },
  {
   "cell_type": "code",
   "execution_count": 3,
   "id": "2fe6da07-4b2c-4c05-9216-57d220b96537",
   "metadata": {},
   "outputs": [
    {
     "data": {
      "image/png": "[encoded data removed]",
      "text/plain": [
       "<Figure size 640x480 with 1 Axes>"
      ]
     },
     "metadata": {},
     "output_type": "display_data"
    }
   ],
   "source": [
    "plt.plot(xs, elos, 'r', label='Elo (\"RDs=0\")')\n",
    "plt.plot(xs, glickos_minRD, 'orange', label='Glicko (RDs=45)')\n",
    "plt.plot(xs, glickos_maxcertainRD, 'blue', label='Glicko (RDs=110)')\n",
    "plt.plot(xs, glickos_500RD, 'purple', label='Glicko (RDs=500)')\n",
    "plt.plot(xs, glickos_startingRD, 'black', label='Glicko (RDs=1000)')\n",
    "plt.xlabel('(P1 rating) - (P2 rating)')\n",
    "plt.title(\"Expected probability that P1 defeats P2,\\nfor various values of players' Ratings Deviations\")\n",
    "plt.legend();\n",
    "plt.tight_layout();\n",
    "plt.savefig('../images/glicko_expectations.jpg');"
   ]
  },
  {
   "cell_type": "markdown",
   "id": "7cd1eb07-6743-444a-881a-b8f2b92f5caa",
   "metadata": {},
   "source": [
    "- The top curve is the Glicko expectation function when both players have a ratings deviation (RD) of 0; that is, it is equivalent to the Elo expectation function.\n",
    "- The next curve down is the Glicko expectation function when both players have RD = 45.  This is the minimum RD that players can have on Lichess.org; it is achieved after a player has played many games.  As we can see, its predictions are very close to those of the Elo curve.\n",
    "- The third curve is when both players have RD = 110.  This is the minimum RD needed on Lichess.org in order for your rating to not be considered \"provisional\".  Newer players with an RD greater than 110 bear a \"?\" next to their rating scores.\n",
    "- The second-to-bottom curve is when both players have RD = 500.\n",
    "- The bottom curve is when both players have RD = 1000, which is initial RD of a new player on LIchess.org (hence, the maximum possible RD).\n",
    "\n",
    "As we can see, as long as P1 has a higher rating than P2, the Glicko model's *discrete* prediction is always that P1 defeats P2 (regardless of the players' RDs).  However, the *probabilistic* prediction is sensitive to both (I) the difference in the players' ratings and (II) the players' RDs.  The larger the players' RDs, the less confident is the probabilistic prediction that P1 defeats P2.  For example, consider a scenario where P1 has a rating of 1700 while P2 has a rating of 1500.  What is the expected probability that P1 defeats P2, for various values of the players' RDs?"
   ]
  },
  {
   "cell_type": "code",
   "execution_count": 4,
   "id": "412533f6-6d77-4d64-b2c7-fa5d13a1b04e",
   "metadata": {},
   "outputs": [
    {
     "data": {
      "text/plain": [
       "0.7597469266479578"
      ]
     },
     "execution_count": 4,
     "metadata": {},
     "output_type": "execute_result"
    }
   ],
   "source": [
    "#RDs = 0\n",
    "glicko_expectation(p1_rating = 1700, p2_rating = 1500, p1_RD = 0, p2_RD = 0)"
   ]
  },
  {
   "cell_type": "code",
   "execution_count": 5,
   "id": "2c580fa3-d504-4540-8174-b6ec7a9999b1",
   "metadata": {},
   "outputs": [
    {
     "data": {
      "text/plain": [
       "0.755562886725642"
      ]
     },
     "execution_count": 5,
     "metadata": {},
     "output_type": "execute_result"
    }
   ],
   "source": [
    "#RDs = 45\n",
    "glicko_expectation(p1_rating = 1700, p2_rating =1500, p1_RD = 45, p2_RD = 45)"
   ]
  },
  {
   "cell_type": "code",
   "execution_count": 6,
   "id": "f10bdfe7-1312-4095-9163-d66118042c45",
   "metadata": {},
   "outputs": [
    {
     "data": {
      "text/plain": [
       "0.562267801322134"
      ]
     },
     "execution_count": 6,
     "metadata": {},
     "output_type": "execute_result"
    }
   ],
   "source": [
    "#RDs = 1000\n",
    "glicko_expectation(p1_rating = 1700, p2_rating =1500, p1_RD = 1000, p2_RD = 1000)"
   ]
  },
  {
   "cell_type": "markdown",
   "id": "aa420005-5b85-4fce-bfda-af7bae261eca",
   "metadata": {},
   "source": [
    "### Why we can't precisely replicate Lichess.org's winner-prediction algorithm"
   ]
  },
  {
   "cell_type": "markdown",
   "id": "626479f4-b8b9-49bc-adab-2a97a77bbb0f",
   "metadata": {},
   "source": [
    "More advanced versions of the Glicko system take other factors into account so that they can make better predictions (i.e., lower BCE with the true distribution of match outcomes).  For example, the [Glicko-2 system](https://www.glicko.net/glicko/glicko2.pdf) also keeps track of a \"ratings volatility\" measure for each player.  Lichess.org uses a variant of the even more advanced \"Glicko-Boost\" system; however, most of the values used in this system are invisible to the players.  At any given time, one can only view one's rating score and rating deviation.\n",
    "\n",
    "Lichess.org also does not report players' ratings deviations in their [publicly available databases](https://database.lichess.org/); instead, for each match it merely reports the players' (point) ratings and the amount of points each player gained or lost after the match.  Even if Lichess.org *did* report the ratings deviations, though, it would be quite difficult to precisely replicate the probabilistic predictions made by their Glicko model (and not just because we'd also be missing the ratings volatility scores!).  This is because the procedure necessary to account for real-time updating of ratings (instead of updating everyone's ratings simultaneously, once per \"rating period\") is complicated.  See [this repository](https://gist.github.com/gpluscb/302d6b71a8d0fe9f4350d45bc828f802) for details.\n",
    "\n",
    "In summary, Lichess.org does not supply sufficient data to replicate their winner-prediction algorithm or even a simpler Glicko-1 algorithm."
   ]
  },
  {
   "cell_type": "markdown",
   "id": "7a489846-d14a-4d22-8ae1-f436987f82c2",
   "metadata": {},
   "source": [
    "# Baseline models we will use\n",
    "\n",
    "Thus, we can't compare our more advanced models' predictions to those *actually used* by Lichess.org.  Instead, we will have to settle for 4 baseline models:\n",
    "\n",
    "0. The \"null model\" that always predicts (with 100% probability) the plurality outcome.\n",
    "1. An \"uninformed\" model that always predicts that each player will win with 50% probability.\n",
    "2. The Elo model (equivalently, a Glicko model with both players' ratings deviations set to 0).\n",
    "3. A Glicko model where we always set both players' ratings deviations to a constant $R$.  We will search the space of hyperparameters $R$ to find the best-performing value of $R$ in terms of BCE score on on the training data (and also check its BCE on the test data)."
   ]
  },
  {
   "cell_type": "markdown",
   "id": "8abf2a0d-b144-4477-ad61-44540e1b3618",
   "metadata": {},
   "source": [
    "## Comparison to Lichess.org's model"
   ]
  },
  {
   "cell_type": "markdown",
   "id": "b28c3b3d-0ae5-492b-b7a9-04196fe1991d",
   "metadata": {},
   "source": [
    "In reality, rather than set $R$ to be constant across all players and games, the Glicko system determines a value of $R$ for each player before each game.  However, for the reasons outlined in the previous section, we cannot replicate such a system using only the data available from Lichess.org.  This baseline of setting $R$ to a constant for all players is the next-best thing we can do.\n",
    "\n",
    "Nonetheless, since (in the game we're predicting) at least one of the two players is always *playing her 2nd-ever game Lichess.org*, we know that the ratings deviation of at least *one* of the players will be relatively constant across games.  This suggests that, although our baseline model number 3 will likely not make as good of predictions for new players' 2nd games (in terms of BCE loss) as the actual model used on Lichess.org does, it will likely make predictions that are *not too much worse* than the actual model used on Lichess.org.\n",
    "\n",
    "Note also that although the different ratings deviations lead to different *probabilistic* predictions, the Glicko model's *discrete* prediction is always that *the player with a higher (point-estimate) rating will win*.  In this sense, all Glicko models (with any RD values for the players) make the same *discrete* prediction as an Elo model with the same values for the two players' ratings.\n",
    "\n",
    "Hence, although baseline model 3 should have a BCE score that is better than that of model 2 (and presumably not quite as good as that of the actual model used on Lichess.org), when evaluating models by their *accuracy scores* models 2 and 3 will have the same score - and this will be the same as the score of the model used on Lichess.org."
   ]
  },
  {
   "cell_type": "markdown",
   "id": "4b8f3c07-b9fa-4377-93c4-cfee28c7e3e3",
   "metadata": {},
   "source": [
    "## In Baseline Model 3, why not grid search for the new players' and opponents' ratings deviations separately?"
   ]
  },
  {
   "cell_type": "markdown",
   "id": "1bded122-d52f-4d36-88c9-93023199270c",
   "metadata": {},
   "source": [
    "As we said above, we are trying to predict the outcome of a new player's 2nd-ever game.  Given that new players always start with a ratings deviation of 1000 and only get to play *1 game* before the game for which we're making predictions, this means that nearly all new players will have a roughly-constant ratings deviation (say, around 900) at the beginning of the game for which we are making predictions.  So why not try a model that assumes the following?\n",
    "\n",
    "- New players always have a ratings deviation of a certain constant value $R_{new}$.\n",
    "- Their opponents always have a ratings deviation of a (possibly different) constant value $R_{opp}$.\n",
    "\n",
    "Then instead of searching a 1-dimensional space for the best value of $R$ that *all* players have, we can search a 2-dimensional space for the best *pair* of values $R_{new}, R_{opp}$!  This should give us more freedom, right?\n",
    "\n",
    "In fact, this approach should do *exactly as well* as the 1-dimensional search.  Indeed, the Glicko expectation function only cares about the two players' ratings deviations $R_{old}$ and $R_{new}$ in terms of the sum of their squares - recall that\n",
    "\n",
    "$$E_{Glicko} = \\frac{1}{1+10^{-g\\left(\\sqrt{RD_1^2 + RD_2^2}\\right) \\cdot (r_1-r_2)/400}}.$$\n",
    "\n",
    "This means that, for any pair of values $R_{old}$ and $R_{new}$ that one might claim \"do better than any single value $R$,\" we can construct a single value $R$ that does just as well as the combination of $R_{new}$ and $R_{old}$.  Simply choose\n",
    "\n",
    "$$ R = \\sqrt{.5(R_{new}^2 + R_{opp}^2)} $$\n",
    "\n",
    "and it will be the case that\n",
    "\n",
    "$$ R^2 + R^2 = R_{new}^2 + R_{opp}^2 $$\n",
    "\n",
    "and hence that the Glicko expectation function $E_{Glicko}$ will take on the *exact same value* (for any two players) when we assume that *both players' ratings deviations equal* $R$ instead of assuming that *the new player's is $R_{new}$ and the opponent's is $R_{opp}$*.\n"
   ]
  },
  {
   "cell_type": "markdown",
   "id": "bc665a50-d1db-4a85-9d05-bbb4034c3f80",
   "metadata": {},
   "source": [
    "## Data Import"
   ]
  },
  {
   "cell_type": "code",
   "execution_count": 7,
   "id": "280da6a6-749c-4e94-9799-a7a9e7e6ca8b",
   "metadata": {},
   "outputs": [],
   "source": [
    "train_2nd = pd.read_csv('../data/processed/train/train_2nd.csv', index_col='name_of_pl_playing_2nd_game')\n",
    "test_2nd = pd.read_csv('../data/processed/test/test_2nd.csv', index_col='name_of_pl_playing_2nd_game')\n",
    "val_2nd = pd.read_csv('../data/processed/val/val_2nd.csv', index_col='name_of_pl_playing_2nd_game')"
   ]
  },
  {
   "cell_type": "code",
   "execution_count": 8,
   "id": "7404c14d-ffb7-41fb-9ccf-38b9515fc593",
   "metadata": {},
   "outputs": [
    {
     "data": {
      "text/html": [
       "<div>\n",
       "<style scoped>\n",
       "    .dataframe tbody tr th:only-of-type {\n",
       "        vertical-align: middle;\n",
       "    }\n",
       "\n",
       "    .dataframe tbody tr th {\n",
       "        vertical-align: top;\n",
       "    }\n",
       "\n",
       "    .dataframe thead th {\n",
       "        text-align: right;\n",
       "    }\n",
       "</style>\n",
       "<table border=\"1\" class=\"dataframe\">\n",
       "  <thead>\n",
       "    <tr style=\"text-align: right;\">\n",
       "      <th></th>\n",
       "      <th>opponent</th>\n",
       "      <th>new_pl_color</th>\n",
       "      <th>new_pl_won</th>\n",
       "      <th>new_pl_elo</th>\n",
       "      <th>opp_elo</th>\n",
       "      <th>new_pl_rating_diff</th>\n",
       "      <th>opp_rating_diff</th>\n",
       "      <th>game_length</th>\n",
       "      <th>time_limit</th>\n",
       "      <th>time_gain_per_move</th>\n",
       "      <th>event</th>\n",
       "      <th>termination</th>\n",
       "      <th>conceded</th>\n",
       "      <th>datetime</th>\n",
       "      <th>timestamp</th>\n",
       "      <th>moves</th>\n",
       "      <th>both_players_2nd_game</th>\n",
       "    </tr>\n",
       "    <tr>\n",
       "      <th>name_of_pl_playing_2nd_game</th>\n",
       "      <th></th>\n",
       "      <th></th>\n",
       "      <th></th>\n",
       "      <th></th>\n",
       "      <th></th>\n",
       "      <th></th>\n",
       "      <th></th>\n",
       "      <th></th>\n",
       "      <th></th>\n",
       "      <th></th>\n",
       "      <th></th>\n",
       "      <th></th>\n",
       "      <th></th>\n",
       "      <th></th>\n",
       "      <th></th>\n",
       "      <th></th>\n",
       "      <th></th>\n",
       "    </tr>\n",
       "  </thead>\n",
       "  <tbody>\n",
       "    <tr>\n",
       "      <th>SAKATBIRAKAN</th>\n",
       "      <td>kami1946</td>\n",
       "      <td>White</td>\n",
       "      <td>1.0</td>\n",
       "      <td>1500.0</td>\n",
       "      <td>1608.0</td>\n",
       "      <td>237.0</td>\n",
       "      <td>-9.0</td>\n",
       "      <td>139</td>\n",
       "      <td>360.0</td>\n",
       "      <td>0.0</td>\n",
       "      <td>Blitz</td>\n",
       "      <td>Normal</td>\n",
       "      <td>1</td>\n",
       "      <td>2016-07-13 20:29:44</td>\n",
       "      <td>1.468442e+09</td>\n",
       "      <td>e4 b6 d4 Bb7 Nc3 e6 Nf3 Bb4 Bd3 Ne7 Bd2 Ng6 a3...</td>\n",
       "      <td>0</td>\n",
       "    </tr>\n",
       "  </tbody>\n",
       "</table>\n",
       "</div>"
      ],
      "text/plain": [
       "                             opponent new_pl_color  new_pl_won  new_pl_elo  \\\n",
       "name_of_pl_playing_2nd_game                                                  \n",
       "SAKATBIRAKAN                 kami1946        White         1.0      1500.0   \n",
       "\n",
       "                             opp_elo  new_pl_rating_diff  opp_rating_diff  \\\n",
       "name_of_pl_playing_2nd_game                                                 \n",
       "SAKATBIRAKAN                  1608.0               237.0             -9.0   \n",
       "\n",
       "                             game_length  time_limit  time_gain_per_move  \\\n",
       "name_of_pl_playing_2nd_game                                                \n",
       "SAKATBIRAKAN                         139       360.0                 0.0   \n",
       "\n",
       "                             event termination  conceded             datetime  \\\n",
       "name_of_pl_playing_2nd_game                                                     \n",
       "SAKATBIRAKAN                 Blitz      Normal         1  2016-07-13 20:29:44   \n",
       "\n",
       "                                timestamp  \\\n",
       "name_of_pl_playing_2nd_game                 \n",
       "SAKATBIRAKAN                 1.468442e+09   \n",
       "\n",
       "                                                                         moves  \\\n",
       "name_of_pl_playing_2nd_game                                                      \n",
       "SAKATBIRAKAN                 e4 b6 d4 Bb7 Nc3 e6 Nf3 Bb4 Bd3 Ne7 Bd2 Ng6 a3...   \n",
       "\n",
       "                             both_players_2nd_game  \n",
       "name_of_pl_playing_2nd_game                         \n",
       "SAKATBIRAKAN                                     0  "
      ]
     },
     "execution_count": 8,
     "metadata": {},
     "output_type": "execute_result"
    }
   ],
   "source": [
    "train_2nd.head(1)"
   ]
  },
  {
   "cell_type": "markdown",
   "id": "7c89a80d-ade8-47b2-8358-1bb403504c90",
   "metadata": {},
   "source": [
    "## Distribution of target variable (training data)"
   ]
  },
  {
   "cell_type": "code",
   "execution_count": 9,
   "id": "21c49b01-654a-4c05-8f52-4488e5123200",
   "metadata": {},
   "outputs": [
    {
     "data": {
      "text/plain": [
       "0.0    0.517728\n",
       "1.0    0.445788\n",
       "0.5    0.036484\n",
       "Name: new_pl_won, dtype: float64"
      ]
     },
     "execution_count": 9,
     "metadata": {},
     "output_type": "execute_result"
    }
   ],
   "source": [
    "dist = train_2nd['new_pl_won'].value_counts(normalize=True)\n",
    "dist"
   ]
  },
  {
   "cell_type": "code",
   "execution_count": 10,
   "id": "58009531-2a59-4056-b14f-a980277deb56",
   "metadata": {},
   "outputs": [
    {
     "data": {
      "text/plain": [
       "0.4626683608640407"
      ]
     },
     "execution_count": 10,
     "metadata": {},
     "output_type": "execute_result"
    }
   ],
   "source": [
    "dist[1.0]/(dist[1.0]+dist[0.0])"
   ]
  },
  {
   "cell_type": "markdown",
   "id": "264ed765-3a15-46ab-b7df-8f298d5d94cb",
   "metadata": {},
   "source": [
    "We see that in the new players' 2nd-ever games, only 3.6% were draws.  Among those games that were not draws, the new player won 46.3% of the time.\n",
    "\n",
    "Thus, the null model always predicts that *the new player loses* (predicted probability of win = 0.0).  Among non-drawn games in the training data, it achieves an accuracy score of 53.7%."
   ]
  },
  {
   "cell_type": "markdown",
   "id": "608eaf66-f2f8-4ed3-8459-331502e7627f",
   "metadata": {},
   "source": [
    "## Accuracy Scores"
   ]
  },
  {
   "cell_type": "code",
   "execution_count": 11,
   "id": "5084ec34-8cfa-4c3f-baf0-ed07e901e032",
   "metadata": {},
   "outputs": [],
   "source": [
    "#For accuracy scores, we're interested only in those games that aren't a draw\n",
    "train_2nd_nodraws = train_2nd[(train_2nd['new_pl_won'] > .55) | (train_2nd['new_pl_won'] < .45)]\n",
    "test_2nd_nodraws = test_2nd[(test_2nd['new_pl_won'] > .55) | (test_2nd['new_pl_won'] < .45)]\n",
    "val_2nd_nodraws = val_2nd[(val_2nd['new_pl_won'] > .55) | (val_2nd['new_pl_won'] < .45)]"
   ]
  },
  {
   "cell_type": "code",
   "execution_count": 12,
   "id": "fa2aa0e1-abe1-4206-840a-6432821f9416",
   "metadata": {},
   "outputs": [],
   "source": [
    "dfs_dict = {\n",
    "   'train':train_2nd,\n",
    "    'test':test_2nd,\n",
    "     'val':val_2nd\n",
    "}\n",
    "\n",
    "dfs_dict_nodraws = {\n",
    "   'train':train_2nd_nodraws,\n",
    "    'test':test_2nd_nodraws,\n",
    "     'val':val_2nd_nodraws\n",
    "}"
   ]
  },
  {
   "cell_type": "code",
   "execution_count": 25,
   "id": "81dd845d-8d58-4db3-83eb-8420d5f0c0da",
   "metadata": {},
   "outputs": [],
   "source": [
    "#Get the true values as integers instead of floats\n",
    "target_nodraws_train = np.array([int(x) for x in train_2nd_nodraws['new_pl_won']])\n",
    "target_nodraws_test = np.array([int(x) for x in test_2nd_nodraws['new_pl_won']])\n",
    "target_nodraws_val = np.array([int(x) for x in val_2nd_nodraws['new_pl_won']])\n",
    "\n",
    "target_nodraws = {\n",
    "    'train':target_nodraws_train,\n",
    "    'test':target_nodraws_test,\n",
    "    'val':target_nodraws_val\n",
    "}"
   ]
  },
  {
   "cell_type": "code",
   "execution_count": 26,
   "id": "55e123ac-8b02-4ced-828a-fb6a217acaac",
   "metadata": {},
   "outputs": [
    {
     "data": {
      "text/plain": [
       "{'train': 0.6214993646759848,\n",
       " 'test': 0.6357340720221607,\n",
       " 'val': 0.6281163434903048}"
      ]
     },
     "execution_count": 26,
     "metadata": {},
     "output_type": "execute_result"
    }
   ],
   "source": [
    "# Accuracy of ALL Elo/Glicko models on non-drawn games\n",
    "#(Recall that all Elo/Glicko models make the same DISCRETE predictions)\n",
    "acc = {}\n",
    "\n",
    "#Training accuracy\n",
    "preds_train = train_2nd_nodraws.apply(lambda row : elo_expectation(row['new_pl_elo'], row['opp_elo']), axis=1)\n",
    "preds_array_train = np.array([round(x, 0) for x in preds_train])\n",
    "acc['train'] = metrics.accuracy_score(target_nodraws_train, preds_array_train)\n",
    "\n",
    "#Test accuracy\n",
    "preds_test = test_2nd_nodraws.apply(lambda row : elo_expectation(row['new_pl_elo'], row['opp_elo']), axis=1)\n",
    "preds_array_test = np.array([round(x, 0) for x in preds_test])\n",
    "acc['test'] = metrics.accuracy_score(target_nodraws_test, preds_array_test)\n",
    "\n",
    "#Val accuracy\n",
    "preds_val = val_2nd_nodraws.apply(lambda row : elo_expectation(row['new_pl_elo'], row['opp_elo']), axis=1)\n",
    "preds_array_val = np.array([round(x, 0) for x in preds_val])\n",
    "acc['val'] = metrics.accuracy_score(target_nodraws_val, preds_array_val)\n",
    "\n",
    "#Report the train, test and val accuracy scores\n",
    "acc"
   ]
  },
  {
   "cell_type": "code",
   "execution_count": 29,
   "id": "4ff33dca-198a-4378-8127-3ae69f726c6f",
   "metadata": {},
   "outputs": [
    {
     "data": {
      "text/plain": [
       "{'train': 0.5373316391359594,\n",
       " 'test': 0.5373961218836565,\n",
       " 'val': 0.5450138504155124}"
      ]
     },
     "execution_count": 29,
     "metadata": {},
     "output_type": "execute_result"
    }
   ],
   "source": [
    "# Accuracy of null model\n",
    "null_acc = {}\n",
    "null_preds_nodraws = {}\n",
    "\n",
    "for kind in ['train', 'test', 'val']:\n",
    "    null_preds_nodraws[kind] = np.array([ 0 for _ in range(len(dfs_dict_nodraws[kind])) ])\n",
    "    null_acc[kind] = metrics.accuracy_score(target_nodraws[kind], null_preds_nodraws[kind])\n",
    "\n",
    "null_acc"
   ]
  },
  {
   "cell_type": "markdown",
   "id": "247de73e-901d-42e0-a86d-141f60cb289e",
   "metadata": {},
   "source": [
    "## Function to compute BCE Loss"
   ]
  },
  {
   "cell_type": "code",
   "execution_count": 14,
   "id": "85db7845-7d79-4f9e-98d5-99ba61934421",
   "metadata": {},
   "outputs": [],
   "source": [
    "def bce_loss(y_true, y_pred):\n",
    "    '''\n",
    "    Inputs:\n",
    "    -y_true: A Pandas series, Numpy array, or list of true values (0, 1, or .5)\n",
    "    -y_pred: A Pandas series, Numpy array, or list of predicted values\n",
    "    Uses PyTorch to compute BCE loss between the two inputted series.\n",
    "    '''\n",
    "    y_true = torch.from_numpy(np.array(list(y_true)))\n",
    "    y_pred = torch.from_numpy(np.array(list(y_pred)))\n",
    "    \n",
    "    return nn.BCELoss()(y_pred, y_true).item()"
   ]
  },
  {
   "cell_type": "markdown",
   "id": "f9b23c01-cf09-4962-8091-df14ce74077d",
   "metadata": {},
   "source": [
    "## Get the true target values"
   ]
  },
  {
   "cell_type": "code",
   "execution_count": 15,
   "id": "d04842d4-382c-4809-9a36-369f74b98393",
   "metadata": {},
   "outputs": [],
   "source": [
    "target_train = train_2nd['new_pl_won']\n",
    "target_test = test_2nd['new_pl_won']\n",
    "target_val = val_2nd['new_pl_won']\n",
    "\n",
    "target = {\n",
    "   'train':target_train,\n",
    "    'test':target_test,\n",
    "     'val':target_val\n",
    "}"
   ]
  },
  {
   "cell_type": "markdown",
   "id": "06c37580-e873-48d8-9708-82338306b713",
   "metadata": {},
   "source": [
    "## Null model"
   ]
  },
  {
   "cell_type": "code",
   "execution_count": 35,
   "id": "86c6a5bc-70c0-4984-b7e3-099316979507",
   "metadata": {},
   "outputs": [
    {
     "data": {
      "text/html": [
       "<div>\n",
       "<style scoped>\n",
       "    .dataframe tbody tr th:only-of-type {\n",
       "        vertical-align: middle;\n",
       "    }\n",
       "\n",
       "    .dataframe tbody tr th {\n",
       "        vertical-align: top;\n",
       "    }\n",
       "\n",
       "    .dataframe thead th {\n",
       "        text-align: right;\n",
       "    }\n",
       "</style>\n",
       "<table border=\"1\" class=\"dataframe\">\n",
       "  <thead>\n",
       "    <tr style=\"text-align: right;\">\n",
       "      <th></th>\n",
       "      <th>bce_train</th>\n",
       "      <th>bce_test</th>\n",
       "      <th>bce_val</th>\n",
       "      <th>mae_train</th>\n",
       "      <th>mae_test</th>\n",
       "      <th>mae_val</th>\n",
       "      <th>acc_train</th>\n",
       "      <th>acc_test</th>\n",
       "      <th>acc_val</th>\n",
       "    </tr>\n",
       "  </thead>\n",
       "  <tbody>\n",
       "    <tr>\n",
       "      <th>Null Model</th>\n",
       "      <td>Infinite</td>\n",
       "      <td>Infinite</td>\n",
       "      <td>Infinite</td>\n",
       "      <td>0.46403</td>\n",
       "      <td>0.464</td>\n",
       "      <td>0.456667</td>\n",
       "      <td>0.537332</td>\n",
       "      <td>0.537396</td>\n",
       "      <td>0.545014</td>\n",
       "    </tr>\n",
       "  </tbody>\n",
       "</table>\n",
       "</div>"
      ],
      "text/plain": [
       "           bce_train  bce_test   bce_val mae_train mae_test   mae_val  \\\n",
       "Null Model  Infinite  Infinite  Infinite   0.46403    0.464  0.456667   \n",
       "\n",
       "           acc_train  acc_test   acc_val  \n",
       "Null Model  0.537332  0.537396  0.545014  "
      ]
     },
     "execution_count": 35,
     "metadata": {},
     "output_type": "execute_result"
    }
   ],
   "source": [
    "results_dict = {}\n",
    "results_dict['Null Model'] = {}\n",
    "null_preds = {}\n",
    "\n",
    "for kind in ['train', 'test', 'val']:\n",
    "    #Get the null model's predictions\n",
    "    null_preds[kind] = np.array([ 0 for _ in range(len(dfs_dict[kind])) ])\n",
    "    \n",
    "    #Infinite BCE loss since null model predicts 0.0 and some observations are 1.0\n",
    "    results_dict['Null Model'][f\"bce_{kind}\"] = 'Infinite'\n",
    "    results_dict['Null Model'][f\"mae_{kind}\"] = metrics.mean_absolute_error(target[kind], null_preds[kind])\n",
    "    results_dict['Null Model'][f\"acc_{kind}\"] = null_acc[kind]\n",
    "    \n",
    "results_df = pd.DataFrame(results_dict).T\n",
    "results_df[['bce_train', 'bce_test', 'bce_val', 'mae_train', 'mae_test', 'mae_val', 'acc_train', 'acc_test', 'acc_val']]"
   ]
  },
  {
   "cell_type": "markdown",
   "id": "5a589cf5-a35c-4a34-a2ac-579b5f614da6",
   "metadata": {},
   "source": [
    "## \"Uninformed\" baseline model"
   ]
  },
  {
   "cell_type": "code",
   "execution_count": 36,
   "id": "4fbcdd77-2437-4261-975f-11e15b53bf2f",
   "metadata": {},
   "outputs": [],
   "source": [
    "#Get the BCE loss values for train, test and val\n",
    "uninformed_bce = {}\n",
    "\n",
    "for kind in ['train', 'test', 'val']:\n",
    "    uninformed_bce[kind] = bce_loss(\n",
    "        target[kind], [.5 for _ in range(len(dfs_dict[kind]))]\n",
    "    )"
   ]
  },
  {
   "cell_type": "code",
   "execution_count": 37,
   "id": "c3ffd08b-705b-4e23-a220-5b49cfe6e42f",
   "metadata": {},
   "outputs": [
    {
     "data": {
      "text/plain": [
       "(0.6931471805599453, 0.6931471805599454, 0.6931471805599454)"
      ]
     },
     "execution_count": 37,
     "metadata": {},
     "output_type": "execute_result"
    }
   ],
   "source": [
    "(uninformed_bce['train'], uninformed_bce['test'], uninformed_bce['val'])"
   ]
  },
  {
   "cell_type": "markdown",
   "id": "1a8763dd-f6e9-4348-8fc5-b7c283a7139e",
   "metadata": {},
   "source": [
    "As we can see, the BCE loss for the \"uninformed\" model (that always predicts .5) is the same in the train, test, and val data.  This fits with the earlier discussion of BCE above: each observation contributes a loss of $ln(.5) = .693147$, so the average is also $.693147$."
   ]
  },
  {
   "cell_type": "code",
   "execution_count": 38,
   "id": "445b08b8-ba08-4a93-acb0-365e8289c487",
   "metadata": {},
   "outputs": [
    {
     "data": {
      "text/html": [
       "<div>\n",
       "<style scoped>\n",
       "    .dataframe tbody tr th:only-of-type {\n",
       "        vertical-align: middle;\n",
       "    }\n",
       "\n",
       "    .dataframe tbody tr th {\n",
       "        vertical-align: top;\n",
       "    }\n",
       "\n",
       "    .dataframe thead th {\n",
       "        text-align: right;\n",
       "    }\n",
       "</style>\n",
       "<table border=\"1\" class=\"dataframe\">\n",
       "  <thead>\n",
       "    <tr style=\"text-align: right;\">\n",
       "      <th></th>\n",
       "      <th>bce_train</th>\n",
       "      <th>bce_test</th>\n",
       "      <th>bce_val</th>\n",
       "      <th>mae_train</th>\n",
       "      <th>mae_test</th>\n",
       "      <th>mae_val</th>\n",
       "      <th>acc_train</th>\n",
       "      <th>acc_test</th>\n",
       "      <th>acc_val</th>\n",
       "    </tr>\n",
       "  </thead>\n",
       "  <tbody>\n",
       "    <tr>\n",
       "      <th>Null Model</th>\n",
       "      <td>Infinite</td>\n",
       "      <td>Infinite</td>\n",
       "      <td>Infinite</td>\n",
       "      <td>0.46403</td>\n",
       "      <td>0.464</td>\n",
       "      <td>0.456667</td>\n",
       "      <td>0.537332</td>\n",
       "      <td>0.537396</td>\n",
       "      <td>0.545014</td>\n",
       "    </tr>\n",
       "    <tr>\n",
       "      <th>Uninformed Model</th>\n",
       "      <td>0.693147</td>\n",
       "      <td>0.693147</td>\n",
       "      <td>0.693147</td>\n",
       "      <td>0.481758</td>\n",
       "      <td>0.481333</td>\n",
       "      <td>0.481333</td>\n",
       "      <td>0.5</td>\n",
       "      <td>0.5</td>\n",
       "      <td>0.5</td>\n",
       "    </tr>\n",
       "  </tbody>\n",
       "</table>\n",
       "</div>"
      ],
      "text/plain": [
       "                 bce_train  bce_test   bce_val mae_train  mae_test   mae_val  \\\n",
       "Null Model        Infinite  Infinite  Infinite   0.46403     0.464  0.456667   \n",
       "Uninformed Model  0.693147  0.693147  0.693147  0.481758  0.481333  0.481333   \n",
       "\n",
       "                 acc_train  acc_test   acc_val  \n",
       "Null Model        0.537332  0.537396  0.545014  \n",
       "Uninformed Model       0.5       0.5       0.5  "
      ]
     },
     "execution_count": 38,
     "metadata": {},
     "output_type": "execute_result"
    }
   ],
   "source": [
    "results_dict['Uninformed Model'] = {}\n",
    "\n",
    "for kind in ['train', 'test', 'val']:\n",
    "    #Get the uninformed model's predictions\n",
    "    uninformed_preds = np.array([ .5 for _ in range(len(dfs_dict[kind])) ])\n",
    "    \n",
    "    #Accuracy is .5 since it predicts randomly\n",
    "    results_dict['Uninformed Model'][f\"acc_{kind}\"] = .5\n",
    "    results_dict['Uninformed Model'][f\"bce_{kind}\"] = uninformed_bce[kind]\n",
    "    results_dict['Uninformed Model'][f\"mae_{kind}\"] = metrics.mean_absolute_error(target[kind], uninformed_preds)\n",
    "    \n",
    "results_df = pd.DataFrame(results_dict).T\n",
    "results_df[['bce_train', 'bce_test', 'bce_val', 'mae_train', 'mae_test', 'mae_val', 'acc_train', 'acc_test', 'acc_val']]"
   ]
  },
  {
   "cell_type": "markdown",
   "id": "95c48d2b-3d1f-4a14-b492-5edeafc543fb",
   "metadata": {},
   "source": [
    "## Elo baseline model"
   ]
  },
  {
   "cell_type": "code",
   "execution_count": 39,
   "id": "3a6ebcf0-5e5a-4728-8208-e6a221737321",
   "metadata": {},
   "outputs": [
    {
     "data": {
      "text/html": [
       "<div>\n",
       "<style scoped>\n",
       "    .dataframe tbody tr th:only-of-type {\n",
       "        vertical-align: middle;\n",
       "    }\n",
       "\n",
       "    .dataframe tbody tr th {\n",
       "        vertical-align: top;\n",
       "    }\n",
       "\n",
       "    .dataframe thead th {\n",
       "        text-align: right;\n",
       "    }\n",
       "</style>\n",
       "<table border=\"1\" class=\"dataframe\">\n",
       "  <thead>\n",
       "    <tr style=\"text-align: right;\">\n",
       "      <th></th>\n",
       "      <th>bce_train</th>\n",
       "      <th>bce_test</th>\n",
       "      <th>bce_val</th>\n",
       "      <th>mae_train</th>\n",
       "      <th>mae_test</th>\n",
       "      <th>mae_val</th>\n",
       "      <th>acc_train</th>\n",
       "      <th>acc_test</th>\n",
       "      <th>acc_val</th>\n",
       "    </tr>\n",
       "  </thead>\n",
       "  <tbody>\n",
       "    <tr>\n",
       "      <th>Null Model</th>\n",
       "      <td>Infinite</td>\n",
       "      <td>Infinite</td>\n",
       "      <td>Infinite</td>\n",
       "      <td>0.46403</td>\n",
       "      <td>0.464</td>\n",
       "      <td>0.456667</td>\n",
       "      <td>0.537332</td>\n",
       "      <td>0.537396</td>\n",
       "      <td>0.545014</td>\n",
       "    </tr>\n",
       "    <tr>\n",
       "      <th>Uninformed Model</th>\n",
       "      <td>0.693147</td>\n",
       "      <td>0.693147</td>\n",
       "      <td>0.693147</td>\n",
       "      <td>0.481758</td>\n",
       "      <td>0.481333</td>\n",
       "      <td>0.481333</td>\n",
       "      <td>0.5</td>\n",
       "      <td>0.5</td>\n",
       "      <td>0.5</td>\n",
       "    </tr>\n",
       "    <tr>\n",
       "      <th>Elo Model</th>\n",
       "      <td>0.687638</td>\n",
       "      <td>0.673591</td>\n",
       "      <td>0.686807</td>\n",
       "      <td>0.419215</td>\n",
       "      <td>0.411154</td>\n",
       "      <td>0.421461</td>\n",
       "      <td>0.621499</td>\n",
       "      <td>0.635734</td>\n",
       "      <td>0.628116</td>\n",
       "    </tr>\n",
       "  </tbody>\n",
       "</table>\n",
       "</div>"
      ],
      "text/plain": [
       "                 bce_train  bce_test   bce_val mae_train  mae_test   mae_val  \\\n",
       "Null Model        Infinite  Infinite  Infinite   0.46403     0.464  0.456667   \n",
       "Uninformed Model  0.693147  0.693147  0.693147  0.481758  0.481333  0.481333   \n",
       "Elo Model         0.687638  0.673591  0.686807  0.419215  0.411154  0.421461   \n",
       "\n",
       "                 acc_train  acc_test   acc_val  \n",
       "Null Model        0.537332  0.537396  0.545014  \n",
       "Uninformed Model       0.5       0.5       0.5  \n",
       "Elo Model         0.621499  0.635734  0.628116  "
      ]
     },
     "execution_count": 39,
     "metadata": {},
     "output_type": "execute_result"
    }
   ],
   "source": [
    "preds = {}\n",
    "elo_bce = {}\n",
    "results_dict['Elo Model'] = {}\n",
    "\n",
    "for kind in ['train', 'test', 'val']:\n",
    "    #Get the predicted probabilities\n",
    "    preds[kind] = dfs_dict[kind].apply(\n",
    "        lambda row : elo_expectation(row['new_pl_elo'], row['opp_elo']), axis=1\n",
    "    )\n",
    "    \n",
    "    #Find the BCE loss\n",
    "    elo_bce[kind] = bce_loss(target[kind], preds[kind])\n",
    "    \n",
    "    results_dict['Elo Model'][f\"bce_{kind}\"] = elo_bce[kind]\n",
    "    results_dict['Elo Model'][f\"mae_{kind}\"] = metrics.mean_absolute_error(target[kind], preds[kind])\n",
    "    results_dict['Elo Model'][f\"acc_{kind}\"] = acc[kind]\n",
    "    \n",
    "results_df = pd.DataFrame(results_dict).T\n",
    "results_df[['bce_train', 'bce_test', 'bce_val', 'mae_train', 'mae_test', 'mae_val', 'acc_train', 'acc_test', 'acc_val']]"
   ]
  },
  {
   "cell_type": "markdown",
   "id": "5403c550-dd6e-4e94-9a07-bc79e8ba9006",
   "metadata": {},
   "source": [
    "## Optimal \"Glicko\" baseline model"
   ]
  },
  {
   "cell_type": "markdown",
   "id": "e005809a-d443-403a-9a3f-0ab062ce70eb",
   "metadata": {},
   "source": [
    "As mentioned above, we lack the data to compute *each player's* ratings deviation.  Hence, the best \"Glicko\" model we can make is one wherein we assume that all players will have *the same* ratings deviation $R$, then we perform a grid search for the best hyperparameter $R$."
   ]
  },
  {
   "cell_type": "code",
   "execution_count": 20,
   "id": "fee6a5c4-0189-4c1e-879c-e04abb1731b8",
   "metadata": {},
   "outputs": [],
   "source": [
    "def best_glicko_rd(rds):\n",
    "    '''\n",
    "    Input: A list of values R to try as the \"ratings deviation\" for all players\n",
    "    \n",
    "    For each given value of R, computes the BCE loss (on the training data) of the Glicko\n",
    "    predictions that would be made if all players had that R as their ratings deviation.\n",
    "    '''\n",
    "    best_loss = np.inf\n",
    "    best_R = 0\n",
    "    \n",
    "    for R in rds:\n",
    "        #Get the Glicko predicted probabilities for this value of R (on the training data)\n",
    "        glicko_preds = train_2nd.apply(\n",
    "            lambda row : glicko_expectation(row['new_pl_elo'], row['opp_elo'], R, R), axis=1\n",
    "        )\n",
    "    \n",
    "        #Compute the BCE loss (training data)\n",
    "        loss = bce_loss(target_train, glicko_preds)\n",
    "    \n",
    "        #If this is the best loss so far, record it and the value of R\n",
    "        if loss < best_loss:\n",
    "            best_loss = loss\n",
    "            best_R = R\n",
    "            \n",
    "    return best_loss, best_R"
   ]
  },
  {
   "cell_type": "code",
   "execution_count": 21,
   "id": "a5e098f1-a0f5-47c3-b2a7-0ce54e047e0d",
   "metadata": {},
   "outputs": [
    {
     "data": {
      "text/plain": [
       "(0.6509502984234534, 410.0)"
      ]
     },
     "execution_count": 21,
     "metadata": {},
     "output_type": "execute_result"
    }
   ],
   "source": [
    "#Search over values of R between 0 and 1000, in increments of 10\n",
    "rds = np.linspace(0, 1000, 101)\n",
    "\n",
    "#What are the best loss and the best R?\n",
    "best_glicko_rd(rds)"
   ]
  },
  {
   "cell_type": "markdown",
   "id": "0f3bf4e7-2df1-4f7e-bdb1-fe36a19f967d",
   "metadata": {},
   "source": [
    "Let's try anoter more refined gridsearch:"
   ]
  },
  {
   "cell_type": "code",
   "execution_count": 22,
   "id": "91c7213d-bd6a-415a-9a40-2cd13430e639",
   "metadata": {},
   "outputs": [
    {
     "data": {
      "text/plain": [
       "(0.6509496536218344, 408.0)"
      ]
     },
     "execution_count": 22,
     "metadata": {},
     "output_type": "execute_result"
    }
   ],
   "source": [
    "rds_fine = np.linspace(400, 420, 21)\n",
    "\n",
    "best_bce, best_R = best_glicko_rd(rds_fine)\n",
    "best_bce, best_R"
   ]
  },
  {
   "cell_type": "markdown",
   "id": "c0f8cd11-8b17-4dfd-ae17-a9fe2e2710f9",
   "metadata": {},
   "source": [
    "### Evaluate the predictions of this model"
   ]
  },
  {
   "cell_type": "code",
   "execution_count": 40,
   "id": "f2dfa454-62e3-462e-b076-bfa349c31d08",
   "metadata": {},
   "outputs": [
    {
     "data": {
      "text/html": [
       "<div>\n",
       "<style scoped>\n",
       "    .dataframe tbody tr th:only-of-type {\n",
       "        vertical-align: middle;\n",
       "    }\n",
       "\n",
       "    .dataframe tbody tr th {\n",
       "        vertical-align: top;\n",
       "    }\n",
       "\n",
       "    .dataframe thead th {\n",
       "        text-align: right;\n",
       "    }\n",
       "</style>\n",
       "<table border=\"1\" class=\"dataframe\">\n",
       "  <thead>\n",
       "    <tr style=\"text-align: right;\">\n",
       "      <th></th>\n",
       "      <th>bce_train</th>\n",
       "      <th>bce_test</th>\n",
       "      <th>bce_val</th>\n",
       "      <th>mae_train</th>\n",
       "      <th>mae_test</th>\n",
       "      <th>mae_val</th>\n",
       "      <th>acc_train</th>\n",
       "      <th>acc_test</th>\n",
       "      <th>acc_val</th>\n",
       "    </tr>\n",
       "  </thead>\n",
       "  <tbody>\n",
       "    <tr>\n",
       "      <th>Null Model</th>\n",
       "      <td>Infinite</td>\n",
       "      <td>Infinite</td>\n",
       "      <td>Infinite</td>\n",
       "      <td>0.46403</td>\n",
       "      <td>0.464</td>\n",
       "      <td>0.456667</td>\n",
       "      <td>0.537332</td>\n",
       "      <td>0.537396</td>\n",
       "      <td>0.545014</td>\n",
       "    </tr>\n",
       "    <tr>\n",
       "      <th>Uninformed Model</th>\n",
       "      <td>0.693147</td>\n",
       "      <td>0.693147</td>\n",
       "      <td>0.693147</td>\n",
       "      <td>0.481758</td>\n",
       "      <td>0.481333</td>\n",
       "      <td>0.481333</td>\n",
       "      <td>0.5</td>\n",
       "      <td>0.5</td>\n",
       "      <td>0.5</td>\n",
       "    </tr>\n",
       "    <tr>\n",
       "      <th>Elo Model</th>\n",
       "      <td>0.687638</td>\n",
       "      <td>0.673591</td>\n",
       "      <td>0.686807</td>\n",
       "      <td>0.419215</td>\n",
       "      <td>0.411154</td>\n",
       "      <td>0.421461</td>\n",
       "      <td>0.621499</td>\n",
       "      <td>0.635734</td>\n",
       "      <td>0.628116</td>\n",
       "    </tr>\n",
       "    <tr>\n",
       "      <th>\"Glicko\" Model</th>\n",
       "      <td>0.65095</td>\n",
       "      <td>0.643291</td>\n",
       "      <td>0.652622</td>\n",
       "      <td>0.445177</td>\n",
       "      <td>0.440259</td>\n",
       "      <td>0.446432</td>\n",
       "      <td>0.621499</td>\n",
       "      <td>0.635734</td>\n",
       "      <td>0.628116</td>\n",
       "    </tr>\n",
       "  </tbody>\n",
       "</table>\n",
       "</div>"
      ],
      "text/plain": [
       "                 bce_train  bce_test   bce_val mae_train  mae_test   mae_val  \\\n",
       "Null Model        Infinite  Infinite  Infinite   0.46403     0.464  0.456667   \n",
       "Uninformed Model  0.693147  0.693147  0.693147  0.481758  0.481333  0.481333   \n",
       "Elo Model         0.687638  0.673591  0.686807  0.419215  0.411154  0.421461   \n",
       "\"Glicko\" Model     0.65095  0.643291  0.652622  0.445177  0.440259  0.446432   \n",
       "\n",
       "                 acc_train  acc_test   acc_val  \n",
       "Null Model        0.537332  0.537396  0.545014  \n",
       "Uninformed Model       0.5       0.5       0.5  \n",
       "Elo Model         0.621499  0.635734  0.628116  \n",
       "\"Glicko\" Model    0.621499  0.635734  0.628116  "
      ]
     },
     "execution_count": 40,
     "metadata": {},
     "output_type": "execute_result"
    }
   ],
   "source": [
    "preds = {}\n",
    "glicko_bce = {}\n",
    "results_dict['\"Glicko\" Model'] = {}\n",
    "\n",
    "for kind in ['train', 'test', 'val']:\n",
    "    #Get the predicted probabilities\n",
    "    preds[kind] = dfs_dict[kind].apply(\n",
    "        lambda row : glicko_expectation(row['new_pl_elo'], row['opp_elo'], best_R, best_R), axis=1\n",
    "    )\n",
    "    \n",
    "    #Find the BCE loss\n",
    "    glicko_bce[kind] = bce_loss(target[kind], preds[kind])\n",
    "    \n",
    "    #Add the BCE loss & accuracy to our dictionary (accuracy is same as Elo model)\n",
    "    results_dict['\"Glicko\" Model'][f\"bce_{kind}\"] = glicko_bce[kind]\n",
    "    results_dict['\"Glicko\" Model'][f\"mae_{kind}\"] = metrics.mean_absolute_error(target[kind], preds[kind])\n",
    "    results_dict['\"Glicko\" Model'][f\"acc_{kind}\"] = acc[kind]\n",
    "    \n",
    "results_df = pd.DataFrame(results_dict).T\n",
    "results_df[['bce_train', 'bce_test', 'bce_val', 'mae_train', 'mae_test', 'mae_val', 'acc_train', 'acc_test', 'acc_val']]"
   ]
  },
  {
   "cell_type": "code",
   "execution_count": 48,
   "id": "0763f5b8-1a45-411d-a327-3c02d77258a2",
   "metadata": {},
   "outputs": [],
   "source": [
    "results_df = results_df[['bce_train', 'bce_test', 'bce_val', 'mae_train', 'mae_test', 'mae_val', 'acc_train', 'acc_test', 'acc_val']]\n",
    "results_df.index.name = 'model_name'\n",
    "\n",
    "results_df.to_csv('../data/baseline_results.csv', index_label='model_name')"
   ]
  },
  {
   "cell_type": "markdown",
   "id": "3d47c0f8-ca41-4e96-bd79-27dc5abadc7a",
   "metadata": {},
   "source": [
    "## Interpreting the BCE vs. MAE scores"
   ]
  },
  {
   "cell_type": "markdown",
   "id": "def94d0e-ebc5-44e9-863c-fa8702dfe90c",
   "metadata": {},
   "source": [
    "As we can see, the MAE loss function selects the Elo model over the \"Glicko\" model.  The Elo model is *more certain* of its discrete predictions, meaning its probabilistic predictions are closer to the truth *in terms of average distance* than those of the Glicko model.  However, because the Glicko model's probabilistic predictions are weighted more towards a \"neutral\" prediction of .5, it , there are fewer situations where the Glicko model is off by a *very large amount* than there are for the Elo model.\n",
    "\n",
    "As mentioned above, the most important situations to avoid when trying to make good matches are situations where the model's predictions are off by a *large amount*.  Perhaps this partially explains why Lichess.org uses Glicko ratings rather than Elo ratings!"
   ]
  },
  {
   "cell_type": "markdown",
   "id": "3942ed7d-1e5c-4ee2-bb1e-b766fb994353",
   "metadata": {},
   "source": [
    "# Looking at the predictions of the Elo and \"Glicko\" models"
   ]
  },
  {
   "cell_type": "code",
   "execution_count": 49,
   "id": "acea6da1-6fcd-4742-aa40-2a40da36d670",
   "metadata": {},
   "outputs": [],
   "source": [
    "# Add the Elo and Glicko probabilistic predictions to the training data set\n",
    "train_2nd['elo_pred'] = train_2nd.apply(\n",
    "    lambda row : elo_expectation(row['new_pl_elo'], row['opp_elo']), axis=1\n",
    ")\n",
    "\n",
    "train_2nd['glicko_pred'] = train_2nd.apply(\n",
    "    lambda row : glicko_expectation(row['new_pl_elo'], row['opp_elo'], best_R, best_R), axis=1\n",
    ")"
   ]
  },
  {
   "cell_type": "code",
   "execution_count": 52,
   "id": "7a45b24e-21ee-4092-b83b-54bb5060778c",
   "metadata": {},
   "outputs": [
    {
     "data": {
      "text/html": [
       "<div>\n",
       "<style scoped>\n",
       "    .dataframe tbody tr th:only-of-type {\n",
       "        vertical-align: middle;\n",
       "    }\n",
       "\n",
       "    .dataframe tbody tr th {\n",
       "        vertical-align: top;\n",
       "    }\n",
       "\n",
       "    .dataframe thead th {\n",
       "        text-align: right;\n",
       "    }\n",
       "</style>\n",
       "<table border=\"1\" class=\"dataframe\">\n",
       "  <thead>\n",
       "    <tr style=\"text-align: right;\">\n",
       "      <th></th>\n",
       "      <th>new_pl_won</th>\n",
       "      <th>new_pl_elo</th>\n",
       "      <th>opp_elo</th>\n",
       "      <th>elo_pred</th>\n",
       "      <th>glicko_pred</th>\n",
       "    </tr>\n",
       "    <tr>\n",
       "      <th>name_of_pl_playing_2nd_game</th>\n",
       "      <th></th>\n",
       "      <th></th>\n",
       "      <th></th>\n",
       "      <th></th>\n",
       "      <th></th>\n",
       "    </tr>\n",
       "  </thead>\n",
       "  <tbody>\n",
       "    <tr>\n",
       "      <th>SAKATBIRAKAN</th>\n",
       "      <td>1.0</td>\n",
       "      <td>1500.0</td>\n",
       "      <td>1608.0</td>\n",
       "      <td>0.349395</td>\n",
       "      <td>0.426055</td>\n",
       "    </tr>\n",
       "    <tr>\n",
       "      <th>bv44</th>\n",
       "      <td>0.0</td>\n",
       "      <td>1650.0</td>\n",
       "      <td>1580.0</td>\n",
       "      <td>0.599397</td>\n",
       "      <td>0.548132</td>\n",
       "    </tr>\n",
       "    <tr>\n",
       "      <th>mister_fix_it</th>\n",
       "      <td>1.0</td>\n",
       "      <td>1686.0</td>\n",
       "      <td>1608.0</td>\n",
       "      <td>0.610402</td>\n",
       "      <td>0.553593</td>\n",
       "    </tr>\n",
       "    <tr>\n",
       "      <th>samperallen</th>\n",
       "      <td>0.0</td>\n",
       "      <td>1186.0</td>\n",
       "      <td>1571.0</td>\n",
       "      <td>0.098302</td>\n",
       "      <td>0.256891</td>\n",
       "    </tr>\n",
       "    <tr>\n",
       "      <th>danielits</th>\n",
       "      <td>1.0</td>\n",
       "      <td>1235.0</td>\n",
       "      <td>1279.0</td>\n",
       "      <td>0.437015</td>\n",
       "      <td>0.469689</td>\n",
       "    </tr>\n",
       "  </tbody>\n",
       "</table>\n",
       "</div>"
      ],
      "text/plain": [
       "                             new_pl_won  new_pl_elo  opp_elo  elo_pred  \\\n",
       "name_of_pl_playing_2nd_game                                              \n",
       "SAKATBIRAKAN                        1.0      1500.0   1608.0  0.349395   \n",
       "bv44                                0.0      1650.0   1580.0  0.599397   \n",
       "mister_fix_it                       1.0      1686.0   1608.0  0.610402   \n",
       "samperallen                         0.0      1186.0   1571.0  0.098302   \n",
       "danielits                           1.0      1235.0   1279.0  0.437015   \n",
       "\n",
       "                             glicko_pred  \n",
       "name_of_pl_playing_2nd_game               \n",
       "SAKATBIRAKAN                    0.426055  \n",
       "bv44                            0.548132  \n",
       "mister_fix_it                   0.553593  \n",
       "samperallen                     0.256891  \n",
       "danielits                       0.469689  "
      ]
     },
     "execution_count": 52,
     "metadata": {},
     "output_type": "execute_result"
    }
   ],
   "source": [
    "train_2nd[['new_pl_won', 'new_pl_elo', 'opp_elo', 'elo_pred', 'glicko_pred']].head()"
   ]
  },
  {
   "cell_type": "markdown",
   "id": "7e67ed4a-049d-4452-a271-e0b37807f407",
   "metadata": {},
   "source": [
    "As we can see, both the Elo and Glicko models always predict that the higher-rater player will win.  However, the Glicko model's predictions are \"downweighted\" towards .5 as compared to the Elo model's predictions."
   ]
  },
  {
   "cell_type": "markdown",
   "id": "d97cbc5c-5a60-4a7c-9b77-bf5ec9fc9495",
   "metadata": {},
   "source": [
    "## Distributions of Predicted Probabilities, by game outcome"
   ]
  },
  {
   "cell_type": "code",
   "execution_count": 57,
   "id": "33891453-ea00-40ed-bf30-da38058a2b70",
   "metadata": {},
   "outputs": [],
   "source": [
    "#Break the dataframe up by whether the new player won, lost, or had a draw\n",
    "wins = train_2nd[train_2nd['new_pl_won']==1]\n",
    "losses = train_2nd[train_2nd['new_pl_won']==0]\n",
    "draws = train_2nd[train_2nd['new_pl_won']==.5]"
   ]
  },
  {
   "cell_type": "code",
   "execution_count": 59,
   "id": "9ada950f-ecac-443b-b6b4-c520aeaa9559",
   "metadata": {},
   "outputs": [
    {
     "data": {
      "text/plain": [
       "True"
      ]
     },
     "execution_count": 59,
     "metadata": {},
     "output_type": "execute_result"
    }
   ],
   "source": [
    "#Check that we got all of the observations\n",
    "len(wins) + len(losses) + len(draws) == len(train_2nd)"
   ]
  },
  {
   "cell_type": "code",
   "execution_count": 111,
   "id": "f89544da-7116-4417-b26e-e15c69e8a6ec",
   "metadata": {},
   "outputs": [],
   "source": [
    "def glicko_vs_elo(df, description, bins=100):\n",
    "    #Plot the histogram we want\n",
    "    elo_preds = df['elo_pred']\n",
    "    glicko_preds = df['glicko_pred']\n",
    "\n",
    "    plt.hist(elo_preds, bins=bins, alpha=.5, label='Elo P[new pl wins]');\n",
    "    plt.axvline(elo_preds.mean(), label = f\"Elo mean: {round(elo_preds.mean(), 3)}\");\n",
    "    plt.hist(glicko_preds, bins=bins, alpha=.5, label='Glicko P[new pl wins]');\n",
    "    plt.axvline(glicko_preds.mean(), color='red', label = f\"Glikco mean: {round(glicko_preds.mean(), 3)}\");\n",
    "    \n",
    "    plt.xticks(np.linspace(0,1,11));\n",
    "    plt.xlim(0, 1);\n",
    "    plt.ylabel(\"Frequency\");\n",
    "    plt.legend();\n",
    "    plt.title(f\"Elo vs. Glicko 2nd-game predictions (training data),\\namong cases where the new player {description}\");\n",
    "    plt.tight_layout();\n",
    "    plt.savefig(f'../images/elo_glicko_hist_{description}.jpg');"
   ]
  },
  {
   "cell_type": "code",
   "execution_count": 112,
   "id": "98338885-9911-472b-8a8f-15aae635bb3f",
   "metadata": {},
   "outputs": [
    {
     "data": {
      "image/png": "[encoded data removed]",
      "text/plain": [
       "<Figure size 640x480 with 1 Axes>"
      ]
     },
     "metadata": {},
     "output_type": "display_data"
    }
   ],
   "source": [
    "glicko_vs_elo(wins, 'wins')"
   ]
  },
  {
   "cell_type": "code",
   "execution_count": 113,
   "id": "2c7a36e1-c8ed-4987-9c51-1b8accbba182",
   "metadata": {},
   "outputs": [
    {
     "data": {
      "image/png": "[encoded data removed]",
      "text/plain": [
       "<Figure size 640x480 with 1 Axes>"
      ]
     },
     "metadata": {},
     "output_type": "display_data"
    }
   ],
   "source": [
    "glicko_vs_elo(losses, 'loses')"
   ]
  },
  {
   "cell_type": "code",
   "execution_count": 114,
   "id": "8ccf605d-ebe4-482c-be02-2d9227041ad2",
   "metadata": {},
   "outputs": [
    {
     "data": {
      "image/png": "[encoded data removed]",
      "text/plain": [
       "<Figure size 640x480 with 1 Axes>"
      ]
     },
     "metadata": {},
     "output_type": "display_data"
    }
   ],
   "source": [
    "glicko_vs_elo(draws, 'draws', bins=40)"
   ]
  },
  {
   "cell_type": "code",
   "execution_count": null,
   "id": "8d230f59-5019-4477-b608-b504f3011a26",
   "metadata": {},
   "outputs": [],
   "source": []
  },
  {
   "cell_type": "code",
   "execution_count": null,
   "id": "71a08908-a659-42fc-b808-b6d74b9886ab",
   "metadata": {},
   "outputs": [],
   "source": []
  },
  {
   "cell_type": "code",
   "execution_count": null,
   "id": "69bcc034-d17e-4151-bd10-c5f61b4d29a3",
   "metadata": {},
   "outputs": [],
   "source": []
  },
  {
   "cell_type": "code",
   "execution_count": null,
   "id": "ff53932c-3af2-48da-9580-aeeda2893d13",
   "metadata": {},
   "outputs": [],
   "source": []
  },
  {
   "cell_type": "code",
   "execution_count": null,
   "id": "8181b29c-e592-4659-8854-138aae0916eb",
   "metadata": {},
   "outputs": [],
   "source": []
  },
  {
   "cell_type": "code",
   "execution_count": null,
   "id": "8d27349e-2a68-42a2-a2ff-177217dcb469",
   "metadata": {},
   "outputs": [],
   "source": []
  },
  {
   "cell_type": "code",
   "execution_count": null,
   "id": "ee24d457-7ec6-429e-80d6-9bd606c69095",
   "metadata": {},
   "outputs": [],
   "source": []
  },
  {
   "cell_type": "code",
   "execution_count": null,
   "id": "a0d3b064-5714-43b3-a677-e31c385f175b",
   "metadata": {},
   "outputs": [],
   "source": []
  },
  {
   "cell_type": "code",
   "execution_count": null,
   "id": "7fd0cd7a-8434-4297-ae65-8f958b4817ce",
   "metadata": {},
   "outputs": [],
   "source": []
  },
  {
   "cell_type": "code",
   "execution_count": null,
   "id": "77fa23e3-6dc4-4d78-898e-4eb27bb5235f",
   "metadata": {},
   "outputs": [],
   "source": []
  },
  {
   "cell_type": "code",
   "execution_count": null,
   "id": "492e7069-fc09-4a50-9ffe-2a546aa38c21",
   "metadata": {},
   "outputs": [],
   "source": []
  }
 ],
 "metadata": {
  "kernelspec": {
   "display_name": "Python 3 (ipykernel)",
   "language": "python",
   "name": "python3"
  },
  "language_info": {
   "codemirror_mode": {
    "name": "ipython",
    "version": 3
   },
   "file_extension": ".py",
   "mimetype": "text/x-python",
   "name": "python",
   "nbconvert_exporter": "python",
   "pygments_lexer": "ipython3",
   "version": "3.9.16"
  }
 },
 "nbformat": 4,
 "nbformat_minor": 5
}
