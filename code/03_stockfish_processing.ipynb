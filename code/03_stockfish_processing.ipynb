{
 "cells": [
  {
   "cell_type": "code",
   "execution_count": 1,
   "id": "99fa7538-135f-49cc-bb94-c09af71ed7ed",
   "metadata": {},
   "outputs": [],
   "source": [
    "import pandas as pd\n",
    "import numpy as np\n",
    "\n",
    "import chess\n",
    "from stockfish import Stockfish\n",
    "\n",
    "from collections import defaultdict"
   ]
  },
  {
   "cell_type": "code",
   "execution_count": 2,
   "id": "2569f3b5-8eb1-496b-ba3d-50e0aa3a54fe",
   "metadata": {},
   "outputs": [],
   "source": [
    "# CHANGE THIS CELL TO POINT TO THE STOCKFISH APP INSTALLED ON YOUR MACHINE\n",
    "stockfish_path = '/opt/homebrew/bin/stockfish'"
   ]
  },
  {
   "cell_type": "markdown",
   "id": "0d96c8a4-742d-4dc1-9aab-84bf3c1571e8",
   "metadata": {},
   "source": [
    "# Read in the games"
   ]
  },
  {
   "cell_type": "markdown",
   "id": "189f3128-bacf-4e44-9eb1-99a52d51c155",
   "metadata": {},
   "source": [
    "## Read in the CSVs without the Stockfish evaluations"
   ]
  },
  {
   "cell_type": "code",
   "execution_count": 3,
   "id": "413f6e37-5beb-4bdb-a718-d47f07f1220b",
   "metadata": {},
   "outputs": [],
   "source": [
    "train_1st = pd.read_csv('../data/processed/train/train_1st.csv', index_col='name_of_pl_playing_1st_game')\n",
    "test_1st = pd.read_csv('../data/processed/test/test_1st.csv', index_col='name_of_pl_playing_1st_game')\n",
    "val_1st = pd.read_csv('../data/processed/val/val_1st.csv', index_col='name_of_pl_playing_1st_game')"
   ]
  },
  {
   "cell_type": "code",
   "execution_count": 4,
   "id": "f0513491-268d-477a-afae-b5f6dfdeca50",
   "metadata": {},
   "outputs": [],
   "source": [
    "#Dictionary of dataframes without Stockfish evaluations\n",
    "dfs_dict = {\n",
    "   'train':train_1st,\n",
    "    'test':test_1st,\n",
    "     'val':val_1st\n",
    "}\n",
    "\n",
    "#Dictionary of paths to text files with stockfish evaluations\n",
    "stockfish_paths_dict = {\n",
    "   'train':'../data/sf_evals/train',\n",
    "    'test':'../data/sf_evals/test',\n",
    "     'val':'../data/sf_evals/val'\n",
    "}"
   ]
  },
  {
   "cell_type": "markdown",
   "id": "eeb7784d-f768-4379-afc1-68cd0be973bc",
   "metadata": {},
   "source": [
    "## Read a single game's Stockfish evaluations from a text file"
   ]
  },
  {
   "cell_type": "code",
   "execution_count": 5,
   "id": "8352e3bc-5a8a-4da5-876f-edf34c7da7a6",
   "metadata": {},
   "outputs": [],
   "source": [
    "#Read a single game's Stockfish evaluations as a dictionary\n",
    "example_game_number = 1234\n",
    "example_kind = 'train'\n",
    "example_game = eval(open(f\"{stockfish_paths_dict[example_kind]}/game{example_game_number}.txt\").read())"
   ]
  },
  {
   "cell_type": "code",
   "execution_count": 6,
   "id": "5b75af2e-ba9b-4c1b-b82a-617124e44f63",
   "metadata": {},
   "outputs": [
    {
     "data": {
      "text/plain": [
       "{'eval': {'type': 'cp', 'value': 64},\n",
       " 'fen': 'rnbqkbnr/pppppppp/8/8/8/8/PPPPPPPP/RNBQKBNR w KQkq - 0 1'}"
      ]
     },
     "execution_count": 6,
     "metadata": {},
     "output_type": "execute_result"
    }
   ],
   "source": [
    "#Look at the first move\n",
    "example_game[0]"
   ]
  },
  {
   "cell_type": "code",
   "execution_count": 7,
   "id": "9746b77a-f898-4fdd-8ec1-2700019a5976",
   "metadata": {},
   "outputs": [
    {
     "data": {
      "text/plain": [
       "{'eval': {'type': 'cp', 'value': 45},\n",
       " 'fen': 'rnbqkbnr/pppppppp/8/8/4P3/8/PPPP1PPP/RNBQKBNR b KQkq - 0 1',\n",
       " 'top_10': [{'Move': 'c7c5', 'Centipawn': 40, 'Mate': None},\n",
       "  {'Move': 'e7e5', 'Centipawn': 56, 'Mate': None},\n",
       "  {'Move': 'e7e6', 'Centipawn': 59, 'Mate': None},\n",
       "  {'Move': 'b8c6', 'Centipawn': 70, 'Mate': None},\n",
       "  {'Move': 'd7d6', 'Centipawn': 83, 'Mate': None},\n",
       "  {'Move': 'd7d5', 'Centipawn': 85, 'Mate': None},\n",
       "  {'Move': 'c7c6', 'Centipawn': 89, 'Mate': None},\n",
       "  {'Move': 'h7h6', 'Centipawn': 91, 'Mate': None},\n",
       "  {'Move': 'a7a6', 'Centipawn': 94, 'Mate': None},\n",
       "  {'Move': 'h7h5', 'Centipawn': 132, 'Mate': None}]}"
      ]
     },
     "execution_count": 7,
     "metadata": {},
     "output_type": "execute_result"
    }
   ],
   "source": [
    "#Look at the second move\n",
    "example_game[1]"
   ]
  },
  {
   "cell_type": "markdown",
   "id": "14ca5f73-8f87-4901-b37d-8ce2839b5896",
   "metadata": {},
   "source": [
    "As we can see, this example game is one where the new player is playing Black: our script only recorded the \"top 10 moves\" for each of the *new player's* turns.  Let's verify that this is correct, though:"
   ]
  },
  {
   "cell_type": "markdown",
   "id": "3795d07c-9b2f-4c47-a56e-2b961cf02208",
   "metadata": {},
   "source": [
    "### Match the Stockfish evaluations to the new player whose game they came from"
   ]
  },
  {
   "cell_type": "code",
   "execution_count": 8,
   "id": "7ae2b8ce-6d46-45ad-b42b-1f060e91a038",
   "metadata": {},
   "outputs": [
    {
     "data": {
      "text/html": [
       "<div>\n",
       "<style scoped>\n",
       "    .dataframe tbody tr th:only-of-type {\n",
       "        vertical-align: middle;\n",
       "    }\n",
       "\n",
       "    .dataframe tbody tr th {\n",
       "        vertical-align: top;\n",
       "    }\n",
       "\n",
       "    .dataframe thead th {\n",
       "        text-align: right;\n",
       "    }\n",
       "</style>\n",
       "<table border=\"1\" class=\"dataframe\">\n",
       "  <thead>\n",
       "    <tr style=\"text-align: right;\">\n",
       "      <th></th>\n",
       "      <th>opponent</th>\n",
       "      <th>new_pl_color</th>\n",
       "      <th>new_pl_won</th>\n",
       "      <th>new_pl_elo</th>\n",
       "      <th>opp_elo</th>\n",
       "      <th>new_pl_rating_diff</th>\n",
       "      <th>opp_rating_diff</th>\n",
       "      <th>game_length</th>\n",
       "      <th>time_limit</th>\n",
       "      <th>time_gain_per_move</th>\n",
       "      <th>event</th>\n",
       "      <th>termination</th>\n",
       "      <th>conceded</th>\n",
       "      <th>datetime</th>\n",
       "      <th>timestamp</th>\n",
       "      <th>moves</th>\n",
       "      <th>both_players_1st_game</th>\n",
       "    </tr>\n",
       "    <tr>\n",
       "      <th>name_of_pl_playing_1st_game</th>\n",
       "      <th></th>\n",
       "      <th></th>\n",
       "      <th></th>\n",
       "      <th></th>\n",
       "      <th></th>\n",
       "      <th></th>\n",
       "      <th></th>\n",
       "      <th></th>\n",
       "      <th></th>\n",
       "      <th></th>\n",
       "      <th></th>\n",
       "      <th></th>\n",
       "      <th></th>\n",
       "      <th></th>\n",
       "      <th></th>\n",
       "      <th></th>\n",
       "      <th></th>\n",
       "    </tr>\n",
       "  </thead>\n",
       "  <tbody>\n",
       "    <tr>\n",
       "      <th>boedoet10</th>\n",
       "      <td>Nanas</td>\n",
       "      <td>Black</td>\n",
       "      <td>0.0</td>\n",
       "      <td>1500.0</td>\n",
       "      <td>1908.0</td>\n",
       "      <td>-48.0</td>\n",
       "      <td>4.0</td>\n",
       "      <td>105</td>\n",
       "      <td>300.0</td>\n",
       "      <td>0.0</td>\n",
       "      <td>Blitz</td>\n",
       "      <td>Time forfeit</td>\n",
       "      <td>1</td>\n",
       "      <td>2016-07-16 05:32:47</td>\n",
       "      <td>1.468647e+09</td>\n",
       "      <td>e4 e5 Bc4 c6 Qe2 d5 exd5 cxd5 Qxe5+ Be6 Bb5+ N...</td>\n",
       "      <td>0</td>\n",
       "    </tr>\n",
       "  </tbody>\n",
       "</table>\n",
       "</div>"
      ],
      "text/plain": [
       "                            opponent new_pl_color  new_pl_won  new_pl_elo  \\\n",
       "name_of_pl_playing_1st_game                                                 \n",
       "boedoet10                      Nanas        Black         0.0      1500.0   \n",
       "\n",
       "                             opp_elo  new_pl_rating_diff  opp_rating_diff  \\\n",
       "name_of_pl_playing_1st_game                                                 \n",
       "boedoet10                     1908.0               -48.0              4.0   \n",
       "\n",
       "                             game_length  time_limit  time_gain_per_move  \\\n",
       "name_of_pl_playing_1st_game                                                \n",
       "boedoet10                            105       300.0                 0.0   \n",
       "\n",
       "                             event   termination  conceded  \\\n",
       "name_of_pl_playing_1st_game                                  \n",
       "boedoet10                    Blitz  Time forfeit         1   \n",
       "\n",
       "                                        datetime     timestamp  \\\n",
       "name_of_pl_playing_1st_game                                      \n",
       "boedoet10                    2016-07-16 05:32:47  1.468647e+09   \n",
       "\n",
       "                                                                         moves  \\\n",
       "name_of_pl_playing_1st_game                                                      \n",
       "boedoet10                    e4 e5 Bc4 c6 Qe2 d5 exd5 cxd5 Qxe5+ Be6 Bb5+ N...   \n",
       "\n",
       "                             both_players_1st_game  \n",
       "name_of_pl_playing_1st_game                         \n",
       "boedoet10                                        0  "
      ]
     },
     "execution_count": 8,
     "metadata": {},
     "output_type": "execute_result"
    }
   ],
   "source": [
    "#Find the row whose number is the same as the number in the imported text file's name\n",
    "dfs_dict[example_kind].iloc[[example_game_number]]"
   ]
  },
  {
   "cell_type": "markdown",
   "id": "90c0272c-d5cc-4cb0-9d85-433b936cb587",
   "metadata": {},
   "source": [
    "As we can see, this new player was indeed playing Black.  Furthermore, let's verify that all the moves made in this game result in the same positions as recorded in the imported dictionary (in the form of FEN strings):"
   ]
  },
  {
   "cell_type": "code",
   "execution_count": 9,
   "id": "9418bff3-ea30-4cc9-9b2f-de3a372791f1",
   "metadata": {},
   "outputs": [],
   "source": [
    "def check_same_moves(game_number, kind):\n",
    "    '''\n",
    "    Input:\n",
    "    -game_number: The number of a text file containing a dictionary of Stockfish evaluations\n",
    "    for a single game\n",
    "    -kind: A string 'train', 'test' or 'val'\n",
    "    \n",
    "    Checks if this text file does indeed correspond to the game in row game_number of the\n",
    "    dataframe of the specified kind.\n",
    "    The check is made by going through all the moves and checking that the resulting\n",
    "    positions' FEN strings are the same as those in the dictionary.\n",
    "    Returns True if everything matches up; returns False otherwise.\n",
    "    '''\n",
    "    #Read in the text file as a dictionary\n",
    "    game = eval(open(f\"{stockfish_paths_dict[kind]}/game{game_number}.txt\").read())\n",
    "    \n",
    "    #Select the correct dataframe\n",
    "    df = dfs_dict[kind]\n",
    "    \n",
    "    #Make a list of the moves in the game\n",
    "    moves = df.iloc[game_number]['moves'].split(' ')\n",
    "    \n",
    "    #Initialize a chess Board\n",
    "    board = chess.Board()\n",
    "    \n",
    "    #Check if the initial board position is the same as the one recorded in the dictionary\n",
    "    same = (board.fen() == game[0]['fen'])\n",
    "    \n",
    "    for i, move in enumerate(moves):\n",
    "        #If you've just encountered a position that is not the same as the one\n",
    "        #recorded in the dictionary, then stop checking\n",
    "        if not same:\n",
    "            break\n",
    "        \n",
    "        #Otherwise, make the next move...\n",
    "        board.push_san(move)\n",
    "        position = board.fen()\n",
    "        #... and check if the position matches the one in the dictionary after this move\n",
    "        same = (position == game[i+1]['fen'])\n",
    "    \n",
    "    #This should be True if all positions achieved in the game are the same as those\n",
    "    #that appear in the dictionary\n",
    "    return same"
   ]
  },
  {
   "cell_type": "code",
   "execution_count": 10,
   "id": "766805e4-3a35-4a66-9017-62f5579f15ee",
   "metadata": {},
   "outputs": [
    {
     "data": {
      "text/plain": [
       "True"
      ]
     },
     "execution_count": 10,
     "metadata": {},
     "output_type": "execute_result"
    }
   ],
   "source": [
    "#Check that our example game matches the corresponding row of our train_1st dataframe\n",
    "check_same_moves(game_number = example_game_number, kind = example_kind)"
   ]
  },
  {
   "cell_type": "markdown",
   "id": "159d6266-9edb-4504-8dd3-23ae7e91bd64",
   "metadata": {},
   "source": [
    "# Check that all games' text files match the rows of our dataframe"
   ]
  },
  {
   "cell_type": "code",
   "execution_count": 11,
   "id": "2fe4b4cf-26a2-4f5b-8313-8cd986d9d79f",
   "metadata": {},
   "outputs": [],
   "source": [
    "def all_games_match(kind):\n",
    "    '''\n",
    "    Input: A string 'train', 'test' or 'val'\n",
    "    \n",
    "    Checks if all positions match up between the text files of Stockfish evaluations\n",
    "    and the corresponding dataframe.\n",
    "    '''\n",
    "    \n",
    "    #Get the correct dataframe\n",
    "    df = dfs_dict[kind]\n",
    "    \n",
    "    #Loop over the games in the dataframe and check that they match the text files\n",
    "    for i in range(len(df)):\n",
    "        is_same = check_same_moves(game_number = i, kind = kind)\n",
    "        \n",
    "        #If you ever encounter a non-matching game, break out of the loop\n",
    "        if not is_same:\n",
    "            break\n",
    "    \n",
    "    #Return the result\n",
    "    return is_same\n",
    "    "
   ]
  },
  {
   "cell_type": "code",
   "execution_count": 12,
   "id": "c4bcf35f-13d8-47c4-88d2-ca845babb9a5",
   "metadata": {},
   "outputs": [],
   "source": [
    "matches = []\n",
    "for kind in ['train', 'test', 'val']:\n",
    "    matches.append(all_games_match(kind))"
   ]
  },
  {
   "cell_type": "code",
   "execution_count": 13,
   "id": "262d8798-7d6c-4377-bb87-e8c77a622f4a",
   "metadata": {},
   "outputs": [
    {
     "data": {
      "text/plain": [
       "[True, True, True]"
      ]
     },
     "execution_count": 13,
     "metadata": {},
     "output_type": "execute_result"
    }
   ],
   "source": [
    "#Did all the train, test, and val games match?\n",
    "matches"
   ]
  },
  {
   "cell_type": "markdown",
   "id": "17e65911-090a-478e-95d0-20c7846148ba",
   "metadata": {},
   "source": [
    "Since all three are `True`, we know that all of the rows of our dataframes properly correspond to the text files we have."
   ]
  },
  {
   "cell_type": "code",
   "execution_count": null,
   "id": "34d93858-aff2-4dbf-92f2-a449768c790c",
   "metadata": {},
   "outputs": [],
   "source": []
  },
  {
   "cell_type": "code",
   "execution_count": null,
   "id": "4c2836c0-7aa0-4600-88ca-dbbf8bf3d8d3",
   "metadata": {},
   "outputs": [],
   "source": []
  },
  {
   "cell_type": "code",
   "execution_count": null,
   "id": "5c51bea2-578b-4570-9c88-3114e2352f9b",
   "metadata": {},
   "outputs": [],
   "source": []
  },
  {
   "cell_type": "code",
   "execution_count": null,
   "id": "892f36c3-86d2-44fc-8569-25bac6e84c86",
   "metadata": {},
   "outputs": [],
   "source": []
  },
  {
   "cell_type": "code",
   "execution_count": null,
   "id": "f1df88cc-872e-4246-a48c-dfdb6a304ca5",
   "metadata": {},
   "outputs": [],
   "source": []
  },
  {
   "cell_type": "code",
   "execution_count": null,
   "id": "55fac043-2211-498f-9891-558ea72704fc",
   "metadata": {},
   "outputs": [],
   "source": []
  },
  {
   "cell_type": "code",
   "execution_count": null,
   "id": "914efaeb-b372-4ab3-8cbb-18518d3be37e",
   "metadata": {},
   "outputs": [],
   "source": []
  },
  {
   "cell_type": "code",
   "execution_count": null,
   "id": "d2ff2e5d-d9c6-490e-8abd-3b32ad39507a",
   "metadata": {},
   "outputs": [],
   "source": []
  },
  {
   "cell_type": "code",
   "execution_count": null,
   "id": "a852354f-2fa8-44b5-b896-aa17a8b39cdd",
   "metadata": {},
   "outputs": [],
   "source": []
  },
  {
   "cell_type": "code",
   "execution_count": null,
   "id": "1c2bdcde-06fa-4afd-a762-cf2ee5464bf7",
   "metadata": {},
   "outputs": [],
   "source": []
  },
  {
   "cell_type": "code",
   "execution_count": null,
   "id": "c0b0854e-11e5-47de-9f52-e4eb368792b5",
   "metadata": {},
   "outputs": [],
   "source": []
  },
  {
   "cell_type": "code",
   "execution_count": null,
   "id": "050e2f6e-2d2f-48bb-9c29-3d7ec6f4c785",
   "metadata": {},
   "outputs": [],
   "source": []
  },
  {
   "cell_type": "code",
   "execution_count": null,
   "id": "166699d5-d802-4d1e-993a-cd8a35f3ab7a",
   "metadata": {},
   "outputs": [],
   "source": []
  },
  {
   "cell_type": "code",
   "execution_count": null,
   "id": "f46386b7-9276-47f4-9fc7-61962bf55c05",
   "metadata": {},
   "outputs": [],
   "source": []
  },
  {
   "cell_type": "code",
   "execution_count": null,
   "id": "930ed965-1dfc-462d-906c-019ab41e6597",
   "metadata": {},
   "outputs": [],
   "source": []
  },
  {
   "cell_type": "code",
   "execution_count": null,
   "id": "0003e706-dfd2-4b32-8788-79cafcdb7594",
   "metadata": {},
   "outputs": [],
   "source": []
  },
  {
   "cell_type": "code",
   "execution_count": null,
   "id": "954aa845-5e27-4baa-9ce3-b43cd61dd586",
   "metadata": {},
   "outputs": [],
   "source": []
  },
  {
   "cell_type": "code",
   "execution_count": null,
   "id": "5f20766b-e792-4266-82c8-bd1a42e7c32b",
   "metadata": {},
   "outputs": [],
   "source": []
  },
  {
   "cell_type": "code",
   "execution_count": null,
   "id": "57107f60-54b6-4e0c-8243-001168af90ea",
   "metadata": {},
   "outputs": [],
   "source": []
  },
  {
   "cell_type": "code",
   "execution_count": null,
   "id": "1476b6f6-7a93-4690-9035-6661ef6a923c",
   "metadata": {},
   "outputs": [],
   "source": []
  },
  {
   "cell_type": "code",
   "execution_count": null,
   "id": "b5f0d498-feff-4cba-aafb-41b8e778f2fc",
   "metadata": {},
   "outputs": [],
   "source": []
  },
  {
   "cell_type": "code",
   "execution_count": null,
   "id": "0345723a-c437-4d23-b163-c9324fe6de32",
   "metadata": {},
   "outputs": [],
   "source": []
  },
  {
   "cell_type": "code",
   "execution_count": null,
   "id": "603a683c-2f7e-47e9-9968-d5dc11183d93",
   "metadata": {},
   "outputs": [],
   "source": []
  },
  {
   "cell_type": "code",
   "execution_count": null,
   "id": "206dfa83-7719-4b1f-b860-3f8f39072c02",
   "metadata": {},
   "outputs": [],
   "source": []
  },
  {
   "cell_type": "code",
   "execution_count": null,
   "id": "6429dd67-a3c7-4cb5-a4ad-352319e1a373",
   "metadata": {},
   "outputs": [],
   "source": []
  },
  {
   "cell_type": "code",
   "execution_count": null,
   "id": "ae7456a9-d7b4-434f-a26d-402b4a0ac0fa",
   "metadata": {},
   "outputs": [],
   "source": []
  },
  {
   "cell_type": "code",
   "execution_count": null,
   "id": "f1aa56f2-1b67-4209-8804-3e6d05f13aed",
   "metadata": {},
   "outputs": [],
   "source": []
  },
  {
   "cell_type": "code",
   "execution_count": null,
   "id": "b0f3e1ab-06af-4c89-a194-bad079cc1f20",
   "metadata": {},
   "outputs": [],
   "source": []
  },
  {
   "cell_type": "markdown",
   "id": "e0bcb6b6-f619-4c4e-a393-462018591ce6",
   "metadata": {},
   "source": [
    "# Average Stockfish evaluations for identical board positions"
   ]
  },
  {
   "cell_type": "markdown",
   "id": "261ce989-7693-4ee8-a791-e37b772ba05f",
   "metadata": {},
   "source": [
    "When Stockfish is asked to evaluate a board position, it doesn't always come to the exact same numerical evaluation.  This is because it uses semi-randomized search and aggresively prunes the trees over which it will search.\n",
    "\n",
    "Thus, if a board position appears *multiple times* across the many games in our training data set, it is likely that not all of them will have the same evaluation score or \"top 10 moves\" scores.  For example, let's look at the starting board position in two example games where the new player was playing White (and hence we asked Stockfish to get the top 10 moves for the initial board position):"
   ]
  },
  {
   "cell_type": "code",
   "execution_count": 74,
   "id": "91c01380-9d7f-43a4-b16d-f04c17b6d509",
   "metadata": {},
   "outputs": [
    {
     "data": {
      "text/plain": [
       "{'eval': {'type': 'cp', 'value': 64},\n",
       " 'top_10': [{'Move': 'e2e4', 'Centipawn': 70, 'Mate': None},\n",
       "  {'Move': 'g1f3', 'Centipawn': 39, 'Mate': None},\n",
       "  {'Move': 'd2d4', 'Centipawn': 30, 'Mate': None},\n",
       "  {'Move': 'c2c4', 'Centipawn': 29, 'Mate': None},\n",
       "  {'Move': 'e2e3', 'Centipawn': 28, 'Mate': None},\n",
       "  {'Move': 'b1c3', 'Centipawn': 18, 'Mate': None},\n",
       "  {'Move': 'c2c3', 'Centipawn': -9, 'Mate': None},\n",
       "  {'Move': 'a2a3', 'Centipawn': -9, 'Mate': None},\n",
       "  {'Move': 'h2h3', 'Centipawn': -31, 'Mate': None},\n",
       "  {'Move': 'd2d3', 'Centipawn': -31, 'Mate': None}],\n",
       " 'fen': 'rnbqkbnr/pppppppp/8/8/8/8/PPPPPPPP/RNBQKBNR w KQkq - 0 1'}"
      ]
     },
     "execution_count": 74,
     "metadata": {},
     "output_type": "execute_result"
    }
   ],
   "source": [
    "game_number = 0\n",
    "kind = 'train'\n",
    "game0 = eval(open(f\"{stockfish_paths_dict[kind]}/game{game_number}.txt\").read())\n",
    "\n",
    "#Look at the Stockfish information for the opening board position\n",
    "game0[0]"
   ]
  },
  {
   "cell_type": "code",
   "execution_count": 84,
   "id": "1c0714b9-8851-4000-8570-17ee39ddd705",
   "metadata": {},
   "outputs": [
    {
     "data": {
      "text/plain": [
       "{'eval': {'type': 'cp', 'value': 64},\n",
       " 'top_10': [{'Move': 'e2e4', 'Centipawn': 70, 'Mate': None},\n",
       "  {'Move': 'g1f3', 'Centipawn': 39, 'Mate': None},\n",
       "  {'Move': 'd2d4', 'Centipawn': 30, 'Mate': None},\n",
       "  {'Move': 'c2c4', 'Centipawn': 29, 'Mate': None},\n",
       "  {'Move': 'e2e3', 'Centipawn': 28, 'Mate': None},\n",
       "  {'Move': 'b1c3', 'Centipawn': 18, 'Mate': None},\n",
       "  {'Move': 'c2c3', 'Centipawn': -9, 'Mate': None},\n",
       "  {'Move': 'a2a3', 'Centipawn': -9, 'Mate': None},\n",
       "  {'Move': 'h2h3', 'Centipawn': -31, 'Mate': None},\n",
       "  {'Move': 'd2d3', 'Centipawn': -31, 'Mate': None}],\n",
       " 'fen': 'rnbqkbnr/pppppppp/8/8/8/8/PPPPPPPP/RNBQKBNR w KQkq - 0 1'}"
      ]
     },
     "execution_count": 84,
     "metadata": {},
     "output_type": "execute_result"
    }
   ],
   "source": [
    "game_number = 1\n",
    "kind = 'train'\n",
    "game1 = eval(open(f\"{stockfish_paths_dict[kind]}/game{game_number}.txt\").read())\n",
    "\n",
    "#Look at the Stockfish information for the opening board position\n",
    "game1[0]"
   ]
  },
  {
   "cell_type": "code",
   "execution_count": null,
   "id": "59cfced3-ffd1-4002-9a29-db00c0020a9a",
   "metadata": {},
   "outputs": [],
   "source": []
  },
  {
   "cell_type": "code",
   "execution_count": null,
   "id": "acb58af3-5d44-4b43-9aaf-a455a547bc49",
   "metadata": {},
   "outputs": [],
   "source": []
  },
  {
   "cell_type": "markdown",
   "id": "7296b43e-8254-4d78-b0f6-65b4fc9872cd",
   "metadata": {},
   "source": [
    "## Blah"
   ]
  },
  {
   "cell_type": "code",
   "execution_count": 15,
   "id": "07db21cf-b48c-40a8-82a1-6e1ec95f2a25",
   "metadata": {},
   "outputs": [],
   "source": [
    "dd = defaultdict(lambda : [])"
   ]
  },
  {
   "cell_type": "code",
   "execution_count": 16,
   "id": "67b02e75-7c87-4358-af61-405d26e55d01",
   "metadata": {},
   "outputs": [],
   "source": [
    "dd[5].append(1)"
   ]
  },
  {
   "cell_type": "code",
   "execution_count": 18,
   "id": "0694c3a0-c6a4-4cf0-88cc-a50514e514dc",
   "metadata": {},
   "outputs": [
    {
     "data": {
      "text/plain": [
       "dict_items([(5, [1])])"
      ]
     },
     "execution_count": 18,
     "metadata": {},
     "output_type": "execute_result"
    }
   ],
   "source": [
    "dd.items()"
   ]
  },
  {
   "cell_type": "code",
   "execution_count": 19,
   "id": "e7a4506f-104c-4b90-bc3b-47e66e26a301",
   "metadata": {},
   "outputs": [
    {
     "data": {
      "text/plain": [
       "[1]"
      ]
     },
     "execution_count": 19,
     "metadata": {},
     "output_type": "execute_result"
    }
   ],
   "source": [
    "dd[5]"
   ]
  },
  {
   "cell_type": "code",
   "execution_count": 20,
   "id": "2c95e55f-38a5-49ae-976d-ce0e25746931",
   "metadata": {},
   "outputs": [],
   "source": []
  },
  {
   "cell_type": "code",
   "execution_count": 26,
   "id": "16f4cde5-ca74-46ba-963b-682fee53a88c",
   "metadata": {},
   "outputs": [],
   "source": [
    "dd = defaultdict(lambda : [])\n",
    "\n",
    "fen = 'rnbqkbnr/pppppppp/8/8/8/8/PPPPPPPP/RNBQKBNR w KQkq - 0 1'\n",
    "score1 = 64\n",
    "score2 = 62\n",
    "\n",
    "dd[fen].append(score1)\n",
    "dd[fen].append(score2)"
   ]
  },
  {
   "cell_type": "code",
   "execution_count": 27,
   "id": "5e90c48a-7b41-4340-b5e9-b8e720076c50",
   "metadata": {},
   "outputs": [
    {
     "data": {
      "text/plain": [
       "[64, 62]"
      ]
     },
     "execution_count": 27,
     "metadata": {},
     "output_type": "execute_result"
    }
   ],
   "source": [
    "dd[fen]"
   ]
  },
  {
   "cell_type": "code",
   "execution_count": null,
   "id": "5be3e640-1243-46c1-9213-3178fdd36df5",
   "metadata": {},
   "outputs": [],
   "source": []
  },
  {
   "cell_type": "code",
   "execution_count": null,
   "id": "b0de8501-7196-41ea-9ba4-998f6f489ed3",
   "metadata": {},
   "outputs": [],
   "source": []
  },
  {
   "cell_type": "code",
   "execution_count": null,
   "id": "d7ed674d-c079-413e-8b66-e7d35bdb8857",
   "metadata": {},
   "outputs": [],
   "source": []
  },
  {
   "cell_type": "code",
   "execution_count": null,
   "id": "b8153541-68ff-425f-9e97-2342a5781caa",
   "metadata": {},
   "outputs": [],
   "source": []
  },
  {
   "cell_type": "code",
   "execution_count": null,
   "id": "645dcf30-5cfb-4aab-b853-9d06045aaa9d",
   "metadata": {},
   "outputs": [],
   "source": []
  },
  {
   "cell_type": "code",
   "execution_count": null,
   "id": "319ffdda-f91b-49e5-8ff1-87996d977a25",
   "metadata": {},
   "outputs": [],
   "source": []
  },
  {
   "cell_type": "code",
   "execution_count": null,
   "id": "d2e707ef-2222-4da6-81f8-7fb79d64224d",
   "metadata": {},
   "outputs": [],
   "source": []
  },
  {
   "cell_type": "code",
   "execution_count": 303,
   "id": "0c77ba16-e8e4-4202-af72-21b1e07a54a8",
   "metadata": {},
   "outputs": [
    {
     "data": {
      "text/plain": [
       "923"
      ]
     },
     "execution_count": 303,
     "metadata": {},
     "output_type": "execute_result"
    }
   ],
   "source": [
    "len(bad_inds)"
   ]
  },
  {
   "cell_type": "code",
   "execution_count": 124,
   "id": "cb9620c9-35b8-4ed8-a9e5-25eec94a9a1b",
   "metadata": {},
   "outputs": [],
   "source": [
    "def add_fen_strings(game_number, df):\n",
    "    '''\n",
    "    Input:\n",
    "    -game_number: The number of a text file containing a dictionary of Stockfish evaluations\n",
    "    for a single game\n",
    "    -df: A dataframe, such as \"train_1st\" or \"test_1st\" or \"val_1st\"\n",
    "    '''\n",
    "    #Read in the text file as a dictionary\n",
    "    game = eval(open(f\"{stockfish_train_path}/game{game_number}.txt\").read())\n",
    "    \n",
    "    #Make a list of the moves in the game\n",
    "    moves = df.iloc[game_number]['moves'].split(' ')\n",
    "    \n",
    "    #Initialize a chess Board\n",
    "    board = chess.Board()\n",
    "    \n",
    "    #Add the initial FEN string\n",
    "    game[0]['fen'] = board.fen()\n",
    "    \n",
    "    for i, move in enumerate(moves):\n",
    "        #If this is the last move of the game, then there won't be a \"next board position\"\n",
    "        if i == len(moves)-1:\n",
    "            continue\n",
    "        \n",
    "        #Otherwise, make the next move...\n",
    "        board.push_san(move)\n",
    "        position = board.fen()\n",
    "        #... and add its position to the dictionary\n",
    "        game[i+1]['fen'] = position\n",
    "    \n",
    "    #Return the dictionary, now with the FEN strings added\n",
    "    return game"
   ]
  },
  {
   "cell_type": "code",
   "execution_count": 306,
   "id": "ca58dfee-f3a0-4cf6-9287-d110ae9a16a0",
   "metadata": {},
   "outputs": [
    {
     "data": {
      "text/plain": [
       "933"
      ]
     },
     "execution_count": 306,
     "metadata": {},
     "output_type": "execute_result"
    }
   ],
   "source": [
    "bad_inds[-40]"
   ]
  },
  {
   "cell_type": "code",
   "execution_count": null,
   "id": "8be99078-27ee-4108-b125-f502ddd2fb59",
   "metadata": {},
   "outputs": [],
   "source": []
  },
  {
   "cell_type": "code",
   "execution_count": 307,
   "id": "74fce499-260d-4285-9394-9c6fdac3baee",
   "metadata": {},
   "outputs": [],
   "source": []
  },
  {
   "cell_type": "code",
   "execution_count": null,
   "id": "81d63d1b-e089-4327-9e7f-9d24b983aea1",
   "metadata": {},
   "outputs": [],
   "source": []
  },
  {
   "cell_type": "code",
   "execution_count": 258,
   "id": "0434170e-249c-486f-aa2e-6db0c3a3eb87",
   "metadata": {},
   "outputs": [
    {
     "data": {
      "text/plain": [
       "923"
      ]
     },
     "execution_count": 258,
     "metadata": {},
     "output_type": "execute_result"
    }
   ],
   "source": [
    "len(bad_inds)"
   ]
  },
  {
   "cell_type": "code",
   "execution_count": 270,
   "id": "98664686-fe9f-4ea5-bfb5-14e4bb3a67bc",
   "metadata": {},
   "outputs": [],
   "source": [
    "good_inds = [i for i in range(len(train_1st)) if i not in bad_inds]"
   ]
  },
  {
   "cell_type": "code",
   "execution_count": 271,
   "id": "65114929-df44-4c80-b850-b590d43e75d7",
   "metadata": {},
   "outputs": [
    {
     "data": {
      "text/plain": [
       "19497"
      ]
     },
     "execution_count": 271,
     "metadata": {},
     "output_type": "execute_result"
    }
   ],
   "source": [
    "len(good_inds)"
   ]
  },
  {
   "cell_type": "code",
   "execution_count": 293,
   "id": "54b3dbcf-ce31-4897-ac30-4fa39fa3be42",
   "metadata": {},
   "outputs": [],
   "source": [
    "game_number = 1234\n",
    "example_game = eval(open(f\"{stockfish_train_path}/game{game_number}.txt\").read())\n",
    "\n",
    "moves = train_1st.iloc[game_number]['moves'].split(' ')"
   ]
  },
  {
   "cell_type": "code",
   "execution_count": 294,
   "id": "ab971f3a-16cb-4541-a672-36862180b755",
   "metadata": {},
   "outputs": [],
   "source": [
    "#Initialize Stockfish\n",
    "#Use the same paramters we used in our evaluations of the whole games\n",
    "sf = Stockfish(stockfish_path, depth=15)\n",
    "sf.update_engine_parameters({\n",
    "    'Threads':1,\n",
    "    \"Hash\":1024\n",
    "})"
   ]
  },
  {
   "cell_type": "code",
   "execution_count": 295,
   "id": "ceef1982-879d-4e62-9c20-e30bd98e00a3",
   "metadata": {},
   "outputs": [
    {
     "data": {
      "text/plain": [
       "{'type': 'cp', 'value': 2060}"
      ]
     },
     "execution_count": 295,
     "metadata": {},
     "output_type": "execute_result"
    }
   ],
   "source": [
    "board = chess.Board(example_game[len(example_game)-1]['fen'])\n",
    "board.push_san(moves[len(moves)-1])\n",
    "final_fen = board.fen()\n",
    "\n",
    "sf.set_fen_position(final_fen)\n",
    "sf.get_evaluation()"
   ]
  },
  {
   "cell_type": "code",
   "execution_count": 279,
   "id": "b1154560-418c-4542-b1b0-64ec20ee2867",
   "metadata": {},
   "outputs": [],
   "source": [
    "good_checkmate_inds = []\n",
    "\n",
    "for i in range(len(good_inds)):\n",
    "    game = eval(open(f\"{stockfish_train_path}/game{good_inds[i]}.txt\").read())\n",
    "    fen = game[len(game)-1]['fen']\n",
    "    board = chess.Board(fen)\n",
    "    if board.is_checkmate():\n",
    "        good_checkmate_inds.append(i)"
   ]
  },
  {
   "cell_type": "code",
   "execution_count": 280,
   "id": "b6d7f3c8-7eb5-4514-bc60-f08f7f95a7cc",
   "metadata": {},
   "outputs": [
    {
     "data": {
      "text/plain": [
       "0"
      ]
     },
     "execution_count": 280,
     "metadata": {},
     "output_type": "execute_result"
    }
   ],
   "source": [
    "len(good_checkmate_inds)"
   ]
  },
  {
   "cell_type": "code",
   "execution_count": 276,
   "id": "edd78840-f39a-4aa1-826b-ed608d284574",
   "metadata": {},
   "outputs": [
    {
     "ename": "KeyboardInterrupt",
     "evalue": "",
     "output_type": "error",
     "traceback": [
      "\u001b[0;31m---------------------------------------------------------------------------\u001b[0m",
      "\u001b[0;31mKeyboardInterrupt\u001b[0m                         Traceback (most recent call last)",
      "Cell \u001b[0;32mIn[276], line 4\u001b[0m\n\u001b[1;32m      1\u001b[0m checkmate_inds \u001b[38;5;241m=\u001b[39m []\n\u001b[1;32m      3\u001b[0m \u001b[38;5;28;01mfor\u001b[39;00m i \u001b[38;5;129;01min\u001b[39;00m \u001b[38;5;28mrange\u001b[39m(\u001b[38;5;28mlen\u001b[39m(good_inds)):\n\u001b[0;32m----> 4\u001b[0m     added \u001b[38;5;241m=\u001b[39m \u001b[43madd_fen_strings\u001b[49m\u001b[43m(\u001b[49m\u001b[43mgood_inds\u001b[49m\u001b[43m[\u001b[49m\u001b[43mi\u001b[49m\u001b[43m]\u001b[49m\u001b[43m,\u001b[49m\u001b[43m \u001b[49m\u001b[43mtrain_1st\u001b[49m\u001b[43m)\u001b[49m\n\u001b[1;32m      5\u001b[0m     fen \u001b[38;5;241m=\u001b[39m added[\u001b[38;5;28mlen\u001b[39m(added)\u001b[38;5;241m-\u001b[39m\u001b[38;5;241m1\u001b[39m][\u001b[38;5;124m'\u001b[39m\u001b[38;5;124mfen\u001b[39m\u001b[38;5;124m'\u001b[39m]\n\u001b[1;32m      6\u001b[0m     board \u001b[38;5;241m=\u001b[39m chess\u001b[38;5;241m.\u001b[39mBoard(fen)\n",
      "Cell \u001b[0;32mIn[124], line 9\u001b[0m, in \u001b[0;36madd_fen_strings\u001b[0;34m(game_number, df)\u001b[0m\n\u001b[1;32m      2\u001b[0m \u001b[38;5;124;03m'''\u001b[39;00m\n\u001b[1;32m      3\u001b[0m \u001b[38;5;124;03mInput:\u001b[39;00m\n\u001b[1;32m      4\u001b[0m \u001b[38;5;124;03m-game_number: The number of a text file containing a dictionary of Stockfish evaluations\u001b[39;00m\n\u001b[1;32m      5\u001b[0m \u001b[38;5;124;03mfor a single game\u001b[39;00m\n\u001b[1;32m      6\u001b[0m \u001b[38;5;124;03m-df: A dataframe, such as \"train_1st\" or \"test_1st\" or \"val_1st\"\u001b[39;00m\n\u001b[1;32m      7\u001b[0m \u001b[38;5;124;03m'''\u001b[39;00m\n\u001b[1;32m      8\u001b[0m \u001b[38;5;66;03m#Read in the text file as a dictionary\u001b[39;00m\n\u001b[0;32m----> 9\u001b[0m game \u001b[38;5;241m=\u001b[39m \u001b[38;5;28;43meval\u001b[39;49m\u001b[43m(\u001b[49m\u001b[38;5;28;43mopen\u001b[39;49m\u001b[43m(\u001b[49m\u001b[38;5;124;43mf\u001b[39;49m\u001b[38;5;124;43m\"\u001b[39;49m\u001b[38;5;132;43;01m{\u001b[39;49;00m\u001b[43mstockfish_train_path\u001b[49m\u001b[38;5;132;43;01m}\u001b[39;49;00m\u001b[38;5;124;43m/game\u001b[39;49m\u001b[38;5;132;43;01m{\u001b[39;49;00m\u001b[43mgame_number\u001b[49m\u001b[38;5;132;43;01m}\u001b[39;49;00m\u001b[38;5;124;43m.txt\u001b[39;49m\u001b[38;5;124;43m\"\u001b[39;49m\u001b[43m)\u001b[49m\u001b[38;5;241;43m.\u001b[39;49m\u001b[43mread\u001b[49m\u001b[43m(\u001b[49m\u001b[43m)\u001b[49m\u001b[43m)\u001b[49m\n\u001b[1;32m     11\u001b[0m \u001b[38;5;66;03m#Make a list of the moves in the game\u001b[39;00m\n\u001b[1;32m     12\u001b[0m moves \u001b[38;5;241m=\u001b[39m df\u001b[38;5;241m.\u001b[39miloc[game_number][\u001b[38;5;124m'\u001b[39m\u001b[38;5;124mmoves\u001b[39m\u001b[38;5;124m'\u001b[39m]\u001b[38;5;241m.\u001b[39msplit(\u001b[38;5;124m'\u001b[39m\u001b[38;5;124m \u001b[39m\u001b[38;5;124m'\u001b[39m)\n",
      "File \u001b[0;32m<string>:1\u001b[0m\n",
      "\u001b[0;31mKeyboardInterrupt\u001b[0m: "
     ]
    }
   ],
   "source": [
    "bad_checkmate_inds = []\n",
    "\n",
    "for i in range(len(bad_inds)):\n",
    "    added = add_fen_strings(bad_inds[i], train_1st)\n",
    "    fen = added[len(added)-1]['fen']\n",
    "    board = chess.Board(fen)\n",
    "    if board.is_checkmate():\n",
    "        bad_checkmate_inds.append(i)"
   ]
  },
  {
   "cell_type": "code",
   "execution_count": null,
   "id": "a4344079-f376-4fb8-86a0-ba8689be0da5",
   "metadata": {},
   "outputs": [],
   "source": [
    "len(checkmate_inds)"
   ]
  },
  {
   "cell_type": "code",
   "execution_count": 249,
   "id": "17ebeaa4-b260-42f4-acfb-f62e3bcf638f",
   "metadata": {},
   "outputs": [],
   "source": [
    "board=chess.Board(fen)"
   ]
  },
  {
   "cell_type": "code",
   "execution_count": 250,
   "id": "db0ea561-faa6-4f97-9a8f-176c7d613892",
   "metadata": {},
   "outputs": [
    {
     "data": {
      "image/svg+xml": [
       "<svg xmlns=\"http://www.w3.org/2000/svg\" xmlns:xlink=\"http://www.w3.org/1999/xlink\" version=\"1.2\" baseProfile=\"tiny\" viewBox=\"0 0 390 390\" width=\"390\" height=\"390\"><desc><pre>. . . . . . . .\n",
       ". . . . . R . p\n",
       "p . p . . Q . .\n",
       ". p . . . N . k\n",
       ". . . . . . . .\n",
       ". . . . . . P b\n",
       "P P P . r . . P\n",
       "R N . . . K . .</pre></desc><defs><g id=\"white-pawn\" class=\"white pawn\"><path d=\"M22.5 9c-2.21 0-4 1.79-4 4 0 .89.29 1.71.78 2.38C17.33 16.5 16 18.59 16 21c0 2.03.94 3.84 2.41 5.03-3 1.06-7.41 5.55-7.41 13.47h23c0-7.92-4.41-12.41-7.41-13.47 1.47-1.19 2.41-3 2.41-5.03 0-2.41-1.33-4.5-3.28-5.62.49-.67.78-1.49.78-2.38 0-2.21-1.79-4-4-4z\" fill=\"#fff\" stroke=\"#000\" stroke-width=\"1.5\" stroke-linecap=\"round\" /></g><g id=\"white-knight\" class=\"white knight\" fill=\"none\" fill-rule=\"evenodd\" stroke=\"#000\" stroke-width=\"1.5\" stroke-linecap=\"round\" stroke-linejoin=\"round\"><path d=\"M 22,10 C 32.5,11 38.5,18 38,39 L 15,39 C 15,30 25,32.5 23,18\" style=\"fill:#ffffff; stroke:#000000;\" /><path d=\"M 24,18 C 24.38,20.91 18.45,25.37 16,27 C 13,29 13.18,31.34 11,31 C 9.958,30.06 12.41,27.96 11,28 C 10,28 11.19,29.23 10,30 C 9,30 5.997,31 6,26 C 6,24 12,14 12,14 C 12,14 13.89,12.1 14,10.5 C 13.27,9.506 13.5,8.5 13.5,7.5 C 14.5,6.5 16.5,10 16.5,10 L 18.5,10 C 18.5,10 19.28,8.008 21,7 C 22,7 22,10 22,10\" style=\"fill:#ffffff; stroke:#000000;\" /><path d=\"M 9.5 25.5 A 0.5 0.5 0 1 1 8.5,25.5 A 0.5 0.5 0 1 1 9.5 25.5 z\" style=\"fill:#000000; stroke:#000000;\" /><path d=\"M 15 15.5 A 0.5 1.5 0 1 1 14,15.5 A 0.5 1.5 0 1 1 15 15.5 z\" transform=\"matrix(0.866,0.5,-0.5,0.866,9.693,-5.173)\" style=\"fill:#000000; stroke:#000000;\" /></g><g id=\"white-rook\" class=\"white rook\" fill=\"#fff\" fill-rule=\"evenodd\" stroke=\"#000\" stroke-width=\"1.5\" stroke-linecap=\"round\" stroke-linejoin=\"round\"><path d=\"M9 39h27v-3H9v3zM12 36v-4h21v4H12zM11 14V9h4v2h5V9h5v2h5V9h4v5\" stroke-linecap=\"butt\" /><path d=\"M34 14l-3 3H14l-3-3\" /><path d=\"M31 17v12.5H14V17\" stroke-linecap=\"butt\" stroke-linejoin=\"miter\" /><path d=\"M31 29.5l1.5 2.5h-20l1.5-2.5\" /><path d=\"M11 14h23\" fill=\"none\" stroke-linejoin=\"miter\" /></g><g id=\"white-queen\" class=\"white queen\" fill=\"#fff\" fill-rule=\"evenodd\" stroke=\"#000\" stroke-width=\"1.5\" stroke-linecap=\"round\" stroke-linejoin=\"round\"><path d=\"M8 12a2 2 0 1 1-4 0 2 2 0 1 1 4 0zM24.5 7.5a2 2 0 1 1-4 0 2 2 0 1 1 4 0zM41 12a2 2 0 1 1-4 0 2 2 0 1 1 4 0zM16 8.5a2 2 0 1 1-4 0 2 2 0 1 1 4 0zM33 9a2 2 0 1 1-4 0 2 2 0 1 1 4 0z\" /><path d=\"M9 26c8.5-1.5 21-1.5 27 0l2-12-7 11V11l-5.5 13.5-3-15-3 15-5.5-14V25L7 14l2 12zM9 26c0 2 1.5 2 2.5 4 1 1.5 1 1 .5 3.5-1.5 1-1.5 2.5-1.5 2.5-1.5 1.5.5 2.5.5 2.5 6.5 1 16.5 1 23 0 0 0 1.5-1 0-2.5 0 0 .5-1.5-1-2.5-.5-2.5-.5-2 .5-3.5 1-2 2.5-2 2.5-4-8.5-1.5-18.5-1.5-27 0z\" stroke-linecap=\"butt\" /><path d=\"M11.5 30c3.5-1 18.5-1 22 0M12 33.5c6-1 15-1 21 0\" fill=\"none\" /></g><g id=\"white-king\" class=\"white king\" fill=\"none\" fill-rule=\"evenodd\" stroke=\"#000\" stroke-width=\"1.5\" stroke-linecap=\"round\" stroke-linejoin=\"round\"><path d=\"M22.5 11.63V6M20 8h5\" stroke-linejoin=\"miter\" /><path d=\"M22.5 25s4.5-7.5 3-10.5c0 0-1-2.5-3-2.5s-3 2.5-3 2.5c-1.5 3 3 10.5 3 10.5\" fill=\"#fff\" stroke-linecap=\"butt\" stroke-linejoin=\"miter\" /><path d=\"M11.5 37c5.5 3.5 15.5 3.5 21 0v-7s9-4.5 6-10.5c-4-6.5-13.5-3.5-16 4V27v-3.5c-3.5-7.5-13-10.5-16-4-3 6 5 10 5 10V37z\" fill=\"#fff\" /><path d=\"M11.5 30c5.5-3 15.5-3 21 0m-21 3.5c5.5-3 15.5-3 21 0m-21 3.5c5.5-3 15.5-3 21 0\" /></g><g id=\"black-pawn\" class=\"black pawn\"><path d=\"M22.5 9c-2.21 0-4 1.79-4 4 0 .89.29 1.71.78 2.38C17.33 16.5 16 18.59 16 21c0 2.03.94 3.84 2.41 5.03-3 1.06-7.41 5.55-7.41 13.47h23c0-7.92-4.41-12.41-7.41-13.47 1.47-1.19 2.41-3 2.41-5.03 0-2.41-1.33-4.5-3.28-5.62.49-.67.78-1.49.78-2.38 0-2.21-1.79-4-4-4z\" fill=\"#000\" stroke=\"#000\" stroke-width=\"1.5\" stroke-linecap=\"round\" /></g><g id=\"black-bishop\" class=\"black bishop\" fill=\"none\" fill-rule=\"evenodd\" stroke=\"#000\" stroke-width=\"1.5\" stroke-linecap=\"round\" stroke-linejoin=\"round\"><path d=\"M9 36c3.39-.97 10.11.43 13.5-2 3.39 2.43 10.11 1.03 13.5 2 0 0 1.65.54 3 2-.68.97-1.65.99-3 .5-3.39-.97-10.11.46-13.5-1-3.39 1.46-10.11.03-13.5 1-1.354.49-2.323.47-3-.5 1.354-1.94 3-2 3-2zm6-4c2.5 2.5 12.5 2.5 15 0 .5-1.5 0-2 0-2 0-2.5-2.5-4-2.5-4 5.5-1.5 6-11.5-5-15.5-11 4-10.5 14-5 15.5 0 0-2.5 1.5-2.5 4 0 0-.5.5 0 2zM25 8a2.5 2.5 0 1 1-5 0 2.5 2.5 0 1 1 5 0z\" fill=\"#000\" stroke-linecap=\"butt\" /><path d=\"M17.5 26h10M15 30h15m-7.5-14.5v5M20 18h5\" stroke=\"#fff\" stroke-linejoin=\"miter\" /></g><g id=\"black-rook\" class=\"black rook\" fill=\"#000\" fill-rule=\"evenodd\" stroke=\"#000\" stroke-width=\"1.5\" stroke-linecap=\"round\" stroke-linejoin=\"round\"><path d=\"M9 39h27v-3H9v3zM12.5 32l1.5-2.5h17l1.5 2.5h-20zM12 36v-4h21v4H12z\" stroke-linecap=\"butt\" /><path d=\"M14 29.5v-13h17v13H14z\" stroke-linecap=\"butt\" stroke-linejoin=\"miter\" /><path d=\"M14 16.5L11 14h23l-3 2.5H14zM11 14V9h4v2h5V9h5v2h5V9h4v5H11z\" stroke-linecap=\"butt\" /><path d=\"M12 35.5h21M13 31.5h19M14 29.5h17M14 16.5h17M11 14h23\" fill=\"none\" stroke=\"#fff\" stroke-width=\"1\" stroke-linejoin=\"miter\" /></g><g id=\"black-king\" class=\"black king\" fill=\"none\" fill-rule=\"evenodd\" stroke=\"#000\" stroke-width=\"1.5\" stroke-linecap=\"round\" stroke-linejoin=\"round\"><path d=\"M22.5 11.63V6\" stroke-linejoin=\"miter\" /><path d=\"M22.5 25s4.5-7.5 3-10.5c0 0-1-2.5-3-2.5s-3 2.5-3 2.5c-1.5 3 3 10.5 3 10.5\" fill=\"#000\" stroke-linecap=\"butt\" stroke-linejoin=\"miter\" /><path d=\"M11.5 37c5.5 3.5 15.5 3.5 21 0v-7s9-4.5 6-10.5c-4-6.5-13.5-3.5-16 4V27v-3.5c-3.5-7.5-13-10.5-16-4-3 6 5 10 5 10V37z\" fill=\"#000\" /><path d=\"M20 8h5\" stroke-linejoin=\"miter\" /><path d=\"M32 29.5s8.5-4 6.03-9.65C34.15 14 25 18 22.5 24.5l.01 2.1-.01-2.1C20 18 9.906 14 6.997 19.85c-2.497 5.65 4.853 9 4.853 9M11.5 30c5.5-3 15.5-3 21 0m-21 3.5c5.5-3 15.5-3 21 0m-21 3.5c5.5-3 15.5-3 21 0\" stroke=\"#fff\" /></g><radialGradient id=\"check_gradient\" r=\"0.5\"><stop offset=\"0%\" stop-color=\"#ff0000\" stop-opacity=\"1.0\" /><stop offset=\"50%\" stop-color=\"#e70000\" stop-opacity=\"1.0\" /><stop offset=\"100%\" stop-color=\"#9e0000\" stop-opacity=\"0.0\" /></radialGradient></defs><rect x=\"0\" y=\"0\" width=\"390\" height=\"390\" fill=\"#212121\" /><g transform=\"translate(20, 0) scale(0.75, 0.75)\" fill=\"#e5e5e5\" stroke=\"#e5e5e5\"><path d=\"M23.328 10.016q-1.742 0-2.414.398-.672.398-.672 1.36 0 .765.5 1.218.508.445 1.375.445 1.196 0 1.914-.843.727-.852.727-2.258v-.32zm2.867-.594v4.992h-1.437v-1.328q-.492.797-1.227 1.18-.734.375-1.797.375-1.343 0-2.14-.75-.79-.758-.79-2.024 0-1.476.985-2.226.992-.75 2.953-.75h2.016V8.75q0-.992-.656-1.531-.649-.547-1.829-.547-.75 0-1.46.18-.711.18-1.368.539V6.062q.79-.304 1.532-.453.742-.156 1.445-.156 1.898 0 2.836.984.937.985.937 2.985z\" /></g><g transform=\"translate(20, 375) scale(0.75, 0.75)\" fill=\"#e5e5e5\" stroke=\"#e5e5e5\"><path d=\"M23.328 10.016q-1.742 0-2.414.398-.672.398-.672 1.36 0 .765.5 1.218.508.445 1.375.445 1.196 0 1.914-.843.727-.852.727-2.258v-.32zm2.867-.594v4.992h-1.437v-1.328q-.492.797-1.227 1.18-.734.375-1.797.375-1.343 0-2.14-.75-.79-.758-.79-2.024 0-1.476.985-2.226.992-.75 2.953-.75h2.016V8.75q0-.992-.656-1.531-.649-.547-1.829-.547-.75 0-1.46.18-.711.18-1.368.539V6.062q.79-.304 1.532-.453.742-.156 1.445-.156 1.898 0 2.836.984.937.985.937 2.985z\" /></g><g transform=\"translate(65, 0) scale(0.75, 0.75)\" fill=\"#e5e5e5\" stroke=\"#e5e5e5\"><path d=\"M24.922 10.047q0-1.586-.656-2.485-.649-.906-1.79-.906-1.14 0-1.796.906-.649.899-.649 2.485 0 1.586.649 2.492.656.898 1.797.898 1.14 0 1.789-.898.656-.906.656-2.492zm-4.89-3.055q.452-.781 1.14-1.156.695-.383 1.656-.383 1.594 0 2.586 1.266 1 1.265 1 3.328 0 2.062-1 3.328-.992 1.266-2.586 1.266-.96 0-1.656-.375-.688-.383-1.14-1.164v1.312h-1.446V2.258h1.445z\" /></g><g transform=\"translate(65, 375) scale(0.75, 0.75)\" fill=\"#e5e5e5\" stroke=\"#e5e5e5\"><path d=\"M24.922 10.047q0-1.586-.656-2.485-.649-.906-1.79-.906-1.14 0-1.796.906-.649.899-.649 2.485 0 1.586.649 2.492.656.898 1.797.898 1.14 0 1.789-.898.656-.906.656-2.492zm-4.89-3.055q.452-.781 1.14-1.156.695-.383 1.656-.383 1.594 0 2.586 1.266 1 1.265 1 3.328 0 2.062-1 3.328-.992 1.266-2.586 1.266-.96 0-1.656-.375-.688-.383-1.14-1.164v1.312h-1.446V2.258h1.445z\" /></g><g transform=\"translate(110, 0) scale(0.75, 0.75)\" fill=\"#e5e5e5\" stroke=\"#e5e5e5\"><path d=\"M25.96 6v1.344q-.608-.336-1.226-.5-.609-.172-1.234-.172-1.398 0-2.172.89-.773.883-.773 2.485 0 1.601.773 2.492.774.883 2.172.883.625 0 1.234-.164.618-.172 1.227-.508v1.328q-.602.281-1.25.422-.64.14-1.367.14-1.977 0-3.14-1.242-1.165-1.242-1.165-3.351 0-2.14 1.172-3.367 1.18-1.227 3.227-1.227.664 0 1.296.14.633.134 1.227.407z\" /></g><g transform=\"translate(110, 375) scale(0.75, 0.75)\" fill=\"#e5e5e5\" stroke=\"#e5e5e5\"><path d=\"M25.96 6v1.344q-.608-.336-1.226-.5-.609-.172-1.234-.172-1.398 0-2.172.89-.773.883-.773 2.485 0 1.601.773 2.492.774.883 2.172.883.625 0 1.234-.164.618-.172 1.227-.508v1.328q-.602.281-1.25.422-.64.14-1.367.14-1.977 0-3.14-1.242-1.165-1.242-1.165-3.351 0-2.14 1.172-3.367 1.18-1.227 3.227-1.227.664 0 1.296.14.633.134 1.227.407z\" /></g><g transform=\"translate(155, 0) scale(0.75, 0.75)\" fill=\"#e5e5e5\" stroke=\"#e5e5e5\"><path d=\"M24.973 6.992V2.258h1.437v12.156h-1.437v-1.312q-.453.78-1.149 1.164-.687.375-1.656.375-1.586 0-2.586-1.266-.992-1.266-.992-3.328 0-2.063.992-3.328 1-1.266 2.586-1.266.969 0 1.656.383.696.375 1.149 1.156zm-4.899 3.055q0 1.586.649 2.492.656.898 1.797.898 1.14 0 1.796-.898.657-.906.657-2.492 0-1.586-.657-2.485-.656-.906-1.796-.906-1.141 0-1.797.906-.649.899-.649 2.485z\" /></g><g transform=\"translate(155, 375) scale(0.75, 0.75)\" fill=\"#e5e5e5\" stroke=\"#e5e5e5\"><path d=\"M24.973 6.992V2.258h1.437v12.156h-1.437v-1.312q-.453.78-1.149 1.164-.687.375-1.656.375-1.586 0-2.586-1.266-.992-1.266-.992-3.328 0-2.063.992-3.328 1-1.266 2.586-1.266.969 0 1.656.383.696.375 1.149 1.156zm-4.899 3.055q0 1.586.649 2.492.656.898 1.797.898 1.14 0 1.796-.898.657-.906.657-2.492 0-1.586-.657-2.485-.656-.906-1.796-.906-1.141 0-1.797.906-.649.899-.649 2.485z\" /></g><g transform=\"translate(200, 0) scale(0.75, 0.75)\" fill=\"#e5e5e5\" stroke=\"#e5e5e5\"><path d=\"M26.555 9.68v.703h-6.61q.094 1.484.89 2.265.806.774 2.235.774.828 0 1.602-.203.781-.203 1.547-.61v1.36q-.774.328-1.586.5-.813.172-1.649.172-2.093 0-3.32-1.22-1.219-1.218-1.219-3.296 0-2.148 1.157-3.406 1.164-1.266 3.132-1.266 1.766 0 2.79 1.14 1.03 1.134 1.03 3.087zm-1.438-.422q-.015-1.18-.664-1.883-.64-.703-1.703-.703-1.203 0-1.93.68-.718.68-.828 1.914z\" /></g><g transform=\"translate(200, 375) scale(0.75, 0.75)\" fill=\"#e5e5e5\" stroke=\"#e5e5e5\"><path d=\"M26.555 9.68v.703h-6.61q.094 1.484.89 2.265.806.774 2.235.774.828 0 1.602-.203.781-.203 1.547-.61v1.36q-.774.328-1.586.5-.813.172-1.649.172-2.093 0-3.32-1.22-1.219-1.218-1.219-3.296 0-2.148 1.157-3.406 1.164-1.266 3.132-1.266 1.766 0 2.79 1.14 1.03 1.134 1.03 3.087zm-1.438-.422q-.015-1.18-.664-1.883-.64-.703-1.703-.703-1.203 0-1.93.68-.718.68-.828 1.914z\" /></g><g transform=\"translate(245, 0) scale(0.75, 0.75)\" fill=\"#e5e5e5\" stroke=\"#e5e5e5\"><path d=\"M25.285 2.258v1.195H23.91q-.773 0-1.078.313-.297.312-.297 1.125v.773h2.367v1.117h-2.367v7.633H21.09V6.781h-1.375V5.664h1.375v-.61q0-1.46.68-2.124.68-.672 2.156-.672z\" /></g><g transform=\"translate(245, 375) scale(0.75, 0.75)\" fill=\"#e5e5e5\" stroke=\"#e5e5e5\"><path d=\"M25.285 2.258v1.195H23.91q-.773 0-1.078.313-.297.312-.297 1.125v.773h2.367v1.117h-2.367v7.633H21.09V6.781h-1.375V5.664h1.375v-.61q0-1.46.68-2.124.68-.672 2.156-.672z\" /></g><g transform=\"translate(290, 0) scale(0.75, 0.75)\" fill=\"#e5e5e5\" stroke=\"#e5e5e5\"><path d=\"M24.973 9.937q0-1.562-.649-2.421-.64-.86-1.804-.86-1.157 0-1.805.86-.64.859-.64 2.421 0 1.555.64 2.415.648.859 1.805.859 1.164 0 1.804-.86.649-.859.649-2.414zm1.437 3.391q0 2.234-.992 3.32-.992 1.094-3.04 1.094-.757 0-1.429-.117-.672-.11-1.304-.344v-1.398q.632.344 1.25.508.617.164 1.257.164 1.414 0 2.118-.743.703-.734.703-2.226v-.711q-.446.773-1.141 1.156-.695.383-1.664.383-1.61 0-2.594-1.227-.984-1.226-.984-3.25 0-2.03.984-3.257.985-1.227 2.594-1.227.969 0 1.664.383t1.14 1.156V5.664h1.438z\" /></g><g transform=\"translate(290, 375) scale(0.75, 0.75)\" fill=\"#e5e5e5\" stroke=\"#e5e5e5\"><path d=\"M24.973 9.937q0-1.562-.649-2.421-.64-.86-1.804-.86-1.157 0-1.805.86-.64.859-.64 2.421 0 1.555.64 2.415.648.859 1.805.859 1.164 0 1.804-.86.649-.859.649-2.414zm1.437 3.391q0 2.234-.992 3.32-.992 1.094-3.04 1.094-.757 0-1.429-.117-.672-.11-1.304-.344v-1.398q.632.344 1.25.508.617.164 1.257.164 1.414 0 2.118-.743.703-.734.703-2.226v-.711q-.446.773-1.141 1.156-.695.383-1.664.383-1.61 0-2.594-1.227-.984-1.226-.984-3.25 0-2.03.984-3.257.985-1.227 2.594-1.227.969 0 1.664.383t1.14 1.156V5.664h1.438z\" /></g><g transform=\"translate(335, 0) scale(0.75, 0.75)\" fill=\"#e5e5e5\" stroke=\"#e5e5e5\"><path d=\"M26.164 9.133v5.281h-1.437V9.18q0-1.243-.485-1.86-.484-.617-1.453-.617-1.164 0-1.836.742-.672.742-.672 2.024v4.945h-1.445V2.258h1.445v4.765q.516-.789 1.211-1.18.703-.39 1.617-.39 1.508 0 2.282.938.773.93.773 2.742z\" /></g><g transform=\"translate(335, 375) scale(0.75, 0.75)\" fill=\"#e5e5e5\" stroke=\"#e5e5e5\"><path d=\"M26.164 9.133v5.281h-1.437V9.18q0-1.243-.485-1.86-.484-.617-1.453-.617-1.164 0-1.836.742-.672.742-.672 2.024v4.945h-1.445V2.258h1.445v4.765q.516-.789 1.211-1.18.703-.39 1.617-.39 1.508 0 2.282.938.773.93.773 2.742z\" /></g><g transform=\"translate(0, 335) scale(0.75, 0.75)\" fill=\"#e5e5e5\" stroke=\"#e5e5e5\"><path d=\"M6.754 26.996h2.578v-8.898l-2.805.562v-1.437l2.79-.563h1.578v10.336h2.578v1.328h-6.72z\" /></g><g transform=\"translate(375, 335) scale(0.75, 0.75)\" fill=\"#e5e5e5\" stroke=\"#e5e5e5\"><path d=\"M6.754 26.996h2.578v-8.898l-2.805.562v-1.437l2.79-.563h1.578v10.336h2.578v1.328h-6.72z\" /></g><g transform=\"translate(0, 290) scale(0.75, 0.75)\" fill=\"#e5e5e5\" stroke=\"#e5e5e5\"><path d=\"M8.195 26.996h5.508v1.328H6.297v-1.328q.898-.93 2.445-2.492 1.555-1.57 1.953-2.024.758-.851 1.055-1.437.305-.594.305-1.164 0-.93-.657-1.516-.648-.586-1.695-.586-.742 0-1.57.258-.82.258-1.758.781v-1.593q.953-.383 1.781-.578.828-.196 1.516-.196 1.812 0 2.89.906 1.079.907 1.079 2.422 0 .72-.274 1.368-.265.64-.976 1.515-.196.227-1.243 1.313-1.046 1.078-2.953 3.023z\" /></g><g transform=\"translate(375, 290) scale(0.75, 0.75)\" fill=\"#e5e5e5\" stroke=\"#e5e5e5\"><path d=\"M8.195 26.996h5.508v1.328H6.297v-1.328q.898-.93 2.445-2.492 1.555-1.57 1.953-2.024.758-.851 1.055-1.437.305-.594.305-1.164 0-.93-.657-1.516-.648-.586-1.695-.586-.742 0-1.57.258-.82.258-1.758.781v-1.593q.953-.383 1.781-.578.828-.196 1.516-.196 1.812 0 2.89.906 1.079.907 1.079 2.422 0 .72-.274 1.368-.265.64-.976 1.515-.196.227-1.243 1.313-1.046 1.078-2.953 3.023z\" /></g><g transform=\"translate(0, 245) scale(0.75, 0.75)\" fill=\"#e5e5e5\" stroke=\"#e5e5e5\"><path d=\"M11.434 22.035q1.132.242 1.765 1.008.64.766.64 1.89 0 1.727-1.187 2.672-1.187.946-3.375.946-.734 0-1.515-.149-.774-.14-1.602-.43V26.45q.656.383 1.438.578.78.196 1.632.196 1.485 0 2.258-.586.782-.586.782-1.703 0-1.032-.727-1.61-.719-.586-2.008-.586h-1.36v-1.297h1.423q1.164 0 1.78-.46.618-.47.618-1.344 0-.899-.64-1.375-.633-.485-1.82-.485-.65 0-1.391.141-.743.14-1.633.437V16.95q.898-.25 1.68-.375.788-.125 1.484-.125 1.797 0 2.844.82 1.046.813 1.046 2.204 0 .968-.554 1.64-.555.664-1.578.922z\" /></g><g transform=\"translate(375, 245) scale(0.75, 0.75)\" fill=\"#e5e5e5\" stroke=\"#e5e5e5\"><path d=\"M11.434 22.035q1.132.242 1.765 1.008.64.766.64 1.89 0 1.727-1.187 2.672-1.187.946-3.375.946-.734 0-1.515-.149-.774-.14-1.602-.43V26.45q.656.383 1.438.578.78.196 1.632.196 1.485 0 2.258-.586.782-.586.782-1.703 0-1.032-.727-1.61-.719-.586-2.008-.586h-1.36v-1.297h1.423q1.164 0 1.78-.46.618-.47.618-1.344 0-.899-.64-1.375-.633-.485-1.82-.485-.65 0-1.391.141-.743.14-1.633.437V16.95q.898-.25 1.68-.375.788-.125 1.484-.125 1.797 0 2.844.82 1.046.813 1.046 2.204 0 .968-.554 1.64-.555.664-1.578.922z\" /></g><g transform=\"translate(0, 200) scale(0.75, 0.75)\" fill=\"#e5e5e5\" stroke=\"#e5e5e5\"><path d=\"M11.016 18.035L7.03 24.262h3.985zm-.414-1.375h1.984v7.602h1.664v1.312h-1.664v2.75h-1.57v-2.75H5.75v-1.523z\" /></g><g transform=\"translate(375, 200) scale(0.75, 0.75)\" fill=\"#e5e5e5\" stroke=\"#e5e5e5\"><path d=\"M11.016 18.035L7.03 24.262h3.985zm-.414-1.375h1.984v7.602h1.664v1.312h-1.664v2.75h-1.57v-2.75H5.75v-1.523z\" /></g><g transform=\"translate(0, 155) scale(0.75, 0.75)\" fill=\"#e5e5e5\" stroke=\"#e5e5e5\"><path d=\"M6.719 16.66h6.195v1.328h-4.75v2.86q.344-.118.688-.172.343-.063.687-.063 1.953 0 3.094 1.07 1.14 1.07 1.14 2.899 0 1.883-1.171 2.93-1.172 1.039-3.305 1.039-.735 0-1.5-.125-.758-.125-1.57-.375v-1.586q.703.383 1.453.57.75.188 1.586.188 1.351 0 2.14-.711.79-.711.79-1.93 0-1.219-.79-1.93-.789-.71-2.14-.71-.633 0-1.266.14-.625.14-1.281.438z\" /></g><g transform=\"translate(375, 155) scale(0.75, 0.75)\" fill=\"#e5e5e5\" stroke=\"#e5e5e5\"><path d=\"M6.719 16.66h6.195v1.328h-4.75v2.86q.344-.118.688-.172.343-.063.687-.063 1.953 0 3.094 1.07 1.14 1.07 1.14 2.899 0 1.883-1.171 2.93-1.172 1.039-3.305 1.039-.735 0-1.5-.125-.758-.125-1.57-.375v-1.586q.703.383 1.453.57.75.188 1.586.188 1.351 0 2.14-.711.79-.711.79-1.93 0-1.219-.79-1.93-.789-.71-2.14-.71-.633 0-1.266.14-.625.14-1.281.438z\" /></g><g transform=\"translate(0, 110) scale(0.75, 0.75)\" fill=\"#e5e5e5\" stroke=\"#e5e5e5\"><path d=\"M10.137 21.863q-1.063 0-1.688.727-.617.726-.617 1.992 0 1.258.617 1.992.625.727 1.688.727 1.062 0 1.68-.727.624-.734.624-1.992 0-1.266-.625-1.992-.617-.727-1.68-.727zm3.133-4.945v1.437q-.594-.28-1.204-.43-.601-.148-1.195-.148-1.562 0-2.39 1.055-.82 1.055-.938 3.188.46-.68 1.156-1.04.696-.367 1.531-.367 1.758 0 2.774 1.07 1.023 1.063 1.023 2.899 0 1.797-1.062 2.883-1.063 1.086-2.828 1.086-2.024 0-3.094-1.547-1.07-1.555-1.07-4.5 0-2.766 1.312-4.406 1.313-1.649 3.524-1.649.593 0 1.195.117.61.118 1.266.352z\" /></g><g transform=\"translate(375, 110) scale(0.75, 0.75)\" fill=\"#e5e5e5\" stroke=\"#e5e5e5\"><path d=\"M10.137 21.863q-1.063 0-1.688.727-.617.726-.617 1.992 0 1.258.617 1.992.625.727 1.688.727 1.062 0 1.68-.727.624-.734.624-1.992 0-1.266-.625-1.992-.617-.727-1.68-.727zm3.133-4.945v1.437q-.594-.28-1.204-.43-.601-.148-1.195-.148-1.562 0-2.39 1.055-.82 1.055-.938 3.188.46-.68 1.156-1.04.696-.367 1.531-.367 1.758 0 2.774 1.07 1.023 1.063 1.023 2.899 0 1.797-1.062 2.883-1.063 1.086-2.828 1.086-2.024 0-3.094-1.547-1.07-1.555-1.07-4.5 0-2.766 1.312-4.406 1.313-1.649 3.524-1.649.593 0 1.195.117.61.118 1.266.352z\" /></g><g transform=\"translate(0, 65) scale(0.75, 0.75)\" fill=\"#e5e5e5\" stroke=\"#e5e5e5\"><path d=\"M6.25 16.66h7.5v.672L9.516 28.324H7.867l3.985-10.336H6.25z\" /></g><g transform=\"translate(375, 65) scale(0.75, 0.75)\" fill=\"#e5e5e5\" stroke=\"#e5e5e5\"><path d=\"M6.25 16.66h7.5v.672L9.516 28.324H7.867l3.985-10.336H6.25z\" /></g><g transform=\"translate(0, 20) scale(0.75, 0.75)\" fill=\"#e5e5e5\" stroke=\"#e5e5e5\"><path d=\"M10 22.785q-1.125 0-1.773.602-.641.601-.641 1.656t.64 1.656q.649.602 1.774.602t1.773-.602q.649-.61.649-1.656 0-1.055-.649-1.656-.64-.602-1.773-.602zm-1.578-.672q-1.016-.25-1.586-.945-.563-.695-.563-1.695 0-1.399.993-2.211 1-.813 2.734-.813 1.742 0 2.734.813.993.812.993 2.21 0 1-.57 1.696-.563.695-1.571.945 1.14.266 1.773 1.04.641.773.641 1.89 0 1.695-1.04 2.602-1.03.906-2.96.906t-2.969-.906Q6 26.738 6 25.043q0-1.117.64-1.89.641-.774 1.782-1.04zm-.578-2.492q0 .906.562 1.414.57.508 1.594.508 1.016 0 1.586-.508.578-.508.578-1.414 0-.906-.578-1.414-.57-.508-1.586-.508-1.023 0-1.594.508-.562.508-.562 1.414z\" /></g><g transform=\"translate(375, 20) scale(0.75, 0.75)\" fill=\"#e5e5e5\" stroke=\"#e5e5e5\"><path d=\"M10 22.785q-1.125 0-1.773.602-.641.601-.641 1.656t.64 1.656q.649.602 1.774.602t1.773-.602q.649-.61.649-1.656 0-1.055-.649-1.656-.64-.602-1.773-.602zm-1.578-.672q-1.016-.25-1.586-.945-.563-.695-.563-1.695 0-1.399.993-2.211 1-.813 2.734-.813 1.742 0 2.734.813.993.812.993 2.21 0 1-.57 1.696-.563.695-1.571.945 1.14.266 1.773 1.04.641.773.641 1.89 0 1.695-1.04 2.602-1.03.906-2.96.906t-2.969-.906Q6 26.738 6 25.043q0-1.117.64-1.89.641-.774 1.782-1.04zm-.578-2.492q0 .906.562 1.414.57.508 1.594.508 1.016 0 1.586-.508.578-.508.578-1.414 0-.906-.578-1.414-.57-.508-1.586-.508-1.023 0-1.594.508-.562.508-.562 1.414z\" /></g><rect x=\"15\" y=\"330\" width=\"45\" height=\"45\" class=\"square dark a1\" stroke=\"none\" fill=\"#d18b47\" /><rect x=\"60\" y=\"330\" width=\"45\" height=\"45\" class=\"square light b1\" stroke=\"none\" fill=\"#ffce9e\" /><rect x=\"105\" y=\"330\" width=\"45\" height=\"45\" class=\"square dark c1\" stroke=\"none\" fill=\"#d18b47\" /><rect x=\"150\" y=\"330\" width=\"45\" height=\"45\" class=\"square light d1\" stroke=\"none\" fill=\"#ffce9e\" /><rect x=\"195\" y=\"330\" width=\"45\" height=\"45\" class=\"square dark e1\" stroke=\"none\" fill=\"#d18b47\" /><rect x=\"240\" y=\"330\" width=\"45\" height=\"45\" class=\"square light f1\" stroke=\"none\" fill=\"#ffce9e\" /><rect x=\"285\" y=\"330\" width=\"45\" height=\"45\" class=\"square dark g1\" stroke=\"none\" fill=\"#d18b47\" /><rect x=\"330\" y=\"330\" width=\"45\" height=\"45\" class=\"square light h1\" stroke=\"none\" fill=\"#ffce9e\" /><rect x=\"15\" y=\"285\" width=\"45\" height=\"45\" class=\"square light a2\" stroke=\"none\" fill=\"#ffce9e\" /><rect x=\"60\" y=\"285\" width=\"45\" height=\"45\" class=\"square dark b2\" stroke=\"none\" fill=\"#d18b47\" /><rect x=\"105\" y=\"285\" width=\"45\" height=\"45\" class=\"square light c2\" stroke=\"none\" fill=\"#ffce9e\" /><rect x=\"150\" y=\"285\" width=\"45\" height=\"45\" class=\"square dark d2\" stroke=\"none\" fill=\"#d18b47\" /><rect x=\"195\" y=\"285\" width=\"45\" height=\"45\" class=\"square light e2\" stroke=\"none\" fill=\"#ffce9e\" /><rect x=\"240\" y=\"285\" width=\"45\" height=\"45\" class=\"square dark f2\" stroke=\"none\" fill=\"#d18b47\" /><rect x=\"285\" y=\"285\" width=\"45\" height=\"45\" class=\"square light g2\" stroke=\"none\" fill=\"#ffce9e\" /><rect x=\"330\" y=\"285\" width=\"45\" height=\"45\" class=\"square dark h2\" stroke=\"none\" fill=\"#d18b47\" /><rect x=\"15\" y=\"240\" width=\"45\" height=\"45\" class=\"square dark a3\" stroke=\"none\" fill=\"#d18b47\" /><rect x=\"60\" y=\"240\" width=\"45\" height=\"45\" class=\"square light b3\" stroke=\"none\" fill=\"#ffce9e\" /><rect x=\"105\" y=\"240\" width=\"45\" height=\"45\" class=\"square dark c3\" stroke=\"none\" fill=\"#d18b47\" /><rect x=\"150\" y=\"240\" width=\"45\" height=\"45\" class=\"square light d3\" stroke=\"none\" fill=\"#ffce9e\" /><rect x=\"195\" y=\"240\" width=\"45\" height=\"45\" class=\"square dark e3\" stroke=\"none\" fill=\"#d18b47\" /><rect x=\"240\" y=\"240\" width=\"45\" height=\"45\" class=\"square light f3\" stroke=\"none\" fill=\"#ffce9e\" /><rect x=\"285\" y=\"240\" width=\"45\" height=\"45\" class=\"square dark g3\" stroke=\"none\" fill=\"#d18b47\" /><rect x=\"330\" y=\"240\" width=\"45\" height=\"45\" class=\"square light h3\" stroke=\"none\" fill=\"#ffce9e\" /><rect x=\"15\" y=\"195\" width=\"45\" height=\"45\" class=\"square light a4\" stroke=\"none\" fill=\"#ffce9e\" /><rect x=\"60\" y=\"195\" width=\"45\" height=\"45\" class=\"square dark b4\" stroke=\"none\" fill=\"#d18b47\" /><rect x=\"105\" y=\"195\" width=\"45\" height=\"45\" class=\"square light c4\" stroke=\"none\" fill=\"#ffce9e\" /><rect x=\"150\" y=\"195\" width=\"45\" height=\"45\" class=\"square dark d4\" stroke=\"none\" fill=\"#d18b47\" /><rect x=\"195\" y=\"195\" width=\"45\" height=\"45\" class=\"square light e4\" stroke=\"none\" fill=\"#ffce9e\" /><rect x=\"240\" y=\"195\" width=\"45\" height=\"45\" class=\"square dark f4\" stroke=\"none\" fill=\"#d18b47\" /><rect x=\"285\" y=\"195\" width=\"45\" height=\"45\" class=\"square light g4\" stroke=\"none\" fill=\"#ffce9e\" /><rect x=\"330\" y=\"195\" width=\"45\" height=\"45\" class=\"square dark h4\" stroke=\"none\" fill=\"#d18b47\" /><rect x=\"15\" y=\"150\" width=\"45\" height=\"45\" class=\"square dark a5\" stroke=\"none\" fill=\"#d18b47\" /><rect x=\"60\" y=\"150\" width=\"45\" height=\"45\" class=\"square light b5\" stroke=\"none\" fill=\"#ffce9e\" /><rect x=\"105\" y=\"150\" width=\"45\" height=\"45\" class=\"square dark c5\" stroke=\"none\" fill=\"#d18b47\" /><rect x=\"150\" y=\"150\" width=\"45\" height=\"45\" class=\"square light d5\" stroke=\"none\" fill=\"#ffce9e\" /><rect x=\"195\" y=\"150\" width=\"45\" height=\"45\" class=\"square dark e5\" stroke=\"none\" fill=\"#d18b47\" /><rect x=\"240\" y=\"150\" width=\"45\" height=\"45\" class=\"square light f5\" stroke=\"none\" fill=\"#ffce9e\" /><rect x=\"285\" y=\"150\" width=\"45\" height=\"45\" class=\"square dark g5\" stroke=\"none\" fill=\"#d18b47\" /><rect x=\"330\" y=\"150\" width=\"45\" height=\"45\" class=\"square light h5\" stroke=\"none\" fill=\"#ffce9e\" /><rect x=\"15\" y=\"105\" width=\"45\" height=\"45\" class=\"square light a6\" stroke=\"none\" fill=\"#ffce9e\" /><rect x=\"60\" y=\"105\" width=\"45\" height=\"45\" class=\"square dark b6\" stroke=\"none\" fill=\"#d18b47\" /><rect x=\"105\" y=\"105\" width=\"45\" height=\"45\" class=\"square light c6\" stroke=\"none\" fill=\"#ffce9e\" /><rect x=\"150\" y=\"105\" width=\"45\" height=\"45\" class=\"square dark d6\" stroke=\"none\" fill=\"#d18b47\" /><rect x=\"195\" y=\"105\" width=\"45\" height=\"45\" class=\"square light e6\" stroke=\"none\" fill=\"#ffce9e\" /><rect x=\"240\" y=\"105\" width=\"45\" height=\"45\" class=\"square dark f6\" stroke=\"none\" fill=\"#d18b47\" /><rect x=\"285\" y=\"105\" width=\"45\" height=\"45\" class=\"square light g6\" stroke=\"none\" fill=\"#ffce9e\" /><rect x=\"330\" y=\"105\" width=\"45\" height=\"45\" class=\"square dark h6\" stroke=\"none\" fill=\"#d18b47\" /><rect x=\"15\" y=\"60\" width=\"45\" height=\"45\" class=\"square dark a7\" stroke=\"none\" fill=\"#d18b47\" /><rect x=\"60\" y=\"60\" width=\"45\" height=\"45\" class=\"square light b7\" stroke=\"none\" fill=\"#ffce9e\" /><rect x=\"105\" y=\"60\" width=\"45\" height=\"45\" class=\"square dark c7\" stroke=\"none\" fill=\"#d18b47\" /><rect x=\"150\" y=\"60\" width=\"45\" height=\"45\" class=\"square light d7\" stroke=\"none\" fill=\"#ffce9e\" /><rect x=\"195\" y=\"60\" width=\"45\" height=\"45\" class=\"square dark e7\" stroke=\"none\" fill=\"#d18b47\" /><rect x=\"240\" y=\"60\" width=\"45\" height=\"45\" class=\"square light f7\" stroke=\"none\" fill=\"#ffce9e\" /><rect x=\"285\" y=\"60\" width=\"45\" height=\"45\" class=\"square dark g7\" stroke=\"none\" fill=\"#d18b47\" /><rect x=\"330\" y=\"60\" width=\"45\" height=\"45\" class=\"square light h7\" stroke=\"none\" fill=\"#ffce9e\" /><rect x=\"15\" y=\"15\" width=\"45\" height=\"45\" class=\"square light a8\" stroke=\"none\" fill=\"#ffce9e\" /><rect x=\"60\" y=\"15\" width=\"45\" height=\"45\" class=\"square dark b8\" stroke=\"none\" fill=\"#d18b47\" /><rect x=\"105\" y=\"15\" width=\"45\" height=\"45\" class=\"square light c8\" stroke=\"none\" fill=\"#ffce9e\" /><rect x=\"150\" y=\"15\" width=\"45\" height=\"45\" class=\"square dark d8\" stroke=\"none\" fill=\"#d18b47\" /><rect x=\"195\" y=\"15\" width=\"45\" height=\"45\" class=\"square light e8\" stroke=\"none\" fill=\"#ffce9e\" /><rect x=\"240\" y=\"15\" width=\"45\" height=\"45\" class=\"square dark f8\" stroke=\"none\" fill=\"#d18b47\" /><rect x=\"285\" y=\"15\" width=\"45\" height=\"45\" class=\"square light g8\" stroke=\"none\" fill=\"#ffce9e\" /><rect x=\"330\" y=\"15\" width=\"45\" height=\"45\" class=\"square dark h8\" stroke=\"none\" fill=\"#d18b47\" /><rect x=\"240\" y=\"330\" width=\"45\" height=\"45\" class=\"check\" fill=\"url(#check_gradient)\" /><use href=\"#white-rook\" xlink:href=\"#white-rook\" transform=\"translate(15, 330)\" /><use href=\"#white-knight\" xlink:href=\"#white-knight\" transform=\"translate(60, 330)\" /><use href=\"#white-king\" xlink:href=\"#white-king\" transform=\"translate(240, 330)\" /><use href=\"#white-pawn\" xlink:href=\"#white-pawn\" transform=\"translate(15, 285)\" /><use href=\"#white-pawn\" xlink:href=\"#white-pawn\" transform=\"translate(60, 285)\" /><use href=\"#white-pawn\" xlink:href=\"#white-pawn\" transform=\"translate(105, 285)\" /><use href=\"#black-rook\" xlink:href=\"#black-rook\" transform=\"translate(195, 285)\" /><use href=\"#white-pawn\" xlink:href=\"#white-pawn\" transform=\"translate(330, 285)\" /><use href=\"#white-pawn\" xlink:href=\"#white-pawn\" transform=\"translate(285, 240)\" /><use href=\"#black-bishop\" xlink:href=\"#black-bishop\" transform=\"translate(330, 240)\" /><use href=\"#black-pawn\" xlink:href=\"#black-pawn\" transform=\"translate(60, 150)\" /><use href=\"#white-knight\" xlink:href=\"#white-knight\" transform=\"translate(240, 150)\" /><use href=\"#black-king\" xlink:href=\"#black-king\" transform=\"translate(330, 150)\" /><use href=\"#black-pawn\" xlink:href=\"#black-pawn\" transform=\"translate(15, 105)\" /><use href=\"#black-pawn\" xlink:href=\"#black-pawn\" transform=\"translate(105, 105)\" /><use href=\"#white-queen\" xlink:href=\"#white-queen\" transform=\"translate(240, 105)\" /><use href=\"#white-rook\" xlink:href=\"#white-rook\" transform=\"translate(240, 60)\" /><use href=\"#black-pawn\" xlink:href=\"#black-pawn\" transform=\"translate(330, 60)\" /></svg>"
      ],
      "text/plain": [
       "Board('8/5R1p/p1p2Q2/1p3N1k/8/6Pb/PPP1r2P/RN3K2 w - - 5 30')"
      ]
     },
     "execution_count": 250,
     "metadata": {},
     "output_type": "execute_result"
    }
   ],
   "source": [
    "board"
   ]
  },
  {
   "cell_type": "code",
   "execution_count": 251,
   "id": "ac078ff2-02e7-43f2-8201-e56cd86badcf",
   "metadata": {},
   "outputs": [
    {
     "data": {
      "text/plain": [
       "103"
      ]
     },
     "execution_count": 251,
     "metadata": {},
     "output_type": "execute_result"
    }
   ],
   "source": [
    "bad_inds[103]"
   ]
  },
  {
   "cell_type": "code",
   "execution_count": 253,
   "id": "b1c213d2-8ae9-4d35-b86a-4e12632bea30",
   "metadata": {},
   "outputs": [
    {
     "data": {
      "text/html": [
       "<div>\n",
       "<style scoped>\n",
       "    .dataframe tbody tr th:only-of-type {\n",
       "        vertical-align: middle;\n",
       "    }\n",
       "\n",
       "    .dataframe tbody tr th {\n",
       "        vertical-align: top;\n",
       "    }\n",
       "\n",
       "    .dataframe thead th {\n",
       "        text-align: right;\n",
       "    }\n",
       "</style>\n",
       "<table border=\"1\" class=\"dataframe\">\n",
       "  <thead>\n",
       "    <tr style=\"text-align: right;\">\n",
       "      <th></th>\n",
       "      <th>opponent</th>\n",
       "      <th>new_pl_color</th>\n",
       "      <th>new_pl_won</th>\n",
       "      <th>new_pl_elo</th>\n",
       "      <th>opp_elo</th>\n",
       "      <th>new_pl_rating_diff</th>\n",
       "      <th>opp_rating_diff</th>\n",
       "      <th>game_length</th>\n",
       "      <th>time_limit</th>\n",
       "      <th>time_gain_per_move</th>\n",
       "      <th>event</th>\n",
       "      <th>termination</th>\n",
       "      <th>conceded</th>\n",
       "      <th>datetime</th>\n",
       "      <th>timestamp</th>\n",
       "      <th>moves</th>\n",
       "      <th>both_players_1st_game</th>\n",
       "    </tr>\n",
       "    <tr>\n",
       "      <th>name_of_pl_playing_1st_game</th>\n",
       "      <th></th>\n",
       "      <th></th>\n",
       "      <th></th>\n",
       "      <th></th>\n",
       "      <th></th>\n",
       "      <th></th>\n",
       "      <th></th>\n",
       "      <th></th>\n",
       "      <th></th>\n",
       "      <th></th>\n",
       "      <th></th>\n",
       "      <th></th>\n",
       "      <th></th>\n",
       "      <th></th>\n",
       "      <th></th>\n",
       "      <th></th>\n",
       "      <th></th>\n",
       "    </tr>\n",
       "  </thead>\n",
       "  <tbody>\n",
       "    <tr>\n",
       "      <th>nasenhaare2</th>\n",
       "      <td>ecso</td>\n",
       "      <td>White</td>\n",
       "      <td>1.0</td>\n",
       "      <td>1500.0</td>\n",
       "      <td>1240.0</td>\n",
       "      <td>81.0</td>\n",
       "      <td>-4.0</td>\n",
       "      <td>59</td>\n",
       "      <td>300.0</td>\n",
       "      <td>0.0</td>\n",
       "      <td>Blitz</td>\n",
       "      <td>Normal</td>\n",
       "      <td>1</td>\n",
       "      <td>2016-07-14 11:21:15</td>\n",
       "      <td>1.468495e+09</td>\n",
       "      <td>d4 e6 Bf4 d6 Nf3 g5 Bxg5 f6 Bh4 Qe7 e4 c6 Bc4 ...</td>\n",
       "      <td>0</td>\n",
       "    </tr>\n",
       "  </tbody>\n",
       "</table>\n",
       "</div>"
      ],
      "text/plain": [
       "                            opponent new_pl_color  new_pl_won  new_pl_elo  \\\n",
       "name_of_pl_playing_1st_game                                                 \n",
       "nasenhaare2                     ecso        White         1.0      1500.0   \n",
       "\n",
       "                             opp_elo  new_pl_rating_diff  opp_rating_diff  \\\n",
       "name_of_pl_playing_1st_game                                                 \n",
       "nasenhaare2                   1240.0                81.0             -4.0   \n",
       "\n",
       "                             game_length  time_limit  time_gain_per_move  \\\n",
       "name_of_pl_playing_1st_game                                                \n",
       "nasenhaare2                           59       300.0                 0.0   \n",
       "\n",
       "                             event termination  conceded             datetime  \\\n",
       "name_of_pl_playing_1st_game                                                     \n",
       "nasenhaare2                  Blitz      Normal         1  2016-07-14 11:21:15   \n",
       "\n",
       "                                timestamp  \\\n",
       "name_of_pl_playing_1st_game                 \n",
       "nasenhaare2                  1.468495e+09   \n",
       "\n",
       "                                                                         moves  \\\n",
       "name_of_pl_playing_1st_game                                                      \n",
       "nasenhaare2                  d4 e6 Bf4 d6 Nf3 g5 Bxg5 f6 Bh4 Qe7 e4 c6 Bc4 ...   \n",
       "\n",
       "                             both_players_1st_game  \n",
       "name_of_pl_playing_1st_game                         \n",
       "nasenhaare2                                      0  "
      ]
     },
     "execution_count": 253,
     "metadata": {},
     "output_type": "execute_result"
    }
   ],
   "source": [
    "train_1st.iloc[[103]]"
   ]
  },
  {
   "cell_type": "code",
   "execution_count": null,
   "id": "b1cd1ebc-f75a-4133-aaae-13126bc07440",
   "metadata": {},
   "outputs": [],
   "source": []
  },
  {
   "cell_type": "code",
   "execution_count": null,
   "id": "83dfb4ea-5f73-4e77-98da-b1e59273952f",
   "metadata": {},
   "outputs": [],
   "source": []
  },
  {
   "cell_type": "code",
   "execution_count": 308,
   "id": "6d9b0f74-7ea1-49ca-9462-69a87372ba0d",
   "metadata": {},
   "outputs": [],
   "source": [
    "def check_same_moves_simon(game_number, df):\n",
    "    '''\n",
    "    Input:\n",
    "    -game_number: The number of a text file containing a dictionary of Stockfish evaluations\n",
    "    for a single game\n",
    "    -df: A dataframe, such as \"train_1st\" or \"test_1st\" or \"val_1st\"\n",
    "    \n",
    "    Checks if this text file does indeed correspond to the game in row game_number of the\n",
    "    dataframe df.\n",
    "    That dataframe must contain a column called \"moves\" that is a space-separated string\n",
    "    of the moves made in that game.  The check is made by going through all the moves and\n",
    "    checking that the resulting positions' FEN strings are the same as those in the\n",
    "    dictionary.\n",
    "    Returns True if everything matches up; returns False otherwise.\n",
    "    '''\n",
    "    #Read in the text file as a dictionary\n",
    "    game = eval(open(f\"../data/stockfish_evals/simon_trial/game{game_number}.txt\").read())\n",
    "    \n",
    "    #Make a list of the moves in the game\n",
    "    moves = df.iloc[game_number]['moves'].split(' ')\n",
    "    \n",
    "    #Initialize a chess Board\n",
    "    board = chess.Board()\n",
    "    \n",
    "    #Check if the initial board position is the same as the one recorded in the dictionary\n",
    "    same = (board.fen() == game[0]['fen'])\n",
    "    \n",
    "    for i, move in enumerate(moves):\n",
    "        #If you've just encountered a position that is not the same as the one\n",
    "        #recorded in the dictionary, then stop checking\n",
    "        if not same:\n",
    "            break\n",
    "            \n",
    "        #If this is the last move of the game, then there won't be a \"next board position\"\n",
    "        #to evaluate.  Skip it.\n",
    "        if i == len(moves)-1:\n",
    "            continue\n",
    "        \n",
    "        #Otherwise, make the next move...\n",
    "        board.push_san(move)\n",
    "        position = board.fen()\n",
    "        #... and check if the position matches the one in the dictionary after this move\n",
    "        same = (position == game[i+1]['fen'])\n",
    "    \n",
    "    #This should be True if all positions achieved in the game are the same as those\n",
    "    #that appear in the dictionary\n",
    "    return same"
   ]
  },
  {
   "cell_type": "code",
   "execution_count": 310,
   "id": "b0ed86ed-6c8a-4c04-bf3d-4496243e2622",
   "metadata": {},
   "outputs": [],
   "source": [
    "for i in bad_inds:\n",
    "    if not check_same_moves_simon(i, train_1st):\n",
    "        print(f\"Bad game: {i}\")"
   ]
  },
  {
   "cell_type": "code",
   "execution_count": null,
   "id": "3f5c80d3-5515-4841-91e8-98ab89d7e2a3",
   "metadata": {},
   "outputs": [],
   "source": [
    "for i in bad_inds"
   ]
  },
  {
   "cell_type": "code",
   "execution_count": 313,
   "id": "92d6b392-c9de-4ce0-8478-c0fc1f40b722",
   "metadata": {},
   "outputs": [
    {
     "data": {
      "text/plain": [
       "20420"
      ]
     },
     "execution_count": 313,
     "metadata": {},
     "output_type": "execute_result"
    }
   ],
   "source": [
    "len(os.listdir('../data/stockfish_evals/train'))"
   ]
  },
  {
   "cell_type": "code",
   "execution_count": null,
   "id": "15bfeac3-e6dd-42c3-b395-3e07e23fc4c1",
   "metadata": {},
   "outputs": [],
   "source": []
  }
 ],
 "metadata": {
  "kernelspec": {
   "display_name": "Python 3 (ipykernel)",
   "language": "python",
   "name": "python3"
  },
  "language_info": {
   "codemirror_mode": {
    "name": "ipython",
    "version": 3
   },
   "file_extension": ".py",
   "mimetype": "text/x-python",
   "name": "python",
   "nbconvert_exporter": "python",
   "pygments_lexer": "ipython3",
   "version": "3.9.16"
  }
 },
 "nbformat": 4,
 "nbformat_minor": 5
}
