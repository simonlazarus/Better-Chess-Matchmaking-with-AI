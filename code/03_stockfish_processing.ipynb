{
 "cells": [
  {
   "cell_type": "markdown",
   "id": "2bbd93a0-6223-45fa-b641-a16f3be9b4d8",
   "metadata": {},
   "source": [
    "# Before running this notebook:"
   ]
  },
  {
   "cell_type": "markdown",
   "id": "cc635391-026d-4596-9480-a1f6c2895da4",
   "metadata": {},
   "source": [
    "Using your own machine or ideally a virtual machine with many cores, open the `parallelizing.py` [script to parallel-compute the Stockfish scores for all of the games](./parallelizing.py).  Follow the instructions written in the comments at the top of that script; you will have to edit indicated parameters.  Run the script on your (vitrual) machine.  (Our project used a virtual machine with 94 cores and this step took a little over 24 hours.)\n",
    "\n",
    "This script uses Stockfish to evaluate all of the positions achieved in all of the games in our training, test, and validation data sets of first games played by new players.  For each game, it also has Stockfish compute the \"top 10 moves\" for the new player on each of that player's turns.  Finally, for each individual game, it saves a `.txt` file representing a dictionary containing these pieces of information from that game (along with the FEN strings representing the positions achieved in that game).  For example, the file `game123.txt` in the `data/sf_evals/train` folder contains all the information from the game in the 123rd row of the `train_1st.csv` dataset produced in the [last notebook](./02_data_preparing.ipynb)."
   ]
  },
  {
   "cell_type": "markdown",
   "id": "82b13756-216b-4653-b6ab-5c292b4c008b",
   "metadata": {},
   "source": [
    "# Summary of this notebook"
   ]
  },
  {
   "cell_type": "markdown",
   "id": "f36f1ba4-21c5-42dd-8cf3-248e17c08b26",
   "metadata": {},
   "source": [
    "In this notebook, we read in the `.txt` files containing the information that Stockfish computed about each of the games in our `train_1st.csv`, `test_1st.csv` and `val_1st.csv` datasets of first games of the new players.  We verify that the board positions referenced in these `.txt` files match those in the games to which they are supposed to correspond.  Then, for each of the training, test, and validation data kinds, we combine the evaluations-of-new-players'-moves-in-their-first-games data from the `.txt` files with the non-move-related data in the other datasets, outputting a single dictionary (stored as a text file).\n",
    "\n",
    "For example, we combine the `.txt` files in the `train` folder with the information in `train_1st.csv`, `train_2nd.csv` and `train_opp.csv` to create a single file `train.txt` (and a less memory-intensive pickled file `train.pcl`) that contains all the information we will use in modeling the outcome of the new players' 2nd games.  We do similarly for the test and validation data."
   ]
  },
  {
   "cell_type": "code",
   "execution_count": 77,
   "id": "99fa7538-135f-49cc-bb94-c09af71ed7ed",
   "metadata": {},
   "outputs": [],
   "source": [
    "import pandas as pd\n",
    "import numpy as np\n",
    "\n",
    "import chess\n",
    "from stockfish import Stockfish\n",
    "\n",
    "import pickle"
   ]
  },
  {
   "cell_type": "code",
   "execution_count": 2,
   "id": "2569f3b5-8eb1-496b-ba3d-50e0aa3a54fe",
   "metadata": {},
   "outputs": [],
   "source": [
    "# CHANGE THIS CELL TO POINT TO THE STOCKFISH APP INSTALLED ON YOUR MACHINE\n",
    "stockfish_path = '/opt/homebrew/bin/stockfish'"
   ]
  },
  {
   "cell_type": "markdown",
   "id": "0d96c8a4-742d-4dc1-9aab-84bf3c1571e8",
   "metadata": {},
   "source": [
    "# Read in the games"
   ]
  },
  {
   "cell_type": "markdown",
   "id": "189f3128-bacf-4e44-9eb1-99a52d51c155",
   "metadata": {},
   "source": [
    "## Read in the CSVs without the Stockfish evaluations"
   ]
  },
  {
   "cell_type": "code",
   "execution_count": 3,
   "id": "413f6e37-5beb-4bdb-a718-d47f07f1220b",
   "metadata": {},
   "outputs": [],
   "source": [
    "train_1st = pd.read_csv('../data/processed/train/train_1st.csv', index_col='name_of_pl_playing_1st_game')\n",
    "test_1st = pd.read_csv('../data/processed/test/test_1st.csv', index_col='name_of_pl_playing_1st_game')\n",
    "val_1st = pd.read_csv('../data/processed/val/val_1st.csv', index_col='name_of_pl_playing_1st_game')\n",
    "\n",
    "train_2nd = pd.read_csv('../data/processed/train/train_2nd.csv', index_col='name_of_pl_playing_2nd_game')\n",
    "test_2nd = pd.read_csv('../data/processed/test/test_2nd.csv', index_col='name_of_pl_playing_2nd_game')\n",
    "val_2nd = pd.read_csv('../data/processed/val/val_2nd.csv', index_col='name_of_pl_playing_2nd_game')\n",
    "\n",
    "train_opp = pd.read_csv('../data/processed/train/train_opp.csv', index_col='new_pl_to_be_played_next_game')\n",
    "test_opp = pd.read_csv('../data/processed/test/test_opp.csv', index_col='new_pl_to_be_played_next_game')\n",
    "val_opp = pd.read_csv('../data/processed/val/val_opp.csv', index_col='new_pl_to_be_played_next_game')"
   ]
  },
  {
   "cell_type": "markdown",
   "id": "765b2055-f856-45e6-b5cd-08f40fae39a6",
   "metadata": {},
   "source": [
    "#### Look at the first rows of some of these"
   ]
  },
  {
   "cell_type": "code",
   "execution_count": 4,
   "id": "29b51c11-1a1f-4e10-be49-e402e6a947ec",
   "metadata": {},
   "outputs": [
    {
     "data": {
      "text/html": [
       "<div>\n",
       "<style scoped>\n",
       "    .dataframe tbody tr th:only-of-type {\n",
       "        vertical-align: middle;\n",
       "    }\n",
       "\n",
       "    .dataframe tbody tr th {\n",
       "        vertical-align: top;\n",
       "    }\n",
       "\n",
       "    .dataframe thead th {\n",
       "        text-align: right;\n",
       "    }\n",
       "</style>\n",
       "<table border=\"1\" class=\"dataframe\">\n",
       "  <thead>\n",
       "    <tr style=\"text-align: right;\">\n",
       "      <th></th>\n",
       "      <th>opponent</th>\n",
       "      <th>new_pl_color</th>\n",
       "      <th>new_pl_won</th>\n",
       "      <th>new_pl_elo</th>\n",
       "      <th>opp_elo</th>\n",
       "      <th>new_pl_rating_diff</th>\n",
       "      <th>opp_rating_diff</th>\n",
       "      <th>game_length</th>\n",
       "      <th>time_limit</th>\n",
       "      <th>time_gain_per_move</th>\n",
       "      <th>event</th>\n",
       "      <th>termination</th>\n",
       "      <th>conceded</th>\n",
       "      <th>datetime</th>\n",
       "      <th>timestamp</th>\n",
       "      <th>moves</th>\n",
       "      <th>both_players_1st_game</th>\n",
       "    </tr>\n",
       "    <tr>\n",
       "      <th>name_of_pl_playing_1st_game</th>\n",
       "      <th></th>\n",
       "      <th></th>\n",
       "      <th></th>\n",
       "      <th></th>\n",
       "      <th></th>\n",
       "      <th></th>\n",
       "      <th></th>\n",
       "      <th></th>\n",
       "      <th></th>\n",
       "      <th></th>\n",
       "      <th></th>\n",
       "      <th></th>\n",
       "      <th></th>\n",
       "      <th></th>\n",
       "      <th></th>\n",
       "      <th></th>\n",
       "      <th></th>\n",
       "    </tr>\n",
       "  </thead>\n",
       "  <tbody>\n",
       "    <tr>\n",
       "      <th>SsAaRrAa</th>\n",
       "      <td>sanchetta</td>\n",
       "      <td>White</td>\n",
       "      <td>1.0</td>\n",
       "      <td>1500.0</td>\n",
       "      <td>1498.0</td>\n",
       "      <td>177.0</td>\n",
       "      <td>-8.0</td>\n",
       "      <td>32</td>\n",
       "      <td>1500.0</td>\n",
       "      <td>0.0</td>\n",
       "      <td>Classical</td>\n",
       "      <td>Normal</td>\n",
       "      <td>1</td>\n",
       "      <td>2016-07-05 17:24:10</td>\n",
       "      <td>1.467739e+09</td>\n",
       "      <td>e4 g5 d4 e6 Nf3 Bh6 Nc3 d6 Bc4 e5 d5 g4 Nd2 Nf...</td>\n",
       "      <td>0</td>\n",
       "    </tr>\n",
       "  </tbody>\n",
       "</table>\n",
       "</div>"
      ],
      "text/plain": [
       "                              opponent new_pl_color  new_pl_won  new_pl_elo  \\\n",
       "name_of_pl_playing_1st_game                                                   \n",
       "SsAaRrAa                     sanchetta        White         1.0      1500.0   \n",
       "\n",
       "                             opp_elo  new_pl_rating_diff  opp_rating_diff  \\\n",
       "name_of_pl_playing_1st_game                                                 \n",
       "SsAaRrAa                      1498.0               177.0             -8.0   \n",
       "\n",
       "                             game_length  time_limit  time_gain_per_move  \\\n",
       "name_of_pl_playing_1st_game                                                \n",
       "SsAaRrAa                              32      1500.0                 0.0   \n",
       "\n",
       "                                 event termination  conceded  \\\n",
       "name_of_pl_playing_1st_game                                    \n",
       "SsAaRrAa                     Classical      Normal         1   \n",
       "\n",
       "                                        datetime     timestamp  \\\n",
       "name_of_pl_playing_1st_game                                      \n",
       "SsAaRrAa                     2016-07-05 17:24:10  1.467739e+09   \n",
       "\n",
       "                                                                         moves  \\\n",
       "name_of_pl_playing_1st_game                                                      \n",
       "SsAaRrAa                     e4 g5 d4 e6 Nf3 Bh6 Nc3 d6 Bc4 e5 d5 g4 Nd2 Nf...   \n",
       "\n",
       "                             both_players_1st_game  \n",
       "name_of_pl_playing_1st_game                         \n",
       "SsAaRrAa                                         0  "
      ]
     },
     "execution_count": 4,
     "metadata": {},
     "output_type": "execute_result"
    }
   ],
   "source": [
    "test_1st.head(1)"
   ]
  },
  {
   "cell_type": "code",
   "execution_count": 5,
   "id": "9e89c3b1-7d27-498a-8855-d3a714a63c2a",
   "metadata": {},
   "outputs": [
    {
     "data": {
      "text/html": [
       "<div>\n",
       "<style scoped>\n",
       "    .dataframe tbody tr th:only-of-type {\n",
       "        vertical-align: middle;\n",
       "    }\n",
       "\n",
       "    .dataframe tbody tr th {\n",
       "        vertical-align: top;\n",
       "    }\n",
       "\n",
       "    .dataframe thead th {\n",
       "        text-align: right;\n",
       "    }\n",
       "</style>\n",
       "<table border=\"1\" class=\"dataframe\">\n",
       "  <thead>\n",
       "    <tr style=\"text-align: right;\">\n",
       "      <th></th>\n",
       "      <th>opponent</th>\n",
       "      <th>new_pl_color</th>\n",
       "      <th>new_pl_won</th>\n",
       "      <th>new_pl_elo</th>\n",
       "      <th>opp_elo</th>\n",
       "      <th>new_pl_rating_diff</th>\n",
       "      <th>opp_rating_diff</th>\n",
       "      <th>game_length</th>\n",
       "      <th>time_limit</th>\n",
       "      <th>time_gain_per_move</th>\n",
       "      <th>event</th>\n",
       "      <th>termination</th>\n",
       "      <th>conceded</th>\n",
       "      <th>datetime</th>\n",
       "      <th>timestamp</th>\n",
       "      <th>moves</th>\n",
       "      <th>both_players_2nd_game</th>\n",
       "    </tr>\n",
       "    <tr>\n",
       "      <th>name_of_pl_playing_2nd_game</th>\n",
       "      <th></th>\n",
       "      <th></th>\n",
       "      <th></th>\n",
       "      <th></th>\n",
       "      <th></th>\n",
       "      <th></th>\n",
       "      <th></th>\n",
       "      <th></th>\n",
       "      <th></th>\n",
       "      <th></th>\n",
       "      <th></th>\n",
       "      <th></th>\n",
       "      <th></th>\n",
       "      <th></th>\n",
       "      <th></th>\n",
       "      <th></th>\n",
       "      <th></th>\n",
       "    </tr>\n",
       "  </thead>\n",
       "  <tbody>\n",
       "    <tr>\n",
       "      <th>noobstyle</th>\n",
       "      <td>puffknuckle</td>\n",
       "      <td>Black</td>\n",
       "      <td>1.0</td>\n",
       "      <td>1672.0</td>\n",
       "      <td>1633.0</td>\n",
       "      <td>105.0</td>\n",
       "      <td>-8.0</td>\n",
       "      <td>22</td>\n",
       "      <td>600.0</td>\n",
       "      <td>0.0</td>\n",
       "      <td>Classical</td>\n",
       "      <td>Normal</td>\n",
       "      <td>0</td>\n",
       "      <td>2016-07-26 19:20:59</td>\n",
       "      <td>1.469561e+09</td>\n",
       "      <td>e4 e5 d3 Nc6 Ne2 d5 exd5 Qxd5 c4 Qa5+ Bd2 Qb6 ...</td>\n",
       "      <td>0</td>\n",
       "    </tr>\n",
       "  </tbody>\n",
       "</table>\n",
       "</div>"
      ],
      "text/plain": [
       "                                opponent new_pl_color  new_pl_won  new_pl_elo  \\\n",
       "name_of_pl_playing_2nd_game                                                     \n",
       "noobstyle                    puffknuckle        Black         1.0      1672.0   \n",
       "\n",
       "                             opp_elo  new_pl_rating_diff  opp_rating_diff  \\\n",
       "name_of_pl_playing_2nd_game                                                 \n",
       "noobstyle                     1633.0               105.0             -8.0   \n",
       "\n",
       "                             game_length  time_limit  time_gain_per_move  \\\n",
       "name_of_pl_playing_2nd_game                                                \n",
       "noobstyle                             22       600.0                 0.0   \n",
       "\n",
       "                                 event termination  conceded  \\\n",
       "name_of_pl_playing_2nd_game                                    \n",
       "noobstyle                    Classical      Normal         0   \n",
       "\n",
       "                                        datetime     timestamp  \\\n",
       "name_of_pl_playing_2nd_game                                      \n",
       "noobstyle                    2016-07-26 19:20:59  1.469561e+09   \n",
       "\n",
       "                                                                         moves  \\\n",
       "name_of_pl_playing_2nd_game                                                      \n",
       "noobstyle                    e4 e5 d3 Nc6 Ne2 d5 exd5 Qxd5 c4 Qa5+ Bd2 Qb6 ...   \n",
       "\n",
       "                             both_players_2nd_game  \n",
       "name_of_pl_playing_2nd_game                         \n",
       "noobstyle                                        0  "
      ]
     },
     "execution_count": 5,
     "metadata": {},
     "output_type": "execute_result"
    }
   ],
   "source": [
    "val_2nd.head(1)"
   ]
  },
  {
   "cell_type": "code",
   "execution_count": 6,
   "id": "7a0b6569-2d69-4c55-b904-7cd36026414d",
   "metadata": {},
   "outputs": [
    {
     "data": {
      "text/html": [
       "<div>\n",
       "<style scoped>\n",
       "    .dataframe tbody tr th:only-of-type {\n",
       "        vertical-align: middle;\n",
       "    }\n",
       "\n",
       "    .dataframe tbody tr th {\n",
       "        vertical-align: top;\n",
       "    }\n",
       "\n",
       "    .dataframe thead th {\n",
       "        text-align: right;\n",
       "    }\n",
       "</style>\n",
       "<table border=\"1\" class=\"dataframe\">\n",
       "  <thead>\n",
       "    <tr style=\"text-align: right;\">\n",
       "      <th></th>\n",
       "      <th>opp_of_new_pl</th>\n",
       "      <th>opp_of_opp</th>\n",
       "      <th>opp_color</th>\n",
       "      <th>opp_won</th>\n",
       "      <th>opp_elo</th>\n",
       "      <th>opp_opp_elo</th>\n",
       "      <th>opp_rating_diff</th>\n",
       "      <th>opp_opp_rating_diff</th>\n",
       "      <th>game_length</th>\n",
       "      <th>time_limit</th>\n",
       "      <th>time_gain_per_move</th>\n",
       "      <th>event</th>\n",
       "      <th>termination</th>\n",
       "      <th>conceded</th>\n",
       "      <th>datetime</th>\n",
       "      <th>timestamp</th>\n",
       "      <th>moves</th>\n",
       "      <th>both_users_to_play_new_pl_next</th>\n",
       "      <th>2nd_game_opp_had_no_previous_game</th>\n",
       "    </tr>\n",
       "    <tr>\n",
       "      <th>new_pl_to_be_played_next_game</th>\n",
       "      <th></th>\n",
       "      <th></th>\n",
       "      <th></th>\n",
       "      <th></th>\n",
       "      <th></th>\n",
       "      <th></th>\n",
       "      <th></th>\n",
       "      <th></th>\n",
       "      <th></th>\n",
       "      <th></th>\n",
       "      <th></th>\n",
       "      <th></th>\n",
       "      <th></th>\n",
       "      <th></th>\n",
       "      <th></th>\n",
       "      <th></th>\n",
       "      <th></th>\n",
       "      <th></th>\n",
       "      <th></th>\n",
       "    </tr>\n",
       "  </thead>\n",
       "  <tbody>\n",
       "    <tr>\n",
       "      <th>SAKATBIRAKAN</th>\n",
       "      <td>kami1946</td>\n",
       "      <td>TD9174</td>\n",
       "      <td>Black</td>\n",
       "      <td>0.0</td>\n",
       "      <td>1612.0</td>\n",
       "      <td>1882.0</td>\n",
       "      <td>-4.0</td>\n",
       "      <td>4.0</td>\n",
       "      <td>55</td>\n",
       "      <td>300.0</td>\n",
       "      <td>4.0</td>\n",
       "      <td>Blitz</td>\n",
       "      <td>Normal</td>\n",
       "      <td>1</td>\n",
       "      <td>2016-07-13 19:56:06</td>\n",
       "      <td>1.468440e+09</td>\n",
       "      <td>e4 b6 d4 Bb7 d5 c5 c4 d6 Bd3 Nf6 Nc3 Bc8 h3 Nb...</td>\n",
       "      <td>0</td>\n",
       "      <td>0</td>\n",
       "    </tr>\n",
       "  </tbody>\n",
       "</table>\n",
       "</div>"
      ],
      "text/plain": [
       "                              opp_of_new_pl opp_of_opp opp_color  opp_won  \\\n",
       "new_pl_to_be_played_next_game                                               \n",
       "SAKATBIRAKAN                       kami1946     TD9174     Black      0.0   \n",
       "\n",
       "                               opp_elo  opp_opp_elo  opp_rating_diff  \\\n",
       "new_pl_to_be_played_next_game                                          \n",
       "SAKATBIRAKAN                    1612.0       1882.0             -4.0   \n",
       "\n",
       "                               opp_opp_rating_diff  game_length  time_limit  \\\n",
       "new_pl_to_be_played_next_game                                                 \n",
       "SAKATBIRAKAN                                   4.0           55       300.0   \n",
       "\n",
       "                               time_gain_per_move  event termination  \\\n",
       "new_pl_to_be_played_next_game                                          \n",
       "SAKATBIRAKAN                                  4.0  Blitz      Normal   \n",
       "\n",
       "                               conceded             datetime     timestamp  \\\n",
       "new_pl_to_be_played_next_game                                                \n",
       "SAKATBIRAKAN                          1  2016-07-13 19:56:06  1.468440e+09   \n",
       "\n",
       "                                                                           moves  \\\n",
       "new_pl_to_be_played_next_game                                                      \n",
       "SAKATBIRAKAN                   e4 b6 d4 Bb7 d5 c5 c4 d6 Bd3 Nf6 Nc3 Bc8 h3 Nb...   \n",
       "\n",
       "                               both_users_to_play_new_pl_next  \\\n",
       "new_pl_to_be_played_next_game                                   \n",
       "SAKATBIRAKAN                                                0   \n",
       "\n",
       "                               2nd_game_opp_had_no_previous_game  \n",
       "new_pl_to_be_played_next_game                                     \n",
       "SAKATBIRAKAN                                                   0  "
      ]
     },
     "execution_count": 6,
     "metadata": {},
     "output_type": "execute_result"
    }
   ],
   "source": [
    "train_opp.head(1)"
   ]
  },
  {
   "cell_type": "markdown",
   "id": "eeb7784d-f768-4379-afc1-68cd0be973bc",
   "metadata": {},
   "source": [
    "## Read a single game's Stockfish evaluations from a text file"
   ]
  },
  {
   "cell_type": "code",
   "execution_count": 7,
   "id": "f0513491-268d-477a-afae-b5f6dfdeca50",
   "metadata": {},
   "outputs": [],
   "source": [
    "#Dictionary of dataframes without Stockfish evaluations\n",
    "dfs_dict = {\n",
    "   'train':train_1st,\n",
    "    'test':test_1st,\n",
    "     'val':val_1st\n",
    "}\n",
    "\n",
    "#Dictionary of paths to text files with stockfish evaluations\n",
    "stockfish_paths_dict = {\n",
    "   'train':'../data/sf_evals/train',\n",
    "    'test':'../data/sf_evals/test',\n",
    "     'val':'../data/sf_evals/val'\n",
    "}"
   ]
  },
  {
   "cell_type": "code",
   "execution_count": 8,
   "id": "8352e3bc-5a8a-4da5-876f-edf34c7da7a6",
   "metadata": {},
   "outputs": [],
   "source": [
    "#Read a single game's Stockfish evaluations as a dictionary\n",
    "example_game_number = 1234\n",
    "example_kind = 'train'\n",
    "example_game = eval(open(f\"{stockfish_paths_dict[example_kind]}/game{example_game_number}.txt\").read())"
   ]
  },
  {
   "cell_type": "code",
   "execution_count": 9,
   "id": "5b75af2e-ba9b-4c1b-b82a-617124e44f63",
   "metadata": {},
   "outputs": [
    {
     "data": {
      "text/plain": [
       "{'eval': {'type': 'cp', 'value': 64},\n",
       " 'fen': 'rnbqkbnr/pppppppp/8/8/8/8/PPPPPPPP/RNBQKBNR w KQkq - 0 1'}"
      ]
     },
     "execution_count": 9,
     "metadata": {},
     "output_type": "execute_result"
    }
   ],
   "source": [
    "#Look at the first move\n",
    "example_game[0]"
   ]
  },
  {
   "cell_type": "code",
   "execution_count": 10,
   "id": "9746b77a-f898-4fdd-8ec1-2700019a5976",
   "metadata": {},
   "outputs": [
    {
     "data": {
      "text/plain": [
       "{'eval': {'type': 'cp', 'value': 45},\n",
       " 'fen': 'rnbqkbnr/pppppppp/8/8/4P3/8/PPPP1PPP/RNBQKBNR b KQkq - 0 1',\n",
       " 'top_10': [{'Move': 'c7c5', 'Centipawn': 40, 'Mate': None},\n",
       "  {'Move': 'e7e5', 'Centipawn': 56, 'Mate': None},\n",
       "  {'Move': 'e7e6', 'Centipawn': 59, 'Mate': None},\n",
       "  {'Move': 'b8c6', 'Centipawn': 70, 'Mate': None},\n",
       "  {'Move': 'd7d6', 'Centipawn': 83, 'Mate': None},\n",
       "  {'Move': 'd7d5', 'Centipawn': 85, 'Mate': None},\n",
       "  {'Move': 'c7c6', 'Centipawn': 89, 'Mate': None},\n",
       "  {'Move': 'h7h6', 'Centipawn': 91, 'Mate': None},\n",
       "  {'Move': 'a7a6', 'Centipawn': 94, 'Mate': None},\n",
       "  {'Move': 'h7h5', 'Centipawn': 132, 'Mate': None}]}"
      ]
     },
     "execution_count": 10,
     "metadata": {},
     "output_type": "execute_result"
    }
   ],
   "source": [
    "#Look at the second move\n",
    "example_game[1]"
   ]
  },
  {
   "cell_type": "markdown",
   "id": "14ca5f73-8f87-4901-b37d-8ce2839b5896",
   "metadata": {},
   "source": [
    "As we can see, this example game is one where the new player is playing Black: our script only recorded the \"top 10 moves\" for each of the *new player's* turns.  Let's verify that this is correct, though:"
   ]
  },
  {
   "cell_type": "markdown",
   "id": "3795d07c-9b2f-4c47-a56e-2b961cf02208",
   "metadata": {},
   "source": [
    "### Match the Stockfish evaluations to the new player whose game they came from"
   ]
  },
  {
   "cell_type": "code",
   "execution_count": 11,
   "id": "7ae2b8ce-6d46-45ad-b42b-1f060e91a038",
   "metadata": {},
   "outputs": [
    {
     "data": {
      "text/html": [
       "<div>\n",
       "<style scoped>\n",
       "    .dataframe tbody tr th:only-of-type {\n",
       "        vertical-align: middle;\n",
       "    }\n",
       "\n",
       "    .dataframe tbody tr th {\n",
       "        vertical-align: top;\n",
       "    }\n",
       "\n",
       "    .dataframe thead th {\n",
       "        text-align: right;\n",
       "    }\n",
       "</style>\n",
       "<table border=\"1\" class=\"dataframe\">\n",
       "  <thead>\n",
       "    <tr style=\"text-align: right;\">\n",
       "      <th></th>\n",
       "      <th>opponent</th>\n",
       "      <th>new_pl_color</th>\n",
       "      <th>new_pl_won</th>\n",
       "      <th>new_pl_elo</th>\n",
       "      <th>opp_elo</th>\n",
       "      <th>new_pl_rating_diff</th>\n",
       "      <th>opp_rating_diff</th>\n",
       "      <th>game_length</th>\n",
       "      <th>time_limit</th>\n",
       "      <th>time_gain_per_move</th>\n",
       "      <th>event</th>\n",
       "      <th>termination</th>\n",
       "      <th>conceded</th>\n",
       "      <th>datetime</th>\n",
       "      <th>timestamp</th>\n",
       "      <th>moves</th>\n",
       "      <th>both_players_1st_game</th>\n",
       "    </tr>\n",
       "    <tr>\n",
       "      <th>name_of_pl_playing_1st_game</th>\n",
       "      <th></th>\n",
       "      <th></th>\n",
       "      <th></th>\n",
       "      <th></th>\n",
       "      <th></th>\n",
       "      <th></th>\n",
       "      <th></th>\n",
       "      <th></th>\n",
       "      <th></th>\n",
       "      <th></th>\n",
       "      <th></th>\n",
       "      <th></th>\n",
       "      <th></th>\n",
       "      <th></th>\n",
       "      <th></th>\n",
       "      <th></th>\n",
       "      <th></th>\n",
       "    </tr>\n",
       "  </thead>\n",
       "  <tbody>\n",
       "    <tr>\n",
       "      <th>boedoet10</th>\n",
       "      <td>Nanas</td>\n",
       "      <td>Black</td>\n",
       "      <td>0.0</td>\n",
       "      <td>1500.0</td>\n",
       "      <td>1908.0</td>\n",
       "      <td>-48.0</td>\n",
       "      <td>4.0</td>\n",
       "      <td>105</td>\n",
       "      <td>300.0</td>\n",
       "      <td>0.0</td>\n",
       "      <td>Blitz</td>\n",
       "      <td>Time forfeit</td>\n",
       "      <td>1</td>\n",
       "      <td>2016-07-16 05:32:47</td>\n",
       "      <td>1.468647e+09</td>\n",
       "      <td>e4 e5 Bc4 c6 Qe2 d5 exd5 cxd5 Qxe5+ Be6 Bb5+ N...</td>\n",
       "      <td>0</td>\n",
       "    </tr>\n",
       "  </tbody>\n",
       "</table>\n",
       "</div>"
      ],
      "text/plain": [
       "                            opponent new_pl_color  new_pl_won  new_pl_elo  \\\n",
       "name_of_pl_playing_1st_game                                                 \n",
       "boedoet10                      Nanas        Black         0.0      1500.0   \n",
       "\n",
       "                             opp_elo  new_pl_rating_diff  opp_rating_diff  \\\n",
       "name_of_pl_playing_1st_game                                                 \n",
       "boedoet10                     1908.0               -48.0              4.0   \n",
       "\n",
       "                             game_length  time_limit  time_gain_per_move  \\\n",
       "name_of_pl_playing_1st_game                                                \n",
       "boedoet10                            105       300.0                 0.0   \n",
       "\n",
       "                             event   termination  conceded  \\\n",
       "name_of_pl_playing_1st_game                                  \n",
       "boedoet10                    Blitz  Time forfeit         1   \n",
       "\n",
       "                                        datetime     timestamp  \\\n",
       "name_of_pl_playing_1st_game                                      \n",
       "boedoet10                    2016-07-16 05:32:47  1.468647e+09   \n",
       "\n",
       "                                                                         moves  \\\n",
       "name_of_pl_playing_1st_game                                                      \n",
       "boedoet10                    e4 e5 Bc4 c6 Qe2 d5 exd5 cxd5 Qxe5+ Be6 Bb5+ N...   \n",
       "\n",
       "                             both_players_1st_game  \n",
       "name_of_pl_playing_1st_game                         \n",
       "boedoet10                                        0  "
      ]
     },
     "execution_count": 11,
     "metadata": {},
     "output_type": "execute_result"
    }
   ],
   "source": [
    "#Find the row whose number is the same as the number in the imported text file's name\n",
    "dfs_dict[example_kind].iloc[[example_game_number]]"
   ]
  },
  {
   "cell_type": "markdown",
   "id": "90c0272c-d5cc-4cb0-9d85-433b936cb587",
   "metadata": {},
   "source": [
    "As we can see, this new player was indeed playing Black.  Furthermore, let's verify that all the moves made in this game result in the same positions as recorded in the imported dictionary (in the form of FEN strings):"
   ]
  },
  {
   "cell_type": "code",
   "execution_count": 12,
   "id": "9418bff3-ea30-4cc9-9b2f-de3a372791f1",
   "metadata": {},
   "outputs": [],
   "source": [
    "def check_same_moves(game_number, kind):\n",
    "    '''\n",
    "    Input:\n",
    "    -game_number: The number of a text file containing a dictionary of Stockfish evaluations\n",
    "    for a single game\n",
    "    -kind: A string 'train', 'test' or 'val'\n",
    "    \n",
    "    Checks if this text file does indeed correspond to the game in row game_number of the\n",
    "    dataframe of the specified kind.\n",
    "    The check is made by going through all the moves and checking that the resulting\n",
    "    positions' FEN strings are the same as those in the dictionary.\n",
    "    Returns True if everything matches up; returns False otherwise.\n",
    "    '''\n",
    "    #Read in the text file as a dictionary\n",
    "    game = eval(open(f\"{stockfish_paths_dict[kind]}/game{game_number}.txt\").read())\n",
    "    \n",
    "    #Select the correct dataframe\n",
    "    df = dfs_dict[kind]\n",
    "    \n",
    "    #Make a list of the moves in the game\n",
    "    moves = df.iloc[game_number]['moves'].split(' ')\n",
    "    \n",
    "    #Initialize a chess Board\n",
    "    board = chess.Board()\n",
    "    \n",
    "    #Check if the initial board position is the same as the one recorded in the dictionary\n",
    "    same = (board.fen() == game[0]['fen'])\n",
    "    \n",
    "    for i, move in enumerate(moves):\n",
    "        #If you've just encountered a position that is not the same as the one\n",
    "        #recorded in the dictionary, then stop checking\n",
    "        if not same:\n",
    "            break\n",
    "        \n",
    "        #Otherwise, make the next move...\n",
    "        board.push_san(move)\n",
    "        position = board.fen()\n",
    "        #... and check if the position matches the one in the dictionary after this move\n",
    "        same = (position == game[i+1]['fen'])\n",
    "    \n",
    "    #This should be True if all positions achieved in the game are the same as those\n",
    "    #that appear in the dictionary\n",
    "    return same"
   ]
  },
  {
   "cell_type": "code",
   "execution_count": 13,
   "id": "766805e4-3a35-4a66-9017-62f5579f15ee",
   "metadata": {},
   "outputs": [
    {
     "data": {
      "text/plain": [
       "True"
      ]
     },
     "execution_count": 13,
     "metadata": {},
     "output_type": "execute_result"
    }
   ],
   "source": [
    "#Check that our example game matches the corresponding row of our train_1st dataframe\n",
    "check_same_moves(game_number = example_game_number, kind = example_kind)"
   ]
  },
  {
   "cell_type": "markdown",
   "id": "159d6266-9edb-4504-8dd3-23ae7e91bd64",
   "metadata": {},
   "source": [
    "# Check that all games' text files match the rows of our dataframe"
   ]
  },
  {
   "cell_type": "code",
   "execution_count": 14,
   "id": "2fe4b4cf-26a2-4f5b-8313-8cd986d9d79f",
   "metadata": {},
   "outputs": [],
   "source": [
    "def all_games_match(kind):\n",
    "    '''\n",
    "    Input: A string 'train', 'test' or 'val'\n",
    "    \n",
    "    Checks if all positions match up between the text files of Stockfish evaluations\n",
    "    and the corresponding dataframe.\n",
    "    '''\n",
    "    \n",
    "    #Get the correct dataframe\n",
    "    df = dfs_dict[kind]\n",
    "    \n",
    "    #Loop over the games in the dataframe and check that they match the text files\n",
    "    for i in range(len(df)):\n",
    "        is_same = check_same_moves(game_number = i, kind = kind)\n",
    "        \n",
    "        #If you ever encounter a non-matching game, break out of the loop\n",
    "        if not is_same:\n",
    "            break\n",
    "    \n",
    "    #Return the result\n",
    "    return is_same\n",
    "    "
   ]
  },
  {
   "cell_type": "code",
   "execution_count": 15,
   "id": "c4bcf35f-13d8-47c4-88d2-ca845babb9a5",
   "metadata": {},
   "outputs": [],
   "source": [
    "matches = []\n",
    "for kind in ['train', 'test', 'val']:\n",
    "    matches.append(all_games_match(kind))"
   ]
  },
  {
   "cell_type": "code",
   "execution_count": 16,
   "id": "262d8798-7d6c-4377-bb87-e8c77a622f4a",
   "metadata": {},
   "outputs": [
    {
     "data": {
      "text/plain": [
       "[True, True, True]"
      ]
     },
     "execution_count": 16,
     "metadata": {},
     "output_type": "execute_result"
    }
   ],
   "source": [
    "#Did all the train, test, and val games match?\n",
    "matches"
   ]
  },
  {
   "cell_type": "markdown",
   "id": "17e65911-090a-478e-95d0-20c7846148ba",
   "metadata": {},
   "source": [
    "Since all three are `True`, we know that all of the rows of our dataframes properly correspond to the text files we have."
   ]
  },
  {
   "cell_type": "markdown",
   "id": "b6340833-59b7-46bb-b59e-d0a60996a41f",
   "metadata": {},
   "source": [
    "# Combine the data from the `.txt` files with that in the 1st-games, 2nd-games, and opponents'-games datasets"
   ]
  },
  {
   "cell_type": "code",
   "execution_count": 17,
   "id": "49ee856e-0bfb-4186-87eb-c17b0c5ad33d",
   "metadata": {},
   "outputs": [],
   "source": [
    "dfs_dict = {\n",
    "   'train_1st':train_1st,\n",
    "    'test_1st':test_1st,\n",
    "     'val_1st':val_1st,\n",
    "    'train_2nd':train_2nd,\n",
    "    'test_2nd':test_2nd,\n",
    "     'val_2nd':val_2nd,\n",
    "    'train_opp':train_opp,\n",
    "    'test_opp':test_opp,\n",
    "     'val_opp':val_opp,\n",
    "}"
   ]
  },
  {
   "cell_type": "markdown",
   "id": "127d848a-c99a-41af-a084-b7fc4d8f7891",
   "metadata": {},
   "source": [
    "We will combine all of these data into a dictionary containing all of the information that our models will use to predict the outcome of a new player's 2nd game.\n",
    "\n",
    "To illustrate our method, we'll extract all the information for a single player from the training data."
   ]
  },
  {
   "cell_type": "code",
   "execution_count": 18,
   "id": "5c51bea2-578b-4570-9c88-3114e2352f9b",
   "metadata": {},
   "outputs": [],
   "source": [
    "#Choose a game to use\n",
    "game_number = 123\n",
    "kind = 'train'"
   ]
  },
  {
   "cell_type": "markdown",
   "id": "6b5b582c-aa7b-4380-9813-896321cc37c6",
   "metadata": {},
   "source": [
    "## Get information from the new player's 1st game"
   ]
  },
  {
   "cell_type": "code",
   "execution_count": 19,
   "id": "892f36c3-86d2-44fc-8569-25bac6e84c86",
   "metadata": {},
   "outputs": [
    {
     "data": {
      "text/html": [
       "<div>\n",
       "<style scoped>\n",
       "    .dataframe tbody tr th:only-of-type {\n",
       "        vertical-align: middle;\n",
       "    }\n",
       "\n",
       "    .dataframe tbody tr th {\n",
       "        vertical-align: top;\n",
       "    }\n",
       "\n",
       "    .dataframe thead th {\n",
       "        text-align: right;\n",
       "    }\n",
       "</style>\n",
       "<table border=\"1\" class=\"dataframe\">\n",
       "  <thead>\n",
       "    <tr style=\"text-align: right;\">\n",
       "      <th></th>\n",
       "      <th>opponent</th>\n",
       "      <th>new_pl_color</th>\n",
       "      <th>new_pl_won</th>\n",
       "      <th>new_pl_elo</th>\n",
       "      <th>opp_elo</th>\n",
       "      <th>new_pl_rating_diff</th>\n",
       "      <th>opp_rating_diff</th>\n",
       "      <th>game_length</th>\n",
       "      <th>time_limit</th>\n",
       "      <th>time_gain_per_move</th>\n",
       "      <th>event</th>\n",
       "      <th>termination</th>\n",
       "      <th>conceded</th>\n",
       "      <th>datetime</th>\n",
       "      <th>timestamp</th>\n",
       "      <th>moves</th>\n",
       "      <th>both_players_1st_game</th>\n",
       "    </tr>\n",
       "    <tr>\n",
       "      <th>name_of_pl_playing_1st_game</th>\n",
       "      <th></th>\n",
       "      <th></th>\n",
       "      <th></th>\n",
       "      <th></th>\n",
       "      <th></th>\n",
       "      <th></th>\n",
       "      <th></th>\n",
       "      <th></th>\n",
       "      <th></th>\n",
       "      <th></th>\n",
       "      <th></th>\n",
       "      <th></th>\n",
       "      <th></th>\n",
       "      <th></th>\n",
       "      <th></th>\n",
       "      <th></th>\n",
       "      <th></th>\n",
       "    </tr>\n",
       "  </thead>\n",
       "  <tbody>\n",
       "    <tr>\n",
       "      <th>The_Mechanic_Arg</th>\n",
       "      <td>valter48</td>\n",
       "      <td>White</td>\n",
       "      <td>0.0</td>\n",
       "      <td>1500.0</td>\n",
       "      <td>1801.0</td>\n",
       "      <td>-71.0</td>\n",
       "      <td>4.0</td>\n",
       "      <td>70</td>\n",
       "      <td>600.0</td>\n",
       "      <td>0.0</td>\n",
       "      <td>Classical</td>\n",
       "      <td>Normal</td>\n",
       "      <td>1</td>\n",
       "      <td>2016-07-13 12:58:33</td>\n",
       "      <td>1.468415e+09</td>\n",
       "      <td>e3 e5 d3 d5 Nc3 Nf6 Nf3 Bd6 d4 e4 b3 exf3 Qxf3...</td>\n",
       "      <td>0</td>\n",
       "    </tr>\n",
       "  </tbody>\n",
       "</table>\n",
       "</div>"
      ],
      "text/plain": [
       "                             opponent new_pl_color  new_pl_won  new_pl_elo  \\\n",
       "name_of_pl_playing_1st_game                                                  \n",
       "The_Mechanic_Arg             valter48        White         0.0      1500.0   \n",
       "\n",
       "                             opp_elo  new_pl_rating_diff  opp_rating_diff  \\\n",
       "name_of_pl_playing_1st_game                                                 \n",
       "The_Mechanic_Arg              1801.0               -71.0              4.0   \n",
       "\n",
       "                             game_length  time_limit  time_gain_per_move  \\\n",
       "name_of_pl_playing_1st_game                                                \n",
       "The_Mechanic_Arg                      70       600.0                 0.0   \n",
       "\n",
       "                                 event termination  conceded  \\\n",
       "name_of_pl_playing_1st_game                                    \n",
       "The_Mechanic_Arg             Classical      Normal         1   \n",
       "\n",
       "                                        datetime     timestamp  \\\n",
       "name_of_pl_playing_1st_game                                      \n",
       "The_Mechanic_Arg             2016-07-13 12:58:33  1.468415e+09   \n",
       "\n",
       "                                                                         moves  \\\n",
       "name_of_pl_playing_1st_game                                                      \n",
       "The_Mechanic_Arg             e3 e5 d3 d5 Nc3 Nf6 Nf3 Bd6 d4 e4 b3 exf3 Qxf3...   \n",
       "\n",
       "                             both_players_1st_game  \n",
       "name_of_pl_playing_1st_game                         \n",
       "The_Mechanic_Arg                                 0  "
      ]
     },
     "execution_count": 19,
     "metadata": {},
     "output_type": "execute_result"
    }
   ],
   "source": [
    "#Find the row whose number is the same as the number in the imported text file's name\n",
    "dfs_dict[f\"{kind}_1st\"].iloc[[game_number]]"
   ]
  },
  {
   "cell_type": "markdown",
   "id": "cff16495-d33a-41e1-a8c7-2e4e9a3df437",
   "metadata": {},
   "source": [
    "We won't use the `opponent` column, as the opponent's name is not something we want our models to use.  We won't use `new_pl_elo` for the *first game* since it's always 1500 in this game.  We also won't use `event` since the labels Classical, Blitz and Bullet simply correspond to different ranges of the `time_limit` variable (which we *will* be using).  We also won't use the `datetime` and `timestamp` columns, as we don't want our models learning from these.  Finally, we won't use the `moves` variable since this information will be included from the `.txt` files and not from the dataframes.\n",
    "\n",
    "Thus, we will use the following columns of information:"
   ]
  },
  {
   "cell_type": "code",
   "execution_count": 20,
   "id": "816d7160-5005-4f99-8875-7cc759059af4",
   "metadata": {},
   "outputs": [],
   "source": [
    "# Make a list of the columns we're going to use for modeling\n",
    "cols_1st = [\n",
    "    'new_pl_color', 'new_pl_won', 'opp_elo', 'new_pl_rating_diff', 'opp_rating_diff',\n",
    "    'game_length', 'time_limit', 'time_gain_per_move', 'termination', 'conceded',\n",
    "    'both_players_1st_game'\n",
    "]"
   ]
  },
  {
   "cell_type": "markdown",
   "id": "ad6501d4-0c96-46d1-a41b-3dc3976f5bca",
   "metadata": {},
   "source": [
    "The `termination` column contains categorical values; these need to be converted into integers to feed into our models.  What are all the values that it takes on?"
   ]
  },
  {
   "cell_type": "code",
   "execution_count": 21,
   "id": "fa68190d-872b-4376-a24e-a99497b6afe1",
   "metadata": {},
   "outputs": [
    {
     "data": {
      "text/plain": [
       "Normal              15556\n",
       "Time forfeit         4858\n",
       "Rules infraction        6\n",
       "Name: termination, dtype: int64"
      ]
     },
     "execution_count": 21,
     "metadata": {},
     "output_type": "execute_result"
    }
   ],
   "source": [
    "train_1st['termination'].value_counts()"
   ]
  },
  {
   "cell_type": "markdown",
   "id": "a9297ed5-f178-4864-922e-12cfa20c6444",
   "metadata": {},
   "source": [
    "As we can see, the \"Rules infraction\" value occurs extremely rarely, so our model will not be able to learn much from it.  We'll just map the \"Rules infraction\" cases to the same value as \"Normal\" since, with so few instances, it doesn't really matter whether we group them with \"Normal\" or \"Time Forfeit\" games."
   ]
  },
  {
   "cell_type": "code",
   "execution_count": 22,
   "id": "371d4c86-6af1-4101-8334-4df0e099fc24",
   "metadata": {},
   "outputs": [],
   "source": [
    "#Make a dictionary for how to convert the strings in the \"termination\" column into ints\n",
    "termination_dict = {\n",
    "    'Normal':0,\n",
    "    'Time forfeit':1,\n",
    "    'Rules infraction':0\n",
    "}\n",
    "\n",
    "#Also make a dictionary to convert the colors to ints\n",
    "color_dict = {\n",
    " 'White':0,   \n",
    " 'Black':1\n",
    "}"
   ]
  },
  {
   "cell_type": "code",
   "execution_count": 23,
   "id": "b059e2f6-4bcf-46ba-bc9a-5e5332e0668d",
   "metadata": {},
   "outputs": [],
   "source": [
    "#Initialize a dictionary to contain the information we're extracting\n",
    "example_dict = {}"
   ]
  },
  {
   "cell_type": "code",
   "execution_count": 24,
   "id": "5c503ce5-b01d-46f9-b690-b949dc70c78f",
   "metadata": {},
   "outputs": [],
   "source": [
    "#Get the new player's name\n",
    "new_pl_name = dfs_dict[f\"{kind}_1st\"].iloc[[game_number]].index[0]\n",
    "\n",
    "#Add some placeholders to our dictionary for this player\n",
    "example_dict[new_pl_name] = {}\n",
    "example_dict[new_pl_name]['data'] = []"
   ]
  },
  {
   "cell_type": "code",
   "execution_count": 25,
   "id": "2363365d-183d-4be9-a3de-5e5d871f0025",
   "metadata": {},
   "outputs": [],
   "source": [
    "#Get the information that our models will use, from the new player's 1st game\n",
    "row = dfs_dict[f\"{kind}_1st\"].iloc[game_number]\n",
    "\n",
    "#Extract the information from the columns we'll use\n",
    "for col in cols_1st:\n",
    "    #The \"termination\" column contains a string; convert it to an int\n",
    "    if col == 'termination':\n",
    "        example_dict[new_pl_name]['data'].append(termination_dict[row[col]])\n",
    "        \n",
    "    #The \"new_pl_color\" column contains a string; convert it to an int\n",
    "    elif col == 'new_pl_color':\n",
    "        example_dict[new_pl_name]['data'].append(color_dict[row[col]])\n",
    "        \n",
    "    #Otherwise, just extract the information\n",
    "    else:\n",
    "        example_dict[new_pl_name]['data'].append(row[col])\n",
    "    \n",
    "#Get the color that the new player played in her first game\n",
    "new_pl_1st_game_color = row['new_pl_color']"
   ]
  },
  {
   "cell_type": "code",
   "execution_count": 26,
   "id": "f1df88cc-872e-4246-a48c-dfdb6a304ca5",
   "metadata": {},
   "outputs": [
    {
     "data": {
      "text/plain": [
       "{'The_Mechanic_Arg': {'data': [0,\n",
       "   0.0,\n",
       "   1801.0,\n",
       "   -71.0,\n",
       "   4.0,\n",
       "   70,\n",
       "   600.0,\n",
       "   0.0,\n",
       "   0,\n",
       "   1,\n",
       "   0]}}"
      ]
     },
     "execution_count": 26,
     "metadata": {},
     "output_type": "execute_result"
    }
   ],
   "source": [
    "example_dict"
   ]
  },
  {
   "cell_type": "markdown",
   "id": "9f771527-c34a-407d-b996-7ce784f03491",
   "metadata": {},
   "source": [
    "## Get information from the new player's 2nd game"
   ]
  },
  {
   "cell_type": "code",
   "execution_count": 27,
   "id": "914efaeb-b372-4ab3-8cbb-18518d3be37e",
   "metadata": {},
   "outputs": [
    {
     "data": {
      "text/html": [
       "<div>\n",
       "<style scoped>\n",
       "    .dataframe tbody tr th:only-of-type {\n",
       "        vertical-align: middle;\n",
       "    }\n",
       "\n",
       "    .dataframe tbody tr th {\n",
       "        vertical-align: top;\n",
       "    }\n",
       "\n",
       "    .dataframe thead th {\n",
       "        text-align: right;\n",
       "    }\n",
       "</style>\n",
       "<table border=\"1\" class=\"dataframe\">\n",
       "  <thead>\n",
       "    <tr style=\"text-align: right;\">\n",
       "      <th></th>\n",
       "      <th>opponent</th>\n",
       "      <th>new_pl_color</th>\n",
       "      <th>new_pl_won</th>\n",
       "      <th>new_pl_elo</th>\n",
       "      <th>opp_elo</th>\n",
       "      <th>new_pl_rating_diff</th>\n",
       "      <th>opp_rating_diff</th>\n",
       "      <th>game_length</th>\n",
       "      <th>time_limit</th>\n",
       "      <th>time_gain_per_move</th>\n",
       "      <th>event</th>\n",
       "      <th>termination</th>\n",
       "      <th>conceded</th>\n",
       "      <th>datetime</th>\n",
       "      <th>timestamp</th>\n",
       "      <th>moves</th>\n",
       "      <th>both_players_2nd_game</th>\n",
       "    </tr>\n",
       "    <tr>\n",
       "      <th>name_of_pl_playing_2nd_game</th>\n",
       "      <th></th>\n",
       "      <th></th>\n",
       "      <th></th>\n",
       "      <th></th>\n",
       "      <th></th>\n",
       "      <th></th>\n",
       "      <th></th>\n",
       "      <th></th>\n",
       "      <th></th>\n",
       "      <th></th>\n",
       "      <th></th>\n",
       "      <th></th>\n",
       "      <th></th>\n",
       "      <th></th>\n",
       "      <th></th>\n",
       "      <th></th>\n",
       "      <th></th>\n",
       "    </tr>\n",
       "  </thead>\n",
       "  <tbody>\n",
       "    <tr>\n",
       "      <th>The_Mechanic_Arg</th>\n",
       "      <td>flashb4nged</td>\n",
       "      <td>White</td>\n",
       "      <td>1.0</td>\n",
       "      <td>1429.0</td>\n",
       "      <td>1435.0</td>\n",
       "      <td>141.0</td>\n",
       "      <td>-8.0</td>\n",
       "      <td>61</td>\n",
       "      <td>600.0</td>\n",
       "      <td>0.0</td>\n",
       "      <td>Classical</td>\n",
       "      <td>Normal</td>\n",
       "      <td>1</td>\n",
       "      <td>2016-07-13 18:40:15</td>\n",
       "      <td>1.468435e+09</td>\n",
       "      <td>e3 e5 Nf3 Nc6 d4 exd4 exd4 d5 Nc3 Nf6 Bb5 a6 B...</td>\n",
       "      <td>0</td>\n",
       "    </tr>\n",
       "  </tbody>\n",
       "</table>\n",
       "</div>"
      ],
      "text/plain": [
       "                                opponent new_pl_color  new_pl_won  new_pl_elo  \\\n",
       "name_of_pl_playing_2nd_game                                                     \n",
       "The_Mechanic_Arg             flashb4nged        White         1.0      1429.0   \n",
       "\n",
       "                             opp_elo  new_pl_rating_diff  opp_rating_diff  \\\n",
       "name_of_pl_playing_2nd_game                                                 \n",
       "The_Mechanic_Arg              1435.0               141.0             -8.0   \n",
       "\n",
       "                             game_length  time_limit  time_gain_per_move  \\\n",
       "name_of_pl_playing_2nd_game                                                \n",
       "The_Mechanic_Arg                      61       600.0                 0.0   \n",
       "\n",
       "                                 event termination  conceded  \\\n",
       "name_of_pl_playing_2nd_game                                    \n",
       "The_Mechanic_Arg             Classical      Normal         1   \n",
       "\n",
       "                                        datetime     timestamp  \\\n",
       "name_of_pl_playing_2nd_game                                      \n",
       "The_Mechanic_Arg             2016-07-13 18:40:15  1.468435e+09   \n",
       "\n",
       "                                                                         moves  \\\n",
       "name_of_pl_playing_2nd_game                                                      \n",
       "The_Mechanic_Arg             e3 e5 Nf3 Nc6 d4 exd4 exd4 d5 Nc3 Nf6 Bb5 a6 B...   \n",
       "\n",
       "                             both_players_2nd_game  \n",
       "name_of_pl_playing_2nd_game                         \n",
       "The_Mechanic_Arg                                 0  "
      ]
     },
     "execution_count": 27,
     "metadata": {},
     "output_type": "execute_result"
    }
   ],
   "source": [
    "dfs_dict[f\"{kind}_2nd\"].loc[[new_pl_name]]"
   ]
  },
  {
   "cell_type": "markdown",
   "id": "14b11334-d79e-49de-a8de-aa15ee3fe968",
   "metadata": {},
   "source": [
    "We are trying to *predict the outcome of each new player's 2nd game*.  Thus, we can only use a limited amount of information about this second game without \"cheating\".  For example, our target variable is `new_pl_won` here; we certainly cannot include it as a feature.  We similarly cannot include `new_pl_rating_diff` or `opp_rating_diff`, as the signs of these numbers correspond to whether the new player won or lost.\n",
    "\n",
    "Essentially, we can't use any information that *isn't available prior to the beginning of the new player's 2nd game*.  This means we can't include `game_length` as a feature, and we also can't include `new_pl_color` as a feature (since it isn't determined until the start of the game).\n",
    "\n",
    "However, we *can* include the following variables as features, since they are *known at the time when matches are being made*:\n",
    "- `new_pl_elo`\n",
    "- `opp_elo`\n",
    "- `time_limit`\n",
    "- `time_gain_per_move`\n",
    "- `both_players_2nd_game`\n",
    "\n",
    "Similarly to what we did for the new players' first games, we also won't use the variables `opponent`, `event`, `datetime` or `timestamp`."
   ]
  },
  {
   "cell_type": "code",
   "execution_count": 28,
   "id": "a852354f-2fa8-44b5-b896-aa17a8b39cdd",
   "metadata": {},
   "outputs": [],
   "source": [
    "# Make a list of the columns we're going to use for modeling\n",
    "cols_2nd = [\n",
    "    'new_pl_elo', 'opp_elo', 'time_limit', 'time_gain_per_move', 'both_players_2nd_game'\n",
    "]"
   ]
  },
  {
   "cell_type": "code",
   "execution_count": 29,
   "id": "31872b54-cdb8-4a31-8c64-2e88bcd2d93f",
   "metadata": {},
   "outputs": [],
   "source": [
    "#Get the information that our models will use, from the new player's 2nd game\n",
    "row = dfs_dict[f\"{kind}_2nd\"].loc[new_pl_name]\n",
    "\n",
    "#Extract the information from the columns we'll use\n",
    "for col in cols_2nd:\n",
    "    example_dict[new_pl_name]['data'].append(row[col])\n",
    "    \n",
    "\n",
    "#Extract the target variable as well\n",
    "example_dict[new_pl_name]['target'] = row['new_pl_won']"
   ]
  },
  {
   "cell_type": "code",
   "execution_count": 30,
   "id": "1c2bdcde-06fa-4afd-a762-cf2ee5464bf7",
   "metadata": {},
   "outputs": [
    {
     "data": {
      "text/plain": [
       "{'The_Mechanic_Arg': {'data': [0,\n",
       "   0.0,\n",
       "   1801.0,\n",
       "   -71.0,\n",
       "   4.0,\n",
       "   70,\n",
       "   600.0,\n",
       "   0.0,\n",
       "   0,\n",
       "   1,\n",
       "   0,\n",
       "   1429.0,\n",
       "   1435.0,\n",
       "   600.0,\n",
       "   0.0,\n",
       "   0],\n",
       "  'target': 1.0}}"
      ]
     },
     "execution_count": 30,
     "metadata": {},
     "output_type": "execute_result"
    }
   ],
   "source": [
    "#The \"data\" list should now have the information from the new player's 2nd game at its end.\n",
    "#The \"target\" value should be whether the new player won her 2nd game or not.\n",
    "example_dict"
   ]
  },
  {
   "cell_type": "markdown",
   "id": "1a8da9e4-cb53-48ed-a462-162b2607a489",
   "metadata": {},
   "source": [
    "## Get information from the new player's 2nd-game opponent's previous game"
   ]
  },
  {
   "cell_type": "code",
   "execution_count": 31,
   "id": "d9b61a60-b98e-4d1d-81d6-faae71cd5bdc",
   "metadata": {},
   "outputs": [
    {
     "data": {
      "text/html": [
       "<div>\n",
       "<style scoped>\n",
       "    .dataframe tbody tr th:only-of-type {\n",
       "        vertical-align: middle;\n",
       "    }\n",
       "\n",
       "    .dataframe tbody tr th {\n",
       "        vertical-align: top;\n",
       "    }\n",
       "\n",
       "    .dataframe thead th {\n",
       "        text-align: right;\n",
       "    }\n",
       "</style>\n",
       "<table border=\"1\" class=\"dataframe\">\n",
       "  <thead>\n",
       "    <tr style=\"text-align: right;\">\n",
       "      <th></th>\n",
       "      <th>opp_of_new_pl</th>\n",
       "      <th>opp_of_opp</th>\n",
       "      <th>opp_color</th>\n",
       "      <th>opp_won</th>\n",
       "      <th>opp_elo</th>\n",
       "      <th>opp_opp_elo</th>\n",
       "      <th>opp_rating_diff</th>\n",
       "      <th>opp_opp_rating_diff</th>\n",
       "      <th>game_length</th>\n",
       "      <th>time_limit</th>\n",
       "      <th>time_gain_per_move</th>\n",
       "      <th>event</th>\n",
       "      <th>termination</th>\n",
       "      <th>conceded</th>\n",
       "      <th>datetime</th>\n",
       "      <th>timestamp</th>\n",
       "      <th>moves</th>\n",
       "      <th>both_users_to_play_new_pl_next</th>\n",
       "      <th>2nd_game_opp_had_no_previous_game</th>\n",
       "    </tr>\n",
       "    <tr>\n",
       "      <th>new_pl_to_be_played_next_game</th>\n",
       "      <th></th>\n",
       "      <th></th>\n",
       "      <th></th>\n",
       "      <th></th>\n",
       "      <th></th>\n",
       "      <th></th>\n",
       "      <th></th>\n",
       "      <th></th>\n",
       "      <th></th>\n",
       "      <th></th>\n",
       "      <th></th>\n",
       "      <th></th>\n",
       "      <th></th>\n",
       "      <th></th>\n",
       "      <th></th>\n",
       "      <th></th>\n",
       "      <th></th>\n",
       "      <th></th>\n",
       "      <th></th>\n",
       "    </tr>\n",
       "  </thead>\n",
       "  <tbody>\n",
       "    <tr>\n",
       "      <th>The_Mechanic_Arg</th>\n",
       "      <td>flashb4nged</td>\n",
       "      <td>gza09</td>\n",
       "      <td>Black</td>\n",
       "      <td>0.0</td>\n",
       "      <td>1445.0</td>\n",
       "      <td>1458.0</td>\n",
       "      <td>-10.0</td>\n",
       "      <td>11.0</td>\n",
       "      <td>27</td>\n",
       "      <td>600.0</td>\n",
       "      <td>0.0</td>\n",
       "      <td>Classical</td>\n",
       "      <td>Normal</td>\n",
       "      <td>1</td>\n",
       "      <td>2016-07-13 14:58:04</td>\n",
       "      <td>1.468422e+09</td>\n",
       "      <td>d4 d5 Nc3 c5 dxc5 e5 b4 d4 Ne4 Nc6 Rb1 Nf6 Bg5...</td>\n",
       "      <td>0</td>\n",
       "      <td>0</td>\n",
       "    </tr>\n",
       "  </tbody>\n",
       "</table>\n",
       "</div>"
      ],
      "text/plain": [
       "                              opp_of_new_pl opp_of_opp opp_color  opp_won  \\\n",
       "new_pl_to_be_played_next_game                                               \n",
       "The_Mechanic_Arg                flashb4nged      gza09     Black      0.0   \n",
       "\n",
       "                               opp_elo  opp_opp_elo  opp_rating_diff  \\\n",
       "new_pl_to_be_played_next_game                                          \n",
       "The_Mechanic_Arg                1445.0       1458.0            -10.0   \n",
       "\n",
       "                               opp_opp_rating_diff  game_length  time_limit  \\\n",
       "new_pl_to_be_played_next_game                                                 \n",
       "The_Mechanic_Arg                              11.0           27       600.0   \n",
       "\n",
       "                               time_gain_per_move      event termination  \\\n",
       "new_pl_to_be_played_next_game                                              \n",
       "The_Mechanic_Arg                              0.0  Classical      Normal   \n",
       "\n",
       "                               conceded             datetime     timestamp  \\\n",
       "new_pl_to_be_played_next_game                                                \n",
       "The_Mechanic_Arg                      1  2016-07-13 14:58:04  1.468422e+09   \n",
       "\n",
       "                                                                           moves  \\\n",
       "new_pl_to_be_played_next_game                                                      \n",
       "The_Mechanic_Arg               d4 d5 Nc3 c5 dxc5 e5 b4 d4 Ne4 Nc6 Rb1 Nf6 Bg5...   \n",
       "\n",
       "                               both_users_to_play_new_pl_next  \\\n",
       "new_pl_to_be_played_next_game                                   \n",
       "The_Mechanic_Arg                                            0   \n",
       "\n",
       "                               2nd_game_opp_had_no_previous_game  \n",
       "new_pl_to_be_played_next_game                                     \n",
       "The_Mechanic_Arg                                               0  "
      ]
     },
     "execution_count": 31,
     "metadata": {},
     "output_type": "execute_result"
    }
   ],
   "source": [
    "dfs_dict[f\"{kind}_opp\"].loc[[new_pl_name]]"
   ]
  },
  {
   "cell_type": "markdown",
   "id": "1dba5254-e9bf-451e-b283-2e4606d615ed",
   "metadata": {},
   "source": [
    "We will extract similar information from this game as we extracted from the new player's first game.  However, we must recall that some of the new players' 2nd-game opponents *did not play any game this month prior to facing the new player in her 2nd game*.  For these new players, the indicator variable `2nd_game_opp_had_no_previous_game` will equal 1 and most of the values in the row above will be missing; for all other players, this indicator variable will equal 0 and none of the information will be missing.\n",
    "\n",
    "Thus, when adding information about the new player's 2nd-game opponent's previous game, we may need to impute reasonable values for the variables (if `2nd_game_opp_had_no_previous_game` equals 1)."
   ]
  },
  {
   "cell_type": "code",
   "execution_count": 32,
   "id": "00faa4bd-a7be-43a2-9a20-f16003ce958c",
   "metadata": {},
   "outputs": [],
   "source": [
    "# Make a list of the columns we're going to use for modeling\n",
    "cols_opp = [\n",
    "    'opp_color', 'opp_won', 'opp_elo', 'opp_opp_elo', 'opp_rating_diff', 'opp_opp_rating_diff',\n",
    "    'game_length', 'time_limit', 'time_gain_per_move', 'termination', 'conceded',\n",
    "    'both_users_to_play_new_pl_next', '2nd_game_opp_had_no_previous_game'\n",
    "]"
   ]
  },
  {
   "cell_type": "markdown",
   "id": "732b3f8e-8258-4cfc-a62b-d73fcca978ae",
   "metadata": {},
   "source": [
    "### Aside: Imputing missing values"
   ]
  },
  {
   "cell_type": "code",
   "execution_count": 33,
   "id": "0c02f47d-1c24-4989-ac21-9b5ddd0fb52b",
   "metadata": {},
   "outputs": [
    {
     "data": {
      "text/plain": [
       "(1578.62, 1566.93, 61.4, 572.01, 2.8)"
      ]
     },
     "execution_count": 33,
     "metadata": {},
     "output_type": "execute_result"
    }
   ],
   "source": [
    "#Find the mean rating of 2nd-game opponents of new players (in their previous game)\n",
    "#Use the mean among the TRAINING data, so as to avoid data leakage\n",
    "opp_mean_elo = round(train_opp['opp_elo'].mean(), 2)\n",
    "\n",
    "#Do similarly for these opponents' opponents' ratings\n",
    "opp_opp_mean_elo = round(train_opp['opp_opp_elo'].mean(), 2)\n",
    "\n",
    "#Also get the mean game length and time controls\n",
    "opp_mean_game_length = round(train_opp['game_length'].mean(), 2)\n",
    "opp_mean_time_limit = round(train_opp['time_limit'].mean(), 2)\n",
    "opp_mean_time_gain = round(train_opp['time_gain_per_move'].mean(), 2)\n",
    "\n",
    "opp_mean_elo, opp_opp_mean_elo, opp_mean_game_length, opp_mean_time_limit, opp_mean_time_gain"
   ]
  },
  {
   "cell_type": "code",
   "execution_count": 34,
   "id": "d218a2a2-f598-4bd2-90e2-d617a2d8d6ca",
   "metadata": {},
   "outputs": [],
   "source": [
    "# Make a dictionary of default values to use in case the 2nd-game opponent had no previous game\n",
    "opp_defaults = {\n",
    "    'opp_color':0,    #0 means \"White\"\n",
    "    'opp_won':0.5,    #This is how we encode a \"draw\"\n",
    "    'opp_elo':opp_mean_elo,\n",
    "    'opp_opp_elo':opp_opp_mean_elo,\n",
    "    'opp_rating_diff':0,\n",
    "    'opp_opp_rating_diff':0,\n",
    "    'game_length':opp_mean_game_length,\n",
    "    'time_limit':opp_mean_time_limit,\n",
    "    'time_gain_per_move':opp_mean_time_gain,\n",
    "    'termination':0,   #0 means \"Normal\"\n",
    "    'conceded':1,      #Since a \"draw\" can never be conceded, this is another way to distinguish these \"fake\" games\n",
    "    'both_users_to_play_new_pl_next':0,\n",
    "    '2nd_game_opp_had_no_previous_game':1\n",
    "}"
   ]
  },
  {
   "cell_type": "markdown",
   "id": "95fcb6ee-37b6-4d52-b0e3-628556a4b414",
   "metadata": {},
   "source": [
    "### Extract the information"
   ]
  },
  {
   "cell_type": "code",
   "execution_count": 35,
   "id": "5d80545b-fd97-454e-9d34-f4107f8d755c",
   "metadata": {},
   "outputs": [],
   "source": [
    "#Get the information that our models will use, from the new player's 2nd-game opponent's previous game\n",
    "row = dfs_dict[f\"{kind}_opp\"].loc[new_pl_name]\n",
    "\n",
    "#If the new player's 2nd-game opponent had no previous game, use the default values\n",
    "if row['2nd_game_opp_had_no_previous_game'] == 1:\n",
    "    for col in cols_opp:\n",
    "        example_dict[new_pl_name]['data'].append(opp_defaults[col])\n",
    "\n",
    "#Otherwise, extract the information from the dataframe\n",
    "else:\n",
    "    for col in cols_opp:\n",
    "        #The \"termination\" column contains a string; convert it to an int\n",
    "        if col == 'termination':\n",
    "            example_dict[new_pl_name]['data'].append(termination_dict[row[col]])\n",
    "        \n",
    "        #The \"new_pl_color\" column contains a string; convert it to an int\n",
    "        elif col == 'opp_color':\n",
    "            example_dict[new_pl_name]['data'].append(color_dict[row[col]])\n",
    "        \n",
    "        #Otherwise, just extract the information\n",
    "        else:\n",
    "            example_dict[new_pl_name]['data'].append(row[col])"
   ]
  },
  {
   "cell_type": "code",
   "execution_count": 36,
   "id": "ec9cde70-433e-49bb-94c2-b88c0df726a9",
   "metadata": {},
   "outputs": [
    {
     "data": {
      "text/plain": [
       "{'The_Mechanic_Arg': {'data': [0,\n",
       "   0.0,\n",
       "   1801.0,\n",
       "   -71.0,\n",
       "   4.0,\n",
       "   70,\n",
       "   600.0,\n",
       "   0.0,\n",
       "   0,\n",
       "   1,\n",
       "   0,\n",
       "   1429.0,\n",
       "   1435.0,\n",
       "   600.0,\n",
       "   0.0,\n",
       "   0,\n",
       "   1,\n",
       "   0.0,\n",
       "   1445.0,\n",
       "   1458.0,\n",
       "   -10.0,\n",
       "   11.0,\n",
       "   27,\n",
       "   600.0,\n",
       "   0.0,\n",
       "   0,\n",
       "   1,\n",
       "   0,\n",
       "   0],\n",
       "  'target': 1.0}}"
      ]
     },
     "execution_count": 36,
     "metadata": {},
     "output_type": "execute_result"
    }
   ],
   "source": [
    "#The \"data\" list should now have the information from the new player's 2nd-game opponent's\n",
    "#previous game at the end.\n",
    "example_dict"
   ]
  },
  {
   "cell_type": "code",
   "execution_count": 37,
   "id": "c0b0854e-11e5-47de-9f52-e4eb368792b5",
   "metadata": {},
   "outputs": [
    {
     "data": {
      "text/html": [
       "<div>\n",
       "<style scoped>\n",
       "    .dataframe tbody tr th:only-of-type {\n",
       "        vertical-align: middle;\n",
       "    }\n",
       "\n",
       "    .dataframe tbody tr th {\n",
       "        vertical-align: top;\n",
       "    }\n",
       "\n",
       "    .dataframe thead th {\n",
       "        text-align: right;\n",
       "    }\n",
       "</style>\n",
       "<table border=\"1\" class=\"dataframe\">\n",
       "  <thead>\n",
       "    <tr style=\"text-align: right;\">\n",
       "      <th></th>\n",
       "      <th>opp_of_new_pl</th>\n",
       "      <th>opp_of_opp</th>\n",
       "      <th>opp_color</th>\n",
       "      <th>opp_won</th>\n",
       "      <th>opp_elo</th>\n",
       "      <th>opp_opp_elo</th>\n",
       "      <th>opp_rating_diff</th>\n",
       "      <th>opp_opp_rating_diff</th>\n",
       "      <th>game_length</th>\n",
       "      <th>time_limit</th>\n",
       "      <th>time_gain_per_move</th>\n",
       "      <th>event</th>\n",
       "      <th>termination</th>\n",
       "      <th>conceded</th>\n",
       "      <th>datetime</th>\n",
       "      <th>timestamp</th>\n",
       "      <th>moves</th>\n",
       "      <th>both_users_to_play_new_pl_next</th>\n",
       "      <th>2nd_game_opp_had_no_previous_game</th>\n",
       "    </tr>\n",
       "    <tr>\n",
       "      <th>new_pl_to_be_played_next_game</th>\n",
       "      <th></th>\n",
       "      <th></th>\n",
       "      <th></th>\n",
       "      <th></th>\n",
       "      <th></th>\n",
       "      <th></th>\n",
       "      <th></th>\n",
       "      <th></th>\n",
       "      <th></th>\n",
       "      <th></th>\n",
       "      <th></th>\n",
       "      <th></th>\n",
       "      <th></th>\n",
       "      <th></th>\n",
       "      <th></th>\n",
       "      <th></th>\n",
       "      <th></th>\n",
       "      <th></th>\n",
       "      <th></th>\n",
       "    </tr>\n",
       "  </thead>\n",
       "  <tbody>\n",
       "    <tr>\n",
       "      <th>The_Mechanic_Arg</th>\n",
       "      <td>flashb4nged</td>\n",
       "      <td>gza09</td>\n",
       "      <td>Black</td>\n",
       "      <td>0.0</td>\n",
       "      <td>1445.0</td>\n",
       "      <td>1458.0</td>\n",
       "      <td>-10.0</td>\n",
       "      <td>11.0</td>\n",
       "      <td>27</td>\n",
       "      <td>600.0</td>\n",
       "      <td>0.0</td>\n",
       "      <td>Classical</td>\n",
       "      <td>Normal</td>\n",
       "      <td>1</td>\n",
       "      <td>2016-07-13 14:58:04</td>\n",
       "      <td>1.468422e+09</td>\n",
       "      <td>d4 d5 Nc3 c5 dxc5 e5 b4 d4 Ne4 Nc6 Rb1 Nf6 Bg5...</td>\n",
       "      <td>0</td>\n",
       "      <td>0</td>\n",
       "    </tr>\n",
       "  </tbody>\n",
       "</table>\n",
       "</div>"
      ],
      "text/plain": [
       "                              opp_of_new_pl opp_of_opp opp_color  opp_won  \\\n",
       "new_pl_to_be_played_next_game                                               \n",
       "The_Mechanic_Arg                flashb4nged      gza09     Black      0.0   \n",
       "\n",
       "                               opp_elo  opp_opp_elo  opp_rating_diff  \\\n",
       "new_pl_to_be_played_next_game                                          \n",
       "The_Mechanic_Arg                1445.0       1458.0            -10.0   \n",
       "\n",
       "                               opp_opp_rating_diff  game_length  time_limit  \\\n",
       "new_pl_to_be_played_next_game                                                 \n",
       "The_Mechanic_Arg                              11.0           27       600.0   \n",
       "\n",
       "                               time_gain_per_move      event termination  \\\n",
       "new_pl_to_be_played_next_game                                              \n",
       "The_Mechanic_Arg                              0.0  Classical      Normal   \n",
       "\n",
       "                               conceded             datetime     timestamp  \\\n",
       "new_pl_to_be_played_next_game                                                \n",
       "The_Mechanic_Arg                      1  2016-07-13 14:58:04  1.468422e+09   \n",
       "\n",
       "                                                                           moves  \\\n",
       "new_pl_to_be_played_next_game                                                      \n",
       "The_Mechanic_Arg               d4 d5 Nc3 c5 dxc5 e5 b4 d4 Ne4 Nc6 Rb1 Nf6 Bg5...   \n",
       "\n",
       "                               both_users_to_play_new_pl_next  \\\n",
       "new_pl_to_be_played_next_game                                   \n",
       "The_Mechanic_Arg                                            0   \n",
       "\n",
       "                               2nd_game_opp_had_no_previous_game  \n",
       "new_pl_to_be_played_next_game                                     \n",
       "The_Mechanic_Arg                                               0  "
      ]
     },
     "execution_count": 37,
     "metadata": {},
     "output_type": "execute_result"
    }
   ],
   "source": [
    "dfs_dict[f\"{kind}_opp\"].loc[[new_pl_name]]"
   ]
  },
  {
   "cell_type": "markdown",
   "id": "dbf3c7ed-c624-4f26-8e93-d2226f5cb4d3",
   "metadata": {},
   "source": [
    "## Add the Stockfish evaluations and \"top 10 moves\" from the new player's 1st game"
   ]
  },
  {
   "cell_type": "code",
   "execution_count": 38,
   "id": "166699d5-d802-4d1e-993a-cd8a35f3ab7a",
   "metadata": {},
   "outputs": [],
   "source": [
    "game_number = 123\n",
    "kind = 'train'\n",
    "game = eval(open(f\"{stockfish_paths_dict[kind]}/game{game_number}.txt\").read())"
   ]
  },
  {
   "cell_type": "code",
   "execution_count": 39,
   "id": "f46386b7-9276-47f4-9fc7-61962bf55c05",
   "metadata": {},
   "outputs": [
    {
     "data": {
      "text/plain": [
       "{'fen': 'rn4k1/1p3ppp/p4q2/8/3P4/1P2K3/P7/7b w - - 0 36',\n",
       " 'eval': {'type': 'cp', 'value': -3962},\n",
       " 'top_10': [{'Move': 'e3e2', 'Centipawn': -4001, 'Mate': None},\n",
       "  {'Move': 'e3d3', 'Centipawn': -4017, 'Mate': None},\n",
       "  {'Move': 'a2a3', 'Centipawn': -4028, 'Mate': None},\n",
       "  {'Move': 'e3d2', 'Centipawn': -4211, 'Mate': None},\n",
       "  {'Move': 'b3b4', 'Centipawn': -4218, 'Mate': None},\n",
       "  {'Move': 'd4d5', 'Centipawn': -4221, 'Mate': None},\n",
       "  {'Move': 'a2a4', 'Centipawn': None, 'Mate': -7}]}"
      ]
     },
     "execution_count": 39,
     "metadata": {},
     "output_type": "execute_result"
    }
   ],
   "source": [
    "#Look at the final board position of the game.\n",
    "#What is the evaluation, and what are the \"top 10 moves\"?\n",
    "game[len(game)-1]"
   ]
  },
  {
   "cell_type": "markdown",
   "id": "575b2157-5543-4b5e-a5aa-441df9bf2f01",
   "metadata": {},
   "source": [
    "As we can see, Stockfish evaluates some board positions as \"Centipawn\" scores and others as \"Mate\" scores.  Our models will need to be able to separate between these two types of scores.  Additionally, our models will expect the \"top 10 moves\" to always contain 10 moves.  Most importantly, our models will need everything to be framed in terms of the score of the *new player*.  So if the new player is playing White then we will leave the signs of the scores unchanged; but if the new player is playing Black then we will need to multiply all the Centipawn scores by -1 and also convert the Mate scores (see the next paragraph).\n",
    "\n",
    "Specifically, our encoding of the \"mate\" scores will be as categorical (integer) values so that our models can learn an embedding of these values into 1-dimensional continuous space.  We must encode these categorical values as integers greater than or equal to 0, so we will adopt the following system:\n",
    "- A Mate score of 0 means \"the new player has already checkmated her opponent.\"\n",
    "- A Mate score of $n = 1, 2, \\ ... \\ , 15$ means \"the new player can checkmate her opponent in $n$ moves.\"\n",
    "- A Mate score of 16 means \"the opponent has already checkmated the new player.\"\n",
    "- A Mate score of $n = 17, 18, \\ ... \\ , 31$ means \"the opponent can checkmate the new player in $n-16$ moves.\"\n",
    "- A Mate score of 32 means \"The opponent caused a stalemate in which the new player has no legal moves on her turn.\"\n",
    "- A Mate score of 33 means \"The new player caused a stalemate in which her opponent as no legal moves on his turn.\"\n",
    "- A Mate score of 34 means \"The game has ended in a draw due to insufficient material.\"  (That is, no player has enough pieces left to checkmate the opponent.)\n",
    "\n",
    "Thus, our plan will be the following.\n",
    "1. On each board position that is not the final position of the game, extract the Stockfish evaluation of that position stored as a dictionary with keys `cp`, `mate` and `is_mate_score`.  The `cp` keys to the Centipawn score of the position *for the new player*; the `mate` keys the Mate score of the position *for the new player*; and the `is_mate_score` keys to 1 if the position had a \"Mate\" score and 0 if it had a \"Centipawn\" score.  Thus, for any given move, one of the `cp` and `mate` values will be \"real\" and the other will be \"fake\" (set to 0); the \"real\" one is indicated by the value in the third component of the triple.\n",
    "\n",
    "2. On each board position that is not the final position of the game and *at which the new player must make a move*, extract the Stockfish evaluations of the \"top 10 moves\".  There may be fewer than 10 legal moves; if there are only $10-n$ legal moves then copy the $(10-n)$th best move an additional $n$ times.  Then report the scores of the \"top 10 moves\" as a list of 10 dictionaries; each dictionary will have keys `cp`, `mate` and `is_mate_score` as in Step 1 above.  Also, as in Step 1, the scores are reported as scores *for the new player*.\n",
    "\n",
    "3. On the final board position of the game, first determine if the game has ended due to checkmate, stalemate or insufficient material (not enough pieces for either player to checkmate).  If the game has *not* ended (i.e. this is only the last move of the game because someone conceded or the players agreed to a draw), then report the Stockfish evaluation and \"top 10 moves\" in exactly the same manner as Steps 1 and 2 above.  If the game *had* ended, then report the \"evaluation\" of the position to be a Mate score of 0, 16, 32, 33 or 34 (as above) but *do not* report any \"top 10 moves\" (since no legal moves exist).\n"
   ]
  },
  {
   "cell_type": "markdown",
   "id": "1901d02d-5b3a-4bca-b88e-d3716b32993f",
   "metadata": {},
   "source": [
    "### Functions to convert scores to be in terms of the new player"
   ]
  },
  {
   "cell_type": "code",
   "execution_count": 40,
   "id": "24fc0a0d-da13-4ad3-9f85-38a978f7c37a",
   "metadata": {},
   "outputs": [],
   "source": [
    "def convert_cp_score(x, new_pl_is_white):\n",
    "    '''\n",
    "    Inputs:\n",
    "    -x: The Stockfish \"Centipawn\" score for a non-terminal position.\n",
    "    -new_pl_is_white: 1 if the new player is the White player in this game; 0 otherwise.\n",
    "    \n",
    "    Converts the centipawn score so that it's in terms of the *new player*.  That is, it\n",
    "    leaves it alone if the new player is playing White, and it multiplies it by -1 if the\n",
    "    new player is playing Black.\n",
    "    '''\n",
    "    if new_pl_is_white:\n",
    "        return x\n",
    "    else:\n",
    "        return (-1)*x"
   ]
  },
  {
   "cell_type": "code",
   "execution_count": 41,
   "id": "e7ed8381-756b-4395-b54f-2c9ef0ce7261",
   "metadata": {},
   "outputs": [
    {
     "data": {
      "text/plain": [
       "(25, -130)"
      ]
     },
     "execution_count": 41,
     "metadata": {},
     "output_type": "execute_result"
    }
   ],
   "source": [
    "#Check that it works\n",
    "convert_cp_score(25, 1), convert_cp_score(130, 0)"
   ]
  },
  {
   "cell_type": "code",
   "execution_count": 42,
   "id": "0003e706-dfd2-4b32-8788-79cafcdb7594",
   "metadata": {},
   "outputs": [],
   "source": [
    "def convert_mate_score(n, new_pl_is_white):\n",
    "    '''\n",
    "    Inputs:\n",
    "    -n: The Stockfish \"Mate\" score for a non-terminal position.  This must be a number\n",
    "    between -15 and -1 or between 1 and 15.\n",
    "    -new_pl_is_white: 1 if the new player is the White player in this game; 0 otherwise.\n",
    "    \n",
    "    Converts Stockfish 'Mate' scores (for non-final board positions)\n",
    "    into numbers between 1 and 15 or between 17 and 31 (inclusive).\n",
    "    n = 1, ..., 15 mean \"New player has a checkmate on her opponent in n moves.\"\n",
    "    n = 17, ..., 31 mean \"Opponent has a checkmate on the new player in n-16 moves.\"\n",
    "    '''\n",
    "    if new_pl_is_white:\n",
    "        if n>0:\n",
    "            return n\n",
    "        if n<0:\n",
    "            moves_until_mate = n * (-1)\n",
    "            return 16 + moves_until_mate\n",
    "    else:\n",
    "        if n<0:\n",
    "            return (-1)*n\n",
    "        if n>0:\n",
    "            moves_until_mate = n\n",
    "            return 16 + moves_until_mate"
   ]
  },
  {
   "cell_type": "code",
   "execution_count": 43,
   "id": "6a9be7ea-8fdd-4d64-9b9e-eafd5616841c",
   "metadata": {},
   "outputs": [
    {
     "data": {
      "text/plain": [
       "15"
      ]
     },
     "execution_count": 43,
     "metadata": {},
     "output_type": "execute_result"
    }
   ],
   "source": [
    "#Checking that the function works correctly\n",
    "convert_mate_score(15, new_pl_is_white=1)"
   ]
  },
  {
   "cell_type": "code",
   "execution_count": 44,
   "id": "954aa845-5e27-4baa-9ce3-b43cd61dd586",
   "metadata": {},
   "outputs": [
    {
     "data": {
      "text/plain": [
       "26"
      ]
     },
     "execution_count": 44,
     "metadata": {},
     "output_type": "execute_result"
    }
   ],
   "source": [
    "convert_mate_score(10, new_pl_is_white=0)"
   ]
  },
  {
   "cell_type": "code",
   "execution_count": 45,
   "id": "f68335fd-d13f-410e-a8c6-6db7037ffdf8",
   "metadata": {},
   "outputs": [
    {
     "data": {
      "text/plain": [
       "19"
      ]
     },
     "execution_count": 45,
     "metadata": {},
     "output_type": "execute_result"
    }
   ],
   "source": [
    "convert_mate_score(-3, new_pl_is_white=1)"
   ]
  },
  {
   "cell_type": "code",
   "execution_count": 46,
   "id": "64edce82-a567-4c0b-b193-84f3aa657a05",
   "metadata": {},
   "outputs": [
    {
     "data": {
      "text/plain": [
       "5"
      ]
     },
     "execution_count": 46,
     "metadata": {},
     "output_type": "execute_result"
    }
   ],
   "source": [
    "convert_mate_score(-5, new_pl_is_white=0)"
   ]
  },
  {
   "cell_type": "markdown",
   "id": "0628afe6-4397-4f85-9059-c8726a87f989",
   "metadata": {},
   "source": [
    "### Function to extract evaluation and \"top 10 moves\" scores"
   ]
  },
  {
   "cell_type": "code",
   "execution_count": 47,
   "id": "aca08167-eb47-4894-83f6-d54cb5800998",
   "metadata": {},
   "outputs": [],
   "source": [
    "def get_eval_top_10(d, moves_so_far, new_pl_is_white, is_final_position=0):\n",
    "    '''\n",
    "    Inputs:\n",
    "    -d: A dictionary of Stockfish evaluation, FEN string, and possibly \"top 10 moves\" scores\n",
    "        (like the one in the cell above where this function is defined)\n",
    "    -moves_so_far: The number of moves that have been made so far in the game.  For example,\n",
    "        if this is the opening board position, then moves_so_far=0.  If White has made 3 moves\n",
    "        and Black has made 2 moves, then moves_so_far=5.\n",
    "    -new_pl_is_white: 1 if the new player is the White player in this game; 0 otherwise.\n",
    "    -is_final_position: 1 if this is the final board position reached in a game; 0 otherwise.\n",
    "    \n",
    "    Returns the information outlined in the 'Add the Stockfish evaluations and \"top 10 moves\"\n",
    "    from the new player's 1st game' section of this notebook.\n",
    "    Returns the information as a dictionary.  If the requested turn is one where the new player\n",
    "    moves, then the output will have keys \"eval\" and \"top10\".  If it's one where the new player\n",
    "    does NOT move, then the output will only have the key \"eval\".\n",
    "    '''\n",
    "    \n",
    "    #Initialize dictionary for output\n",
    "    output = {}\n",
    "    \n",
    "    #Determine if this is the new player's turn to play\n",
    "    if new_pl_is_white:\n",
    "        is_new_pl_turn = 1 - (moves_so_far%2)\n",
    "    else:\n",
    "        is_new_pl_turn = (moves_so_far%2)\n",
    "    \n",
    "    \n",
    "    #If this isn't a final position...\n",
    "    if not is_final_position:\n",
    "        \n",
    "        #Initialize a dictionary to store the evaluation of the position\n",
    "        eval_output = {}\n",
    "        \n",
    "        #If this position has been evaluated as a Centipawn score and not a Mate score...\n",
    "        if d['eval']['type'] == 'cp':\n",
    "            eval_output['is_mate_score'] = 0\n",
    "            #Use the score in the dictionary as the 'cp' score\n",
    "            eval_output['cp'] = convert_cp_score(d['eval']['value'], new_pl_is_white)\n",
    "            #The 'mate' score doesn't exist and won't be used, so we can just let it be 0\n",
    "            eval_output['mate'] = 0\n",
    "            \n",
    "        #If this position has been evaluated as a Mate score and not a Centipawn score...\n",
    "        elif d['eval']['type'] == 'mate':\n",
    "            eval_output['is_mate_score'] = 1\n",
    "            #Use the score in the dictionary as the 'mate' score\n",
    "            eval_output['mate'] = convert_mate_score(d['eval']['value'], new_pl_is_white)\n",
    "            #The 'cp' score doesn't exist and won't be used, so we can just let it be 0\n",
    "            eval_output['cp'] = 0\n",
    "            \n",
    "        #Store this dictionary in our output dictionary\n",
    "        output['eval'] = eval_output\n",
    "        \n",
    "        \n",
    "        \n",
    "        #If this is the new player's turn, we also have to get the \"top 10 moves\" scores\n",
    "        if is_new_pl_turn:\n",
    "            \n",
    "            #Initialize a list to store the top 10 moves\n",
    "            top10_output = []\n",
    "            \n",
    "            #Get a list of the top 10 moves from Stockfish\n",
    "            top10 = d['top_10']\n",
    "            \n",
    "            #Check if we have fewer than 10 legal moves\n",
    "            num_moves = len(top10)\n",
    "            if num_moves < 10:\n",
    "                #If so, duplicate the last one until we have 10 moves\n",
    "                num_needed = 10 - num_moves\n",
    "                for _ in range(num_needed):\n",
    "                    top10.append(top10[num_moves-1])\n",
    "                    \n",
    "            #Loop through the top 10 moves and extract the information\n",
    "            for i in range(10):\n",
    "                move = top10[i]\n",
    "                move_output = {}\n",
    "                \n",
    "                #If this move has been evaluated as a Centipawn score and not a Mate score...\n",
    "                if not isinstance(move['Centipawn'], type(None)):\n",
    "                    move_output['is_mate_score'] = 0\n",
    "                    #Use the score in the dictionary as the 'cp' score\n",
    "                    move_output['cp'] = convert_cp_score(move['Centipawn'], new_pl_is_white)\n",
    "                    #The 'mate' score doesn't exist and won't be used, so we can just let it be 0\n",
    "                    move_output['mate'] = 0\n",
    "            \n",
    "                #If this move has been evaluated as a Mate score and not a Centipawn score...\n",
    "                elif not isinstance(move['Mate'], type(None)):\n",
    "                    move_output['is_mate_score'] = 1\n",
    "                    #Use the score in the dictionary as the 'mate' score\n",
    "                    move_output['mate'] = convert_mate_score(move['Mate'], new_pl_is_white)\n",
    "                    #The 'cp' score doesn't exist and won't be used, so we can just let it be 0\n",
    "                    move_output['cp'] = 0\n",
    "                    \n",
    "                #Add move output to our list of top 10 moves' scores\n",
    "                top10_output.append(move_output)\n",
    "            \n",
    "            #Add the top 10 moves' scores to our output dictionary\n",
    "            output['top10'] = top10_output    \n",
    "          \n",
    "        \n",
    "        #Return the output dictionary\n",
    "        return output\n",
    "    \n",
    "    \n",
    "    \n",
    "    \n",
    "    #If this IS a final position...\n",
    "    elif is_final_position:\n",
    "        \n",
    "        #Get the FEN string of the position\n",
    "        fen = d['fen']\n",
    "        #Create a chess.Board() object set to this position\n",
    "        board = chess.Board(fen)\n",
    "        \n",
    "        \n",
    "        \n",
    "        #If this is a checkmated position...\n",
    "        if board.is_checkmate():\n",
    "            #The player who has been checkmated is the player whose turn it is on the final board position\n",
    "            new_pl_checkmated = is_new_pl_turn\n",
    "            opp_checkmated = 1 - is_new_pl_turn\n",
    "            \n",
    "            #Manually set the evaluation to be the categorical value mentioned above\n",
    "            if new_pl_checkmated:\n",
    "                evaluation = 16\n",
    "            elif opp_checkmated:\n",
    "                evaluation = 0\n",
    "                \n",
    "            #Store the evaluation in a dictionary in the same format as everything else\n",
    "            output['eval'] = {'is_mate_score':1, 'cp':0, 'mate':evaluation}\n",
    "            return output\n",
    "        \n",
    "        \n",
    "        \n",
    "        #If this is a stalemated position...\n",
    "        elif board.is_stalemate():\n",
    "            #The player who has been stalemated is the player whose turn it is on the final board position\n",
    "            new_pl_stalemated = is_new_pl_turn\n",
    "            opp_stalemated = 1 - is_new_pl_turn\n",
    "            \n",
    "            #Manually set the evaluation to be the categorical value mentioned above\n",
    "            if new_pl_stalemated:\n",
    "                evaluation = 32\n",
    "            elif opp_stalemated:\n",
    "                evaluation = 33\n",
    "                \n",
    "            #Store the evaluation in a dictionary in the same format as everything else\n",
    "            output['eval'] = {'is_mate_score':1, 'cp':0, 'mate':evaluation}\n",
    "            return output\n",
    "         \n",
    "            \n",
    "            \n",
    "        #If this is a drawn position due to insufficient material...\n",
    "        elif board.is_stalemate():\n",
    "            \n",
    "            #Manually set the evaluation to be the categorical value mentioned above\n",
    "            evaluation = 34\n",
    "                \n",
    "            #Store the evaluation in a dictionary in the same format as everything else\n",
    "            output['eval'] = {'is_mate_score':1, 'cp':0, 'mate':evaluation}\n",
    "            return output\n",
    "        \n",
    "            \n",
    "        #Otherwise, there ARE moves available to be made, so we can just output things\n",
    "        #for this final board position in the same way that we would for a non-final position\n",
    "        else:\n",
    "            return get_eval_top_10(d, moves_so_far, new_pl_is_white, 0)\n",
    "        "
   ]
  },
  {
   "cell_type": "markdown",
   "id": "1a2558ac-34ba-4f15-9426-22c88bdea078",
   "metadata": {},
   "source": [
    "### Examples of applying the function"
   ]
  },
  {
   "cell_type": "code",
   "execution_count": 48,
   "id": "d09299bf-361b-4f30-8017-f109899cdb8c",
   "metadata": {},
   "outputs": [],
   "source": [
    "game_number = 123\n",
    "kind = 'train'\n",
    "game = eval(open(f\"{stockfish_paths_dict[kind]}/game{game_number}.txt\").read())"
   ]
  },
  {
   "cell_type": "markdown",
   "id": "f584c14b-44c0-458f-a582-55692ed0effa",
   "metadata": {},
   "source": [
    "#### Initial board position"
   ]
  },
  {
   "cell_type": "code",
   "execution_count": 49,
   "id": "247b2ed1-47f8-4675-b3fb-e3e54f36b3e1",
   "metadata": {},
   "outputs": [
    {
     "data": {
      "text/plain": [
       "{'eval': {'type': 'cp', 'value': 64},\n",
       " 'top_10': [{'Move': 'e2e4', 'Centipawn': 70, 'Mate': None},\n",
       "  {'Move': 'g1f3', 'Centipawn': 39, 'Mate': None},\n",
       "  {'Move': 'd2d4', 'Centipawn': 30, 'Mate': None},\n",
       "  {'Move': 'c2c4', 'Centipawn': 29, 'Mate': None},\n",
       "  {'Move': 'e2e3', 'Centipawn': 28, 'Mate': None},\n",
       "  {'Move': 'b1c3', 'Centipawn': 18, 'Mate': None},\n",
       "  {'Move': 'c2c3', 'Centipawn': -9, 'Mate': None},\n",
       "  {'Move': 'a2a3', 'Centipawn': -9, 'Mate': None},\n",
       "  {'Move': 'h2h3', 'Centipawn': -31, 'Mate': None},\n",
       "  {'Move': 'd2d3', 'Centipawn': -31, 'Mate': None}],\n",
       " 'fen': 'rnbqkbnr/pppppppp/8/8/8/8/PPPPPPPP/RNBQKBNR w KQkq - 0 1'}"
      ]
     },
     "execution_count": 49,
     "metadata": {},
     "output_type": "execute_result"
    }
   ],
   "source": [
    "moves_so_far = 0\n",
    "game[moves_so_far]"
   ]
  },
  {
   "cell_type": "code",
   "execution_count": 50,
   "id": "135a5010-0221-4760-b07e-2590628bc799",
   "metadata": {},
   "outputs": [
    {
     "data": {
      "text/plain": [
       "{'eval': {'is_mate_score': 0, 'cp': 64, 'mate': 0},\n",
       " 'top10': [{'is_mate_score': 0, 'cp': 70, 'mate': 0},\n",
       "  {'is_mate_score': 0, 'cp': 39, 'mate': 0},\n",
       "  {'is_mate_score': 0, 'cp': 30, 'mate': 0},\n",
       "  {'is_mate_score': 0, 'cp': 29, 'mate': 0},\n",
       "  {'is_mate_score': 0, 'cp': 28, 'mate': 0},\n",
       "  {'is_mate_score': 0, 'cp': 18, 'mate': 0},\n",
       "  {'is_mate_score': 0, 'cp': -9, 'mate': 0},\n",
       "  {'is_mate_score': 0, 'cp': -9, 'mate': 0},\n",
       "  {'is_mate_score': 0, 'cp': -31, 'mate': 0},\n",
       "  {'is_mate_score': 0, 'cp': -31, 'mate': 0}]}"
      ]
     },
     "execution_count": 50,
     "metadata": {},
     "output_type": "execute_result"
    }
   ],
   "source": [
    "#See what our function produces for this non-final position\n",
    "get_eval_top_10(d=game[moves_so_far], moves_so_far=moves_so_far, new_pl_is_white=1)"
   ]
  },
  {
   "cell_type": "markdown",
   "id": "df703fad-2d78-4a1c-9657-d66d22a52417",
   "metadata": {},
   "source": [
    "#### After 1 move"
   ]
  },
  {
   "cell_type": "code",
   "execution_count": 51,
   "id": "a95aa879-e2e8-40e4-9f97-57e83384b447",
   "metadata": {},
   "outputs": [
    {
     "data": {
      "text/plain": [
       "{'eval': {'type': 'cp', 'value': 23},\n",
       " 'fen': 'rnbqkbnr/pppppppp/8/8/8/4P3/PPPP1PPP/RNBQKBNR b KQkq - 0 1'}"
      ]
     },
     "execution_count": 51,
     "metadata": {},
     "output_type": "execute_result"
    }
   ],
   "source": [
    "moves_so_far = 1\n",
    "game[moves_so_far]"
   ]
  },
  {
   "cell_type": "code",
   "execution_count": 52,
   "id": "1887c99c-16b0-41d0-90a7-4ed3f39d9bf4",
   "metadata": {},
   "outputs": [
    {
     "data": {
      "text/plain": [
       "{'eval': {'is_mate_score': 0, 'cp': 23, 'mate': 0}}"
      ]
     },
     "execution_count": 52,
     "metadata": {},
     "output_type": "execute_result"
    }
   ],
   "source": [
    "#See what our function produces for this non-final position\n",
    "get_eval_top_10(d=game[moves_so_far], moves_so_far=moves_so_far, new_pl_is_white=1)"
   ]
  },
  {
   "cell_type": "markdown",
   "id": "f38826f1-c163-4c75-a6d3-2270899fdd77",
   "metadata": {},
   "source": [
    "#### After 2 moves"
   ]
  },
  {
   "cell_type": "code",
   "execution_count": 53,
   "id": "781aad5c-3f55-4b10-951f-9e6b66888d6d",
   "metadata": {},
   "outputs": [
    {
     "data": {
      "text/plain": [
       "{'eval': {'type': 'cp', 'value': 56},\n",
       " 'top_10': [{'Move': 'd2d4', 'Centipawn': 66, 'Mate': None},\n",
       "  {'Move': 'c2c4', 'Centipawn': 0, 'Mate': None},\n",
       "  {'Move': 'b1c3', 'Centipawn': -14, 'Mate': None},\n",
       "  {'Move': 'h2h3', 'Centipawn': -15, 'Mate': None},\n",
       "  {'Move': 'f1e2', 'Centipawn': -17, 'Mate': None},\n",
       "  {'Move': 'a2a3', 'Centipawn': -18, 'Mate': None},\n",
       "  {'Move': 'b2b3', 'Centipawn': -30, 'Mate': None},\n",
       "  {'Move': 'c2c3', 'Centipawn': -37, 'Mate': None},\n",
       "  {'Move': 'd2d3', 'Centipawn': -40, 'Mate': None},\n",
       "  {'Move': 'h2h4', 'Centipawn': -50, 'Mate': None}],\n",
       " 'fen': 'rnbqkbnr/pppp1ppp/8/4p3/8/4P3/PPPP1PPP/RNBQKBNR w KQkq - 0 2'}"
      ]
     },
     "execution_count": 53,
     "metadata": {},
     "output_type": "execute_result"
    }
   ],
   "source": [
    "moves_so_far = 2\n",
    "game[moves_so_far]"
   ]
  },
  {
   "cell_type": "code",
   "execution_count": 54,
   "id": "84173afd-f5c0-4bba-a6e7-9bbe3c3c2255",
   "metadata": {},
   "outputs": [
    {
     "data": {
      "text/plain": [
       "{'eval': {'is_mate_score': 0, 'cp': 56, 'mate': 0},\n",
       " 'top10': [{'is_mate_score': 0, 'cp': 66, 'mate': 0},\n",
       "  {'is_mate_score': 0, 'cp': 0, 'mate': 0},\n",
       "  {'is_mate_score': 0, 'cp': -14, 'mate': 0},\n",
       "  {'is_mate_score': 0, 'cp': -15, 'mate': 0},\n",
       "  {'is_mate_score': 0, 'cp': -17, 'mate': 0},\n",
       "  {'is_mate_score': 0, 'cp': -18, 'mate': 0},\n",
       "  {'is_mate_score': 0, 'cp': -30, 'mate': 0},\n",
       "  {'is_mate_score': 0, 'cp': -37, 'mate': 0},\n",
       "  {'is_mate_score': 0, 'cp': -40, 'mate': 0},\n",
       "  {'is_mate_score': 0, 'cp': -50, 'mate': 0}]}"
      ]
     },
     "execution_count": 54,
     "metadata": {},
     "output_type": "execute_result"
    }
   ],
   "source": [
    "#See what our function produces for this non-final position\n",
    "get_eval_top_10(d=game[moves_so_far], moves_so_far=moves_so_far, new_pl_is_white=1)"
   ]
  },
  {
   "cell_type": "markdown",
   "id": "8fa1eeed-b3fe-4610-9d08-b3d6cc545ea5",
   "metadata": {},
   "source": [
    "#### Final board position"
   ]
  },
  {
   "cell_type": "code",
   "execution_count": 55,
   "id": "d348ed90-decc-4bd5-89cb-3a01997366d2",
   "metadata": {},
   "outputs": [
    {
     "data": {
      "text/plain": [
       "{'fen': 'rn4k1/1p3ppp/p4q2/8/3P4/1P2K3/P7/7b w - - 0 36',\n",
       " 'eval': {'type': 'cp', 'value': -3962},\n",
       " 'top_10': [{'Move': 'e3e2', 'Centipawn': -4001, 'Mate': None},\n",
       "  {'Move': 'e3d3', 'Centipawn': -4017, 'Mate': None},\n",
       "  {'Move': 'a2a3', 'Centipawn': -4028, 'Mate': None},\n",
       "  {'Move': 'e3d2', 'Centipawn': -4211, 'Mate': None},\n",
       "  {'Move': 'b3b4', 'Centipawn': -4218, 'Mate': None},\n",
       "  {'Move': 'd4d5', 'Centipawn': -4221, 'Mate': None},\n",
       "  {'Move': 'a2a4', 'Centipawn': None, 'Mate': -7}]}"
      ]
     },
     "execution_count": 55,
     "metadata": {},
     "output_type": "execute_result"
    }
   ],
   "source": [
    "moves_so_far = len(game)-1\n",
    "game[moves_so_far]"
   ]
  },
  {
   "cell_type": "code",
   "execution_count": 56,
   "id": "611f07fb-34fa-470b-92fd-069801d16fe9",
   "metadata": {},
   "outputs": [
    {
     "data": {
      "image/svg+xml": [
       "<svg xmlns=\"http://www.w3.org/2000/svg\" xmlns:xlink=\"http://www.w3.org/1999/xlink\" version=\"1.2\" baseProfile=\"tiny\" viewBox=\"0 0 390 390\" width=\"390\" height=\"390\"><desc><pre>r n . . . . k .\n",
       ". p . . . p p p\n",
       "p . . . . q . .\n",
       ". . . . . . . .\n",
       ". . . P . . . .\n",
       ". P . . K . . .\n",
       "P . . . . . . .\n",
       ". . . . . . . b</pre></desc><defs><g id=\"white-pawn\" class=\"white pawn\"><path d=\"M22.5 9c-2.21 0-4 1.79-4 4 0 .89.29 1.71.78 2.38C17.33 16.5 16 18.59 16 21c0 2.03.94 3.84 2.41 5.03-3 1.06-7.41 5.55-7.41 13.47h23c0-7.92-4.41-12.41-7.41-13.47 1.47-1.19 2.41-3 2.41-5.03 0-2.41-1.33-4.5-3.28-5.62.49-.67.78-1.49.78-2.38 0-2.21-1.79-4-4-4z\" fill=\"#fff\" stroke=\"#000\" stroke-width=\"1.5\" stroke-linecap=\"round\" /></g><g id=\"white-king\" class=\"white king\" fill=\"none\" fill-rule=\"evenodd\" stroke=\"#000\" stroke-width=\"1.5\" stroke-linecap=\"round\" stroke-linejoin=\"round\"><path d=\"M22.5 11.63V6M20 8h5\" stroke-linejoin=\"miter\" /><path d=\"M22.5 25s4.5-7.5 3-10.5c0 0-1-2.5-3-2.5s-3 2.5-3 2.5c-1.5 3 3 10.5 3 10.5\" fill=\"#fff\" stroke-linecap=\"butt\" stroke-linejoin=\"miter\" /><path d=\"M11.5 37c5.5 3.5 15.5 3.5 21 0v-7s9-4.5 6-10.5c-4-6.5-13.5-3.5-16 4V27v-3.5c-3.5-7.5-13-10.5-16-4-3 6 5 10 5 10V37z\" fill=\"#fff\" /><path d=\"M11.5 30c5.5-3 15.5-3 21 0m-21 3.5c5.5-3 15.5-3 21 0m-21 3.5c5.5-3 15.5-3 21 0\" /></g><g id=\"black-pawn\" class=\"black pawn\"><path d=\"M22.5 9c-2.21 0-4 1.79-4 4 0 .89.29 1.71.78 2.38C17.33 16.5 16 18.59 16 21c0 2.03.94 3.84 2.41 5.03-3 1.06-7.41 5.55-7.41 13.47h23c0-7.92-4.41-12.41-7.41-13.47 1.47-1.19 2.41-3 2.41-5.03 0-2.41-1.33-4.5-3.28-5.62.49-.67.78-1.49.78-2.38 0-2.21-1.79-4-4-4z\" fill=\"#000\" stroke=\"#000\" stroke-width=\"1.5\" stroke-linecap=\"round\" /></g><g id=\"black-knight\" class=\"black knight\" fill=\"none\" fill-rule=\"evenodd\" stroke=\"#000\" stroke-width=\"1.5\" stroke-linecap=\"round\" stroke-linejoin=\"round\"><path d=\"M 22,10 C 32.5,11 38.5,18 38,39 L 15,39 C 15,30 25,32.5 23,18\" style=\"fill:#000000; stroke:#000000;\" /><path d=\"M 24,18 C 24.38,20.91 18.45,25.37 16,27 C 13,29 13.18,31.34 11,31 C 9.958,30.06 12.41,27.96 11,28 C 10,28 11.19,29.23 10,30 C 9,30 5.997,31 6,26 C 6,24 12,14 12,14 C 12,14 13.89,12.1 14,10.5 C 13.27,9.506 13.5,8.5 13.5,7.5 C 14.5,6.5 16.5,10 16.5,10 L 18.5,10 C 18.5,10 19.28,8.008 21,7 C 22,7 22,10 22,10\" style=\"fill:#000000; stroke:#000000;\" /><path d=\"M 9.5 25.5 A 0.5 0.5 0 1 1 8.5,25.5 A 0.5 0.5 0 1 1 9.5 25.5 z\" style=\"fill:#ececec; stroke:#ececec;\" /><path d=\"M 15 15.5 A 0.5 1.5 0 1 1 14,15.5 A 0.5 1.5 0 1 1 15 15.5 z\" transform=\"matrix(0.866,0.5,-0.5,0.866,9.693,-5.173)\" style=\"fill:#ececec; stroke:#ececec;\" /><path d=\"M 24.55,10.4 L 24.1,11.85 L 24.6,12 C 27.75,13 30.25,14.49 32.5,18.75 C 34.75,23.01 35.75,29.06 35.25,39 L 35.2,39.5 L 37.45,39.5 L 37.5,39 C 38,28.94 36.62,22.15 34.25,17.66 C 31.88,13.17 28.46,11.02 25.06,10.5 L 24.55,10.4 z \" style=\"fill:#ececec; stroke:none;\" /></g><g id=\"black-bishop\" class=\"black bishop\" fill=\"none\" fill-rule=\"evenodd\" stroke=\"#000\" stroke-width=\"1.5\" stroke-linecap=\"round\" stroke-linejoin=\"round\"><path d=\"M9 36c3.39-.97 10.11.43 13.5-2 3.39 2.43 10.11 1.03 13.5 2 0 0 1.65.54 3 2-.68.97-1.65.99-3 .5-3.39-.97-10.11.46-13.5-1-3.39 1.46-10.11.03-13.5 1-1.354.49-2.323.47-3-.5 1.354-1.94 3-2 3-2zm6-4c2.5 2.5 12.5 2.5 15 0 .5-1.5 0-2 0-2 0-2.5-2.5-4-2.5-4 5.5-1.5 6-11.5-5-15.5-11 4-10.5 14-5 15.5 0 0-2.5 1.5-2.5 4 0 0-.5.5 0 2zM25 8a2.5 2.5 0 1 1-5 0 2.5 2.5 0 1 1 5 0z\" fill=\"#000\" stroke-linecap=\"butt\" /><path d=\"M17.5 26h10M15 30h15m-7.5-14.5v5M20 18h5\" stroke=\"#fff\" stroke-linejoin=\"miter\" /></g><g id=\"black-rook\" class=\"black rook\" fill=\"#000\" fill-rule=\"evenodd\" stroke=\"#000\" stroke-width=\"1.5\" stroke-linecap=\"round\" stroke-linejoin=\"round\"><path d=\"M9 39h27v-3H9v3zM12.5 32l1.5-2.5h17l1.5 2.5h-20zM12 36v-4h21v4H12z\" stroke-linecap=\"butt\" /><path d=\"M14 29.5v-13h17v13H14z\" stroke-linecap=\"butt\" stroke-linejoin=\"miter\" /><path d=\"M14 16.5L11 14h23l-3 2.5H14zM11 14V9h4v2h5V9h5v2h5V9h4v5H11z\" stroke-linecap=\"butt\" /><path d=\"M12 35.5h21M13 31.5h19M14 29.5h17M14 16.5h17M11 14h23\" fill=\"none\" stroke=\"#fff\" stroke-width=\"1\" stroke-linejoin=\"miter\" /></g><g id=\"black-queen\" class=\"black queen\" fill=\"#000\" fill-rule=\"evenodd\" stroke=\"#000\" stroke-width=\"1.5\" stroke-linecap=\"round\" stroke-linejoin=\"round\"><g fill=\"#000\" stroke=\"none\"><circle cx=\"6\" cy=\"12\" r=\"2.75\" /><circle cx=\"14\" cy=\"9\" r=\"2.75\" /><circle cx=\"22.5\" cy=\"8\" r=\"2.75\" /><circle cx=\"31\" cy=\"9\" r=\"2.75\" /><circle cx=\"39\" cy=\"12\" r=\"2.75\" /></g><path d=\"M9 26c8.5-1.5 21-1.5 27 0l2.5-12.5L31 25l-.3-14.1-5.2 13.6-3-14.5-3 14.5-5.2-13.6L14 25 6.5 13.5 9 26zM9 26c0 2 1.5 2 2.5 4 1 1.5 1 1 .5 3.5-1.5 1-1.5 2.5-1.5 2.5-1.5 1.5.5 2.5.5 2.5 6.5 1 16.5 1 23 0 0 0 1.5-1 0-2.5 0 0 .5-1.5-1-2.5-.5-2.5-.5-2 .5-3.5 1-2 2.5-2 2.5-4-8.5-1.5-18.5-1.5-27 0z\" stroke-linecap=\"butt\" /><path d=\"M11 38.5a35 35 1 0 0 23 0\" fill=\"none\" stroke-linecap=\"butt\" /><path d=\"M11 29a35 35 1 0 1 23 0M12.5 31.5h20M11.5 34.5a35 35 1 0 0 22 0M10.5 37.5a35 35 1 0 0 24 0\" fill=\"none\" stroke=\"#fff\" /></g><g id=\"black-king\" class=\"black king\" fill=\"none\" fill-rule=\"evenodd\" stroke=\"#000\" stroke-width=\"1.5\" stroke-linecap=\"round\" stroke-linejoin=\"round\"><path d=\"M22.5 11.63V6\" stroke-linejoin=\"miter\" /><path d=\"M22.5 25s4.5-7.5 3-10.5c0 0-1-2.5-3-2.5s-3 2.5-3 2.5c-1.5 3 3 10.5 3 10.5\" fill=\"#000\" stroke-linecap=\"butt\" stroke-linejoin=\"miter\" /><path d=\"M11.5 37c5.5 3.5 15.5 3.5 21 0v-7s9-4.5 6-10.5c-4-6.5-13.5-3.5-16 4V27v-3.5c-3.5-7.5-13-10.5-16-4-3 6 5 10 5 10V37z\" fill=\"#000\" /><path d=\"M20 8h5\" stroke-linejoin=\"miter\" /><path d=\"M32 29.5s8.5-4 6.03-9.65C34.15 14 25 18 22.5 24.5l.01 2.1-.01-2.1C20 18 9.906 14 6.997 19.85c-2.497 5.65 4.853 9 4.853 9M11.5 30c5.5-3 15.5-3 21 0m-21 3.5c5.5-3 15.5-3 21 0m-21 3.5c5.5-3 15.5-3 21 0\" stroke=\"#fff\" /></g></defs><rect x=\"0\" y=\"0\" width=\"390\" height=\"390\" fill=\"#212121\" /><g transform=\"translate(20, 0) scale(0.75, 0.75)\" fill=\"#e5e5e5\" stroke=\"#e5e5e5\"><path d=\"M23.328 10.016q-1.742 0-2.414.398-.672.398-.672 1.36 0 .765.5 1.218.508.445 1.375.445 1.196 0 1.914-.843.727-.852.727-2.258v-.32zm2.867-.594v4.992h-1.437v-1.328q-.492.797-1.227 1.18-.734.375-1.797.375-1.343 0-2.14-.75-.79-.758-.79-2.024 0-1.476.985-2.226.992-.75 2.953-.75h2.016V8.75q0-.992-.656-1.531-.649-.547-1.829-.547-.75 0-1.46.18-.711.18-1.368.539V6.062q.79-.304 1.532-.453.742-.156 1.445-.156 1.898 0 2.836.984.937.985.937 2.985z\" /></g><g transform=\"translate(20, 375) scale(0.75, 0.75)\" fill=\"#e5e5e5\" stroke=\"#e5e5e5\"><path d=\"M23.328 10.016q-1.742 0-2.414.398-.672.398-.672 1.36 0 .765.5 1.218.508.445 1.375.445 1.196 0 1.914-.843.727-.852.727-2.258v-.32zm2.867-.594v4.992h-1.437v-1.328q-.492.797-1.227 1.18-.734.375-1.797.375-1.343 0-2.14-.75-.79-.758-.79-2.024 0-1.476.985-2.226.992-.75 2.953-.75h2.016V8.75q0-.992-.656-1.531-.649-.547-1.829-.547-.75 0-1.46.18-.711.18-1.368.539V6.062q.79-.304 1.532-.453.742-.156 1.445-.156 1.898 0 2.836.984.937.985.937 2.985z\" /></g><g transform=\"translate(65, 0) scale(0.75, 0.75)\" fill=\"#e5e5e5\" stroke=\"#e5e5e5\"><path d=\"M24.922 10.047q0-1.586-.656-2.485-.649-.906-1.79-.906-1.14 0-1.796.906-.649.899-.649 2.485 0 1.586.649 2.492.656.898 1.797.898 1.14 0 1.789-.898.656-.906.656-2.492zm-4.89-3.055q.452-.781 1.14-1.156.695-.383 1.656-.383 1.594 0 2.586 1.266 1 1.265 1 3.328 0 2.062-1 3.328-.992 1.266-2.586 1.266-.96 0-1.656-.375-.688-.383-1.14-1.164v1.312h-1.446V2.258h1.445z\" /></g><g transform=\"translate(65, 375) scale(0.75, 0.75)\" fill=\"#e5e5e5\" stroke=\"#e5e5e5\"><path d=\"M24.922 10.047q0-1.586-.656-2.485-.649-.906-1.79-.906-1.14 0-1.796.906-.649.899-.649 2.485 0 1.586.649 2.492.656.898 1.797.898 1.14 0 1.789-.898.656-.906.656-2.492zm-4.89-3.055q.452-.781 1.14-1.156.695-.383 1.656-.383 1.594 0 2.586 1.266 1 1.265 1 3.328 0 2.062-1 3.328-.992 1.266-2.586 1.266-.96 0-1.656-.375-.688-.383-1.14-1.164v1.312h-1.446V2.258h1.445z\" /></g><g transform=\"translate(110, 0) scale(0.75, 0.75)\" fill=\"#e5e5e5\" stroke=\"#e5e5e5\"><path d=\"M25.96 6v1.344q-.608-.336-1.226-.5-.609-.172-1.234-.172-1.398 0-2.172.89-.773.883-.773 2.485 0 1.601.773 2.492.774.883 2.172.883.625 0 1.234-.164.618-.172 1.227-.508v1.328q-.602.281-1.25.422-.64.14-1.367.14-1.977 0-3.14-1.242-1.165-1.242-1.165-3.351 0-2.14 1.172-3.367 1.18-1.227 3.227-1.227.664 0 1.296.14.633.134 1.227.407z\" /></g><g transform=\"translate(110, 375) scale(0.75, 0.75)\" fill=\"#e5e5e5\" stroke=\"#e5e5e5\"><path d=\"M25.96 6v1.344q-.608-.336-1.226-.5-.609-.172-1.234-.172-1.398 0-2.172.89-.773.883-.773 2.485 0 1.601.773 2.492.774.883 2.172.883.625 0 1.234-.164.618-.172 1.227-.508v1.328q-.602.281-1.25.422-.64.14-1.367.14-1.977 0-3.14-1.242-1.165-1.242-1.165-3.351 0-2.14 1.172-3.367 1.18-1.227 3.227-1.227.664 0 1.296.14.633.134 1.227.407z\" /></g><g transform=\"translate(155, 0) scale(0.75, 0.75)\" fill=\"#e5e5e5\" stroke=\"#e5e5e5\"><path d=\"M24.973 6.992V2.258h1.437v12.156h-1.437v-1.312q-.453.78-1.149 1.164-.687.375-1.656.375-1.586 0-2.586-1.266-.992-1.266-.992-3.328 0-2.063.992-3.328 1-1.266 2.586-1.266.969 0 1.656.383.696.375 1.149 1.156zm-4.899 3.055q0 1.586.649 2.492.656.898 1.797.898 1.14 0 1.796-.898.657-.906.657-2.492 0-1.586-.657-2.485-.656-.906-1.796-.906-1.141 0-1.797.906-.649.899-.649 2.485z\" /></g><g transform=\"translate(155, 375) scale(0.75, 0.75)\" fill=\"#e5e5e5\" stroke=\"#e5e5e5\"><path d=\"M24.973 6.992V2.258h1.437v12.156h-1.437v-1.312q-.453.78-1.149 1.164-.687.375-1.656.375-1.586 0-2.586-1.266-.992-1.266-.992-3.328 0-2.063.992-3.328 1-1.266 2.586-1.266.969 0 1.656.383.696.375 1.149 1.156zm-4.899 3.055q0 1.586.649 2.492.656.898 1.797.898 1.14 0 1.796-.898.657-.906.657-2.492 0-1.586-.657-2.485-.656-.906-1.796-.906-1.141 0-1.797.906-.649.899-.649 2.485z\" /></g><g transform=\"translate(200, 0) scale(0.75, 0.75)\" fill=\"#e5e5e5\" stroke=\"#e5e5e5\"><path d=\"M26.555 9.68v.703h-6.61q.094 1.484.89 2.265.806.774 2.235.774.828 0 1.602-.203.781-.203 1.547-.61v1.36q-.774.328-1.586.5-.813.172-1.649.172-2.093 0-3.32-1.22-1.219-1.218-1.219-3.296 0-2.148 1.157-3.406 1.164-1.266 3.132-1.266 1.766 0 2.79 1.14 1.03 1.134 1.03 3.087zm-1.438-.422q-.015-1.18-.664-1.883-.64-.703-1.703-.703-1.203 0-1.93.68-.718.68-.828 1.914z\" /></g><g transform=\"translate(200, 375) scale(0.75, 0.75)\" fill=\"#e5e5e5\" stroke=\"#e5e5e5\"><path d=\"M26.555 9.68v.703h-6.61q.094 1.484.89 2.265.806.774 2.235.774.828 0 1.602-.203.781-.203 1.547-.61v1.36q-.774.328-1.586.5-.813.172-1.649.172-2.093 0-3.32-1.22-1.219-1.218-1.219-3.296 0-2.148 1.157-3.406 1.164-1.266 3.132-1.266 1.766 0 2.79 1.14 1.03 1.134 1.03 3.087zm-1.438-.422q-.015-1.18-.664-1.883-.64-.703-1.703-.703-1.203 0-1.93.68-.718.68-.828 1.914z\" /></g><g transform=\"translate(245, 0) scale(0.75, 0.75)\" fill=\"#e5e5e5\" stroke=\"#e5e5e5\"><path d=\"M25.285 2.258v1.195H23.91q-.773 0-1.078.313-.297.312-.297 1.125v.773h2.367v1.117h-2.367v7.633H21.09V6.781h-1.375V5.664h1.375v-.61q0-1.46.68-2.124.68-.672 2.156-.672z\" /></g><g transform=\"translate(245, 375) scale(0.75, 0.75)\" fill=\"#e5e5e5\" stroke=\"#e5e5e5\"><path d=\"M25.285 2.258v1.195H23.91q-.773 0-1.078.313-.297.312-.297 1.125v.773h2.367v1.117h-2.367v7.633H21.09V6.781h-1.375V5.664h1.375v-.61q0-1.46.68-2.124.68-.672 2.156-.672z\" /></g><g transform=\"translate(290, 0) scale(0.75, 0.75)\" fill=\"#e5e5e5\" stroke=\"#e5e5e5\"><path d=\"M24.973 9.937q0-1.562-.649-2.421-.64-.86-1.804-.86-1.157 0-1.805.86-.64.859-.64 2.421 0 1.555.64 2.415.648.859 1.805.859 1.164 0 1.804-.86.649-.859.649-2.414zm1.437 3.391q0 2.234-.992 3.32-.992 1.094-3.04 1.094-.757 0-1.429-.117-.672-.11-1.304-.344v-1.398q.632.344 1.25.508.617.164 1.257.164 1.414 0 2.118-.743.703-.734.703-2.226v-.711q-.446.773-1.141 1.156-.695.383-1.664.383-1.61 0-2.594-1.227-.984-1.226-.984-3.25 0-2.03.984-3.257.985-1.227 2.594-1.227.969 0 1.664.383t1.14 1.156V5.664h1.438z\" /></g><g transform=\"translate(290, 375) scale(0.75, 0.75)\" fill=\"#e5e5e5\" stroke=\"#e5e5e5\"><path d=\"M24.973 9.937q0-1.562-.649-2.421-.64-.86-1.804-.86-1.157 0-1.805.86-.64.859-.64 2.421 0 1.555.64 2.415.648.859 1.805.859 1.164 0 1.804-.86.649-.859.649-2.414zm1.437 3.391q0 2.234-.992 3.32-.992 1.094-3.04 1.094-.757 0-1.429-.117-.672-.11-1.304-.344v-1.398q.632.344 1.25.508.617.164 1.257.164 1.414 0 2.118-.743.703-.734.703-2.226v-.711q-.446.773-1.141 1.156-.695.383-1.664.383-1.61 0-2.594-1.227-.984-1.226-.984-3.25 0-2.03.984-3.257.985-1.227 2.594-1.227.969 0 1.664.383t1.14 1.156V5.664h1.438z\" /></g><g transform=\"translate(335, 0) scale(0.75, 0.75)\" fill=\"#e5e5e5\" stroke=\"#e5e5e5\"><path d=\"M26.164 9.133v5.281h-1.437V9.18q0-1.243-.485-1.86-.484-.617-1.453-.617-1.164 0-1.836.742-.672.742-.672 2.024v4.945h-1.445V2.258h1.445v4.765q.516-.789 1.211-1.18.703-.39 1.617-.39 1.508 0 2.282.938.773.93.773 2.742z\" /></g><g transform=\"translate(335, 375) scale(0.75, 0.75)\" fill=\"#e5e5e5\" stroke=\"#e5e5e5\"><path d=\"M26.164 9.133v5.281h-1.437V9.18q0-1.243-.485-1.86-.484-.617-1.453-.617-1.164 0-1.836.742-.672.742-.672 2.024v4.945h-1.445V2.258h1.445v4.765q.516-.789 1.211-1.18.703-.39 1.617-.39 1.508 0 2.282.938.773.93.773 2.742z\" /></g><g transform=\"translate(0, 335) scale(0.75, 0.75)\" fill=\"#e5e5e5\" stroke=\"#e5e5e5\"><path d=\"M6.754 26.996h2.578v-8.898l-2.805.562v-1.437l2.79-.563h1.578v10.336h2.578v1.328h-6.72z\" /></g><g transform=\"translate(375, 335) scale(0.75, 0.75)\" fill=\"#e5e5e5\" stroke=\"#e5e5e5\"><path d=\"M6.754 26.996h2.578v-8.898l-2.805.562v-1.437l2.79-.563h1.578v10.336h2.578v1.328h-6.72z\" /></g><g transform=\"translate(0, 290) scale(0.75, 0.75)\" fill=\"#e5e5e5\" stroke=\"#e5e5e5\"><path d=\"M8.195 26.996h5.508v1.328H6.297v-1.328q.898-.93 2.445-2.492 1.555-1.57 1.953-2.024.758-.851 1.055-1.437.305-.594.305-1.164 0-.93-.657-1.516-.648-.586-1.695-.586-.742 0-1.57.258-.82.258-1.758.781v-1.593q.953-.383 1.781-.578.828-.196 1.516-.196 1.812 0 2.89.906 1.079.907 1.079 2.422 0 .72-.274 1.368-.265.64-.976 1.515-.196.227-1.243 1.313-1.046 1.078-2.953 3.023z\" /></g><g transform=\"translate(375, 290) scale(0.75, 0.75)\" fill=\"#e5e5e5\" stroke=\"#e5e5e5\"><path d=\"M8.195 26.996h5.508v1.328H6.297v-1.328q.898-.93 2.445-2.492 1.555-1.57 1.953-2.024.758-.851 1.055-1.437.305-.594.305-1.164 0-.93-.657-1.516-.648-.586-1.695-.586-.742 0-1.57.258-.82.258-1.758.781v-1.593q.953-.383 1.781-.578.828-.196 1.516-.196 1.812 0 2.89.906 1.079.907 1.079 2.422 0 .72-.274 1.368-.265.64-.976 1.515-.196.227-1.243 1.313-1.046 1.078-2.953 3.023z\" /></g><g transform=\"translate(0, 245) scale(0.75, 0.75)\" fill=\"#e5e5e5\" stroke=\"#e5e5e5\"><path d=\"M11.434 22.035q1.132.242 1.765 1.008.64.766.64 1.89 0 1.727-1.187 2.672-1.187.946-3.375.946-.734 0-1.515-.149-.774-.14-1.602-.43V26.45q.656.383 1.438.578.78.196 1.632.196 1.485 0 2.258-.586.782-.586.782-1.703 0-1.032-.727-1.61-.719-.586-2.008-.586h-1.36v-1.297h1.423q1.164 0 1.78-.46.618-.47.618-1.344 0-.899-.64-1.375-.633-.485-1.82-.485-.65 0-1.391.141-.743.14-1.633.437V16.95q.898-.25 1.68-.375.788-.125 1.484-.125 1.797 0 2.844.82 1.046.813 1.046 2.204 0 .968-.554 1.64-.555.664-1.578.922z\" /></g><g transform=\"translate(375, 245) scale(0.75, 0.75)\" fill=\"#e5e5e5\" stroke=\"#e5e5e5\"><path d=\"M11.434 22.035q1.132.242 1.765 1.008.64.766.64 1.89 0 1.727-1.187 2.672-1.187.946-3.375.946-.734 0-1.515-.149-.774-.14-1.602-.43V26.45q.656.383 1.438.578.78.196 1.632.196 1.485 0 2.258-.586.782-.586.782-1.703 0-1.032-.727-1.61-.719-.586-2.008-.586h-1.36v-1.297h1.423q1.164 0 1.78-.46.618-.47.618-1.344 0-.899-.64-1.375-.633-.485-1.82-.485-.65 0-1.391.141-.743.14-1.633.437V16.95q.898-.25 1.68-.375.788-.125 1.484-.125 1.797 0 2.844.82 1.046.813 1.046 2.204 0 .968-.554 1.64-.555.664-1.578.922z\" /></g><g transform=\"translate(0, 200) scale(0.75, 0.75)\" fill=\"#e5e5e5\" stroke=\"#e5e5e5\"><path d=\"M11.016 18.035L7.03 24.262h3.985zm-.414-1.375h1.984v7.602h1.664v1.312h-1.664v2.75h-1.57v-2.75H5.75v-1.523z\" /></g><g transform=\"translate(375, 200) scale(0.75, 0.75)\" fill=\"#e5e5e5\" stroke=\"#e5e5e5\"><path d=\"M11.016 18.035L7.03 24.262h3.985zm-.414-1.375h1.984v7.602h1.664v1.312h-1.664v2.75h-1.57v-2.75H5.75v-1.523z\" /></g><g transform=\"translate(0, 155) scale(0.75, 0.75)\" fill=\"#e5e5e5\" stroke=\"#e5e5e5\"><path d=\"M6.719 16.66h6.195v1.328h-4.75v2.86q.344-.118.688-.172.343-.063.687-.063 1.953 0 3.094 1.07 1.14 1.07 1.14 2.899 0 1.883-1.171 2.93-1.172 1.039-3.305 1.039-.735 0-1.5-.125-.758-.125-1.57-.375v-1.586q.703.383 1.453.57.75.188 1.586.188 1.351 0 2.14-.711.79-.711.79-1.93 0-1.219-.79-1.93-.789-.71-2.14-.71-.633 0-1.266.14-.625.14-1.281.438z\" /></g><g transform=\"translate(375, 155) scale(0.75, 0.75)\" fill=\"#e5e5e5\" stroke=\"#e5e5e5\"><path d=\"M6.719 16.66h6.195v1.328h-4.75v2.86q.344-.118.688-.172.343-.063.687-.063 1.953 0 3.094 1.07 1.14 1.07 1.14 2.899 0 1.883-1.171 2.93-1.172 1.039-3.305 1.039-.735 0-1.5-.125-.758-.125-1.57-.375v-1.586q.703.383 1.453.57.75.188 1.586.188 1.351 0 2.14-.711.79-.711.79-1.93 0-1.219-.79-1.93-.789-.71-2.14-.71-.633 0-1.266.14-.625.14-1.281.438z\" /></g><g transform=\"translate(0, 110) scale(0.75, 0.75)\" fill=\"#e5e5e5\" stroke=\"#e5e5e5\"><path d=\"M10.137 21.863q-1.063 0-1.688.727-.617.726-.617 1.992 0 1.258.617 1.992.625.727 1.688.727 1.062 0 1.68-.727.624-.734.624-1.992 0-1.266-.625-1.992-.617-.727-1.68-.727zm3.133-4.945v1.437q-.594-.28-1.204-.43-.601-.148-1.195-.148-1.562 0-2.39 1.055-.82 1.055-.938 3.188.46-.68 1.156-1.04.696-.367 1.531-.367 1.758 0 2.774 1.07 1.023 1.063 1.023 2.899 0 1.797-1.062 2.883-1.063 1.086-2.828 1.086-2.024 0-3.094-1.547-1.07-1.555-1.07-4.5 0-2.766 1.312-4.406 1.313-1.649 3.524-1.649.593 0 1.195.117.61.118 1.266.352z\" /></g><g transform=\"translate(375, 110) scale(0.75, 0.75)\" fill=\"#e5e5e5\" stroke=\"#e5e5e5\"><path d=\"M10.137 21.863q-1.063 0-1.688.727-.617.726-.617 1.992 0 1.258.617 1.992.625.727 1.688.727 1.062 0 1.68-.727.624-.734.624-1.992 0-1.266-.625-1.992-.617-.727-1.68-.727zm3.133-4.945v1.437q-.594-.28-1.204-.43-.601-.148-1.195-.148-1.562 0-2.39 1.055-.82 1.055-.938 3.188.46-.68 1.156-1.04.696-.367 1.531-.367 1.758 0 2.774 1.07 1.023 1.063 1.023 2.899 0 1.797-1.062 2.883-1.063 1.086-2.828 1.086-2.024 0-3.094-1.547-1.07-1.555-1.07-4.5 0-2.766 1.312-4.406 1.313-1.649 3.524-1.649.593 0 1.195.117.61.118 1.266.352z\" /></g><g transform=\"translate(0, 65) scale(0.75, 0.75)\" fill=\"#e5e5e5\" stroke=\"#e5e5e5\"><path d=\"M6.25 16.66h7.5v.672L9.516 28.324H7.867l3.985-10.336H6.25z\" /></g><g transform=\"translate(375, 65) scale(0.75, 0.75)\" fill=\"#e5e5e5\" stroke=\"#e5e5e5\"><path d=\"M6.25 16.66h7.5v.672L9.516 28.324H7.867l3.985-10.336H6.25z\" /></g><g transform=\"translate(0, 20) scale(0.75, 0.75)\" fill=\"#e5e5e5\" stroke=\"#e5e5e5\"><path d=\"M10 22.785q-1.125 0-1.773.602-.641.601-.641 1.656t.64 1.656q.649.602 1.774.602t1.773-.602q.649-.61.649-1.656 0-1.055-.649-1.656-.64-.602-1.773-.602zm-1.578-.672q-1.016-.25-1.586-.945-.563-.695-.563-1.695 0-1.399.993-2.211 1-.813 2.734-.813 1.742 0 2.734.813.993.812.993 2.21 0 1-.57 1.696-.563.695-1.571.945 1.14.266 1.773 1.04.641.773.641 1.89 0 1.695-1.04 2.602-1.03.906-2.96.906t-2.969-.906Q6 26.738 6 25.043q0-1.117.64-1.89.641-.774 1.782-1.04zm-.578-2.492q0 .906.562 1.414.57.508 1.594.508 1.016 0 1.586-.508.578-.508.578-1.414 0-.906-.578-1.414-.57-.508-1.586-.508-1.023 0-1.594.508-.562.508-.562 1.414z\" /></g><g transform=\"translate(375, 20) scale(0.75, 0.75)\" fill=\"#e5e5e5\" stroke=\"#e5e5e5\"><path d=\"M10 22.785q-1.125 0-1.773.602-.641.601-.641 1.656t.64 1.656q.649.602 1.774.602t1.773-.602q.649-.61.649-1.656 0-1.055-.649-1.656-.64-.602-1.773-.602zm-1.578-.672q-1.016-.25-1.586-.945-.563-.695-.563-1.695 0-1.399.993-2.211 1-.813 2.734-.813 1.742 0 2.734.813.993.812.993 2.21 0 1-.57 1.696-.563.695-1.571.945 1.14.266 1.773 1.04.641.773.641 1.89 0 1.695-1.04 2.602-1.03.906-2.96.906t-2.969-.906Q6 26.738 6 25.043q0-1.117.64-1.89.641-.774 1.782-1.04zm-.578-2.492q0 .906.562 1.414.57.508 1.594.508 1.016 0 1.586-.508.578-.508.578-1.414 0-.906-.578-1.414-.57-.508-1.586-.508-1.023 0-1.594.508-.562.508-.562 1.414z\" /></g><rect x=\"15\" y=\"330\" width=\"45\" height=\"45\" class=\"square dark a1\" stroke=\"none\" fill=\"#d18b47\" /><rect x=\"60\" y=\"330\" width=\"45\" height=\"45\" class=\"square light b1\" stroke=\"none\" fill=\"#ffce9e\" /><rect x=\"105\" y=\"330\" width=\"45\" height=\"45\" class=\"square dark c1\" stroke=\"none\" fill=\"#d18b47\" /><rect x=\"150\" y=\"330\" width=\"45\" height=\"45\" class=\"square light d1\" stroke=\"none\" fill=\"#ffce9e\" /><rect x=\"195\" y=\"330\" width=\"45\" height=\"45\" class=\"square dark e1\" stroke=\"none\" fill=\"#d18b47\" /><rect x=\"240\" y=\"330\" width=\"45\" height=\"45\" class=\"square light f1\" stroke=\"none\" fill=\"#ffce9e\" /><rect x=\"285\" y=\"330\" width=\"45\" height=\"45\" class=\"square dark g1\" stroke=\"none\" fill=\"#d18b47\" /><rect x=\"330\" y=\"330\" width=\"45\" height=\"45\" class=\"square light h1\" stroke=\"none\" fill=\"#ffce9e\" /><rect x=\"15\" y=\"285\" width=\"45\" height=\"45\" class=\"square light a2\" stroke=\"none\" fill=\"#ffce9e\" /><rect x=\"60\" y=\"285\" width=\"45\" height=\"45\" class=\"square dark b2\" stroke=\"none\" fill=\"#d18b47\" /><rect x=\"105\" y=\"285\" width=\"45\" height=\"45\" class=\"square light c2\" stroke=\"none\" fill=\"#ffce9e\" /><rect x=\"150\" y=\"285\" width=\"45\" height=\"45\" class=\"square dark d2\" stroke=\"none\" fill=\"#d18b47\" /><rect x=\"195\" y=\"285\" width=\"45\" height=\"45\" class=\"square light e2\" stroke=\"none\" fill=\"#ffce9e\" /><rect x=\"240\" y=\"285\" width=\"45\" height=\"45\" class=\"square dark f2\" stroke=\"none\" fill=\"#d18b47\" /><rect x=\"285\" y=\"285\" width=\"45\" height=\"45\" class=\"square light g2\" stroke=\"none\" fill=\"#ffce9e\" /><rect x=\"330\" y=\"285\" width=\"45\" height=\"45\" class=\"square dark h2\" stroke=\"none\" fill=\"#d18b47\" /><rect x=\"15\" y=\"240\" width=\"45\" height=\"45\" class=\"square dark a3\" stroke=\"none\" fill=\"#d18b47\" /><rect x=\"60\" y=\"240\" width=\"45\" height=\"45\" class=\"square light b3\" stroke=\"none\" fill=\"#ffce9e\" /><rect x=\"105\" y=\"240\" width=\"45\" height=\"45\" class=\"square dark c3\" stroke=\"none\" fill=\"#d18b47\" /><rect x=\"150\" y=\"240\" width=\"45\" height=\"45\" class=\"square light d3\" stroke=\"none\" fill=\"#ffce9e\" /><rect x=\"195\" y=\"240\" width=\"45\" height=\"45\" class=\"square dark e3\" stroke=\"none\" fill=\"#d18b47\" /><rect x=\"240\" y=\"240\" width=\"45\" height=\"45\" class=\"square light f3\" stroke=\"none\" fill=\"#ffce9e\" /><rect x=\"285\" y=\"240\" width=\"45\" height=\"45\" class=\"square dark g3\" stroke=\"none\" fill=\"#d18b47\" /><rect x=\"330\" y=\"240\" width=\"45\" height=\"45\" class=\"square light h3\" stroke=\"none\" fill=\"#ffce9e\" /><rect x=\"15\" y=\"195\" width=\"45\" height=\"45\" class=\"square light a4\" stroke=\"none\" fill=\"#ffce9e\" /><rect x=\"60\" y=\"195\" width=\"45\" height=\"45\" class=\"square dark b4\" stroke=\"none\" fill=\"#d18b47\" /><rect x=\"105\" y=\"195\" width=\"45\" height=\"45\" class=\"square light c4\" stroke=\"none\" fill=\"#ffce9e\" /><rect x=\"150\" y=\"195\" width=\"45\" height=\"45\" class=\"square dark d4\" stroke=\"none\" fill=\"#d18b47\" /><rect x=\"195\" y=\"195\" width=\"45\" height=\"45\" class=\"square light e4\" stroke=\"none\" fill=\"#ffce9e\" /><rect x=\"240\" y=\"195\" width=\"45\" height=\"45\" class=\"square dark f4\" stroke=\"none\" fill=\"#d18b47\" /><rect x=\"285\" y=\"195\" width=\"45\" height=\"45\" class=\"square light g4\" stroke=\"none\" fill=\"#ffce9e\" /><rect x=\"330\" y=\"195\" width=\"45\" height=\"45\" class=\"square dark h4\" stroke=\"none\" fill=\"#d18b47\" /><rect x=\"15\" y=\"150\" width=\"45\" height=\"45\" class=\"square dark a5\" stroke=\"none\" fill=\"#d18b47\" /><rect x=\"60\" y=\"150\" width=\"45\" height=\"45\" class=\"square light b5\" stroke=\"none\" fill=\"#ffce9e\" /><rect x=\"105\" y=\"150\" width=\"45\" height=\"45\" class=\"square dark c5\" stroke=\"none\" fill=\"#d18b47\" /><rect x=\"150\" y=\"150\" width=\"45\" height=\"45\" class=\"square light d5\" stroke=\"none\" fill=\"#ffce9e\" /><rect x=\"195\" y=\"150\" width=\"45\" height=\"45\" class=\"square dark e5\" stroke=\"none\" fill=\"#d18b47\" /><rect x=\"240\" y=\"150\" width=\"45\" height=\"45\" class=\"square light f5\" stroke=\"none\" fill=\"#ffce9e\" /><rect x=\"285\" y=\"150\" width=\"45\" height=\"45\" class=\"square dark g5\" stroke=\"none\" fill=\"#d18b47\" /><rect x=\"330\" y=\"150\" width=\"45\" height=\"45\" class=\"square light h5\" stroke=\"none\" fill=\"#ffce9e\" /><rect x=\"15\" y=\"105\" width=\"45\" height=\"45\" class=\"square light a6\" stroke=\"none\" fill=\"#ffce9e\" /><rect x=\"60\" y=\"105\" width=\"45\" height=\"45\" class=\"square dark b6\" stroke=\"none\" fill=\"#d18b47\" /><rect x=\"105\" y=\"105\" width=\"45\" height=\"45\" class=\"square light c6\" stroke=\"none\" fill=\"#ffce9e\" /><rect x=\"150\" y=\"105\" width=\"45\" height=\"45\" class=\"square dark d6\" stroke=\"none\" fill=\"#d18b47\" /><rect x=\"195\" y=\"105\" width=\"45\" height=\"45\" class=\"square light e6\" stroke=\"none\" fill=\"#ffce9e\" /><rect x=\"240\" y=\"105\" width=\"45\" height=\"45\" class=\"square dark f6\" stroke=\"none\" fill=\"#d18b47\" /><rect x=\"285\" y=\"105\" width=\"45\" height=\"45\" class=\"square light g6\" stroke=\"none\" fill=\"#ffce9e\" /><rect x=\"330\" y=\"105\" width=\"45\" height=\"45\" class=\"square dark h6\" stroke=\"none\" fill=\"#d18b47\" /><rect x=\"15\" y=\"60\" width=\"45\" height=\"45\" class=\"square dark a7\" stroke=\"none\" fill=\"#d18b47\" /><rect x=\"60\" y=\"60\" width=\"45\" height=\"45\" class=\"square light b7\" stroke=\"none\" fill=\"#ffce9e\" /><rect x=\"105\" y=\"60\" width=\"45\" height=\"45\" class=\"square dark c7\" stroke=\"none\" fill=\"#d18b47\" /><rect x=\"150\" y=\"60\" width=\"45\" height=\"45\" class=\"square light d7\" stroke=\"none\" fill=\"#ffce9e\" /><rect x=\"195\" y=\"60\" width=\"45\" height=\"45\" class=\"square dark e7\" stroke=\"none\" fill=\"#d18b47\" /><rect x=\"240\" y=\"60\" width=\"45\" height=\"45\" class=\"square light f7\" stroke=\"none\" fill=\"#ffce9e\" /><rect x=\"285\" y=\"60\" width=\"45\" height=\"45\" class=\"square dark g7\" stroke=\"none\" fill=\"#d18b47\" /><rect x=\"330\" y=\"60\" width=\"45\" height=\"45\" class=\"square light h7\" stroke=\"none\" fill=\"#ffce9e\" /><rect x=\"15\" y=\"15\" width=\"45\" height=\"45\" class=\"square light a8\" stroke=\"none\" fill=\"#ffce9e\" /><rect x=\"60\" y=\"15\" width=\"45\" height=\"45\" class=\"square dark b8\" stroke=\"none\" fill=\"#d18b47\" /><rect x=\"105\" y=\"15\" width=\"45\" height=\"45\" class=\"square light c8\" stroke=\"none\" fill=\"#ffce9e\" /><rect x=\"150\" y=\"15\" width=\"45\" height=\"45\" class=\"square dark d8\" stroke=\"none\" fill=\"#d18b47\" /><rect x=\"195\" y=\"15\" width=\"45\" height=\"45\" class=\"square light e8\" stroke=\"none\" fill=\"#ffce9e\" /><rect x=\"240\" y=\"15\" width=\"45\" height=\"45\" class=\"square dark f8\" stroke=\"none\" fill=\"#d18b47\" /><rect x=\"285\" y=\"15\" width=\"45\" height=\"45\" class=\"square light g8\" stroke=\"none\" fill=\"#ffce9e\" /><rect x=\"330\" y=\"15\" width=\"45\" height=\"45\" class=\"square dark h8\" stroke=\"none\" fill=\"#d18b47\" /><use href=\"#black-bishop\" xlink:href=\"#black-bishop\" transform=\"translate(330, 330)\" /><use href=\"#white-pawn\" xlink:href=\"#white-pawn\" transform=\"translate(15, 285)\" /><use href=\"#white-pawn\" xlink:href=\"#white-pawn\" transform=\"translate(60, 240)\" /><use href=\"#white-king\" xlink:href=\"#white-king\" transform=\"translate(195, 240)\" /><use href=\"#white-pawn\" xlink:href=\"#white-pawn\" transform=\"translate(150, 195)\" /><use href=\"#black-pawn\" xlink:href=\"#black-pawn\" transform=\"translate(15, 105)\" /><use href=\"#black-queen\" xlink:href=\"#black-queen\" transform=\"translate(240, 105)\" /><use href=\"#black-pawn\" xlink:href=\"#black-pawn\" transform=\"translate(60, 60)\" /><use href=\"#black-pawn\" xlink:href=\"#black-pawn\" transform=\"translate(240, 60)\" /><use href=\"#black-pawn\" xlink:href=\"#black-pawn\" transform=\"translate(285, 60)\" /><use href=\"#black-pawn\" xlink:href=\"#black-pawn\" transform=\"translate(330, 60)\" /><use href=\"#black-rook\" xlink:href=\"#black-rook\" transform=\"translate(15, 15)\" /><use href=\"#black-knight\" xlink:href=\"#black-knight\" transform=\"translate(60, 15)\" /><use href=\"#black-king\" xlink:href=\"#black-king\" transform=\"translate(285, 15)\" /></svg>"
      ],
      "text/plain": [
       "Board('rn4k1/1p3ppp/p4q2/8/3P4/1P2K3/P7/7b w - - 0 36')"
      ]
     },
     "execution_count": 56,
     "metadata": {},
     "output_type": "execute_result"
    }
   ],
   "source": [
    "#Look at the board for the final position\n",
    "fen = game[moves_so_far]['fen']\n",
    "board = chess.Board(fen)\n",
    "board"
   ]
  },
  {
   "cell_type": "code",
   "execution_count": 57,
   "id": "83e71e94-5520-4e34-9351-6e07419f2f91",
   "metadata": {},
   "outputs": [
    {
     "data": {
      "text/plain": [
       "{'eval': {'is_mate_score': 0, 'cp': -3962, 'mate': 0},\n",
       " 'top10': [{'is_mate_score': 0, 'cp': -4001, 'mate': 0},\n",
       "  {'is_mate_score': 0, 'cp': -4017, 'mate': 0},\n",
       "  {'is_mate_score': 0, 'cp': -4028, 'mate': 0},\n",
       "  {'is_mate_score': 0, 'cp': -4211, 'mate': 0},\n",
       "  {'is_mate_score': 0, 'cp': -4218, 'mate': 0},\n",
       "  {'is_mate_score': 0, 'cp': -4221, 'mate': 0},\n",
       "  {'is_mate_score': 1, 'mate': 23, 'cp': 0},\n",
       "  {'is_mate_score': 1, 'mate': 23, 'cp': 0},\n",
       "  {'is_mate_score': 1, 'mate': 23, 'cp': 0},\n",
       "  {'is_mate_score': 1, 'mate': 23, 'cp': 0}]}"
      ]
     },
     "execution_count": 57,
     "metadata": {},
     "output_type": "execute_result"
    }
   ],
   "source": [
    "#See what our function produces for this FINAL position\n",
    "get_eval_top_10(d=game[moves_so_far], moves_so_far=moves_so_far, new_pl_is_white=1, is_final_position=1)"
   ]
  },
  {
   "cell_type": "markdown",
   "id": "3c270121-8011-4300-a5ab-ec84c0307a56",
   "metadata": {},
   "source": [
    "Notice that since this final board position is *not* one where there are no legal moves that can be made (and it is a turn where the new player would normally be asked to make a move), our function *does* return a \"top 10 moves\".  Since there were fewer than 10 legal moves available, our function duplicated the worst legal move a number of times until we had 10 moves.  Also, since the new player's worst possible move leads to her being checkmated in 7 moves, the score of this move is reported as a 'mate' score of 16 + 7 = 23 (according to the categorical Mate score system mentioned above)."
   ]
  },
  {
   "cell_type": "markdown",
   "id": "9ddcfac4-f004-422c-9068-be7fcaa99db6",
   "metadata": {},
   "source": [
    "#### A game where the new player is playing Black"
   ]
  },
  {
   "cell_type": "code",
   "execution_count": 58,
   "id": "a6afcf53-3e5c-402f-a03b-362b0899f973",
   "metadata": {},
   "outputs": [
    {
     "data": {
      "text/html": [
       "<div>\n",
       "<style scoped>\n",
       "    .dataframe tbody tr th:only-of-type {\n",
       "        vertical-align: middle;\n",
       "    }\n",
       "\n",
       "    .dataframe tbody tr th {\n",
       "        vertical-align: top;\n",
       "    }\n",
       "\n",
       "    .dataframe thead th {\n",
       "        text-align: right;\n",
       "    }\n",
       "</style>\n",
       "<table border=\"1\" class=\"dataframe\">\n",
       "  <thead>\n",
       "    <tr style=\"text-align: right;\">\n",
       "      <th></th>\n",
       "      <th>opponent</th>\n",
       "      <th>new_pl_color</th>\n",
       "      <th>new_pl_won</th>\n",
       "      <th>new_pl_elo</th>\n",
       "      <th>opp_elo</th>\n",
       "      <th>new_pl_rating_diff</th>\n",
       "      <th>opp_rating_diff</th>\n",
       "      <th>game_length</th>\n",
       "      <th>time_limit</th>\n",
       "      <th>time_gain_per_move</th>\n",
       "      <th>event</th>\n",
       "      <th>termination</th>\n",
       "      <th>conceded</th>\n",
       "      <th>datetime</th>\n",
       "      <th>timestamp</th>\n",
       "      <th>moves</th>\n",
       "      <th>both_players_1st_game</th>\n",
       "    </tr>\n",
       "    <tr>\n",
       "      <th>name_of_pl_playing_1st_game</th>\n",
       "      <th></th>\n",
       "      <th></th>\n",
       "      <th></th>\n",
       "      <th></th>\n",
       "      <th></th>\n",
       "      <th></th>\n",
       "      <th></th>\n",
       "      <th></th>\n",
       "      <th></th>\n",
       "      <th></th>\n",
       "      <th></th>\n",
       "      <th></th>\n",
       "      <th></th>\n",
       "      <th></th>\n",
       "      <th></th>\n",
       "      <th></th>\n",
       "      <th></th>\n",
       "    </tr>\n",
       "  </thead>\n",
       "  <tbody>\n",
       "    <tr>\n",
       "      <th>sarazony</th>\n",
       "      <td>giamfede</td>\n",
       "      <td>Black</td>\n",
       "      <td>0.0</td>\n",
       "      <td>1500.0</td>\n",
       "      <td>1526.0</td>\n",
       "      <td>-163.0</td>\n",
       "      <td>7.0</td>\n",
       "      <td>53</td>\n",
       "      <td>900.0</td>\n",
       "      <td>0.0</td>\n",
       "      <td>Classical</td>\n",
       "      <td>Normal</td>\n",
       "      <td>1</td>\n",
       "      <td>2016-07-23 14:00:48</td>\n",
       "      <td>1.469282e+09</td>\n",
       "      <td>d4 d5 e3 e6 Bd3 Nf6 f4 Bb4+ Nc3 O-O Nf3 c6 O-O...</td>\n",
       "      <td>0</td>\n",
       "    </tr>\n",
       "  </tbody>\n",
       "</table>\n",
       "</div>"
      ],
      "text/plain": [
       "                             opponent new_pl_color  new_pl_won  new_pl_elo  \\\n",
       "name_of_pl_playing_1st_game                                                  \n",
       "sarazony                     giamfede        Black         0.0      1500.0   \n",
       "\n",
       "                             opp_elo  new_pl_rating_diff  opp_rating_diff  \\\n",
       "name_of_pl_playing_1st_game                                                 \n",
       "sarazony                      1526.0              -163.0              7.0   \n",
       "\n",
       "                             game_length  time_limit  time_gain_per_move  \\\n",
       "name_of_pl_playing_1st_game                                                \n",
       "sarazony                              53       900.0                 0.0   \n",
       "\n",
       "                                 event termination  conceded  \\\n",
       "name_of_pl_playing_1st_game                                    \n",
       "sarazony                     Classical      Normal         1   \n",
       "\n",
       "                                        datetime     timestamp  \\\n",
       "name_of_pl_playing_1st_game                                      \n",
       "sarazony                     2016-07-23 14:00:48  1.469282e+09   \n",
       "\n",
       "                                                                         moves  \\\n",
       "name_of_pl_playing_1st_game                                                      \n",
       "sarazony                     d4 d5 e3 e6 Bd3 Nf6 f4 Bb4+ Nc3 O-O Nf3 c6 O-O...   \n",
       "\n",
       "                             both_players_1st_game  \n",
       "name_of_pl_playing_1st_game                         \n",
       "sarazony                                         0  "
      ]
     },
     "execution_count": 58,
     "metadata": {},
     "output_type": "execute_result"
    }
   ],
   "source": [
    "game_number = 3333\n",
    "train_1st.iloc[[game_number]]"
   ]
  },
  {
   "cell_type": "markdown",
   "id": "84add9b2-92cb-4497-ae88-c377522aad20",
   "metadata": {},
   "source": [
    "This is a game where the new player was playing Black and lost."
   ]
  },
  {
   "cell_type": "code",
   "execution_count": 59,
   "id": "9fae8f1e-8b2d-4819-8582-d24e1ee60267",
   "metadata": {},
   "outputs": [],
   "source": [
    "game = eval(open(f\"{stockfish_paths_dict['train']}/game{game_number}.txt\").read())"
   ]
  },
  {
   "cell_type": "code",
   "execution_count": 60,
   "id": "da9ed4d9-99f2-4ba2-a173-4e107863a271",
   "metadata": {},
   "outputs": [
    {
     "data": {
      "text/plain": [
       "{'fen': '5rk1/p4pp1/4p2p/3p4/3P1P2/4R3/PR4PP/5QK1 b - - 0 27',\n",
       " 'eval': {'type': 'cp', 'value': 732},\n",
       " 'top_10': [{'Move': 'g8h7', 'Centipawn': 904, 'Mate': None},\n",
       "  {'Move': 'a7a5', 'Centipawn': 908, 'Mate': None},\n",
       "  {'Move': 'f8c8', 'Centipawn': 912, 'Mate': None},\n",
       "  {'Move': 'a7a6', 'Centipawn': 917, 'Mate': None},\n",
       "  {'Move': 'h6h5', 'Centipawn': 932, 'Mate': None},\n",
       "  {'Move': 'e6e5', 'Centipawn': 993, 'Mate': None},\n",
       "  {'Move': 'g8h8', 'Centipawn': 1001, 'Mate': None},\n",
       "  {'Move': 'g7g6', 'Centipawn': 1224, 'Mate': None},\n",
       "  {'Move': 'f8d8', 'Centipawn': 1238, 'Mate': None},\n",
       "  {'Move': 'f8e8', 'Centipawn': 1527, 'Mate': None}]}"
      ]
     },
     "execution_count": 60,
     "metadata": {},
     "output_type": "execute_result"
    }
   ],
   "source": [
    "#Look at the final position for this game that the new player LOST (the new player was\n",
    "#playing Black)\n",
    "moves_so_far = len(game)-1\n",
    "fen = game[moves_so_far]['fen']\n",
    "game[moves_so_far]"
   ]
  },
  {
   "cell_type": "code",
   "execution_count": 61,
   "id": "90823aab-a90b-4e9a-897b-90ba9f668ba1",
   "metadata": {},
   "outputs": [
    {
     "data": {
      "image/svg+xml": [
       "<svg xmlns=\"http://www.w3.org/2000/svg\" xmlns:xlink=\"http://www.w3.org/1999/xlink\" version=\"1.2\" baseProfile=\"tiny\" viewBox=\"0 0 390 390\" width=\"390\" height=\"390\"><desc><pre>. . . . . r k .\n",
       "p . . . . p p .\n",
       ". . . . p . . p\n",
       ". . . p . . . .\n",
       ". . . P . P . .\n",
       ". . . . R . . .\n",
       "P R . . . . P P\n",
       ". . . . . Q K .</pre></desc><defs><g id=\"white-pawn\" class=\"white pawn\"><path d=\"M22.5 9c-2.21 0-4 1.79-4 4 0 .89.29 1.71.78 2.38C17.33 16.5 16 18.59 16 21c0 2.03.94 3.84 2.41 5.03-3 1.06-7.41 5.55-7.41 13.47h23c0-7.92-4.41-12.41-7.41-13.47 1.47-1.19 2.41-3 2.41-5.03 0-2.41-1.33-4.5-3.28-5.62.49-.67.78-1.49.78-2.38 0-2.21-1.79-4-4-4z\" fill=\"#fff\" stroke=\"#000\" stroke-width=\"1.5\" stroke-linecap=\"round\" /></g><g id=\"white-rook\" class=\"white rook\" fill=\"#fff\" fill-rule=\"evenodd\" stroke=\"#000\" stroke-width=\"1.5\" stroke-linecap=\"round\" stroke-linejoin=\"round\"><path d=\"M9 39h27v-3H9v3zM12 36v-4h21v4H12zM11 14V9h4v2h5V9h5v2h5V9h4v5\" stroke-linecap=\"butt\" /><path d=\"M34 14l-3 3H14l-3-3\" /><path d=\"M31 17v12.5H14V17\" stroke-linecap=\"butt\" stroke-linejoin=\"miter\" /><path d=\"M31 29.5l1.5 2.5h-20l1.5-2.5\" /><path d=\"M11 14h23\" fill=\"none\" stroke-linejoin=\"miter\" /></g><g id=\"white-queen\" class=\"white queen\" fill=\"#fff\" fill-rule=\"evenodd\" stroke=\"#000\" stroke-width=\"1.5\" stroke-linecap=\"round\" stroke-linejoin=\"round\"><path d=\"M8 12a2 2 0 1 1-4 0 2 2 0 1 1 4 0zM24.5 7.5a2 2 0 1 1-4 0 2 2 0 1 1 4 0zM41 12a2 2 0 1 1-4 0 2 2 0 1 1 4 0zM16 8.5a2 2 0 1 1-4 0 2 2 0 1 1 4 0zM33 9a2 2 0 1 1-4 0 2 2 0 1 1 4 0z\" /><path d=\"M9 26c8.5-1.5 21-1.5 27 0l2-12-7 11V11l-5.5 13.5-3-15-3 15-5.5-14V25L7 14l2 12zM9 26c0 2 1.5 2 2.5 4 1 1.5 1 1 .5 3.5-1.5 1-1.5 2.5-1.5 2.5-1.5 1.5.5 2.5.5 2.5 6.5 1 16.5 1 23 0 0 0 1.5-1 0-2.5 0 0 .5-1.5-1-2.5-.5-2.5-.5-2 .5-3.5 1-2 2.5-2 2.5-4-8.5-1.5-18.5-1.5-27 0z\" stroke-linecap=\"butt\" /><path d=\"M11.5 30c3.5-1 18.5-1 22 0M12 33.5c6-1 15-1 21 0\" fill=\"none\" /></g><g id=\"white-king\" class=\"white king\" fill=\"none\" fill-rule=\"evenodd\" stroke=\"#000\" stroke-width=\"1.5\" stroke-linecap=\"round\" stroke-linejoin=\"round\"><path d=\"M22.5 11.63V6M20 8h5\" stroke-linejoin=\"miter\" /><path d=\"M22.5 25s4.5-7.5 3-10.5c0 0-1-2.5-3-2.5s-3 2.5-3 2.5c-1.5 3 3 10.5 3 10.5\" fill=\"#fff\" stroke-linecap=\"butt\" stroke-linejoin=\"miter\" /><path d=\"M11.5 37c5.5 3.5 15.5 3.5 21 0v-7s9-4.5 6-10.5c-4-6.5-13.5-3.5-16 4V27v-3.5c-3.5-7.5-13-10.5-16-4-3 6 5 10 5 10V37z\" fill=\"#fff\" /><path d=\"M11.5 30c5.5-3 15.5-3 21 0m-21 3.5c5.5-3 15.5-3 21 0m-21 3.5c5.5-3 15.5-3 21 0\" /></g><g id=\"black-pawn\" class=\"black pawn\"><path d=\"M22.5 9c-2.21 0-4 1.79-4 4 0 .89.29 1.71.78 2.38C17.33 16.5 16 18.59 16 21c0 2.03.94 3.84 2.41 5.03-3 1.06-7.41 5.55-7.41 13.47h23c0-7.92-4.41-12.41-7.41-13.47 1.47-1.19 2.41-3 2.41-5.03 0-2.41-1.33-4.5-3.28-5.62.49-.67.78-1.49.78-2.38 0-2.21-1.79-4-4-4z\" fill=\"#000\" stroke=\"#000\" stroke-width=\"1.5\" stroke-linecap=\"round\" /></g><g id=\"black-rook\" class=\"black rook\" fill=\"#000\" fill-rule=\"evenodd\" stroke=\"#000\" stroke-width=\"1.5\" stroke-linecap=\"round\" stroke-linejoin=\"round\"><path d=\"M9 39h27v-3H9v3zM12.5 32l1.5-2.5h17l1.5 2.5h-20zM12 36v-4h21v4H12z\" stroke-linecap=\"butt\" /><path d=\"M14 29.5v-13h17v13H14z\" stroke-linecap=\"butt\" stroke-linejoin=\"miter\" /><path d=\"M14 16.5L11 14h23l-3 2.5H14zM11 14V9h4v2h5V9h5v2h5V9h4v5H11z\" stroke-linecap=\"butt\" /><path d=\"M12 35.5h21M13 31.5h19M14 29.5h17M14 16.5h17M11 14h23\" fill=\"none\" stroke=\"#fff\" stroke-width=\"1\" stroke-linejoin=\"miter\" /></g><g id=\"black-king\" class=\"black king\" fill=\"none\" fill-rule=\"evenodd\" stroke=\"#000\" stroke-width=\"1.5\" stroke-linecap=\"round\" stroke-linejoin=\"round\"><path d=\"M22.5 11.63V6\" stroke-linejoin=\"miter\" /><path d=\"M22.5 25s4.5-7.5 3-10.5c0 0-1-2.5-3-2.5s-3 2.5-3 2.5c-1.5 3 3 10.5 3 10.5\" fill=\"#000\" stroke-linecap=\"butt\" stroke-linejoin=\"miter\" /><path d=\"M11.5 37c5.5 3.5 15.5 3.5 21 0v-7s9-4.5 6-10.5c-4-6.5-13.5-3.5-16 4V27v-3.5c-3.5-7.5-13-10.5-16-4-3 6 5 10 5 10V37z\" fill=\"#000\" /><path d=\"M20 8h5\" stroke-linejoin=\"miter\" /><path d=\"M32 29.5s8.5-4 6.03-9.65C34.15 14 25 18 22.5 24.5l.01 2.1-.01-2.1C20 18 9.906 14 6.997 19.85c-2.497 5.65 4.853 9 4.853 9M11.5 30c5.5-3 15.5-3 21 0m-21 3.5c5.5-3 15.5-3 21 0m-21 3.5c5.5-3 15.5-3 21 0\" stroke=\"#fff\" /></g></defs><rect x=\"0\" y=\"0\" width=\"390\" height=\"390\" fill=\"#212121\" /><g transform=\"translate(20, 0) scale(0.75, 0.75)\" fill=\"#e5e5e5\" stroke=\"#e5e5e5\"><path d=\"M23.328 10.016q-1.742 0-2.414.398-.672.398-.672 1.36 0 .765.5 1.218.508.445 1.375.445 1.196 0 1.914-.843.727-.852.727-2.258v-.32zm2.867-.594v4.992h-1.437v-1.328q-.492.797-1.227 1.18-.734.375-1.797.375-1.343 0-2.14-.75-.79-.758-.79-2.024 0-1.476.985-2.226.992-.75 2.953-.75h2.016V8.75q0-.992-.656-1.531-.649-.547-1.829-.547-.75 0-1.46.18-.711.18-1.368.539V6.062q.79-.304 1.532-.453.742-.156 1.445-.156 1.898 0 2.836.984.937.985.937 2.985z\" /></g><g transform=\"translate(20, 375) scale(0.75, 0.75)\" fill=\"#e5e5e5\" stroke=\"#e5e5e5\"><path d=\"M23.328 10.016q-1.742 0-2.414.398-.672.398-.672 1.36 0 .765.5 1.218.508.445 1.375.445 1.196 0 1.914-.843.727-.852.727-2.258v-.32zm2.867-.594v4.992h-1.437v-1.328q-.492.797-1.227 1.18-.734.375-1.797.375-1.343 0-2.14-.75-.79-.758-.79-2.024 0-1.476.985-2.226.992-.75 2.953-.75h2.016V8.75q0-.992-.656-1.531-.649-.547-1.829-.547-.75 0-1.46.18-.711.18-1.368.539V6.062q.79-.304 1.532-.453.742-.156 1.445-.156 1.898 0 2.836.984.937.985.937 2.985z\" /></g><g transform=\"translate(65, 0) scale(0.75, 0.75)\" fill=\"#e5e5e5\" stroke=\"#e5e5e5\"><path d=\"M24.922 10.047q0-1.586-.656-2.485-.649-.906-1.79-.906-1.14 0-1.796.906-.649.899-.649 2.485 0 1.586.649 2.492.656.898 1.797.898 1.14 0 1.789-.898.656-.906.656-2.492zm-4.89-3.055q.452-.781 1.14-1.156.695-.383 1.656-.383 1.594 0 2.586 1.266 1 1.265 1 3.328 0 2.062-1 3.328-.992 1.266-2.586 1.266-.96 0-1.656-.375-.688-.383-1.14-1.164v1.312h-1.446V2.258h1.445z\" /></g><g transform=\"translate(65, 375) scale(0.75, 0.75)\" fill=\"#e5e5e5\" stroke=\"#e5e5e5\"><path d=\"M24.922 10.047q0-1.586-.656-2.485-.649-.906-1.79-.906-1.14 0-1.796.906-.649.899-.649 2.485 0 1.586.649 2.492.656.898 1.797.898 1.14 0 1.789-.898.656-.906.656-2.492zm-4.89-3.055q.452-.781 1.14-1.156.695-.383 1.656-.383 1.594 0 2.586 1.266 1 1.265 1 3.328 0 2.062-1 3.328-.992 1.266-2.586 1.266-.96 0-1.656-.375-.688-.383-1.14-1.164v1.312h-1.446V2.258h1.445z\" /></g><g transform=\"translate(110, 0) scale(0.75, 0.75)\" fill=\"#e5e5e5\" stroke=\"#e5e5e5\"><path d=\"M25.96 6v1.344q-.608-.336-1.226-.5-.609-.172-1.234-.172-1.398 0-2.172.89-.773.883-.773 2.485 0 1.601.773 2.492.774.883 2.172.883.625 0 1.234-.164.618-.172 1.227-.508v1.328q-.602.281-1.25.422-.64.14-1.367.14-1.977 0-3.14-1.242-1.165-1.242-1.165-3.351 0-2.14 1.172-3.367 1.18-1.227 3.227-1.227.664 0 1.296.14.633.134 1.227.407z\" /></g><g transform=\"translate(110, 375) scale(0.75, 0.75)\" fill=\"#e5e5e5\" stroke=\"#e5e5e5\"><path d=\"M25.96 6v1.344q-.608-.336-1.226-.5-.609-.172-1.234-.172-1.398 0-2.172.89-.773.883-.773 2.485 0 1.601.773 2.492.774.883 2.172.883.625 0 1.234-.164.618-.172 1.227-.508v1.328q-.602.281-1.25.422-.64.14-1.367.14-1.977 0-3.14-1.242-1.165-1.242-1.165-3.351 0-2.14 1.172-3.367 1.18-1.227 3.227-1.227.664 0 1.296.14.633.134 1.227.407z\" /></g><g transform=\"translate(155, 0) scale(0.75, 0.75)\" fill=\"#e5e5e5\" stroke=\"#e5e5e5\"><path d=\"M24.973 6.992V2.258h1.437v12.156h-1.437v-1.312q-.453.78-1.149 1.164-.687.375-1.656.375-1.586 0-2.586-1.266-.992-1.266-.992-3.328 0-2.063.992-3.328 1-1.266 2.586-1.266.969 0 1.656.383.696.375 1.149 1.156zm-4.899 3.055q0 1.586.649 2.492.656.898 1.797.898 1.14 0 1.796-.898.657-.906.657-2.492 0-1.586-.657-2.485-.656-.906-1.796-.906-1.141 0-1.797.906-.649.899-.649 2.485z\" /></g><g transform=\"translate(155, 375) scale(0.75, 0.75)\" fill=\"#e5e5e5\" stroke=\"#e5e5e5\"><path d=\"M24.973 6.992V2.258h1.437v12.156h-1.437v-1.312q-.453.78-1.149 1.164-.687.375-1.656.375-1.586 0-2.586-1.266-.992-1.266-.992-3.328 0-2.063.992-3.328 1-1.266 2.586-1.266.969 0 1.656.383.696.375 1.149 1.156zm-4.899 3.055q0 1.586.649 2.492.656.898 1.797.898 1.14 0 1.796-.898.657-.906.657-2.492 0-1.586-.657-2.485-.656-.906-1.796-.906-1.141 0-1.797.906-.649.899-.649 2.485z\" /></g><g transform=\"translate(200, 0) scale(0.75, 0.75)\" fill=\"#e5e5e5\" stroke=\"#e5e5e5\"><path d=\"M26.555 9.68v.703h-6.61q.094 1.484.89 2.265.806.774 2.235.774.828 0 1.602-.203.781-.203 1.547-.61v1.36q-.774.328-1.586.5-.813.172-1.649.172-2.093 0-3.32-1.22-1.219-1.218-1.219-3.296 0-2.148 1.157-3.406 1.164-1.266 3.132-1.266 1.766 0 2.79 1.14 1.03 1.134 1.03 3.087zm-1.438-.422q-.015-1.18-.664-1.883-.64-.703-1.703-.703-1.203 0-1.93.68-.718.68-.828 1.914z\" /></g><g transform=\"translate(200, 375) scale(0.75, 0.75)\" fill=\"#e5e5e5\" stroke=\"#e5e5e5\"><path d=\"M26.555 9.68v.703h-6.61q.094 1.484.89 2.265.806.774 2.235.774.828 0 1.602-.203.781-.203 1.547-.61v1.36q-.774.328-1.586.5-.813.172-1.649.172-2.093 0-3.32-1.22-1.219-1.218-1.219-3.296 0-2.148 1.157-3.406 1.164-1.266 3.132-1.266 1.766 0 2.79 1.14 1.03 1.134 1.03 3.087zm-1.438-.422q-.015-1.18-.664-1.883-.64-.703-1.703-.703-1.203 0-1.93.68-.718.68-.828 1.914z\" /></g><g transform=\"translate(245, 0) scale(0.75, 0.75)\" fill=\"#e5e5e5\" stroke=\"#e5e5e5\"><path d=\"M25.285 2.258v1.195H23.91q-.773 0-1.078.313-.297.312-.297 1.125v.773h2.367v1.117h-2.367v7.633H21.09V6.781h-1.375V5.664h1.375v-.61q0-1.46.68-2.124.68-.672 2.156-.672z\" /></g><g transform=\"translate(245, 375) scale(0.75, 0.75)\" fill=\"#e5e5e5\" stroke=\"#e5e5e5\"><path d=\"M25.285 2.258v1.195H23.91q-.773 0-1.078.313-.297.312-.297 1.125v.773h2.367v1.117h-2.367v7.633H21.09V6.781h-1.375V5.664h1.375v-.61q0-1.46.68-2.124.68-.672 2.156-.672z\" /></g><g transform=\"translate(290, 0) scale(0.75, 0.75)\" fill=\"#e5e5e5\" stroke=\"#e5e5e5\"><path d=\"M24.973 9.937q0-1.562-.649-2.421-.64-.86-1.804-.86-1.157 0-1.805.86-.64.859-.64 2.421 0 1.555.64 2.415.648.859 1.805.859 1.164 0 1.804-.86.649-.859.649-2.414zm1.437 3.391q0 2.234-.992 3.32-.992 1.094-3.04 1.094-.757 0-1.429-.117-.672-.11-1.304-.344v-1.398q.632.344 1.25.508.617.164 1.257.164 1.414 0 2.118-.743.703-.734.703-2.226v-.711q-.446.773-1.141 1.156-.695.383-1.664.383-1.61 0-2.594-1.227-.984-1.226-.984-3.25 0-2.03.984-3.257.985-1.227 2.594-1.227.969 0 1.664.383t1.14 1.156V5.664h1.438z\" /></g><g transform=\"translate(290, 375) scale(0.75, 0.75)\" fill=\"#e5e5e5\" stroke=\"#e5e5e5\"><path d=\"M24.973 9.937q0-1.562-.649-2.421-.64-.86-1.804-.86-1.157 0-1.805.86-.64.859-.64 2.421 0 1.555.64 2.415.648.859 1.805.859 1.164 0 1.804-.86.649-.859.649-2.414zm1.437 3.391q0 2.234-.992 3.32-.992 1.094-3.04 1.094-.757 0-1.429-.117-.672-.11-1.304-.344v-1.398q.632.344 1.25.508.617.164 1.257.164 1.414 0 2.118-.743.703-.734.703-2.226v-.711q-.446.773-1.141 1.156-.695.383-1.664.383-1.61 0-2.594-1.227-.984-1.226-.984-3.25 0-2.03.984-3.257.985-1.227 2.594-1.227.969 0 1.664.383t1.14 1.156V5.664h1.438z\" /></g><g transform=\"translate(335, 0) scale(0.75, 0.75)\" fill=\"#e5e5e5\" stroke=\"#e5e5e5\"><path d=\"M26.164 9.133v5.281h-1.437V9.18q0-1.243-.485-1.86-.484-.617-1.453-.617-1.164 0-1.836.742-.672.742-.672 2.024v4.945h-1.445V2.258h1.445v4.765q.516-.789 1.211-1.18.703-.39 1.617-.39 1.508 0 2.282.938.773.93.773 2.742z\" /></g><g transform=\"translate(335, 375) scale(0.75, 0.75)\" fill=\"#e5e5e5\" stroke=\"#e5e5e5\"><path d=\"M26.164 9.133v5.281h-1.437V9.18q0-1.243-.485-1.86-.484-.617-1.453-.617-1.164 0-1.836.742-.672.742-.672 2.024v4.945h-1.445V2.258h1.445v4.765q.516-.789 1.211-1.18.703-.39 1.617-.39 1.508 0 2.282.938.773.93.773 2.742z\" /></g><g transform=\"translate(0, 335) scale(0.75, 0.75)\" fill=\"#e5e5e5\" stroke=\"#e5e5e5\"><path d=\"M6.754 26.996h2.578v-8.898l-2.805.562v-1.437l2.79-.563h1.578v10.336h2.578v1.328h-6.72z\" /></g><g transform=\"translate(375, 335) scale(0.75, 0.75)\" fill=\"#e5e5e5\" stroke=\"#e5e5e5\"><path d=\"M6.754 26.996h2.578v-8.898l-2.805.562v-1.437l2.79-.563h1.578v10.336h2.578v1.328h-6.72z\" /></g><g transform=\"translate(0, 290) scale(0.75, 0.75)\" fill=\"#e5e5e5\" stroke=\"#e5e5e5\"><path d=\"M8.195 26.996h5.508v1.328H6.297v-1.328q.898-.93 2.445-2.492 1.555-1.57 1.953-2.024.758-.851 1.055-1.437.305-.594.305-1.164 0-.93-.657-1.516-.648-.586-1.695-.586-.742 0-1.57.258-.82.258-1.758.781v-1.593q.953-.383 1.781-.578.828-.196 1.516-.196 1.812 0 2.89.906 1.079.907 1.079 2.422 0 .72-.274 1.368-.265.64-.976 1.515-.196.227-1.243 1.313-1.046 1.078-2.953 3.023z\" /></g><g transform=\"translate(375, 290) scale(0.75, 0.75)\" fill=\"#e5e5e5\" stroke=\"#e5e5e5\"><path d=\"M8.195 26.996h5.508v1.328H6.297v-1.328q.898-.93 2.445-2.492 1.555-1.57 1.953-2.024.758-.851 1.055-1.437.305-.594.305-1.164 0-.93-.657-1.516-.648-.586-1.695-.586-.742 0-1.57.258-.82.258-1.758.781v-1.593q.953-.383 1.781-.578.828-.196 1.516-.196 1.812 0 2.89.906 1.079.907 1.079 2.422 0 .72-.274 1.368-.265.64-.976 1.515-.196.227-1.243 1.313-1.046 1.078-2.953 3.023z\" /></g><g transform=\"translate(0, 245) scale(0.75, 0.75)\" fill=\"#e5e5e5\" stroke=\"#e5e5e5\"><path d=\"M11.434 22.035q1.132.242 1.765 1.008.64.766.64 1.89 0 1.727-1.187 2.672-1.187.946-3.375.946-.734 0-1.515-.149-.774-.14-1.602-.43V26.45q.656.383 1.438.578.78.196 1.632.196 1.485 0 2.258-.586.782-.586.782-1.703 0-1.032-.727-1.61-.719-.586-2.008-.586h-1.36v-1.297h1.423q1.164 0 1.78-.46.618-.47.618-1.344 0-.899-.64-1.375-.633-.485-1.82-.485-.65 0-1.391.141-.743.14-1.633.437V16.95q.898-.25 1.68-.375.788-.125 1.484-.125 1.797 0 2.844.82 1.046.813 1.046 2.204 0 .968-.554 1.64-.555.664-1.578.922z\" /></g><g transform=\"translate(375, 245) scale(0.75, 0.75)\" fill=\"#e5e5e5\" stroke=\"#e5e5e5\"><path d=\"M11.434 22.035q1.132.242 1.765 1.008.64.766.64 1.89 0 1.727-1.187 2.672-1.187.946-3.375.946-.734 0-1.515-.149-.774-.14-1.602-.43V26.45q.656.383 1.438.578.78.196 1.632.196 1.485 0 2.258-.586.782-.586.782-1.703 0-1.032-.727-1.61-.719-.586-2.008-.586h-1.36v-1.297h1.423q1.164 0 1.78-.46.618-.47.618-1.344 0-.899-.64-1.375-.633-.485-1.82-.485-.65 0-1.391.141-.743.14-1.633.437V16.95q.898-.25 1.68-.375.788-.125 1.484-.125 1.797 0 2.844.82 1.046.813 1.046 2.204 0 .968-.554 1.64-.555.664-1.578.922z\" /></g><g transform=\"translate(0, 200) scale(0.75, 0.75)\" fill=\"#e5e5e5\" stroke=\"#e5e5e5\"><path d=\"M11.016 18.035L7.03 24.262h3.985zm-.414-1.375h1.984v7.602h1.664v1.312h-1.664v2.75h-1.57v-2.75H5.75v-1.523z\" /></g><g transform=\"translate(375, 200) scale(0.75, 0.75)\" fill=\"#e5e5e5\" stroke=\"#e5e5e5\"><path d=\"M11.016 18.035L7.03 24.262h3.985zm-.414-1.375h1.984v7.602h1.664v1.312h-1.664v2.75h-1.57v-2.75H5.75v-1.523z\" /></g><g transform=\"translate(0, 155) scale(0.75, 0.75)\" fill=\"#e5e5e5\" stroke=\"#e5e5e5\"><path d=\"M6.719 16.66h6.195v1.328h-4.75v2.86q.344-.118.688-.172.343-.063.687-.063 1.953 0 3.094 1.07 1.14 1.07 1.14 2.899 0 1.883-1.171 2.93-1.172 1.039-3.305 1.039-.735 0-1.5-.125-.758-.125-1.57-.375v-1.586q.703.383 1.453.57.75.188 1.586.188 1.351 0 2.14-.711.79-.711.79-1.93 0-1.219-.79-1.93-.789-.71-2.14-.71-.633 0-1.266.14-.625.14-1.281.438z\" /></g><g transform=\"translate(375, 155) scale(0.75, 0.75)\" fill=\"#e5e5e5\" stroke=\"#e5e5e5\"><path d=\"M6.719 16.66h6.195v1.328h-4.75v2.86q.344-.118.688-.172.343-.063.687-.063 1.953 0 3.094 1.07 1.14 1.07 1.14 2.899 0 1.883-1.171 2.93-1.172 1.039-3.305 1.039-.735 0-1.5-.125-.758-.125-1.57-.375v-1.586q.703.383 1.453.57.75.188 1.586.188 1.351 0 2.14-.711.79-.711.79-1.93 0-1.219-.79-1.93-.789-.71-2.14-.71-.633 0-1.266.14-.625.14-1.281.438z\" /></g><g transform=\"translate(0, 110) scale(0.75, 0.75)\" fill=\"#e5e5e5\" stroke=\"#e5e5e5\"><path d=\"M10.137 21.863q-1.063 0-1.688.727-.617.726-.617 1.992 0 1.258.617 1.992.625.727 1.688.727 1.062 0 1.68-.727.624-.734.624-1.992 0-1.266-.625-1.992-.617-.727-1.68-.727zm3.133-4.945v1.437q-.594-.28-1.204-.43-.601-.148-1.195-.148-1.562 0-2.39 1.055-.82 1.055-.938 3.188.46-.68 1.156-1.04.696-.367 1.531-.367 1.758 0 2.774 1.07 1.023 1.063 1.023 2.899 0 1.797-1.062 2.883-1.063 1.086-2.828 1.086-2.024 0-3.094-1.547-1.07-1.555-1.07-4.5 0-2.766 1.312-4.406 1.313-1.649 3.524-1.649.593 0 1.195.117.61.118 1.266.352z\" /></g><g transform=\"translate(375, 110) scale(0.75, 0.75)\" fill=\"#e5e5e5\" stroke=\"#e5e5e5\"><path d=\"M10.137 21.863q-1.063 0-1.688.727-.617.726-.617 1.992 0 1.258.617 1.992.625.727 1.688.727 1.062 0 1.68-.727.624-.734.624-1.992 0-1.266-.625-1.992-.617-.727-1.68-.727zm3.133-4.945v1.437q-.594-.28-1.204-.43-.601-.148-1.195-.148-1.562 0-2.39 1.055-.82 1.055-.938 3.188.46-.68 1.156-1.04.696-.367 1.531-.367 1.758 0 2.774 1.07 1.023 1.063 1.023 2.899 0 1.797-1.062 2.883-1.063 1.086-2.828 1.086-2.024 0-3.094-1.547-1.07-1.555-1.07-4.5 0-2.766 1.312-4.406 1.313-1.649 3.524-1.649.593 0 1.195.117.61.118 1.266.352z\" /></g><g transform=\"translate(0, 65) scale(0.75, 0.75)\" fill=\"#e5e5e5\" stroke=\"#e5e5e5\"><path d=\"M6.25 16.66h7.5v.672L9.516 28.324H7.867l3.985-10.336H6.25z\" /></g><g transform=\"translate(375, 65) scale(0.75, 0.75)\" fill=\"#e5e5e5\" stroke=\"#e5e5e5\"><path d=\"M6.25 16.66h7.5v.672L9.516 28.324H7.867l3.985-10.336H6.25z\" /></g><g transform=\"translate(0, 20) scale(0.75, 0.75)\" fill=\"#e5e5e5\" stroke=\"#e5e5e5\"><path d=\"M10 22.785q-1.125 0-1.773.602-.641.601-.641 1.656t.64 1.656q.649.602 1.774.602t1.773-.602q.649-.61.649-1.656 0-1.055-.649-1.656-.64-.602-1.773-.602zm-1.578-.672q-1.016-.25-1.586-.945-.563-.695-.563-1.695 0-1.399.993-2.211 1-.813 2.734-.813 1.742 0 2.734.813.993.812.993 2.21 0 1-.57 1.696-.563.695-1.571.945 1.14.266 1.773 1.04.641.773.641 1.89 0 1.695-1.04 2.602-1.03.906-2.96.906t-2.969-.906Q6 26.738 6 25.043q0-1.117.64-1.89.641-.774 1.782-1.04zm-.578-2.492q0 .906.562 1.414.57.508 1.594.508 1.016 0 1.586-.508.578-.508.578-1.414 0-.906-.578-1.414-.57-.508-1.586-.508-1.023 0-1.594.508-.562.508-.562 1.414z\" /></g><g transform=\"translate(375, 20) scale(0.75, 0.75)\" fill=\"#e5e5e5\" stroke=\"#e5e5e5\"><path d=\"M10 22.785q-1.125 0-1.773.602-.641.601-.641 1.656t.64 1.656q.649.602 1.774.602t1.773-.602q.649-.61.649-1.656 0-1.055-.649-1.656-.64-.602-1.773-.602zm-1.578-.672q-1.016-.25-1.586-.945-.563-.695-.563-1.695 0-1.399.993-2.211 1-.813 2.734-.813 1.742 0 2.734.813.993.812.993 2.21 0 1-.57 1.696-.563.695-1.571.945 1.14.266 1.773 1.04.641.773.641 1.89 0 1.695-1.04 2.602-1.03.906-2.96.906t-2.969-.906Q6 26.738 6 25.043q0-1.117.64-1.89.641-.774 1.782-1.04zm-.578-2.492q0 .906.562 1.414.57.508 1.594.508 1.016 0 1.586-.508.578-.508.578-1.414 0-.906-.578-1.414-.57-.508-1.586-.508-1.023 0-1.594.508-.562.508-.562 1.414z\" /></g><rect x=\"15\" y=\"330\" width=\"45\" height=\"45\" class=\"square dark a1\" stroke=\"none\" fill=\"#d18b47\" /><rect x=\"60\" y=\"330\" width=\"45\" height=\"45\" class=\"square light b1\" stroke=\"none\" fill=\"#ffce9e\" /><rect x=\"105\" y=\"330\" width=\"45\" height=\"45\" class=\"square dark c1\" stroke=\"none\" fill=\"#d18b47\" /><rect x=\"150\" y=\"330\" width=\"45\" height=\"45\" class=\"square light d1\" stroke=\"none\" fill=\"#ffce9e\" /><rect x=\"195\" y=\"330\" width=\"45\" height=\"45\" class=\"square dark e1\" stroke=\"none\" fill=\"#d18b47\" /><rect x=\"240\" y=\"330\" width=\"45\" height=\"45\" class=\"square light f1\" stroke=\"none\" fill=\"#ffce9e\" /><rect x=\"285\" y=\"330\" width=\"45\" height=\"45\" class=\"square dark g1\" stroke=\"none\" fill=\"#d18b47\" /><rect x=\"330\" y=\"330\" width=\"45\" height=\"45\" class=\"square light h1\" stroke=\"none\" fill=\"#ffce9e\" /><rect x=\"15\" y=\"285\" width=\"45\" height=\"45\" class=\"square light a2\" stroke=\"none\" fill=\"#ffce9e\" /><rect x=\"60\" y=\"285\" width=\"45\" height=\"45\" class=\"square dark b2\" stroke=\"none\" fill=\"#d18b47\" /><rect x=\"105\" y=\"285\" width=\"45\" height=\"45\" class=\"square light c2\" stroke=\"none\" fill=\"#ffce9e\" /><rect x=\"150\" y=\"285\" width=\"45\" height=\"45\" class=\"square dark d2\" stroke=\"none\" fill=\"#d18b47\" /><rect x=\"195\" y=\"285\" width=\"45\" height=\"45\" class=\"square light e2\" stroke=\"none\" fill=\"#ffce9e\" /><rect x=\"240\" y=\"285\" width=\"45\" height=\"45\" class=\"square dark f2\" stroke=\"none\" fill=\"#d18b47\" /><rect x=\"285\" y=\"285\" width=\"45\" height=\"45\" class=\"square light g2\" stroke=\"none\" fill=\"#ffce9e\" /><rect x=\"330\" y=\"285\" width=\"45\" height=\"45\" class=\"square dark h2\" stroke=\"none\" fill=\"#d18b47\" /><rect x=\"15\" y=\"240\" width=\"45\" height=\"45\" class=\"square dark a3\" stroke=\"none\" fill=\"#d18b47\" /><rect x=\"60\" y=\"240\" width=\"45\" height=\"45\" class=\"square light b3\" stroke=\"none\" fill=\"#ffce9e\" /><rect x=\"105\" y=\"240\" width=\"45\" height=\"45\" class=\"square dark c3\" stroke=\"none\" fill=\"#d18b47\" /><rect x=\"150\" y=\"240\" width=\"45\" height=\"45\" class=\"square light d3\" stroke=\"none\" fill=\"#ffce9e\" /><rect x=\"195\" y=\"240\" width=\"45\" height=\"45\" class=\"square dark e3\" stroke=\"none\" fill=\"#d18b47\" /><rect x=\"240\" y=\"240\" width=\"45\" height=\"45\" class=\"square light f3\" stroke=\"none\" fill=\"#ffce9e\" /><rect x=\"285\" y=\"240\" width=\"45\" height=\"45\" class=\"square dark g3\" stroke=\"none\" fill=\"#d18b47\" /><rect x=\"330\" y=\"240\" width=\"45\" height=\"45\" class=\"square light h3\" stroke=\"none\" fill=\"#ffce9e\" /><rect x=\"15\" y=\"195\" width=\"45\" height=\"45\" class=\"square light a4\" stroke=\"none\" fill=\"#ffce9e\" /><rect x=\"60\" y=\"195\" width=\"45\" height=\"45\" class=\"square dark b4\" stroke=\"none\" fill=\"#d18b47\" /><rect x=\"105\" y=\"195\" width=\"45\" height=\"45\" class=\"square light c4\" stroke=\"none\" fill=\"#ffce9e\" /><rect x=\"150\" y=\"195\" width=\"45\" height=\"45\" class=\"square dark d4\" stroke=\"none\" fill=\"#d18b47\" /><rect x=\"195\" y=\"195\" width=\"45\" height=\"45\" class=\"square light e4\" stroke=\"none\" fill=\"#ffce9e\" /><rect x=\"240\" y=\"195\" width=\"45\" height=\"45\" class=\"square dark f4\" stroke=\"none\" fill=\"#d18b47\" /><rect x=\"285\" y=\"195\" width=\"45\" height=\"45\" class=\"square light g4\" stroke=\"none\" fill=\"#ffce9e\" /><rect x=\"330\" y=\"195\" width=\"45\" height=\"45\" class=\"square dark h4\" stroke=\"none\" fill=\"#d18b47\" /><rect x=\"15\" y=\"150\" width=\"45\" height=\"45\" class=\"square dark a5\" stroke=\"none\" fill=\"#d18b47\" /><rect x=\"60\" y=\"150\" width=\"45\" height=\"45\" class=\"square light b5\" stroke=\"none\" fill=\"#ffce9e\" /><rect x=\"105\" y=\"150\" width=\"45\" height=\"45\" class=\"square dark c5\" stroke=\"none\" fill=\"#d18b47\" /><rect x=\"150\" y=\"150\" width=\"45\" height=\"45\" class=\"square light d5\" stroke=\"none\" fill=\"#ffce9e\" /><rect x=\"195\" y=\"150\" width=\"45\" height=\"45\" class=\"square dark e5\" stroke=\"none\" fill=\"#d18b47\" /><rect x=\"240\" y=\"150\" width=\"45\" height=\"45\" class=\"square light f5\" stroke=\"none\" fill=\"#ffce9e\" /><rect x=\"285\" y=\"150\" width=\"45\" height=\"45\" class=\"square dark g5\" stroke=\"none\" fill=\"#d18b47\" /><rect x=\"330\" y=\"150\" width=\"45\" height=\"45\" class=\"square light h5\" stroke=\"none\" fill=\"#ffce9e\" /><rect x=\"15\" y=\"105\" width=\"45\" height=\"45\" class=\"square light a6\" stroke=\"none\" fill=\"#ffce9e\" /><rect x=\"60\" y=\"105\" width=\"45\" height=\"45\" class=\"square dark b6\" stroke=\"none\" fill=\"#d18b47\" /><rect x=\"105\" y=\"105\" width=\"45\" height=\"45\" class=\"square light c6\" stroke=\"none\" fill=\"#ffce9e\" /><rect x=\"150\" y=\"105\" width=\"45\" height=\"45\" class=\"square dark d6\" stroke=\"none\" fill=\"#d18b47\" /><rect x=\"195\" y=\"105\" width=\"45\" height=\"45\" class=\"square light e6\" stroke=\"none\" fill=\"#ffce9e\" /><rect x=\"240\" y=\"105\" width=\"45\" height=\"45\" class=\"square dark f6\" stroke=\"none\" fill=\"#d18b47\" /><rect x=\"285\" y=\"105\" width=\"45\" height=\"45\" class=\"square light g6\" stroke=\"none\" fill=\"#ffce9e\" /><rect x=\"330\" y=\"105\" width=\"45\" height=\"45\" class=\"square dark h6\" stroke=\"none\" fill=\"#d18b47\" /><rect x=\"15\" y=\"60\" width=\"45\" height=\"45\" class=\"square dark a7\" stroke=\"none\" fill=\"#d18b47\" /><rect x=\"60\" y=\"60\" width=\"45\" height=\"45\" class=\"square light b7\" stroke=\"none\" fill=\"#ffce9e\" /><rect x=\"105\" y=\"60\" width=\"45\" height=\"45\" class=\"square dark c7\" stroke=\"none\" fill=\"#d18b47\" /><rect x=\"150\" y=\"60\" width=\"45\" height=\"45\" class=\"square light d7\" stroke=\"none\" fill=\"#ffce9e\" /><rect x=\"195\" y=\"60\" width=\"45\" height=\"45\" class=\"square dark e7\" stroke=\"none\" fill=\"#d18b47\" /><rect x=\"240\" y=\"60\" width=\"45\" height=\"45\" class=\"square light f7\" stroke=\"none\" fill=\"#ffce9e\" /><rect x=\"285\" y=\"60\" width=\"45\" height=\"45\" class=\"square dark g7\" stroke=\"none\" fill=\"#d18b47\" /><rect x=\"330\" y=\"60\" width=\"45\" height=\"45\" class=\"square light h7\" stroke=\"none\" fill=\"#ffce9e\" /><rect x=\"15\" y=\"15\" width=\"45\" height=\"45\" class=\"square light a8\" stroke=\"none\" fill=\"#ffce9e\" /><rect x=\"60\" y=\"15\" width=\"45\" height=\"45\" class=\"square dark b8\" stroke=\"none\" fill=\"#d18b47\" /><rect x=\"105\" y=\"15\" width=\"45\" height=\"45\" class=\"square light c8\" stroke=\"none\" fill=\"#ffce9e\" /><rect x=\"150\" y=\"15\" width=\"45\" height=\"45\" class=\"square dark d8\" stroke=\"none\" fill=\"#d18b47\" /><rect x=\"195\" y=\"15\" width=\"45\" height=\"45\" class=\"square light e8\" stroke=\"none\" fill=\"#ffce9e\" /><rect x=\"240\" y=\"15\" width=\"45\" height=\"45\" class=\"square dark f8\" stroke=\"none\" fill=\"#d18b47\" /><rect x=\"285\" y=\"15\" width=\"45\" height=\"45\" class=\"square light g8\" stroke=\"none\" fill=\"#ffce9e\" /><rect x=\"330\" y=\"15\" width=\"45\" height=\"45\" class=\"square dark h8\" stroke=\"none\" fill=\"#d18b47\" /><use href=\"#white-queen\" xlink:href=\"#white-queen\" transform=\"translate(240, 330)\" /><use href=\"#white-king\" xlink:href=\"#white-king\" transform=\"translate(285, 330)\" /><use href=\"#white-pawn\" xlink:href=\"#white-pawn\" transform=\"translate(15, 285)\" /><use href=\"#white-rook\" xlink:href=\"#white-rook\" transform=\"translate(60, 285)\" /><use href=\"#white-pawn\" xlink:href=\"#white-pawn\" transform=\"translate(285, 285)\" /><use href=\"#white-pawn\" xlink:href=\"#white-pawn\" transform=\"translate(330, 285)\" /><use href=\"#white-rook\" xlink:href=\"#white-rook\" transform=\"translate(195, 240)\" /><use href=\"#white-pawn\" xlink:href=\"#white-pawn\" transform=\"translate(150, 195)\" /><use href=\"#white-pawn\" xlink:href=\"#white-pawn\" transform=\"translate(240, 195)\" /><use href=\"#black-pawn\" xlink:href=\"#black-pawn\" transform=\"translate(150, 150)\" /><use href=\"#black-pawn\" xlink:href=\"#black-pawn\" transform=\"translate(195, 105)\" /><use href=\"#black-pawn\" xlink:href=\"#black-pawn\" transform=\"translate(330, 105)\" /><use href=\"#black-pawn\" xlink:href=\"#black-pawn\" transform=\"translate(15, 60)\" /><use href=\"#black-pawn\" xlink:href=\"#black-pawn\" transform=\"translate(240, 60)\" /><use href=\"#black-pawn\" xlink:href=\"#black-pawn\" transform=\"translate(285, 60)\" /><use href=\"#black-rook\" xlink:href=\"#black-rook\" transform=\"translate(240, 15)\" /><use href=\"#black-king\" xlink:href=\"#black-king\" transform=\"translate(285, 15)\" /></svg>"
      ],
      "text/plain": [
       "Board('5rk1/p4pp1/4p2p/3p4/3P1P2/4R3/PR4PP/5QK1 b - - 0 27')"
      ]
     },
     "execution_count": 61,
     "metadata": {},
     "output_type": "execute_result"
    }
   ],
   "source": [
    "#Look at the final board position (it should be one where legal moves still exist)\n",
    "board = chess.Board(fen)\n",
    "board"
   ]
  },
  {
   "cell_type": "code",
   "execution_count": 62,
   "id": "945fa2a4-c4a6-48f3-8461-1b1c2a24fd9e",
   "metadata": {},
   "outputs": [
    {
     "data": {
      "text/plain": [
       "{'eval': {'is_mate_score': 0, 'cp': -732, 'mate': 0},\n",
       " 'top10': [{'is_mate_score': 0, 'cp': -904, 'mate': 0},\n",
       "  {'is_mate_score': 0, 'cp': -908, 'mate': 0},\n",
       "  {'is_mate_score': 0, 'cp': -912, 'mate': 0},\n",
       "  {'is_mate_score': 0, 'cp': -917, 'mate': 0},\n",
       "  {'is_mate_score': 0, 'cp': -932, 'mate': 0},\n",
       "  {'is_mate_score': 0, 'cp': -993, 'mate': 0},\n",
       "  {'is_mate_score': 0, 'cp': -1001, 'mate': 0},\n",
       "  {'is_mate_score': 0, 'cp': -1224, 'mate': 0},\n",
       "  {'is_mate_score': 0, 'cp': -1238, 'mate': 0},\n",
       "  {'is_mate_score': 0, 'cp': -1527, 'mate': 0}]}"
      ]
     },
     "execution_count": 62,
     "metadata": {},
     "output_type": "execute_result"
    }
   ],
   "source": [
    "#Compare to what our function produces: it should invert the signs of the scores\n",
    "#since our new player is playing Black\n",
    "get_eval_top_10(d=game[moves_so_far], moves_so_far=moves_so_far, new_pl_is_white=0, is_final_position=1)"
   ]
  },
  {
   "cell_type": "markdown",
   "id": "89b5fb90-f7bf-48a0-b94e-1798f152e956",
   "metadata": {},
   "source": [
    "#### Another example where the new player is playing Black"
   ]
  },
  {
   "cell_type": "code",
   "execution_count": 63,
   "id": "bd66ad9f-53f0-4132-a1ed-28a9d0d4d0ac",
   "metadata": {},
   "outputs": [
    {
     "data": {
      "text/html": [
       "<div>\n",
       "<style scoped>\n",
       "    .dataframe tbody tr th:only-of-type {\n",
       "        vertical-align: middle;\n",
       "    }\n",
       "\n",
       "    .dataframe tbody tr th {\n",
       "        vertical-align: top;\n",
       "    }\n",
       "\n",
       "    .dataframe thead th {\n",
       "        text-align: right;\n",
       "    }\n",
       "</style>\n",
       "<table border=\"1\" class=\"dataframe\">\n",
       "  <thead>\n",
       "    <tr style=\"text-align: right;\">\n",
       "      <th></th>\n",
       "      <th>opponent</th>\n",
       "      <th>new_pl_color</th>\n",
       "      <th>new_pl_won</th>\n",
       "      <th>new_pl_elo</th>\n",
       "      <th>opp_elo</th>\n",
       "      <th>new_pl_rating_diff</th>\n",
       "      <th>opp_rating_diff</th>\n",
       "      <th>game_length</th>\n",
       "      <th>time_limit</th>\n",
       "      <th>time_gain_per_move</th>\n",
       "      <th>event</th>\n",
       "      <th>termination</th>\n",
       "      <th>conceded</th>\n",
       "      <th>datetime</th>\n",
       "      <th>timestamp</th>\n",
       "      <th>moves</th>\n",
       "      <th>both_players_1st_game</th>\n",
       "    </tr>\n",
       "    <tr>\n",
       "      <th>name_of_pl_playing_1st_game</th>\n",
       "      <th></th>\n",
       "      <th></th>\n",
       "      <th></th>\n",
       "      <th></th>\n",
       "      <th></th>\n",
       "      <th></th>\n",
       "      <th></th>\n",
       "      <th></th>\n",
       "      <th></th>\n",
       "      <th></th>\n",
       "      <th></th>\n",
       "      <th></th>\n",
       "      <th></th>\n",
       "      <th></th>\n",
       "      <th></th>\n",
       "      <th></th>\n",
       "      <th></th>\n",
       "    </tr>\n",
       "  </thead>\n",
       "  <tbody>\n",
       "    <tr>\n",
       "      <th>intern_slacking</th>\n",
       "      <td>Jmoneyzzz</td>\n",
       "      <td>Black</td>\n",
       "      <td>1.0</td>\n",
       "      <td>1500.0</td>\n",
       "      <td>1410.0</td>\n",
       "      <td>137.0</td>\n",
       "      <td>-29.0</td>\n",
       "      <td>106</td>\n",
       "      <td>180.0</td>\n",
       "      <td>0.0</td>\n",
       "      <td>Blitz</td>\n",
       "      <td>Normal</td>\n",
       "      <td>0</td>\n",
       "      <td>2016-07-12 20:04:10</td>\n",
       "      <td>1.468354e+09</td>\n",
       "      <td>e4 e6 Nf3 d5 exd5 exd5 d4 Bd6 Bd3 Bg4 O-O Ne7 ...</td>\n",
       "      <td>0</td>\n",
       "    </tr>\n",
       "  </tbody>\n",
       "</table>\n",
       "</div>"
      ],
      "text/plain": [
       "                              opponent new_pl_color  new_pl_won  new_pl_elo  \\\n",
       "name_of_pl_playing_1st_game                                                   \n",
       "intern_slacking              Jmoneyzzz        Black         1.0      1500.0   \n",
       "\n",
       "                             opp_elo  new_pl_rating_diff  opp_rating_diff  \\\n",
       "name_of_pl_playing_1st_game                                                 \n",
       "intern_slacking               1410.0               137.0            -29.0   \n",
       "\n",
       "                             game_length  time_limit  time_gain_per_move  \\\n",
       "name_of_pl_playing_1st_game                                                \n",
       "intern_slacking                      106       180.0                 0.0   \n",
       "\n",
       "                             event termination  conceded             datetime  \\\n",
       "name_of_pl_playing_1st_game                                                     \n",
       "intern_slacking              Blitz      Normal         0  2016-07-12 20:04:10   \n",
       "\n",
       "                                timestamp  \\\n",
       "name_of_pl_playing_1st_game                 \n",
       "intern_slacking              1.468354e+09   \n",
       "\n",
       "                                                                         moves  \\\n",
       "name_of_pl_playing_1st_game                                                      \n",
       "intern_slacking              e4 e6 Nf3 d5 exd5 exd5 d4 Bd6 Bd3 Bg4 O-O Ne7 ...   \n",
       "\n",
       "                             both_players_1st_game  \n",
       "name_of_pl_playing_1st_game                         \n",
       "intern_slacking                                  0  "
      ]
     },
     "execution_count": 63,
     "metadata": {},
     "output_type": "execute_result"
    }
   ],
   "source": [
    "game_number = 52\n",
    "train_1st.iloc[[game_number]]"
   ]
  },
  {
   "cell_type": "markdown",
   "id": "b0214126-c779-4c07-b6d0-4c2dbcd5c6be",
   "metadata": {},
   "source": [
    "This was a game where the new player was playing Black and *won*."
   ]
  },
  {
   "cell_type": "code",
   "execution_count": 64,
   "id": "0c54c163-a677-4e7a-ad46-53a05123a69e",
   "metadata": {},
   "outputs": [],
   "source": [
    "game = eval(open(f\"{stockfish_paths_dict['train']}/game{game_number}.txt\").read())"
   ]
  },
  {
   "cell_type": "code",
   "execution_count": 65,
   "id": "19094b24-96ab-4af1-8de8-001a25e0be12",
   "metadata": {},
   "outputs": [
    {
     "data": {
      "text/plain": [
       "{'eval': {'type': 'mate', 'value': -2},\n",
       " 'top_10': [{'Move': 'd3c2', 'Centipawn': None, 'Mate': -2},\n",
       "  {'Move': 'd3c3', 'Centipawn': None, 'Mate': -2},\n",
       "  {'Move': 'd3c4', 'Centipawn': None, 'Mate': -3},\n",
       "  {'Move': 'g5g4', 'Centipawn': None, 'Mate': -3},\n",
       "  {'Move': 'a7a6', 'Centipawn': None, 'Mate': -3},\n",
       "  {'Move': 'b7b6', 'Centipawn': None, 'Mate': -3},\n",
       "  {'Move': 'a7a5', 'Centipawn': None, 'Mate': -3},\n",
       "  {'Move': 'c6c5', 'Centipawn': None, 'Mate': -3},\n",
       "  {'Move': 'b5b4', 'Centipawn': None, 'Mate': -3},\n",
       "  {'Move': 'b5b6', 'Centipawn': None, 'Mate': -3}],\n",
       " 'fen': '8/pp5p/2p4p/1q4p1/8/3k4/8/K7 b - - 7 52'}"
      ]
     },
     "execution_count": 65,
     "metadata": {},
     "output_type": "execute_result"
    }
   ],
   "source": [
    "#Look at the position 3 moves before the final position (this is a turn when Black moves)\n",
    "moves_so_far = len(game)-4\n",
    "fen = game[moves_so_far]['fen']\n",
    "game[moves_so_far]"
   ]
  },
  {
   "cell_type": "code",
   "execution_count": 66,
   "id": "965f9902-a560-497f-8046-70ff52cd19d1",
   "metadata": {},
   "outputs": [
    {
     "data": {
      "image/svg+xml": [
       "<svg xmlns=\"http://www.w3.org/2000/svg\" xmlns:xlink=\"http://www.w3.org/1999/xlink\" version=\"1.2\" baseProfile=\"tiny\" viewBox=\"0 0 390 390\" width=\"390\" height=\"390\"><desc><pre>. . . . . . . .\n",
       "p p . . . . . p\n",
       ". . p . . . . p\n",
       ". q . . . . p .\n",
       ". . . . . . . .\n",
       ". . . k . . . .\n",
       ". . . . . . . .\n",
       "K . . . . . . .</pre></desc><defs><g id=\"white-king\" class=\"white king\" fill=\"none\" fill-rule=\"evenodd\" stroke=\"#000\" stroke-width=\"1.5\" stroke-linecap=\"round\" stroke-linejoin=\"round\"><path d=\"M22.5 11.63V6M20 8h5\" stroke-linejoin=\"miter\" /><path d=\"M22.5 25s4.5-7.5 3-10.5c0 0-1-2.5-3-2.5s-3 2.5-3 2.5c-1.5 3 3 10.5 3 10.5\" fill=\"#fff\" stroke-linecap=\"butt\" stroke-linejoin=\"miter\" /><path d=\"M11.5 37c5.5 3.5 15.5 3.5 21 0v-7s9-4.5 6-10.5c-4-6.5-13.5-3.5-16 4V27v-3.5c-3.5-7.5-13-10.5-16-4-3 6 5 10 5 10V37z\" fill=\"#fff\" /><path d=\"M11.5 30c5.5-3 15.5-3 21 0m-21 3.5c5.5-3 15.5-3 21 0m-21 3.5c5.5-3 15.5-3 21 0\" /></g><g id=\"black-pawn\" class=\"black pawn\"><path d=\"M22.5 9c-2.21 0-4 1.79-4 4 0 .89.29 1.71.78 2.38C17.33 16.5 16 18.59 16 21c0 2.03.94 3.84 2.41 5.03-3 1.06-7.41 5.55-7.41 13.47h23c0-7.92-4.41-12.41-7.41-13.47 1.47-1.19 2.41-3 2.41-5.03 0-2.41-1.33-4.5-3.28-5.62.49-.67.78-1.49.78-2.38 0-2.21-1.79-4-4-4z\" fill=\"#000\" stroke=\"#000\" stroke-width=\"1.5\" stroke-linecap=\"round\" /></g><g id=\"black-queen\" class=\"black queen\" fill=\"#000\" fill-rule=\"evenodd\" stroke=\"#000\" stroke-width=\"1.5\" stroke-linecap=\"round\" stroke-linejoin=\"round\"><g fill=\"#000\" stroke=\"none\"><circle cx=\"6\" cy=\"12\" r=\"2.75\" /><circle cx=\"14\" cy=\"9\" r=\"2.75\" /><circle cx=\"22.5\" cy=\"8\" r=\"2.75\" /><circle cx=\"31\" cy=\"9\" r=\"2.75\" /><circle cx=\"39\" cy=\"12\" r=\"2.75\" /></g><path d=\"M9 26c8.5-1.5 21-1.5 27 0l2.5-12.5L31 25l-.3-14.1-5.2 13.6-3-14.5-3 14.5-5.2-13.6L14 25 6.5 13.5 9 26zM9 26c0 2 1.5 2 2.5 4 1 1.5 1 1 .5 3.5-1.5 1-1.5 2.5-1.5 2.5-1.5 1.5.5 2.5.5 2.5 6.5 1 16.5 1 23 0 0 0 1.5-1 0-2.5 0 0 .5-1.5-1-2.5-.5-2.5-.5-2 .5-3.5 1-2 2.5-2 2.5-4-8.5-1.5-18.5-1.5-27 0z\" stroke-linecap=\"butt\" /><path d=\"M11 38.5a35 35 1 0 0 23 0\" fill=\"none\" stroke-linecap=\"butt\" /><path d=\"M11 29a35 35 1 0 1 23 0M12.5 31.5h20M11.5 34.5a35 35 1 0 0 22 0M10.5 37.5a35 35 1 0 0 24 0\" fill=\"none\" stroke=\"#fff\" /></g><g id=\"black-king\" class=\"black king\" fill=\"none\" fill-rule=\"evenodd\" stroke=\"#000\" stroke-width=\"1.5\" stroke-linecap=\"round\" stroke-linejoin=\"round\"><path d=\"M22.5 11.63V6\" stroke-linejoin=\"miter\" /><path d=\"M22.5 25s4.5-7.5 3-10.5c0 0-1-2.5-3-2.5s-3 2.5-3 2.5c-1.5 3 3 10.5 3 10.5\" fill=\"#000\" stroke-linecap=\"butt\" stroke-linejoin=\"miter\" /><path d=\"M11.5 37c5.5 3.5 15.5 3.5 21 0v-7s9-4.5 6-10.5c-4-6.5-13.5-3.5-16 4V27v-3.5c-3.5-7.5-13-10.5-16-4-3 6 5 10 5 10V37z\" fill=\"#000\" /><path d=\"M20 8h5\" stroke-linejoin=\"miter\" /><path d=\"M32 29.5s8.5-4 6.03-9.65C34.15 14 25 18 22.5 24.5l.01 2.1-.01-2.1C20 18 9.906 14 6.997 19.85c-2.497 5.65 4.853 9 4.853 9M11.5 30c5.5-3 15.5-3 21 0m-21 3.5c5.5-3 15.5-3 21 0m-21 3.5c5.5-3 15.5-3 21 0\" stroke=\"#fff\" /></g></defs><rect x=\"0\" y=\"0\" width=\"390\" height=\"390\" fill=\"#212121\" /><g transform=\"translate(20, 0) scale(0.75, 0.75)\" fill=\"#e5e5e5\" stroke=\"#e5e5e5\"><path d=\"M23.328 10.016q-1.742 0-2.414.398-.672.398-.672 1.36 0 .765.5 1.218.508.445 1.375.445 1.196 0 1.914-.843.727-.852.727-2.258v-.32zm2.867-.594v4.992h-1.437v-1.328q-.492.797-1.227 1.18-.734.375-1.797.375-1.343 0-2.14-.75-.79-.758-.79-2.024 0-1.476.985-2.226.992-.75 2.953-.75h2.016V8.75q0-.992-.656-1.531-.649-.547-1.829-.547-.75 0-1.46.18-.711.18-1.368.539V6.062q.79-.304 1.532-.453.742-.156 1.445-.156 1.898 0 2.836.984.937.985.937 2.985z\" /></g><g transform=\"translate(20, 375) scale(0.75, 0.75)\" fill=\"#e5e5e5\" stroke=\"#e5e5e5\"><path d=\"M23.328 10.016q-1.742 0-2.414.398-.672.398-.672 1.36 0 .765.5 1.218.508.445 1.375.445 1.196 0 1.914-.843.727-.852.727-2.258v-.32zm2.867-.594v4.992h-1.437v-1.328q-.492.797-1.227 1.18-.734.375-1.797.375-1.343 0-2.14-.75-.79-.758-.79-2.024 0-1.476.985-2.226.992-.75 2.953-.75h2.016V8.75q0-.992-.656-1.531-.649-.547-1.829-.547-.75 0-1.46.18-.711.18-1.368.539V6.062q.79-.304 1.532-.453.742-.156 1.445-.156 1.898 0 2.836.984.937.985.937 2.985z\" /></g><g transform=\"translate(65, 0) scale(0.75, 0.75)\" fill=\"#e5e5e5\" stroke=\"#e5e5e5\"><path d=\"M24.922 10.047q0-1.586-.656-2.485-.649-.906-1.79-.906-1.14 0-1.796.906-.649.899-.649 2.485 0 1.586.649 2.492.656.898 1.797.898 1.14 0 1.789-.898.656-.906.656-2.492zm-4.89-3.055q.452-.781 1.14-1.156.695-.383 1.656-.383 1.594 0 2.586 1.266 1 1.265 1 3.328 0 2.062-1 3.328-.992 1.266-2.586 1.266-.96 0-1.656-.375-.688-.383-1.14-1.164v1.312h-1.446V2.258h1.445z\" /></g><g transform=\"translate(65, 375) scale(0.75, 0.75)\" fill=\"#e5e5e5\" stroke=\"#e5e5e5\"><path d=\"M24.922 10.047q0-1.586-.656-2.485-.649-.906-1.79-.906-1.14 0-1.796.906-.649.899-.649 2.485 0 1.586.649 2.492.656.898 1.797.898 1.14 0 1.789-.898.656-.906.656-2.492zm-4.89-3.055q.452-.781 1.14-1.156.695-.383 1.656-.383 1.594 0 2.586 1.266 1 1.265 1 3.328 0 2.062-1 3.328-.992 1.266-2.586 1.266-.96 0-1.656-.375-.688-.383-1.14-1.164v1.312h-1.446V2.258h1.445z\" /></g><g transform=\"translate(110, 0) scale(0.75, 0.75)\" fill=\"#e5e5e5\" stroke=\"#e5e5e5\"><path d=\"M25.96 6v1.344q-.608-.336-1.226-.5-.609-.172-1.234-.172-1.398 0-2.172.89-.773.883-.773 2.485 0 1.601.773 2.492.774.883 2.172.883.625 0 1.234-.164.618-.172 1.227-.508v1.328q-.602.281-1.25.422-.64.14-1.367.14-1.977 0-3.14-1.242-1.165-1.242-1.165-3.351 0-2.14 1.172-3.367 1.18-1.227 3.227-1.227.664 0 1.296.14.633.134 1.227.407z\" /></g><g transform=\"translate(110, 375) scale(0.75, 0.75)\" fill=\"#e5e5e5\" stroke=\"#e5e5e5\"><path d=\"M25.96 6v1.344q-.608-.336-1.226-.5-.609-.172-1.234-.172-1.398 0-2.172.89-.773.883-.773 2.485 0 1.601.773 2.492.774.883 2.172.883.625 0 1.234-.164.618-.172 1.227-.508v1.328q-.602.281-1.25.422-.64.14-1.367.14-1.977 0-3.14-1.242-1.165-1.242-1.165-3.351 0-2.14 1.172-3.367 1.18-1.227 3.227-1.227.664 0 1.296.14.633.134 1.227.407z\" /></g><g transform=\"translate(155, 0) scale(0.75, 0.75)\" fill=\"#e5e5e5\" stroke=\"#e5e5e5\"><path d=\"M24.973 6.992V2.258h1.437v12.156h-1.437v-1.312q-.453.78-1.149 1.164-.687.375-1.656.375-1.586 0-2.586-1.266-.992-1.266-.992-3.328 0-2.063.992-3.328 1-1.266 2.586-1.266.969 0 1.656.383.696.375 1.149 1.156zm-4.899 3.055q0 1.586.649 2.492.656.898 1.797.898 1.14 0 1.796-.898.657-.906.657-2.492 0-1.586-.657-2.485-.656-.906-1.796-.906-1.141 0-1.797.906-.649.899-.649 2.485z\" /></g><g transform=\"translate(155, 375) scale(0.75, 0.75)\" fill=\"#e5e5e5\" stroke=\"#e5e5e5\"><path d=\"M24.973 6.992V2.258h1.437v12.156h-1.437v-1.312q-.453.78-1.149 1.164-.687.375-1.656.375-1.586 0-2.586-1.266-.992-1.266-.992-3.328 0-2.063.992-3.328 1-1.266 2.586-1.266.969 0 1.656.383.696.375 1.149 1.156zm-4.899 3.055q0 1.586.649 2.492.656.898 1.797.898 1.14 0 1.796-.898.657-.906.657-2.492 0-1.586-.657-2.485-.656-.906-1.796-.906-1.141 0-1.797.906-.649.899-.649 2.485z\" /></g><g transform=\"translate(200, 0) scale(0.75, 0.75)\" fill=\"#e5e5e5\" stroke=\"#e5e5e5\"><path d=\"M26.555 9.68v.703h-6.61q.094 1.484.89 2.265.806.774 2.235.774.828 0 1.602-.203.781-.203 1.547-.61v1.36q-.774.328-1.586.5-.813.172-1.649.172-2.093 0-3.32-1.22-1.219-1.218-1.219-3.296 0-2.148 1.157-3.406 1.164-1.266 3.132-1.266 1.766 0 2.79 1.14 1.03 1.134 1.03 3.087zm-1.438-.422q-.015-1.18-.664-1.883-.64-.703-1.703-.703-1.203 0-1.93.68-.718.68-.828 1.914z\" /></g><g transform=\"translate(200, 375) scale(0.75, 0.75)\" fill=\"#e5e5e5\" stroke=\"#e5e5e5\"><path d=\"M26.555 9.68v.703h-6.61q.094 1.484.89 2.265.806.774 2.235.774.828 0 1.602-.203.781-.203 1.547-.61v1.36q-.774.328-1.586.5-.813.172-1.649.172-2.093 0-3.32-1.22-1.219-1.218-1.219-3.296 0-2.148 1.157-3.406 1.164-1.266 3.132-1.266 1.766 0 2.79 1.14 1.03 1.134 1.03 3.087zm-1.438-.422q-.015-1.18-.664-1.883-.64-.703-1.703-.703-1.203 0-1.93.68-.718.68-.828 1.914z\" /></g><g transform=\"translate(245, 0) scale(0.75, 0.75)\" fill=\"#e5e5e5\" stroke=\"#e5e5e5\"><path d=\"M25.285 2.258v1.195H23.91q-.773 0-1.078.313-.297.312-.297 1.125v.773h2.367v1.117h-2.367v7.633H21.09V6.781h-1.375V5.664h1.375v-.61q0-1.46.68-2.124.68-.672 2.156-.672z\" /></g><g transform=\"translate(245, 375) scale(0.75, 0.75)\" fill=\"#e5e5e5\" stroke=\"#e5e5e5\"><path d=\"M25.285 2.258v1.195H23.91q-.773 0-1.078.313-.297.312-.297 1.125v.773h2.367v1.117h-2.367v7.633H21.09V6.781h-1.375V5.664h1.375v-.61q0-1.46.68-2.124.68-.672 2.156-.672z\" /></g><g transform=\"translate(290, 0) scale(0.75, 0.75)\" fill=\"#e5e5e5\" stroke=\"#e5e5e5\"><path d=\"M24.973 9.937q0-1.562-.649-2.421-.64-.86-1.804-.86-1.157 0-1.805.86-.64.859-.64 2.421 0 1.555.64 2.415.648.859 1.805.859 1.164 0 1.804-.86.649-.859.649-2.414zm1.437 3.391q0 2.234-.992 3.32-.992 1.094-3.04 1.094-.757 0-1.429-.117-.672-.11-1.304-.344v-1.398q.632.344 1.25.508.617.164 1.257.164 1.414 0 2.118-.743.703-.734.703-2.226v-.711q-.446.773-1.141 1.156-.695.383-1.664.383-1.61 0-2.594-1.227-.984-1.226-.984-3.25 0-2.03.984-3.257.985-1.227 2.594-1.227.969 0 1.664.383t1.14 1.156V5.664h1.438z\" /></g><g transform=\"translate(290, 375) scale(0.75, 0.75)\" fill=\"#e5e5e5\" stroke=\"#e5e5e5\"><path d=\"M24.973 9.937q0-1.562-.649-2.421-.64-.86-1.804-.86-1.157 0-1.805.86-.64.859-.64 2.421 0 1.555.64 2.415.648.859 1.805.859 1.164 0 1.804-.86.649-.859.649-2.414zm1.437 3.391q0 2.234-.992 3.32-.992 1.094-3.04 1.094-.757 0-1.429-.117-.672-.11-1.304-.344v-1.398q.632.344 1.25.508.617.164 1.257.164 1.414 0 2.118-.743.703-.734.703-2.226v-.711q-.446.773-1.141 1.156-.695.383-1.664.383-1.61 0-2.594-1.227-.984-1.226-.984-3.25 0-2.03.984-3.257.985-1.227 2.594-1.227.969 0 1.664.383t1.14 1.156V5.664h1.438z\" /></g><g transform=\"translate(335, 0) scale(0.75, 0.75)\" fill=\"#e5e5e5\" stroke=\"#e5e5e5\"><path d=\"M26.164 9.133v5.281h-1.437V9.18q0-1.243-.485-1.86-.484-.617-1.453-.617-1.164 0-1.836.742-.672.742-.672 2.024v4.945h-1.445V2.258h1.445v4.765q.516-.789 1.211-1.18.703-.39 1.617-.39 1.508 0 2.282.938.773.93.773 2.742z\" /></g><g transform=\"translate(335, 375) scale(0.75, 0.75)\" fill=\"#e5e5e5\" stroke=\"#e5e5e5\"><path d=\"M26.164 9.133v5.281h-1.437V9.18q0-1.243-.485-1.86-.484-.617-1.453-.617-1.164 0-1.836.742-.672.742-.672 2.024v4.945h-1.445V2.258h1.445v4.765q.516-.789 1.211-1.18.703-.39 1.617-.39 1.508 0 2.282.938.773.93.773 2.742z\" /></g><g transform=\"translate(0, 335) scale(0.75, 0.75)\" fill=\"#e5e5e5\" stroke=\"#e5e5e5\"><path d=\"M6.754 26.996h2.578v-8.898l-2.805.562v-1.437l2.79-.563h1.578v10.336h2.578v1.328h-6.72z\" /></g><g transform=\"translate(375, 335) scale(0.75, 0.75)\" fill=\"#e5e5e5\" stroke=\"#e5e5e5\"><path d=\"M6.754 26.996h2.578v-8.898l-2.805.562v-1.437l2.79-.563h1.578v10.336h2.578v1.328h-6.72z\" /></g><g transform=\"translate(0, 290) scale(0.75, 0.75)\" fill=\"#e5e5e5\" stroke=\"#e5e5e5\"><path d=\"M8.195 26.996h5.508v1.328H6.297v-1.328q.898-.93 2.445-2.492 1.555-1.57 1.953-2.024.758-.851 1.055-1.437.305-.594.305-1.164 0-.93-.657-1.516-.648-.586-1.695-.586-.742 0-1.57.258-.82.258-1.758.781v-1.593q.953-.383 1.781-.578.828-.196 1.516-.196 1.812 0 2.89.906 1.079.907 1.079 2.422 0 .72-.274 1.368-.265.64-.976 1.515-.196.227-1.243 1.313-1.046 1.078-2.953 3.023z\" /></g><g transform=\"translate(375, 290) scale(0.75, 0.75)\" fill=\"#e5e5e5\" stroke=\"#e5e5e5\"><path d=\"M8.195 26.996h5.508v1.328H6.297v-1.328q.898-.93 2.445-2.492 1.555-1.57 1.953-2.024.758-.851 1.055-1.437.305-.594.305-1.164 0-.93-.657-1.516-.648-.586-1.695-.586-.742 0-1.57.258-.82.258-1.758.781v-1.593q.953-.383 1.781-.578.828-.196 1.516-.196 1.812 0 2.89.906 1.079.907 1.079 2.422 0 .72-.274 1.368-.265.64-.976 1.515-.196.227-1.243 1.313-1.046 1.078-2.953 3.023z\" /></g><g transform=\"translate(0, 245) scale(0.75, 0.75)\" fill=\"#e5e5e5\" stroke=\"#e5e5e5\"><path d=\"M11.434 22.035q1.132.242 1.765 1.008.64.766.64 1.89 0 1.727-1.187 2.672-1.187.946-3.375.946-.734 0-1.515-.149-.774-.14-1.602-.43V26.45q.656.383 1.438.578.78.196 1.632.196 1.485 0 2.258-.586.782-.586.782-1.703 0-1.032-.727-1.61-.719-.586-2.008-.586h-1.36v-1.297h1.423q1.164 0 1.78-.46.618-.47.618-1.344 0-.899-.64-1.375-.633-.485-1.82-.485-.65 0-1.391.141-.743.14-1.633.437V16.95q.898-.25 1.68-.375.788-.125 1.484-.125 1.797 0 2.844.82 1.046.813 1.046 2.204 0 .968-.554 1.64-.555.664-1.578.922z\" /></g><g transform=\"translate(375, 245) scale(0.75, 0.75)\" fill=\"#e5e5e5\" stroke=\"#e5e5e5\"><path d=\"M11.434 22.035q1.132.242 1.765 1.008.64.766.64 1.89 0 1.727-1.187 2.672-1.187.946-3.375.946-.734 0-1.515-.149-.774-.14-1.602-.43V26.45q.656.383 1.438.578.78.196 1.632.196 1.485 0 2.258-.586.782-.586.782-1.703 0-1.032-.727-1.61-.719-.586-2.008-.586h-1.36v-1.297h1.423q1.164 0 1.78-.46.618-.47.618-1.344 0-.899-.64-1.375-.633-.485-1.82-.485-.65 0-1.391.141-.743.14-1.633.437V16.95q.898-.25 1.68-.375.788-.125 1.484-.125 1.797 0 2.844.82 1.046.813 1.046 2.204 0 .968-.554 1.64-.555.664-1.578.922z\" /></g><g transform=\"translate(0, 200) scale(0.75, 0.75)\" fill=\"#e5e5e5\" stroke=\"#e5e5e5\"><path d=\"M11.016 18.035L7.03 24.262h3.985zm-.414-1.375h1.984v7.602h1.664v1.312h-1.664v2.75h-1.57v-2.75H5.75v-1.523z\" /></g><g transform=\"translate(375, 200) scale(0.75, 0.75)\" fill=\"#e5e5e5\" stroke=\"#e5e5e5\"><path d=\"M11.016 18.035L7.03 24.262h3.985zm-.414-1.375h1.984v7.602h1.664v1.312h-1.664v2.75h-1.57v-2.75H5.75v-1.523z\" /></g><g transform=\"translate(0, 155) scale(0.75, 0.75)\" fill=\"#e5e5e5\" stroke=\"#e5e5e5\"><path d=\"M6.719 16.66h6.195v1.328h-4.75v2.86q.344-.118.688-.172.343-.063.687-.063 1.953 0 3.094 1.07 1.14 1.07 1.14 2.899 0 1.883-1.171 2.93-1.172 1.039-3.305 1.039-.735 0-1.5-.125-.758-.125-1.57-.375v-1.586q.703.383 1.453.57.75.188 1.586.188 1.351 0 2.14-.711.79-.711.79-1.93 0-1.219-.79-1.93-.789-.71-2.14-.71-.633 0-1.266.14-.625.14-1.281.438z\" /></g><g transform=\"translate(375, 155) scale(0.75, 0.75)\" fill=\"#e5e5e5\" stroke=\"#e5e5e5\"><path d=\"M6.719 16.66h6.195v1.328h-4.75v2.86q.344-.118.688-.172.343-.063.687-.063 1.953 0 3.094 1.07 1.14 1.07 1.14 2.899 0 1.883-1.171 2.93-1.172 1.039-3.305 1.039-.735 0-1.5-.125-.758-.125-1.57-.375v-1.586q.703.383 1.453.57.75.188 1.586.188 1.351 0 2.14-.711.79-.711.79-1.93 0-1.219-.79-1.93-.789-.71-2.14-.71-.633 0-1.266.14-.625.14-1.281.438z\" /></g><g transform=\"translate(0, 110) scale(0.75, 0.75)\" fill=\"#e5e5e5\" stroke=\"#e5e5e5\"><path d=\"M10.137 21.863q-1.063 0-1.688.727-.617.726-.617 1.992 0 1.258.617 1.992.625.727 1.688.727 1.062 0 1.68-.727.624-.734.624-1.992 0-1.266-.625-1.992-.617-.727-1.68-.727zm3.133-4.945v1.437q-.594-.28-1.204-.43-.601-.148-1.195-.148-1.562 0-2.39 1.055-.82 1.055-.938 3.188.46-.68 1.156-1.04.696-.367 1.531-.367 1.758 0 2.774 1.07 1.023 1.063 1.023 2.899 0 1.797-1.062 2.883-1.063 1.086-2.828 1.086-2.024 0-3.094-1.547-1.07-1.555-1.07-4.5 0-2.766 1.312-4.406 1.313-1.649 3.524-1.649.593 0 1.195.117.61.118 1.266.352z\" /></g><g transform=\"translate(375, 110) scale(0.75, 0.75)\" fill=\"#e5e5e5\" stroke=\"#e5e5e5\"><path d=\"M10.137 21.863q-1.063 0-1.688.727-.617.726-.617 1.992 0 1.258.617 1.992.625.727 1.688.727 1.062 0 1.68-.727.624-.734.624-1.992 0-1.266-.625-1.992-.617-.727-1.68-.727zm3.133-4.945v1.437q-.594-.28-1.204-.43-.601-.148-1.195-.148-1.562 0-2.39 1.055-.82 1.055-.938 3.188.46-.68 1.156-1.04.696-.367 1.531-.367 1.758 0 2.774 1.07 1.023 1.063 1.023 2.899 0 1.797-1.062 2.883-1.063 1.086-2.828 1.086-2.024 0-3.094-1.547-1.07-1.555-1.07-4.5 0-2.766 1.312-4.406 1.313-1.649 3.524-1.649.593 0 1.195.117.61.118 1.266.352z\" /></g><g transform=\"translate(0, 65) scale(0.75, 0.75)\" fill=\"#e5e5e5\" stroke=\"#e5e5e5\"><path d=\"M6.25 16.66h7.5v.672L9.516 28.324H7.867l3.985-10.336H6.25z\" /></g><g transform=\"translate(375, 65) scale(0.75, 0.75)\" fill=\"#e5e5e5\" stroke=\"#e5e5e5\"><path d=\"M6.25 16.66h7.5v.672L9.516 28.324H7.867l3.985-10.336H6.25z\" /></g><g transform=\"translate(0, 20) scale(0.75, 0.75)\" fill=\"#e5e5e5\" stroke=\"#e5e5e5\"><path d=\"M10 22.785q-1.125 0-1.773.602-.641.601-.641 1.656t.64 1.656q.649.602 1.774.602t1.773-.602q.649-.61.649-1.656 0-1.055-.649-1.656-.64-.602-1.773-.602zm-1.578-.672q-1.016-.25-1.586-.945-.563-.695-.563-1.695 0-1.399.993-2.211 1-.813 2.734-.813 1.742 0 2.734.813.993.812.993 2.21 0 1-.57 1.696-.563.695-1.571.945 1.14.266 1.773 1.04.641.773.641 1.89 0 1.695-1.04 2.602-1.03.906-2.96.906t-2.969-.906Q6 26.738 6 25.043q0-1.117.64-1.89.641-.774 1.782-1.04zm-.578-2.492q0 .906.562 1.414.57.508 1.594.508 1.016 0 1.586-.508.578-.508.578-1.414 0-.906-.578-1.414-.57-.508-1.586-.508-1.023 0-1.594.508-.562.508-.562 1.414z\" /></g><g transform=\"translate(375, 20) scale(0.75, 0.75)\" fill=\"#e5e5e5\" stroke=\"#e5e5e5\"><path d=\"M10 22.785q-1.125 0-1.773.602-.641.601-.641 1.656t.64 1.656q.649.602 1.774.602t1.773-.602q.649-.61.649-1.656 0-1.055-.649-1.656-.64-.602-1.773-.602zm-1.578-.672q-1.016-.25-1.586-.945-.563-.695-.563-1.695 0-1.399.993-2.211 1-.813 2.734-.813 1.742 0 2.734.813.993.812.993 2.21 0 1-.57 1.696-.563.695-1.571.945 1.14.266 1.773 1.04.641.773.641 1.89 0 1.695-1.04 2.602-1.03.906-2.96.906t-2.969-.906Q6 26.738 6 25.043q0-1.117.64-1.89.641-.774 1.782-1.04zm-.578-2.492q0 .906.562 1.414.57.508 1.594.508 1.016 0 1.586-.508.578-.508.578-1.414 0-.906-.578-1.414-.57-.508-1.586-.508-1.023 0-1.594.508-.562.508-.562 1.414z\" /></g><rect x=\"15\" y=\"330\" width=\"45\" height=\"45\" class=\"square dark a1\" stroke=\"none\" fill=\"#d18b47\" /><rect x=\"60\" y=\"330\" width=\"45\" height=\"45\" class=\"square light b1\" stroke=\"none\" fill=\"#ffce9e\" /><rect x=\"105\" y=\"330\" width=\"45\" height=\"45\" class=\"square dark c1\" stroke=\"none\" fill=\"#d18b47\" /><rect x=\"150\" y=\"330\" width=\"45\" height=\"45\" class=\"square light d1\" stroke=\"none\" fill=\"#ffce9e\" /><rect x=\"195\" y=\"330\" width=\"45\" height=\"45\" class=\"square dark e1\" stroke=\"none\" fill=\"#d18b47\" /><rect x=\"240\" y=\"330\" width=\"45\" height=\"45\" class=\"square light f1\" stroke=\"none\" fill=\"#ffce9e\" /><rect x=\"285\" y=\"330\" width=\"45\" height=\"45\" class=\"square dark g1\" stroke=\"none\" fill=\"#d18b47\" /><rect x=\"330\" y=\"330\" width=\"45\" height=\"45\" class=\"square light h1\" stroke=\"none\" fill=\"#ffce9e\" /><rect x=\"15\" y=\"285\" width=\"45\" height=\"45\" class=\"square light a2\" stroke=\"none\" fill=\"#ffce9e\" /><rect x=\"60\" y=\"285\" width=\"45\" height=\"45\" class=\"square dark b2\" stroke=\"none\" fill=\"#d18b47\" /><rect x=\"105\" y=\"285\" width=\"45\" height=\"45\" class=\"square light c2\" stroke=\"none\" fill=\"#ffce9e\" /><rect x=\"150\" y=\"285\" width=\"45\" height=\"45\" class=\"square dark d2\" stroke=\"none\" fill=\"#d18b47\" /><rect x=\"195\" y=\"285\" width=\"45\" height=\"45\" class=\"square light e2\" stroke=\"none\" fill=\"#ffce9e\" /><rect x=\"240\" y=\"285\" width=\"45\" height=\"45\" class=\"square dark f2\" stroke=\"none\" fill=\"#d18b47\" /><rect x=\"285\" y=\"285\" width=\"45\" height=\"45\" class=\"square light g2\" stroke=\"none\" fill=\"#ffce9e\" /><rect x=\"330\" y=\"285\" width=\"45\" height=\"45\" class=\"square dark h2\" stroke=\"none\" fill=\"#d18b47\" /><rect x=\"15\" y=\"240\" width=\"45\" height=\"45\" class=\"square dark a3\" stroke=\"none\" fill=\"#d18b47\" /><rect x=\"60\" y=\"240\" width=\"45\" height=\"45\" class=\"square light b3\" stroke=\"none\" fill=\"#ffce9e\" /><rect x=\"105\" y=\"240\" width=\"45\" height=\"45\" class=\"square dark c3\" stroke=\"none\" fill=\"#d18b47\" /><rect x=\"150\" y=\"240\" width=\"45\" height=\"45\" class=\"square light d3\" stroke=\"none\" fill=\"#ffce9e\" /><rect x=\"195\" y=\"240\" width=\"45\" height=\"45\" class=\"square dark e3\" stroke=\"none\" fill=\"#d18b47\" /><rect x=\"240\" y=\"240\" width=\"45\" height=\"45\" class=\"square light f3\" stroke=\"none\" fill=\"#ffce9e\" /><rect x=\"285\" y=\"240\" width=\"45\" height=\"45\" class=\"square dark g3\" stroke=\"none\" fill=\"#d18b47\" /><rect x=\"330\" y=\"240\" width=\"45\" height=\"45\" class=\"square light h3\" stroke=\"none\" fill=\"#ffce9e\" /><rect x=\"15\" y=\"195\" width=\"45\" height=\"45\" class=\"square light a4\" stroke=\"none\" fill=\"#ffce9e\" /><rect x=\"60\" y=\"195\" width=\"45\" height=\"45\" class=\"square dark b4\" stroke=\"none\" fill=\"#d18b47\" /><rect x=\"105\" y=\"195\" width=\"45\" height=\"45\" class=\"square light c4\" stroke=\"none\" fill=\"#ffce9e\" /><rect x=\"150\" y=\"195\" width=\"45\" height=\"45\" class=\"square dark d4\" stroke=\"none\" fill=\"#d18b47\" /><rect x=\"195\" y=\"195\" width=\"45\" height=\"45\" class=\"square light e4\" stroke=\"none\" fill=\"#ffce9e\" /><rect x=\"240\" y=\"195\" width=\"45\" height=\"45\" class=\"square dark f4\" stroke=\"none\" fill=\"#d18b47\" /><rect x=\"285\" y=\"195\" width=\"45\" height=\"45\" class=\"square light g4\" stroke=\"none\" fill=\"#ffce9e\" /><rect x=\"330\" y=\"195\" width=\"45\" height=\"45\" class=\"square dark h4\" stroke=\"none\" fill=\"#d18b47\" /><rect x=\"15\" y=\"150\" width=\"45\" height=\"45\" class=\"square dark a5\" stroke=\"none\" fill=\"#d18b47\" /><rect x=\"60\" y=\"150\" width=\"45\" height=\"45\" class=\"square light b5\" stroke=\"none\" fill=\"#ffce9e\" /><rect x=\"105\" y=\"150\" width=\"45\" height=\"45\" class=\"square dark c5\" stroke=\"none\" fill=\"#d18b47\" /><rect x=\"150\" y=\"150\" width=\"45\" height=\"45\" class=\"square light d5\" stroke=\"none\" fill=\"#ffce9e\" /><rect x=\"195\" y=\"150\" width=\"45\" height=\"45\" class=\"square dark e5\" stroke=\"none\" fill=\"#d18b47\" /><rect x=\"240\" y=\"150\" width=\"45\" height=\"45\" class=\"square light f5\" stroke=\"none\" fill=\"#ffce9e\" /><rect x=\"285\" y=\"150\" width=\"45\" height=\"45\" class=\"square dark g5\" stroke=\"none\" fill=\"#d18b47\" /><rect x=\"330\" y=\"150\" width=\"45\" height=\"45\" class=\"square light h5\" stroke=\"none\" fill=\"#ffce9e\" /><rect x=\"15\" y=\"105\" width=\"45\" height=\"45\" class=\"square light a6\" stroke=\"none\" fill=\"#ffce9e\" /><rect x=\"60\" y=\"105\" width=\"45\" height=\"45\" class=\"square dark b6\" stroke=\"none\" fill=\"#d18b47\" /><rect x=\"105\" y=\"105\" width=\"45\" height=\"45\" class=\"square light c6\" stroke=\"none\" fill=\"#ffce9e\" /><rect x=\"150\" y=\"105\" width=\"45\" height=\"45\" class=\"square dark d6\" stroke=\"none\" fill=\"#d18b47\" /><rect x=\"195\" y=\"105\" width=\"45\" height=\"45\" class=\"square light e6\" stroke=\"none\" fill=\"#ffce9e\" /><rect x=\"240\" y=\"105\" width=\"45\" height=\"45\" class=\"square dark f6\" stroke=\"none\" fill=\"#d18b47\" /><rect x=\"285\" y=\"105\" width=\"45\" height=\"45\" class=\"square light g6\" stroke=\"none\" fill=\"#ffce9e\" /><rect x=\"330\" y=\"105\" width=\"45\" height=\"45\" class=\"square dark h6\" stroke=\"none\" fill=\"#d18b47\" /><rect x=\"15\" y=\"60\" width=\"45\" height=\"45\" class=\"square dark a7\" stroke=\"none\" fill=\"#d18b47\" /><rect x=\"60\" y=\"60\" width=\"45\" height=\"45\" class=\"square light b7\" stroke=\"none\" fill=\"#ffce9e\" /><rect x=\"105\" y=\"60\" width=\"45\" height=\"45\" class=\"square dark c7\" stroke=\"none\" fill=\"#d18b47\" /><rect x=\"150\" y=\"60\" width=\"45\" height=\"45\" class=\"square light d7\" stroke=\"none\" fill=\"#ffce9e\" /><rect x=\"195\" y=\"60\" width=\"45\" height=\"45\" class=\"square dark e7\" stroke=\"none\" fill=\"#d18b47\" /><rect x=\"240\" y=\"60\" width=\"45\" height=\"45\" class=\"square light f7\" stroke=\"none\" fill=\"#ffce9e\" /><rect x=\"285\" y=\"60\" width=\"45\" height=\"45\" class=\"square dark g7\" stroke=\"none\" fill=\"#d18b47\" /><rect x=\"330\" y=\"60\" width=\"45\" height=\"45\" class=\"square light h7\" stroke=\"none\" fill=\"#ffce9e\" /><rect x=\"15\" y=\"15\" width=\"45\" height=\"45\" class=\"square light a8\" stroke=\"none\" fill=\"#ffce9e\" /><rect x=\"60\" y=\"15\" width=\"45\" height=\"45\" class=\"square dark b8\" stroke=\"none\" fill=\"#d18b47\" /><rect x=\"105\" y=\"15\" width=\"45\" height=\"45\" class=\"square light c8\" stroke=\"none\" fill=\"#ffce9e\" /><rect x=\"150\" y=\"15\" width=\"45\" height=\"45\" class=\"square dark d8\" stroke=\"none\" fill=\"#d18b47\" /><rect x=\"195\" y=\"15\" width=\"45\" height=\"45\" class=\"square light e8\" stroke=\"none\" fill=\"#ffce9e\" /><rect x=\"240\" y=\"15\" width=\"45\" height=\"45\" class=\"square dark f8\" stroke=\"none\" fill=\"#d18b47\" /><rect x=\"285\" y=\"15\" width=\"45\" height=\"45\" class=\"square light g8\" stroke=\"none\" fill=\"#ffce9e\" /><rect x=\"330\" y=\"15\" width=\"45\" height=\"45\" class=\"square dark h8\" stroke=\"none\" fill=\"#d18b47\" /><use href=\"#white-king\" xlink:href=\"#white-king\" transform=\"translate(15, 330)\" /><use href=\"#black-king\" xlink:href=\"#black-king\" transform=\"translate(150, 240)\" /><use href=\"#black-queen\" xlink:href=\"#black-queen\" transform=\"translate(60, 150)\" /><use href=\"#black-pawn\" xlink:href=\"#black-pawn\" transform=\"translate(285, 150)\" /><use href=\"#black-pawn\" xlink:href=\"#black-pawn\" transform=\"translate(105, 105)\" /><use href=\"#black-pawn\" xlink:href=\"#black-pawn\" transform=\"translate(330, 105)\" /><use href=\"#black-pawn\" xlink:href=\"#black-pawn\" transform=\"translate(15, 60)\" /><use href=\"#black-pawn\" xlink:href=\"#black-pawn\" transform=\"translate(60, 60)\" /><use href=\"#black-pawn\" xlink:href=\"#black-pawn\" transform=\"translate(330, 60)\" /></svg>"
      ],
      "text/plain": [
       "Board('8/pp5p/2p4p/1q4p1/8/3k4/8/K7 b - - 7 52')"
      ]
     },
     "execution_count": 66,
     "metadata": {},
     "output_type": "execute_result"
    }
   ],
   "source": [
    "#See what this 4th-from-last position looks like\n",
    "board = chess.Board(fen)\n",
    "board"
   ]
  },
  {
   "cell_type": "code",
   "execution_count": 67,
   "id": "35c589d7-cb3f-47d2-a739-8719bd58cfd8",
   "metadata": {},
   "outputs": [
    {
     "data": {
      "text/plain": [
       "{'eval': {'is_mate_score': 1, 'mate': 2, 'cp': 0},\n",
       " 'top10': [{'is_mate_score': 1, 'mate': 2, 'cp': 0},\n",
       "  {'is_mate_score': 1, 'mate': 2, 'cp': 0},\n",
       "  {'is_mate_score': 1, 'mate': 3, 'cp': 0},\n",
       "  {'is_mate_score': 1, 'mate': 3, 'cp': 0},\n",
       "  {'is_mate_score': 1, 'mate': 3, 'cp': 0},\n",
       "  {'is_mate_score': 1, 'mate': 3, 'cp': 0},\n",
       "  {'is_mate_score': 1, 'mate': 3, 'cp': 0},\n",
       "  {'is_mate_score': 1, 'mate': 3, 'cp': 0},\n",
       "  {'is_mate_score': 1, 'mate': 3, 'cp': 0},\n",
       "  {'is_mate_score': 1, 'mate': 3, 'cp': 0}]}"
      ]
     },
     "execution_count": 67,
     "metadata": {},
     "output_type": "execute_result"
    }
   ],
   "source": [
    "#Compare to what our function produces: it should invert the signs of the scores\n",
    "#since our new player is playing Black\n",
    "get_eval_top_10(d=game[moves_so_far], moves_so_far=moves_so_far, new_pl_is_white=0, is_final_position=0)"
   ]
  },
  {
   "cell_type": "markdown",
   "id": "88845f06-899a-4ef0-be92-1a37c2af6152",
   "metadata": {},
   "source": [
    "### Using the function to get the scores for *every* position in a single game"
   ]
  },
  {
   "cell_type": "markdown",
   "id": "b63c5cd9-8033-40f4-a628-2a4a1c61d94c",
   "metadata": {},
   "source": [
    "Let's return our single example game from before.  We were working with the new player whose game is number 123 in the `train_1st` dataframe:"
   ]
  },
  {
   "cell_type": "code",
   "execution_count": 68,
   "id": "5d99418e-0f87-458f-94db-d280802d7549",
   "metadata": {},
   "outputs": [],
   "source": [
    "game_number = 123\n",
    "kind = 'train'\n",
    "game = eval(open(f\"{stockfish_paths_dict[kind]}/game{game_number}.txt\").read())"
   ]
  },
  {
   "cell_type": "markdown",
   "id": "cfd26e53-4845-4497-9796-2c53f1fbfade",
   "metadata": {},
   "source": [
    "We found the name of this new player:"
   ]
  },
  {
   "cell_type": "code",
   "execution_count": 69,
   "id": "aef2f9e1-bcab-4e7d-a219-95312f405a89",
   "metadata": {},
   "outputs": [
    {
     "data": {
      "text/plain": [
       "'The_Mechanic_Arg'"
      ]
     },
     "execution_count": 69,
     "metadata": {},
     "output_type": "execute_result"
    }
   ],
   "source": [
    "new_pl_name"
   ]
  },
  {
   "cell_type": "markdown",
   "id": "aea2a57a-bdae-4ff0-8fb5-1438768b6b93",
   "metadata": {},
   "source": [
    "We had already recorded lots of information about this player's 1st game, 2nd game, and 2nd-game opponent's previous game.  We entered all this information into our dictionary under this player's name:"
   ]
  },
  {
   "cell_type": "code",
   "execution_count": 70,
   "id": "b477e1ad-4484-4e16-8205-6f4032d9619f",
   "metadata": {},
   "outputs": [
    {
     "data": {
      "text/plain": [
       "{'The_Mechanic_Arg': {'data': [0,\n",
       "   0.0,\n",
       "   1801.0,\n",
       "   -71.0,\n",
       "   4.0,\n",
       "   70,\n",
       "   600.0,\n",
       "   0.0,\n",
       "   0,\n",
       "   1,\n",
       "   0,\n",
       "   1429.0,\n",
       "   1435.0,\n",
       "   600.0,\n",
       "   0.0,\n",
       "   0,\n",
       "   1,\n",
       "   0.0,\n",
       "   1445.0,\n",
       "   1458.0,\n",
       "   -10.0,\n",
       "   11.0,\n",
       "   27,\n",
       "   600.0,\n",
       "   0.0,\n",
       "   0,\n",
       "   1,\n",
       "   0,\n",
       "   0],\n",
       "  'target': 1.0}}"
      ]
     },
     "execution_count": 70,
     "metadata": {},
     "output_type": "execute_result"
    }
   ],
   "source": [
    "example_dict"
   ]
  },
  {
   "cell_type": "markdown",
   "id": "8d8c769a-2696-465e-8065-b7dce93add72",
   "metadata": {},
   "source": [
    "We need to add the information from all the positions of this new player's first game.  We will store these in a list, under the key '1st_game_positions':"
   ]
  },
  {
   "cell_type": "code",
   "execution_count": 71,
   "id": "c51ab1bf-d283-4e31-87e0-105badcc67d5",
   "metadata": {},
   "outputs": [],
   "source": [
    "#Initialize a list to store the positions' information\n",
    "example_dict[new_pl_name]['1st_game_positions'] = []\n",
    "\n",
    "#Determine if the new player is playing White in this game\n",
    "new_pl_is_white = dfs_dict[f\"{kind}_1st\"].iloc[game_number]['new_pl_color']=='White'"
   ]
  },
  {
   "cell_type": "code",
   "execution_count": 72,
   "id": "1fc84bcd-677e-490e-a736-3ae5d90bb7ff",
   "metadata": {},
   "outputs": [],
   "source": [
    "moves_so_far = 0\n",
    "\n",
    "#Add all the non-final positions\n",
    "for i in range(len(game)-1):\n",
    "    example_dict[new_pl_name]['1st_game_positions'].append(\n",
    "        get_eval_top_10(game[moves_so_far], moves_so_far, new_pl_is_white, is_final_position=0)\n",
    "    )\n",
    "    #Increment the move counter\n",
    "    moves_so_far += 1\n",
    "\n",
    "#Add the final position\n",
    "moves_so_far = len(game)-1\n",
    "example_dict[new_pl_name]['1st_game_positions'].append(\n",
    "        get_eval_top_10(game[moves_so_far], moves_so_far, new_pl_is_white, is_final_position=1)\n",
    "    )"
   ]
  },
  {
   "cell_type": "code",
   "execution_count": 73,
   "id": "a3add93a-9435-434e-ac9b-16c08ddbd26a",
   "metadata": {
    "scrolled": true,
    "tags": []
   },
   "outputs": [
    {
     "data": {
      "text/plain": [
       "{'The_Mechanic_Arg': {'data': [0,\n",
       "   0.0,\n",
       "   1801.0,\n",
       "   -71.0,\n",
       "   4.0,\n",
       "   70,\n",
       "   600.0,\n",
       "   0.0,\n",
       "   0,\n",
       "   1,\n",
       "   0,\n",
       "   1429.0,\n",
       "   1435.0,\n",
       "   600.0,\n",
       "   0.0,\n",
       "   0,\n",
       "   1,\n",
       "   0.0,\n",
       "   1445.0,\n",
       "   1458.0,\n",
       "   -10.0,\n",
       "   11.0,\n",
       "   27,\n",
       "   600.0,\n",
       "   0.0,\n",
       "   0,\n",
       "   1,\n",
       "   0,\n",
       "   0],\n",
       "  'target': 1.0,\n",
       "  '1st_game_positions': [{'eval': {'is_mate_score': 0, 'cp': 64, 'mate': 0},\n",
       "    'top10': [{'is_mate_score': 0, 'cp': 70, 'mate': 0},\n",
       "     {'is_mate_score': 0, 'cp': 39, 'mate': 0},\n",
       "     {'is_mate_score': 0, 'cp': 30, 'mate': 0},\n",
       "     {'is_mate_score': 0, 'cp': 29, 'mate': 0},\n",
       "     {'is_mate_score': 0, 'cp': 28, 'mate': 0},\n",
       "     {'is_mate_score': 0, 'cp': 18, 'mate': 0},\n",
       "     {'is_mate_score': 0, 'cp': -9, 'mate': 0},\n",
       "     {'is_mate_score': 0, 'cp': -9, 'mate': 0},\n",
       "     {'is_mate_score': 0, 'cp': -31, 'mate': 0},\n",
       "     {'is_mate_score': 0, 'cp': -31, 'mate': 0}]},\n",
       "   {'eval': {'is_mate_score': 0, 'cp': 23, 'mate': 0}},\n",
       "   {'eval': {'is_mate_score': 0, 'cp': 56, 'mate': 0},\n",
       "    'top10': [{'is_mate_score': 0, 'cp': 66, 'mate': 0},\n",
       "     {'is_mate_score': 0, 'cp': 0, 'mate': 0},\n",
       "     {'is_mate_score': 0, 'cp': -14, 'mate': 0},\n",
       "     {'is_mate_score': 0, 'cp': -15, 'mate': 0},\n",
       "     {'is_mate_score': 0, 'cp': -17, 'mate': 0},\n",
       "     {'is_mate_score': 0, 'cp': -18, 'mate': 0},\n",
       "     {'is_mate_score': 0, 'cp': -30, 'mate': 0},\n",
       "     {'is_mate_score': 0, 'cp': -37, 'mate': 0},\n",
       "     {'is_mate_score': 0, 'cp': -40, 'mate': 0},\n",
       "     {'is_mate_score': 0, 'cp': -50, 'mate': 0}]},\n",
       "   {'eval': {'is_mate_score': 0, 'cp': -41, 'mate': 0}},\n",
       "   {'eval': {'is_mate_score': 0, 'cp': -61, 'mate': 0},\n",
       "    'top10': [{'is_mate_score': 0, 'cp': -28, 'mate': 0},\n",
       "     {'is_mate_score': 0, 'cp': -64, 'mate': 0},\n",
       "     {'is_mate_score': 0, 'cp': -69, 'mate': 0},\n",
       "     {'is_mate_score': 0, 'cp': -71, 'mate': 0},\n",
       "     {'is_mate_score': 0, 'cp': -71, 'mate': 0},\n",
       "     {'is_mate_score': 0, 'cp': -72, 'mate': 0},\n",
       "     {'is_mate_score': 0, 'cp': -74, 'mate': 0},\n",
       "     {'is_mate_score': 0, 'cp': -86, 'mate': 0},\n",
       "     {'is_mate_score': 0, 'cp': -87, 'mate': 0},\n",
       "     {'is_mate_score': 0, 'cp': -91, 'mate': 0}]},\n",
       "   {'eval': {'is_mate_score': 0, 'cp': -86, 'mate': 0}},\n",
       "   {'eval': {'is_mate_score': 0, 'cp': -83, 'mate': 0},\n",
       "    'top10': [{'is_mate_score': 0, 'cp': -91, 'mate': 0},\n",
       "     {'is_mate_score': 0, 'cp': -102, 'mate': 0},\n",
       "     {'is_mate_score': 0, 'cp': -104, 'mate': 0},\n",
       "     {'is_mate_score': 0, 'cp': -111, 'mate': 0},\n",
       "     {'is_mate_score': 0, 'cp': -113, 'mate': 0},\n",
       "     {'is_mate_score': 0, 'cp': -114, 'mate': 0},\n",
       "     {'is_mate_score': 0, 'cp': -125, 'mate': 0},\n",
       "     {'is_mate_score': 0, 'cp': -128, 'mate': 0},\n",
       "     {'is_mate_score': 0, 'cp': -145, 'mate': 0},\n",
       "     {'is_mate_score': 0, 'cp': -148, 'mate': 0}]},\n",
       "   {'eval': {'is_mate_score': 0, 'cp': -91, 'mate': 0}},\n",
       "   {'eval': {'is_mate_score': 0, 'cp': -65, 'mate': 0},\n",
       "    'top10': [{'is_mate_score': 0, 'cp': -50, 'mate': 0},\n",
       "     {'is_mate_score': 0, 'cp': -83, 'mate': 0},\n",
       "     {'is_mate_score': 0, 'cp': -86, 'mate': 0},\n",
       "     {'is_mate_score': 0, 'cp': -96, 'mate': 0},\n",
       "     {'is_mate_score': 0, 'cp': -96, 'mate': 0},\n",
       "     {'is_mate_score': 0, 'cp': -100, 'mate': 0},\n",
       "     {'is_mate_score': 0, 'cp': -105, 'mate': 0},\n",
       "     {'is_mate_score': 0, 'cp': -121, 'mate': 0},\n",
       "     {'is_mate_score': 0, 'cp': -124, 'mate': 0},\n",
       "     {'is_mate_score': 0, 'cp': -135, 'mate': 0}]},\n",
       "   {'eval': {'is_mate_score': 0, 'cp': -162, 'mate': 0}},\n",
       "   {'eval': {'is_mate_score': 0, 'cp': -115, 'mate': 0},\n",
       "    'top10': [{'is_mate_score': 0, 'cp': -156, 'mate': 0},\n",
       "     {'is_mate_score': 0, 'cp': -167, 'mate': 0},\n",
       "     {'is_mate_score': 0, 'cp': -177, 'mate': 0},\n",
       "     {'is_mate_score': 0, 'cp': -200, 'mate': 0},\n",
       "     {'is_mate_score': 0, 'cp': -311, 'mate': 0},\n",
       "     {'is_mate_score': 0, 'cp': -343, 'mate': 0},\n",
       "     {'is_mate_score': 0, 'cp': -345, 'mate': 0},\n",
       "     {'is_mate_score': 0, 'cp': -345, 'mate': 0},\n",
       "     {'is_mate_score': 0, 'cp': -376, 'mate': 0},\n",
       "     {'is_mate_score': 0, 'cp': -389, 'mate': 0}]},\n",
       "   {'eval': {'is_mate_score': 0, 'cp': -391, 'mate': 0}},\n",
       "   {'eval': {'is_mate_score': 0, 'cp': -408, 'mate': 0},\n",
       "    'top10': [{'is_mate_score': 0, 'cp': -408, 'mate': 0},\n",
       "     {'is_mate_score': 0, 'cp': -472, 'mate': 0},\n",
       "     {'is_mate_score': 0, 'cp': -491, 'mate': 0},\n",
       "     {'is_mate_score': 0, 'cp': -506, 'mate': 0},\n",
       "     {'is_mate_score': 0, 'cp': -520, 'mate': 0},\n",
       "     {'is_mate_score': 0, 'cp': -522, 'mate': 0},\n",
       "     {'is_mate_score': 0, 'cp': -522, 'mate': 0},\n",
       "     {'is_mate_score': 0, 'cp': -523, 'mate': 0},\n",
       "     {'is_mate_score': 0, 'cp': -532, 'mate': 0},\n",
       "     {'is_mate_score': 0, 'cp': -543, 'mate': 0}]},\n",
       "   {'eval': {'is_mate_score': 0, 'cp': -1123, 'mate': 0}},\n",
       "   {'eval': {'is_mate_score': 0, 'cp': -413, 'mate': 0},\n",
       "    'top10': [{'is_mate_score': 0, 'cp': -420, 'mate': 0},\n",
       "     {'is_mate_score': 0, 'cp': -438, 'mate': 0},\n",
       "     {'is_mate_score': 0, 'cp': -439, 'mate': 0},\n",
       "     {'is_mate_score': 0, 'cp': -442, 'mate': 0},\n",
       "     {'is_mate_score': 0, 'cp': -785, 'mate': 0},\n",
       "     {'is_mate_score': 0, 'cp': -789, 'mate': 0},\n",
       "     {'is_mate_score': 0, 'cp': -798, 'mate': 0},\n",
       "     {'is_mate_score': 0, 'cp': -805, 'mate': 0},\n",
       "     {'is_mate_score': 0, 'cp': -832, 'mate': 0},\n",
       "     {'is_mate_score': 0, 'cp': -855, 'mate': 0}]},\n",
       "   {'eval': {'is_mate_score': 0, 'cp': -507, 'mate': 0}},\n",
       "   {'eval': {'is_mate_score': 0, 'cp': -509, 'mate': 0},\n",
       "    'top10': [{'is_mate_score': 0, 'cp': -502, 'mate': 0},\n",
       "     {'is_mate_score': 0, 'cp': -523, 'mate': 0},\n",
       "     {'is_mate_score': 0, 'cp': -1200, 'mate': 0},\n",
       "     {'is_mate_score': 0, 'cp': -1208, 'mate': 0},\n",
       "     {'is_mate_score': 0, 'cp': -1269, 'mate': 0},\n",
       "     {'is_mate_score': 0, 'cp': -1276, 'mate': 0},\n",
       "     {'is_mate_score': 0, 'cp': -1285, 'mate': 0},\n",
       "     {'is_mate_score': 0, 'cp': -1307, 'mate': 0},\n",
       "     {'is_mate_score': 0, 'cp': -1311, 'mate': 0},\n",
       "     {'is_mate_score': 0, 'cp': -1330, 'mate': 0}]},\n",
       "   {'eval': {'is_mate_score': 0, 'cp': -542, 'mate': 0}},\n",
       "   {'eval': {'is_mate_score': 0, 'cp': -406, 'mate': 0},\n",
       "    'top10': [{'is_mate_score': 0, 'cp': -383, 'mate': 0},\n",
       "     {'is_mate_score': 0, 'cp': -422, 'mate': 0},\n",
       "     {'is_mate_score': 0, 'cp': -541, 'mate': 0},\n",
       "     {'is_mate_score': 0, 'cp': -546, 'mate': 0},\n",
       "     {'is_mate_score': 0, 'cp': -558, 'mate': 0},\n",
       "     {'is_mate_score': 0, 'cp': -575, 'mate': 0},\n",
       "     {'is_mate_score': 0, 'cp': -583, 'mate': 0},\n",
       "     {'is_mate_score': 0, 'cp': -592, 'mate': 0},\n",
       "     {'is_mate_score': 0, 'cp': -646, 'mate': 0},\n",
       "     {'is_mate_score': 0, 'cp': -655, 'mate': 0}]},\n",
       "   {'eval': {'is_mate_score': 0, 'cp': -540, 'mate': 0}},\n",
       "   {'eval': {'is_mate_score': 0, 'cp': -399, 'mate': 0},\n",
       "    'top10': [{'is_mate_score': 0, 'cp': -385, 'mate': 0},\n",
       "     {'is_mate_score': 0, 'cp': -476, 'mate': 0},\n",
       "     {'is_mate_score': 0, 'cp': -481, 'mate': 0},\n",
       "     {'is_mate_score': 0, 'cp': -485, 'mate': 0},\n",
       "     {'is_mate_score': 0, 'cp': -532, 'mate': 0},\n",
       "     {'is_mate_score': 0, 'cp': -538, 'mate': 0},\n",
       "     {'is_mate_score': 0, 'cp': -554, 'mate': 0},\n",
       "     {'is_mate_score': 0, 'cp': -576, 'mate': 0},\n",
       "     {'is_mate_score': 0, 'cp': -675, 'mate': 0},\n",
       "     {'is_mate_score': 0, 'cp': -717, 'mate': 0}]},\n",
       "   {'eval': {'is_mate_score': 0, 'cp': -907, 'mate': 0}},\n",
       "   {'eval': {'is_mate_score': 0, 'cp': -904, 'mate': 0},\n",
       "    'top10': [{'is_mate_score': 0, 'cp': -975, 'mate': 0},\n",
       "     {'is_mate_score': 0, 'cp': -1047, 'mate': 0},\n",
       "     {'is_mate_score': 0, 'cp': -1069, 'mate': 0},\n",
       "     {'is_mate_score': 0, 'cp': -1100, 'mate': 0},\n",
       "     {'is_mate_score': 0, 'cp': -1155, 'mate': 0},\n",
       "     {'is_mate_score': 0, 'cp': -1200, 'mate': 0},\n",
       "     {'is_mate_score': 0, 'cp': -1223, 'mate': 0},\n",
       "     {'is_mate_score': 0, 'cp': -1241, 'mate': 0},\n",
       "     {'is_mate_score': 0, 'cp': -1269, 'mate': 0},\n",
       "     {'is_mate_score': 0, 'cp': -1277, 'mate': 0}]},\n",
       "   {'eval': {'is_mate_score': 0, 'cp': -972, 'mate': 0}},\n",
       "   {'eval': {'is_mate_score': 0, 'cp': -946, 'mate': 0},\n",
       "    'top10': [{'is_mate_score': 0, 'cp': -863, 'mate': 0},\n",
       "     {'is_mate_score': 0, 'cp': -1044, 'mate': 0},\n",
       "     {'is_mate_score': 0, 'cp': -1071, 'mate': 0},\n",
       "     {'is_mate_score': 0, 'cp': -1073, 'mate': 0},\n",
       "     {'is_mate_score': 0, 'cp': -1095, 'mate': 0},\n",
       "     {'is_mate_score': 0, 'cp': -1130, 'mate': 0},\n",
       "     {'is_mate_score': 0, 'cp': -1144, 'mate': 0},\n",
       "     {'is_mate_score': 0, 'cp': -1147, 'mate': 0},\n",
       "     {'is_mate_score': 0, 'cp': -1184, 'mate': 0},\n",
       "     {'is_mate_score': 0, 'cp': -1202, 'mate': 0}]},\n",
       "   {'eval': {'is_mate_score': 0, 'cp': -953, 'mate': 0}},\n",
       "   {'eval': {'is_mate_score': 0, 'cp': -894, 'mate': 0},\n",
       "    'top10': [{'is_mate_score': 0, 'cp': -909, 'mate': 0},\n",
       "     {'is_mate_score': 0, 'cp': -943, 'mate': 0},\n",
       "     {'is_mate_score': 0, 'cp': -953, 'mate': 0},\n",
       "     {'is_mate_score': 0, 'cp': -987, 'mate': 0},\n",
       "     {'is_mate_score': 0, 'cp': -1034, 'mate': 0},\n",
       "     {'is_mate_score': 0, 'cp': -1042, 'mate': 0},\n",
       "     {'is_mate_score': 0, 'cp': -1066, 'mate': 0},\n",
       "     {'is_mate_score': 0, 'cp': -1067, 'mate': 0},\n",
       "     {'is_mate_score': 0, 'cp': -1071, 'mate': 0},\n",
       "     {'is_mate_score': 0, 'cp': -1089, 'mate': 0}]},\n",
       "   {'eval': {'is_mate_score': 0, 'cp': -915, 'mate': 0}},\n",
       "   {'eval': {'is_mate_score': 0, 'cp': -896, 'mate': 0},\n",
       "    'top10': [{'is_mate_score': 0, 'cp': -916, 'mate': 0},\n",
       "     {'is_mate_score': 0, 'cp': -972, 'mate': 0},\n",
       "     {'is_mate_score': 0, 'cp': -981, 'mate': 0},\n",
       "     {'is_mate_score': 0, 'cp': -1002, 'mate': 0},\n",
       "     {'is_mate_score': 0, 'cp': -1034, 'mate': 0},\n",
       "     {'is_mate_score': 0, 'cp': -1036, 'mate': 0},\n",
       "     {'is_mate_score': 0, 'cp': -1043, 'mate': 0},\n",
       "     {'is_mate_score': 0, 'cp': -1061, 'mate': 0},\n",
       "     {'is_mate_score': 0, 'cp': -1069, 'mate': 0},\n",
       "     {'is_mate_score': 0, 'cp': -1092, 'mate': 0}]},\n",
       "   {'eval': {'is_mate_score': 0, 'cp': -983, 'mate': 0}},\n",
       "   {'eval': {'is_mate_score': 0, 'cp': -893, 'mate': 0},\n",
       "    'top10': [{'is_mate_score': 0, 'cp': -904, 'mate': 0},\n",
       "     {'is_mate_score': 0, 'cp': -926, 'mate': 0},\n",
       "     {'is_mate_score': 0, 'cp': -968, 'mate': 0},\n",
       "     {'is_mate_score': 0, 'cp': -979, 'mate': 0},\n",
       "     {'is_mate_score': 0, 'cp': -984, 'mate': 0},\n",
       "     {'is_mate_score': 0, 'cp': -987, 'mate': 0},\n",
       "     {'is_mate_score': 0, 'cp': -988, 'mate': 0},\n",
       "     {'is_mate_score': 0, 'cp': -1025, 'mate': 0},\n",
       "     {'is_mate_score': 0, 'cp': -1061, 'mate': 0},\n",
       "     {'is_mate_score': 0, 'cp': -1069, 'mate': 0}]},\n",
       "   {'eval': {'is_mate_score': 0, 'cp': -1158, 'mate': 0}},\n",
       "   {'eval': {'is_mate_score': 0, 'cp': -1040, 'mate': 0},\n",
       "    'top10': [{'is_mate_score': 0, 'cp': -1048, 'mate': 0},\n",
       "     {'is_mate_score': 0, 'cp': -1114, 'mate': 0},\n",
       "     {'is_mate_score': 0, 'cp': -1168, 'mate': 0},\n",
       "     {'is_mate_score': 0, 'cp': -1200, 'mate': 0},\n",
       "     {'is_mate_score': 0, 'cp': -1317, 'mate': 0},\n",
       "     {'is_mate_score': 0, 'cp': -1360, 'mate': 0},\n",
       "     {'is_mate_score': 0, 'cp': -1411, 'mate': 0},\n",
       "     {'is_mate_score': 0, 'cp': -1457, 'mate': 0},\n",
       "     {'is_mate_score': 0, 'cp': -1534, 'mate': 0},\n",
       "     {'is_mate_score': 0, 'cp': -1543, 'mate': 0}]},\n",
       "   {'eval': {'is_mate_score': 0, 'cp': -1098, 'mate': 0}},\n",
       "   {'eval': {'is_mate_score': 0, 'cp': -1072, 'mate': 0},\n",
       "    'top10': [{'is_mate_score': 0, 'cp': -1057, 'mate': 0},\n",
       "     {'is_mate_score': 0, 'cp': -1096, 'mate': 0},\n",
       "     {'is_mate_score': 0, 'cp': -1215, 'mate': 0},\n",
       "     {'is_mate_score': 0, 'cp': -1355, 'mate': 0},\n",
       "     {'is_mate_score': 0, 'cp': -1388, 'mate': 0},\n",
       "     {'is_mate_score': 0, 'cp': -1423, 'mate': 0},\n",
       "     {'is_mate_score': 0, 'cp': -1424, 'mate': 0},\n",
       "     {'is_mate_score': 0, 'cp': -1437, 'mate': 0},\n",
       "     {'is_mate_score': 0, 'cp': -1445, 'mate': 0},\n",
       "     {'is_mate_score': 0, 'cp': -1451, 'mate': 0}]},\n",
       "   {'eval': {'is_mate_score': 0, 'cp': -1102, 'mate': 0}},\n",
       "   {'eval': {'is_mate_score': 0, 'cp': -992, 'mate': 0},\n",
       "    'top10': [{'is_mate_score': 0, 'cp': -1053, 'mate': 0},\n",
       "     {'is_mate_score': 0, 'cp': -1091, 'mate': 0},\n",
       "     {'is_mate_score': 0, 'cp': -1173, 'mate': 0},\n",
       "     {'is_mate_score': 0, 'cp': -1178, 'mate': 0},\n",
       "     {'is_mate_score': 0, 'cp': -1220, 'mate': 0},\n",
       "     {'is_mate_score': 0, 'cp': -1465, 'mate': 0},\n",
       "     {'is_mate_score': 0, 'cp': -1497, 'mate': 0},\n",
       "     {'is_mate_score': 0, 'cp': -1512, 'mate': 0},\n",
       "     {'is_mate_score': 0, 'cp': -1515, 'mate': 0},\n",
       "     {'is_mate_score': 0, 'cp': -1746, 'mate': 0}]},\n",
       "   {'eval': {'is_mate_score': 0, 'cp': -1073, 'mate': 0}},\n",
       "   {'eval': {'is_mate_score': 0, 'cp': -1006, 'mate': 0},\n",
       "    'top10': [{'is_mate_score': 0, 'cp': -1097, 'mate': 0},\n",
       "     {'is_mate_score': 0, 'cp': -1252, 'mate': 0},\n",
       "     {'is_mate_score': 0, 'cp': -1311, 'mate': 0},\n",
       "     {'is_mate_score': 0, 'cp': -1628, 'mate': 0},\n",
       "     {'is_mate_score': 0, 'cp': -1647, 'mate': 0},\n",
       "     {'is_mate_score': 0, 'cp': -1715, 'mate': 0},\n",
       "     {'is_mate_score': 0, 'cp': -1725, 'mate': 0},\n",
       "     {'is_mate_score': 0, 'cp': -1734, 'mate': 0},\n",
       "     {'is_mate_score': 0, 'cp': -1746, 'mate': 0},\n",
       "     {'is_mate_score': 0, 'cp': -1793, 'mate': 0}]},\n",
       "   {'eval': {'is_mate_score': 0, 'cp': -1146, 'mate': 0}},\n",
       "   {'eval': {'is_mate_score': 0, 'cp': -1191, 'mate': 0},\n",
       "    'top10': [{'is_mate_score': 0, 'cp': -1199, 'mate': 0},\n",
       "     {'is_mate_score': 1, 'mate': 19, 'cp': 0},\n",
       "     {'is_mate_score': 1, 'mate': 19, 'cp': 0},\n",
       "     {'is_mate_score': 1, 'mate': 19, 'cp': 0},\n",
       "     {'is_mate_score': 1, 'mate': 19, 'cp': 0},\n",
       "     {'is_mate_score': 1, 'mate': 19, 'cp': 0},\n",
       "     {'is_mate_score': 1, 'mate': 19, 'cp': 0},\n",
       "     {'is_mate_score': 1, 'mate': 19, 'cp': 0},\n",
       "     {'is_mate_score': 1, 'mate': 19, 'cp': 0},\n",
       "     {'is_mate_score': 1, 'mate': 19, 'cp': 0}]},\n",
       "   {'eval': {'is_mate_score': 0, 'cp': -1195, 'mate': 0}},\n",
       "   {'eval': {'is_mate_score': 0, 'cp': -1261, 'mate': 0},\n",
       "    'top10': [{'is_mate_score': 0, 'cp': -1307, 'mate': 0},\n",
       "     {'is_mate_score': 0, 'cp': -1383, 'mate': 0},\n",
       "     {'is_mate_score': 0, 'cp': -1631, 'mate': 0},\n",
       "     {'is_mate_score': 0, 'cp': -1716, 'mate': 0},\n",
       "     {'is_mate_score': 0, 'cp': -1722, 'mate': 0},\n",
       "     {'is_mate_score': 0, 'cp': -1764, 'mate': 0},\n",
       "     {'is_mate_score': 0, 'cp': -1799, 'mate': 0},\n",
       "     {'is_mate_score': 0, 'cp': -1825, 'mate': 0},\n",
       "     {'is_mate_score': 0, 'cp': -1908, 'mate': 0},\n",
       "     {'is_mate_score': 0, 'cp': -2054, 'mate': 0}]},\n",
       "   {'eval': {'is_mate_score': 0, 'cp': -1254, 'mate': 0}},\n",
       "   {'eval': {'is_mate_score': 0, 'cp': -1201, 'mate': 0},\n",
       "    'top10': [{'is_mate_score': 0, 'cp': -1228, 'mate': 0},\n",
       "     {'is_mate_score': 0, 'cp': -1297, 'mate': 0},\n",
       "     {'is_mate_score': 0, 'cp': -1361, 'mate': 0},\n",
       "     {'is_mate_score': 0, 'cp': -1392, 'mate': 0},\n",
       "     {'is_mate_score': 0, 'cp': -1492, 'mate': 0},\n",
       "     {'is_mate_score': 0, 'cp': -1502, 'mate': 0},\n",
       "     {'is_mate_score': 0, 'cp': -1511, 'mate': 0},\n",
       "     {'is_mate_score': 0, 'cp': -1514, 'mate': 0},\n",
       "     {'is_mate_score': 0, 'cp': -1527, 'mate': 0},\n",
       "     {'is_mate_score': 0, 'cp': -1532, 'mate': 0}]},\n",
       "   {'eval': {'is_mate_score': 0, 'cp': -1850, 'mate': 0}},\n",
       "   {'eval': {'is_mate_score': 0, 'cp': -1961, 'mate': 0},\n",
       "    'top10': [{'is_mate_score': 0, 'cp': -1890, 'mate': 0},\n",
       "     {'is_mate_score': 0, 'cp': -3084, 'mate': 0},\n",
       "     {'is_mate_score': 0, 'cp': -3466, 'mate': 0},\n",
       "     {'is_mate_score': 1, 'mate': 24, 'cp': 0},\n",
       "     {'is_mate_score': 1, 'mate': 24, 'cp': 0},\n",
       "     {'is_mate_score': 1, 'mate': 24, 'cp': 0},\n",
       "     {'is_mate_score': 1, 'mate': 24, 'cp': 0},\n",
       "     {'is_mate_score': 1, 'mate': 24, 'cp': 0},\n",
       "     {'is_mate_score': 1, 'mate': 24, 'cp': 0},\n",
       "     {'is_mate_score': 1, 'mate': 24, 'cp': 0}]},\n",
       "   {'eval': {'is_mate_score': 0, 'cp': -3456, 'mate': 0}},\n",
       "   {'eval': {'is_mate_score': 0, 'cp': -3506, 'mate': 0},\n",
       "    'top10': [{'is_mate_score': 0, 'cp': -7363, 'mate': 0},\n",
       "     {'is_mate_score': 1, 'mate': 23, 'cp': 0},\n",
       "     {'is_mate_score': 1, 'mate': 22, 'cp': 0},\n",
       "     {'is_mate_score': 1, 'mate': 22, 'cp': 0},\n",
       "     {'is_mate_score': 1, 'mate': 22, 'cp': 0},\n",
       "     {'is_mate_score': 1, 'mate': 22, 'cp': 0},\n",
       "     {'is_mate_score': 1, 'mate': 22, 'cp': 0},\n",
       "     {'is_mate_score': 1, 'mate': 22, 'cp': 0},\n",
       "     {'is_mate_score': 1, 'mate': 22, 'cp': 0},\n",
       "     {'is_mate_score': 1, 'mate': 21, 'cp': 0}]},\n",
       "   {'eval': {'is_mate_score': 1, 'mate': 21, 'cp': 0}},\n",
       "   {'eval': {'is_mate_score': 1, 'mate': 20, 'cp': 0},\n",
       "    'top10': [{'is_mate_score': 1, 'mate': 20, 'cp': 0},\n",
       "     {'is_mate_score': 1, 'mate': 20, 'cp': 0},\n",
       "     {'is_mate_score': 1, 'mate': 19, 'cp': 0},\n",
       "     {'is_mate_score': 1, 'mate': 18, 'cp': 0},\n",
       "     {'is_mate_score': 1, 'mate': 18, 'cp': 0},\n",
       "     {'is_mate_score': 1, 'mate': 18, 'cp': 0},\n",
       "     {'is_mate_score': 1, 'mate': 18, 'cp': 0},\n",
       "     {'is_mate_score': 1, 'mate': 18, 'cp': 0},\n",
       "     {'is_mate_score': 1, 'mate': 18, 'cp': 0},\n",
       "     {'is_mate_score': 1, 'mate': 18, 'cp': 0}]},\n",
       "   {'eval': {'is_mate_score': 1, 'mate': 20, 'cp': 0}},\n",
       "   {'eval': {'is_mate_score': 1, 'mate': 19, 'cp': 0},\n",
       "    'top10': [{'is_mate_score': 1, 'mate': 19, 'cp': 0},\n",
       "     {'is_mate_score': 1, 'mate': 18, 'cp': 0},\n",
       "     {'is_mate_score': 1, 'mate': 18, 'cp': 0},\n",
       "     {'is_mate_score': 1, 'mate': 18, 'cp': 0},\n",
       "     {'is_mate_score': 1, 'mate': 18, 'cp': 0},\n",
       "     {'is_mate_score': 1, 'mate': 18, 'cp': 0},\n",
       "     {'is_mate_score': 1, 'mate': 18, 'cp': 0},\n",
       "     {'is_mate_score': 1, 'mate': 18, 'cp': 0},\n",
       "     {'is_mate_score': 1, 'mate': 18, 'cp': 0},\n",
       "     {'is_mate_score': 1, 'mate': 18, 'cp': 0}]},\n",
       "   {'eval': {'is_mate_score': 1, 'mate': 19, 'cp': 0}},\n",
       "   {'eval': {'is_mate_score': 1, 'mate': 19, 'cp': 0},\n",
       "    'top10': [{'is_mate_score': 1, 'mate': 19, 'cp': 0},\n",
       "     {'is_mate_score': 1, 'mate': 19, 'cp': 0},\n",
       "     {'is_mate_score': 1, 'mate': 19, 'cp': 0},\n",
       "     {'is_mate_score': 1, 'mate': 19, 'cp': 0},\n",
       "     {'is_mate_score': 1, 'mate': 19, 'cp': 0},\n",
       "     {'is_mate_score': 1, 'mate': 19, 'cp': 0},\n",
       "     {'is_mate_score': 1, 'mate': 19, 'cp': 0},\n",
       "     {'is_mate_score': 1, 'mate': 19, 'cp': 0},\n",
       "     {'is_mate_score': 1, 'mate': 19, 'cp': 0},\n",
       "     {'is_mate_score': 1, 'mate': 19, 'cp': 0}]},\n",
       "   {'eval': {'is_mate_score': 1, 'mate': 19, 'cp': 0}},\n",
       "   {'eval': {'is_mate_score': 1, 'mate': 19, 'cp': 0},\n",
       "    'top10': [{'is_mate_score': 1, 'mate': 19, 'cp': 0},\n",
       "     {'is_mate_score': 1, 'mate': 19, 'cp': 0},\n",
       "     {'is_mate_score': 1, 'mate': 18, 'cp': 0},\n",
       "     {'is_mate_score': 1, 'mate': 18, 'cp': 0},\n",
       "     {'is_mate_score': 1, 'mate': 18, 'cp': 0},\n",
       "     {'is_mate_score': 1, 'mate': 18, 'cp': 0},\n",
       "     {'is_mate_score': 1, 'mate': 18, 'cp': 0},\n",
       "     {'is_mate_score': 1, 'mate': 18, 'cp': 0},\n",
       "     {'is_mate_score': 1, 'mate': 18, 'cp': 0},\n",
       "     {'is_mate_score': 1, 'mate': 18, 'cp': 0}]},\n",
       "   {'eval': {'is_mate_score': 1, 'mate': 19, 'cp': 0}},\n",
       "   {'eval': {'is_mate_score': 1, 'mate': 20, 'cp': 0},\n",
       "    'top10': [{'is_mate_score': 1, 'mate': 20, 'cp': 0},\n",
       "     {'is_mate_score': 1, 'mate': 20, 'cp': 0},\n",
       "     {'is_mate_score': 1, 'mate': 20, 'cp': 0},\n",
       "     {'is_mate_score': 1, 'mate': 19, 'cp': 0},\n",
       "     {'is_mate_score': 1, 'mate': 19, 'cp': 0},\n",
       "     {'is_mate_score': 1, 'mate': 18, 'cp': 0},\n",
       "     {'is_mate_score': 1, 'mate': 18, 'cp': 0},\n",
       "     {'is_mate_score': 1, 'mate': 18, 'cp': 0},\n",
       "     {'is_mate_score': 1, 'mate': 18, 'cp': 0},\n",
       "     {'is_mate_score': 1, 'mate': 18, 'cp': 0}]},\n",
       "   {'eval': {'is_mate_score': 1, 'mate': 20, 'cp': 0}},\n",
       "   {'eval': {'is_mate_score': 1, 'mate': 25, 'cp': 0},\n",
       "    'top10': [{'is_mate_score': 1, 'mate': 25, 'cp': 0},\n",
       "     {'is_mate_score': 1, 'mate': 25, 'cp': 0},\n",
       "     {'is_mate_score': 1, 'mate': 25, 'cp': 0},\n",
       "     {'is_mate_score': 1, 'mate': 25, 'cp': 0},\n",
       "     {'is_mate_score': 1, 'mate': 25, 'cp': 0},\n",
       "     {'is_mate_score': 1, 'mate': 25, 'cp': 0},\n",
       "     {'is_mate_score': 1, 'mate': 25, 'cp': 0},\n",
       "     {'is_mate_score': 1, 'mate': 25, 'cp': 0},\n",
       "     {'is_mate_score': 1, 'mate': 25, 'cp': 0},\n",
       "     {'is_mate_score': 1, 'mate': 25, 'cp': 0}]},\n",
       "   {'eval': {'is_mate_score': 1, 'mate': 23, 'cp': 0}},\n",
       "   {'eval': {'is_mate_score': 0, 'cp': -7018, 'mate': 0},\n",
       "    'top10': [{'is_mate_score': 0, 'cp': -7303, 'mate': 0},\n",
       "     {'is_mate_score': 1, 'mate': 21, 'cp': 0},\n",
       "     {'is_mate_score': 1, 'mate': 21, 'cp': 0},\n",
       "     {'is_mate_score': 1, 'mate': 20, 'cp': 0},\n",
       "     {'is_mate_score': 1, 'mate': 20, 'cp': 0},\n",
       "     {'is_mate_score': 1, 'mate': 20, 'cp': 0},\n",
       "     {'is_mate_score': 1, 'mate': 20, 'cp': 0},\n",
       "     {'is_mate_score': 1, 'mate': 20, 'cp': 0},\n",
       "     {'is_mate_score': 1, 'mate': 19, 'cp': 0},\n",
       "     {'is_mate_score': 1, 'mate': 19, 'cp': 0}]},\n",
       "   {'eval': {'is_mate_score': 0, 'cp': -6800, 'mate': 0}},\n",
       "   {'eval': {'is_mate_score': 0, 'cp': -7368, 'mate': 0},\n",
       "    'top10': [{'is_mate_score': 0, 'cp': -2668, 'mate': 0},\n",
       "     {'is_mate_score': 1, 'mate': 26, 'cp': 0},\n",
       "     {'is_mate_score': 1, 'mate': 22, 'cp': 0},\n",
       "     {'is_mate_score': 1, 'mate': 20, 'cp': 0},\n",
       "     {'is_mate_score': 1, 'mate': 17, 'cp': 0},\n",
       "     {'is_mate_score': 1, 'mate': 17, 'cp': 0},\n",
       "     {'is_mate_score': 1, 'mate': 17, 'cp': 0},\n",
       "     {'is_mate_score': 1, 'mate': 17, 'cp': 0},\n",
       "     {'is_mate_score': 1, 'mate': 17, 'cp': 0},\n",
       "     {'is_mate_score': 1, 'mate': 17, 'cp': 0}]},\n",
       "   {'eval': {'is_mate_score': 0, 'cp': -7791, 'mate': 0}},\n",
       "   {'eval': {'is_mate_score': 1, 'mate': 25, 'cp': 0},\n",
       "    'top10': [{'is_mate_score': 1, 'mate': 25, 'cp': 0},\n",
       "     {'is_mate_score': 1, 'mate': 21, 'cp': 0},\n",
       "     {'is_mate_score': 1, 'mate': 20, 'cp': 0},\n",
       "     {'is_mate_score': 1, 'mate': 20, 'cp': 0},\n",
       "     {'is_mate_score': 1, 'mate': 20, 'cp': 0},\n",
       "     {'is_mate_score': 1, 'mate': 20, 'cp': 0},\n",
       "     {'is_mate_score': 1, 'mate': 20, 'cp': 0},\n",
       "     {'is_mate_score': 1, 'mate': 20, 'cp': 0},\n",
       "     {'is_mate_score': 1, 'mate': 20, 'cp': 0},\n",
       "     {'is_mate_score': 1, 'mate': 20, 'cp': 0}]},\n",
       "   {'eval': {'is_mate_score': 1, 'mate': 20, 'cp': 0}},\n",
       "   {'eval': {'is_mate_score': 1, 'mate': 23, 'cp': 0},\n",
       "    'top10': [{'is_mate_score': 1, 'mate': 23, 'cp': 0},\n",
       "     {'is_mate_score': 1, 'mate': 23, 'cp': 0},\n",
       "     {'is_mate_score': 1, 'mate': 23, 'cp': 0},\n",
       "     {'is_mate_score': 1, 'mate': 23, 'cp': 0},\n",
       "     {'is_mate_score': 1, 'mate': 23, 'cp': 0},\n",
       "     {'is_mate_score': 1, 'mate': 23, 'cp': 0},\n",
       "     {'is_mate_score': 1, 'mate': 23, 'cp': 0},\n",
       "     {'is_mate_score': 1, 'mate': 23, 'cp': 0},\n",
       "     {'is_mate_score': 1, 'mate': 23, 'cp': 0},\n",
       "     {'is_mate_score': 1, 'mate': 23, 'cp': 0}]},\n",
       "   {'eval': {'is_mate_score': 1, 'mate': 22, 'cp': 0}},\n",
       "   {'eval': {'is_mate_score': 0, 'cp': -3962, 'mate': 0},\n",
       "    'top10': [{'is_mate_score': 0, 'cp': -4001, 'mate': 0},\n",
       "     {'is_mate_score': 0, 'cp': -4017, 'mate': 0},\n",
       "     {'is_mate_score': 0, 'cp': -4028, 'mate': 0},\n",
       "     {'is_mate_score': 0, 'cp': -4211, 'mate': 0},\n",
       "     {'is_mate_score': 0, 'cp': -4218, 'mate': 0},\n",
       "     {'is_mate_score': 0, 'cp': -4221, 'mate': 0},\n",
       "     {'is_mate_score': 1, 'mate': 23, 'cp': 0},\n",
       "     {'is_mate_score': 1, 'mate': 23, 'cp': 0},\n",
       "     {'is_mate_score': 1, 'mate': 23, 'cp': 0},\n",
       "     {'is_mate_score': 1, 'mate': 23, 'cp': 0}]}]}}"
      ]
     },
     "execution_count": 73,
     "metadata": {},
     "output_type": "execute_result"
    }
   ],
   "source": [
    "#See what this looks like\n",
    "example_dict"
   ]
  },
  {
   "cell_type": "markdown",
   "id": "0e06a287-4400-4555-b0f2-76592214c25c",
   "metadata": {},
   "source": [
    "## Doing this for *every* new player in the training, test, and validation data"
   ]
  },
  {
   "cell_type": "code",
   "execution_count": 76,
   "id": "224db8b1-fbc9-41dc-a60f-4ee677cd1cb0",
   "metadata": {},
   "outputs": [],
   "source": [
    "#Loop over the train, test, and validation data kinds\n",
    "for kind in ['train', 'test', 'val']:\n",
    "    output_dict = {}\n",
    "    \n",
    "    #Loop over the new players, based on their first games\n",
    "    for game_number in range(len(dfs_dict[f\"{kind}_1st\"])):\n",
    "        \n",
    "        #Get the name of the new player in this row\n",
    "        new_pl_name = dfs_dict[f\"{kind}_1st\"].iloc[[game_number]].index[0]\n",
    "        \n",
    "        #Add some placeholders to our dictionary for this player\n",
    "        output_dict[new_pl_name] = {}\n",
    "        output_dict[new_pl_name]['data'] = []\n",
    "    \n",
    "    \n",
    "    \n",
    "        #NEW PLAYER'S FIRST GAME\n",
    "        row = dfs_dict[f\"{kind}_1st\"].iloc[game_number]\n",
    "\n",
    "        #Extract the data about the new player's 1st game\n",
    "        for col in cols_1st:\n",
    "            #The \"termination\" column contains a string; convert it to an int\n",
    "            if col == 'termination':\n",
    "                output_dict[new_pl_name]['data'].append(termination_dict[row[col]])\n",
    "            \n",
    "            #The \"new_pl_color\" column contains a string; convert it to an int\n",
    "            elif col == 'new_pl_color':\n",
    "                output_dict[new_pl_name]['data'].append(color_dict[row[col]])\n",
    "        \n",
    "            #Otherwise, just extract the information\n",
    "            else:\n",
    "                output_dict[new_pl_name]['data'].append(row[col])\n",
    "    \n",
    "        \n",
    "        \n",
    "        \n",
    "        \n",
    "        #NEW PLAYER'S SECOND GAME\n",
    "        row = dfs_dict[f\"{kind}_2nd\"].loc[new_pl_name]\n",
    "\n",
    "        #Extract the information from the columns we'll use\n",
    "        for col in cols_2nd:\n",
    "            output_dict[new_pl_name]['data'].append(row[col])\n",
    "    \n",
    "        #Extract the target variable as well\n",
    "        output_dict[new_pl_name]['target'] = row['new_pl_won']\n",
    "        \n",
    "        \n",
    "        \n",
    "        \n",
    "        #NEW PLAYER'S 2ND-GAME OPPONENT'S PREVIOUS GAME\n",
    "        row = dfs_dict[f\"{kind}_opp\"].loc[new_pl_name]\n",
    "\n",
    "        #If the new player's 2nd-game opponent had no previous game, use the default values\n",
    "        if row['2nd_game_opp_had_no_previous_game'] == 1:\n",
    "            for col in cols_opp:\n",
    "                output_dict[new_pl_name]['data'].append(opp_defaults[col])\n",
    "\n",
    "        #Otherwise, extract the information from the dataframe\n",
    "        else:\n",
    "            for col in cols_opp:\n",
    "                #The \"termination\" column contains a string; convert it to an int\n",
    "                if col == 'termination':\n",
    "                    output_dict[new_pl_name]['data'].append(termination_dict[row[col]])\n",
    "        \n",
    "                #The \"new_pl_color\" column contains a string; convert it to an int\n",
    "                elif col == 'opp_color':\n",
    "                    output_dict[new_pl_name]['data'].append(color_dict[row[col]])\n",
    "        \n",
    "                #Otherwise, just extract the information\n",
    "                else:\n",
    "                    output_dict[new_pl_name]['data'].append(row[col])\n",
    "    \n",
    "    \n",
    "    \n",
    "    \n",
    "        #NEW PLAYER'S FIRST GAME: POSITION EVALUATIONS\n",
    "        game = eval(open(f\"{stockfish_paths_dict[kind]}/game{game_number}.txt\").read())\n",
    "    \n",
    "        #Initialize a list to store the positions' information\n",
    "        output_dict[new_pl_name]['1st_game_positions'] = []\n",
    "\n",
    "        #Determine if the new player is playing White in this game\n",
    "        new_pl_is_white = dfs_dict[f\"{kind}_1st\"].iloc[game_number]['new_pl_color']=='White'\n",
    "    \n",
    "        #Count how many moves have been made so far\n",
    "        moves_so_far = 0\n",
    "\n",
    "        #Add all the non-final positions\n",
    "        for i in range(len(game)-1):\n",
    "            output_dict[new_pl_name]['1st_game_positions'].append(\n",
    "                get_eval_top_10(game[moves_so_far], moves_so_far, new_pl_is_white, is_final_position=0)\n",
    "            )\n",
    "            #Increment the move counter\n",
    "            moves_so_far += 1\n",
    "\n",
    "        #Add the final position\n",
    "        moves_so_far = len(game)-1\n",
    "        output_dict[new_pl_name]['1st_game_positions'].append(\n",
    "                get_eval_top_10(game[moves_so_far], moves_so_far, new_pl_is_white, is_final_position=1)\n",
    "            )\n",
    "    \n",
    "    #Write the outputted dictionary for this train, test, or val data as one file\n",
    "    open(f\"../data/sf_evals/{kind}.txt\", 'w+').write(str(output_dict))\n",
    "    \n",
    "    #Also save a pickled file (more efficient for loading into memory)\n",
    "    pickle.dump(output_dict, open(f\"../data/sf_evals/{kind}.pcl\", \"wb\"))"
   ]
  },
  {
   "cell_type": "markdown",
   "id": "6d7f5975-9ed6-42a2-8850-1a17f32e72ea",
   "metadata": {},
   "source": [
    "# What's Next?\n",
    "\n",
    "In the [next notebook](./04_baseline_models.ipynb), we create our baseline models."
   ]
  }
 ],
 "metadata": {
  "kernelspec": {
   "display_name": "Python 3 (ipykernel)",
   "language": "python",
   "name": "python3"
  },
  "language_info": {
   "codemirror_mode": {
    "name": "ipython",
    "version": 3
   },
   "file_extension": ".py",
   "mimetype": "text/x-python",
   "name": "python",
   "nbconvert_exporter": "python",
   "pygments_lexer": "ipython3",
   "version": "3.9.16"
  }
 },
 "nbformat": 4,
 "nbformat_minor": 5
}
