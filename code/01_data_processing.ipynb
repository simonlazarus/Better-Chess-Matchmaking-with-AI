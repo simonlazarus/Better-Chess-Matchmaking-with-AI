{
 "cells": [
  {
   "cell_type": "markdown",
   "id": "34c9707b-cd21-44aa-bf18-2e189401daa5",
   "metadata": {},
   "source": [
    "# Summary of this notebook"
   ]
  },
  {
   "cell_type": "markdown",
   "id": "573fedae-7705-4a4c-81f1-e3bec7c530aa",
   "metadata": {},
   "source": [
    "In this notebook, we read in data from [all the games played on Lichess.org in July of 2016](https://www.kaggle.com/datasets/arevel/chess-games).  These data consist of about 6.25 million games of chess: the moves made in the game, the time controls set for the game, the date and time when the game took place, a short description of the opening moves of the game (e.g. \"Slav Defense\"), and a description of how the game ended (e.g. \"Normal\" or \"Time forfeit\").  They also include the White and Black players' names, rating scores, and amounts of rating points gained/lost after the game.  Finally, around 15% of games include (inside the list of moves made during the game) a list of Stockfish evaluations for each of the positions that occurred in the game, measured in centipawns of White advantage or number of moves until checkmate.\n",
    "\n",
    "After cleaning these data of any obvious issues, we extract from the data a list of the \"new players\".  We define a \"new player\" to be anyone who had a 1500 rating score (the initial rating score when one joins Lichess.org) during their *first game* of July 2016.  While it is possible that a few players were not new but happened to have a rating score of *exactly 1500* at the start of the month, these players certainly represent a small minority of those we're calling \"new players\".\n",
    "\n",
    "After finding all of the new players, we export three CSVs that we will use to train models to predict the outcomes of new players' second games:\n",
    "1. A CSV containing all the first games of the new players.  This will be used to train our models to predict the outcomes of new players' second games.\n",
    "2. A CSV containing the outcomes of the second games of all new players.\n",
    "3. A CSV containing the games played by the *opponents of the new players* (in CSV number 2 above) that were played *immediately before they faced off against a new player* in CSV number 2 above.  This will also be used to predict the outcomes of new players' second games.\n",
    "\n",
    "The *index* of each such CSV will be the names of the distinct \"new players.\"  This "
   ]
  },
  {
   "cell_type": "code",
   "execution_count": 1,
   "id": "829ca464-072f-4b97-b980-eda9504fc7a7",
   "metadata": {},
   "outputs": [],
   "source": [
    "import pandas as pd\n",
    "import numpy as np\n",
    "import matplotlib.pyplot as plt\n",
    "import re\n",
    "\n",
    "from stockfish import Stockfish\n",
    "import chess\n",
    "\n",
    "import copy"
   ]
  },
  {
   "cell_type": "markdown",
   "id": "d7579330-bec8-4297-8885-dd85f713c4b1",
   "metadata": {},
   "source": [
    "### Ignore `FutureWarning`s in this notebook"
   ]
  },
  {
   "cell_type": "code",
   "execution_count": 2,
   "id": "e8013dbd-fabc-4beb-a293-f9cc1a9f76df",
   "metadata": {},
   "outputs": [],
   "source": [
    "import warnings\n",
    "warnings.simplefilter(action='ignore', category=FutureWarning)"
   ]
  },
  {
   "cell_type": "markdown",
   "id": "9aa81501-620e-46f2-84ed-c4cd53b2a76a",
   "metadata": {},
   "source": [
    "## Data Import"
   ]
  },
  {
   "cell_type": "code",
   "execution_count": 3,
   "id": "ab144099-f637-41c2-87e7-c4026af9a725",
   "metadata": {},
   "outputs": [
    {
     "data": {
      "text/html": [
       "<div>\n",
       "<style scoped>\n",
       "    .dataframe tbody tr th:only-of-type {\n",
       "        vertical-align: middle;\n",
       "    }\n",
       "\n",
       "    .dataframe tbody tr th {\n",
       "        vertical-align: top;\n",
       "    }\n",
       "\n",
       "    .dataframe thead th {\n",
       "        text-align: right;\n",
       "    }\n",
       "</style>\n",
       "<table border=\"1\" class=\"dataframe\">\n",
       "  <thead>\n",
       "    <tr style=\"text-align: right;\">\n",
       "      <th></th>\n",
       "      <th>Event</th>\n",
       "      <th>White</th>\n",
       "      <th>Black</th>\n",
       "      <th>Result</th>\n",
       "      <th>UTCDate</th>\n",
       "      <th>UTCTime</th>\n",
       "      <th>WhiteElo</th>\n",
       "      <th>BlackElo</th>\n",
       "      <th>WhiteRatingDiff</th>\n",
       "      <th>BlackRatingDiff</th>\n",
       "      <th>ECO</th>\n",
       "      <th>Opening</th>\n",
       "      <th>TimeControl</th>\n",
       "      <th>Termination</th>\n",
       "      <th>AN</th>\n",
       "    </tr>\n",
       "  </thead>\n",
       "  <tbody>\n",
       "    <tr>\n",
       "      <th>0</th>\n",
       "      <td>Classical</td>\n",
       "      <td>eisaaaa</td>\n",
       "      <td>HAMID449</td>\n",
       "      <td>1-0</td>\n",
       "      <td>2016.06.30</td>\n",
       "      <td>22:00:01</td>\n",
       "      <td>1901</td>\n",
       "      <td>1896</td>\n",
       "      <td>11.0</td>\n",
       "      <td>-11.0</td>\n",
       "      <td>D10</td>\n",
       "      <td>Slav Defense</td>\n",
       "      <td>300+5</td>\n",
       "      <td>Time forfeit</td>\n",
       "      <td>1. d4 d5 2. c4 c6 3. e3 a6 4. Nf3 e5 5. cxd5 e...</td>\n",
       "    </tr>\n",
       "    <tr>\n",
       "      <th>1</th>\n",
       "      <td>Blitz</td>\n",
       "      <td>go4jas</td>\n",
       "      <td>Sergei1973</td>\n",
       "      <td>0-1</td>\n",
       "      <td>2016.06.30</td>\n",
       "      <td>22:00:01</td>\n",
       "      <td>1641</td>\n",
       "      <td>1627</td>\n",
       "      <td>-11.0</td>\n",
       "      <td>12.0</td>\n",
       "      <td>C20</td>\n",
       "      <td>King's Pawn Opening: 2.b3</td>\n",
       "      <td>300+0</td>\n",
       "      <td>Normal</td>\n",
       "      <td>1. e4 e5 2. b3 Nf6 3. Bb2 Nc6 4. Nf3 d6 5. d3 ...</td>\n",
       "    </tr>\n",
       "  </tbody>\n",
       "</table>\n",
       "</div>"
      ],
      "text/plain": [
       "         Event    White       Black Result     UTCDate   UTCTime  WhiteElo  \\\n",
       "0   Classical   eisaaaa    HAMID449    1-0  2016.06.30  22:00:01      1901   \n",
       "1       Blitz    go4jas  Sergei1973    0-1  2016.06.30  22:00:01      1641   \n",
       "\n",
       "   BlackElo  WhiteRatingDiff  BlackRatingDiff  ECO                    Opening  \\\n",
       "0      1896             11.0            -11.0  D10               Slav Defense   \n",
       "1      1627            -11.0             12.0  C20  King's Pawn Opening: 2.b3   \n",
       "\n",
       "  TimeControl   Termination                                                 AN  \n",
       "0       300+5  Time forfeit  1. d4 d5 2. c4 c6 3. e3 a6 4. Nf3 e5 5. cxd5 e...  \n",
       "1       300+0        Normal  1. e4 e5 2. b3 Nf6 3. Bb2 Nc6 4. Nf3 d6 5. d3 ...  "
      ]
     },
     "execution_count": 3,
     "metadata": {},
     "output_type": "execute_result"
    }
   ],
   "source": [
    "df = pd.read_csv('../data/chess_games.csv')\n",
    "df.head(2)"
   ]
  },
  {
   "cell_type": "code",
   "execution_count": 4,
   "id": "568e8a4b-4296-479c-bd17-cf9ef32d54c5",
   "metadata": {},
   "outputs": [
    {
     "name": "stdout",
     "output_type": "stream",
     "text": [
      "<class 'pandas.core.frame.DataFrame'>\n",
      "RangeIndex: 6256184 entries, 0 to 6256183\n",
      "Data columns (total 15 columns):\n",
      " #   Column           Dtype  \n",
      "---  ------           -----  \n",
      " 0   Event            object \n",
      " 1   White            object \n",
      " 2   Black            object \n",
      " 3   Result           object \n",
      " 4   UTCDate          object \n",
      " 5   UTCTime          object \n",
      " 6   WhiteElo         int64  \n",
      " 7   BlackElo         int64  \n",
      " 8   WhiteRatingDiff  float64\n",
      " 9   BlackRatingDiff  float64\n",
      " 10  ECO              object \n",
      " 11  Opening          object \n",
      " 12  TimeControl      object \n",
      " 13  Termination      object \n",
      " 14  AN               object \n",
      "dtypes: float64(2), int64(2), object(11)\n",
      "memory usage: 716.0+ MB\n"
     ]
    }
   ],
   "source": [
    "df.info()"
   ]
  },
  {
   "cell_type": "code",
   "execution_count": 5,
   "id": "39581d83-7c19-458b-af97-17dbaa661807",
   "metadata": {},
   "outputs": [
    {
     "data": {
      "text/plain": [
       "Event                 0\n",
       "White                 0\n",
       "Black                 0\n",
       "Result                0\n",
       "UTCDate               0\n",
       "UTCTime               0\n",
       "WhiteElo              0\n",
       "BlackElo              0\n",
       "WhiteRatingDiff    4668\n",
       "BlackRatingDiff    4668\n",
       "ECO                   0\n",
       "Opening               0\n",
       "TimeControl           0\n",
       "Termination           0\n",
       "AN                    0\n",
       "dtype: int64"
      ]
     },
     "execution_count": 5,
     "metadata": {},
     "output_type": "execute_result"
    }
   ],
   "source": [
    "df.isnull().sum()"
   ]
  },
  {
   "cell_type": "code",
   "execution_count": 6,
   "id": "6e1453d1-afca-4d65-8921-23b7c4a8c935",
   "metadata": {},
   "outputs": [
    {
     "data": {
      "text/plain": [
       "4668"
      ]
     },
     "execution_count": 6,
     "metadata": {},
     "output_type": "execute_result"
    }
   ],
   "source": [
    "#Are all the rows that are missing a WhiteRatingDiff also missing a BlackRatingDiff (and conversely)?\n",
    "#If so, this should output 4668\n",
    "len(df[(df['WhiteRatingDiff'].isnull()) & (df['BlackRatingDiff'].isnull())])"
   ]
  },
  {
   "cell_type": "markdown",
   "id": "ab17c0be-7b0b-45a7-a063-027cef826228",
   "metadata": {},
   "source": [
    "It seems that the only columns that are sometimes missing values are the `WhiteRatingDiff` and `BlackRatingDiff` columns, which represent how many rating points were gained/lost by White and Black (respectively) after the game in question.  Do these missing values actually mean that zero points were gained/lost?  Or do they mean that something went wrong with that game?"
   ]
  },
  {
   "cell_type": "markdown",
   "id": "dda7065a-30c3-440a-bb51-fcba08392223",
   "metadata": {},
   "source": [
    "## Games with a zero `WhiteRatingDiff`"
   ]
  },
  {
   "cell_type": "code",
   "execution_count": 7,
   "id": "174ee586-70d7-4aeb-8ba9-0fcdd71da3a0",
   "metadata": {},
   "outputs": [
    {
     "data": {
      "text/html": [
       "<div>\n",
       "<style scoped>\n",
       "    .dataframe tbody tr th:only-of-type {\n",
       "        vertical-align: middle;\n",
       "    }\n",
       "\n",
       "    .dataframe tbody tr th {\n",
       "        vertical-align: top;\n",
       "    }\n",
       "\n",
       "    .dataframe thead th {\n",
       "        text-align: right;\n",
       "    }\n",
       "</style>\n",
       "<table border=\"1\" class=\"dataframe\">\n",
       "  <thead>\n",
       "    <tr style=\"text-align: right;\">\n",
       "      <th></th>\n",
       "      <th>Event</th>\n",
       "      <th>White</th>\n",
       "      <th>Black</th>\n",
       "      <th>Result</th>\n",
       "      <th>UTCDate</th>\n",
       "      <th>UTCTime</th>\n",
       "      <th>WhiteElo</th>\n",
       "      <th>BlackElo</th>\n",
       "      <th>WhiteRatingDiff</th>\n",
       "      <th>BlackRatingDiff</th>\n",
       "      <th>ECO</th>\n",
       "      <th>Opening</th>\n",
       "      <th>TimeControl</th>\n",
       "      <th>Termination</th>\n",
       "      <th>AN</th>\n",
       "    </tr>\n",
       "  </thead>\n",
       "  <tbody>\n",
       "    <tr>\n",
       "      <th>274</th>\n",
       "      <td>Blitz</td>\n",
       "      <td>cyclo</td>\n",
       "      <td>Quentinovich</td>\n",
       "      <td>1/2-1/2</td>\n",
       "      <td>2016.06.30</td>\n",
       "      <td>22:01:18</td>\n",
       "      <td>2097</td>\n",
       "      <td>2108</td>\n",
       "      <td>0.0</td>\n",
       "      <td>-1.0</td>\n",
       "      <td>B15</td>\n",
       "      <td>Caro-Kann Defense: Rasa-Studier Gambit</td>\n",
       "      <td>180+0</td>\n",
       "      <td>Time forfeit</td>\n",
       "      <td>1. d4 d5 2. f3 c6 3. e4 dxe4 4. Nc3 e5 5. d5 N...</td>\n",
       "    </tr>\n",
       "    <tr>\n",
       "      <th>354</th>\n",
       "      <td>Blitz</td>\n",
       "      <td>Diogenus</td>\n",
       "      <td>novichokk</td>\n",
       "      <td>1/2-1/2</td>\n",
       "      <td>2016.06.30</td>\n",
       "      <td>22:01:44</td>\n",
       "      <td>1722</td>\n",
       "      <td>1737</td>\n",
       "      <td>0.0</td>\n",
       "      <td>-1.0</td>\n",
       "      <td>D20</td>\n",
       "      <td>Queen's Gambit Accepted: Saduleto Variation</td>\n",
       "      <td>300+0</td>\n",
       "      <td>Time forfeit</td>\n",
       "      <td>1. d4 d5 2. c4 dxc4 3. e4 e6 4. Bxc4 c5 5. d5 ...</td>\n",
       "    </tr>\n",
       "    <tr>\n",
       "      <th>377</th>\n",
       "      <td>Blitz</td>\n",
       "      <td>amnezia</td>\n",
       "      <td>sdgent81</td>\n",
       "      <td>1/2-1/2</td>\n",
       "      <td>2016.06.30</td>\n",
       "      <td>22:01:54</td>\n",
       "      <td>1977</td>\n",
       "      <td>1988</td>\n",
       "      <td>0.0</td>\n",
       "      <td>0.0</td>\n",
       "      <td>B00</td>\n",
       "      <td>Owen Defense</td>\n",
       "      <td>300+0</td>\n",
       "      <td>Time forfeit</td>\n",
       "      <td>1. e4 b6 2. Bc4 Bb7 3. Nc3 e5 4. Nf3 Nf6 5. Nx...</td>\n",
       "    </tr>\n",
       "  </tbody>\n",
       "</table>\n",
       "</div>"
      ],
      "text/plain": [
       "       Event     White         Black   Result     UTCDate   UTCTime  WhiteElo  \\\n",
       "274   Blitz      cyclo  Quentinovich  1/2-1/2  2016.06.30  22:01:18      2097   \n",
       "354   Blitz   Diogenus     novichokk  1/2-1/2  2016.06.30  22:01:44      1722   \n",
       "377   Blitz    amnezia      sdgent81  1/2-1/2  2016.06.30  22:01:54      1977   \n",
       "\n",
       "     BlackElo  WhiteRatingDiff  BlackRatingDiff  ECO  \\\n",
       "274      2108              0.0             -1.0  B15   \n",
       "354      1737              0.0             -1.0  D20   \n",
       "377      1988              0.0              0.0  B00   \n",
       "\n",
       "                                         Opening TimeControl   Termination  \\\n",
       "274       Caro-Kann Defense: Rasa-Studier Gambit       180+0  Time forfeit   \n",
       "354  Queen's Gambit Accepted: Saduleto Variation       300+0  Time forfeit   \n",
       "377                                 Owen Defense       300+0  Time forfeit   \n",
       "\n",
       "                                                    AN  \n",
       "274  1. d4 d5 2. f3 c6 3. e4 dxe4 4. Nc3 e5 5. d5 N...  \n",
       "354  1. d4 d5 2. c4 dxc4 3. e4 e6 4. Bxc4 c5 5. d5 ...  \n",
       "377  1. e4 b6 2. Bc4 Bb7 3. Nc3 e5 4. Nf3 Nf6 5. Nx...  "
      ]
     },
     "execution_count": 7,
     "metadata": {},
     "output_type": "execute_result"
    }
   ],
   "source": [
    "df[df['WhiteRatingDiff']==0].head(3)"
   ]
  },
  {
   "cell_type": "markdown",
   "id": "f70d349f-0645-4423-8d8e-5451acf1d9d9",
   "metadata": {},
   "source": [
    "So there are certainly games (tied games, in particular) where both players gained 0.0 rating points.  So what is going on with the games that are missing values for `WhiteRatingDiff` and `BlackRatingDiff`?"
   ]
  },
  {
   "cell_type": "markdown",
   "id": "5a29a39a-2b3c-4b94-bb95-fe4237cb6484",
   "metadata": {},
   "source": [
    "## Dropping games with a *missing* `WhiteRatingDiff` (and `BlackRatingDiff`)"
   ]
  },
  {
   "cell_type": "code",
   "execution_count": 8,
   "id": "d441a08a-7345-4ed4-9ee4-317fc017ce08",
   "metadata": {},
   "outputs": [
    {
     "data": {
      "text/html": [
       "<div>\n",
       "<style scoped>\n",
       "    .dataframe tbody tr th:only-of-type {\n",
       "        vertical-align: middle;\n",
       "    }\n",
       "\n",
       "    .dataframe tbody tr th {\n",
       "        vertical-align: top;\n",
       "    }\n",
       "\n",
       "    .dataframe thead th {\n",
       "        text-align: right;\n",
       "    }\n",
       "</style>\n",
       "<table border=\"1\" class=\"dataframe\">\n",
       "  <thead>\n",
       "    <tr style=\"text-align: right;\">\n",
       "      <th></th>\n",
       "      <th>Event</th>\n",
       "      <th>White</th>\n",
       "      <th>Black</th>\n",
       "      <th>Result</th>\n",
       "      <th>UTCDate</th>\n",
       "      <th>UTCTime</th>\n",
       "      <th>WhiteElo</th>\n",
       "      <th>BlackElo</th>\n",
       "      <th>WhiteRatingDiff</th>\n",
       "      <th>BlackRatingDiff</th>\n",
       "      <th>ECO</th>\n",
       "      <th>Opening</th>\n",
       "      <th>TimeControl</th>\n",
       "      <th>Termination</th>\n",
       "      <th>AN</th>\n",
       "    </tr>\n",
       "  </thead>\n",
       "  <tbody>\n",
       "    <tr>\n",
       "      <th>205</th>\n",
       "      <td>Blitz</td>\n",
       "      <td>irakli112233</td>\n",
       "      <td>irakli1811</td>\n",
       "      <td>1-0</td>\n",
       "      <td>2016.06.30</td>\n",
       "      <td>22:00:54</td>\n",
       "      <td>1500</td>\n",
       "      <td>1500</td>\n",
       "      <td>NaN</td>\n",
       "      <td>NaN</td>\n",
       "      <td>A00</td>\n",
       "      <td>Van't Kruijs Opening</td>\n",
       "      <td>300+0</td>\n",
       "      <td>Normal</td>\n",
       "      <td>1. e3 f5 2. d3 g5 3. Qh5# 1-0</td>\n",
       "    </tr>\n",
       "    <tr>\n",
       "      <th>388</th>\n",
       "      <td>Blitz</td>\n",
       "      <td>irakli112233</td>\n",
       "      <td>irakli1811</td>\n",
       "      <td>1-0</td>\n",
       "      <td>2016.06.30</td>\n",
       "      <td>22:01:59</td>\n",
       "      <td>1500</td>\n",
       "      <td>1500</td>\n",
       "      <td>NaN</td>\n",
       "      <td>NaN</td>\n",
       "      <td>C57</td>\n",
       "      <td>Italian Game: Two Knights Defense, Fried Liver...</td>\n",
       "      <td>300+0</td>\n",
       "      <td>Normal</td>\n",
       "      <td>1. e4 e5 2. Nf3 Nc6 3. Bc4 Nf6 4. Ng5 d5 5. ex...</td>\n",
       "    </tr>\n",
       "    <tr>\n",
       "      <th>3352</th>\n",
       "      <td>Blitz</td>\n",
       "      <td>ZUMOSOL</td>\n",
       "      <td>pawnimpact0007</td>\n",
       "      <td>1-0</td>\n",
       "      <td>2016.06.30</td>\n",
       "      <td>22:19:53</td>\n",
       "      <td>2180</td>\n",
       "      <td>1393</td>\n",
       "      <td>NaN</td>\n",
       "      <td>NaN</td>\n",
       "      <td>A40</td>\n",
       "      <td>Englund Gambit Complex: Soller Gambit</td>\n",
       "      <td>300+0</td>\n",
       "      <td>Normal</td>\n",
       "      <td>1. d4 e5 2. dxe5 f6 3. exf6 Nxf6 4. Bg5 Bc5 5....</td>\n",
       "    </tr>\n",
       "  </tbody>\n",
       "</table>\n",
       "</div>"
      ],
      "text/plain": [
       "        Event         White           Black Result     UTCDate   UTCTime  \\\n",
       "205    Blitz   irakli112233      irakli1811    1-0  2016.06.30  22:00:54   \n",
       "388    Blitz   irakli112233      irakli1811    1-0  2016.06.30  22:01:59   \n",
       "3352   Blitz        ZUMOSOL  pawnimpact0007    1-0  2016.06.30  22:19:53   \n",
       "\n",
       "      WhiteElo  BlackElo  WhiteRatingDiff  BlackRatingDiff  ECO  \\\n",
       "205       1500      1500              NaN              NaN  A00   \n",
       "388       1500      1500              NaN              NaN  C57   \n",
       "3352      2180      1393              NaN              NaN  A40   \n",
       "\n",
       "                                                Opening TimeControl  \\\n",
       "205                                Van't Kruijs Opening       300+0   \n",
       "388   Italian Game: Two Knights Defense, Fried Liver...       300+0   \n",
       "3352              Englund Gambit Complex: Soller Gambit       300+0   \n",
       "\n",
       "     Termination                                                 AN  \n",
       "205       Normal                      1. e3 f5 2. d3 g5 3. Qh5# 1-0  \n",
       "388       Normal  1. e4 e5 2. Nf3 Nc6 3. Bc4 Nf6 4. Ng5 d5 5. ex...  \n",
       "3352      Normal  1. d4 e5 2. dxe5 f6 3. exf6 Nxf6 4. Bg5 Bc5 5....  "
      ]
     },
     "execution_count": 8,
     "metadata": {},
     "output_type": "execute_result"
    }
   ],
   "source": [
    "df[df['WhiteRatingDiff'].isnull()].head(3)"
   ]
  },
  {
   "cell_type": "markdown",
   "id": "49d7f286-2619-4800-a4d4-e104c52b8640",
   "metadata": {},
   "source": [
    "These games appear to be missing a `WhiteRatingDiff` and a `BlackRatingDiff` because Lichess thinks that something strange happened in the course of the game.  For example, the first game in this list is between \"irakli112233\" and \"irakli1811\", which suggests that the two accounts are owned by the same person.  They appear to be cooperating (or perhaps are robots that are currently very bad at the game), as the game is over in just a few moves:"
   ]
  },
  {
   "cell_type": "code",
   "execution_count": 9,
   "id": "fe2a3069-97af-4c45-9da8-33f0132dc148",
   "metadata": {},
   "outputs": [
    {
     "data": {
      "text/plain": [
       "'1. e3 f5 2. d3 g5 3. Qh5# 1-0'"
      ]
     },
     "execution_count": 9,
     "metadata": {},
     "output_type": "execute_result"
    }
   ],
   "source": [
    "df.loc[205, 'AN']"
   ]
  },
  {
   "cell_type": "markdown",
   "id": "2f0b805d-ff47-4df3-8c5f-dec12b06ce43",
   "metadata": {},
   "source": [
    "Other such games were among those that were automatically evaluated by Stockfish and were determined to contain a lot of \"surprising\" moves.  It is not always entirely clear why some of these games did not result in missing values for `WhiteRatingDiff` or `BlackRatingDiff`, but we will assume that the code on Lichess.org has a better understanding of which games are \"invalid\" than we can gain by just looking at a few of these games.\n",
    "\n",
    "For these reasons, we will drop those rows that have a missing `WhiteRatingDiff` or `BlackRatingDiff`.  This shouldn't be too much of a problem, as we are dropping only about 75 of every 100,000 games in our data set this way:"
   ]
  },
  {
   "cell_type": "code",
   "execution_count": 10,
   "id": "2aa73d9a-3e65-4f24-8464-b26df2b3599d",
   "metadata": {},
   "outputs": [
    {
     "data": {
      "text/plain": [
       "0.0007461417375192289"
      ]
     },
     "execution_count": 10,
     "metadata": {},
     "output_type": "execute_result"
    }
   ],
   "source": [
    "len(df[df['WhiteRatingDiff'].isnull()]) / len(df)"
   ]
  },
  {
   "cell_type": "code",
   "execution_count": 11,
   "id": "80f188c4-fe8a-40bd-92d0-16620b9047e6",
   "metadata": {},
   "outputs": [],
   "source": [
    "#Drop those games missing a `WhiteRatingDiff` or `BlackRatingDiff`\n",
    "df.dropna(inplace=True)"
   ]
  },
  {
   "cell_type": "markdown",
   "id": "5d05988b-316e-4caf-9d72-df2272b56eae",
   "metadata": {},
   "source": [
    "# Distirubtion of Event Types"
   ]
  },
  {
   "cell_type": "code",
   "execution_count": 12,
   "id": "8345d514-7f9c-43cd-b7b2-ebc69a27a162",
   "metadata": {},
   "outputs": [
    {
     "data": {
      "image/png": "[encoded data removed]",
      "text/plain": [
       "<Figure size 640x480 with 1 Axes>"
      ]
     },
     "metadata": {},
     "output_type": "display_data"
    }
   ],
   "source": [
    "df['Event'].value_counts().plot(kind='barh');"
   ]
  },
  {
   "cell_type": "markdown",
   "id": "87f966dc-9ed3-4610-8016-ed1addfae311",
   "metadata": {},
   "source": [
    "We will restrict attention to the non-tournament, non-Correspondence games.  (\"Correspondence\" games are played over the course of many days.)  Thus, we will keep only those rows whose `Event` is Classical, Blitz or Bullet."
   ]
  },
  {
   "cell_type": "code",
   "execution_count": 13,
   "id": "acac4f52-5e15-48c1-ad34-231a0d632da2",
   "metadata": {},
   "outputs": [
    {
     "data": {
      "text/plain": [
       "' Blitz '"
      ]
     },
     "execution_count": 13,
     "metadata": {},
     "output_type": "execute_result"
    }
   ],
   "source": [
    "df['Event'].value_counts().index[0]"
   ]
  },
  {
   "cell_type": "markdown",
   "id": "2e25dd71-688b-46d0-b395-dfeb404eeed8",
   "metadata": {},
   "source": [
    "Furthermore, there is something weird going on with the naming of these events.  It appears that nearly all events are named like ' Classical ' or ' Blitz ' (with a space at either end) but a few are named differently.  We will drop those rows whose `Event` value is named differently, and then we will format the remaining `Event` values to no longer contain leading and trailing spaces."
   ]
  },
  {
   "cell_type": "code",
   "execution_count": 14,
   "id": "a71c4f7d-0b3f-4a38-b598-40e85cd098af",
   "metadata": {},
   "outputs": [],
   "source": [
    "df = df[ df['Event'].isin([' Classical ', ' Blitz ', ' Bullet ']) ]"
   ]
  },
  {
   "cell_type": "code",
   "execution_count": 15,
   "id": "3b5f6d8e-5220-4993-959c-d7ec67c9d2d1",
   "metadata": {},
   "outputs": [
    {
     "data": {
      "image/png": "[encoded data removed]",
      "text/plain": [
       "<Figure size 640x480 with 1 Axes>"
      ]
     },
     "metadata": {},
     "output_type": "display_data"
    }
   ],
   "source": [
    "df['Event'].value_counts().plot(kind='barh');"
   ]
  },
  {
   "cell_type": "code",
   "execution_count": 16,
   "id": "54d4ed8d-aec6-4830-9e5b-f8fb80cd23a0",
   "metadata": {},
   "outputs": [],
   "source": [
    "#Format the names of the events\n",
    "df['Event'] = df['Event'].map({' Blitz ':'Blitz', ' Classical ':'Classical', ' Bullet ':'Bullet'})"
   ]
  },
  {
   "cell_type": "markdown",
   "id": "15811914-4230-47d3-9d6d-4542aa25e4ec",
   "metadata": {},
   "source": [
    "## Convert the date and time columns to datetimes and timestamps, then drop unnecessary columns"
   ]
  },
  {
   "cell_type": "markdown",
   "id": "0ff8bf79-930f-4b74-9c8d-35057302e049",
   "metadata": {},
   "source": [
    "We will drop the `ECO` column (a code for a categorical description of the opening moves of the game) as well as the `Opening` column (an English description of the opening)."
   ]
  },
  {
   "cell_type": "code",
   "execution_count": 17,
   "id": "a4c7da1e-c141-45ed-abbd-5ef8b5dd0c4c",
   "metadata": {},
   "outputs": [
    {
     "data": {
      "text/html": [
       "<div>\n",
       "<style scoped>\n",
       "    .dataframe tbody tr th:only-of-type {\n",
       "        vertical-align: middle;\n",
       "    }\n",
       "\n",
       "    .dataframe tbody tr th {\n",
       "        vertical-align: top;\n",
       "    }\n",
       "\n",
       "    .dataframe thead th {\n",
       "        text-align: right;\n",
       "    }\n",
       "</style>\n",
       "<table border=\"1\" class=\"dataframe\">\n",
       "  <thead>\n",
       "    <tr style=\"text-align: right;\">\n",
       "      <th></th>\n",
       "      <th>Event</th>\n",
       "      <th>White</th>\n",
       "      <th>Black</th>\n",
       "      <th>Result</th>\n",
       "      <th>WhiteElo</th>\n",
       "      <th>BlackElo</th>\n",
       "      <th>WhiteRatingDiff</th>\n",
       "      <th>BlackRatingDiff</th>\n",
       "      <th>TimeControl</th>\n",
       "      <th>Termination</th>\n",
       "      <th>AN</th>\n",
       "      <th>datetime</th>\n",
       "      <th>timestamp</th>\n",
       "    </tr>\n",
       "  </thead>\n",
       "  <tbody>\n",
       "    <tr>\n",
       "      <th>0</th>\n",
       "      <td>Classical</td>\n",
       "      <td>eisaaaa</td>\n",
       "      <td>HAMID449</td>\n",
       "      <td>1-0</td>\n",
       "      <td>1901</td>\n",
       "      <td>1896</td>\n",
       "      <td>11.0</td>\n",
       "      <td>-11.0</td>\n",
       "      <td>300+5</td>\n",
       "      <td>Time forfeit</td>\n",
       "      <td>1. d4 d5 2. c4 c6 3. e3 a6 4. Nf3 e5 5. cxd5 e...</td>\n",
       "      <td>2016-06-30 22:00:01</td>\n",
       "      <td>1.467324e+09</td>\n",
       "    </tr>\n",
       "  </tbody>\n",
       "</table>\n",
       "</div>"
      ],
      "text/plain": [
       "       Event    White     Black Result  WhiteElo  BlackElo  WhiteRatingDiff  \\\n",
       "0  Classical  eisaaaa  HAMID449    1-0      1901      1896             11.0   \n",
       "\n",
       "   BlackRatingDiff TimeControl   Termination  \\\n",
       "0            -11.0       300+5  Time forfeit   \n",
       "\n",
       "                                                  AN            datetime  \\\n",
       "0  1. d4 d5 2. c4 c6 3. e3 a6 4. Nf3 e5 5. cxd5 e... 2016-06-30 22:00:01   \n",
       "\n",
       "      timestamp  \n",
       "0  1.467324e+09  "
      ]
     },
     "execution_count": 17,
     "metadata": {},
     "output_type": "execute_result"
    }
   ],
   "source": [
    "df['datetime'] = df.apply(lambda row : f\"{row['UTCDate']} {row['UTCTime']}\", axis=1)\n",
    "df['datetime'] = pd.to_datetime(df['datetime'])\n",
    "df['timestamp'] = df['datetime'].map(lambda x : x.timestamp())\n",
    "df = df.drop(columns = ['UTCDate', 'UTCTime', 'ECO', 'Opening'])\n",
    "df.head(1)"
   ]
  },
  {
   "cell_type": "markdown",
   "id": "6f605573-121f-4774-9c1a-2bc7ef1c8ee9",
   "metadata": {},
   "source": [
    "## Get the timestamps of the games played by each of the players"
   ]
  },
  {
   "cell_type": "code",
   "execution_count": 18,
   "id": "24cc5a08-2b2a-49c4-841c-23e6c054b5df",
   "metadata": {},
   "outputs": [],
   "source": [
    "#Get the names of all players who were part of a match in our data set\n",
    "names = set(df['White']).union(set(df['Black']))"
   ]
  },
  {
   "cell_type": "code",
   "execution_count": 19,
   "id": "1ff16f7e-c49a-474d-99a8-92b80feb5361",
   "metadata": {},
   "outputs": [
    {
     "data": {
      "text/plain": [
       "114939"
      ]
     },
     "execution_count": 19,
     "metadata": {},
     "output_type": "execute_result"
    }
   ],
   "source": [
    "#How many distinct players have played a game in our month of data?\n",
    "len(names)"
   ]
  },
  {
   "cell_type": "code",
   "execution_count": 20,
   "id": "8e88160e-ec1a-4fca-8124-79fed89dbcf5",
   "metadata": {},
   "outputs": [],
   "source": [
    "#Make a dictionary mapping these players' names to lists of times when they played the games\n",
    "game_times = {}\n",
    "#Initialize empty lists of game times for each player\n",
    "for name in names:\n",
    "    game_times[name]=[]\n",
    "\n",
    "#Loop over the rows of the dataframe and record the times of the games in each player's entry in the dictionary\n",
    "for _, row in df.iterrows():\n",
    "    white_name = row['White']\n",
    "    black_name = row['Black']\n",
    "    game_times[white_name].append(row['timestamp'])\n",
    "    game_times[black_name].append(row['timestamp'])\n",
    "    \n",
    "#Sort the game times for each player\n",
    "for name in names:\n",
    "    game_times[name] = sorted(game_times[name])"
   ]
  },
  {
   "cell_type": "code",
   "execution_count": 21,
   "id": "03c51795-cfb3-46a1-b3c7-1fadd60a2d95",
   "metadata": {},
   "outputs": [
    {
     "name": "stdout",
     "output_type": "stream",
     "text": [
      "[1467324001.0, 1467324928.0, 1467325876.0, 1467326444.0, 1467327299.0, 1467327742.0, 1467328304.0, 1467380601.0, 1467381587.0, 1467382475.0, 1467456610.0, 1467457144.0, 1467547984.0, 1467548312.0, 1467550111.0, 1467550879.0, 1467551315.0, 1467673318.0, 1467673526.0, 1467673951.0, 1467674359.0, 1467675032.0, 1467675180.0, 1467675873.0, 1467676192.0, 1467676934.0, 1467677274.0, 1467678030.0, 1467678649.0, 1467678741.0, 1467678968.0, 1467679682.0, 1467679997.0, 1467680277.0, 1467680743.0, 1467681245.0, 1467681722.0, 1468067610.0, 1468184364.0, 1468184785.0, 1468185717.0, 1468187096.0, 1468223481.0, 1468243525.0, 1468252246.0, 1468310226.0, 1468427967.0, 1468528718.0, 1468675911.0, 1468751808.0, 1468753153.0, 1468758257.0, 1468791592.0, 1468792054.0, 1468860169.0, 1469061439.0, 1469104947.0, 1469187837.0, 1469188800.0, 1469189621.0, 1469319905.0, 1469320801.0, 1469399739.0, 1469400360.0, 1469400807.0, 1469401002.0, 1469401771.0, 1469402318.0, 1469402477.0, 1469402900.0, 1469403619.0, 1469404686.0, 1469405350.0, 1469479876.0, 1469480743.0, 1469562809.0, 1469564407.0, 1469570374.0, 1469571097.0, 1469572781.0, 1469573636.0, 1469574397.0, 1469656453.0]\n"
     ]
    }
   ],
   "source": [
    "#An example using one of the players in the first game in our dataframe\n",
    "print(game_times['eisaaaa'])"
   ]
  },
  {
   "cell_type": "code",
   "execution_count": 22,
   "id": "3cea48ad-a22c-46c0-9332-d9a39631084c",
   "metadata": {},
   "outputs": [
    {
     "name": "stdout",
     "output_type": "stream",
     "text": [
      "[1467324001.0, 1467324928.0, 1467325876.0, 1467381437.0, 1467382057.0, 1467382688.0, 1467389377.0, 1467389945.0, 1467390517.0, 1467475963.0, 1467477354.0, 1467478041.0, 1467479365.0, 1467480330.0, 1467562738.0, 1467563754.0, 1467564355.0, 1467569700.0, 1467571775.0, 1467572601.0, 1467573307.0, 1467658487.0, 1467663170.0, 1467664087.0, 1467746342.0, 1467746788.0, 1467747372.0, 1468524779.0, 1468524983.0, 1468525547.0, 1468526601.0, 1468526949.0, 1468592777.0, 1468594035.0, 1468598335.0, 1468598960.0, 1468600060.0, 1468600706.0, 1468686940.0, 1468688278.0, 1468689575.0, 1468692587.0, 1468692983.0, 1468693227.0, 1468778033.0, 1468778517.0, 1468790540.0, 1468833104.0, 1468863275.0, 1468864270.0, 1468866372.0, 1468866730.0, 1468867066.0, 1468867618.0, 1468868001.0, 1468868575.0, 1468874301.0, 1468876612.0, 1468877800.0, 1468949860.0, 1468951046.0, 1468952210.0, 1469006102.0, 1469007053.0, 1469381887.0, 1469382707.0, 1469387809.0, 1469388438.0, 1469389427.0, 1469389499.0, 1469391800.0, 1469464481.0, 1469465203.0, 1469466358.0, 1469467503.0, 1469556780.0, 1469557711.0, 1469557972.0, 1469558641.0, 1469639253.0, 1469640471.0, 1469641410.0, 1469641584.0, 1469644015.0, 1469645492.0, 1469647618.0, 1469698991.0, 1469700356.0, 1469724778.0, 1469725465.0, 1469728970.0, 1469729822.0, 1469730468.0, 1469785403.0, 1469786213.0]\n"
     ]
    }
   ],
   "source": [
    "#An example using the opponent from the same game (the first few are\n",
    "#the same times, but others are not!)\n",
    "print(game_times['HAMID449'])"
   ]
  },
  {
   "cell_type": "markdown",
   "id": "9cb5548a-585c-4d13-99da-3edcbf4e7eb9",
   "metadata": {},
   "source": [
    "### Some players have duplicate game timestamps"
   ]
  },
  {
   "cell_type": "code",
   "execution_count": 23,
   "id": "6930f4a5-5a11-4f48-9eb7-247194bdb803",
   "metadata": {},
   "outputs": [
    {
     "data": {
      "text/plain": [
       "(726, 0.006316393913293138)"
      ]
     },
     "execution_count": 23,
     "metadata": {},
     "output_type": "execute_result"
    }
   ],
   "source": [
    "players_with_duplicate_gametimes = set()\n",
    "\n",
    "for name in names:\n",
    "    if len(game_times[name]) != len(set(game_times[name])):\n",
    "        players_with_duplicate_gametimes.add(name)\n",
    "        \n",
    "len(players_with_duplicate_gametimes), len(players_with_duplicate_gametimes)/len(names)"
   ]
  },
  {
   "cell_type": "markdown",
   "id": "e4d46b7b-2ecf-4427-88cd-5ae9e56d36e4",
   "metadata": {},
   "source": [
    "We see that a small fraction (about 0.6%) of the players in our data set have two or more games recorded to have taken place at the *exact same second*.  This is possible since Lichess.org allows players to play multiple games at the same time!\n",
    "\n",
    "The only cases where the presence of multiple identical timestamps for a given player can cause us a problem are the following:\n",
    "1. New players whose first three games contain duplicate timestamps: this makes it impossible to determine precisely which games were that player's first and second games.\n",
    "2. Any player X who is the 2nd-game opponent of a given new player Y and for whom it's ambiguous which game X played *immediately before* playing that new player Y.  (This can occur when X's list of game times prior to the time when she played Y has no unique maximum.)\n",
    "\n",
    "Cases of type 1 above will prevent us from being able to attempt the prediction problem \"predict the outcome of a player's 2nd game given information from her 1st game and her to-be opponent's previous game.\"  We drop from our data set all such cases of type 1 (see below).\n",
    "\n",
    "However, cases of type 2 do *not* pose an issue to this prediction problem, so long as we are willing to interpret the \"opponent's previous game\" as \"any game played immediately before the timestamp of the game against the new player.\"  This change of interpretation is of much less importance for the opponents' games than it would be for the new players' first and second games; indeed, the difference between any two of an *established player's* recent games is likely to be not so great while the difference between e.g. the *second* and *third* games of a new player might be quite large.  And indeed, any player who is playing multiple games at once is very likely to be an established player.\n",
    "\n",
    "For this reason, rather than dropping *all* of the players who have duplicate game times, we will drop only those that constitute cases of type 1 above.  (However, the code below will still function perfectly if one were to right now drop *all* players with duplicate timestamps.)"
   ]
  },
  {
   "cell_type": "markdown",
   "id": "e8ff4875-6837-4227-bb1f-1a9c09e005d1",
   "metadata": {},
   "source": [
    "## Find the new players\n",
    "\n",
    "New players on Lichess begin with a rating of 1500.  Let's get a list of the names of the players who had a rating of 1500 in their *earliest game in the dataset*.  Although there might be a couple of these players who are actualy *not* new to Lichess, such players would need to have had a rating of *exactly 1500* at the time of *exactly their first game of the month*.\n",
    "\n",
    "So we will be content to define \"new players\" as those who had a 1500 rating during their *first game in our data set*."
   ]
  },
  {
   "cell_type": "markdown",
   "id": "405dd131-fac0-4d42-9206-ddb89e0fdaff",
   "metadata": {},
   "source": [
    "### Be mindful of players whose 1st three games contain multiple games with the same timestamp"
   ]
  },
  {
   "cell_type": "markdown",
   "id": "d885f257-b138-46c5-8af4-0372a3cd9431",
   "metadata": {},
   "source": [
    "A few players have multiple different games taking place at the same time.  We will not consider these players when looking for \"new players\", as it's unclear which games are their \"first\" and \"second\" games.\n",
    "\n",
    "For example, the following is someone who would (otherwise) be considered a \"new player\" but whose second and third games of the month have an identical timestamp:"
   ]
  },
  {
   "cell_type": "code",
   "execution_count": 24,
   "id": "9d75cbd8-2d87-48b3-8b91-303c6573ec53",
   "metadata": {},
   "outputs": [
    {
     "data": {
      "text/plain": [
       "[1468018880.0, 1468020730.0, 1468020730.0]"
      ]
     },
     "execution_count": 24,
     "metadata": {},
     "output_type": "execute_result"
    }
   ],
   "source": [
    "game_times['antyha'][:3]"
   ]
  },
  {
   "cell_type": "code",
   "execution_count": 25,
   "id": "cc65e8c5-5271-4bf0-93d5-2b7f41642550",
   "metadata": {},
   "outputs": [],
   "source": [
    "#Initialize a list of row indices for rows that contain a new player's first game\n",
    "#(that is, rows where some player has a 1500 rating and it's her first game).\n",
    "#Also, initialize a set of new players' names\n",
    "new_player_inds = []\n",
    "new_player_names = set()\n",
    "\n",
    "#Keep track of how many otherwise \"new players\" we're excluding since their\n",
    "#first 3 games contain duplicate timestamps\n",
    "players_with_duplicate_times = []\n",
    "\n",
    "#Loop over the rows of our dataframe\n",
    "for ind, row in df.iterrows():\n",
    "    white_name = row['White']\n",
    "    black_name = row['Black']\n",
    "    white_is_new = False\n",
    "    black_is_new = False\n",
    "    \n",
    "    #If this is the White player's first game AND she has a 1500 rating, we'll say that White is \"new\"\n",
    "    if (row['timestamp'] == game_times[white_name][0]) and (row['WhiteElo']==1500):\n",
    "        white_is_new = True\n",
    "    #Similarly for Black\n",
    "    if (row['timestamp'] == game_times[black_name][0]) and (row['BlackElo']==1500):\n",
    "        black_is_new = True\n",
    "    \n",
    "    #If this is the White player's first game, \n",
    "    #AND if her first three games all had distinct timestamps,\n",
    "    #then add her name to our set of new players' names\n",
    "    if white_is_new:\n",
    "        if len(set(game_times[white_name][:3])) == len(game_times[white_name][:3]):\n",
    "            new_player_names.add(white_name)\n",
    "        #Record her name if she has duplicate timestamps\n",
    "        else:\n",
    "            players_with_duplicate_times.append(white_name)\n",
    "        \n",
    "    #Similarly for Black\n",
    "    if black_is_new:\n",
    "        if len(set(game_times[black_name][:3])) == len(game_times[black_name][:3]):\n",
    "            new_player_names.add(black_name)\n",
    "        else:\n",
    "            players_with_duplicate_times.append(black_name)\n",
    "    \n",
    "    #Finally, if AT LEAST ONE of the players is new, remember the index of the row\n",
    "    if white_is_new or black_is_new:\n",
    "        new_player_inds.append(ind)"
   ]
  },
  {
   "cell_type": "code",
   "execution_count": 26,
   "id": "14d1fcf5-b116-49a7-9744-1da477eb1826",
   "metadata": {},
   "outputs": [
    {
     "data": {
      "text/plain": [
       "7"
      ]
     },
     "execution_count": 26,
     "metadata": {},
     "output_type": "execute_result"
    }
   ],
   "source": [
    "#How many otherwise \"new players\" did we exclude because of duplicate\n",
    "#timestamps in that player's first 3 games?\n",
    "len(players_with_duplicate_times)"
   ]
  },
  {
   "cell_type": "code",
   "execution_count": 27,
   "id": "8b34d7b4-ed12-40d2-b2d7-1b2592e5853c",
   "metadata": {},
   "outputs": [],
   "source": [
    "new_players_first_games = df.loc[new_player_inds, :]"
   ]
  },
  {
   "cell_type": "code",
   "execution_count": 28,
   "id": "726dd53c-7ad7-49fa-abc5-1b3f141274d6",
   "metadata": {},
   "outputs": [
    {
     "data": {
      "text/plain": [
       "Text(0.5, 1.0, 'Distribution of event types played by new players in their first games')"
      ]
     },
     "execution_count": 28,
     "metadata": {},
     "output_type": "execute_result"
    },
    {
     "data": {
      "image/png": "[encoded data removed]",
      "text/plain": [
       "<Figure size 640x480 with 1 Axes>"
      ]
     },
     "metadata": {},
     "output_type": "display_data"
    }
   ],
   "source": [
    "#Look at the distribution of game types played by new players in their first games\n",
    "new_players_first_games['Event'].value_counts().plot(kind='barh');\n",
    "plt.title(\"Distribution of event types played by new players in their first games\")"
   ]
  },
  {
   "cell_type": "markdown",
   "id": "8de0e352-0b90-4802-a97f-593349b4a6bb",
   "metadata": {},
   "source": [
    "Now that we have a list of all the new players, we need to restrict attention to those new players who went on to play *at least 2 games during the month*.  This is because we are trying to predict the outcome of new players' *second* games given the moves in their *first* games.\n",
    "\n",
    "We also need to find the names of the *second-game opponents* of the new players.  This is because we will use information about these players' previous games to help predict the outcome of the new player's second game."
   ]
  },
  {
   "cell_type": "code",
   "execution_count": 29,
   "id": "ef8917d5-f841-47d6-8c7f-cc0cba0ebeac",
   "metadata": {},
   "outputs": [
    {
     "data": {
      "text/plain": [
       "29599"
      ]
     },
     "execution_count": 29,
     "metadata": {},
     "output_type": "execute_result"
    }
   ],
   "source": [
    "#How many \"new players\" do we have?\n",
    "len(new_player_names)"
   ]
  },
  {
   "cell_type": "code",
   "execution_count": 30,
   "id": "49627e86-dcdf-41c4-bff1-20effb5be0e9",
   "metadata": {},
   "outputs": [
    {
     "data": {
      "text/plain": [
       "24284"
      ]
     },
     "execution_count": 30,
     "metadata": {},
     "output_type": "execute_result"
    }
   ],
   "source": [
    "#How many new players went on to play a second game?\n",
    "new_played2 = {name for name in new_player_names if len(game_times[name])>1}\n",
    "len(new_played2)"
   ]
  },
  {
   "cell_type": "markdown",
   "id": "c37d7630-7ad5-4eb7-adb2-bf15d3573f1a",
   "metadata": {},
   "source": [
    "## Aside: an example illustrating the method we'll use below"
   ]
  },
  {
   "cell_type": "code",
   "execution_count": 31,
   "id": "876b7b0b-8b26-4ca0-acc2-3da49c9a959d",
   "metadata": {},
   "outputs": [
    {
     "data": {
      "text/html": [
       "<div>\n",
       "<style scoped>\n",
       "    .dataframe tbody tr th:only-of-type {\n",
       "        vertical-align: middle;\n",
       "    }\n",
       "\n",
       "    .dataframe tbody tr th {\n",
       "        vertical-align: top;\n",
       "    }\n",
       "\n",
       "    .dataframe thead th {\n",
       "        text-align: right;\n",
       "    }\n",
       "</style>\n",
       "<table border=\"1\" class=\"dataframe\">\n",
       "  <thead>\n",
       "    <tr style=\"text-align: right;\">\n",
       "      <th></th>\n",
       "      <th>Event</th>\n",
       "      <th>White</th>\n",
       "      <th>Black</th>\n",
       "      <th>Result</th>\n",
       "      <th>WhiteElo</th>\n",
       "      <th>BlackElo</th>\n",
       "      <th>WhiteRatingDiff</th>\n",
       "      <th>BlackRatingDiff</th>\n",
       "      <th>TimeControl</th>\n",
       "      <th>Termination</th>\n",
       "      <th>AN</th>\n",
       "      <th>datetime</th>\n",
       "      <th>timestamp</th>\n",
       "      <th>test_col</th>\n",
       "      <th>test_col2</th>\n",
       "    </tr>\n",
       "  </thead>\n",
       "  <tbody>\n",
       "  </tbody>\n",
       "</table>\n",
       "</div>"
      ],
      "text/plain": [
       "Empty DataFrame\n",
       "Columns: [Event, White, Black, Result, WhiteElo, BlackElo, WhiteRatingDiff, BlackRatingDiff, TimeControl, Termination, AN, datetime, timestamp, test_col, test_col2]\n",
       "Index: []"
      ]
     },
     "execution_count": 31,
     "metadata": {},
     "output_type": "execute_result"
    }
   ],
   "source": [
    "#Initialize a new dataframe that has the same columns as df plus a couple new ones\n",
    "test = df.iloc[0:0,:]\n",
    "test['test_col'] = pd.Series()\n",
    "test['test_col2'] = pd.Series()\n",
    "test"
   ]
  },
  {
   "cell_type": "code",
   "execution_count": 32,
   "id": "9a2ffde6-a187-42c3-b3d9-5a5f76b71f32",
   "metadata": {
    "tags": []
   },
   "outputs": [
    {
     "data": {
      "text/html": [
       "<div>\n",
       "<style scoped>\n",
       "    .dataframe tbody tr th:only-of-type {\n",
       "        vertical-align: middle;\n",
       "    }\n",
       "\n",
       "    .dataframe tbody tr th {\n",
       "        vertical-align: top;\n",
       "    }\n",
       "\n",
       "    .dataframe thead th {\n",
       "        text-align: right;\n",
       "    }\n",
       "</style>\n",
       "<table border=\"1\" class=\"dataframe\">\n",
       "  <thead>\n",
       "    <tr style=\"text-align: right;\">\n",
       "      <th></th>\n",
       "      <th>Event</th>\n",
       "      <th>White</th>\n",
       "      <th>Black</th>\n",
       "      <th>Result</th>\n",
       "      <th>WhiteElo</th>\n",
       "      <th>BlackElo</th>\n",
       "      <th>WhiteRatingDiff</th>\n",
       "      <th>BlackRatingDiff</th>\n",
       "      <th>TimeControl</th>\n",
       "      <th>Termination</th>\n",
       "      <th>AN</th>\n",
       "      <th>datetime</th>\n",
       "      <th>timestamp</th>\n",
       "      <th>test_col</th>\n",
       "      <th>test_col2</th>\n",
       "    </tr>\n",
       "  </thead>\n",
       "  <tbody>\n",
       "    <tr>\n",
       "      <th>0</th>\n",
       "      <td>Classical</td>\n",
       "      <td>eisaaaa</td>\n",
       "      <td>HAMID449</td>\n",
       "      <td>1-0</td>\n",
       "      <td>1901</td>\n",
       "      <td>1896</td>\n",
       "      <td>11.0</td>\n",
       "      <td>-11.0</td>\n",
       "      <td>300+5</td>\n",
       "      <td>Time forfeit</td>\n",
       "      <td>1. d4 d5 2. c4 c6 3. e3 a6 4. Nf3 e5 5. cxd5 e...</td>\n",
       "      <td>2016-06-30 22:00:01</td>\n",
       "      <td>1.467324e+09</td>\n",
       "      <td>0.0</td>\n",
       "      <td>NaN</td>\n",
       "    </tr>\n",
       "    <tr>\n",
       "      <th>1</th>\n",
       "      <td>Classical</td>\n",
       "      <td>eisaaaa</td>\n",
       "      <td>HAMID449</td>\n",
       "      <td>1-0</td>\n",
       "      <td>1901</td>\n",
       "      <td>1896</td>\n",
       "      <td>11.0</td>\n",
       "      <td>-11.0</td>\n",
       "      <td>300+5</td>\n",
       "      <td>Time forfeit</td>\n",
       "      <td>1. d4 d5 2. c4 c6 3. e3 a6 4. Nf3 e5 5. cxd5 e...</td>\n",
       "      <td>2016-06-30 22:00:01</td>\n",
       "      <td>1.467324e+09</td>\n",
       "      <td>1.0</td>\n",
       "      <td>cool</td>\n",
       "    </tr>\n",
       "    <tr>\n",
       "      <th>2</th>\n",
       "      <td>Blitz</td>\n",
       "      <td>go4jas</td>\n",
       "      <td>Sergei1973</td>\n",
       "      <td>0-1</td>\n",
       "      <td>1641</td>\n",
       "      <td>1627</td>\n",
       "      <td>-11.0</td>\n",
       "      <td>12.0</td>\n",
       "      <td>300+0</td>\n",
       "      <td>Normal</td>\n",
       "      <td>1. e4 e5 2. b3 Nf6 3. Bb2 Nc6 4. Nf3 d6 5. d3 ...</td>\n",
       "      <td>2016-06-30 22:00:01</td>\n",
       "      <td>1.467324e+09</td>\n",
       "      <td>0.0</td>\n",
       "      <td>NaN</td>\n",
       "    </tr>\n",
       "    <tr>\n",
       "      <th>3</th>\n",
       "      <td>Blitz</td>\n",
       "      <td>go4jas</td>\n",
       "      <td>Sergei1973</td>\n",
       "      <td>0-1</td>\n",
       "      <td>1641</td>\n",
       "      <td>1627</td>\n",
       "      <td>-11.0</td>\n",
       "      <td>12.0</td>\n",
       "      <td>300+0</td>\n",
       "      <td>Normal</td>\n",
       "      <td>1. e4 e5 2. b3 Nf6 3. Bb2 Nc6 4. Nf3 d6 5. d3 ...</td>\n",
       "      <td>2016-06-30 22:00:01</td>\n",
       "      <td>1.467324e+09</td>\n",
       "      <td>1.0</td>\n",
       "      <td>cool</td>\n",
       "    </tr>\n",
       "  </tbody>\n",
       "</table>\n",
       "</div>"
      ],
      "text/plain": [
       "       Event    White       Black Result  WhiteElo  BlackElo  WhiteRatingDiff  \\\n",
       "0  Classical  eisaaaa    HAMID449    1-0      1901      1896             11.0   \n",
       "1  Classical  eisaaaa    HAMID449    1-0      1901      1896             11.0   \n",
       "2      Blitz   go4jas  Sergei1973    0-1      1641      1627            -11.0   \n",
       "3      Blitz   go4jas  Sergei1973    0-1      1641      1627            -11.0   \n",
       "\n",
       "   BlackRatingDiff TimeControl   Termination  \\\n",
       "0            -11.0       300+5  Time forfeit   \n",
       "1            -11.0       300+5  Time forfeit   \n",
       "2             12.0       300+0        Normal   \n",
       "3             12.0       300+0        Normal   \n",
       "\n",
       "                                                  AN            datetime  \\\n",
       "0  1. d4 d5 2. c4 c6 3. e3 a6 4. Nf3 e5 5. cxd5 e... 2016-06-30 22:00:01   \n",
       "1  1. d4 d5 2. c4 c6 3. e3 a6 4. Nf3 e5 5. cxd5 e... 2016-06-30 22:00:01   \n",
       "2  1. e4 e5 2. b3 Nf6 3. Bb2 Nc6 4. Nf3 d6 5. d3 ... 2016-06-30 22:00:01   \n",
       "3  1. e4 e5 2. b3 Nf6 3. Bb2 Nc6 4. Nf3 d6 5. d3 ... 2016-06-30 22:00:01   \n",
       "\n",
       "      timestamp  test_col test_col2  \n",
       "0  1.467324e+09       0.0       NaN  \n",
       "1  1.467324e+09       1.0      cool  \n",
       "2  1.467324e+09       0.0       NaN  \n",
       "3  1.467324e+09       1.0      cool  "
      ]
     },
     "execution_count": 32,
     "metadata": {},
     "output_type": "execute_result"
    }
   ],
   "source": [
    "#Copy the first two rows of df TWICE each.  For the first copy, assign a test_col value of 0\n",
    "#and leave the test_col2 value empty (NaN).  For the second copy, assign a test_col value of 1\n",
    "#and a test_col2 value of 'cool'\n",
    "for _, row in df.iloc[0:2, :].iterrows():\n",
    "    current_row = copy.deepcopy(row)\n",
    "    current_row['test_col'] = 0\n",
    "    \n",
    "    duplicate_row = copy.deepcopy(current_row)\n",
    "    duplicate_row['test_col'] = 1\n",
    "    duplicate_row['test_col2'] = 'cool'\n",
    "    \n",
    "    test = test.append(current_row, ignore_index=True)\n",
    "    test = test.append(duplicate_row, ignore_index=True)\n",
    "\n",
    "test  "
   ]
  },
  {
   "cell_type": "markdown",
   "id": "d28b5025-231b-451d-9cf6-5e7ab00f330c",
   "metadata": {},
   "source": [
    "# Extracting the new players' 1st and 2nd games into separate dataframes"
   ]
  },
  {
   "cell_type": "code",
   "execution_count": 33,
   "id": "3506fab0-31ae-48d3-acd0-5cbbd695e748",
   "metadata": {
    "scrolled": true,
    "tags": []
   },
   "outputs": [],
   "source": [
    "#Initialize empty dataframes with the same columns as our df\n",
    "new_pl_1st_games = df.iloc[0:0,:]\n",
    "new_pl_2nd_games = df.iloc[0:0,:]\n",
    "\n",
    "#Add a column to indicate the name of the player who is new and who is playing\n",
    "#her first (second) game.  In case BOTH players are new and playing their first (second)\n",
    "#game, we will duplicate the row (and out the OTHER player's name in the new_pl_name column there).\n",
    "#See the example above.\n",
    "new_pl_1st_games['name_of_pl_playing_1st_game'] = pd.Series()\n",
    "new_pl_2nd_games['name_of_pl_playing_1st_game'] = pd.Series()\n",
    "new_pl_1st_games['name_of_pl_playing_2nd_game'] = pd.Series()\n",
    "new_pl_2nd_games['name_of_pl_playing_2nd_game'] = pd.Series()\n",
    "\n",
    "#In case both players are new and playing their 1st (2nd) game, we'll record this.\n",
    "#(In particular, this makes identifying duplicated rows easier.)\n",
    "new_pl_1st_games['both_players_1st_game'] = pd.Series()\n",
    "new_pl_2nd_games['both_players_1st_game'] = pd.Series()\n",
    "new_pl_1st_games['both_players_2nd_game'] = pd.Series()\n",
    "new_pl_2nd_games['both_players_2nd_game'] = pd.Series()"
   ]
  },
  {
   "cell_type": "code",
   "execution_count": 34,
   "id": "2582ddb8-6db8-46f3-beed-d8d356c76468",
   "metadata": {},
   "outputs": [
    {
     "data": {
      "text/html": [
       "<div>\n",
       "<style scoped>\n",
       "    .dataframe tbody tr th:only-of-type {\n",
       "        vertical-align: middle;\n",
       "    }\n",
       "\n",
       "    .dataframe tbody tr th {\n",
       "        vertical-align: top;\n",
       "    }\n",
       "\n",
       "    .dataframe thead th {\n",
       "        text-align: right;\n",
       "    }\n",
       "</style>\n",
       "<table border=\"1\" class=\"dataframe\">\n",
       "  <thead>\n",
       "    <tr style=\"text-align: right;\">\n",
       "      <th></th>\n",
       "      <th>Event</th>\n",
       "      <th>White</th>\n",
       "      <th>Black</th>\n",
       "      <th>Result</th>\n",
       "      <th>WhiteElo</th>\n",
       "      <th>BlackElo</th>\n",
       "      <th>WhiteRatingDiff</th>\n",
       "      <th>BlackRatingDiff</th>\n",
       "      <th>TimeControl</th>\n",
       "      <th>Termination</th>\n",
       "      <th>AN</th>\n",
       "      <th>datetime</th>\n",
       "      <th>timestamp</th>\n",
       "      <th>name_of_pl_playing_1st_game</th>\n",
       "      <th>name_of_pl_playing_2nd_game</th>\n",
       "      <th>both_players_1st_game</th>\n",
       "      <th>both_players_2nd_game</th>\n",
       "    </tr>\n",
       "  </thead>\n",
       "  <tbody>\n",
       "  </tbody>\n",
       "</table>\n",
       "</div>"
      ],
      "text/plain": [
       "Empty DataFrame\n",
       "Columns: [Event, White, Black, Result, WhiteElo, BlackElo, WhiteRatingDiff, BlackRatingDiff, TimeControl, Termination, AN, datetime, timestamp, name_of_pl_playing_1st_game, name_of_pl_playing_2nd_game, both_players_1st_game, both_players_2nd_game]\n",
       "Index: []"
      ]
     },
     "execution_count": 34,
     "metadata": {},
     "output_type": "execute_result"
    }
   ],
   "source": [
    "new_pl_1st_games"
   ]
  },
  {
   "cell_type": "code",
   "execution_count": 35,
   "id": "d2f6d082-3f27-4573-be6e-fbf4e3aaf8ca",
   "metadata": {},
   "outputs": [
    {
     "data": {
      "text/html": [
       "<div>\n",
       "<style scoped>\n",
       "    .dataframe tbody tr th:only-of-type {\n",
       "        vertical-align: middle;\n",
       "    }\n",
       "\n",
       "    .dataframe tbody tr th {\n",
       "        vertical-align: top;\n",
       "    }\n",
       "\n",
       "    .dataframe thead th {\n",
       "        text-align: right;\n",
       "    }\n",
       "</style>\n",
       "<table border=\"1\" class=\"dataframe\">\n",
       "  <thead>\n",
       "    <tr style=\"text-align: right;\">\n",
       "      <th></th>\n",
       "      <th>Event</th>\n",
       "      <th>White</th>\n",
       "      <th>Black</th>\n",
       "      <th>Result</th>\n",
       "      <th>WhiteElo</th>\n",
       "      <th>BlackElo</th>\n",
       "      <th>WhiteRatingDiff</th>\n",
       "      <th>BlackRatingDiff</th>\n",
       "      <th>TimeControl</th>\n",
       "      <th>Termination</th>\n",
       "      <th>AN</th>\n",
       "      <th>datetime</th>\n",
       "      <th>timestamp</th>\n",
       "      <th>name_of_pl_playing_1st_game</th>\n",
       "      <th>name_of_pl_playing_2nd_game</th>\n",
       "      <th>both_players_1st_game</th>\n",
       "      <th>both_players_2nd_game</th>\n",
       "    </tr>\n",
       "  </thead>\n",
       "  <tbody>\n",
       "  </tbody>\n",
       "</table>\n",
       "</div>"
      ],
      "text/plain": [
       "Empty DataFrame\n",
       "Columns: [Event, White, Black, Result, WhiteElo, BlackElo, WhiteRatingDiff, BlackRatingDiff, TimeControl, Termination, AN, datetime, timestamp, name_of_pl_playing_1st_game, name_of_pl_playing_2nd_game, both_players_1st_game, both_players_2nd_game]\n",
       "Index: []"
      ]
     },
     "execution_count": 35,
     "metadata": {},
     "output_type": "execute_result"
    }
   ],
   "source": [
    "new_pl_2nd_games"
   ]
  },
  {
   "cell_type": "code",
   "execution_count": 36,
   "id": "a3ef9381-a563-4506-9b3b-b550e0478004",
   "metadata": {},
   "outputs": [],
   "source": [
    "#Initialize a dictionary of the form {new_player_name : 2nd_game_opponent_name}\n",
    "new_pl_2nd_game_opponents = {}\n",
    "#Keep track of the times of the second games, so that we can later find the opponent's\n",
    "#game that immediately preceded this game (if it exists)\n",
    "#This dictionary looks like {new_player_name : timestamp_of_her_2nd_game}\n",
    "new_pl_2nd_game_times = {}\n",
    "\n",
    "\n",
    "#Loop over the rows of our dataframe\n",
    "for ind, row in df.iterrows():\n",
    "    white_name = row['White']\n",
    "    black_name = row['Black']\n",
    "    \n",
    "    #If neither player is one of the players who is new this month and will go on to play\n",
    "    #at least 2 games this month, then skip this row\n",
    "    if (white_name not in new_played2) and (black_name not in new_played2):\n",
    "        continue\n",
    "    \n",
    "    #Make booleans that say, for each player, whether that player is new and playing her\n",
    "    #first (second) game\n",
    "    if white_name in new_played2:\n",
    "        white_1st_game = int(row['timestamp'] == game_times[white_name][0])\n",
    "        white_2nd_game = int(row['timestamp'] == game_times[white_name][1])\n",
    "    else:\n",
    "        white_1st_game = 0\n",
    "        white_2nd_game = 0\n",
    "            \n",
    "    if black_name in new_played2:\n",
    "        black_1st_game = int(row['timestamp'] == game_times[black_name][0])\n",
    "        black_2nd_game = int(row['timestamp'] == game_times[black_name][1])\n",
    "    else:\n",
    "        black_1st_game = 0\n",
    "        black_2nd_game = 0\n",
    "        \n",
    "        \n",
    "        \n",
    "    #If neither player is new and playing her 1st/2nd game, we can skip this row\n",
    "    if not (white_1st_game or white_2nd_game or black_1st_game or black_2nd_game):\n",
    "        continue\n",
    "        \n",
    "        \n",
    "    #Otherwise, extract a copy of the current row as a series so that we can add it to the\n",
    "    #appropriate dataframe(s) (with appropriate modification)\n",
    "    current_row = copy.deepcopy(row)\n",
    "    \n",
    "    \n",
    "    \n",
    "    #If BOTH players are new players who are playing their FIRST game, then record\n",
    "    #this row TWICE in the new_pl_1st_games dataframe (with W and B's names \n",
    "    #as the 'name_of_pl_playing_1st_game' value, respectively):\n",
    "    if white_1st_game and black_1st_game:\n",
    "        current_row['both_players_1st_game'] = 1\n",
    "        current_row['name_of_pl_playing_1st_game'] = white_name\n",
    "        \n",
    "        row_duplicate = copy.deepcopy(current_row)\n",
    "        row_duplicate['name_of_pl_playing_1st_game'] = black_name\n",
    "        \n",
    "        new_pl_1st_games = new_pl_1st_games.append(current_row, ignore_index=True)\n",
    "        new_pl_1st_games = new_pl_1st_games.append(row_duplicate, ignore_index=True)\n",
    "        \n",
    "        \n",
    "        \n",
    "    #If BOTH players are new players who are playing their SECOND game, then record\n",
    "    #this row TWICE in the new_pl_2nd_games dataframe (with W and B's names \n",
    "    #as the 'name_of_pl_playing_2nd_game' value, respectively):\n",
    "    elif white_2nd_game and black_2nd_game:\n",
    "        current_row['both_players_2nd_game'] = 1\n",
    "        current_row['name_of_pl_playing_2nd_game'] = white_name\n",
    "        \n",
    "        row_duplicate = copy.deepcopy(current_row)\n",
    "        row_duplicate['name_of_pl_playing_2nd_game'] = black_name\n",
    "        \n",
    "        new_pl_2nd_games = new_pl_2nd_games.append(current_row, ignore_index=True)\n",
    "        new_pl_2nd_games = new_pl_2nd_games.append(row_duplicate, ignore_index=True)\n",
    "        \n",
    "        #Also, record BOTH players in our dict of 2nd-game opponents of new players:\n",
    "        new_pl_2nd_game_opponents[white_name] = black_name\n",
    "        new_pl_2nd_game_opponents[black_name] = white_name\n",
    "\n",
    "        new_pl_2nd_game_times[white_name] = row['timestamp']\n",
    "        new_pl_2nd_game_times[black_name] = row['timestamp']\n",
    "    \n",
    "    \n",
    "    \n",
    "    #Otherwise, exactly one player is new and playing her first game OR exactly one player is new\n",
    "    #and playing her second game (or both).  We follow the same method as above, but now we don't\n",
    "    #need to worry about having to duplicate the row.\n",
    "    else:\n",
    "        \n",
    "        if white_1st_game:\n",
    "            current_row['name_of_pl_playing_1st_game'] = white_name\n",
    "            new_pl_1st_games = new_pl_1st_games.append(current_row, ignore_index=True)\n",
    "            \n",
    "        if black_1st_game:\n",
    "            current_row['name_of_pl_playing_1st_game'] = black_name\n",
    "            new_pl_1st_games = new_pl_1st_games.append(current_row, ignore_index=True)\n",
    "        \n",
    "        if white_2nd_game:\n",
    "            current_row['name_of_pl_playing_2nd_game'] = white_name\n",
    "            new_pl_2nd_games = new_pl_2nd_games.append(current_row, ignore_index=True)\n",
    "            \n",
    "            new_pl_2nd_game_opponents[white_name] = black_name\n",
    "            new_pl_2nd_game_times[white_name] = row['timestamp']\n",
    "            \n",
    "        if black_2nd_game:\n",
    "            current_row['name_of_pl_playing_2nd_game'] = black_name\n",
    "            new_pl_2nd_games = new_pl_2nd_games.append(current_row, ignore_index=True)\n",
    "            \n",
    "            new_pl_2nd_game_opponents[black_name] = white_name\n",
    "            new_pl_2nd_game_times[black_name] = row['timestamp']\n"
   ]
  },
  {
   "cell_type": "code",
   "execution_count": 37,
   "id": "e87b43c9-8b84-42e0-b9e3-ab9021ec4dde",
   "metadata": {},
   "outputs": [
    {
     "data": {
      "text/html": [
       "<div>\n",
       "<style scoped>\n",
       "    .dataframe tbody tr th:only-of-type {\n",
       "        vertical-align: middle;\n",
       "    }\n",
       "\n",
       "    .dataframe tbody tr th {\n",
       "        vertical-align: top;\n",
       "    }\n",
       "\n",
       "    .dataframe thead th {\n",
       "        text-align: right;\n",
       "    }\n",
       "</style>\n",
       "<table border=\"1\" class=\"dataframe\">\n",
       "  <thead>\n",
       "    <tr style=\"text-align: right;\">\n",
       "      <th></th>\n",
       "      <th>Event</th>\n",
       "      <th>White</th>\n",
       "      <th>Black</th>\n",
       "      <th>Result</th>\n",
       "      <th>WhiteElo</th>\n",
       "      <th>BlackElo</th>\n",
       "      <th>WhiteRatingDiff</th>\n",
       "      <th>BlackRatingDiff</th>\n",
       "      <th>TimeControl</th>\n",
       "      <th>Termination</th>\n",
       "      <th>AN</th>\n",
       "      <th>datetime</th>\n",
       "      <th>timestamp</th>\n",
       "      <th>name_of_pl_playing_1st_game</th>\n",
       "      <th>name_of_pl_playing_2nd_game</th>\n",
       "      <th>both_players_1st_game</th>\n",
       "      <th>both_players_2nd_game</th>\n",
       "    </tr>\n",
       "  </thead>\n",
       "  <tbody>\n",
       "    <tr>\n",
       "      <th>0</th>\n",
       "      <td>Classical</td>\n",
       "      <td>fabikim</td>\n",
       "      <td>sereno</td>\n",
       "      <td>1-0</td>\n",
       "      <td>1630</td>\n",
       "      <td>1500</td>\n",
       "      <td>7.0</td>\n",
       "      <td>-7.0</td>\n",
       "      <td>420+5</td>\n",
       "      <td>Normal</td>\n",
       "      <td>1. e4 e5 2. Nf3 d6 3. Bc4 Nc6 4. d3 Na5 5. Na3...</td>\n",
       "      <td>2016-06-30 22:00:02</td>\n",
       "      <td>1.467324e+09</td>\n",
       "      <td>sereno</td>\n",
       "      <td>NaN</td>\n",
       "      <td>NaN</td>\n",
       "      <td>NaN</td>\n",
       "    </tr>\n",
       "  </tbody>\n",
       "</table>\n",
       "</div>"
      ],
      "text/plain": [
       "       Event    White   Black Result  WhiteElo  BlackElo  WhiteRatingDiff  \\\n",
       "0  Classical  fabikim  sereno    1-0      1630      1500              7.0   \n",
       "\n",
       "   BlackRatingDiff TimeControl Termination  \\\n",
       "0             -7.0       420+5      Normal   \n",
       "\n",
       "                                                  AN            datetime  \\\n",
       "0  1. e4 e5 2. Nf3 d6 3. Bc4 Nc6 4. d3 Na5 5. Na3... 2016-06-30 22:00:02   \n",
       "\n",
       "      timestamp name_of_pl_playing_1st_game  name_of_pl_playing_2nd_game  \\\n",
       "0  1.467324e+09                      sereno                          NaN   \n",
       "\n",
       "   both_players_1st_game  both_players_2nd_game  \n",
       "0                    NaN                    NaN  "
      ]
     },
     "execution_count": 37,
     "metadata": {},
     "output_type": "execute_result"
    }
   ],
   "source": [
    "new_pl_1st_games.head(1)"
   ]
  },
  {
   "cell_type": "code",
   "execution_count": 38,
   "id": "f128066a-f5eb-4eb9-bf52-28055ec1f867",
   "metadata": {},
   "outputs": [
    {
     "data": {
      "text/html": [
       "<div>\n",
       "<style scoped>\n",
       "    .dataframe tbody tr th:only-of-type {\n",
       "        vertical-align: middle;\n",
       "    }\n",
       "\n",
       "    .dataframe tbody tr th {\n",
       "        vertical-align: top;\n",
       "    }\n",
       "\n",
       "    .dataframe thead th {\n",
       "        text-align: right;\n",
       "    }\n",
       "</style>\n",
       "<table border=\"1\" class=\"dataframe\">\n",
       "  <thead>\n",
       "    <tr style=\"text-align: right;\">\n",
       "      <th></th>\n",
       "      <th>Event</th>\n",
       "      <th>White</th>\n",
       "      <th>Black</th>\n",
       "      <th>Result</th>\n",
       "      <th>WhiteElo</th>\n",
       "      <th>BlackElo</th>\n",
       "      <th>WhiteRatingDiff</th>\n",
       "      <th>BlackRatingDiff</th>\n",
       "      <th>TimeControl</th>\n",
       "      <th>Termination</th>\n",
       "      <th>AN</th>\n",
       "      <th>datetime</th>\n",
       "      <th>timestamp</th>\n",
       "      <th>name_of_pl_playing_1st_game</th>\n",
       "      <th>name_of_pl_playing_2nd_game</th>\n",
       "      <th>both_players_1st_game</th>\n",
       "      <th>both_players_2nd_game</th>\n",
       "    </tr>\n",
       "  </thead>\n",
       "  <tbody>\n",
       "    <tr>\n",
       "      <th>0</th>\n",
       "      <td>Blitz</td>\n",
       "      <td>Kevpod</td>\n",
       "      <td>ale19</td>\n",
       "      <td>0-1</td>\n",
       "      <td>1500</td>\n",
       "      <td>1412</td>\n",
       "      <td>-222.0</td>\n",
       "      <td>9.0</td>\n",
       "      <td>300+1</td>\n",
       "      <td>Time forfeit</td>\n",
       "      <td>1. d4 { [%eval 0.2] } 1... Nf6 { [%eval 0.2] }...</td>\n",
       "      <td>2016-06-30 22:06:12</td>\n",
       "      <td>1.467324e+09</td>\n",
       "      <td>NaN</td>\n",
       "      <td>Kevpod</td>\n",
       "      <td>NaN</td>\n",
       "      <td>NaN</td>\n",
       "    </tr>\n",
       "  </tbody>\n",
       "</table>\n",
       "</div>"
      ],
      "text/plain": [
       "   Event   White  Black Result  WhiteElo  BlackElo  WhiteRatingDiff  \\\n",
       "0  Blitz  Kevpod  ale19    0-1      1500      1412           -222.0   \n",
       "\n",
       "   BlackRatingDiff TimeControl   Termination  \\\n",
       "0              9.0       300+1  Time forfeit   \n",
       "\n",
       "                                                  AN            datetime  \\\n",
       "0  1. d4 { [%eval 0.2] } 1... Nf6 { [%eval 0.2] }... 2016-06-30 22:06:12   \n",
       "\n",
       "      timestamp name_of_pl_playing_1st_game name_of_pl_playing_2nd_game  \\\n",
       "0  1.467324e+09                         NaN                      Kevpod   \n",
       "\n",
       "   both_players_1st_game  both_players_2nd_game  \n",
       "0                    NaN                    NaN  "
      ]
     },
     "execution_count": 38,
     "metadata": {},
     "output_type": "execute_result"
    }
   ],
   "source": [
    "new_pl_2nd_games.head(1)"
   ]
  },
  {
   "cell_type": "code",
   "execution_count": 39,
   "id": "5f5de0b1-36e1-4032-bd56-b7899da020ed",
   "metadata": {},
   "outputs": [
    {
     "data": {
      "text/plain": [
       "24284"
      ]
     },
     "execution_count": 39,
     "metadata": {},
     "output_type": "execute_result"
    }
   ],
   "source": [
    "#Total number of new players who played at least two games in our data (see earlier)\n",
    "len(new_played2)"
   ]
  },
  {
   "cell_type": "code",
   "execution_count": 40,
   "id": "bf05070e-a62b-4ca1-a184-51d2acd395ac",
   "metadata": {},
   "outputs": [
    {
     "data": {
      "text/plain": [
       "(24284, 24284)"
      ]
     },
     "execution_count": 40,
     "metadata": {},
     "output_type": "execute_result"
    }
   ],
   "source": [
    "#Number of new players whose 1st adn 2nd games we actually recorded (respectively)\n",
    "len(new_pl_1st_games), len(new_pl_2nd_games)"
   ]
  },
  {
   "cell_type": "code",
   "execution_count": 41,
   "id": "dfc6dd7b-5f55-4ac8-82a7-790374ecd98d",
   "metadata": {},
   "outputs": [
    {
     "data": {
      "text/plain": [
       "(24284, 24284)"
      ]
     },
     "execution_count": 41,
     "metadata": {},
     "output_type": "execute_result"
    }
   ],
   "source": [
    "#Number of new players whose 2nd-game timestamps and opponent names we recorded (respectively)\n",
    "len(new_pl_2nd_game_times), len(new_pl_2nd_game_opponents)"
   ]
  },
  {
   "cell_type": "markdown",
   "id": "d586d4de-1809-4e8b-acd9-a1ee437aff63",
   "metadata": {},
   "source": [
    "## Exporting these dataframes as CSVs"
   ]
  },
  {
   "cell_type": "markdown",
   "id": "b85a58b3-abb3-441b-8418-b1f740335bdb",
   "metadata": {},
   "source": [
    "Before exporting, we should do three things:\n",
    "1. Drop unnecessary columns.\n",
    "2. Fill in missing values with 0s (see below).\n",
    "3. Change the index of each dataframe to be the name of the *new player* who is playing her 1st or 2nd game."
   ]
  },
  {
   "cell_type": "markdown",
   "id": "cdf997ef-9ab3-4bf2-b9e7-b0cdc1d9548a",
   "metadata": {},
   "source": [
    "### Drop unnecessary columns"
   ]
  },
  {
   "cell_type": "code",
   "execution_count": 42,
   "id": "39e3f9a4-66fa-4a13-b77a-3ee3b56d97f8",
   "metadata": {},
   "outputs": [],
   "source": [
    "new_pl_1st_games.drop(columns=['name_of_pl_playing_2nd_game',\n",
    "                              'both_players_2nd_game'],\n",
    "                      inplace=True)\n",
    "\n",
    "new_pl_2nd_games.drop(columns=['name_of_pl_playing_1st_game',\n",
    "                              'both_players_1st_game'],\n",
    "                      inplace=True)"
   ]
  },
  {
   "cell_type": "code",
   "execution_count": 43,
   "id": "4ed3a238-562a-4203-bf44-af3bd1496f32",
   "metadata": {},
   "outputs": [
    {
     "name": "stdout",
     "output_type": "stream",
     "text": [
      "<class 'pandas.core.frame.DataFrame'>\n",
      "RangeIndex: 24284 entries, 0 to 24283\n",
      "Data columns (total 15 columns):\n",
      " #   Column                       Non-Null Count  Dtype         \n",
      "---  ------                       --------------  -----         \n",
      " 0   Event                        24284 non-null  object        \n",
      " 1   White                        24284 non-null  object        \n",
      " 2   Black                        24284 non-null  object        \n",
      " 3   Result                       24284 non-null  object        \n",
      " 4   WhiteElo                     24284 non-null  int64         \n",
      " 5   BlackElo                     24284 non-null  int64         \n",
      " 6   WhiteRatingDiff              24284 non-null  float64       \n",
      " 7   BlackRatingDiff              24284 non-null  float64       \n",
      " 8   TimeControl                  24284 non-null  object        \n",
      " 9   Termination                  24284 non-null  object        \n",
      " 10  AN                           24284 non-null  object        \n",
      " 11  datetime                     24284 non-null  datetime64[ns]\n",
      " 12  timestamp                    24284 non-null  float64       \n",
      " 13  name_of_pl_playing_1st_game  24284 non-null  object        \n",
      " 14  both_players_1st_game        396 non-null    float64       \n",
      "dtypes: datetime64[ns](1), float64(4), int64(2), object(8)\n",
      "memory usage: 2.8+ MB\n"
     ]
    }
   ],
   "source": [
    "new_pl_1st_games.info()"
   ]
  },
  {
   "cell_type": "code",
   "execution_count": 44,
   "id": "d740071e-9f0a-4c03-8439-a288405f08ed",
   "metadata": {},
   "outputs": [
    {
     "name": "stdout",
     "output_type": "stream",
     "text": [
      "<class 'pandas.core.frame.DataFrame'>\n",
      "RangeIndex: 24284 entries, 0 to 24283\n",
      "Data columns (total 15 columns):\n",
      " #   Column                       Non-Null Count  Dtype         \n",
      "---  ------                       --------------  -----         \n",
      " 0   Event                        24284 non-null  object        \n",
      " 1   White                        24284 non-null  object        \n",
      " 2   Black                        24284 non-null  object        \n",
      " 3   Result                       24284 non-null  object        \n",
      " 4   WhiteElo                     24284 non-null  int64         \n",
      " 5   BlackElo                     24284 non-null  int64         \n",
      " 6   WhiteRatingDiff              24284 non-null  float64       \n",
      " 7   BlackRatingDiff              24284 non-null  float64       \n",
      " 8   TimeControl                  24284 non-null  object        \n",
      " 9   Termination                  24284 non-null  object        \n",
      " 10  AN                           24284 non-null  object        \n",
      " 11  datetime                     24284 non-null  datetime64[ns]\n",
      " 12  timestamp                    24284 non-null  float64       \n",
      " 13  name_of_pl_playing_2nd_game  24284 non-null  object        \n",
      " 14  both_players_2nd_game        348 non-null    float64       \n",
      "dtypes: datetime64[ns](1), float64(4), int64(2), object(8)\n",
      "memory usage: 2.8+ MB\n"
     ]
    }
   ],
   "source": [
    "new_pl_2nd_games.info()"
   ]
  },
  {
   "cell_type": "markdown",
   "id": "9b07ed0d-45a3-4c2e-b426-5dfe040c9fae",
   "metadata": {},
   "source": [
    "### Fill in missing values with 0s\n",
    "\n",
    "The only column in the `new_pl_1st_games` dataframe that contains any missing values is the `both_players_1st_game` column (which merely indicates whether a given row is a matchup between *two* new players, and hence should also appear once elsewhere in the dataframe with the only difference being the name in the `name_of_pl_playing_1st_game` column).  We constructed this column so that it contains a 1 if both players are playing their first game an contains *no value* otherwise.  So we should simply fill in all its missing values with 0.\n",
    "\n",
    "Similarly, the `new_pl_2nd_games` dataframe is onlu missing values in `both_players_2nd_game`, and these should be filled in with 0s."
   ]
  },
  {
   "cell_type": "code",
   "execution_count": 45,
   "id": "71ef2a5e-95fd-4759-a7a5-cc6c96752b51",
   "metadata": {},
   "outputs": [],
   "source": [
    "new_pl_1st_games.fillna(0, inplace=True)\n",
    "new_pl_2nd_games.fillna(0, inplace=True)"
   ]
  },
  {
   "cell_type": "code",
   "execution_count": 46,
   "id": "5a4a07e1-ad55-4aed-bea2-07560304b17a",
   "metadata": {},
   "outputs": [],
   "source": [
    "#Change these 0s and 1s into ints\n",
    "new_pl_1st_games['both_players_1st_game'] = new_pl_1st_games['both_players_1st_game'].astype(int)\n",
    "new_pl_2nd_games['both_players_2nd_game'] = new_pl_2nd_games['both_players_2nd_game'].astype(int)"
   ]
  },
  {
   "cell_type": "markdown",
   "id": "891bd6a8-322b-41d9-a062-38358e825659",
   "metadata": {},
   "source": [
    "### Change the index of each dataframe to be the name of the new player"
   ]
  },
  {
   "cell_type": "code",
   "execution_count": 47,
   "id": "7189f495-0720-45fc-a947-d1c5a6c91647",
   "metadata": {},
   "outputs": [],
   "source": [
    "new_pl_1st_games.set_index('name_of_pl_playing_1st_game', inplace=True)\n",
    "new_pl_2nd_games.set_index('name_of_pl_playing_2nd_game', inplace=True)"
   ]
  },
  {
   "cell_type": "code",
   "execution_count": 48,
   "id": "8fccbe99-9369-41ea-9786-fad17a1704f0",
   "metadata": {},
   "outputs": [
    {
     "data": {
      "text/html": [
       "<div>\n",
       "<style scoped>\n",
       "    .dataframe tbody tr th:only-of-type {\n",
       "        vertical-align: middle;\n",
       "    }\n",
       "\n",
       "    .dataframe tbody tr th {\n",
       "        vertical-align: top;\n",
       "    }\n",
       "\n",
       "    .dataframe thead th {\n",
       "        text-align: right;\n",
       "    }\n",
       "</style>\n",
       "<table border=\"1\" class=\"dataframe\">\n",
       "  <thead>\n",
       "    <tr style=\"text-align: right;\">\n",
       "      <th></th>\n",
       "      <th>Event</th>\n",
       "      <th>White</th>\n",
       "      <th>Black</th>\n",
       "      <th>Result</th>\n",
       "      <th>WhiteElo</th>\n",
       "      <th>BlackElo</th>\n",
       "      <th>WhiteRatingDiff</th>\n",
       "      <th>BlackRatingDiff</th>\n",
       "      <th>TimeControl</th>\n",
       "      <th>Termination</th>\n",
       "      <th>AN</th>\n",
       "      <th>datetime</th>\n",
       "      <th>timestamp</th>\n",
       "      <th>both_players_1st_game</th>\n",
       "    </tr>\n",
       "    <tr>\n",
       "      <th>name_of_pl_playing_1st_game</th>\n",
       "      <th></th>\n",
       "      <th></th>\n",
       "      <th></th>\n",
       "      <th></th>\n",
       "      <th></th>\n",
       "      <th></th>\n",
       "      <th></th>\n",
       "      <th></th>\n",
       "      <th></th>\n",
       "      <th></th>\n",
       "      <th></th>\n",
       "      <th></th>\n",
       "      <th></th>\n",
       "      <th></th>\n",
       "    </tr>\n",
       "  </thead>\n",
       "  <tbody>\n",
       "    <tr>\n",
       "      <th>sereno</th>\n",
       "      <td>Classical</td>\n",
       "      <td>fabikim</td>\n",
       "      <td>sereno</td>\n",
       "      <td>1-0</td>\n",
       "      <td>1630</td>\n",
       "      <td>1500</td>\n",
       "      <td>7.0</td>\n",
       "      <td>-7.0</td>\n",
       "      <td>420+5</td>\n",
       "      <td>Normal</td>\n",
       "      <td>1. e4 e5 2. Nf3 d6 3. Bc4 Nc6 4. d3 Na5 5. Na3...</td>\n",
       "      <td>2016-06-30 22:00:02</td>\n",
       "      <td>1.467324e+09</td>\n",
       "      <td>0</td>\n",
       "    </tr>\n",
       "  </tbody>\n",
       "</table>\n",
       "</div>"
      ],
      "text/plain": [
       "                                 Event    White   Black Result  WhiteElo  \\\n",
       "name_of_pl_playing_1st_game                                                \n",
       "sereno                       Classical  fabikim  sereno    1-0      1630   \n",
       "\n",
       "                             BlackElo  WhiteRatingDiff  BlackRatingDiff  \\\n",
       "name_of_pl_playing_1st_game                                               \n",
       "sereno                           1500              7.0             -7.0   \n",
       "\n",
       "                            TimeControl Termination  \\\n",
       "name_of_pl_playing_1st_game                           \n",
       "sereno                            420+5      Normal   \n",
       "\n",
       "                                                                            AN  \\\n",
       "name_of_pl_playing_1st_game                                                      \n",
       "sereno                       1. e4 e5 2. Nf3 d6 3. Bc4 Nc6 4. d3 Na5 5. Na3...   \n",
       "\n",
       "                                       datetime     timestamp  \\\n",
       "name_of_pl_playing_1st_game                                     \n",
       "sereno                      2016-06-30 22:00:02  1.467324e+09   \n",
       "\n",
       "                             both_players_1st_game  \n",
       "name_of_pl_playing_1st_game                         \n",
       "sereno                                           0  "
      ]
     },
     "execution_count": 48,
     "metadata": {},
     "output_type": "execute_result"
    }
   ],
   "source": [
    "new_pl_1st_games.head(1)"
   ]
  },
  {
   "cell_type": "code",
   "execution_count": 49,
   "id": "2100b15d-8db1-48e6-9b39-e341f613606c",
   "metadata": {},
   "outputs": [
    {
     "data": {
      "text/html": [
       "<div>\n",
       "<style scoped>\n",
       "    .dataframe tbody tr th:only-of-type {\n",
       "        vertical-align: middle;\n",
       "    }\n",
       "\n",
       "    .dataframe tbody tr th {\n",
       "        vertical-align: top;\n",
       "    }\n",
       "\n",
       "    .dataframe thead th {\n",
       "        text-align: right;\n",
       "    }\n",
       "</style>\n",
       "<table border=\"1\" class=\"dataframe\">\n",
       "  <thead>\n",
       "    <tr style=\"text-align: right;\">\n",
       "      <th></th>\n",
       "      <th>Event</th>\n",
       "      <th>White</th>\n",
       "      <th>Black</th>\n",
       "      <th>Result</th>\n",
       "      <th>WhiteElo</th>\n",
       "      <th>BlackElo</th>\n",
       "      <th>WhiteRatingDiff</th>\n",
       "      <th>BlackRatingDiff</th>\n",
       "      <th>TimeControl</th>\n",
       "      <th>Termination</th>\n",
       "      <th>AN</th>\n",
       "      <th>datetime</th>\n",
       "      <th>timestamp</th>\n",
       "      <th>both_players_2nd_game</th>\n",
       "    </tr>\n",
       "    <tr>\n",
       "      <th>name_of_pl_playing_2nd_game</th>\n",
       "      <th></th>\n",
       "      <th></th>\n",
       "      <th></th>\n",
       "      <th></th>\n",
       "      <th></th>\n",
       "      <th></th>\n",
       "      <th></th>\n",
       "      <th></th>\n",
       "      <th></th>\n",
       "      <th></th>\n",
       "      <th></th>\n",
       "      <th></th>\n",
       "      <th></th>\n",
       "      <th></th>\n",
       "    </tr>\n",
       "  </thead>\n",
       "  <tbody>\n",
       "    <tr>\n",
       "      <th>Kevpod</th>\n",
       "      <td>Blitz</td>\n",
       "      <td>Kevpod</td>\n",
       "      <td>ale19</td>\n",
       "      <td>0-1</td>\n",
       "      <td>1500</td>\n",
       "      <td>1412</td>\n",
       "      <td>-222.0</td>\n",
       "      <td>9.0</td>\n",
       "      <td>300+1</td>\n",
       "      <td>Time forfeit</td>\n",
       "      <td>1. d4 { [%eval 0.2] } 1... Nf6 { [%eval 0.2] }...</td>\n",
       "      <td>2016-06-30 22:06:12</td>\n",
       "      <td>1.467324e+09</td>\n",
       "      <td>0</td>\n",
       "    </tr>\n",
       "  </tbody>\n",
       "</table>\n",
       "</div>"
      ],
      "text/plain": [
       "                             Event   White  Black Result  WhiteElo  BlackElo  \\\n",
       "name_of_pl_playing_2nd_game                                                    \n",
       "Kevpod                       Blitz  Kevpod  ale19    0-1      1500      1412   \n",
       "\n",
       "                             WhiteRatingDiff  BlackRatingDiff TimeControl  \\\n",
       "name_of_pl_playing_2nd_game                                                 \n",
       "Kevpod                                -222.0              9.0       300+1   \n",
       "\n",
       "                              Termination  \\\n",
       "name_of_pl_playing_2nd_game                 \n",
       "Kevpod                       Time forfeit   \n",
       "\n",
       "                                                                            AN  \\\n",
       "name_of_pl_playing_2nd_game                                                      \n",
       "Kevpod                       1. d4 { [%eval 0.2] } 1... Nf6 { [%eval 0.2] }...   \n",
       "\n",
       "                                       datetime     timestamp  \\\n",
       "name_of_pl_playing_2nd_game                                     \n",
       "Kevpod                      2016-06-30 22:06:12  1.467324e+09   \n",
       "\n",
       "                             both_players_2nd_game  \n",
       "name_of_pl_playing_2nd_game                         \n",
       "Kevpod                                           0  "
      ]
     },
     "execution_count": 49,
     "metadata": {},
     "output_type": "execute_result"
    }
   ],
   "source": [
    "new_pl_2nd_games.head(1)"
   ]
  },
  {
   "cell_type": "markdown",
   "id": "db1703a0-226d-40f6-9a99-df413d2fdb77",
   "metadata": {},
   "source": [
    "### Export as CSVs"
   ]
  },
  {
   "cell_type": "code",
   "execution_count": 50,
   "id": "972361c7-cc7c-415f-a1f8-7cbc837154c9",
   "metadata": {},
   "outputs": [
    {
     "data": {
      "text/plain": [
       "True"
      ]
     },
     "execution_count": 50,
     "metadata": {},
     "output_type": "execute_result"
    }
   ],
   "source": [
    "#Check if these two dataframes have the same unique players in their index sets\n",
    "players1 = set(new_pl_1st_games.index)\n",
    "players2 = set(new_pl_2nd_games.index)\n",
    "players2==players1"
   ]
  },
  {
   "cell_type": "code",
   "execution_count": 51,
   "id": "ac5b3b62-5675-4893-8c1a-9cb0a308d04a",
   "metadata": {},
   "outputs": [
    {
     "data": {
      "text/plain": [
       "True"
      ]
     },
     "execution_count": 51,
     "metadata": {},
     "output_type": "execute_result"
    }
   ],
   "source": [
    "#Check that no player appears more than once in the index\n",
    "len(new_pl_1st_games.index) == len(set(new_pl_1st_games.index))"
   ]
  },
  {
   "cell_type": "code",
   "execution_count": 52,
   "id": "ef09691d-d3fc-4565-8aa4-624fd1ccb939",
   "metadata": {},
   "outputs": [],
   "source": [
    "#Since all is good, export the dataframes as CSVs\n",
    "new_pl_1st_games.to_csv('../data/processed/new_pl_1st_games.csv', index_label='name_of_pl_playing_1st_game')\n",
    "new_pl_2nd_games.to_csv('../data/processed/new_pl_2nd_games.csv', index_label='name_of_pl_playing_2nd_game')"
   ]
  },
  {
   "cell_type": "markdown",
   "id": "959197be-64e7-4e33-bc2f-36b5dc639ff8",
   "metadata": {},
   "source": [
    "# Find the games played by the second-game opponents of the new players *immediately before* that new player's second game"
   ]
  },
  {
   "cell_type": "code",
   "execution_count": 53,
   "id": "1612db52-9c17-4c11-8b92-6e514a7e665d",
   "metadata": {},
   "outputs": [],
   "source": [
    "#Make a dictionary whose KEYS are the names \"X\" of the 2nd-game opponents of the new players\n",
    "#and whose VALUES are sets of the new players for whom \"X\" will be the second opponent.\n",
    "#This will enable faster lookup based on the (2nd-game) OPPONENTS of the new players.\n",
    "\n",
    "opp_names_dict = {}\n",
    "\n",
    "opp_names = set(new_pl_2nd_game_opponents.values())\n",
    "for opp_name in opp_names:\n",
    "    #Initialize empty sets\n",
    "    opp_names_dict[opp_name] = set()\n",
    "\n",
    "#Loop over the new players\n",
    "for new_player in new_pl_2nd_game_opponents.keys():\n",
    "    #Record the second-game opponent of this new player\n",
    "    opp_2nd_game = new_pl_2nd_game_opponents[new_player]\n",
    "    #Add this new player to that opponent's set in the dictionary\n",
    "    opp_names_dict[opp_2nd_game].add(new_player)"
   ]
  },
  {
   "cell_type": "code",
   "execution_count": 54,
   "id": "54b8e436-b454-4d7e-8ae0-ff12bb167c05",
   "metadata": {},
   "outputs": [
    {
     "data": {
      "text/plain": [
       "{'deiaa11', 'lucasruaa5'}"
      ]
     },
     "execution_count": 54,
     "metadata": {},
     "output_type": "execute_result"
    }
   ],
   "source": [
    "#An example: Who are all of the new players for whom the player named \"Deathclaw\"\n",
    "#serves as their second opponent ever?\n",
    "opp_names_dict['Deathclaw']"
   ]
  },
  {
   "cell_type": "code",
   "execution_count": 55,
   "id": "f68e17dc-920b-4a35-a77b-89a2c97c5faf",
   "metadata": {},
   "outputs": [
    {
     "data": {
      "text/plain": [
       "17001"
      ]
     },
     "execution_count": 55,
     "metadata": {},
     "output_type": "execute_result"
    }
   ],
   "source": [
    "#How many distinct players are there among the second-game opponents of the new players?\n",
    "len(opp_names_dict)"
   ]
  },
  {
   "cell_type": "code",
   "execution_count": 56,
   "id": "cf680778-556a-4046-8c9e-9c966fe90a00",
   "metadata": {},
   "outputs": [
    {
     "data": {
      "text/plain": [
       "24284"
      ]
     },
     "execution_count": 56,
     "metadata": {},
     "output_type": "execute_result"
    }
   ],
   "source": [
    "#Do we still have each new player's second game recorded exactly once?\n",
    "#If so, then this cell should output the same number as len(new_played2) above\n",
    "sum([len(opp_names_dict[x]) for x in opp_names_dict.keys()])"
   ]
  },
  {
   "cell_type": "markdown",
   "id": "8987e044-ef1e-4e38-b9ab-4f5fc132ec83",
   "metadata": {},
   "source": [
    "### Get the timestamps of the new players' 2nd-game opponents' immediately-previous games (if they exist)\n",
    "\n",
    "As we discussed earlier in this notebook, we will not concern ourselves with the possibility that some such opponent has multiple games with the same immediately-prior-to-facing-the-new-player timestamp.  We will simply pick any one of these games whose timestamp immediately precedes the timestamp of the game against the new player; we will call the game we picked the \"opponent's most recent previous game.\"  This is hardly an untruth, as it is *one of* that opponent's immediately-previous games! "
   ]
  },
  {
   "cell_type": "code",
   "execution_count": 57,
   "id": "03638232-a7c0-48d8-a691-2fb7ca3d594b",
   "metadata": {},
   "outputs": [],
   "source": [
    "#Initialize a dictionary of dictionaries\n",
    "opp_previous_games_dict = {opp : {} for opp in opp_names_dict.keys()}\n",
    "#Initialize sets\n",
    "new_players_whose_2nd_opponents_have_no_previous_game = set()\n",
    "new_players_whose_2nd_opponents_have_a_previous_game = set()\n",
    "\n",
    "for opp in opp_names_dict.keys():\n",
    "    for new_player in opp_names_dict[opp]:\n",
    "        #Get the game time of the new player's 2nd game\n",
    "        gametime_2nd = game_times[new_player][1]\n",
    "        #Get all of the game times for that new player's 2nd-game opponent that are earlier (or equal to)\n",
    "        #the time of the new player's 2nd game\n",
    "        opp_earlier_gametimes = [x for x in game_times[opp] if x < gametime_2nd]\n",
    "        \n",
    "        #If that 2nd-game opponent has NO earlier games, then record a \"N/A\" for this new player and\n",
    "        #record the name of the new player\n",
    "        if len(opp_earlier_gametimes) == 0:\n",
    "            opp_previous_games_dict[opp][new_player] = 'N/A'\n",
    "            new_players_whose_2nd_opponents_have_no_previous_game.add(new_player)\n",
    "        #Otherwise, take the most recent of these prior games\n",
    "        else:\n",
    "            opp_previous_games_dict[opp][new_player] = opp_earlier_gametimes[-1]\n",
    "            new_players_whose_2nd_opponents_have_a_previous_game.add(new_player)\n",
    "        "
   ]
  },
  {
   "cell_type": "code",
   "execution_count": 58,
   "id": "4b1133f6-5c35-40fa-85bc-a2a70223f785",
   "metadata": {},
   "outputs": [
    {
     "data": {
      "text/plain": [
       "{'lucasruaa5': 1468561735.0, 'deiaa11': 1469481019.0}"
      ]
     },
     "execution_count": 58,
     "metadata": {},
     "output_type": "execute_result"
    }
   ],
   "source": [
    "#What are the timestamps of the games that the player \"Deathclaw\" played\n",
    "#immediately prior to facing the new players (in those new players' 2nd games)?\n",
    "opp_previous_games_dict['Deathclaw']"
   ]
  },
  {
   "cell_type": "code",
   "execution_count": 59,
   "id": "a1d16e75-f7d3-4c01-a85f-013fdc97d8d7",
   "metadata": {},
   "outputs": [
    {
     "data": {
      "text/plain": [
       "465"
      ]
     },
     "execution_count": 59,
     "metadata": {},
     "output_type": "execute_result"
    }
   ],
   "source": [
    "#How many new players have a 2nd-game opponent who had played no previous games that month?\n",
    "len(new_players_whose_2nd_opponents_have_no_previous_game)"
   ]
  },
  {
   "cell_type": "code",
   "execution_count": 60,
   "id": "378e1ccb-b111-4427-905b-27754c96eddd",
   "metadata": {},
   "outputs": [
    {
     "data": {
      "text/plain": [
       "0"
      ]
     },
     "execution_count": 60,
     "metadata": {},
     "output_type": "execute_result"
    }
   ],
   "source": [
    "#Check that there are no new players in common between those we've sorted as \"2nd-game opponent\n",
    "#has no previous game\" and those we've sorted as \"2nd-game opponent has a previous game\"\n",
    "len(new_players_whose_2nd_opponents_have_no_previous_game.intersection(new_players_whose_2nd_opponents_have_a_previous_game))"
   ]
  },
  {
   "cell_type": "code",
   "execution_count": 61,
   "id": "01e428f6-3f4c-4717-93e7-1c6b4f83f4c1",
   "metadata": {},
   "outputs": [
    {
     "data": {
      "text/plain": [
       "24284"
      ]
     },
     "execution_count": 61,
     "metadata": {},
     "output_type": "execute_result"
    }
   ],
   "source": [
    "#Do we still have each new player recorded exactly once?\n",
    "#If so, then this cell should output the same number as len(new_played2) above\n",
    "len(new_players_whose_2nd_opponents_have_a_previous_game) + len(new_players_whose_2nd_opponents_have_no_previous_game)"
   ]
  },
  {
   "cell_type": "code",
   "execution_count": 62,
   "id": "fb4cd0f3-f842-463c-8aea-40e65802baa5",
   "metadata": {},
   "outputs": [
    {
     "data": {
      "text/plain": [
       "0"
      ]
     },
     "execution_count": 62,
     "metadata": {},
     "output_type": "execute_result"
    }
   ],
   "source": [
    "#How many of these second-round opponents of new players have non-distinct game timestamps\n",
    "#among the timestamps we found for the games they played immediately before playing a new\n",
    "#player (in that new player's 2nd game)?\n",
    "bad_opps = set()\n",
    "\n",
    "for opp in opp_names_dict.keys():\n",
    "    distinct_times = set(opp_previous_games_dict[opp].values())\n",
    "    if len(distinct_times) != len(opp_previous_games_dict[opp]):\n",
    "        bad_opps.add(opp)\n",
    "        \n",
    "len(bad_opps)"
   ]
  },
  {
   "cell_type": "markdown",
   "id": "9ffb4ebb-e4be-4043-90ba-4628f599938e",
   "metadata": {},
   "source": [
    "Since there are no \"bad opponents\" in this sense, we need not worry about duplicate timestamps in the code that appears below (in the large cell that loops through the rows of the dataframe).  Basically, we don't need to worry that a player like \"Deathclaw\" (who constitutes the 2nd-game opponent of multiple new players) has non-distinct game timestamps among those games played \"immediately prior\" to playing a new player (as a 2nd-game opponent)."
   ]
  },
  {
   "cell_type": "markdown",
   "id": "c6d9c7fe-f976-4dae-bad2-8757cb4c4354",
   "metadata": {},
   "source": [
    "### Create a dataframe of the 2nd-game opponents' previous games"
   ]
  },
  {
   "cell_type": "code",
   "execution_count": 63,
   "id": "e1922b48-1f39-45a1-b808-4dcd231050df",
   "metadata": {},
   "outputs": [
    {
     "data": {
      "text/html": [
       "<div>\n",
       "<style scoped>\n",
       "    .dataframe tbody tr th:only-of-type {\n",
       "        vertical-align: middle;\n",
       "    }\n",
       "\n",
       "    .dataframe tbody tr th {\n",
       "        vertical-align: top;\n",
       "    }\n",
       "\n",
       "    .dataframe thead th {\n",
       "        text-align: right;\n",
       "    }\n",
       "</style>\n",
       "<table border=\"1\" class=\"dataframe\">\n",
       "  <thead>\n",
       "    <tr style=\"text-align: right;\">\n",
       "      <th></th>\n",
       "      <th>Event</th>\n",
       "      <th>White</th>\n",
       "      <th>Black</th>\n",
       "      <th>Result</th>\n",
       "      <th>WhiteElo</th>\n",
       "      <th>BlackElo</th>\n",
       "      <th>WhiteRatingDiff</th>\n",
       "      <th>BlackRatingDiff</th>\n",
       "      <th>TimeControl</th>\n",
       "      <th>Termination</th>\n",
       "      <th>AN</th>\n",
       "      <th>datetime</th>\n",
       "      <th>timestamp</th>\n",
       "      <th>user_to_play_new_pl</th>\n",
       "      <th>new_pl_to_play</th>\n",
       "      <th>both_users_to_play_new_pl_next</th>\n",
       "      <th>2nd_game_opp_had_no_previous_game</th>\n",
       "    </tr>\n",
       "  </thead>\n",
       "  <tbody>\n",
       "  </tbody>\n",
       "</table>\n",
       "</div>"
      ],
      "text/plain": [
       "Empty DataFrame\n",
       "Columns: [Event, White, Black, Result, WhiteElo, BlackElo, WhiteRatingDiff, BlackRatingDiff, TimeControl, Termination, AN, datetime, timestamp, user_to_play_new_pl, new_pl_to_play, both_users_to_play_new_pl_next, 2nd_game_opp_had_no_previous_game]\n",
       "Index: []"
      ]
     },
     "execution_count": 63,
     "metadata": {},
     "output_type": "execute_result"
    }
   ],
   "source": [
    "new_pl_2nd_opp_previous_games = df.iloc[0:0,:]\n",
    "\n",
    "new_pl_2nd_opp_previous_games['user_to_play_new_pl'] = pd.Series()\n",
    "new_pl_2nd_opp_previous_games['new_pl_to_play'] = pd.Series()\n",
    "new_pl_2nd_opp_previous_games['both_users_to_play_new_pl_next'] = pd.Series()\n",
    "new_pl_2nd_opp_previous_games['2nd_game_opp_had_no_previous_game'] = pd.Series()\n",
    "\n",
    "new_pl_2nd_opp_previous_games"
   ]
  },
  {
   "cell_type": "code",
   "execution_count": 64,
   "id": "562baf15-31f1-4e59-ad71-ab789aa9358f",
   "metadata": {},
   "outputs": [],
   "source": [
    "#Loop over the rows of our dataframe\n",
    "for ind, row in df.iterrows():\n",
    "    white_name = row['White']\n",
    "    black_name = row['Black']\n",
    "    timestamp = row['timestamp']\n",
    "    \n",
    "    #If neither player is a second-game opponent of a new player, skip this row\n",
    "    if (white_name not in opp_names_dict.keys()) and (black_name not in opp_names_dict.keys()):\n",
    "        continue\n",
    "        \n",
    "        \n",
    "    #For each player, determine if this is a game after which that player will play a new player\n",
    "    #(in that new player's 2nd game)\n",
    "    \n",
    "    #Initialize booleans\n",
    "    white_about_to_play_new_pl = 0\n",
    "    black_about_to_play_new_pl = 0\n",
    "    \n",
    "    #Start with the White player\n",
    "    if white_name in opp_names_dict.keys():\n",
    "        #Get the names of all the new players for whom this player will be the 2nd-game opponent\n",
    "        new_players = opp_names_dict[white_name]\n",
    "        #For each such new player, check whether this game has the correct timestamp to be\n",
    "        #that opponent's immediately-previous game\n",
    "        for new_player in new_players:\n",
    "            if opp_previous_games_dict[white_name][new_player] == timestamp:\n",
    "                #If so, update our boolean to 1 and record the name of that new player\n",
    "                white_about_to_play_new_pl = 1\n",
    "                new_pl_who_white_is_about_to_play = new_player\n",
    "                break\n",
    "    \n",
    "    #Do similarly for the Black player\n",
    "    if black_name in opp_names_dict.keys():\n",
    "        new_players = opp_names_dict[black_name]\n",
    "        for new_player in new_players:\n",
    "            if opp_previous_games_dict[black_name][new_player] == timestamp:\n",
    "                black_about_to_play_new_pl = 1\n",
    "                new_pl_who_black_is_about_to_play = new_player\n",
    "                break\n",
    "        \n",
    "        \n",
    "        \n",
    "    #If neither player is about to play a new player (in that new player's 2nd game), skip this row:\n",
    "    if not (white_about_to_play_new_pl or black_about_to_play_new_pl):\n",
    "        continue\n",
    "        \n",
    "        \n",
    "    #Otherwise, extract a copy of the current row as a series so that we can add it to our dataframe\n",
    "    #that we're going to output\n",
    "    current_row = copy.deepcopy(row)\n",
    "\n",
    "    \n",
    "    \n",
    "    \n",
    "    #If BOTH players are about to play a new player (in that new player's 2nd game), then record\n",
    "    #this row TWICE in the new_pl_2nd_opp_previous_games dataframe (with W and B's names \n",
    "    #as the 'user_to_play_new_pl' value, respectively; and with the appropriate new players\n",
    "    #as the 'new_pl_to_play' values):\n",
    "    if white_about_to_play_new_pl and black_about_to_play_new_pl:    \n",
    "        current_row['both_users_to_play_new_pl_next'] = 1\n",
    "        current_row['user_to_play_new_pl'] = white_name\n",
    "        current_row['new_pl_to_play'] = new_pl_who_white_is_about_to_play\n",
    "        \n",
    "        row_duplicate = copy.deepcopy(current_row)\n",
    "        row_duplicate['user_to_play_new_pl'] = black_name\n",
    "        row_duplicate['new_pl_to_play'] = new_pl_who_black_is_about_to_play\n",
    "        \n",
    "        new_pl_2nd_opp_previous_games = new_pl_2nd_opp_previous_games.append(current_row, ignore_index=True)\n",
    "        new_pl_2nd_opp_previous_games = new_pl_2nd_opp_previous_games.append(row_duplicate, ignore_index=True)\n",
    "        \n",
    "            \n",
    "    \n",
    "    #Otherwise, exactly one player is about to play a new player (in that new player's 2nd game).\n",
    "    #We follow the same method as above, but now we don't need to worry about having to duplicate the row.\n",
    "    else:\n",
    "        \n",
    "        if white_about_to_play_new_pl:\n",
    "            current_row['user_to_play_new_pl'] = white_name\n",
    "            current_row['new_pl_to_play'] = new_pl_who_white_is_about_to_play\n",
    "            new_pl_2nd_opp_previous_games = new_pl_2nd_opp_previous_games.append(current_row, ignore_index=True)\n",
    "            \n",
    "        if black_about_to_play_new_pl:\n",
    "            current_row['user_to_play_new_pl'] = black_name\n",
    "            current_row['new_pl_to_play'] = new_pl_who_black_is_about_to_play\n",
    "            new_pl_2nd_opp_previous_games = new_pl_2nd_opp_previous_games.append(current_row, ignore_index=True)\n"
   ]
  },
  {
   "cell_type": "code",
   "execution_count": 65,
   "id": "5a341ed7-7b73-42b5-9ff9-1920d3a3dcac",
   "metadata": {},
   "outputs": [
    {
     "data": {
      "text/html": [
       "<div>\n",
       "<style scoped>\n",
       "    .dataframe tbody tr th:only-of-type {\n",
       "        vertical-align: middle;\n",
       "    }\n",
       "\n",
       "    .dataframe tbody tr th {\n",
       "        vertical-align: top;\n",
       "    }\n",
       "\n",
       "    .dataframe thead th {\n",
       "        text-align: right;\n",
       "    }\n",
       "</style>\n",
       "<table border=\"1\" class=\"dataframe\">\n",
       "  <thead>\n",
       "    <tr style=\"text-align: right;\">\n",
       "      <th></th>\n",
       "      <th>Event</th>\n",
       "      <th>White</th>\n",
       "      <th>Black</th>\n",
       "      <th>Result</th>\n",
       "      <th>WhiteElo</th>\n",
       "      <th>BlackElo</th>\n",
       "      <th>WhiteRatingDiff</th>\n",
       "      <th>BlackRatingDiff</th>\n",
       "      <th>TimeControl</th>\n",
       "      <th>Termination</th>\n",
       "      <th>AN</th>\n",
       "      <th>datetime</th>\n",
       "      <th>timestamp</th>\n",
       "      <th>user_to_play_new_pl</th>\n",
       "      <th>new_pl_to_play</th>\n",
       "      <th>both_users_to_play_new_pl_next</th>\n",
       "      <th>2nd_game_opp_had_no_previous_game</th>\n",
       "    </tr>\n",
       "  </thead>\n",
       "  <tbody>\n",
       "    <tr>\n",
       "      <th>0</th>\n",
       "      <td>Classical</td>\n",
       "      <td>Claudiosparov</td>\n",
       "      <td>gonzo0506</td>\n",
       "      <td>0-1</td>\n",
       "      <td>1432</td>\n",
       "      <td>1355</td>\n",
       "      <td>-14.0</td>\n",
       "      <td>13.0</td>\n",
       "      <td>600+0</td>\n",
       "      <td>Normal</td>\n",
       "      <td>1. a3 d5 2. b4 b5 3. Bb2 Nc6 4. e3 e5 5. d4 e4...</td>\n",
       "      <td>2016-06-30 22:01:02</td>\n",
       "      <td>1.467324e+09</td>\n",
       "      <td>gonzo0506</td>\n",
       "      <td>farfalla</td>\n",
       "      <td>NaN</td>\n",
       "      <td>NaN</td>\n",
       "    </tr>\n",
       "  </tbody>\n",
       "</table>\n",
       "</div>"
      ],
      "text/plain": [
       "       Event          White      Black Result  WhiteElo  BlackElo  \\\n",
       "0  Classical  Claudiosparov  gonzo0506    0-1      1432      1355   \n",
       "\n",
       "   WhiteRatingDiff  BlackRatingDiff TimeControl Termination  \\\n",
       "0            -14.0             13.0       600+0      Normal   \n",
       "\n",
       "                                                  AN            datetime  \\\n",
       "0  1. a3 d5 2. b4 b5 3. Bb2 Nc6 4. e3 e5 5. d4 e4... 2016-06-30 22:01:02   \n",
       "\n",
       "      timestamp user_to_play_new_pl new_pl_to_play  \\\n",
       "0  1.467324e+09           gonzo0506       farfalla   \n",
       "\n",
       "   both_users_to_play_new_pl_next  2nd_game_opp_had_no_previous_game  \n",
       "0                             NaN                                NaN  "
      ]
     },
     "execution_count": 65,
     "metadata": {},
     "output_type": "execute_result"
    }
   ],
   "source": [
    "new_pl_2nd_opp_previous_games.head(1)"
   ]
  },
  {
   "cell_type": "markdown",
   "id": "dbd831a7-d863-4f17-b328-a42e071146a0",
   "metadata": {},
   "source": [
    "### Checking that everything worked correctly"
   ]
  },
  {
   "cell_type": "code",
   "execution_count": 66,
   "id": "6cf1b604-edb0-487a-ba21-bbf530acb340",
   "metadata": {},
   "outputs": [
    {
     "data": {
      "text/plain": [
       "24284"
      ]
     },
     "execution_count": 66,
     "metadata": {},
     "output_type": "execute_result"
    }
   ],
   "source": [
    "#How many new players were there who go on to play at least 2 games in our month of data?\n",
    "len(new_played2)"
   ]
  },
  {
   "cell_type": "code",
   "execution_count": 67,
   "id": "d7f180f8-b3f4-4a44-8b06-984d1d546574",
   "metadata": {},
   "outputs": [
    {
     "data": {
      "text/plain": [
       "465"
      ]
     },
     "execution_count": 67,
     "metadata": {},
     "output_type": "execute_result"
    }
   ],
   "source": [
    "#How many of these new players had 2nd-game opponents who had not played ANY games previously that month?\n",
    "len(new_players_whose_2nd_opponents_have_no_previous_game)"
   ]
  },
  {
   "cell_type": "code",
   "execution_count": 68,
   "id": "689a9975-4e21-4630-b07f-7af9389a3455",
   "metadata": {},
   "outputs": [
    {
     "data": {
      "text/plain": [
       "23823"
      ]
     },
     "execution_count": 68,
     "metadata": {},
     "output_type": "execute_result"
    }
   ],
   "source": [
    "#How many games did we record (above) as the \"Games of 2nd-game opponents of new players\n",
    "#that those opponents played immediately before playing the new player (in her 2nd game)\"?\n",
    "len(new_pl_2nd_opp_previous_games)"
   ]
  },
  {
   "cell_type": "code",
   "execution_count": 69,
   "id": "06613679-a400-4edc-9cff-f0ba80c19552",
   "metadata": {},
   "outputs": [
    {
     "data": {
      "text/plain": [
       "4"
      ]
     },
     "execution_count": 69,
     "metadata": {},
     "output_type": "execute_result"
    }
   ],
   "source": [
    "#Do the last two add up correctly?  That is, when we add them up, do we get\n",
    "#the same number as the number of of new players who played at least 2 games?\n",
    "len(new_players_whose_2nd_opponents_have_no_previous_game) + len(new_pl_2nd_opp_previous_games) - len(new_played2)"
   ]
  },
  {
   "cell_type": "markdown",
   "id": "06e3a4cd-2a43-470c-bfc7-79d9e1f6a697",
   "metadata": {},
   "source": [
    "It seems that we somehow recorded *4 too many* games as \"games of 2nd-game opponents of new players that those opponents played immediately before playing the new player (in her 2nd game)\".  That is, some new players must have *multiple games* recorded as their 2nd-game opponent's \"immediately previous\" game.  Who are these new players?"
   ]
  },
  {
   "cell_type": "code",
   "execution_count": 70,
   "id": "db79f602-5ca9-4fb1-8bae-903b6547c80a",
   "metadata": {},
   "outputs": [
    {
     "data": {
      "text/plain": [
       "ivthelove         3\n",
       "Najanchess1991    2\n",
       "mr-bakeer         2\n",
       "PabloJVivanco2    1\n",
       "mkulltra          1\n",
       "                 ..\n",
       "chonowotos        1\n",
       "omiddastjerdi     1\n",
       "calhi             1\n",
       "plokhov_ea        1\n",
       "x12361            1\n",
       "Name: new_pl_to_play, Length: 23819, dtype: int64"
      ]
     },
     "execution_count": 70,
     "metadata": {},
     "output_type": "execute_result"
    }
   ],
   "source": [
    "new_pl_2nd_opp_previous_games['new_pl_to_play'].value_counts()"
   ]
  },
  {
   "cell_type": "markdown",
   "id": "85cfe104-8a0c-4d8f-ae6f-59dfa4a5a0a9",
   "metadata": {},
   "source": [
    "As we can see, the 4 \"extra\" games come from the following:\n",
    "- New player `ivthelove` has 3 distinct games recorded as her \"2nd-game opponent's immediately previous game.\"\n",
    "- New player `mr-bakeer` has 2 distinct games recorded as her \"2nd-game opponent's immediately previous game.\"\n",
    "- New player `Najanchess1991` has 2 distinct games recorded as her \"2nd-game opponent's immediately previous game.\"\n",
    "\n",
    "In each case, the new player should only have *one* distinct game recorded.  Hence, we have 2+1+1 = 4 too many games recorded.  Let's take a look at these games that we recorded as \"2nd-game opponent's immediately previous game\" for each of these 3 new players:"
   ]
  },
  {
   "cell_type": "code",
   "execution_count": 71,
   "id": "e1d9b2c2-e987-42ac-bcd4-da2bd6402d65",
   "metadata": {},
   "outputs": [
    {
     "data": {
      "text/html": [
       "<div>\n",
       "<style scoped>\n",
       "    .dataframe tbody tr th:only-of-type {\n",
       "        vertical-align: middle;\n",
       "    }\n",
       "\n",
       "    .dataframe tbody tr th {\n",
       "        vertical-align: top;\n",
       "    }\n",
       "\n",
       "    .dataframe thead th {\n",
       "        text-align: right;\n",
       "    }\n",
       "</style>\n",
       "<table border=\"1\" class=\"dataframe\">\n",
       "  <thead>\n",
       "    <tr style=\"text-align: right;\">\n",
       "      <th></th>\n",
       "      <th>Event</th>\n",
       "      <th>White</th>\n",
       "      <th>Black</th>\n",
       "      <th>Result</th>\n",
       "      <th>WhiteElo</th>\n",
       "      <th>BlackElo</th>\n",
       "      <th>WhiteRatingDiff</th>\n",
       "      <th>BlackRatingDiff</th>\n",
       "      <th>TimeControl</th>\n",
       "      <th>Termination</th>\n",
       "      <th>AN</th>\n",
       "      <th>datetime</th>\n",
       "      <th>timestamp</th>\n",
       "      <th>user_to_play_new_pl</th>\n",
       "      <th>new_pl_to_play</th>\n",
       "      <th>both_users_to_play_new_pl_next</th>\n",
       "      <th>2nd_game_opp_had_no_previous_game</th>\n",
       "    </tr>\n",
       "  </thead>\n",
       "  <tbody>\n",
       "    <tr>\n",
       "      <th>21287</th>\n",
       "      <td>Classical</td>\n",
       "      <td>mostafaaa</td>\n",
       "      <td>mohsen_kabootarian</td>\n",
       "      <td>0-1</td>\n",
       "      <td>1723</td>\n",
       "      <td>2156</td>\n",
       "      <td>-2.0</td>\n",
       "      <td>2.0</td>\n",
       "      <td>600+2</td>\n",
       "      <td>Time forfeit</td>\n",
       "      <td>1. e4 e5 0-1</td>\n",
       "      <td>2016-07-28 20:04:54</td>\n",
       "      <td>1.469736e+09</td>\n",
       "      <td>mohsen_kabootarian</td>\n",
       "      <td>ivthelove</td>\n",
       "      <td>NaN</td>\n",
       "      <td>NaN</td>\n",
       "    </tr>\n",
       "    <tr>\n",
       "      <th>21288</th>\n",
       "      <td>Classical</td>\n",
       "      <td>mostafaaa</td>\n",
       "      <td>mohsen_kabootarian</td>\n",
       "      <td>0-1</td>\n",
       "      <td>1723</td>\n",
       "      <td>2156</td>\n",
       "      <td>-2.0</td>\n",
       "      <td>3.0</td>\n",
       "      <td>600+2</td>\n",
       "      <td>Time forfeit</td>\n",
       "      <td>1. e4 e5 0-1</td>\n",
       "      <td>2016-07-28 20:04:54</td>\n",
       "      <td>1.469736e+09</td>\n",
       "      <td>mohsen_kabootarian</td>\n",
       "      <td>ivthelove</td>\n",
       "      <td>NaN</td>\n",
       "      <td>NaN</td>\n",
       "    </tr>\n",
       "    <tr>\n",
       "      <th>21289</th>\n",
       "      <td>Classical</td>\n",
       "      <td>mostafaaa</td>\n",
       "      <td>mohsen_kabootarian</td>\n",
       "      <td>0-1</td>\n",
       "      <td>1723</td>\n",
       "      <td>2156</td>\n",
       "      <td>-2.0</td>\n",
       "      <td>3.0</td>\n",
       "      <td>600+2</td>\n",
       "      <td>Normal</td>\n",
       "      <td>1. e4 e5 2. Bc4 Nf6 3. Nf3 Nc6 4. c3 Nxe4 5. d...</td>\n",
       "      <td>2016-07-28 20:04:54</td>\n",
       "      <td>1.469736e+09</td>\n",
       "      <td>mohsen_kabootarian</td>\n",
       "      <td>ivthelove</td>\n",
       "      <td>NaN</td>\n",
       "      <td>NaN</td>\n",
       "    </tr>\n",
       "  </tbody>\n",
       "</table>\n",
       "</div>"
      ],
      "text/plain": [
       "           Event      White               Black Result  WhiteElo  BlackElo  \\\n",
       "21287  Classical  mostafaaa  mohsen_kabootarian    0-1      1723      2156   \n",
       "21288  Classical  mostafaaa  mohsen_kabootarian    0-1      1723      2156   \n",
       "21289  Classical  mostafaaa  mohsen_kabootarian    0-1      1723      2156   \n",
       "\n",
       "       WhiteRatingDiff  BlackRatingDiff TimeControl   Termination  \\\n",
       "21287             -2.0              2.0       600+2  Time forfeit   \n",
       "21288             -2.0              3.0       600+2  Time forfeit   \n",
       "21289             -2.0              3.0       600+2        Normal   \n",
       "\n",
       "                                                      AN            datetime  \\\n",
       "21287                                       1. e4 e5 0-1 2016-07-28 20:04:54   \n",
       "21288                                       1. e4 e5 0-1 2016-07-28 20:04:54   \n",
       "21289  1. e4 e5 2. Bc4 Nf6 3. Nf3 Nc6 4. c3 Nxe4 5. d... 2016-07-28 20:04:54   \n",
       "\n",
       "          timestamp user_to_play_new_pl new_pl_to_play  \\\n",
       "21287  1.469736e+09  mohsen_kabootarian      ivthelove   \n",
       "21288  1.469736e+09  mohsen_kabootarian      ivthelove   \n",
       "21289  1.469736e+09  mohsen_kabootarian      ivthelove   \n",
       "\n",
       "       both_users_to_play_new_pl_next  2nd_game_opp_had_no_previous_game  \n",
       "21287                             NaN                                NaN  \n",
       "21288                             NaN                                NaN  \n",
       "21289                             NaN                                NaN  "
      ]
     },
     "execution_count": 71,
     "metadata": {},
     "output_type": "execute_result"
    }
   ],
   "source": [
    "# \"ivthelove\"\n",
    "new_pl_2nd_opp_previous_games[new_pl_2nd_opp_previous_games['new_pl_to_play']=='ivthelove']"
   ]
  },
  {
   "cell_type": "code",
   "execution_count": 72,
   "id": "a8fe5ec1-10a4-41a9-9c61-27300fdba273",
   "metadata": {},
   "outputs": [
    {
     "data": {
      "text/html": [
       "<div>\n",
       "<style scoped>\n",
       "    .dataframe tbody tr th:only-of-type {\n",
       "        vertical-align: middle;\n",
       "    }\n",
       "\n",
       "    .dataframe tbody tr th {\n",
       "        vertical-align: top;\n",
       "    }\n",
       "\n",
       "    .dataframe thead th {\n",
       "        text-align: right;\n",
       "    }\n",
       "</style>\n",
       "<table border=\"1\" class=\"dataframe\">\n",
       "  <thead>\n",
       "    <tr style=\"text-align: right;\">\n",
       "      <th></th>\n",
       "      <th>Event</th>\n",
       "      <th>White</th>\n",
       "      <th>Black</th>\n",
       "      <th>Result</th>\n",
       "      <th>WhiteElo</th>\n",
       "      <th>BlackElo</th>\n",
       "      <th>WhiteRatingDiff</th>\n",
       "      <th>BlackRatingDiff</th>\n",
       "      <th>TimeControl</th>\n",
       "      <th>Termination</th>\n",
       "      <th>AN</th>\n",
       "      <th>datetime</th>\n",
       "      <th>timestamp</th>\n",
       "      <th>user_to_play_new_pl</th>\n",
       "      <th>new_pl_to_play</th>\n",
       "      <th>both_users_to_play_new_pl_next</th>\n",
       "      <th>2nd_game_opp_had_no_previous_game</th>\n",
       "    </tr>\n",
       "  </thead>\n",
       "  <tbody>\n",
       "    <tr>\n",
       "      <th>19160</th>\n",
       "      <td>Bullet</td>\n",
       "      <td>lolchezz</td>\n",
       "      <td>TaaronV</td>\n",
       "      <td>0-1</td>\n",
       "      <td>1837</td>\n",
       "      <td>1870</td>\n",
       "      <td>-11.0</td>\n",
       "      <td>14.0</td>\n",
       "      <td>60+0</td>\n",
       "      <td>Time forfeit</td>\n",
       "      <td>1. e3 c5 0-1</td>\n",
       "      <td>2016-07-26 01:39:00</td>\n",
       "      <td>1.469497e+09</td>\n",
       "      <td>TaaronV</td>\n",
       "      <td>mr-bakeer</td>\n",
       "      <td>NaN</td>\n",
       "      <td>NaN</td>\n",
       "    </tr>\n",
       "    <tr>\n",
       "      <th>19161</th>\n",
       "      <td>Bullet</td>\n",
       "      <td>lolchezz</td>\n",
       "      <td>TaaronV</td>\n",
       "      <td>1-0</td>\n",
       "      <td>1837</td>\n",
       "      <td>1870</td>\n",
       "      <td>12.0</td>\n",
       "      <td>-14.0</td>\n",
       "      <td>60+0</td>\n",
       "      <td>Normal</td>\n",
       "      <td>1. e3 { [%eval 0.15] } 1... c5 { [%eval 0.17] ...</td>\n",
       "      <td>2016-07-26 01:39:00</td>\n",
       "      <td>1.469497e+09</td>\n",
       "      <td>TaaronV</td>\n",
       "      <td>mr-bakeer</td>\n",
       "      <td>NaN</td>\n",
       "      <td>NaN</td>\n",
       "    </tr>\n",
       "  </tbody>\n",
       "</table>\n",
       "</div>"
      ],
      "text/plain": [
       "        Event     White    Black Result  WhiteElo  BlackElo  WhiteRatingDiff  \\\n",
       "19160  Bullet  lolchezz  TaaronV    0-1      1837      1870            -11.0   \n",
       "19161  Bullet  lolchezz  TaaronV    1-0      1837      1870             12.0   \n",
       "\n",
       "       BlackRatingDiff TimeControl   Termination  \\\n",
       "19160             14.0        60+0  Time forfeit   \n",
       "19161            -14.0        60+0        Normal   \n",
       "\n",
       "                                                      AN            datetime  \\\n",
       "19160                                       1. e3 c5 0-1 2016-07-26 01:39:00   \n",
       "19161  1. e3 { [%eval 0.15] } 1... c5 { [%eval 0.17] ... 2016-07-26 01:39:00   \n",
       "\n",
       "          timestamp user_to_play_new_pl new_pl_to_play  \\\n",
       "19160  1.469497e+09             TaaronV      mr-bakeer   \n",
       "19161  1.469497e+09             TaaronV      mr-bakeer   \n",
       "\n",
       "       both_users_to_play_new_pl_next  2nd_game_opp_had_no_previous_game  \n",
       "19160                             NaN                                NaN  \n",
       "19161                             NaN                                NaN  "
      ]
     },
     "execution_count": 72,
     "metadata": {},
     "output_type": "execute_result"
    }
   ],
   "source": [
    "# \"mr-bakeer\"\n",
    "new_pl_2nd_opp_previous_games[new_pl_2nd_opp_previous_games['new_pl_to_play']=='mr-bakeer']"
   ]
  },
  {
   "cell_type": "code",
   "execution_count": 73,
   "id": "84eb22cb-571e-4928-9014-3a92b2a72032",
   "metadata": {},
   "outputs": [
    {
     "data": {
      "text/html": [
       "<div>\n",
       "<style scoped>\n",
       "    .dataframe tbody tr th:only-of-type {\n",
       "        vertical-align: middle;\n",
       "    }\n",
       "\n",
       "    .dataframe tbody tr th {\n",
       "        vertical-align: top;\n",
       "    }\n",
       "\n",
       "    .dataframe thead th {\n",
       "        text-align: right;\n",
       "    }\n",
       "</style>\n",
       "<table border=\"1\" class=\"dataframe\">\n",
       "  <thead>\n",
       "    <tr style=\"text-align: right;\">\n",
       "      <th></th>\n",
       "      <th>Event</th>\n",
       "      <th>White</th>\n",
       "      <th>Black</th>\n",
       "      <th>Result</th>\n",
       "      <th>WhiteElo</th>\n",
       "      <th>BlackElo</th>\n",
       "      <th>WhiteRatingDiff</th>\n",
       "      <th>BlackRatingDiff</th>\n",
       "      <th>TimeControl</th>\n",
       "      <th>Termination</th>\n",
       "      <th>AN</th>\n",
       "      <th>datetime</th>\n",
       "      <th>timestamp</th>\n",
       "      <th>user_to_play_new_pl</th>\n",
       "      <th>new_pl_to_play</th>\n",
       "      <th>both_users_to_play_new_pl_next</th>\n",
       "      <th>2nd_game_opp_had_no_previous_game</th>\n",
       "    </tr>\n",
       "  </thead>\n",
       "  <tbody>\n",
       "    <tr>\n",
       "      <th>6306</th>\n",
       "      <td>Blitz</td>\n",
       "      <td>inaciodias</td>\n",
       "      <td>Bidwill</td>\n",
       "      <td>0-1</td>\n",
       "      <td>1658</td>\n",
       "      <td>1635</td>\n",
       "      <td>-11.0</td>\n",
       "      <td>12.0</td>\n",
       "      <td>300+0</td>\n",
       "      <td>Normal</td>\n",
       "      <td>1. e4 e5 0-1</td>\n",
       "      <td>2016-07-09 00:16:11</td>\n",
       "      <td>1.468023e+09</td>\n",
       "      <td>Bidwill</td>\n",
       "      <td>Najanchess1991</td>\n",
       "      <td>NaN</td>\n",
       "      <td>NaN</td>\n",
       "    </tr>\n",
       "    <tr>\n",
       "      <th>6307</th>\n",
       "      <td>Blitz</td>\n",
       "      <td>Bidwill</td>\n",
       "      <td>lemonia</td>\n",
       "      <td>0-1</td>\n",
       "      <td>1635</td>\n",
       "      <td>1653</td>\n",
       "      <td>-10.0</td>\n",
       "      <td>11.0</td>\n",
       "      <td>300+0</td>\n",
       "      <td>Normal</td>\n",
       "      <td>1. e4 c5 2. Bc4 d6 3. d4 cxd4 4. Qxd4 Nf6 5. e...</td>\n",
       "      <td>2016-07-09 00:16:11</td>\n",
       "      <td>1.468023e+09</td>\n",
       "      <td>Bidwill</td>\n",
       "      <td>Najanchess1991</td>\n",
       "      <td>NaN</td>\n",
       "      <td>NaN</td>\n",
       "    </tr>\n",
       "  </tbody>\n",
       "</table>\n",
       "</div>"
      ],
      "text/plain": [
       "      Event       White    Black Result  WhiteElo  BlackElo  WhiteRatingDiff  \\\n",
       "6306  Blitz  inaciodias  Bidwill    0-1      1658      1635            -11.0   \n",
       "6307  Blitz     Bidwill  lemonia    0-1      1635      1653            -10.0   \n",
       "\n",
       "      BlackRatingDiff TimeControl Termination  \\\n",
       "6306             12.0       300+0      Normal   \n",
       "6307             11.0       300+0      Normal   \n",
       "\n",
       "                                                     AN            datetime  \\\n",
       "6306                                       1. e4 e5 0-1 2016-07-09 00:16:11   \n",
       "6307  1. e4 c5 2. Bc4 d6 3. d4 cxd4 4. Qxd4 Nf6 5. e... 2016-07-09 00:16:11   \n",
       "\n",
       "         timestamp user_to_play_new_pl  new_pl_to_play  \\\n",
       "6306  1.468023e+09             Bidwill  Najanchess1991   \n",
       "6307  1.468023e+09             Bidwill  Najanchess1991   \n",
       "\n",
       "      both_users_to_play_new_pl_next  2nd_game_opp_had_no_previous_game  \n",
       "6306                             NaN                                NaN  \n",
       "6307                             NaN                                NaN  "
      ]
     },
     "execution_count": 73,
     "metadata": {},
     "output_type": "execute_result"
    }
   ],
   "source": [
    "# \"Najanchess1991\"\n",
    "new_pl_2nd_opp_previous_games[new_pl_2nd_opp_previous_games['new_pl_to_play']=='Najanchess1991']"
   ]
  },
  {
   "cell_type": "markdown",
   "id": "9d9c7551-bac1-4745-83d9-657e479b93b5",
   "metadata": {},
   "source": [
    "### Dropping \"fake\" games"
   ]
  },
  {
   "cell_type": "markdown",
   "id": "17e65f2e-6fbe-4f23-b65d-28a1027287f9",
   "metadata": {},
   "source": [
    "As we can see by looking at the `AN` column of each of these new players' 2nd-game opponents' \"immediately previous\" games, *all but one of the games last no more than 2 turns before being terminated*.  So we can assume that in each of these cases, the \"real\" game is the one that lasts longer than 2 turns.\n",
    "\n",
    "Thus, we will eliminate the 4 \"fake\" games from our `new_pl_2nd_opp_previous_games` dataframe.  Before actually doing so, let's make a new dataframe called `dropped` where we perform the drop.  After checking that everything looks correct, we will re-assign our `new_pl_2nd_opp_previous_games` dataframe to equal `dropped`."
   ]
  },
  {
   "cell_type": "code",
   "execution_count": 74,
   "id": "910b5f1e-fd81-4d93-86da-cf181c0d7b05",
   "metadata": {},
   "outputs": [],
   "source": [
    "dropped = new_pl_2nd_opp_previous_games.drop([21287, 21288, 19160, 6306])"
   ]
  },
  {
   "cell_type": "markdown",
   "id": "1ac3ecff-353b-4788-9ee6-0c7bdb6dcc44",
   "metadata": {},
   "source": [
    "Let's check that the proper games were kept:"
   ]
  },
  {
   "cell_type": "code",
   "execution_count": 75,
   "id": "ef7956eb-7169-4443-b0bb-c085249f9ff6",
   "metadata": {},
   "outputs": [
    {
     "data": {
      "text/html": [
       "<div>\n",
       "<style scoped>\n",
       "    .dataframe tbody tr th:only-of-type {\n",
       "        vertical-align: middle;\n",
       "    }\n",
       "\n",
       "    .dataframe tbody tr th {\n",
       "        vertical-align: top;\n",
       "    }\n",
       "\n",
       "    .dataframe thead th {\n",
       "        text-align: right;\n",
       "    }\n",
       "</style>\n",
       "<table border=\"1\" class=\"dataframe\">\n",
       "  <thead>\n",
       "    <tr style=\"text-align: right;\">\n",
       "      <th></th>\n",
       "      <th>Event</th>\n",
       "      <th>White</th>\n",
       "      <th>Black</th>\n",
       "      <th>Result</th>\n",
       "      <th>WhiteElo</th>\n",
       "      <th>BlackElo</th>\n",
       "      <th>WhiteRatingDiff</th>\n",
       "      <th>BlackRatingDiff</th>\n",
       "      <th>TimeControl</th>\n",
       "      <th>Termination</th>\n",
       "      <th>AN</th>\n",
       "      <th>datetime</th>\n",
       "      <th>timestamp</th>\n",
       "      <th>user_to_play_new_pl</th>\n",
       "      <th>new_pl_to_play</th>\n",
       "      <th>both_users_to_play_new_pl_next</th>\n",
       "      <th>2nd_game_opp_had_no_previous_game</th>\n",
       "    </tr>\n",
       "  </thead>\n",
       "  <tbody>\n",
       "    <tr>\n",
       "      <th>21289</th>\n",
       "      <td>Classical</td>\n",
       "      <td>mostafaaa</td>\n",
       "      <td>mohsen_kabootarian</td>\n",
       "      <td>0-1</td>\n",
       "      <td>1723</td>\n",
       "      <td>2156</td>\n",
       "      <td>-2.0</td>\n",
       "      <td>3.0</td>\n",
       "      <td>600+2</td>\n",
       "      <td>Normal</td>\n",
       "      <td>1. e4 e5 2. Bc4 Nf6 3. Nf3 Nc6 4. c3 Nxe4 5. d...</td>\n",
       "      <td>2016-07-28 20:04:54</td>\n",
       "      <td>1.469736e+09</td>\n",
       "      <td>mohsen_kabootarian</td>\n",
       "      <td>ivthelove</td>\n",
       "      <td>NaN</td>\n",
       "      <td>NaN</td>\n",
       "    </tr>\n",
       "  </tbody>\n",
       "</table>\n",
       "</div>"
      ],
      "text/plain": [
       "           Event      White               Black Result  WhiteElo  BlackElo  \\\n",
       "21289  Classical  mostafaaa  mohsen_kabootarian    0-1      1723      2156   \n",
       "\n",
       "       WhiteRatingDiff  BlackRatingDiff TimeControl Termination  \\\n",
       "21289             -2.0              3.0       600+2      Normal   \n",
       "\n",
       "                                                      AN            datetime  \\\n",
       "21289  1. e4 e5 2. Bc4 Nf6 3. Nf3 Nc6 4. c3 Nxe4 5. d... 2016-07-28 20:04:54   \n",
       "\n",
       "          timestamp user_to_play_new_pl new_pl_to_play  \\\n",
       "21289  1.469736e+09  mohsen_kabootarian      ivthelove   \n",
       "\n",
       "       both_users_to_play_new_pl_next  2nd_game_opp_had_no_previous_game  \n",
       "21289                             NaN                                NaN  "
      ]
     },
     "execution_count": 75,
     "metadata": {},
     "output_type": "execute_result"
    }
   ],
   "source": [
    "dropped[dropped['new_pl_to_play']=='ivthelove']"
   ]
  },
  {
   "cell_type": "code",
   "execution_count": 76,
   "id": "4cccd67f-bfeb-4131-a5df-a7992df6b508",
   "metadata": {},
   "outputs": [
    {
     "data": {
      "text/html": [
       "<div>\n",
       "<style scoped>\n",
       "    .dataframe tbody tr th:only-of-type {\n",
       "        vertical-align: middle;\n",
       "    }\n",
       "\n",
       "    .dataframe tbody tr th {\n",
       "        vertical-align: top;\n",
       "    }\n",
       "\n",
       "    .dataframe thead th {\n",
       "        text-align: right;\n",
       "    }\n",
       "</style>\n",
       "<table border=\"1\" class=\"dataframe\">\n",
       "  <thead>\n",
       "    <tr style=\"text-align: right;\">\n",
       "      <th></th>\n",
       "      <th>Event</th>\n",
       "      <th>White</th>\n",
       "      <th>Black</th>\n",
       "      <th>Result</th>\n",
       "      <th>WhiteElo</th>\n",
       "      <th>BlackElo</th>\n",
       "      <th>WhiteRatingDiff</th>\n",
       "      <th>BlackRatingDiff</th>\n",
       "      <th>TimeControl</th>\n",
       "      <th>Termination</th>\n",
       "      <th>AN</th>\n",
       "      <th>datetime</th>\n",
       "      <th>timestamp</th>\n",
       "      <th>user_to_play_new_pl</th>\n",
       "      <th>new_pl_to_play</th>\n",
       "      <th>both_users_to_play_new_pl_next</th>\n",
       "      <th>2nd_game_opp_had_no_previous_game</th>\n",
       "    </tr>\n",
       "  </thead>\n",
       "  <tbody>\n",
       "    <tr>\n",
       "      <th>19161</th>\n",
       "      <td>Bullet</td>\n",
       "      <td>lolchezz</td>\n",
       "      <td>TaaronV</td>\n",
       "      <td>1-0</td>\n",
       "      <td>1837</td>\n",
       "      <td>1870</td>\n",
       "      <td>12.0</td>\n",
       "      <td>-14.0</td>\n",
       "      <td>60+0</td>\n",
       "      <td>Normal</td>\n",
       "      <td>1. e3 { [%eval 0.15] } 1... c5 { [%eval 0.17] ...</td>\n",
       "      <td>2016-07-26 01:39:00</td>\n",
       "      <td>1.469497e+09</td>\n",
       "      <td>TaaronV</td>\n",
       "      <td>mr-bakeer</td>\n",
       "      <td>NaN</td>\n",
       "      <td>NaN</td>\n",
       "    </tr>\n",
       "  </tbody>\n",
       "</table>\n",
       "</div>"
      ],
      "text/plain": [
       "        Event     White    Black Result  WhiteElo  BlackElo  WhiteRatingDiff  \\\n",
       "19161  Bullet  lolchezz  TaaronV    1-0      1837      1870             12.0   \n",
       "\n",
       "       BlackRatingDiff TimeControl Termination  \\\n",
       "19161            -14.0        60+0      Normal   \n",
       "\n",
       "                                                      AN            datetime  \\\n",
       "19161  1. e3 { [%eval 0.15] } 1... c5 { [%eval 0.17] ... 2016-07-26 01:39:00   \n",
       "\n",
       "          timestamp user_to_play_new_pl new_pl_to_play  \\\n",
       "19161  1.469497e+09             TaaronV      mr-bakeer   \n",
       "\n",
       "       both_users_to_play_new_pl_next  2nd_game_opp_had_no_previous_game  \n",
       "19161                             NaN                                NaN  "
      ]
     },
     "execution_count": 76,
     "metadata": {},
     "output_type": "execute_result"
    }
   ],
   "source": [
    "dropped[dropped['new_pl_to_play']=='mr-bakeer']"
   ]
  },
  {
   "cell_type": "code",
   "execution_count": 77,
   "id": "625978d3-d87b-46ca-8c37-df604817f0bb",
   "metadata": {},
   "outputs": [
    {
     "data": {
      "text/html": [
       "<div>\n",
       "<style scoped>\n",
       "    .dataframe tbody tr th:only-of-type {\n",
       "        vertical-align: middle;\n",
       "    }\n",
       "\n",
       "    .dataframe tbody tr th {\n",
       "        vertical-align: top;\n",
       "    }\n",
       "\n",
       "    .dataframe thead th {\n",
       "        text-align: right;\n",
       "    }\n",
       "</style>\n",
       "<table border=\"1\" class=\"dataframe\">\n",
       "  <thead>\n",
       "    <tr style=\"text-align: right;\">\n",
       "      <th></th>\n",
       "      <th>Event</th>\n",
       "      <th>White</th>\n",
       "      <th>Black</th>\n",
       "      <th>Result</th>\n",
       "      <th>WhiteElo</th>\n",
       "      <th>BlackElo</th>\n",
       "      <th>WhiteRatingDiff</th>\n",
       "      <th>BlackRatingDiff</th>\n",
       "      <th>TimeControl</th>\n",
       "      <th>Termination</th>\n",
       "      <th>AN</th>\n",
       "      <th>datetime</th>\n",
       "      <th>timestamp</th>\n",
       "      <th>user_to_play_new_pl</th>\n",
       "      <th>new_pl_to_play</th>\n",
       "      <th>both_users_to_play_new_pl_next</th>\n",
       "      <th>2nd_game_opp_had_no_previous_game</th>\n",
       "    </tr>\n",
       "  </thead>\n",
       "  <tbody>\n",
       "    <tr>\n",
       "      <th>6307</th>\n",
       "      <td>Blitz</td>\n",
       "      <td>Bidwill</td>\n",
       "      <td>lemonia</td>\n",
       "      <td>0-1</td>\n",
       "      <td>1635</td>\n",
       "      <td>1653</td>\n",
       "      <td>-10.0</td>\n",
       "      <td>11.0</td>\n",
       "      <td>300+0</td>\n",
       "      <td>Normal</td>\n",
       "      <td>1. e4 c5 2. Bc4 d6 3. d4 cxd4 4. Qxd4 Nf6 5. e...</td>\n",
       "      <td>2016-07-09 00:16:11</td>\n",
       "      <td>1.468023e+09</td>\n",
       "      <td>Bidwill</td>\n",
       "      <td>Najanchess1991</td>\n",
       "      <td>NaN</td>\n",
       "      <td>NaN</td>\n",
       "    </tr>\n",
       "  </tbody>\n",
       "</table>\n",
       "</div>"
      ],
      "text/plain": [
       "      Event    White    Black Result  WhiteElo  BlackElo  WhiteRatingDiff  \\\n",
       "6307  Blitz  Bidwill  lemonia    0-1      1635      1653            -10.0   \n",
       "\n",
       "      BlackRatingDiff TimeControl Termination  \\\n",
       "6307             11.0       300+0      Normal   \n",
       "\n",
       "                                                     AN            datetime  \\\n",
       "6307  1. e4 c5 2. Bc4 d6 3. d4 cxd4 4. Qxd4 Nf6 5. e... 2016-07-09 00:16:11   \n",
       "\n",
       "         timestamp user_to_play_new_pl  new_pl_to_play  \\\n",
       "6307  1.468023e+09             Bidwill  Najanchess1991   \n",
       "\n",
       "      both_users_to_play_new_pl_next  2nd_game_opp_had_no_previous_game  \n",
       "6307                             NaN                                NaN  "
      ]
     },
     "execution_count": 77,
     "metadata": {},
     "output_type": "execute_result"
    }
   ],
   "source": [
    "dropped[dropped['new_pl_to_play']=='Najanchess1991']"
   ]
  },
  {
   "cell_type": "code",
   "execution_count": 78,
   "id": "938126c4-798c-43b7-a3e6-ff6a676c7862",
   "metadata": {},
   "outputs": [],
   "source": [
    "#Re-assign `new_pl_2nd_opp_previous_games` to be the dataframe where we dropped the \"fake\" games\n",
    "new_pl_2nd_opp_previous_games = dropped"
   ]
  },
  {
   "cell_type": "markdown",
   "id": "bcc96675-5627-4e34-b639-c5c51f93a9f2",
   "metadata": {},
   "source": [
    "Finally, let's check one more time that everything adds up correctly:"
   ]
  },
  {
   "cell_type": "code",
   "execution_count": 79,
   "id": "d30fb424-28c1-471a-9a26-de0621d17eab",
   "metadata": {},
   "outputs": [
    {
     "data": {
      "text/plain": [
       "0"
      ]
     },
     "execution_count": 79,
     "metadata": {},
     "output_type": "execute_result"
    }
   ],
   "source": [
    "len(new_players_whose_2nd_opponents_have_no_previous_game) + len(new_pl_2nd_opp_previous_games) - len(new_played2)"
   ]
  },
  {
   "cell_type": "markdown",
   "id": "515814c9-4428-4b75-b72f-4847961bf7da",
   "metadata": {},
   "source": [
    "## Exporting this dataframe as a CSV"
   ]
  },
  {
   "cell_type": "markdown",
   "id": "62221ec8-b779-481e-bf42-fb13d2baa192",
   "metadata": {},
   "source": [
    "Before exporting this dataframe, there are a few things we must do:\n",
    "1. Fill in missing values with 0s (see below).\n",
    "2. For each new player whose name does not appear in this index (i.e., those new players whose 2nd-game opponents had *no previous games this month*), add a row to the dataframe corresponding to this new player.  Leave the added row empty other than setting the value of `2nd_game_opp_had_no_previous_game` to 1.\n",
    "3. Change the index of the dataframe to be the name of the *new player* who will be played in the next game of the \"opponent\" in the current game."
   ]
  },
  {
   "cell_type": "markdown",
   "id": "2bd126bf-2d06-4733-ac44-fd6438dac0c4",
   "metadata": {},
   "source": [
    "### Fill in the missing values with zeros"
   ]
  },
  {
   "cell_type": "code",
   "execution_count": 80,
   "id": "d5e5f0ca-0960-4ccc-ac6e-6071e9356e7a",
   "metadata": {},
   "outputs": [
    {
     "name": "stdout",
     "output_type": "stream",
     "text": [
      "<class 'pandas.core.frame.DataFrame'>\n",
      "Int64Index: 23819 entries, 0 to 23822\n",
      "Data columns (total 17 columns):\n",
      " #   Column                             Non-Null Count  Dtype         \n",
      "---  ------                             --------------  -----         \n",
      " 0   Event                              23819 non-null  object        \n",
      " 1   White                              23819 non-null  object        \n",
      " 2   Black                              23819 non-null  object        \n",
      " 3   Result                             23819 non-null  object        \n",
      " 4   WhiteElo                           23819 non-null  int64         \n",
      " 5   BlackElo                           23819 non-null  int64         \n",
      " 6   WhiteRatingDiff                    23819 non-null  float64       \n",
      " 7   BlackRatingDiff                    23819 non-null  float64       \n",
      " 8   TimeControl                        23819 non-null  object        \n",
      " 9   Termination                        23819 non-null  object        \n",
      " 10  AN                                 23819 non-null  object        \n",
      " 11  datetime                           23819 non-null  datetime64[ns]\n",
      " 12  timestamp                          23819 non-null  float64       \n",
      " 13  user_to_play_new_pl                23819 non-null  object        \n",
      " 14  new_pl_to_play                     23819 non-null  object        \n",
      " 15  both_users_to_play_new_pl_next     360 non-null    float64       \n",
      " 16  2nd_game_opp_had_no_previous_game  0 non-null      float64       \n",
      "dtypes: datetime64[ns](1), float64(5), int64(2), object(9)\n",
      "memory usage: 3.3+ MB\n"
     ]
    }
   ],
   "source": [
    "new_pl_2nd_opp_previous_games.info()"
   ]
  },
  {
   "cell_type": "markdown",
   "id": "cb63299a-1c39-4ca4-886c-14d3c42cc3cf",
   "metadata": {},
   "source": [
    "Because of how we've set things up, the only cases where a value could be missing is if it's a boolean that's supposed to be 0.  Indeed, *all* the values in the column `2nd_game_opp_had_no_previous_game` are missing since the only rows in our dataframe (so far) correspond to new players whose 2nd-game opponents *did* have a previous game this month; all such games should have a value of 0 in the `2nd_game_opp_had_no_previous_game` column.  Similarly, the only other missing values are in the `both_users_to_play_new_pl_next` column; the ones that are missing correspond to all the games where it was *not* the case that both users are about to play a new player (in that new player's 2nd game).  So all missing values should be filled with 0s:"
   ]
  },
  {
   "cell_type": "code",
   "execution_count": 81,
   "id": "a8235c09-b1ba-430d-a3c7-6e46f23e72bf",
   "metadata": {},
   "outputs": [],
   "source": [
    "new_pl_2nd_opp_previous_games.fillna(0, inplace=True)"
   ]
  },
  {
   "cell_type": "code",
   "execution_count": 82,
   "id": "d78f39d0-8c32-4786-9ffa-9d8f1be29f57",
   "metadata": {},
   "outputs": [],
   "source": [
    "#Change the types of the bool columns to ints\n",
    "new_pl_2nd_opp_previous_games['both_users_to_play_new_pl_next'] = new_pl_2nd_opp_previous_games['both_users_to_play_new_pl_next'].astype(int)\n",
    "new_pl_2nd_opp_previous_games['2nd_game_opp_had_no_previous_game'] = new_pl_2nd_opp_previous_games['2nd_game_opp_had_no_previous_game'].astype(int)"
   ]
  },
  {
   "cell_type": "markdown",
   "id": "8cd6af90-ec11-460a-a798-59a570ae6a39",
   "metadata": {},
   "source": [
    "### Add in empty rows for the new players whose 2nd-game opponents had no previous games this month"
   ]
  },
  {
   "cell_type": "markdown",
   "id": "904edb32-a8d7-403f-81c9-b7772baac680",
   "metadata": {},
   "source": [
    "#### An example of how we'll add these \"empty rows\""
   ]
  },
  {
   "cell_type": "code",
   "execution_count": 83,
   "id": "e522fd93-e501-47a1-8971-30ba4e30ddaa",
   "metadata": {},
   "outputs": [
    {
     "data": {
      "text/html": [
       "<div>\n",
       "<style scoped>\n",
       "    .dataframe tbody tr th:only-of-type {\n",
       "        vertical-align: middle;\n",
       "    }\n",
       "\n",
       "    .dataframe tbody tr th {\n",
       "        vertical-align: top;\n",
       "    }\n",
       "\n",
       "    .dataframe thead th {\n",
       "        text-align: right;\n",
       "    }\n",
       "</style>\n",
       "<table border=\"1\" class=\"dataframe\">\n",
       "  <thead>\n",
       "    <tr style=\"text-align: right;\">\n",
       "      <th></th>\n",
       "      <th>Event</th>\n",
       "      <th>White</th>\n",
       "      <th>Black</th>\n",
       "      <th>Result</th>\n",
       "      <th>WhiteElo</th>\n",
       "      <th>BlackElo</th>\n",
       "      <th>WhiteRatingDiff</th>\n",
       "      <th>BlackRatingDiff</th>\n",
       "      <th>TimeControl</th>\n",
       "      <th>Termination</th>\n",
       "      <th>AN</th>\n",
       "      <th>datetime</th>\n",
       "      <th>timestamp</th>\n",
       "      <th>user_to_play_new_pl</th>\n",
       "      <th>new_pl_to_play</th>\n",
       "      <th>both_users_to_play_new_pl_next</th>\n",
       "      <th>2nd_game_opp_had_no_previous_game</th>\n",
       "    </tr>\n",
       "  </thead>\n",
       "  <tbody>\n",
       "    <tr>\n",
       "      <th>0</th>\n",
       "      <td>Classical</td>\n",
       "      <td>Claudiosparov</td>\n",
       "      <td>gonzo0506</td>\n",
       "      <td>0-1</td>\n",
       "      <td>1432</td>\n",
       "      <td>1355</td>\n",
       "      <td>-14.0</td>\n",
       "      <td>13.0</td>\n",
       "      <td>600+0</td>\n",
       "      <td>Normal</td>\n",
       "      <td>1. a3 d5 2. b4 b5 3. Bb2 Nc6 4. e3 e5 5. d4 e4...</td>\n",
       "      <td>2016-06-30 22:01:02</td>\n",
       "      <td>1.467324e+09</td>\n",
       "      <td>gonzo0506</td>\n",
       "      <td>farfalla</td>\n",
       "      <td>0</td>\n",
       "      <td>0</td>\n",
       "    </tr>\n",
       "  </tbody>\n",
       "</table>\n",
       "</div>"
      ],
      "text/plain": [
       "       Event          White      Black Result  WhiteElo  BlackElo  \\\n",
       "0  Classical  Claudiosparov  gonzo0506    0-1      1432      1355   \n",
       "\n",
       "   WhiteRatingDiff  BlackRatingDiff TimeControl Termination  \\\n",
       "0            -14.0             13.0       600+0      Normal   \n",
       "\n",
       "                                                  AN            datetime  \\\n",
       "0  1. a3 d5 2. b4 b5 3. Bb2 Nc6 4. e3 e5 5. d4 e4... 2016-06-30 22:01:02   \n",
       "\n",
       "      timestamp user_to_play_new_pl new_pl_to_play  \\\n",
       "0  1.467324e+09           gonzo0506       farfalla   \n",
       "\n",
       "   both_users_to_play_new_pl_next  2nd_game_opp_had_no_previous_game  \n",
       "0                               0                                  0  "
      ]
     },
     "execution_count": 83,
     "metadata": {},
     "output_type": "execute_result"
    }
   ],
   "source": [
    "example_df = new_pl_2nd_opp_previous_games.head(1)\n",
    "example_df"
   ]
  },
  {
   "cell_type": "code",
   "execution_count": 84,
   "id": "6586d9e9-82e3-4cc1-b9e8-28d38be6f74c",
   "metadata": {},
   "outputs": [
    {
     "data": {
      "text/html": [
       "<div>\n",
       "<style scoped>\n",
       "    .dataframe tbody tr th:only-of-type {\n",
       "        vertical-align: middle;\n",
       "    }\n",
       "\n",
       "    .dataframe tbody tr th {\n",
       "        vertical-align: top;\n",
       "    }\n",
       "\n",
       "    .dataframe thead th {\n",
       "        text-align: right;\n",
       "    }\n",
       "</style>\n",
       "<table border=\"1\" class=\"dataframe\">\n",
       "  <thead>\n",
       "    <tr style=\"text-align: right;\">\n",
       "      <th></th>\n",
       "      <th>Event</th>\n",
       "      <th>White</th>\n",
       "      <th>Black</th>\n",
       "      <th>Result</th>\n",
       "      <th>WhiteElo</th>\n",
       "      <th>BlackElo</th>\n",
       "      <th>WhiteRatingDiff</th>\n",
       "      <th>BlackRatingDiff</th>\n",
       "      <th>TimeControl</th>\n",
       "      <th>Termination</th>\n",
       "      <th>AN</th>\n",
       "      <th>datetime</th>\n",
       "      <th>timestamp</th>\n",
       "      <th>user_to_play_new_pl</th>\n",
       "      <th>new_pl_to_play</th>\n",
       "      <th>both_users_to_play_new_pl_next</th>\n",
       "      <th>2nd_game_opp_had_no_previous_game</th>\n",
       "    </tr>\n",
       "  </thead>\n",
       "  <tbody>\n",
       "    <tr>\n",
       "      <th>0</th>\n",
       "      <td>Classical</td>\n",
       "      <td>Claudiosparov</td>\n",
       "      <td>gonzo0506</td>\n",
       "      <td>0-1</td>\n",
       "      <td>1432.0</td>\n",
       "      <td>1355.0</td>\n",
       "      <td>-14.0</td>\n",
       "      <td>13.0</td>\n",
       "      <td>600+0</td>\n",
       "      <td>Normal</td>\n",
       "      <td>1. a3 d5 2. b4 b5 3. Bb2 Nc6 4. e3 e5 5. d4 e4...</td>\n",
       "      <td>2016-06-30 22:01:02</td>\n",
       "      <td>1.467324e+09</td>\n",
       "      <td>gonzo0506</td>\n",
       "      <td>farfalla</td>\n",
       "      <td>0</td>\n",
       "      <td>0</td>\n",
       "    </tr>\n",
       "    <tr>\n",
       "      <th>1</th>\n",
       "      <td>NaN</td>\n",
       "      <td>NaN</td>\n",
       "      <td>NaN</td>\n",
       "      <td>NaN</td>\n",
       "      <td>NaN</td>\n",
       "      <td>NaN</td>\n",
       "      <td>NaN</td>\n",
       "      <td>NaN</td>\n",
       "      <td>NaN</td>\n",
       "      <td>NaN</td>\n",
       "      <td>NaN</td>\n",
       "      <td>NaT</td>\n",
       "      <td>NaN</td>\n",
       "      <td>NaN</td>\n",
       "      <td>xmen3000</td>\n",
       "      <td>0</td>\n",
       "      <td>1</td>\n",
       "    </tr>\n",
       "  </tbody>\n",
       "</table>\n",
       "</div>"
      ],
      "text/plain": [
       "       Event          White      Black Result  WhiteElo  BlackElo  \\\n",
       "0  Classical  Claudiosparov  gonzo0506    0-1    1432.0    1355.0   \n",
       "1        NaN            NaN        NaN    NaN       NaN       NaN   \n",
       "\n",
       "   WhiteRatingDiff  BlackRatingDiff TimeControl Termination  \\\n",
       "0            -14.0             13.0       600+0      Normal   \n",
       "1              NaN              NaN         NaN         NaN   \n",
       "\n",
       "                                                  AN            datetime  \\\n",
       "0  1. a3 d5 2. b4 b5 3. Bb2 Nc6 4. e3 e5 5. d4 e4... 2016-06-30 22:01:02   \n",
       "1                                                NaN                 NaT   \n",
       "\n",
       "      timestamp user_to_play_new_pl new_pl_to_play  \\\n",
       "0  1.467324e+09           gonzo0506       farfalla   \n",
       "1           NaN                 NaN       xmen3000   \n",
       "\n",
       "   both_users_to_play_new_pl_next  2nd_game_opp_had_no_previous_game  \n",
       "0                               0                                  0  \n",
       "1                               0                                  1  "
      ]
     },
     "execution_count": 84,
     "metadata": {},
     "output_type": "execute_result"
    }
   ],
   "source": [
    "for new_player in new_players_whose_2nd_opponents_have_no_previous_game:\n",
    "    row_to_add = pd.Series()\n",
    "    row_to_add['new_pl_to_play'] = new_player\n",
    "    row_to_add['2nd_game_opp_had_no_previous_game'] = 1\n",
    "    row_to_add['both_users_to_play_new_pl_next'] = 0\n",
    "    \n",
    "    example_df = example_df.append(row_to_add, ignore_index=True)\n",
    "    \n",
    "    #Just add the first of the \"new players whose 2nd opponents have no previous game\", then break\n",
    "    break\n",
    "    \n",
    "#Scroll to the last few columns of example_df to see the non-missing values\n",
    "example_df"
   ]
  },
  {
   "cell_type": "markdown",
   "id": "00fccd40-e372-49d7-ad94-f1ce8c32cecf",
   "metadata": {},
   "source": [
    "#### Add the \"new players whose 2nd opponents have no previous game\" to our dataframe"
   ]
  },
  {
   "cell_type": "code",
   "execution_count": 85,
   "id": "e9bd2e65-68e0-4e4c-bbb7-4fca476bca3b",
   "metadata": {},
   "outputs": [],
   "source": [
    "for new_player in new_players_whose_2nd_opponents_have_no_previous_game:\n",
    "    row_to_add = pd.Series()\n",
    "    row_to_add['new_pl_to_play'] = new_player\n",
    "    row_to_add['2nd_game_opp_had_no_previous_game'] = 1\n",
    "    row_to_add['both_users_to_play_new_pl_next'] = 0\n",
    "    \n",
    "    new_pl_2nd_opp_previous_games = new_pl_2nd_opp_previous_games.append(row_to_add, ignore_index=True)"
   ]
  },
  {
   "cell_type": "code",
   "execution_count": 86,
   "id": "f2a60e23-a30b-42b3-9e8b-415a2286c2ea",
   "metadata": {},
   "outputs": [
    {
     "data": {
      "text/plain": [
       "True"
      ]
     },
     "execution_count": 86,
     "metadata": {},
     "output_type": "execute_result"
    }
   ],
   "source": [
    "#Check that our dataframe now has the same number of rows as there are new players who play at least 2 games\n",
    "len(new_pl_2nd_opp_previous_games) == len(new_played2)"
   ]
  },
  {
   "cell_type": "code",
   "execution_count": 87,
   "id": "ac585ba6-9edb-4269-8a48-ac30d3a5f964",
   "metadata": {},
   "outputs": [
    {
     "data": {
      "text/plain": [
       "465"
      ]
     },
     "execution_count": 87,
     "metadata": {},
     "output_type": "execute_result"
    }
   ],
   "source": [
    "#Check that we have the correct number of rows in this dataframe corresponding to new players\n",
    "#whose 2nd-game opponents had no previous game this month\n",
    "len(new_pl_2nd_opp_previous_games[new_pl_2nd_opp_previous_games['2nd_game_opp_had_no_previous_game']!=0])"
   ]
  },
  {
   "cell_type": "markdown",
   "id": "6c3944e3-811f-4a2f-942d-335156c16a7d",
   "metadata": {},
   "source": [
    "### Change the index of the dataframe to be the name of the new player who will be played against next game"
   ]
  },
  {
   "cell_type": "code",
   "execution_count": 88,
   "id": "e833c51c-ebb8-4e07-b760-1578ba4e2859",
   "metadata": {},
   "outputs": [],
   "source": [
    "#Rename a couple columns to make their meanings clearer\n",
    "new_pl_2nd_opp_previous_games.rename(columns={'new_pl_to_play':'new_pl_to_be_played_next_game',\n",
    "                                      'user_to_play_new_pl':'user_to_play_new_pl_next_game'},\n",
    "                                    inplace=True)"
   ]
  },
  {
   "cell_type": "code",
   "execution_count": 89,
   "id": "41022151-b719-4690-8f70-1f4e50c1d89b",
   "metadata": {},
   "outputs": [],
   "source": [
    "new_pl_2nd_opp_previous_games.set_index('new_pl_to_be_played_next_game', inplace=True)"
   ]
  },
  {
   "cell_type": "code",
   "execution_count": 90,
   "id": "d4055a0b-8d33-44af-81e6-04bd55ab0902",
   "metadata": {},
   "outputs": [
    {
     "data": {
      "text/html": [
       "<div>\n",
       "<style scoped>\n",
       "    .dataframe tbody tr th:only-of-type {\n",
       "        vertical-align: middle;\n",
       "    }\n",
       "\n",
       "    .dataframe tbody tr th {\n",
       "        vertical-align: top;\n",
       "    }\n",
       "\n",
       "    .dataframe thead th {\n",
       "        text-align: right;\n",
       "    }\n",
       "</style>\n",
       "<table border=\"1\" class=\"dataframe\">\n",
       "  <thead>\n",
       "    <tr style=\"text-align: right;\">\n",
       "      <th></th>\n",
       "      <th>Event</th>\n",
       "      <th>White</th>\n",
       "      <th>Black</th>\n",
       "      <th>Result</th>\n",
       "      <th>WhiteElo</th>\n",
       "      <th>BlackElo</th>\n",
       "      <th>WhiteRatingDiff</th>\n",
       "      <th>BlackRatingDiff</th>\n",
       "      <th>TimeControl</th>\n",
       "      <th>Termination</th>\n",
       "      <th>AN</th>\n",
       "      <th>datetime</th>\n",
       "      <th>timestamp</th>\n",
       "      <th>user_to_play_new_pl_next_game</th>\n",
       "      <th>both_users_to_play_new_pl_next</th>\n",
       "      <th>2nd_game_opp_had_no_previous_game</th>\n",
       "    </tr>\n",
       "    <tr>\n",
       "      <th>new_pl_to_be_played_next_game</th>\n",
       "      <th></th>\n",
       "      <th></th>\n",
       "      <th></th>\n",
       "      <th></th>\n",
       "      <th></th>\n",
       "      <th></th>\n",
       "      <th></th>\n",
       "      <th></th>\n",
       "      <th></th>\n",
       "      <th></th>\n",
       "      <th></th>\n",
       "      <th></th>\n",
       "      <th></th>\n",
       "      <th></th>\n",
       "      <th></th>\n",
       "      <th></th>\n",
       "    </tr>\n",
       "  </thead>\n",
       "  <tbody>\n",
       "    <tr>\n",
       "      <th>farfalla</th>\n",
       "      <td>Classical</td>\n",
       "      <td>Claudiosparov</td>\n",
       "      <td>gonzo0506</td>\n",
       "      <td>0-1</td>\n",
       "      <td>1432.0</td>\n",
       "      <td>1355.0</td>\n",
       "      <td>-14.0</td>\n",
       "      <td>13.0</td>\n",
       "      <td>600+0</td>\n",
       "      <td>Normal</td>\n",
       "      <td>1. a3 d5 2. b4 b5 3. Bb2 Nc6 4. e3 e5 5. d4 e4...</td>\n",
       "      <td>2016-06-30 22:01:02</td>\n",
       "      <td>1.467324e+09</td>\n",
       "      <td>gonzo0506</td>\n",
       "      <td>0</td>\n",
       "      <td>0</td>\n",
       "    </tr>\n",
       "  </tbody>\n",
       "</table>\n",
       "</div>"
      ],
      "text/plain": [
       "                                   Event          White      Black Result  \\\n",
       "new_pl_to_be_played_next_game                                               \n",
       "farfalla                       Classical  Claudiosparov  gonzo0506    0-1   \n",
       "\n",
       "                               WhiteElo  BlackElo  WhiteRatingDiff  \\\n",
       "new_pl_to_be_played_next_game                                        \n",
       "farfalla                         1432.0    1355.0            -14.0   \n",
       "\n",
       "                               BlackRatingDiff TimeControl Termination  \\\n",
       "new_pl_to_be_played_next_game                                            \n",
       "farfalla                                  13.0       600+0      Normal   \n",
       "\n",
       "                                                                              AN  \\\n",
       "new_pl_to_be_played_next_game                                                      \n",
       "farfalla                       1. a3 d5 2. b4 b5 3. Bb2 Nc6 4. e3 e5 5. d4 e4...   \n",
       "\n",
       "                                         datetime     timestamp  \\\n",
       "new_pl_to_be_played_next_game                                     \n",
       "farfalla                      2016-06-30 22:01:02  1.467324e+09   \n",
       "\n",
       "                              user_to_play_new_pl_next_game  \\\n",
       "new_pl_to_be_played_next_game                                 \n",
       "farfalla                                          gonzo0506   \n",
       "\n",
       "                               both_users_to_play_new_pl_next  \\\n",
       "new_pl_to_be_played_next_game                                   \n",
       "farfalla                                                    0   \n",
       "\n",
       "                               2nd_game_opp_had_no_previous_game  \n",
       "new_pl_to_be_played_next_game                                     \n",
       "farfalla                                                       0  "
      ]
     },
     "execution_count": 90,
     "metadata": {},
     "output_type": "execute_result"
    }
   ],
   "source": [
    "new_pl_2nd_opp_previous_games.head(1)"
   ]
  },
  {
   "cell_type": "code",
   "execution_count": 91,
   "id": "ead0a943-cea6-4498-a24a-8f487472aa76",
   "metadata": {},
   "outputs": [
    {
     "data": {
      "text/plain": [
       "24284"
      ]
     },
     "execution_count": 91,
     "metadata": {},
     "output_type": "execute_result"
    }
   ],
   "source": [
    "#How many \"new players\" are accounted for in the index of this new dataframe?\n",
    "len(new_pl_2nd_opp_previous_games.index)"
   ]
  },
  {
   "cell_type": "code",
   "execution_count": 92,
   "id": "b791fb9d-41c8-4be8-ba8b-4ee1b098f205",
   "metadata": {},
   "outputs": [
    {
     "data": {
      "text/plain": [
       "True"
      ]
     },
     "execution_count": 92,
     "metadata": {},
     "output_type": "execute_result"
    }
   ],
   "source": [
    "#Check that no player appears more than once in the dataframe's index\n",
    "len(new_pl_2nd_opp_previous_games.index) == len(set(new_pl_2nd_opp_previous_games.index))"
   ]
  },
  {
   "cell_type": "code",
   "execution_count": 93,
   "id": "88dc830a-7445-4291-9f57-a4b4d39a2e7b",
   "metadata": {},
   "outputs": [
    {
     "data": {
      "text/plain": [
       "True"
      ]
     },
     "execution_count": 93,
     "metadata": {},
     "output_type": "execute_result"
    }
   ],
   "source": [
    "#Check that we have exactly the same distinct players as our set of \"new players\n",
    "#who have played at least 2 games this month\"\n",
    "set(new_pl_1st_games.index) == set(new_played2)"
   ]
  },
  {
   "cell_type": "code",
   "execution_count": 94,
   "id": "c38ee940-b14b-4728-84f3-08ea85773d27",
   "metadata": {},
   "outputs": [],
   "source": [
    "new_pl_2nd_opp_previous_games.to_csv('../data/processed/new_pl_2nd_opp_previous_games.csv', index_label='new_pl_to_be_played_next_game')"
   ]
  },
  {
   "cell_type": "code",
   "execution_count": null,
   "id": "51283c40-ac99-40ca-be15-c7c4d002d7d0",
   "metadata": {},
   "outputs": [],
   "source": []
  },
  {
   "cell_type": "code",
   "execution_count": null,
   "id": "ae41d30a-8b07-4e5e-80a1-4b8780ca49d1",
   "metadata": {},
   "outputs": [],
   "source": []
  },
  {
   "cell_type": "code",
   "execution_count": null,
   "id": "1d4fc11b-8cd5-4e69-a381-345a6e817ff2",
   "metadata": {},
   "outputs": [],
   "source": []
  },
  {
   "cell_type": "code",
   "execution_count": null,
   "id": "983e7dbf-2046-4c69-92a3-59facea2ef2c",
   "metadata": {},
   "outputs": [],
   "source": []
  },
  {
   "cell_type": "code",
   "execution_count": null,
   "id": "e05dbcc4-4733-4e3f-87ca-d5945d62883a",
   "metadata": {},
   "outputs": [],
   "source": []
  },
  {
   "cell_type": "code",
   "execution_count": null,
   "id": "78fa8ab7-d673-4a75-bce4-948551d259fd",
   "metadata": {},
   "outputs": [],
   "source": []
  },
  {
   "cell_type": "code",
   "execution_count": null,
   "id": "dc230961-b3ab-4e33-a86c-f33d8e10728d",
   "metadata": {},
   "outputs": [],
   "source": []
  },
  {
   "cell_type": "code",
   "execution_count": null,
   "id": "3fa1a399-8961-4264-97ef-79eb31ce9926",
   "metadata": {},
   "outputs": [],
   "source": []
  },
  {
   "cell_type": "code",
   "execution_count": null,
   "id": "f50fd811-9883-46da-84fe-b60df1bb8497",
   "metadata": {},
   "outputs": [],
   "source": []
  },
  {
   "cell_type": "markdown",
   "id": "1f66fbb2-0f24-43d4-9faa-b5d92d361861",
   "metadata": {},
   "source": [
    "# Converting 'AN' column to sequences of moves\n",
    "\n",
    "'AN' stands for [Algebraic Notation](https://en.wikipedia.org/wiki/Algebraic_notation_(chess))."
   ]
  },
  {
   "cell_type": "code",
   "execution_count": 44,
   "id": "94b4476f-898f-4545-a587-e89cb874255e",
   "metadata": {},
   "outputs": [
    {
     "data": {
      "text/plain": [
       "'1. e4 e5 2. Nf3 Nf6 3. Nxe5 Nxe4 4. Qe2 Qe7 5. Qxe4 d6 6. d4 dxe5 7. dxe5 Qb4+ 8. Qxb4 Bxb4+ 9. Bd2 a5 10. Bxb4 axb4 11. Nd2 Bf5 12. O-O-O O-O 13. b3 Rxa2 14. Kb1 Rxc2 15. Ka1 Rd8 16. Bc4 Nc6 17. Nf3 Ra8+ 18. Kb1 Rxc4+ 19. Kb2 Rc2+ 20. Kb1 Rxf2+ 21. Kc1 Ra1# 0-1'"
      ]
     },
     "execution_count": 44,
     "metadata": {},
     "output_type": "execute_result"
    }
   ],
   "source": [
    "#An example game\n",
    "df.loc[6246093, 'AN']"
   ]
  },
  {
   "cell_type": "markdown",
   "id": "9cf66702-723b-4493-a9cd-ac1511ee09c0",
   "metadata": {},
   "source": [
    "A \"+\" means Check and a \"#\" means Checkmate.  An equals sign (=) indicates a promotion of a pawn into the piece after the equals sign.  A '0-0' indicates a king-side Castle, and a '0-0-0' indicates a queen-side Castle."
   ]
  },
  {
   "cell_type": "code",
   "execution_count": 45,
   "id": "83a25aff-5dd4-4095-a5c4-fc48a030714f",
   "metadata": {},
   "outputs": [
    {
     "data": {
      "text/plain": [
       "'1. c4 { [%eval 0.04] } 1... g6 { [%eval 0.51] } 2. Nc3 { [%eval 0.26] } 2... Bg7 { [%eval 0.38] } 3. d4 { [%eval 0.38] } 3... d6 { [%eval 0.43] } 4. Nf3 { [%eval 0.45] } 4... Nf6 { [%eval 0.56] } 5. e4 { [%eval 0.38] } 5... Bg4 { [%eval 0.43] } 6. Be3 { [%eval 0.35] } 6... O-O { [%eval 0.43] } 7. Be2 { [%eval 0.43] } 7... Nc6 { [%eval 0.77] } 8. O-O { [%eval 0.46] } 8... a6 { [%eval 0.85] } 9. h3?! { [%eval 0.22] } 9... Bxf3 { [%eval 0.24] } 10. Bxf3 { [%eval 0.17] } 10... Qc8?! { [%eval 0.87] } 11. Be2 { [%eval 0.38] } 11... Nd8?! { [%eval 1.16] } 12. d5 { [%eval 1.01] } 12... Ne8 { [%eval 1.27] } 13. Qb3 { [%eval 1.1] } 13... c5 { [%eval 1.27] } 14. a4 { [%eval 1.21] } 14... Nc7 { [%eval 1.7] } 15. a5 { [%eval 1.68] } 15... Rb8 { [%eval 1.8] } 16. Rfd1 { [%eval 1.43] } 16... b5 { [%eval 1.43] } 17. axb6 { [%eval 1.35] } 17... Na8 { [%eval 1.39] } 18. Qc2 { [%eval 1.35] } 18... Rxb6 { [%eval 1.5] } 19. Bg5 { [%eval 1.36] } 19... Qb7 { [%eval 1.65] } 20. Na4 { [%eval 1.67] } 20... Bxb2? { [%eval 3.48] } 21. Rab1 { [%eval 3.14] } 21... Bf6? { [%eval 4.87] } 22. Bxf6 { [%eval 4.87] } 22... Rxb1 { [%eval 4.87] } 23. Rxb1 { [%eval 4.77] } 23... Qd7 { [%eval 5.18] } 24. Bg4 { [%eval 4.94] } 24... Qxa4?? { [%eval 16.72] } 25. Qxa4 { [%eval 16.36] } 25... exf6 { [%eval 16.14] } 26. Qxa6 { [%eval 15.21] } 26... Nc7 { [%eval 18.1] } 27. Qxd6 { [%eval 16.47] } 27... Ne8 { [%eval 19.09] } 28. Qxd8 { [%eval 17.53] } 28... Ng7?! { [%eval #10] } 29. Rb8 { [%eval #9] } 29... Rxd8 { [%eval #9] } 30. Rxd8+ { [%eval #8] } 30... Ne8 { [%eval #8] } 31. Rxe8+ { [%eval #7] } 31... Kg7 { [%eval #7] } 32. d6 { [%eval #6] } 32... f5 { [%eval #6] } 33. exf5 { [%eval #6] } 33... gxf5 { [%eval #6] } 34. Bxf5 { [%eval #6] } 34... f6 { [%eval #5] } 35. d7 { [%eval #4] } 35... Kh6 { [%eval #4] } 36. d8=Q { [%eval #3] } 36... Kg5 { [%eval #3] } 37. Rg8+ { [%eval #2] } 37... Kxf5 { [%eval #2] } 0-1'"
      ]
     },
     "execution_count": 45,
     "metadata": {},
     "output_type": "execute_result"
    }
   ],
   "source": [
    "#An example game that comes with Stockfish evaluation numbers\n",
    "df.loc[6248556, 'AN']"
   ]
  },
  {
   "cell_type": "markdown",
   "id": "a41103b8-c990-4849-a57a-2a298772c960",
   "metadata": {},
   "source": [
    "Here, the items in braces are the Stockfish evaluations in centipawns of white advantage (or in number of moves until a checkmate, at the end of the game).  Annotations like \"??\" and \"?!\" are simply Stockfish automatically stating which moves are bad / surprising.  Thus, to extract just the *moves* from the game, we should ignore these annotations as well as anything in braces."
   ]
  },
  {
   "cell_type": "code",
   "execution_count": 57,
   "id": "1726a42a-4794-44eb-9e60-a9eb5c774a08",
   "metadata": {},
   "outputs": [
    {
     "data": {
      "text/plain": [
       "'1. d4 d5 2. f3 c6 3. e4 dxe4 4. Nc3 e5 5. d5 Nf6 6. Bg5 Bb4 7. fxe4 Qa5 8. Bxf6 Bxc3+ 9. Ke2 Bxb2 10. Bxg7 Rg8 11. Rb1 Bd4 12. Bh6 cxd5 13. exd5 Qxd5 14. Nf3 Bg4 15. Rb3 e4 16. Re3 Nc6 17. h3 O-O-O 18. hxg4 exf3+ 19. gxf3 Bxe3 20. Qxd5 Rxd5 21. Bxe3 Re8 22. Kf2 Ra5 23. Bc4 b5 24. Bb3 Ne5 25. Rxh7 Re7 26. Rh8+ Kd7 27. Rb8 Nc4 28. Bg5 Re5 29. f4 Rd5 30. Rb7+ Kc6 31. Rxf7 Rd2+ 32. Kg3 Ra6 33. Rf6+ Kb7 34. Rf7+ Kc8 35. Rf8+ Kd7 36. a4 bxa4 37. Bxc4 a3 38. Rf7+ Ke8 39. Re7+ Kf8 40. Bxa6 a2 41. Bf6 Rxc2 42. Bd3 Rc3 43. Kh4 a1=Q 44. Bxc3 Qxc3 45. Bf5 Qf6+ 46. g5 Qxe7 47. Kh5 a5 48. g6 Qg7 49. Kg5 Ke7 50. Be6 Qf6+ 51. Kh6 Kxe6 52. Kh7 Qg7+ 53. Kxg7 Kf5 54. Kh7 Kxf4 55. g7 a4 56. g8=Q a3 57. Qa2 Ke5 58. Qxa3 Kd4 59. Qa4+ Ke5 1/2-1/2'"
      ]
     },
     "execution_count": 57,
     "metadata": {},
     "output_type": "execute_result"
    }
   ],
   "source": [
    "#An example game that ends in a draw\n",
    "df.loc[274, 'AN']"
   ]
  },
  {
   "cell_type": "code",
   "execution_count": 41,
   "id": "8ad95d58-66aa-4cda-a442-6ccfe27feb72",
   "metadata": {},
   "outputs": [],
   "source": [
    "def remove_braces(s):\n",
    "    '''\n",
    "    Removes any segments of the string s that are in braces.  For example,\n",
    "    'This {is a} message { }' becomes 'This  message '.\n",
    "    '''\n",
    "    is_brace = 0\n",
    "    output = ''\n",
    "    for i in range(len(s)):\n",
    "        if s[i]=='{':\n",
    "            is_brace = 1\n",
    "        if is_brace == 0:\n",
    "            output += s[i]\n",
    "            continue\n",
    "        else:\n",
    "            if s[i] == '}':\n",
    "                is_brace=0\n",
    "                continue\n",
    "    \n",
    "    return output"
   ]
  },
  {
   "cell_type": "code",
   "execution_count": 42,
   "id": "66cde6b0-e369-4653-8a44-26e678069dec",
   "metadata": {},
   "outputs": [
    {
     "data": {
      "text/plain": [
       "'1. c4  1... g6  2. Nc3  2... Bg7  3. d4  3... d6  4. Nf3  4... Nf6  5. e4  5... Bg4  6. Be3  6... O-O  7. Be2  7... Nc6  8. O-O  8... a6  9. h3?!  9... Bxf3  10. Bxf3  10... Qc8?!  11. Be2  11... Nd8?!  12. d5  12... Ne8  13. Qb3  13... c5  14. a4  14... Nc7  15. a5  15... Rb8  16. Rfd1  16... b5  17. axb6  17... Na8  18. Qc2  18... Rxb6  19. Bg5  19... Qb7  20. Na4  20... Bxb2?  21. Rab1  21... Bf6?  22. Bxf6  22... Rxb1  23. Rxb1  23... Qd7  24. Bg4  24... Qxa4??  25. Qxa4  25... exf6  26. Qxa6  26... Nc7  27. Qxd6  27... Ne8  28. Qxd8  28... Ng7?!  29. Rb8  29... Rxd8  30. Rxd8+  30... Ne8  31. Rxe8+  31... Kg7  32. d6  32... f5  33. exf5  33... gxf5  34. Bxf5  34... f6  35. d7  35... Kh6  36. d8=Q  36... Kg5  37. Rg8+  37... Kxf5  0-1'"
      ]
     },
     "execution_count": 42,
     "metadata": {},
     "output_type": "execute_result"
    }
   ],
   "source": [
    "remove_braces(df.loc[6248556, 'AN'])"
   ]
  },
  {
   "cell_type": "code",
   "execution_count": 43,
   "id": "afe65a84-b30d-406b-b98a-7a6f389482d7",
   "metadata": {},
   "outputs": [
    {
     "data": {
      "text/plain": [
       "'1. e4 e5 2. Nf3 Nf6 3. Nxe5 Nxe4 4. Qe2 Qe7 5. Qxe4 d6 6. d4 dxe5 7. dxe5 Qb4+ 8. Qxb4 Bxb4+ 9. Bd2 a5 10. Bxb4 axb4 11. Nd2 Bf5 12. O-O-O O-O 13. b3 Rxa2 14. Kb1 Rxc2 15. Ka1 Rd8 16. Bc4 Nc6 17. Nf3 Ra8+ 18. Kb1 Rxc4+ 19. Kb2 Rc2+ 20. Kb1 Rxf2+ 21. Kc1 Ra1# 0-1'"
      ]
     },
     "execution_count": 43,
     "metadata": {},
     "output_type": "execute_result"
    }
   ],
   "source": [
    "remove_braces(df.loc[6246093, 'AN'])"
   ]
  },
  {
   "cell_type": "code",
   "execution_count": 70,
   "id": "f475c402-3af9-4ba9-8263-a4b44a4a0da8",
   "metadata": {},
   "outputs": [],
   "source": [
    "#Get rid of the move numbers\n",
    "def remove_numbers(s):\n",
    "    return re.sub( '\\d+\\.+' , '', s).lstrip()"
   ]
  },
  {
   "cell_type": "code",
   "execution_count": 71,
   "id": "bbe413a9-1dd8-436b-94e0-32a37720de2c",
   "metadata": {},
   "outputs": [],
   "source": [
    "#Remove the ending 0-1, 1-0, or 1/2-1/2 from the string\n",
    "def remove_ending(s):\n",
    "    if (s[-3:]=='0-1') or (s[-3:]=='1-0'):\n",
    "        return s[:-3].rstrip()\n",
    "    elif s[-7:]=='1/2-1/2':\n",
    "        return s[:-7].rstrip()"
   ]
  },
  {
   "cell_type": "code",
   "execution_count": 72,
   "id": "da00fda9-8a1e-4964-a496-eae6ee325526",
   "metadata": {},
   "outputs": [],
   "source": [
    "#Remove any question marks and exclamation marks\n",
    "def remove_marks(s):\n",
    "    return re.sub('(\\?|\\!)+', '', s)"
   ]
  },
  {
   "cell_type": "code",
   "execution_count": 73,
   "id": "5c24a2a5-16d6-4302-9379-6f252215e701",
   "metadata": {},
   "outputs": [],
   "source": [
    "def format_game(s):\n",
    "    return remove_marks(remove_ending(remove_numbers(remove_braces(s))))"
   ]
  },
  {
   "cell_type": "code",
   "execution_count": 74,
   "id": "44ee8d4f-b993-4a97-8d61-167a2d679e63",
   "metadata": {},
   "outputs": [
    {
     "data": {
      "text/plain": [
       "'c4   g6   Nc3   Bg7   d4   d6   Nf3   Nf6   e4   Bg4   Be3   O-O   Be2   Nc6   O-O   a6   h3   Bxf3   Bxf3   Qc8   Be2   Nd8   d5   Ne8   Qb3   c5   a4   Nc7   a5   Rb8   Rfd1   b5   axb6   Na8   Qc2   Rxb6   Bg5   Qb7   Na4   Bxb2   Rab1   Bf6   Bxf6   Rxb1   Rxb1   Qd7   Bg4   Qxa4   Qxa4   exf6   Qxa6   Nc7   Qxd6   Ne8   Qxd8   Ng7   Rb8   Rxd8   Rxd8+   Ne8   Rxe8+   Kg7   d6   f5   exf5   gxf5   Bxf5   f6   d7   Kh6   d8=Q   Kg5   Rg8+   Kxf5'"
      ]
     },
     "execution_count": 74,
     "metadata": {},
     "output_type": "execute_result"
    }
   ],
   "source": [
    "format_game(df.loc[6248556, 'AN'])"
   ]
  },
  {
   "cell_type": "code",
   "execution_count": 75,
   "id": "f19bbd09-84ff-4ce9-8a2e-b6baaf7acefd",
   "metadata": {},
   "outputs": [
    {
     "data": {
      "text/plain": [
       "'e4 e5  Nf3 Nf6  Nxe5 Nxe4  Qe2 Qe7  Qxe4 d6  d4 dxe5  dxe5 Qb4+  Qxb4 Bxb4+  Bd2 a5  Bxb4 axb4  Nd2 Bf5  O-O-O O-O  b3 Rxa2  Kb1 Rxc2  Ka1 Rd8  Bc4 Nc6  Nf3 Ra8+  Kb1 Rxc4+  Kb2 Rc2+  Kb1 Rxf2+  Kc1 Ra1#'"
      ]
     },
     "execution_count": 75,
     "metadata": {},
     "output_type": "execute_result"
    }
   ],
   "source": [
    "format_game(df.loc[6246093, 'AN'])"
   ]
  },
  {
   "cell_type": "code",
   "execution_count": null,
   "id": "8f0fc033-9bbf-43a3-b9ec-7493e0362996",
   "metadata": {},
   "outputs": [],
   "source": []
  },
  {
   "cell_type": "code",
   "execution_count": null,
   "id": "3722cd4a-1e3e-4d8e-ab49-578f67361eea",
   "metadata": {},
   "outputs": [],
   "source": []
  },
  {
   "cell_type": "code",
   "execution_count": null,
   "id": "388659c2-ad1c-46f6-a25c-93f5317f7b90",
   "metadata": {},
   "outputs": [],
   "source": []
  },
  {
   "cell_type": "code",
   "execution_count": null,
   "id": "9f9c3f10-8534-4db2-8782-ac472197ed07",
   "metadata": {},
   "outputs": [],
   "source": []
  },
  {
   "cell_type": "code",
   "execution_count": null,
   "id": "5729bbbb-ea5d-4c43-a44a-d7c2e06ff100",
   "metadata": {},
   "outputs": [],
   "source": []
  },
  {
   "cell_type": "code",
   "execution_count": null,
   "id": "e484c64e-28be-4614-abbe-f30f103a5645",
   "metadata": {},
   "outputs": [],
   "source": []
  },
  {
   "cell_type": "code",
   "execution_count": null,
   "id": "84ccb114-8fec-43fb-8a0c-06e97d19973a",
   "metadata": {},
   "outputs": [],
   "source": []
  },
  {
   "cell_type": "markdown",
   "id": "7a7e35c2-351b-4700-b3d4-0fb97eca4915",
   "metadata": {},
   "source": [
    "### Finding players who had a 1500 rating at any point in the month"
   ]
  },
  {
   "cell_type": "code",
   "execution_count": 7,
   "id": "0a21827f-1620-498a-ae8d-806b80ccbf35",
   "metadata": {},
   "outputs": [],
   "source": [
    "white_1500s = df[df['WhiteElo']==1500]\n",
    "black_1500s = df[df['BlackElo']==1500]"
   ]
  },
  {
   "cell_type": "code",
   "execution_count": 8,
   "id": "6df802c2-7eeb-4c7d-921d-0e8a11154f7b",
   "metadata": {},
   "outputs": [
    {
     "data": {
      "text/plain": [
       "(43540, 32326)"
      ]
     },
     "execution_count": 8,
     "metadata": {},
     "output_type": "execute_result"
    }
   ],
   "source": [
    "len(white_1500s), len(black_1500s)"
   ]
  },
  {
   "cell_type": "markdown",
   "id": "21fc3846-ccc6-4853-93e7-68b89c14c598",
   "metadata": {},
   "source": [
    "It appears that players with a 1500 rating are more likely to be assigned to White than to Black.\n",
    "\n",
    "We'll now want to restrict attention to those games involving players who had a 1500 rating at some point in the month of data we have.  The easiest way to do this is to concatenate the `white_1500s` and `black_1500s` dataframes we just made, but make sure to avoid duplicating games where *both* players had a rating of 1500.  Specifically, we'll join those games where *Black (and ONLY Black) had a rating of 1500* to those games where White had a rating of 1500 (and Black may or may not have had a 1500 rating):"
   ]
  },
  {
   "cell_type": "code",
   "execution_count": 9,
   "id": "903830f5-1398-46d0-b4e0-c0a79b30de52",
   "metadata": {},
   "outputs": [],
   "source": [
    "only_black_1500s = black_1500s[black_1500s['WhiteElo']!=1500]"
   ]
  },
  {
   "cell_type": "code",
   "execution_count": 10,
   "id": "32ac2df9-6dbd-4f37-bb22-e263819d56ee",
   "metadata": {},
   "outputs": [
    {
     "data": {
      "text/html": [
       "<div>\n",
       "<style scoped>\n",
       "    .dataframe tbody tr th:only-of-type {\n",
       "        vertical-align: middle;\n",
       "    }\n",
       "\n",
       "    .dataframe tbody tr th {\n",
       "        vertical-align: top;\n",
       "    }\n",
       "\n",
       "    .dataframe thead th {\n",
       "        text-align: right;\n",
       "    }\n",
       "</style>\n",
       "<table border=\"1\" class=\"dataframe\">\n",
       "  <thead>\n",
       "    <tr style=\"text-align: right;\">\n",
       "      <th></th>\n",
       "      <th>Event</th>\n",
       "      <th>White</th>\n",
       "      <th>Black</th>\n",
       "      <th>Result</th>\n",
       "      <th>WhiteElo</th>\n",
       "      <th>BlackElo</th>\n",
       "      <th>WhiteRatingDiff</th>\n",
       "      <th>BlackRatingDiff</th>\n",
       "      <th>ECO</th>\n",
       "      <th>Opening</th>\n",
       "      <th>TimeControl</th>\n",
       "      <th>Termination</th>\n",
       "      <th>AN</th>\n",
       "      <th>datetime</th>\n",
       "      <th>timestamp</th>\n",
       "    </tr>\n",
       "  </thead>\n",
       "  <tbody>\n",
       "    <tr>\n",
       "      <th>198</th>\n",
       "      <td>Blitz tournament</td>\n",
       "      <td>slichess</td>\n",
       "      <td>redscale</td>\n",
       "      <td>1-0</td>\n",
       "      <td>1500</td>\n",
       "      <td>1385</td>\n",
       "      <td>128.0</td>\n",
       "      <td>-16.0</td>\n",
       "      <td>D06</td>\n",
       "      <td>Queen's Gambit Refused: Marshall Defense</td>\n",
       "      <td>180+2</td>\n",
       "      <td>Normal</td>\n",
       "      <td>1. d4 Nf6 2. c4 d5 3. cxd5 Nxd5 4. e4 Nf6 5. N...</td>\n",
       "      <td>2016-06-30 22:00:51</td>\n",
       "      <td>1.467324e+09</td>\n",
       "    </tr>\n",
       "    <tr>\n",
       "      <th>205</th>\n",
       "      <td>Blitz</td>\n",
       "      <td>irakli112233</td>\n",
       "      <td>irakli1811</td>\n",
       "      <td>1-0</td>\n",
       "      <td>1500</td>\n",
       "      <td>1500</td>\n",
       "      <td>NaN</td>\n",
       "      <td>NaN</td>\n",
       "      <td>A00</td>\n",
       "      <td>Van't Kruijs Opening</td>\n",
       "      <td>300+0</td>\n",
       "      <td>Normal</td>\n",
       "      <td>1. e3 f5 2. d3 g5 3. Qh5# 1-0</td>\n",
       "      <td>2016-06-30 22:00:54</td>\n",
       "      <td>1.467324e+09</td>\n",
       "    </tr>\n",
       "  </tbody>\n",
       "</table>\n",
       "</div>"
      ],
      "text/plain": [
       "                  Event         White       Black Result  WhiteElo  BlackElo  \\\n",
       "198   Blitz tournament       slichess    redscale    1-0      1500      1385   \n",
       "205              Blitz   irakli112233  irakli1811    1-0      1500      1500   \n",
       "\n",
       "     WhiteRatingDiff  BlackRatingDiff  ECO  \\\n",
       "198            128.0            -16.0  D06   \n",
       "205              NaN              NaN  A00   \n",
       "\n",
       "                                      Opening TimeControl Termination  \\\n",
       "198  Queen's Gambit Refused: Marshall Defense       180+2      Normal   \n",
       "205                      Van't Kruijs Opening       300+0      Normal   \n",
       "\n",
       "                                                    AN            datetime  \\\n",
       "198  1. d4 Nf6 2. c4 d5 3. cxd5 Nxd5 4. e4 Nf6 5. N... 2016-06-30 22:00:51   \n",
       "205                      1. e3 f5 2. d3 g5 3. Qh5# 1-0 2016-06-30 22:00:54   \n",
       "\n",
       "        timestamp  \n",
       "198  1.467324e+09  \n",
       "205  1.467324e+09  "
      ]
     },
     "execution_count": 10,
     "metadata": {},
     "output_type": "execute_result"
    }
   ],
   "source": [
    "new_players = pd.concat([white_1500s, only_black_1500s])\n",
    "new_players.head(2)"
   ]
  },
  {
   "cell_type": "markdown",
   "id": "75c585f0-a392-4a4e-b43e-85211fe010de",
   "metadata": {},
   "source": [
    "### Keeping only those players who had a 1500 rating in their *first* game of the month"
   ]
  },
  {
   "cell_type": "code",
   "execution_count": 11,
   "id": "5bc69b18-d5de-4a52-9834-942fa3f341a6",
   "metadata": {},
   "outputs": [],
   "source": [
    "#Get the names of all players who were part of a match involving a 1500-rated player\n",
    "names = set(new_players['White']).union(set(new_players['Black']))"
   ]
  },
  {
   "cell_type": "code",
   "execution_count": 14,
   "id": "9fd763f2-967f-451e-8529-a5ec51c1b87e",
   "metadata": {},
   "outputs": [],
   "source": [
    "#Make a dictionary mapping these players' names to lists of times when they played the games\n",
    "game_times = {}\n",
    "#Initialize empty lists of game times for each player\n",
    "for name in names:\n",
    "    game_times[name]=[]\n",
    "\n",
    "#Loop over the rows of the dataframe and record the times of the games in each player's entry in the dictionary\n",
    "for ind in new_players.index:\n",
    "    row = new_players.loc[ind]\n",
    "    white_name = row['White']\n",
    "    black_name = row['Black']\n",
    "    game_times[white_name].append(row['timestamp'])\n",
    "    game_times[black_name].append(row['timestamp'])"
   ]
  },
  {
   "cell_type": "markdown",
   "id": "f781da21-54c0-42ff-934f-98c6390578d0",
   "metadata": {},
   "source": [
    "#### Get the first games of players with 1500 ratings"
   ]
  },
  {
   "cell_type": "code",
   "execution_count": 31,
   "id": "0901c391-30a8-460f-8aa6-2df527b3200b",
   "metadata": {},
   "outputs": [],
   "source": [
    "#Loop over all the rows of our \"new_players\" dataframe.\n",
    "#If the row contains only one player with a 1500 rating, and \n",
    "    "
   ]
  },
  {
   "cell_type": "markdown",
   "id": "e17a29e4-4234-4ff4-90a1-e9979b689bac",
   "metadata": {},
   "source": [
    "### Finding the second-game opponents of these players"
   ]
  },
  {
   "cell_type": "markdown",
   "id": "f9218461-fbf4-4e84-a089-790bd97d7b74",
   "metadata": {},
   "source": [
    "# NEED TO CHANGE THIS TO REFLECT THAT 'df' NO LONGER IS JUST THE 1500-RANKED PLAYERS"
   ]
  },
  {
   "cell_type": "code",
   "execution_count": 28,
   "id": "65c6441d-0310-4441-831c-ca8fb3958c8e",
   "metadata": {},
   "outputs": [
    {
     "data": {
      "text/plain": [
       "(43540, 32326)"
      ]
     },
     "execution_count": 28,
     "metadata": {},
     "output_type": "execute_result"
    }
   ],
   "source": [
    "len(df[df['WhiteElo']==1500]), len(df[df['BlackElo']==1500])"
   ]
  },
  {
   "cell_type": "markdown",
   "id": "0f70e707-0f46-4e08-abb7-571e420da280",
   "metadata": {},
   "source": [
    "Comparing these numbers to the pre-concatenation numbers, it appears we did not lose any games from our data set."
   ]
  },
  {
   "cell_type": "code",
   "execution_count": 30,
   "id": "5222bb9c-3abf-464e-a706-55bde5c0c4c4",
   "metadata": {},
   "outputs": [
    {
     "data": {
      "text/plain": [
       "73469"
      ]
     },
     "execution_count": 30,
     "metadata": {},
     "output_type": "execute_result"
    }
   ],
   "source": [
    "len(df)"
   ]
  },
  {
   "cell_type": "code",
   "execution_count": 29,
   "id": "be943733-5b6b-4459-a9df-b4ea2465433b",
   "metadata": {},
   "outputs": [
    {
     "data": {
      "text/plain": [
       "2397"
      ]
     },
     "execution_count": 29,
     "metadata": {},
     "output_type": "execute_result"
    }
   ],
   "source": [
    "len(df[df['WhiteElo']==1500]) + len(df[df['BlackElo']==1500]) - len(df)"
   ]
  },
  {
   "cell_type": "markdown",
   "id": "0c22b068-20a8-42b5-980c-63ecab9c85e5",
   "metadata": {},
   "source": [
    "We have 73469 games in which at least one player had a rating of 1500.  Among these, 2397 were games where *both* players had a rating of 1500."
   ]
  },
  {
   "cell_type": "markdown",
   "id": "c309803e-ec4c-45f8-8799-f5051b9cf17d",
   "metadata": {},
   "source": [
    "## Examining Rating Distributions"
   ]
  },
  {
   "cell_type": "code",
   "execution_count": 31,
   "id": "720cbc7a-eed3-48ce-8757-f6411e19939e",
   "metadata": {},
   "outputs": [
    {
     "data": {
      "text/plain": [
       "<AxesSubplot: ylabel='Frequency'>"
      ]
     },
     "execution_count": 31,
     "metadata": {},
     "output_type": "execute_result"
    },
    {
     "data": {
      "image/png": "[encoded data removed]",
      "text/plain": [
       "<Figure size 640x480 with 1 Axes>"
      ]
     },
     "metadata": {},
     "output_type": "display_data"
    }
   ],
   "source": [
    "df['WhiteElo'].plot(kind='hist', bins=100)"
   ]
  },
  {
   "cell_type": "code",
   "execution_count": 32,
   "id": "265d5074-b0d3-4d2d-8a0d-ee4bdc8e7cdd",
   "metadata": {},
   "outputs": [
    {
     "data": {
      "text/plain": [
       "<AxesSubplot: ylabel='Frequency'>"
      ]
     },
     "execution_count": 32,
     "metadata": {},
     "output_type": "execute_result"
    },
    {
     "data": {
      "image/png": "[encoded data removed]",
      "text/plain": [
       "<Figure size 640x480 with 1 Axes>"
      ]
     },
     "metadata": {},
     "output_type": "display_data"
    }
   ],
   "source": [
    "df['BlackElo'].plot(kind='hist', bins=100)"
   ]
  },
  {
   "cell_type": "markdown",
   "id": "8231b84c-5150-4262-9cbc-3ce16c8c2162",
   "metadata": {},
   "source": [
    "#### Outlier among the Black players?"
   ]
  },
  {
   "cell_type": "markdown",
   "id": "e72ff23e-41b7-46f5-8c1d-be9d06a757e0",
   "metadata": {},
   "source": [
    "Black appears to have an extreme outlier on the ratings distribution.  Who is this?"
   ]
  },
  {
   "cell_type": "code",
   "execution_count": 41,
   "id": "fe470672-fb35-45fb-a696-9a346f3f55c8",
   "metadata": {},
   "outputs": [
    {
     "data": {
      "text/html": [
       "<div>\n",
       "<style scoped>\n",
       "    .dataframe tbody tr th:only-of-type {\n",
       "        vertical-align: middle;\n",
       "    }\n",
       "\n",
       "    .dataframe tbody tr th {\n",
       "        vertical-align: top;\n",
       "    }\n",
       "\n",
       "    .dataframe thead th {\n",
       "        text-align: right;\n",
       "    }\n",
       "</style>\n",
       "<table border=\"1\" class=\"dataframe\">\n",
       "  <thead>\n",
       "    <tr style=\"text-align: right;\">\n",
       "      <th></th>\n",
       "      <th>Event</th>\n",
       "      <th>White</th>\n",
       "      <th>Black</th>\n",
       "      <th>Result</th>\n",
       "      <th>UTCDate</th>\n",
       "      <th>UTCTime</th>\n",
       "      <th>WhiteElo</th>\n",
       "      <th>BlackElo</th>\n",
       "      <th>WhiteRatingDiff</th>\n",
       "      <th>BlackRatingDiff</th>\n",
       "      <th>ECO</th>\n",
       "      <th>Opening</th>\n",
       "      <th>TimeControl</th>\n",
       "      <th>Termination</th>\n",
       "      <th>AN</th>\n",
       "    </tr>\n",
       "  </thead>\n",
       "  <tbody>\n",
       "    <tr>\n",
       "      <th>233964</th>\n",
       "      <td>Bullet</td>\n",
       "      <td>RAH--SAEIS</td>\n",
       "      <td>UnVieuxMonsieur</td>\n",
       "      <td>0-1</td>\n",
       "      <td>2016.07.02</td>\n",
       "      <td>03:30:20</td>\n",
       "      <td>1500</td>\n",
       "      <td>3069</td>\n",
       "      <td>-1.0</td>\n",
       "      <td>0.0</td>\n",
       "      <td>A00</td>\n",
       "      <td>Gedult's Opening</td>\n",
       "      <td>30+0</td>\n",
       "      <td>Time forfeit</td>\n",
       "      <td>1. f3?! { [%eval -0.53] } 1... g6?! { [%eval 0...</td>\n",
       "    </tr>\n",
       "    <tr>\n",
       "      <th>4133340</th>\n",
       "      <td>Bullet tournament</td>\n",
       "      <td>Tagiyev894</td>\n",
       "      <td>AstanehChess</td>\n",
       "      <td>0-1</td>\n",
       "      <td>2016.07.21</td>\n",
       "      <td>16:12:50</td>\n",
       "      <td>1500</td>\n",
       "      <td>2642</td>\n",
       "      <td>-2.0</td>\n",
       "      <td>0.0</td>\n",
       "      <td>B10</td>\n",
       "      <td>Caro-Kann Defense: Breyer Variation</td>\n",
       "      <td>60+0</td>\n",
       "      <td>Time forfeit</td>\n",
       "      <td>1. e4 c6 2. d3 d5 3. Nc3 g6 4. Nf3 Bg7 5. Be2 ...</td>\n",
       "    </tr>\n",
       "  </tbody>\n",
       "</table>\n",
       "</div>"
      ],
      "text/plain": [
       "                       Event       White            Black Result     UTCDate  \\\n",
       "233964               Bullet   RAH--SAEIS  UnVieuxMonsieur    0-1  2016.07.02   \n",
       "4133340   Bullet tournament   Tagiyev894     AstanehChess    0-1  2016.07.21   \n",
       "\n",
       "          UTCTime  WhiteElo  BlackElo  WhiteRatingDiff  BlackRatingDiff  ECO  \\\n",
       "233964   03:30:20      1500      3069             -1.0              0.0  A00   \n",
       "4133340  16:12:50      1500      2642             -2.0              0.0  B10   \n",
       "\n",
       "                                     Opening TimeControl   Termination  \\\n",
       "233964                      Gedult's Opening        30+0  Time forfeit   \n",
       "4133340  Caro-Kann Defense: Breyer Variation        60+0  Time forfeit   \n",
       "\n",
       "                                                        AN  \n",
       "233964   1. f3?! { [%eval -0.53] } 1... g6?! { [%eval 0...  \n",
       "4133340  1. e4 c6 2. d3 d5 3. Nc3 g6 4. Nf3 Bg7 5. Be2 ...  "
      ]
     },
     "execution_count": 41,
     "metadata": {},
     "output_type": "execute_result"
    }
   ],
   "source": [
    "df[df['BlackElo']>2600]"
   ]
  },
  {
   "cell_type": "markdown",
   "id": "3f8c399c-92a4-4d3c-a007-72b15f15b302",
   "metadata": {},
   "source": [
    "It appears to be the player \"UnVieuxMonsieur.\"  Let's find all games in our data set played by this player:"
   ]
  },
  {
   "cell_type": "code",
   "execution_count": 42,
   "id": "e45f1b9d-92bf-45cb-aaf6-404c129787d5",
   "metadata": {},
   "outputs": [
    {
     "data": {
      "text/html": [
       "<div>\n",
       "<style scoped>\n",
       "    .dataframe tbody tr th:only-of-type {\n",
       "        vertical-align: middle;\n",
       "    }\n",
       "\n",
       "    .dataframe tbody tr th {\n",
       "        vertical-align: top;\n",
       "    }\n",
       "\n",
       "    .dataframe thead th {\n",
       "        text-align: right;\n",
       "    }\n",
       "</style>\n",
       "<table border=\"1\" class=\"dataframe\">\n",
       "  <thead>\n",
       "    <tr style=\"text-align: right;\">\n",
       "      <th></th>\n",
       "      <th>Event</th>\n",
       "      <th>White</th>\n",
       "      <th>Black</th>\n",
       "      <th>Result</th>\n",
       "      <th>UTCDate</th>\n",
       "      <th>UTCTime</th>\n",
       "      <th>WhiteElo</th>\n",
       "      <th>BlackElo</th>\n",
       "      <th>WhiteRatingDiff</th>\n",
       "      <th>BlackRatingDiff</th>\n",
       "      <th>ECO</th>\n",
       "      <th>Opening</th>\n",
       "      <th>TimeControl</th>\n",
       "      <th>Termination</th>\n",
       "      <th>AN</th>\n",
       "    </tr>\n",
       "  </thead>\n",
       "  <tbody>\n",
       "    <tr>\n",
       "      <th>233964</th>\n",
       "      <td>Bullet</td>\n",
       "      <td>RAH--SAEIS</td>\n",
       "      <td>UnVieuxMonsieur</td>\n",
       "      <td>0-1</td>\n",
       "      <td>2016.07.02</td>\n",
       "      <td>03:30:20</td>\n",
       "      <td>1500</td>\n",
       "      <td>3069</td>\n",
       "      <td>-1.0</td>\n",
       "      <td>0.0</td>\n",
       "      <td>A00</td>\n",
       "      <td>Gedult's Opening</td>\n",
       "      <td>30+0</td>\n",
       "      <td>Time forfeit</td>\n",
       "      <td>1. f3?! { [%eval -0.53] } 1... g6?! { [%eval 0...</td>\n",
       "    </tr>\n",
       "  </tbody>\n",
       "</table>\n",
       "</div>"
      ],
      "text/plain": [
       "           Event       White            Black Result     UTCDate   UTCTime  \\\n",
       "233964   Bullet   RAH--SAEIS  UnVieuxMonsieur    0-1  2016.07.02  03:30:20   \n",
       "\n",
       "        WhiteElo  BlackElo  WhiteRatingDiff  BlackRatingDiff  ECO  \\\n",
       "233964      1500      3069             -1.0              0.0  A00   \n",
       "\n",
       "                 Opening TimeControl   Termination  \\\n",
       "233964  Gedult's Opening        30+0  Time forfeit   \n",
       "\n",
       "                                                       AN  \n",
       "233964  1. f3?! { [%eval -0.53] } 1... g6?! { [%eval 0...  "
      ]
     },
     "execution_count": 42,
     "metadata": {},
     "output_type": "execute_result"
    }
   ],
   "source": [
    "uvm = df[(df['White']=='UnVieuxMonsieur') | (df['Black']=='UnVieuxMonsieur')]\n",
    "uvm"
   ]
  },
  {
   "cell_type": "markdown",
   "id": "6dd83e10-5cb0-4f16-9f8f-f026e5b32190",
   "metadata": {},
   "source": [
    "So \"UnVieuxMonsieur\" was *not* a player who had a 1500 rating during the month for which we have data."
   ]
  },
  {
   "cell_type": "markdown",
   "id": "289e007c-2a36-4cd6-9974-f6ab43b339fe",
   "metadata": {},
   "source": [
    "### Rating distributions, ignoring 1500 ratings"
   ]
  },
  {
   "cell_type": "code",
   "execution_count": 38,
   "id": "69829031-fd83-4c13-8bd5-628ab09fc9c7",
   "metadata": {},
   "outputs": [
    {
     "data": {
      "image/png": "[encoded data removed]",
      "text/plain": [
       "<Figure size 640x480 with 1 Axes>"
      ]
     },
     "metadata": {},
     "output_type": "display_data"
    }
   ],
   "source": [
    "df[df['WhiteElo']!=1500]['WhiteElo'].plot(kind='hist', bins=100)\n",
    "plt.axvline(x = 1500, color = 'r', label = '1500 Rating')\n",
    "plt.legend();"
   ]
  },
  {
   "cell_type": "code",
   "execution_count": 39,
   "id": "82aae40d-d623-440e-9d80-22ad6cccceda",
   "metadata": {},
   "outputs": [
    {
     "data": {
      "image/png": "[encoded data removed]",
      "text/plain": [
       "<Figure size 640x480 with 1 Axes>"
      ]
     },
     "metadata": {},
     "output_type": "display_data"
    }
   ],
   "source": [
    "df[df['BlackElo']!=1500]['BlackElo'].plot(kind='hist', bins=100)\n",
    "plt.axvline(x = 1500, color = 'r', label = '1500 Rating')\n",
    "plt.legend();"
   ]
  },
  {
   "cell_type": "markdown",
   "id": "38f59cd2-5d77-4636-908b-8d08775c1fa0",
   "metadata": {},
   "source": [
    "### Rating distribution of new players"
   ]
  },
  {
   "cell_type": "markdown",
   "id": "914ecc68-1a12-4fa6-9cbc-f98395fee9cb",
   "metadata": {},
   "source": [
    "The above histograms included both the new players and the *opponents* of the new players.  Let's look only at the ratings of players who had a 1500 rating at some point in the month for which we have data."
   ]
  },
  {
   "cell_type": "code",
   "execution_count": 43,
   "id": "c22b5849-8b80-4a52-b321-8e52e8eefcc8",
   "metadata": {},
   "outputs": [],
   "source": [
    "white_1500_names = white_1500s['White']\n",
    "black_1500_names = black_1500s['Black']"
   ]
  },
  {
   "cell_type": "code",
   "execution_count": 48,
   "id": "1ba0fbe6-28d3-4bbb-bf89-0a4616af4d9e",
   "metadata": {},
   "outputs": [],
   "source": [
    "names_1500 = set(white_1500_names).union(set(black_1500_names))"
   ]
  },
  {
   "cell_type": "code",
   "execution_count": 49,
   "id": "73b4f881-b78d-4802-9d78-859c4baeddad",
   "metadata": {},
   "outputs": [
    {
     "data": {
      "text/plain": [
       "46341"
      ]
     },
     "execution_count": 49,
     "metadata": {},
     "output_type": "execute_result"
    }
   ],
   "source": [
    "len(names)"
   ]
  },
  {
   "cell_type": "code",
   "execution_count": 52,
   "id": "4fe88434-4c61-406c-9a27-abed072f74ac",
   "metadata": {},
   "outputs": [],
   "source": [
    "#Make new columns indicating if the White/Black players had a 1500 rating at some point in the month\n",
    "df['w_had_1500'] = df['White'].map(lambda x : int(x in names))\n",
    "df['b_had_1500'] = df['Black'].map(lambda x : int(x in names))"
   ]
  },
  {
   "cell_type": "code",
   "execution_count": 53,
   "id": "0f1128b8-a431-440f-886b-b140fadbde57",
   "metadata": {},
   "outputs": [
    {
     "data": {
      "text/plain": [
       "<AxesSubplot: ylabel='Frequency'>"
      ]
     },
     "execution_count": 53,
     "metadata": {},
     "output_type": "execute_result"
    },
    {
     "data": {
      "image/png": "[encoded data removed]",
      "text/plain": [
       "<Figure size 640x480 with 1 Axes>"
      ]
     },
     "metadata": {},
     "output_type": "display_data"
    }
   ],
   "source": [
    "df[df['w_had_1500']==1]['WhiteElo'].plot(kind='hist', bins=100);"
   ]
  },
  {
   "cell_type": "code",
   "execution_count": 55,
   "id": "2d5fcce7-c33b-4194-9ab0-399fd121f3de",
   "metadata": {},
   "outputs": [
    {
     "data": {
      "image/png": "[encoded data removed]",
      "text/plain": [
       "<Figure size 640x480 with 1 Axes>"
      ]
     },
     "metadata": {},
     "output_type": "display_data"
    }
   ],
   "source": [
    "df[df['b_had_1500']==1]['BlackElo'].plot(kind='hist', bins=100);"
   ]
  },
  {
   "cell_type": "markdown",
   "id": "2d026e20-51de-4b94-9a2f-25e6b39b8a53",
   "metadata": {},
   "source": [
    "#### Histograms excluding 1500 ratings"
   ]
  },
  {
   "cell_type": "code",
   "execution_count": 58,
   "id": "0e757819-b94e-42af-a8b9-8cf002470d24",
   "metadata": {},
   "outputs": [
    {
     "data": {
      "image/png": "[encoded data removed]",
      "text/plain": [
       "<Figure size 640x480 with 1 Axes>"
      ]
     },
     "metadata": {},
     "output_type": "display_data"
    }
   ],
   "source": [
    "df[(df['w_had_1500']==1) & (df['WhiteElo']!=1500)]['WhiteElo'].plot(kind='hist', bins=100)\n",
    "plt.axvline(x = 1500, color = 'r', label = '1500 Rating')\n",
    "plt.legend();"
   ]
  },
  {
   "cell_type": "code",
   "execution_count": 59,
   "id": "39a782cf-3e16-4ce7-933d-5b9a7f882a4c",
   "metadata": {},
   "outputs": [
    {
     "data": {
      "image/png": "[encoded data removed]",
      "text/plain": [
       "<Figure size 640x480 with 1 Axes>"
      ]
     },
     "metadata": {},
     "output_type": "display_data"
    }
   ],
   "source": [
    "df[(df['b_had_1500']==1) & (df['BlackElo']!=1500)]['BlackElo'].plot(kind='hist', bins=100)\n",
    "plt.axvline(x = 1500, color = 'r', label = '1500 Rating')\n",
    "plt.legend();"
   ]
  },
  {
   "cell_type": "markdown",
   "id": "0e1f988d-b98f-4675-9f80-19d55e985489",
   "metadata": {},
   "source": [
    "### Distribution of rating gains/losses among new players"
   ]
  },
  {
   "cell_type": "code",
   "execution_count": 70,
   "id": "840e164a-5425-4283-b6fd-b8711b2b9fac",
   "metadata": {},
   "outputs": [
    {
     "data": {
      "image/png": "[encoded data removed]",
      "text/plain": [
       "<Figure size 640x480 with 1 Axes>"
      ]
     },
     "metadata": {},
     "output_type": "display_data"
    }
   ],
   "source": [
    "df[df['w_had_1500']==1]['WhiteRatingDiff'].plot(kind='hist', bins=100);\n",
    "plt.title('Rating gains/losses among White players who had a 1500 rating during the month');"
   ]
  },
  {
   "cell_type": "code",
   "execution_count": 71,
   "id": "ac0283cb-77c7-40f9-a8a1-73551879b311",
   "metadata": {},
   "outputs": [
    {
     "data": {
      "image/png": "[encoded data removed]",
      "text/plain": [
       "<Figure size 640x480 with 1 Axes>"
      ]
     },
     "metadata": {},
     "output_type": "display_data"
    }
   ],
   "source": [
    "df[df['b_had_1500']==1]['BlackRatingDiff'].plot(kind='hist', bins=100);\n",
    "plt.title('Rating gains/losses among Black players who had a 1500 rating during the month');"
   ]
  },
  {
   "cell_type": "markdown",
   "id": "8c3948b4-567f-4f83-957a-a409022bd309",
   "metadata": {},
   "source": [
    "## Counting the number of games played by each player"
   ]
  },
  {
   "cell_type": "code",
   "execution_count": 60,
   "id": "de28cacf-23d9-4cc2-a199-7f9e485dbd86",
   "metadata": {},
   "outputs": [
    {
     "data": {
      "text/html": [
       "<div>\n",
       "<style scoped>\n",
       "    .dataframe tbody tr th:only-of-type {\n",
       "        vertical-align: middle;\n",
       "    }\n",
       "\n",
       "    .dataframe tbody tr th {\n",
       "        vertical-align: top;\n",
       "    }\n",
       "\n",
       "    .dataframe thead th {\n",
       "        text-align: right;\n",
       "    }\n",
       "</style>\n",
       "<table border=\"1\" class=\"dataframe\">\n",
       "  <thead>\n",
       "    <tr style=\"text-align: right;\">\n",
       "      <th></th>\n",
       "      <th>White</th>\n",
       "    </tr>\n",
       "  </thead>\n",
       "  <tbody>\n",
       "    <tr>\n",
       "      <th>sinkrafeas</th>\n",
       "      <td>91</td>\n",
       "    </tr>\n",
       "    <tr>\n",
       "      <th>Lacordaire</th>\n",
       "      <td>44</td>\n",
       "    </tr>\n",
       "    <tr>\n",
       "      <th>SarSamMel</th>\n",
       "      <td>39</td>\n",
       "    </tr>\n",
       "    <tr>\n",
       "      <th>korsox</th>\n",
       "      <td>38</td>\n",
       "    </tr>\n",
       "    <tr>\n",
       "      <th>Bloingo</th>\n",
       "      <td>36</td>\n",
       "    </tr>\n",
       "  </tbody>\n",
       "</table>\n",
       "</div>"
      ],
      "text/plain": [
       "            White\n",
       "sinkrafeas     91\n",
       "Lacordaire     44\n",
       "SarSamMel      39\n",
       "korsox         38\n",
       "Bloingo        36"
      ]
     },
     "execution_count": 60,
     "metadata": {},
     "output_type": "execute_result"
    }
   ],
   "source": [
    "white_game_counts = pd.DataFrame(df['White'].value_counts())\n",
    "black_game_counts = pd.DataFrame(df['Black'].value_counts())\n",
    "white_game_counts.head()"
   ]
  },
  {
   "cell_type": "code",
   "execution_count": 61,
   "id": "51070067-d194-4cbc-b8f6-6c987fd273e3",
   "metadata": {},
   "outputs": [
    {
     "data": {
      "text/html": [
       "<div>\n",
       "<style scoped>\n",
       "    .dataframe tbody tr th:only-of-type {\n",
       "        vertical-align: middle;\n",
       "    }\n",
       "\n",
       "    .dataframe tbody tr th {\n",
       "        vertical-align: top;\n",
       "    }\n",
       "\n",
       "    .dataframe thead th {\n",
       "        text-align: right;\n",
       "    }\n",
       "</style>\n",
       "<table border=\"1\" class=\"dataframe\">\n",
       "  <thead>\n",
       "    <tr style=\"text-align: right;\">\n",
       "      <th></th>\n",
       "      <th>Black</th>\n",
       "    </tr>\n",
       "  </thead>\n",
       "  <tbody>\n",
       "    <tr>\n",
       "      <th>galita</th>\n",
       "      <td>64</td>\n",
       "    </tr>\n",
       "    <tr>\n",
       "      <th>FigoFagot</th>\n",
       "      <td>39</td>\n",
       "    </tr>\n",
       "    <tr>\n",
       "      <th>Petruccco</th>\n",
       "      <td>39</td>\n",
       "    </tr>\n",
       "    <tr>\n",
       "      <th>obamaGANDON</th>\n",
       "      <td>39</td>\n",
       "    </tr>\n",
       "    <tr>\n",
       "      <th>dmaytry79</th>\n",
       "      <td>38</td>\n",
       "    </tr>\n",
       "  </tbody>\n",
       "</table>\n",
       "</div>"
      ],
      "text/plain": [
       "             Black\n",
       "galita          64\n",
       "FigoFagot       39\n",
       "Petruccco       39\n",
       "obamaGANDON     39\n",
       "dmaytry79       38"
      ]
     },
     "execution_count": 61,
     "metadata": {},
     "output_type": "execute_result"
    }
   ],
   "source": [
    "black_game_counts.head()"
   ]
  },
  {
   "cell_type": "code",
   "execution_count": 62,
   "id": "d32cfe0f-c1d6-4604-a4a1-209c3a43c67b",
   "metadata": {},
   "outputs": [
    {
     "data": {
      "text/html": [
       "<div>\n",
       "<style scoped>\n",
       "    .dataframe tbody tr th:only-of-type {\n",
       "        vertical-align: middle;\n",
       "    }\n",
       "\n",
       "    .dataframe tbody tr th {\n",
       "        vertical-align: top;\n",
       "    }\n",
       "\n",
       "    .dataframe thead th {\n",
       "        text-align: right;\n",
       "    }\n",
       "</style>\n",
       "<table border=\"1\" class=\"dataframe\">\n",
       "  <thead>\n",
       "    <tr style=\"text-align: right;\">\n",
       "      <th></th>\n",
       "      <th>White</th>\n",
       "      <th>Black</th>\n",
       "    </tr>\n",
       "  </thead>\n",
       "  <tbody>\n",
       "    <tr>\n",
       "      <th>zzz___zzz</th>\n",
       "      <td>1.0</td>\n",
       "      <td>NaN</td>\n",
       "    </tr>\n",
       "    <tr>\n",
       "      <th>zzz_fappa_zzz</th>\n",
       "      <td>NaN</td>\n",
       "      <td>1.0</td>\n",
       "    </tr>\n",
       "    <tr>\n",
       "      <th>zzzllzzz</th>\n",
       "      <td>1.0</td>\n",
       "      <td>NaN</td>\n",
       "    </tr>\n",
       "    <tr>\n",
       "      <th>zzzombie</th>\n",
       "      <td>NaN</td>\n",
       "      <td>6.0</td>\n",
       "    </tr>\n",
       "    <tr>\n",
       "      <th>zzzzzzr</th>\n",
       "      <td>1.0</td>\n",
       "      <td>NaN</td>\n",
       "    </tr>\n",
       "  </tbody>\n",
       "</table>\n",
       "</div>"
      ],
      "text/plain": [
       "               White  Black\n",
       "zzz___zzz        1.0    NaN\n",
       "zzz_fappa_zzz    NaN    1.0\n",
       "zzzllzzz         1.0    NaN\n",
       "zzzombie         NaN    6.0\n",
       "zzzzzzr          1.0    NaN"
      ]
     },
     "execution_count": 62,
     "metadata": {},
     "output_type": "execute_result"
    }
   ],
   "source": [
    "#Perform a full outer join\n",
    "game_counts = white_game_counts.merge(black_game_counts, how='outer',\n",
    "                        left_index=True,\n",
    "                        right_index=True)\n",
    "game_counts.tail()"
   ]
  },
  {
   "cell_type": "code",
   "execution_count": 63,
   "id": "c91941ea-f072-4d1d-99bf-c47c62eeeca7",
   "metadata": {},
   "outputs": [
    {
     "data": {
      "text/html": [
       "<div>\n",
       "<style scoped>\n",
       "    .dataframe tbody tr th:only-of-type {\n",
       "        vertical-align: middle;\n",
       "    }\n",
       "\n",
       "    .dataframe tbody tr th {\n",
       "        vertical-align: top;\n",
       "    }\n",
       "\n",
       "    .dataframe thead th {\n",
       "        text-align: right;\n",
       "    }\n",
       "</style>\n",
       "<table border=\"1\" class=\"dataframe\">\n",
       "  <thead>\n",
       "    <tr style=\"text-align: right;\">\n",
       "      <th></th>\n",
       "      <th>White</th>\n",
       "      <th>Black</th>\n",
       "    </tr>\n",
       "  </thead>\n",
       "  <tbody>\n",
       "    <tr>\n",
       "      <th>zzz___zzz</th>\n",
       "      <td>1.0</td>\n",
       "      <td>0.0</td>\n",
       "    </tr>\n",
       "    <tr>\n",
       "      <th>zzz_fappa_zzz</th>\n",
       "      <td>0.0</td>\n",
       "      <td>1.0</td>\n",
       "    </tr>\n",
       "    <tr>\n",
       "      <th>zzzllzzz</th>\n",
       "      <td>1.0</td>\n",
       "      <td>0.0</td>\n",
       "    </tr>\n",
       "    <tr>\n",
       "      <th>zzzombie</th>\n",
       "      <td>0.0</td>\n",
       "      <td>6.0</td>\n",
       "    </tr>\n",
       "    <tr>\n",
       "      <th>zzzzzzr</th>\n",
       "      <td>1.0</td>\n",
       "      <td>0.0</td>\n",
       "    </tr>\n",
       "  </tbody>\n",
       "</table>\n",
       "</div>"
      ],
      "text/plain": [
       "               White  Black\n",
       "zzz___zzz        1.0    0.0\n",
       "zzz_fappa_zzz    0.0    1.0\n",
       "zzzllzzz         1.0    0.0\n",
       "zzzombie         0.0    6.0\n",
       "zzzzzzr          1.0    0.0"
      ]
     },
     "execution_count": 63,
     "metadata": {},
     "output_type": "execute_result"
    }
   ],
   "source": [
    "#Fill in missing values with 0's, as a missing value means that player never played that color\n",
    "game_counts.fillna(0, inplace=True)\n",
    "game_counts.tail()"
   ]
  },
  {
   "cell_type": "code",
   "execution_count": 64,
   "id": "540f5171-5f62-43a6-b4a5-bce35760d201",
   "metadata": {},
   "outputs": [
    {
     "data": {
      "text/html": [
       "<div>\n",
       "<style scoped>\n",
       "    .dataframe tbody tr th:only-of-type {\n",
       "        vertical-align: middle;\n",
       "    }\n",
       "\n",
       "    .dataframe tbody tr th {\n",
       "        vertical-align: top;\n",
       "    }\n",
       "\n",
       "    .dataframe thead th {\n",
       "        text-align: right;\n",
       "    }\n",
       "</style>\n",
       "<table border=\"1\" class=\"dataframe\">\n",
       "  <thead>\n",
       "    <tr style=\"text-align: right;\">\n",
       "      <th></th>\n",
       "      <th>White</th>\n",
       "      <th>Black</th>\n",
       "      <th>total_played</th>\n",
       "    </tr>\n",
       "  </thead>\n",
       "  <tbody>\n",
       "    <tr>\n",
       "      <th>zzz___zzz</th>\n",
       "      <td>1.0</td>\n",
       "      <td>0.0</td>\n",
       "      <td>1.0</td>\n",
       "    </tr>\n",
       "    <tr>\n",
       "      <th>zzz_fappa_zzz</th>\n",
       "      <td>0.0</td>\n",
       "      <td>1.0</td>\n",
       "      <td>1.0</td>\n",
       "    </tr>\n",
       "    <tr>\n",
       "      <th>zzzllzzz</th>\n",
       "      <td>1.0</td>\n",
       "      <td>0.0</td>\n",
       "      <td>1.0</td>\n",
       "    </tr>\n",
       "    <tr>\n",
       "      <th>zzzombie</th>\n",
       "      <td>0.0</td>\n",
       "      <td>6.0</td>\n",
       "      <td>6.0</td>\n",
       "    </tr>\n",
       "    <tr>\n",
       "      <th>zzzzzzr</th>\n",
       "      <td>1.0</td>\n",
       "      <td>0.0</td>\n",
       "      <td>1.0</td>\n",
       "    </tr>\n",
       "  </tbody>\n",
       "</table>\n",
       "</div>"
      ],
      "text/plain": [
       "               White  Black  total_played\n",
       "zzz___zzz        1.0    0.0           1.0\n",
       "zzz_fappa_zzz    0.0    1.0           1.0\n",
       "zzzllzzz         1.0    0.0           1.0\n",
       "zzzombie         0.0    6.0           6.0\n",
       "zzzzzzr          1.0    0.0           1.0"
      ]
     },
     "execution_count": 64,
     "metadata": {},
     "output_type": "execute_result"
    }
   ],
   "source": [
    "#Get the total number of games played by each player\n",
    "game_counts['total_played'] = game_counts.apply(lambda row: row['White']+row['Black'], axis=1)\n",
    "game_counts.tail()"
   ]
  },
  {
   "cell_type": "code",
   "execution_count": 66,
   "id": "e6feab33-bb03-44c7-869c-184a3a9bbfdc",
   "metadata": {},
   "outputs": [],
   "source": [
    "#Add these game counts to our dataframe of games\n",
    "df['w_total_played'] = df['White'].map(lambda x : game_counts['total_played'][x])\n",
    "df['b_total_played'] = df['Black'].map(lambda x : game_counts['total_played'][x])"
   ]
  },
  {
   "cell_type": "code",
   "execution_count": 67,
   "id": "c6f5d292-d642-4bb7-bd64-636e4a8806f5",
   "metadata": {},
   "outputs": [
    {
     "data": {
      "text/html": [
       "<div>\n",
       "<style scoped>\n",
       "    .dataframe tbody tr th:only-of-type {\n",
       "        vertical-align: middle;\n",
       "    }\n",
       "\n",
       "    .dataframe tbody tr th {\n",
       "        vertical-align: top;\n",
       "    }\n",
       "\n",
       "    .dataframe thead th {\n",
       "        text-align: right;\n",
       "    }\n",
       "</style>\n",
       "<table border=\"1\" class=\"dataframe\">\n",
       "  <thead>\n",
       "    <tr style=\"text-align: right;\">\n",
       "      <th></th>\n",
       "      <th>Event</th>\n",
       "      <th>White</th>\n",
       "      <th>Black</th>\n",
       "      <th>Result</th>\n",
       "      <th>UTCDate</th>\n",
       "      <th>UTCTime</th>\n",
       "      <th>WhiteElo</th>\n",
       "      <th>BlackElo</th>\n",
       "      <th>WhiteRatingDiff</th>\n",
       "      <th>BlackRatingDiff</th>\n",
       "      <th>ECO</th>\n",
       "      <th>Opening</th>\n",
       "      <th>TimeControl</th>\n",
       "      <th>Termination</th>\n",
       "      <th>AN</th>\n",
       "      <th>w_had_1500</th>\n",
       "      <th>b_had_1500</th>\n",
       "      <th>w_total_played</th>\n",
       "      <th>b_total_played</th>\n",
       "    </tr>\n",
       "  </thead>\n",
       "  <tbody>\n",
       "    <tr>\n",
       "      <th>198</th>\n",
       "      <td>Blitz tournament</td>\n",
       "      <td>slichess</td>\n",
       "      <td>redscale</td>\n",
       "      <td>1-0</td>\n",
       "      <td>2016.06.30</td>\n",
       "      <td>22:00:51</td>\n",
       "      <td>1500</td>\n",
       "      <td>1385</td>\n",
       "      <td>128.0</td>\n",
       "      <td>-16.0</td>\n",
       "      <td>D06</td>\n",
       "      <td>Queen's Gambit Refused: Marshall Defense</td>\n",
       "      <td>180+2</td>\n",
       "      <td>Normal</td>\n",
       "      <td>1. d4 Nf6 2. c4 d5 3. cxd5 Nxd5 4. e4 Nf6 5. N...</td>\n",
       "      <td>1</td>\n",
       "      <td>1</td>\n",
       "      <td>2.0</td>\n",
       "      <td>7.0</td>\n",
       "    </tr>\n",
       "    <tr>\n",
       "      <th>205</th>\n",
       "      <td>Blitz</td>\n",
       "      <td>irakli112233</td>\n",
       "      <td>irakli1811</td>\n",
       "      <td>1-0</td>\n",
       "      <td>2016.06.30</td>\n",
       "      <td>22:00:54</td>\n",
       "      <td>1500</td>\n",
       "      <td>1500</td>\n",
       "      <td>NaN</td>\n",
       "      <td>NaN</td>\n",
       "      <td>A00</td>\n",
       "      <td>Van't Kruijs Opening</td>\n",
       "      <td>300+0</td>\n",
       "      <td>Normal</td>\n",
       "      <td>1. e3 f5 2. d3 g5 3. Qh5# 1-0</td>\n",
       "      <td>1</td>\n",
       "      <td>1</td>\n",
       "      <td>4.0</td>\n",
       "      <td>2.0</td>\n",
       "    </tr>\n",
       "  </tbody>\n",
       "</table>\n",
       "</div>"
      ],
      "text/plain": [
       "                  Event         White       Black Result     UTCDate  \\\n",
       "198   Blitz tournament       slichess    redscale    1-0  2016.06.30   \n",
       "205              Blitz   irakli112233  irakli1811    1-0  2016.06.30   \n",
       "\n",
       "      UTCTime  WhiteElo  BlackElo  WhiteRatingDiff  BlackRatingDiff  ECO  \\\n",
       "198  22:00:51      1500      1385            128.0            -16.0  D06   \n",
       "205  22:00:54      1500      1500              NaN              NaN  A00   \n",
       "\n",
       "                                      Opening TimeControl Termination  \\\n",
       "198  Queen's Gambit Refused: Marshall Defense       180+2      Normal   \n",
       "205                      Van't Kruijs Opening       300+0      Normal   \n",
       "\n",
       "                                                    AN  w_had_1500  \\\n",
       "198  1. d4 Nf6 2. c4 d5 3. cxd5 Nxd5 4. e4 Nf6 5. N...           1   \n",
       "205                      1. e3 f5 2. d3 g5 3. Qh5# 1-0           1   \n",
       "\n",
       "     b_had_1500  w_total_played  b_total_played  \n",
       "198           1             2.0             7.0  \n",
       "205           1             4.0             2.0  "
      ]
     },
     "execution_count": 67,
     "metadata": {},
     "output_type": "execute_result"
    }
   ],
   "source": [
    "df.head(2)"
   ]
  },
  {
   "cell_type": "markdown",
   "id": "eb8e61e6-49b7-4d5e-99a0-214a77243e72",
   "metadata": {},
   "source": [
    "We're interested in studying those players who (1) are \"new\" in the sense of having had a 1500 rating at some point in the month and (2) played at least a certain number of games during that month."
   ]
  },
  {
   "cell_type": "code",
   "execution_count": 73,
   "id": "a168df58-7a73-402c-9713-9c71b1dee5a2",
   "metadata": {},
   "outputs": [
    {
     "name": "stdout",
     "output_type": "stream",
     "text": [
      "<class 'pandas.core.frame.DataFrame'>\n",
      "Int64Index: 73469 entries, 198 to 6255987\n",
      "Data columns (total 19 columns):\n",
      " #   Column           Non-Null Count  Dtype  \n",
      "---  ------           --------------  -----  \n",
      " 0   Event            73469 non-null  object \n",
      " 1   White            73469 non-null  object \n",
      " 2   Black            73469 non-null  object \n",
      " 3   Result           73469 non-null  object \n",
      " 4   UTCDate          73469 non-null  object \n",
      " 5   UTCTime          73469 non-null  object \n",
      " 6   WhiteElo         73469 non-null  int64  \n",
      " 7   BlackElo         73469 non-null  int64  \n",
      " 8   WhiteRatingDiff  72698 non-null  float64\n",
      " 9   BlackRatingDiff  72698 non-null  float64\n",
      " 10  ECO              73469 non-null  object \n",
      " 11  Opening          73469 non-null  object \n",
      " 12  TimeControl      73469 non-null  object \n",
      " 13  Termination      73469 non-null  object \n",
      " 14  AN               73469 non-null  object \n",
      " 15  w_had_1500       73469 non-null  int64  \n",
      " 16  b_had_1500       73469 non-null  int64  \n",
      " 17  w_total_played   73469 non-null  float64\n",
      " 18  b_total_played   73469 non-null  float64\n",
      "dtypes: float64(4), int64(4), object(11)\n",
      "memory usage: 11.2+ MB\n"
     ]
    }
   ],
   "source": [
    "df.info()"
   ]
  },
  {
   "cell_type": "code",
   "execution_count": 74,
   "id": "95af7b1d-db95-4f0d-9c4a-f75a2392b825",
   "metadata": {},
   "outputs": [],
   "source": [
    "df['datetime'] = df.apply(lambda row : f\"{row['UTCDate']} {row['UTCTime']}\", axis=1)"
   ]
  },
  {
   "cell_type": "code",
   "execution_count": 75,
   "id": "f4d16281-75ad-4aba-b270-182a9c9f5c63",
   "metadata": {},
   "outputs": [
    {
     "data": {
      "text/html": [
       "<div>\n",
       "<style scoped>\n",
       "    .dataframe tbody tr th:only-of-type {\n",
       "        vertical-align: middle;\n",
       "    }\n",
       "\n",
       "    .dataframe tbody tr th {\n",
       "        vertical-align: top;\n",
       "    }\n",
       "\n",
       "    .dataframe thead th {\n",
       "        text-align: right;\n",
       "    }\n",
       "</style>\n",
       "<table border=\"1\" class=\"dataframe\">\n",
       "  <thead>\n",
       "    <tr style=\"text-align: right;\">\n",
       "      <th></th>\n",
       "      <th>Event</th>\n",
       "      <th>White</th>\n",
       "      <th>Black</th>\n",
       "      <th>Result</th>\n",
       "      <th>UTCDate</th>\n",
       "      <th>UTCTime</th>\n",
       "      <th>WhiteElo</th>\n",
       "      <th>BlackElo</th>\n",
       "      <th>WhiteRatingDiff</th>\n",
       "      <th>BlackRatingDiff</th>\n",
       "      <th>ECO</th>\n",
       "      <th>Opening</th>\n",
       "      <th>TimeControl</th>\n",
       "      <th>Termination</th>\n",
       "      <th>AN</th>\n",
       "      <th>w_had_1500</th>\n",
       "      <th>b_had_1500</th>\n",
       "      <th>w_total_played</th>\n",
       "      <th>b_total_played</th>\n",
       "      <th>datetime</th>\n",
       "    </tr>\n",
       "  </thead>\n",
       "  <tbody>\n",
       "    <tr>\n",
       "      <th>198</th>\n",
       "      <td>Blitz tournament</td>\n",
       "      <td>slichess</td>\n",
       "      <td>redscale</td>\n",
       "      <td>1-0</td>\n",
       "      <td>2016.06.30</td>\n",
       "      <td>22:00:51</td>\n",
       "      <td>1500</td>\n",
       "      <td>1385</td>\n",
       "      <td>128.0</td>\n",
       "      <td>-16.0</td>\n",
       "      <td>D06</td>\n",
       "      <td>Queen's Gambit Refused: Marshall Defense</td>\n",
       "      <td>180+2</td>\n",
       "      <td>Normal</td>\n",
       "      <td>1. d4 Nf6 2. c4 d5 3. cxd5 Nxd5 4. e4 Nf6 5. N...</td>\n",
       "      <td>1</td>\n",
       "      <td>1</td>\n",
       "      <td>2.0</td>\n",
       "      <td>7.0</td>\n",
       "      <td>2016.06.30 22:00:51</td>\n",
       "    </tr>\n",
       "    <tr>\n",
       "      <th>205</th>\n",
       "      <td>Blitz</td>\n",
       "      <td>irakli112233</td>\n",
       "      <td>irakli1811</td>\n",
       "      <td>1-0</td>\n",
       "      <td>2016.06.30</td>\n",
       "      <td>22:00:54</td>\n",
       "      <td>1500</td>\n",
       "      <td>1500</td>\n",
       "      <td>NaN</td>\n",
       "      <td>NaN</td>\n",
       "      <td>A00</td>\n",
       "      <td>Van't Kruijs Opening</td>\n",
       "      <td>300+0</td>\n",
       "      <td>Normal</td>\n",
       "      <td>1. e3 f5 2. d3 g5 3. Qh5# 1-0</td>\n",
       "      <td>1</td>\n",
       "      <td>1</td>\n",
       "      <td>4.0</td>\n",
       "      <td>2.0</td>\n",
       "      <td>2016.06.30 22:00:54</td>\n",
       "    </tr>\n",
       "  </tbody>\n",
       "</table>\n",
       "</div>"
      ],
      "text/plain": [
       "                  Event         White       Black Result     UTCDate  \\\n",
       "198   Blitz tournament       slichess    redscale    1-0  2016.06.30   \n",
       "205              Blitz   irakli112233  irakli1811    1-0  2016.06.30   \n",
       "\n",
       "      UTCTime  WhiteElo  BlackElo  WhiteRatingDiff  BlackRatingDiff  ECO  \\\n",
       "198  22:00:51      1500      1385            128.0            -16.0  D06   \n",
       "205  22:00:54      1500      1500              NaN              NaN  A00   \n",
       "\n",
       "                                      Opening TimeControl Termination  \\\n",
       "198  Queen's Gambit Refused: Marshall Defense       180+2      Normal   \n",
       "205                      Van't Kruijs Opening       300+0      Normal   \n",
       "\n",
       "                                                    AN  w_had_1500  \\\n",
       "198  1. d4 Nf6 2. c4 d5 3. cxd5 Nxd5 4. e4 Nf6 5. N...           1   \n",
       "205                      1. e3 f5 2. d3 g5 3. Qh5# 1-0           1   \n",
       "\n",
       "     b_had_1500  w_total_played  b_total_played             datetime  \n",
       "198           1             2.0             7.0  2016.06.30 22:00:51  \n",
       "205           1             4.0             2.0  2016.06.30 22:00:54  "
      ]
     },
     "execution_count": 75,
     "metadata": {},
     "output_type": "execute_result"
    }
   ],
   "source": [
    "df.head(2)"
   ]
  },
  {
   "cell_type": "code",
   "execution_count": 76,
   "id": "c2e8024d-0251-4dca-829f-48e3b5816a25",
   "metadata": {},
   "outputs": [
    {
     "data": {
      "text/html": [
       "<div>\n",
       "<style scoped>\n",
       "    .dataframe tbody tr th:only-of-type {\n",
       "        vertical-align: middle;\n",
       "    }\n",
       "\n",
       "    .dataframe tbody tr th {\n",
       "        vertical-align: top;\n",
       "    }\n",
       "\n",
       "    .dataframe thead th {\n",
       "        text-align: right;\n",
       "    }\n",
       "</style>\n",
       "<table border=\"1\" class=\"dataframe\">\n",
       "  <thead>\n",
       "    <tr style=\"text-align: right;\">\n",
       "      <th></th>\n",
       "      <th>Event</th>\n",
       "      <th>White</th>\n",
       "      <th>Black</th>\n",
       "      <th>Result</th>\n",
       "      <th>UTCDate</th>\n",
       "      <th>UTCTime</th>\n",
       "      <th>WhiteElo</th>\n",
       "      <th>BlackElo</th>\n",
       "      <th>WhiteRatingDiff</th>\n",
       "      <th>BlackRatingDiff</th>\n",
       "      <th>ECO</th>\n",
       "      <th>Opening</th>\n",
       "      <th>TimeControl</th>\n",
       "      <th>Termination</th>\n",
       "      <th>AN</th>\n",
       "      <th>w_had_1500</th>\n",
       "      <th>b_had_1500</th>\n",
       "      <th>w_total_played</th>\n",
       "      <th>b_total_played</th>\n",
       "      <th>datetime</th>\n",
       "    </tr>\n",
       "  </thead>\n",
       "  <tbody>\n",
       "    <tr>\n",
       "      <th>198</th>\n",
       "      <td>Blitz tournament</td>\n",
       "      <td>slichess</td>\n",
       "      <td>redscale</td>\n",
       "      <td>1-0</td>\n",
       "      <td>2016.06.30</td>\n",
       "      <td>22:00:51</td>\n",
       "      <td>1500</td>\n",
       "      <td>1385</td>\n",
       "      <td>128.0</td>\n",
       "      <td>-16.0</td>\n",
       "      <td>D06</td>\n",
       "      <td>Queen's Gambit Refused: Marshall Defense</td>\n",
       "      <td>180+2</td>\n",
       "      <td>Normal</td>\n",
       "      <td>1. d4 Nf6 2. c4 d5 3. cxd5 Nxd5 4. e4 Nf6 5. N...</td>\n",
       "      <td>1</td>\n",
       "      <td>1</td>\n",
       "      <td>2.0</td>\n",
       "      <td>7.0</td>\n",
       "      <td>2016-06-30 22:00:51</td>\n",
       "    </tr>\n",
       "    <tr>\n",
       "      <th>205</th>\n",
       "      <td>Blitz</td>\n",
       "      <td>irakli112233</td>\n",
       "      <td>irakli1811</td>\n",
       "      <td>1-0</td>\n",
       "      <td>2016.06.30</td>\n",
       "      <td>22:00:54</td>\n",
       "      <td>1500</td>\n",
       "      <td>1500</td>\n",
       "      <td>NaN</td>\n",
       "      <td>NaN</td>\n",
       "      <td>A00</td>\n",
       "      <td>Van't Kruijs Opening</td>\n",
       "      <td>300+0</td>\n",
       "      <td>Normal</td>\n",
       "      <td>1. e3 f5 2. d3 g5 3. Qh5# 1-0</td>\n",
       "      <td>1</td>\n",
       "      <td>1</td>\n",
       "      <td>4.0</td>\n",
       "      <td>2.0</td>\n",
       "      <td>2016-06-30 22:00:54</td>\n",
       "    </tr>\n",
       "  </tbody>\n",
       "</table>\n",
       "</div>"
      ],
      "text/plain": [
       "                  Event         White       Black Result     UTCDate  \\\n",
       "198   Blitz tournament       slichess    redscale    1-0  2016.06.30   \n",
       "205              Blitz   irakli112233  irakli1811    1-0  2016.06.30   \n",
       "\n",
       "      UTCTime  WhiteElo  BlackElo  WhiteRatingDiff  BlackRatingDiff  ECO  \\\n",
       "198  22:00:51      1500      1385            128.0            -16.0  D06   \n",
       "205  22:00:54      1500      1500              NaN              NaN  A00   \n",
       "\n",
       "                                      Opening TimeControl Termination  \\\n",
       "198  Queen's Gambit Refused: Marshall Defense       180+2      Normal   \n",
       "205                      Van't Kruijs Opening       300+0      Normal   \n",
       "\n",
       "                                                    AN  w_had_1500  \\\n",
       "198  1. d4 Nf6 2. c4 d5 3. cxd5 Nxd5 4. e4 Nf6 5. N...           1   \n",
       "205                      1. e3 f5 2. d3 g5 3. Qh5# 1-0           1   \n",
       "\n",
       "     b_had_1500  w_total_played  b_total_played            datetime  \n",
       "198           1             2.0             7.0 2016-06-30 22:00:51  \n",
       "205           1             4.0             2.0 2016-06-30 22:00:54  "
      ]
     },
     "execution_count": 76,
     "metadata": {},
     "output_type": "execute_result"
    }
   ],
   "source": [
    "df['datetime'] = pd.to_datetime(df['datetime'])\n",
    "df.head(2)"
   ]
  },
  {
   "cell_type": "code",
   "execution_count": 77,
   "id": "bd8b7e44-e570-4693-8559-d8a858efdb63",
   "metadata": {},
   "outputs": [
    {
     "name": "stdout",
     "output_type": "stream",
     "text": [
      "<class 'pandas.core.frame.DataFrame'>\n",
      "Int64Index: 73469 entries, 198 to 6255987\n",
      "Data columns (total 20 columns):\n",
      " #   Column           Non-Null Count  Dtype         \n",
      "---  ------           --------------  -----         \n",
      " 0   Event            73469 non-null  object        \n",
      " 1   White            73469 non-null  object        \n",
      " 2   Black            73469 non-null  object        \n",
      " 3   Result           73469 non-null  object        \n",
      " 4   UTCDate          73469 non-null  object        \n",
      " 5   UTCTime          73469 non-null  object        \n",
      " 6   WhiteElo         73469 non-null  int64         \n",
      " 7   BlackElo         73469 non-null  int64         \n",
      " 8   WhiteRatingDiff  72698 non-null  float64       \n",
      " 9   BlackRatingDiff  72698 non-null  float64       \n",
      " 10  ECO              73469 non-null  object        \n",
      " 11  Opening          73469 non-null  object        \n",
      " 12  TimeControl      73469 non-null  object        \n",
      " 13  Termination      73469 non-null  object        \n",
      " 14  AN               73469 non-null  object        \n",
      " 15  w_had_1500       73469 non-null  int64         \n",
      " 16  b_had_1500       73469 non-null  int64         \n",
      " 17  w_total_played   73469 non-null  float64       \n",
      " 18  b_total_played   73469 non-null  float64       \n",
      " 19  datetime         73469 non-null  datetime64[ns]\n",
      "dtypes: datetime64[ns](1), float64(4), int64(4), object(11)\n",
      "memory usage: 11.8+ MB\n"
     ]
    }
   ],
   "source": [
    "df.info()"
   ]
  },
  {
   "cell_type": "code",
   "execution_count": null,
   "id": "6a2d79f0-baad-449e-b314-60ea161dcec2",
   "metadata": {},
   "outputs": [],
   "source": []
  }
 ],
 "metadata": {
  "kernelspec": {
   "display_name": "Python 3 (ipykernel)",
   "language": "python",
   "name": "python3"
  },
  "language_info": {
   "codemirror_mode": {
    "name": "ipython",
    "version": 3
   },
   "file_extension": ".py",
   "mimetype": "text/x-python",
   "name": "python",
   "nbconvert_exporter": "python",
   "pygments_lexer": "ipython3",
   "version": "3.9.16"
  }
 },
 "nbformat": 4,
 "nbformat_minor": 5
}
