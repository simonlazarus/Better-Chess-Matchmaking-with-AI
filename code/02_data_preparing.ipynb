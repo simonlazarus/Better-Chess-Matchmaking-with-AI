{
 "cells": [
  {
   "cell_type": "markdown",
   "id": "2a7afa4b-baf9-40d9-a16e-7f7a23241ed4",
   "metadata": {},
   "source": [
    "# Summary of this Notebook\n",
    "\n",
    "In this notebook, we prepare the data from the [last notebook](./01_data_processing.ipynb) to be processed by the chess engine [Stockfish](https://github.com/official-stockfish/Stockfish) and our machine learning algorithms.  We properly format the strings representing game histories, then we verify that all such formatted histories can be properly read.  In the process, we run through some example games and demonstrate how to get Stockfish evaluations and \"top moves\" for each of the positions in the game.  We also test how long it takes for Stockfish to extract all the information we need from these games.\n",
    "\n",
    "Afterwards, we drop those games that took fewer than 10 turns to complete.  We then reorganize the information in our dataframes into a more convenient format.  Finally, we perform a train/test/validate split on our data and export the split, prepared data as CSV files."
   ]
  },
  {
   "cell_type": "markdown",
   "id": "6e264aeb-bc56-4e61-88a1-c05bed12e04e",
   "metadata": {},
   "source": [
    "## A note on using Stockfish to evaluate human players' moves\n",
    "\n",
    "We plan to use Stockfish to evaluate a new player's moves and positions in her first game.  We will then use these move and position evaluations, along with information about the new player's upcoming opponent, to predict the results of her *2nd game*.  Thus, it is essential that we can obtain reasonably accurate evaluations of the positions and moves made in the new player's first game.  However, the way in which Stockfish evaluates moves and positions can vary greatly depending on how one sets its parameters.\n",
    "\n",
    "We initialize Stockfish with default parameters (other than those relating to CPU and memory usage) and a search depth of 15 - the default value.  Table 8 of [this paper](https://web.ist.utl.pt/diogo.ferreira/papers/ferreira13impact.pdf) reports that this makes Stockfish's strength approximately equivalent to a player with an Elo rating of 2563 (95% confidence interval = \\[2498, 2623\\]).\n",
    "\n",
    "Stockfish does not evaluate positions in exactly the same way that a human does, and hence it does not generally play in the same way that a human would: it often prefers \"risky\" moves that may yield high payoffs *assuming you (Stockfish) play perfectly over the course of the next several moves*, whereas a human player at a similar Elo rating would typically prefer a \"safer\" move that may not have as much upside potential but guarantees a reasonably good payoff even if you do not play perfectly.\n",
    "\n",
    "An Elo/Glicko score of about 2400 represents [approximately the top 1% of players on Lichess.org](https://lichess.org/stat/rating/distribution/rapid).  Thus, using Stockfish with a search depth of 15 (Elo a little over 2500) equates to a player that is overall stronger than the vast majority of human players, but not stronger than all human players.  We estimate that using a search depth of 15 will be a *reasonable* way to evaluate the moves and positions of typical human players; indeed, this is perhaps why a search depth of 15 is the default value."
   ]
  },
  {
   "cell_type": "markdown",
   "id": "16414e97-69ad-4f93-8f14-5e32b36ce2a5",
   "metadata": {},
   "source": [
    "## Instructions for running this notebook\n",
    "\n",
    "1. Download the [Stockfish App](https://github.com/official-stockfish/Stockfish).  This can be installed on Mac with the terminal command `brew install stockfish`.\n",
    "2. Install the `stockfish` [Python API wrapper](https://pypi.org/project/stockfish/).  This can be installed with `pip install stockfish`.\n",
    "3. Install the `chess` library with `pip install chess`.\n",
    "4. Find the path to your Stockfish app's binary (or executable) file.  Input it in the cell below:"
   ]
  },
  {
   "cell_type": "code",
   "execution_count": 1,
   "id": "5b1fd80d-f0c3-415b-a23a-10fb6599c23c",
   "metadata": {},
   "outputs": [],
   "source": [
    "# CHANGE THIS CELL TO POINT TO THE STOCKFISH APP INSTALLED ON YOUR MACHINE\n",
    "stockfish_path = '/opt/homebrew/bin/stockfish'"
   ]
  },
  {
   "cell_type": "code",
   "execution_count": 2,
   "id": "eec81d41-8d65-4188-96a0-808aacfc8adc",
   "metadata": {},
   "outputs": [],
   "source": [
    "import pandas as pd\n",
    "import numpy as np\n",
    "import matplotlib.pyplot as plt\n",
    "import re\n",
    "import time\n",
    "import itertools\n",
    "\n",
    "from stockfish import Stockfish\n",
    "import chess\n",
    "\n",
    "from sklearn.model_selection import train_test_split\n",
    "\n",
    "from helper_functions import format_game"
   ]
  },
  {
   "cell_type": "markdown",
   "id": "c4f2310c-dade-4608-ab02-606094eddefc",
   "metadata": {},
   "source": [
    "### Ignore `FutureWarning`s in this notebook"
   ]
  },
  {
   "cell_type": "code",
   "execution_count": 3,
   "id": "a84e626c-a63b-488a-b4d1-5100146504ec",
   "metadata": {},
   "outputs": [],
   "source": [
    "import warnings\n",
    "warnings.simplefilter(action='ignore', category=FutureWarning)"
   ]
  },
  {
   "cell_type": "markdown",
   "id": "5e14349a-8377-420d-9e27-fddb1ee559d4",
   "metadata": {},
   "source": [
    "## Data Import"
   ]
  },
  {
   "cell_type": "code",
   "execution_count": 4,
   "id": "22a63689-4920-4986-aa08-e75faa5e720a",
   "metadata": {},
   "outputs": [],
   "source": [
    "games_1st = pd.read_csv('../data/processed/new_pl_1st_games.csv', index_col='name_of_pl_playing_1st_game')\n",
    "games_2nd = pd.read_csv('../data/processed/new_pl_2nd_games.csv', index_col='name_of_pl_playing_2nd_game')\n",
    "games_opp = pd.read_csv('../data/processed/new_pl_2nd_opp_previous_games.csv', index_col='new_pl_to_be_played_next_game')"
   ]
  },
  {
   "cell_type": "code",
   "execution_count": 5,
   "id": "42f62683-87db-40ef-b366-7774d19b0347",
   "metadata": {},
   "outputs": [
    {
     "data": {
      "text/plain": [
       "(24284, 24284, 24284)"
      ]
     },
     "execution_count": 5,
     "metadata": {},
     "output_type": "execute_result"
    }
   ],
   "source": [
    "len(games_1st), len(games_2nd), len(games_opp)"
   ]
  },
  {
   "cell_type": "code",
   "execution_count": 6,
   "id": "b4a0305b-924f-4ff5-acfa-dc0f324ca57c",
   "metadata": {},
   "outputs": [
    {
     "data": {
      "text/html": [
       "<div>\n",
       "<style scoped>\n",
       "    .dataframe tbody tr th:only-of-type {\n",
       "        vertical-align: middle;\n",
       "    }\n",
       "\n",
       "    .dataframe tbody tr th {\n",
       "        vertical-align: top;\n",
       "    }\n",
       "\n",
       "    .dataframe thead th {\n",
       "        text-align: right;\n",
       "    }\n",
       "</style>\n",
       "<table border=\"1\" class=\"dataframe\">\n",
       "  <thead>\n",
       "    <tr style=\"text-align: right;\">\n",
       "      <th></th>\n",
       "      <th>Event</th>\n",
       "      <th>White</th>\n",
       "      <th>Black</th>\n",
       "      <th>Result</th>\n",
       "      <th>WhiteElo</th>\n",
       "      <th>BlackElo</th>\n",
       "      <th>WhiteRatingDiff</th>\n",
       "      <th>BlackRatingDiff</th>\n",
       "      <th>TimeControl</th>\n",
       "      <th>Termination</th>\n",
       "      <th>AN</th>\n",
       "      <th>datetime</th>\n",
       "      <th>timestamp</th>\n",
       "      <th>both_players_1st_game</th>\n",
       "    </tr>\n",
       "    <tr>\n",
       "      <th>name_of_pl_playing_1st_game</th>\n",
       "      <th></th>\n",
       "      <th></th>\n",
       "      <th></th>\n",
       "      <th></th>\n",
       "      <th></th>\n",
       "      <th></th>\n",
       "      <th></th>\n",
       "      <th></th>\n",
       "      <th></th>\n",
       "      <th></th>\n",
       "      <th></th>\n",
       "      <th></th>\n",
       "      <th></th>\n",
       "      <th></th>\n",
       "    </tr>\n",
       "  </thead>\n",
       "  <tbody>\n",
       "    <tr>\n",
       "      <th>sereno</th>\n",
       "      <td>Classical</td>\n",
       "      <td>fabikim</td>\n",
       "      <td>sereno</td>\n",
       "      <td>1-0</td>\n",
       "      <td>1630</td>\n",
       "      <td>1500</td>\n",
       "      <td>7.0</td>\n",
       "      <td>-7.0</td>\n",
       "      <td>420+5</td>\n",
       "      <td>Normal</td>\n",
       "      <td>1. e4 e5 2. Nf3 d6 3. Bc4 Nc6 4. d3 Na5 5. Na3...</td>\n",
       "      <td>2016-06-30 22:00:02</td>\n",
       "      <td>1.467324e+09</td>\n",
       "      <td>0</td>\n",
       "    </tr>\n",
       "  </tbody>\n",
       "</table>\n",
       "</div>"
      ],
      "text/plain": [
       "                                 Event    White   Black Result  WhiteElo  \\\n",
       "name_of_pl_playing_1st_game                                                \n",
       "sereno                       Classical  fabikim  sereno    1-0      1630   \n",
       "\n",
       "                             BlackElo  WhiteRatingDiff  BlackRatingDiff  \\\n",
       "name_of_pl_playing_1st_game                                               \n",
       "sereno                           1500              7.0             -7.0   \n",
       "\n",
       "                            TimeControl Termination  \\\n",
       "name_of_pl_playing_1st_game                           \n",
       "sereno                            420+5      Normal   \n",
       "\n",
       "                                                                            AN  \\\n",
       "name_of_pl_playing_1st_game                                                      \n",
       "sereno                       1. e4 e5 2. Nf3 d6 3. Bc4 Nc6 4. d3 Na5 5. Na3...   \n",
       "\n",
       "                                        datetime     timestamp  \\\n",
       "name_of_pl_playing_1st_game                                      \n",
       "sereno                       2016-06-30 22:00:02  1.467324e+09   \n",
       "\n",
       "                             both_players_1st_game  \n",
       "name_of_pl_playing_1st_game                         \n",
       "sereno                                           0  "
      ]
     },
     "execution_count": 6,
     "metadata": {},
     "output_type": "execute_result"
    }
   ],
   "source": [
    "games_1st.head(1)"
   ]
  },
  {
   "cell_type": "markdown",
   "id": "e7161b47-4e2b-4769-a9e4-608c6426f6e7",
   "metadata": {},
   "source": [
    "# Format Game Strings"
   ]
  },
  {
   "cell_type": "markdown",
   "id": "6b92d238-bd21-4ca7-854f-79e44fb5f1f4",
   "metadata": {},
   "source": [
    "The sequence of moves given in the `AN` are in [Algebraic Notation](https://en.wikipedia.org/wiki/Algebraic_notation_(chess)).  However, their default format is not one that can be read by *either* Stockfish or the \"chess\" library, as they contain superfluous numbers and symbols.  For example:"
   ]
  },
  {
   "cell_type": "code",
   "execution_count": 7,
   "id": "e28349a1-7e0f-466c-bea1-12caef89eabf",
   "metadata": {},
   "outputs": [
    {
     "data": {
      "text/plain": [
       "'1. e4 e5 2. Nf3 d6 3. Bc4 Nc6 4. d3 Na5 5. Na3 Nxc4 6. Nxc4 a6 7. Ng5 h6 8. Nf3 Be6 9. Ne3 Be7 10. h3 Bg5 11. O-O Ne7 12. Nxg5 hxg5 13. Qf3 Qd7 14. g4 g6 15. c3 f5 16. exf5 gxf5 17. d4 fxg4 18. hxg4 Bxg4 19. Nxg4 O-O-O 20. Bxg5 Qf5 21. Qxf5+ Nxf5 22. Bxd8 Kxd8 23. Kg2 Rg8 24. Kf3 exd4 25. cxd4 Nxd4+ 26. Kf4 Ne2+ 27. Ke3 Re8+ 28. Kf3 Nd4+ 29. Kg3 Nf5+ 30. Kf4 Nh4 31. Rg1 Rf8+ 32. Kg3 Nf5+ 33. Kh2 Nd4 34. Rg3 Rxf2+ 35. Nxf2 1-0'"
      ]
     },
     "execution_count": 7,
     "metadata": {},
     "output_type": "execute_result"
    }
   ],
   "source": [
    "game1 = games_1st.loc['sereno', 'AN']\n",
    "game1"
   ]
  },
  {
   "cell_type": "markdown",
   "id": "65fa5bcc-aa05-4344-97a2-3fa8c973470c",
   "metadata": {},
   "source": [
    "These moves are listed in a format where, when there is no ambiguity, they only specify the *target square* to which a piece is moving.  For example, the opening move \"e4\" could more expansively be written out as \"e2e4\" (the piece that was on square e2 moved to square e4), but it is recorded as simply \"e4\" since the piece on e2 (the king's pawn) is the only piece that could have moved to e4 from the opening board state.\n",
    "\n",
    "This abbreviated formatting is one that the `chess` library can handle, but Stockfish cannot read these abreviated moves.  To use Stockfish to get evaluations of the various board positions realized during a game, we will need to first feed the moves of the game to a `Board` object from `chess`, then use the `Board` object to get the positions in [Forsyth-Edwards Notation (FEN)](https://en.wikipedia.org/wiki/Forsyth%E2%80%93Edwards_Notation) to feed to Stockfish.\n",
    "\n",
    "However, before any of this is possible, we must remove the unnecessary numbers and symbols that appear in the game strings, such as the \"1.\", \"2.\", ... and the \"1-0\" at the end of the game.\n",
    "\n",
    "About 15% of the games in our data also come with Stockfish evaluations that were automatically carried out by Lichess.org.  These games give an evaluation in braces of the form `{ [%eval (score)] }`, where the `(score)` is White's advantage measured in centipawns.  Near the end of the game, these scores transition into \"moves until checkmate\" numbers; for example, a score of \"#1\" means \"White can checkmate in 1 move\" and a score of \"#-3\" means \"Black can checkmate in 3 moves.\"  This games might also contain further notation, such as question marks (?) or exclamation marks (!) in certain combinations denoting whether Stockfish thinks a move was unexpected, strong, etc.\n",
    "\n",
    "**Note**: These Stockfish evlauations need not match the Stockfish evaluations that our own code will produce.  This is because Stockfish can be set up with many different parameter values and those used by Lichess's automatic evaluations need not be the same as those we will use."
   ]
  },
  {
   "cell_type": "code",
   "execution_count": 8,
   "id": "e5a949a6-3e30-4cb0-98f4-8b774646582e",
   "metadata": {},
   "outputs": [
    {
     "data": {
      "text/plain": [
       "'1. e4 { [%eval 0.29] } 1... e5 { [%eval 0.27] } 2. Nf3 { [%eval 0.23] } 2... Nc6 { [%eval 0.21] } 3. Bb5 { [%eval 0.18] } 3... d6 { [%eval 0.35] } 4. O-O { [%eval 0.45] } 4... Bd7 { [%eval 0.56] } 5. Nc3 { [%eval 0.33] } 5... a6 { [%eval 0.77] } 6. Bc4?! { [%eval 0.21] } 6... Nf6?! { [%eval 1.11] } 7. a3?! { [%eval 0.18] } 7... Be7 { [%eval 0.2] } 8. b4 { [%eval -0.04] } 8... O-O { [%eval -0.16] } 9. d3 { [%eval 0.04] } 9... Rb8 { [%eval 0.13] } 10. Be3 { [%eval 0.18] } 10... Bg4 { [%eval 0.29] } 11. h3 { [%eval 0.23] } 11... Bh5 { [%eval 0.14] } 12. Nd5 { [%eval 0.17] } 12... Nxd5 { [%eval 0.21] } 13. exd5 { [%eval -0.13] } 13... Na7? { [%eval 2.38] } 14. d4? { [%eval -0.17] } 14... e4 { [%eval -0.19] } 15. g4 { [%eval -0.41] } 15... Bxg4?! { [%eval 0.26] } 16. hxg4 { [%eval 0.31] } 16... exf3 { [%eval 0.65] } 17. Qxf3 { [%eval 0.68] } 17... Nb5?! { [%eval 1.46] } 18. Qh3?! { [%eval 0.74] } 18... Bg5?! { [%eval 1.69] } 19. Kg2? { [%eval 0.0] } 19... Bxe3 { [%eval 0.0] } 20. fxe3 { [%eval -0.39] } 20... c6? { [%eval 0.77] } 21. Bd3 { [%eval 0.68] } 21... cxd5?? { [%eval #1] } 22. Qxh7# 1-0'"
      ]
     },
     "execution_count": 8,
     "metadata": {},
     "output_type": "execute_result"
    }
   ],
   "source": [
    "#An example with automatically-added Stockfish evaluations\n",
    "game2 = games_1st.loc['Grevling', 'AN']\n",
    "game2"
   ]
  },
  {
   "cell_type": "markdown",
   "id": "d173e4b6-06c9-4c08-8ce1-3ad5748ce92c",
   "metadata": {},
   "source": [
    "### Formatting these example game strings"
   ]
  },
  {
   "cell_type": "markdown",
   "id": "ce57818d-ca8b-4cf1-95d0-b18f7629345f",
   "metadata": {},
   "source": [
    "We will use the `format_game` function from the [helper functions](./helper_functions.py) to format these games strings into a format that will be easy for the `chess` package to read."
   ]
  },
  {
   "cell_type": "code",
   "execution_count": 9,
   "id": "d02cbe73-3714-4992-9374-91193b7abf11",
   "metadata": {},
   "outputs": [
    {
     "data": {
      "text/plain": [
       "'e4 e5 Nf3 d6 Bc4 Nc6 d3 Na5 Na3 Nxc4 Nxc4 a6 Ng5 h6 Nf3 Be6 Ne3 Be7 h3 Bg5 O-O Ne7 Nxg5 hxg5 Qf3 Qd7 g4 g6 c3 f5 exf5 gxf5 d4 fxg4 hxg4 Bxg4 Nxg4 O-O-O Bxg5 Qf5 Qxf5+ Nxf5 Bxd8 Kxd8 Kg2 Rg8 Kf3 exd4 cxd4 Nxd4+ Kf4 Ne2+ Ke3 Re8+ Kf3 Nd4+ Kg3 Nf5+ Kf4 Nh4 Rg1 Rf8+ Kg3 Nf5+ Kh2 Nd4 Rg3 Rxf2+ Nxf2'"
      ]
     },
     "execution_count": 9,
     "metadata": {},
     "output_type": "execute_result"
    }
   ],
   "source": [
    "#Formatting the first example game\n",
    "game1 = format_game(game1)\n",
    "game1"
   ]
  },
  {
   "cell_type": "code",
   "execution_count": 10,
   "id": "f3348eb2-6b53-4db0-8231-abd31966de0f",
   "metadata": {},
   "outputs": [
    {
     "data": {
      "text/plain": [
       "'e4 e5 Nf3 Nc6 Bb5 d6 O-O Bd7 Nc3 a6 Bc4 Nf6 a3 Be7 b4 O-O d3 Rb8 Be3 Bg4 h3 Bh5 Nd5 Nxd5 exd5 Na7 d4 e4 g4 Bxg4 hxg4 exf3 Qxf3 Nb5 Qh3 Bg5 Kg2 Bxe3 fxe3 c6 Bd3 cxd5 Qxh7#'"
      ]
     },
     "execution_count": 10,
     "metadata": {},
     "output_type": "execute_result"
    }
   ],
   "source": [
    "#Formatting the second example game\n",
    "game2 = format_game(game2)\n",
    "game2"
   ]
  },
  {
   "cell_type": "markdown",
   "id": "e191c9d3-1e5f-48f3-919a-d0dfcddb88c6",
   "metadata": {},
   "source": [
    "## Formatting all games in the three dataframes"
   ]
  },
  {
   "cell_type": "markdown",
   "id": "c7c8747c-6536-44ae-8347-c5f0f02ec1b5",
   "metadata": {},
   "source": [
    "The `games_opp` dataframe contains a few rows that are missing games.  These missing rows correspond to new players whose 2nd-game opponents have *no previous game* during the month in our data set (either because they are themselves completely new to Lichess.org or because they simply didn't play any other games so far that month).  Thus, we must write our mapping function in a way that can handle the possibility of missing values:"
   ]
  },
  {
   "cell_type": "code",
   "execution_count": 11,
   "id": "c27bbe45-97fa-4bb0-b32e-59ca3ac2f34f",
   "metadata": {},
   "outputs": [],
   "source": [
    "for df in games_1st, games_2nd, games_opp:\n",
    "    df['AN'] = df['AN'].map(lambda x : format_game(x) if pd.notnull(x) else x)"
   ]
  },
  {
   "cell_type": "code",
   "execution_count": 12,
   "id": "5efcd5df-b2d4-4fb5-b7e1-48add6e4e790",
   "metadata": {},
   "outputs": [
    {
     "data": {
      "text/html": [
       "<div>\n",
       "<style scoped>\n",
       "    .dataframe tbody tr th:only-of-type {\n",
       "        vertical-align: middle;\n",
       "    }\n",
       "\n",
       "    .dataframe tbody tr th {\n",
       "        vertical-align: top;\n",
       "    }\n",
       "\n",
       "    .dataframe thead th {\n",
       "        text-align: right;\n",
       "    }\n",
       "</style>\n",
       "<table border=\"1\" class=\"dataframe\">\n",
       "  <thead>\n",
       "    <tr style=\"text-align: right;\">\n",
       "      <th></th>\n",
       "      <th>Event</th>\n",
       "      <th>White</th>\n",
       "      <th>Black</th>\n",
       "      <th>Result</th>\n",
       "      <th>WhiteElo</th>\n",
       "      <th>BlackElo</th>\n",
       "      <th>WhiteRatingDiff</th>\n",
       "      <th>BlackRatingDiff</th>\n",
       "      <th>TimeControl</th>\n",
       "      <th>Termination</th>\n",
       "      <th>AN</th>\n",
       "      <th>datetime</th>\n",
       "      <th>timestamp</th>\n",
       "      <th>user_to_play_new_pl_next_game</th>\n",
       "      <th>both_users_to_play_new_pl_next</th>\n",
       "      <th>2nd_game_opp_had_no_previous_game</th>\n",
       "    </tr>\n",
       "    <tr>\n",
       "      <th>new_pl_to_be_played_next_game</th>\n",
       "      <th></th>\n",
       "      <th></th>\n",
       "      <th></th>\n",
       "      <th></th>\n",
       "      <th></th>\n",
       "      <th></th>\n",
       "      <th></th>\n",
       "      <th></th>\n",
       "      <th></th>\n",
       "      <th></th>\n",
       "      <th></th>\n",
       "      <th></th>\n",
       "      <th></th>\n",
       "      <th></th>\n",
       "      <th></th>\n",
       "      <th></th>\n",
       "    </tr>\n",
       "  </thead>\n",
       "  <tbody>\n",
       "    <tr>\n",
       "      <th>farfalla</th>\n",
       "      <td>Classical</td>\n",
       "      <td>Claudiosparov</td>\n",
       "      <td>gonzo0506</td>\n",
       "      <td>0-1</td>\n",
       "      <td>1432.0</td>\n",
       "      <td>1355.0</td>\n",
       "      <td>-14.0</td>\n",
       "      <td>13.0</td>\n",
       "      <td>600+0</td>\n",
       "      <td>Normal</td>\n",
       "      <td>a3 d5 b4 b5 Bb2 Nc6 e3 e5 d4 e4 f3 Bf5 g4 Qh4+...</td>\n",
       "      <td>2016-06-30 22:01:02</td>\n",
       "      <td>1.467324e+09</td>\n",
       "      <td>gonzo0506</td>\n",
       "      <td>0</td>\n",
       "      <td>0</td>\n",
       "    </tr>\n",
       "  </tbody>\n",
       "</table>\n",
       "</div>"
      ],
      "text/plain": [
       "                                   Event          White      Black Result  \\\n",
       "new_pl_to_be_played_next_game                                               \n",
       "farfalla                       Classical  Claudiosparov  gonzo0506    0-1   \n",
       "\n",
       "                               WhiteElo  BlackElo  WhiteRatingDiff  \\\n",
       "new_pl_to_be_played_next_game                                        \n",
       "farfalla                         1432.0    1355.0            -14.0   \n",
       "\n",
       "                               BlackRatingDiff TimeControl Termination  \\\n",
       "new_pl_to_be_played_next_game                                            \n",
       "farfalla                                  13.0       600+0      Normal   \n",
       "\n",
       "                                                                              AN  \\\n",
       "new_pl_to_be_played_next_game                                                      \n",
       "farfalla                       a3 d5 b4 b5 Bb2 Nc6 e3 e5 d4 e4 f3 Bf5 g4 Qh4+...   \n",
       "\n",
       "                                          datetime     timestamp  \\\n",
       "new_pl_to_be_played_next_game                                      \n",
       "farfalla                       2016-06-30 22:01:02  1.467324e+09   \n",
       "\n",
       "                              user_to_play_new_pl_next_game  \\\n",
       "new_pl_to_be_played_next_game                                 \n",
       "farfalla                                          gonzo0506   \n",
       "\n",
       "                               both_users_to_play_new_pl_next  \\\n",
       "new_pl_to_be_played_next_game                                   \n",
       "farfalla                                                    0   \n",
       "\n",
       "                               2nd_game_opp_had_no_previous_game  \n",
       "new_pl_to_be_played_next_game                                     \n",
       "farfalla                                                       0  "
      ]
     },
     "execution_count": 12,
     "metadata": {},
     "output_type": "execute_result"
    }
   ],
   "source": [
    "#Check the games_opp dataframe: an observation where the game is not missing\n",
    "games_opp[games_opp['2nd_game_opp_had_no_previous_game']==0].head(1)"
   ]
  },
  {
   "cell_type": "code",
   "execution_count": 13,
   "id": "8f065b18-2de1-4fe8-90dd-b13e00e0084e",
   "metadata": {},
   "outputs": [
    {
     "data": {
      "text/html": [
       "<div>\n",
       "<style scoped>\n",
       "    .dataframe tbody tr th:only-of-type {\n",
       "        vertical-align: middle;\n",
       "    }\n",
       "\n",
       "    .dataframe tbody tr th {\n",
       "        vertical-align: top;\n",
       "    }\n",
       "\n",
       "    .dataframe thead th {\n",
       "        text-align: right;\n",
       "    }\n",
       "</style>\n",
       "<table border=\"1\" class=\"dataframe\">\n",
       "  <thead>\n",
       "    <tr style=\"text-align: right;\">\n",
       "      <th></th>\n",
       "      <th>Event</th>\n",
       "      <th>White</th>\n",
       "      <th>Black</th>\n",
       "      <th>Result</th>\n",
       "      <th>WhiteElo</th>\n",
       "      <th>BlackElo</th>\n",
       "      <th>WhiteRatingDiff</th>\n",
       "      <th>BlackRatingDiff</th>\n",
       "      <th>TimeControl</th>\n",
       "      <th>Termination</th>\n",
       "      <th>AN</th>\n",
       "      <th>datetime</th>\n",
       "      <th>timestamp</th>\n",
       "      <th>user_to_play_new_pl_next_game</th>\n",
       "      <th>both_users_to_play_new_pl_next</th>\n",
       "      <th>2nd_game_opp_had_no_previous_game</th>\n",
       "    </tr>\n",
       "    <tr>\n",
       "      <th>new_pl_to_be_played_next_game</th>\n",
       "      <th></th>\n",
       "      <th></th>\n",
       "      <th></th>\n",
       "      <th></th>\n",
       "      <th></th>\n",
       "      <th></th>\n",
       "      <th></th>\n",
       "      <th></th>\n",
       "      <th></th>\n",
       "      <th></th>\n",
       "      <th></th>\n",
       "      <th></th>\n",
       "      <th></th>\n",
       "      <th></th>\n",
       "      <th></th>\n",
       "      <th></th>\n",
       "    </tr>\n",
       "  </thead>\n",
       "  <tbody>\n",
       "    <tr>\n",
       "      <th>xmen3000</th>\n",
       "      <td>NaN</td>\n",
       "      <td>NaN</td>\n",
       "      <td>NaN</td>\n",
       "      <td>NaN</td>\n",
       "      <td>NaN</td>\n",
       "      <td>NaN</td>\n",
       "      <td>NaN</td>\n",
       "      <td>NaN</td>\n",
       "      <td>NaN</td>\n",
       "      <td>NaN</td>\n",
       "      <td>NaN</td>\n",
       "      <td>NaN</td>\n",
       "      <td>NaN</td>\n",
       "      <td>NaN</td>\n",
       "      <td>0</td>\n",
       "      <td>1</td>\n",
       "    </tr>\n",
       "    <tr>\n",
       "      <th>alfa_khoirin</th>\n",
       "      <td>NaN</td>\n",
       "      <td>NaN</td>\n",
       "      <td>NaN</td>\n",
       "      <td>NaN</td>\n",
       "      <td>NaN</td>\n",
       "      <td>NaN</td>\n",
       "      <td>NaN</td>\n",
       "      <td>NaN</td>\n",
       "      <td>NaN</td>\n",
       "      <td>NaN</td>\n",
       "      <td>NaN</td>\n",
       "      <td>NaN</td>\n",
       "      <td>NaN</td>\n",
       "      <td>NaN</td>\n",
       "      <td>0</td>\n",
       "      <td>1</td>\n",
       "    </tr>\n",
       "    <tr>\n",
       "      <th>Manilkin</th>\n",
       "      <td>NaN</td>\n",
       "      <td>NaN</td>\n",
       "      <td>NaN</td>\n",
       "      <td>NaN</td>\n",
       "      <td>NaN</td>\n",
       "      <td>NaN</td>\n",
       "      <td>NaN</td>\n",
       "      <td>NaN</td>\n",
       "      <td>NaN</td>\n",
       "      <td>NaN</td>\n",
       "      <td>NaN</td>\n",
       "      <td>NaN</td>\n",
       "      <td>NaN</td>\n",
       "      <td>NaN</td>\n",
       "      <td>0</td>\n",
       "      <td>1</td>\n",
       "    </tr>\n",
       "  </tbody>\n",
       "</table>\n",
       "</div>"
      ],
      "text/plain": [
       "                              Event White Black Result  WhiteElo  BlackElo  \\\n",
       "new_pl_to_be_played_next_game                                                \n",
       "xmen3000                        NaN   NaN   NaN    NaN       NaN       NaN   \n",
       "alfa_khoirin                    NaN   NaN   NaN    NaN       NaN       NaN   \n",
       "Manilkin                        NaN   NaN   NaN    NaN       NaN       NaN   \n",
       "\n",
       "                               WhiteRatingDiff  BlackRatingDiff TimeControl  \\\n",
       "new_pl_to_be_played_next_game                                                 \n",
       "xmen3000                                   NaN              NaN         NaN   \n",
       "alfa_khoirin                               NaN              NaN         NaN   \n",
       "Manilkin                                   NaN              NaN         NaN   \n",
       "\n",
       "                              Termination   AN datetime  timestamp  \\\n",
       "new_pl_to_be_played_next_game                                        \n",
       "xmen3000                              NaN  NaN      NaN        NaN   \n",
       "alfa_khoirin                          NaN  NaN      NaN        NaN   \n",
       "Manilkin                              NaN  NaN      NaN        NaN   \n",
       "\n",
       "                              user_to_play_new_pl_next_game  \\\n",
       "new_pl_to_be_played_next_game                                 \n",
       "xmen3000                                                NaN   \n",
       "alfa_khoirin                                            NaN   \n",
       "Manilkin                                                NaN   \n",
       "\n",
       "                               both_users_to_play_new_pl_next  \\\n",
       "new_pl_to_be_played_next_game                                   \n",
       "xmen3000                                                    0   \n",
       "alfa_khoirin                                                0   \n",
       "Manilkin                                                    0   \n",
       "\n",
       "                               2nd_game_opp_had_no_previous_game  \n",
       "new_pl_to_be_played_next_game                                     \n",
       "xmen3000                                                       1  \n",
       "alfa_khoirin                                                   1  \n",
       "Manilkin                                                       1  "
      ]
     },
     "execution_count": 13,
     "metadata": {},
     "output_type": "execute_result"
    }
   ],
   "source": [
    "#Check the games_opp dataframe: some observations where the game IS missing\n",
    "games_opp[games_opp['2nd_game_opp_had_no_previous_game']==1].head(3)"
   ]
  },
  {
   "cell_type": "markdown",
   "id": "c32098ce-29d8-48e1-9b28-82e2e1d5aca2",
   "metadata": {},
   "source": [
    "# Playing out a game using the game string"
   ]
  },
  {
   "cell_type": "markdown",
   "id": "55e442ca-c0db-45b9-aa62-2f77be4de608",
   "metadata": {},
   "source": [
    "## Using `chess` Board objects to make moves"
   ]
  },
  {
   "cell_type": "code",
   "execution_count": 14,
   "id": "9ae47d71-f821-4d3e-b7e1-54191c8c6c31",
   "metadata": {},
   "outputs": [
    {
     "name": "stdout",
     "output_type": "stream",
     "text": [
      "['e4', 'e5', 'Nf3', 'Nf6', 'Nxe5', 'd6', 'Nf3', 'Nxe4', 'Bc4', 'Be7', 'O-O', 'O-O', 'Re1', 'Nf6', 'd4', 'a6', 'd5', 'h6', 'Nc3', 'b5', 'Be2', 'Bb7', 'a3', 'Nh7', 'Ne4', 'Nf6', 'Nxf6+', 'Bxf6', 'c4', 'bxc4', 'Bxc4', 'Nd7', 'Rb1', 'Nb6', 'Ba2', 'Qd7', 'b4', 'Qb5', 'a4', 'Nxa4', 'Nd4', 'Bxd4', 'Qxd4', 'Nb6', 'Bb2', 'Qd7', 'Qxg7#']\n"
     ]
    }
   ],
   "source": [
    "game3 = games_opp.loc['Sanacbra', 'AN']\n",
    "moves = game3.split(' ')\n",
    "print(moves)"
   ]
  },
  {
   "cell_type": "code",
   "execution_count": 15,
   "id": "7965301c-fe72-4178-a13a-42695e1c21da",
   "metadata": {},
   "outputs": [
    {
     "data": {
      "image/svg+xml": [
       "<svg xmlns=\"http://www.w3.org/2000/svg\" xmlns:xlink=\"http://www.w3.org/1999/xlink\" version=\"1.2\" baseProfile=\"tiny\" viewBox=\"0 0 390 390\" width=\"390\" height=\"390\"><desc><pre>r n b q k b n r\n",
       "p p p p p p p p\n",
       ". . . . . . . .\n",
       ". . . . . . . .\n",
       ". . . . . . . .\n",
       ". . . . . . . .\n",
       "P P P P P P P P\n",
       "R N B Q K B N R</pre></desc><defs><g id=\"white-pawn\" class=\"white pawn\"><path d=\"M22.5 9c-2.21 0-4 1.79-4 4 0 .89.29 1.71.78 2.38C17.33 16.5 16 18.59 16 21c0 2.03.94 3.84 2.41 5.03-3 1.06-7.41 5.55-7.41 13.47h23c0-7.92-4.41-12.41-7.41-13.47 1.47-1.19 2.41-3 2.41-5.03 0-2.41-1.33-4.5-3.28-5.62.49-.67.78-1.49.78-2.38 0-2.21-1.79-4-4-4z\" fill=\"#fff\" stroke=\"#000\" stroke-width=\"1.5\" stroke-linecap=\"round\" /></g><g id=\"white-knight\" class=\"white knight\" fill=\"none\" fill-rule=\"evenodd\" stroke=\"#000\" stroke-width=\"1.5\" stroke-linecap=\"round\" stroke-linejoin=\"round\"><path d=\"M 22,10 C 32.5,11 38.5,18 38,39 L 15,39 C 15,30 25,32.5 23,18\" style=\"fill:#ffffff; stroke:#000000;\" /><path d=\"M 24,18 C 24.38,20.91 18.45,25.37 16,27 C 13,29 13.18,31.34 11,31 C 9.958,30.06 12.41,27.96 11,28 C 10,28 11.19,29.23 10,30 C 9,30 5.997,31 6,26 C 6,24 12,14 12,14 C 12,14 13.89,12.1 14,10.5 C 13.27,9.506 13.5,8.5 13.5,7.5 C 14.5,6.5 16.5,10 16.5,10 L 18.5,10 C 18.5,10 19.28,8.008 21,7 C 22,7 22,10 22,10\" style=\"fill:#ffffff; stroke:#000000;\" /><path d=\"M 9.5 25.5 A 0.5 0.5 0 1 1 8.5,25.5 A 0.5 0.5 0 1 1 9.5 25.5 z\" style=\"fill:#000000; stroke:#000000;\" /><path d=\"M 15 15.5 A 0.5 1.5 0 1 1 14,15.5 A 0.5 1.5 0 1 1 15 15.5 z\" transform=\"matrix(0.866,0.5,-0.5,0.866,9.693,-5.173)\" style=\"fill:#000000; stroke:#000000;\" /></g><g id=\"white-bishop\" class=\"white bishop\" fill=\"none\" fill-rule=\"evenodd\" stroke=\"#000\" stroke-width=\"1.5\" stroke-linecap=\"round\" stroke-linejoin=\"round\"><g fill=\"#fff\" stroke-linecap=\"butt\"><path d=\"M9 36c3.39-.97 10.11.43 13.5-2 3.39 2.43 10.11 1.03 13.5 2 0 0 1.65.54 3 2-.68.97-1.65.99-3 .5-3.39-.97-10.11.46-13.5-1-3.39 1.46-10.11.03-13.5 1-1.354.49-2.323.47-3-.5 1.354-1.94 3-2 3-2zM15 32c2.5 2.5 12.5 2.5 15 0 .5-1.5 0-2 0-2 0-2.5-2.5-4-2.5-4 5.5-1.5 6-11.5-5-15.5-11 4-10.5 14-5 15.5 0 0-2.5 1.5-2.5 4 0 0-.5.5 0 2zM25 8a2.5 2.5 0 1 1-5 0 2.5 2.5 0 1 1 5 0z\" /></g><path d=\"M17.5 26h10M15 30h15m-7.5-14.5v5M20 18h5\" stroke-linejoin=\"miter\" /></g><g id=\"white-rook\" class=\"white rook\" fill=\"#fff\" fill-rule=\"evenodd\" stroke=\"#000\" stroke-width=\"1.5\" stroke-linecap=\"round\" stroke-linejoin=\"round\"><path d=\"M9 39h27v-3H9v3zM12 36v-4h21v4H12zM11 14V9h4v2h5V9h5v2h5V9h4v5\" stroke-linecap=\"butt\" /><path d=\"M34 14l-3 3H14l-3-3\" /><path d=\"M31 17v12.5H14V17\" stroke-linecap=\"butt\" stroke-linejoin=\"miter\" /><path d=\"M31 29.5l1.5 2.5h-20l1.5-2.5\" /><path d=\"M11 14h23\" fill=\"none\" stroke-linejoin=\"miter\" /></g><g id=\"white-queen\" class=\"white queen\" fill=\"#fff\" fill-rule=\"evenodd\" stroke=\"#000\" stroke-width=\"1.5\" stroke-linecap=\"round\" stroke-linejoin=\"round\"><path d=\"M8 12a2 2 0 1 1-4 0 2 2 0 1 1 4 0zM24.5 7.5a2 2 0 1 1-4 0 2 2 0 1 1 4 0zM41 12a2 2 0 1 1-4 0 2 2 0 1 1 4 0zM16 8.5a2 2 0 1 1-4 0 2 2 0 1 1 4 0zM33 9a2 2 0 1 1-4 0 2 2 0 1 1 4 0z\" /><path d=\"M9 26c8.5-1.5 21-1.5 27 0l2-12-7 11V11l-5.5 13.5-3-15-3 15-5.5-14V25L7 14l2 12zM9 26c0 2 1.5 2 2.5 4 1 1.5 1 1 .5 3.5-1.5 1-1.5 2.5-1.5 2.5-1.5 1.5.5 2.5.5 2.5 6.5 1 16.5 1 23 0 0 0 1.5-1 0-2.5 0 0 .5-1.5-1-2.5-.5-2.5-.5-2 .5-3.5 1-2 2.5-2 2.5-4-8.5-1.5-18.5-1.5-27 0z\" stroke-linecap=\"butt\" /><path d=\"M11.5 30c3.5-1 18.5-1 22 0M12 33.5c6-1 15-1 21 0\" fill=\"none\" /></g><g id=\"white-king\" class=\"white king\" fill=\"none\" fill-rule=\"evenodd\" stroke=\"#000\" stroke-width=\"1.5\" stroke-linecap=\"round\" stroke-linejoin=\"round\"><path d=\"M22.5 11.63V6M20 8h5\" stroke-linejoin=\"miter\" /><path d=\"M22.5 25s4.5-7.5 3-10.5c0 0-1-2.5-3-2.5s-3 2.5-3 2.5c-1.5 3 3 10.5 3 10.5\" fill=\"#fff\" stroke-linecap=\"butt\" stroke-linejoin=\"miter\" /><path d=\"M11.5 37c5.5 3.5 15.5 3.5 21 0v-7s9-4.5 6-10.5c-4-6.5-13.5-3.5-16 4V27v-3.5c-3.5-7.5-13-10.5-16-4-3 6 5 10 5 10V37z\" fill=\"#fff\" /><path d=\"M11.5 30c5.5-3 15.5-3 21 0m-21 3.5c5.5-3 15.5-3 21 0m-21 3.5c5.5-3 15.5-3 21 0\" /></g><g id=\"black-pawn\" class=\"black pawn\"><path d=\"M22.5 9c-2.21 0-4 1.79-4 4 0 .89.29 1.71.78 2.38C17.33 16.5 16 18.59 16 21c0 2.03.94 3.84 2.41 5.03-3 1.06-7.41 5.55-7.41 13.47h23c0-7.92-4.41-12.41-7.41-13.47 1.47-1.19 2.41-3 2.41-5.03 0-2.41-1.33-4.5-3.28-5.62.49-.67.78-1.49.78-2.38 0-2.21-1.79-4-4-4z\" fill=\"#000\" stroke=\"#000\" stroke-width=\"1.5\" stroke-linecap=\"round\" /></g><g id=\"black-knight\" class=\"black knight\" fill=\"none\" fill-rule=\"evenodd\" stroke=\"#000\" stroke-width=\"1.5\" stroke-linecap=\"round\" stroke-linejoin=\"round\"><path d=\"M 22,10 C 32.5,11 38.5,18 38,39 L 15,39 C 15,30 25,32.5 23,18\" style=\"fill:#000000; stroke:#000000;\" /><path d=\"M 24,18 C 24.38,20.91 18.45,25.37 16,27 C 13,29 13.18,31.34 11,31 C 9.958,30.06 12.41,27.96 11,28 C 10,28 11.19,29.23 10,30 C 9,30 5.997,31 6,26 C 6,24 12,14 12,14 C 12,14 13.89,12.1 14,10.5 C 13.27,9.506 13.5,8.5 13.5,7.5 C 14.5,6.5 16.5,10 16.5,10 L 18.5,10 C 18.5,10 19.28,8.008 21,7 C 22,7 22,10 22,10\" style=\"fill:#000000; stroke:#000000;\" /><path d=\"M 9.5 25.5 A 0.5 0.5 0 1 1 8.5,25.5 A 0.5 0.5 0 1 1 9.5 25.5 z\" style=\"fill:#ececec; stroke:#ececec;\" /><path d=\"M 15 15.5 A 0.5 1.5 0 1 1 14,15.5 A 0.5 1.5 0 1 1 15 15.5 z\" transform=\"matrix(0.866,0.5,-0.5,0.866,9.693,-5.173)\" style=\"fill:#ececec; stroke:#ececec;\" /><path d=\"M 24.55,10.4 L 24.1,11.85 L 24.6,12 C 27.75,13 30.25,14.49 32.5,18.75 C 34.75,23.01 35.75,29.06 35.25,39 L 35.2,39.5 L 37.45,39.5 L 37.5,39 C 38,28.94 36.62,22.15 34.25,17.66 C 31.88,13.17 28.46,11.02 25.06,10.5 L 24.55,10.4 z \" style=\"fill:#ececec; stroke:none;\" /></g><g id=\"black-bishop\" class=\"black bishop\" fill=\"none\" fill-rule=\"evenodd\" stroke=\"#000\" stroke-width=\"1.5\" stroke-linecap=\"round\" stroke-linejoin=\"round\"><path d=\"M9 36c3.39-.97 10.11.43 13.5-2 3.39 2.43 10.11 1.03 13.5 2 0 0 1.65.54 3 2-.68.97-1.65.99-3 .5-3.39-.97-10.11.46-13.5-1-3.39 1.46-10.11.03-13.5 1-1.354.49-2.323.47-3-.5 1.354-1.94 3-2 3-2zm6-4c2.5 2.5 12.5 2.5 15 0 .5-1.5 0-2 0-2 0-2.5-2.5-4-2.5-4 5.5-1.5 6-11.5-5-15.5-11 4-10.5 14-5 15.5 0 0-2.5 1.5-2.5 4 0 0-.5.5 0 2zM25 8a2.5 2.5 0 1 1-5 0 2.5 2.5 0 1 1 5 0z\" fill=\"#000\" stroke-linecap=\"butt\" /><path d=\"M17.5 26h10M15 30h15m-7.5-14.5v5M20 18h5\" stroke=\"#fff\" stroke-linejoin=\"miter\" /></g><g id=\"black-rook\" class=\"black rook\" fill=\"#000\" fill-rule=\"evenodd\" stroke=\"#000\" stroke-width=\"1.5\" stroke-linecap=\"round\" stroke-linejoin=\"round\"><path d=\"M9 39h27v-3H9v3zM12.5 32l1.5-2.5h17l1.5 2.5h-20zM12 36v-4h21v4H12z\" stroke-linecap=\"butt\" /><path d=\"M14 29.5v-13h17v13H14z\" stroke-linecap=\"butt\" stroke-linejoin=\"miter\" /><path d=\"M14 16.5L11 14h23l-3 2.5H14zM11 14V9h4v2h5V9h5v2h5V9h4v5H11z\" stroke-linecap=\"butt\" /><path d=\"M12 35.5h21M13 31.5h19M14 29.5h17M14 16.5h17M11 14h23\" fill=\"none\" stroke=\"#fff\" stroke-width=\"1\" stroke-linejoin=\"miter\" /></g><g id=\"black-queen\" class=\"black queen\" fill=\"#000\" fill-rule=\"evenodd\" stroke=\"#000\" stroke-width=\"1.5\" stroke-linecap=\"round\" stroke-linejoin=\"round\"><g fill=\"#000\" stroke=\"none\"><circle cx=\"6\" cy=\"12\" r=\"2.75\" /><circle cx=\"14\" cy=\"9\" r=\"2.75\" /><circle cx=\"22.5\" cy=\"8\" r=\"2.75\" /><circle cx=\"31\" cy=\"9\" r=\"2.75\" /><circle cx=\"39\" cy=\"12\" r=\"2.75\" /></g><path d=\"M9 26c8.5-1.5 21-1.5 27 0l2.5-12.5L31 25l-.3-14.1-5.2 13.6-3-14.5-3 14.5-5.2-13.6L14 25 6.5 13.5 9 26zM9 26c0 2 1.5 2 2.5 4 1 1.5 1 1 .5 3.5-1.5 1-1.5 2.5-1.5 2.5-1.5 1.5.5 2.5.5 2.5 6.5 1 16.5 1 23 0 0 0 1.5-1 0-2.5 0 0 .5-1.5-1-2.5-.5-2.5-.5-2 .5-3.5 1-2 2.5-2 2.5-4-8.5-1.5-18.5-1.5-27 0z\" stroke-linecap=\"butt\" /><path d=\"M11 38.5a35 35 1 0 0 23 0\" fill=\"none\" stroke-linecap=\"butt\" /><path d=\"M11 29a35 35 1 0 1 23 0M12.5 31.5h20M11.5 34.5a35 35 1 0 0 22 0M10.5 37.5a35 35 1 0 0 24 0\" fill=\"none\" stroke=\"#fff\" /></g><g id=\"black-king\" class=\"black king\" fill=\"none\" fill-rule=\"evenodd\" stroke=\"#000\" stroke-width=\"1.5\" stroke-linecap=\"round\" stroke-linejoin=\"round\"><path d=\"M22.5 11.63V6\" stroke-linejoin=\"miter\" /><path d=\"M22.5 25s4.5-7.5 3-10.5c0 0-1-2.5-3-2.5s-3 2.5-3 2.5c-1.5 3 3 10.5 3 10.5\" fill=\"#000\" stroke-linecap=\"butt\" stroke-linejoin=\"miter\" /><path d=\"M11.5 37c5.5 3.5 15.5 3.5 21 0v-7s9-4.5 6-10.5c-4-6.5-13.5-3.5-16 4V27v-3.5c-3.5-7.5-13-10.5-16-4-3 6 5 10 5 10V37z\" fill=\"#000\" /><path d=\"M20 8h5\" stroke-linejoin=\"miter\" /><path d=\"M32 29.5s8.5-4 6.03-9.65C34.15 14 25 18 22.5 24.5l.01 2.1-.01-2.1C20 18 9.906 14 6.997 19.85c-2.497 5.65 4.853 9 4.853 9M11.5 30c5.5-3 15.5-3 21 0m-21 3.5c5.5-3 15.5-3 21 0m-21 3.5c5.5-3 15.5-3 21 0\" stroke=\"#fff\" /></g></defs><rect x=\"0\" y=\"0\" width=\"390\" height=\"390\" fill=\"#212121\" /><g transform=\"translate(20, 0) scale(0.75, 0.75)\" fill=\"#e5e5e5\" stroke=\"#e5e5e5\"><path d=\"M23.328 10.016q-1.742 0-2.414.398-.672.398-.672 1.36 0 .765.5 1.218.508.445 1.375.445 1.196 0 1.914-.843.727-.852.727-2.258v-.32zm2.867-.594v4.992h-1.437v-1.328q-.492.797-1.227 1.18-.734.375-1.797.375-1.343 0-2.14-.75-.79-.758-.79-2.024 0-1.476.985-2.226.992-.75 2.953-.75h2.016V8.75q0-.992-.656-1.531-.649-.547-1.829-.547-.75 0-1.46.18-.711.18-1.368.539V6.062q.79-.304 1.532-.453.742-.156 1.445-.156 1.898 0 2.836.984.937.985.937 2.985z\" /></g><g transform=\"translate(20, 375) scale(0.75, 0.75)\" fill=\"#e5e5e5\" stroke=\"#e5e5e5\"><path d=\"M23.328 10.016q-1.742 0-2.414.398-.672.398-.672 1.36 0 .765.5 1.218.508.445 1.375.445 1.196 0 1.914-.843.727-.852.727-2.258v-.32zm2.867-.594v4.992h-1.437v-1.328q-.492.797-1.227 1.18-.734.375-1.797.375-1.343 0-2.14-.75-.79-.758-.79-2.024 0-1.476.985-2.226.992-.75 2.953-.75h2.016V8.75q0-.992-.656-1.531-.649-.547-1.829-.547-.75 0-1.46.18-.711.18-1.368.539V6.062q.79-.304 1.532-.453.742-.156 1.445-.156 1.898 0 2.836.984.937.985.937 2.985z\" /></g><g transform=\"translate(65, 0) scale(0.75, 0.75)\" fill=\"#e5e5e5\" stroke=\"#e5e5e5\"><path d=\"M24.922 10.047q0-1.586-.656-2.485-.649-.906-1.79-.906-1.14 0-1.796.906-.649.899-.649 2.485 0 1.586.649 2.492.656.898 1.797.898 1.14 0 1.789-.898.656-.906.656-2.492zm-4.89-3.055q.452-.781 1.14-1.156.695-.383 1.656-.383 1.594 0 2.586 1.266 1 1.265 1 3.328 0 2.062-1 3.328-.992 1.266-2.586 1.266-.96 0-1.656-.375-.688-.383-1.14-1.164v1.312h-1.446V2.258h1.445z\" /></g><g transform=\"translate(65, 375) scale(0.75, 0.75)\" fill=\"#e5e5e5\" stroke=\"#e5e5e5\"><path d=\"M24.922 10.047q0-1.586-.656-2.485-.649-.906-1.79-.906-1.14 0-1.796.906-.649.899-.649 2.485 0 1.586.649 2.492.656.898 1.797.898 1.14 0 1.789-.898.656-.906.656-2.492zm-4.89-3.055q.452-.781 1.14-1.156.695-.383 1.656-.383 1.594 0 2.586 1.266 1 1.265 1 3.328 0 2.062-1 3.328-.992 1.266-2.586 1.266-.96 0-1.656-.375-.688-.383-1.14-1.164v1.312h-1.446V2.258h1.445z\" /></g><g transform=\"translate(110, 0) scale(0.75, 0.75)\" fill=\"#e5e5e5\" stroke=\"#e5e5e5\"><path d=\"M25.96 6v1.344q-.608-.336-1.226-.5-.609-.172-1.234-.172-1.398 0-2.172.89-.773.883-.773 2.485 0 1.601.773 2.492.774.883 2.172.883.625 0 1.234-.164.618-.172 1.227-.508v1.328q-.602.281-1.25.422-.64.14-1.367.14-1.977 0-3.14-1.242-1.165-1.242-1.165-3.351 0-2.14 1.172-3.367 1.18-1.227 3.227-1.227.664 0 1.296.14.633.134 1.227.407z\" /></g><g transform=\"translate(110, 375) scale(0.75, 0.75)\" fill=\"#e5e5e5\" stroke=\"#e5e5e5\"><path d=\"M25.96 6v1.344q-.608-.336-1.226-.5-.609-.172-1.234-.172-1.398 0-2.172.89-.773.883-.773 2.485 0 1.601.773 2.492.774.883 2.172.883.625 0 1.234-.164.618-.172 1.227-.508v1.328q-.602.281-1.25.422-.64.14-1.367.14-1.977 0-3.14-1.242-1.165-1.242-1.165-3.351 0-2.14 1.172-3.367 1.18-1.227 3.227-1.227.664 0 1.296.14.633.134 1.227.407z\" /></g><g transform=\"translate(155, 0) scale(0.75, 0.75)\" fill=\"#e5e5e5\" stroke=\"#e5e5e5\"><path d=\"M24.973 6.992V2.258h1.437v12.156h-1.437v-1.312q-.453.78-1.149 1.164-.687.375-1.656.375-1.586 0-2.586-1.266-.992-1.266-.992-3.328 0-2.063.992-3.328 1-1.266 2.586-1.266.969 0 1.656.383.696.375 1.149 1.156zm-4.899 3.055q0 1.586.649 2.492.656.898 1.797.898 1.14 0 1.796-.898.657-.906.657-2.492 0-1.586-.657-2.485-.656-.906-1.796-.906-1.141 0-1.797.906-.649.899-.649 2.485z\" /></g><g transform=\"translate(155, 375) scale(0.75, 0.75)\" fill=\"#e5e5e5\" stroke=\"#e5e5e5\"><path d=\"M24.973 6.992V2.258h1.437v12.156h-1.437v-1.312q-.453.78-1.149 1.164-.687.375-1.656.375-1.586 0-2.586-1.266-.992-1.266-.992-3.328 0-2.063.992-3.328 1-1.266 2.586-1.266.969 0 1.656.383.696.375 1.149 1.156zm-4.899 3.055q0 1.586.649 2.492.656.898 1.797.898 1.14 0 1.796-.898.657-.906.657-2.492 0-1.586-.657-2.485-.656-.906-1.796-.906-1.141 0-1.797.906-.649.899-.649 2.485z\" /></g><g transform=\"translate(200, 0) scale(0.75, 0.75)\" fill=\"#e5e5e5\" stroke=\"#e5e5e5\"><path d=\"M26.555 9.68v.703h-6.61q.094 1.484.89 2.265.806.774 2.235.774.828 0 1.602-.203.781-.203 1.547-.61v1.36q-.774.328-1.586.5-.813.172-1.649.172-2.093 0-3.32-1.22-1.219-1.218-1.219-3.296 0-2.148 1.157-3.406 1.164-1.266 3.132-1.266 1.766 0 2.79 1.14 1.03 1.134 1.03 3.087zm-1.438-.422q-.015-1.18-.664-1.883-.64-.703-1.703-.703-1.203 0-1.93.68-.718.68-.828 1.914z\" /></g><g transform=\"translate(200, 375) scale(0.75, 0.75)\" fill=\"#e5e5e5\" stroke=\"#e5e5e5\"><path d=\"M26.555 9.68v.703h-6.61q.094 1.484.89 2.265.806.774 2.235.774.828 0 1.602-.203.781-.203 1.547-.61v1.36q-.774.328-1.586.5-.813.172-1.649.172-2.093 0-3.32-1.22-1.219-1.218-1.219-3.296 0-2.148 1.157-3.406 1.164-1.266 3.132-1.266 1.766 0 2.79 1.14 1.03 1.134 1.03 3.087zm-1.438-.422q-.015-1.18-.664-1.883-.64-.703-1.703-.703-1.203 0-1.93.68-.718.68-.828 1.914z\" /></g><g transform=\"translate(245, 0) scale(0.75, 0.75)\" fill=\"#e5e5e5\" stroke=\"#e5e5e5\"><path d=\"M25.285 2.258v1.195H23.91q-.773 0-1.078.313-.297.312-.297 1.125v.773h2.367v1.117h-2.367v7.633H21.09V6.781h-1.375V5.664h1.375v-.61q0-1.46.68-2.124.68-.672 2.156-.672z\" /></g><g transform=\"translate(245, 375) scale(0.75, 0.75)\" fill=\"#e5e5e5\" stroke=\"#e5e5e5\"><path d=\"M25.285 2.258v1.195H23.91q-.773 0-1.078.313-.297.312-.297 1.125v.773h2.367v1.117h-2.367v7.633H21.09V6.781h-1.375V5.664h1.375v-.61q0-1.46.68-2.124.68-.672 2.156-.672z\" /></g><g transform=\"translate(290, 0) scale(0.75, 0.75)\" fill=\"#e5e5e5\" stroke=\"#e5e5e5\"><path d=\"M24.973 9.937q0-1.562-.649-2.421-.64-.86-1.804-.86-1.157 0-1.805.86-.64.859-.64 2.421 0 1.555.64 2.415.648.859 1.805.859 1.164 0 1.804-.86.649-.859.649-2.414zm1.437 3.391q0 2.234-.992 3.32-.992 1.094-3.04 1.094-.757 0-1.429-.117-.672-.11-1.304-.344v-1.398q.632.344 1.25.508.617.164 1.257.164 1.414 0 2.118-.743.703-.734.703-2.226v-.711q-.446.773-1.141 1.156-.695.383-1.664.383-1.61 0-2.594-1.227-.984-1.226-.984-3.25 0-2.03.984-3.257.985-1.227 2.594-1.227.969 0 1.664.383t1.14 1.156V5.664h1.438z\" /></g><g transform=\"translate(290, 375) scale(0.75, 0.75)\" fill=\"#e5e5e5\" stroke=\"#e5e5e5\"><path d=\"M24.973 9.937q0-1.562-.649-2.421-.64-.86-1.804-.86-1.157 0-1.805.86-.64.859-.64 2.421 0 1.555.64 2.415.648.859 1.805.859 1.164 0 1.804-.86.649-.859.649-2.414zm1.437 3.391q0 2.234-.992 3.32-.992 1.094-3.04 1.094-.757 0-1.429-.117-.672-.11-1.304-.344v-1.398q.632.344 1.25.508.617.164 1.257.164 1.414 0 2.118-.743.703-.734.703-2.226v-.711q-.446.773-1.141 1.156-.695.383-1.664.383-1.61 0-2.594-1.227-.984-1.226-.984-3.25 0-2.03.984-3.257.985-1.227 2.594-1.227.969 0 1.664.383t1.14 1.156V5.664h1.438z\" /></g><g transform=\"translate(335, 0) scale(0.75, 0.75)\" fill=\"#e5e5e5\" stroke=\"#e5e5e5\"><path d=\"M26.164 9.133v5.281h-1.437V9.18q0-1.243-.485-1.86-.484-.617-1.453-.617-1.164 0-1.836.742-.672.742-.672 2.024v4.945h-1.445V2.258h1.445v4.765q.516-.789 1.211-1.18.703-.39 1.617-.39 1.508 0 2.282.938.773.93.773 2.742z\" /></g><g transform=\"translate(335, 375) scale(0.75, 0.75)\" fill=\"#e5e5e5\" stroke=\"#e5e5e5\"><path d=\"M26.164 9.133v5.281h-1.437V9.18q0-1.243-.485-1.86-.484-.617-1.453-.617-1.164 0-1.836.742-.672.742-.672 2.024v4.945h-1.445V2.258h1.445v4.765q.516-.789 1.211-1.18.703-.39 1.617-.39 1.508 0 2.282.938.773.93.773 2.742z\" /></g><g transform=\"translate(0, 335) scale(0.75, 0.75)\" fill=\"#e5e5e5\" stroke=\"#e5e5e5\"><path d=\"M6.754 26.996h2.578v-8.898l-2.805.562v-1.437l2.79-.563h1.578v10.336h2.578v1.328h-6.72z\" /></g><g transform=\"translate(375, 335) scale(0.75, 0.75)\" fill=\"#e5e5e5\" stroke=\"#e5e5e5\"><path d=\"M6.754 26.996h2.578v-8.898l-2.805.562v-1.437l2.79-.563h1.578v10.336h2.578v1.328h-6.72z\" /></g><g transform=\"translate(0, 290) scale(0.75, 0.75)\" fill=\"#e5e5e5\" stroke=\"#e5e5e5\"><path d=\"M8.195 26.996h5.508v1.328H6.297v-1.328q.898-.93 2.445-2.492 1.555-1.57 1.953-2.024.758-.851 1.055-1.437.305-.594.305-1.164 0-.93-.657-1.516-.648-.586-1.695-.586-.742 0-1.57.258-.82.258-1.758.781v-1.593q.953-.383 1.781-.578.828-.196 1.516-.196 1.812 0 2.89.906 1.079.907 1.079 2.422 0 .72-.274 1.368-.265.64-.976 1.515-.196.227-1.243 1.313-1.046 1.078-2.953 3.023z\" /></g><g transform=\"translate(375, 290) scale(0.75, 0.75)\" fill=\"#e5e5e5\" stroke=\"#e5e5e5\"><path d=\"M8.195 26.996h5.508v1.328H6.297v-1.328q.898-.93 2.445-2.492 1.555-1.57 1.953-2.024.758-.851 1.055-1.437.305-.594.305-1.164 0-.93-.657-1.516-.648-.586-1.695-.586-.742 0-1.57.258-.82.258-1.758.781v-1.593q.953-.383 1.781-.578.828-.196 1.516-.196 1.812 0 2.89.906 1.079.907 1.079 2.422 0 .72-.274 1.368-.265.64-.976 1.515-.196.227-1.243 1.313-1.046 1.078-2.953 3.023z\" /></g><g transform=\"translate(0, 245) scale(0.75, 0.75)\" fill=\"#e5e5e5\" stroke=\"#e5e5e5\"><path d=\"M11.434 22.035q1.132.242 1.765 1.008.64.766.64 1.89 0 1.727-1.187 2.672-1.187.946-3.375.946-.734 0-1.515-.149-.774-.14-1.602-.43V26.45q.656.383 1.438.578.78.196 1.632.196 1.485 0 2.258-.586.782-.586.782-1.703 0-1.032-.727-1.61-.719-.586-2.008-.586h-1.36v-1.297h1.423q1.164 0 1.78-.46.618-.47.618-1.344 0-.899-.64-1.375-.633-.485-1.82-.485-.65 0-1.391.141-.743.14-1.633.437V16.95q.898-.25 1.68-.375.788-.125 1.484-.125 1.797 0 2.844.82 1.046.813 1.046 2.204 0 .968-.554 1.64-.555.664-1.578.922z\" /></g><g transform=\"translate(375, 245) scale(0.75, 0.75)\" fill=\"#e5e5e5\" stroke=\"#e5e5e5\"><path d=\"M11.434 22.035q1.132.242 1.765 1.008.64.766.64 1.89 0 1.727-1.187 2.672-1.187.946-3.375.946-.734 0-1.515-.149-.774-.14-1.602-.43V26.45q.656.383 1.438.578.78.196 1.632.196 1.485 0 2.258-.586.782-.586.782-1.703 0-1.032-.727-1.61-.719-.586-2.008-.586h-1.36v-1.297h1.423q1.164 0 1.78-.46.618-.47.618-1.344 0-.899-.64-1.375-.633-.485-1.82-.485-.65 0-1.391.141-.743.14-1.633.437V16.95q.898-.25 1.68-.375.788-.125 1.484-.125 1.797 0 2.844.82 1.046.813 1.046 2.204 0 .968-.554 1.64-.555.664-1.578.922z\" /></g><g transform=\"translate(0, 200) scale(0.75, 0.75)\" fill=\"#e5e5e5\" stroke=\"#e5e5e5\"><path d=\"M11.016 18.035L7.03 24.262h3.985zm-.414-1.375h1.984v7.602h1.664v1.312h-1.664v2.75h-1.57v-2.75H5.75v-1.523z\" /></g><g transform=\"translate(375, 200) scale(0.75, 0.75)\" fill=\"#e5e5e5\" stroke=\"#e5e5e5\"><path d=\"M11.016 18.035L7.03 24.262h3.985zm-.414-1.375h1.984v7.602h1.664v1.312h-1.664v2.75h-1.57v-2.75H5.75v-1.523z\" /></g><g transform=\"translate(0, 155) scale(0.75, 0.75)\" fill=\"#e5e5e5\" stroke=\"#e5e5e5\"><path d=\"M6.719 16.66h6.195v1.328h-4.75v2.86q.344-.118.688-.172.343-.063.687-.063 1.953 0 3.094 1.07 1.14 1.07 1.14 2.899 0 1.883-1.171 2.93-1.172 1.039-3.305 1.039-.735 0-1.5-.125-.758-.125-1.57-.375v-1.586q.703.383 1.453.57.75.188 1.586.188 1.351 0 2.14-.711.79-.711.79-1.93 0-1.219-.79-1.93-.789-.71-2.14-.71-.633 0-1.266.14-.625.14-1.281.438z\" /></g><g transform=\"translate(375, 155) scale(0.75, 0.75)\" fill=\"#e5e5e5\" stroke=\"#e5e5e5\"><path d=\"M6.719 16.66h6.195v1.328h-4.75v2.86q.344-.118.688-.172.343-.063.687-.063 1.953 0 3.094 1.07 1.14 1.07 1.14 2.899 0 1.883-1.171 2.93-1.172 1.039-3.305 1.039-.735 0-1.5-.125-.758-.125-1.57-.375v-1.586q.703.383 1.453.57.75.188 1.586.188 1.351 0 2.14-.711.79-.711.79-1.93 0-1.219-.79-1.93-.789-.71-2.14-.71-.633 0-1.266.14-.625.14-1.281.438z\" /></g><g transform=\"translate(0, 110) scale(0.75, 0.75)\" fill=\"#e5e5e5\" stroke=\"#e5e5e5\"><path d=\"M10.137 21.863q-1.063 0-1.688.727-.617.726-.617 1.992 0 1.258.617 1.992.625.727 1.688.727 1.062 0 1.68-.727.624-.734.624-1.992 0-1.266-.625-1.992-.617-.727-1.68-.727zm3.133-4.945v1.437q-.594-.28-1.204-.43-.601-.148-1.195-.148-1.562 0-2.39 1.055-.82 1.055-.938 3.188.46-.68 1.156-1.04.696-.367 1.531-.367 1.758 0 2.774 1.07 1.023 1.063 1.023 2.899 0 1.797-1.062 2.883-1.063 1.086-2.828 1.086-2.024 0-3.094-1.547-1.07-1.555-1.07-4.5 0-2.766 1.312-4.406 1.313-1.649 3.524-1.649.593 0 1.195.117.61.118 1.266.352z\" /></g><g transform=\"translate(375, 110) scale(0.75, 0.75)\" fill=\"#e5e5e5\" stroke=\"#e5e5e5\"><path d=\"M10.137 21.863q-1.063 0-1.688.727-.617.726-.617 1.992 0 1.258.617 1.992.625.727 1.688.727 1.062 0 1.68-.727.624-.734.624-1.992 0-1.266-.625-1.992-.617-.727-1.68-.727zm3.133-4.945v1.437q-.594-.28-1.204-.43-.601-.148-1.195-.148-1.562 0-2.39 1.055-.82 1.055-.938 3.188.46-.68 1.156-1.04.696-.367 1.531-.367 1.758 0 2.774 1.07 1.023 1.063 1.023 2.899 0 1.797-1.062 2.883-1.063 1.086-2.828 1.086-2.024 0-3.094-1.547-1.07-1.555-1.07-4.5 0-2.766 1.312-4.406 1.313-1.649 3.524-1.649.593 0 1.195.117.61.118 1.266.352z\" /></g><g transform=\"translate(0, 65) scale(0.75, 0.75)\" fill=\"#e5e5e5\" stroke=\"#e5e5e5\"><path d=\"M6.25 16.66h7.5v.672L9.516 28.324H7.867l3.985-10.336H6.25z\" /></g><g transform=\"translate(375, 65) scale(0.75, 0.75)\" fill=\"#e5e5e5\" stroke=\"#e5e5e5\"><path d=\"M6.25 16.66h7.5v.672L9.516 28.324H7.867l3.985-10.336H6.25z\" /></g><g transform=\"translate(0, 20) scale(0.75, 0.75)\" fill=\"#e5e5e5\" stroke=\"#e5e5e5\"><path d=\"M10 22.785q-1.125 0-1.773.602-.641.601-.641 1.656t.64 1.656q.649.602 1.774.602t1.773-.602q.649-.61.649-1.656 0-1.055-.649-1.656-.64-.602-1.773-.602zm-1.578-.672q-1.016-.25-1.586-.945-.563-.695-.563-1.695 0-1.399.993-2.211 1-.813 2.734-.813 1.742 0 2.734.813.993.812.993 2.21 0 1-.57 1.696-.563.695-1.571.945 1.14.266 1.773 1.04.641.773.641 1.89 0 1.695-1.04 2.602-1.03.906-2.96.906t-2.969-.906Q6 26.738 6 25.043q0-1.117.64-1.89.641-.774 1.782-1.04zm-.578-2.492q0 .906.562 1.414.57.508 1.594.508 1.016 0 1.586-.508.578-.508.578-1.414 0-.906-.578-1.414-.57-.508-1.586-.508-1.023 0-1.594.508-.562.508-.562 1.414z\" /></g><g transform=\"translate(375, 20) scale(0.75, 0.75)\" fill=\"#e5e5e5\" stroke=\"#e5e5e5\"><path d=\"M10 22.785q-1.125 0-1.773.602-.641.601-.641 1.656t.64 1.656q.649.602 1.774.602t1.773-.602q.649-.61.649-1.656 0-1.055-.649-1.656-.64-.602-1.773-.602zm-1.578-.672q-1.016-.25-1.586-.945-.563-.695-.563-1.695 0-1.399.993-2.211 1-.813 2.734-.813 1.742 0 2.734.813.993.812.993 2.21 0 1-.57 1.696-.563.695-1.571.945 1.14.266 1.773 1.04.641.773.641 1.89 0 1.695-1.04 2.602-1.03.906-2.96.906t-2.969-.906Q6 26.738 6 25.043q0-1.117.64-1.89.641-.774 1.782-1.04zm-.578-2.492q0 .906.562 1.414.57.508 1.594.508 1.016 0 1.586-.508.578-.508.578-1.414 0-.906-.578-1.414-.57-.508-1.586-.508-1.023 0-1.594.508-.562.508-.562 1.414z\" /></g><rect x=\"15\" y=\"330\" width=\"45\" height=\"45\" class=\"square dark a1\" stroke=\"none\" fill=\"#d18b47\" /><rect x=\"60\" y=\"330\" width=\"45\" height=\"45\" class=\"square light b1\" stroke=\"none\" fill=\"#ffce9e\" /><rect x=\"105\" y=\"330\" width=\"45\" height=\"45\" class=\"square dark c1\" stroke=\"none\" fill=\"#d18b47\" /><rect x=\"150\" y=\"330\" width=\"45\" height=\"45\" class=\"square light d1\" stroke=\"none\" fill=\"#ffce9e\" /><rect x=\"195\" y=\"330\" width=\"45\" height=\"45\" class=\"square dark e1\" stroke=\"none\" fill=\"#d18b47\" /><rect x=\"240\" y=\"330\" width=\"45\" height=\"45\" class=\"square light f1\" stroke=\"none\" fill=\"#ffce9e\" /><rect x=\"285\" y=\"330\" width=\"45\" height=\"45\" class=\"square dark g1\" stroke=\"none\" fill=\"#d18b47\" /><rect x=\"330\" y=\"330\" width=\"45\" height=\"45\" class=\"square light h1\" stroke=\"none\" fill=\"#ffce9e\" /><rect x=\"15\" y=\"285\" width=\"45\" height=\"45\" class=\"square light a2\" stroke=\"none\" fill=\"#ffce9e\" /><rect x=\"60\" y=\"285\" width=\"45\" height=\"45\" class=\"square dark b2\" stroke=\"none\" fill=\"#d18b47\" /><rect x=\"105\" y=\"285\" width=\"45\" height=\"45\" class=\"square light c2\" stroke=\"none\" fill=\"#ffce9e\" /><rect x=\"150\" y=\"285\" width=\"45\" height=\"45\" class=\"square dark d2\" stroke=\"none\" fill=\"#d18b47\" /><rect x=\"195\" y=\"285\" width=\"45\" height=\"45\" class=\"square light e2\" stroke=\"none\" fill=\"#ffce9e\" /><rect x=\"240\" y=\"285\" width=\"45\" height=\"45\" class=\"square dark f2\" stroke=\"none\" fill=\"#d18b47\" /><rect x=\"285\" y=\"285\" width=\"45\" height=\"45\" class=\"square light g2\" stroke=\"none\" fill=\"#ffce9e\" /><rect x=\"330\" y=\"285\" width=\"45\" height=\"45\" class=\"square dark h2\" stroke=\"none\" fill=\"#d18b47\" /><rect x=\"15\" y=\"240\" width=\"45\" height=\"45\" class=\"square dark a3\" stroke=\"none\" fill=\"#d18b47\" /><rect x=\"60\" y=\"240\" width=\"45\" height=\"45\" class=\"square light b3\" stroke=\"none\" fill=\"#ffce9e\" /><rect x=\"105\" y=\"240\" width=\"45\" height=\"45\" class=\"square dark c3\" stroke=\"none\" fill=\"#d18b47\" /><rect x=\"150\" y=\"240\" width=\"45\" height=\"45\" class=\"square light d3\" stroke=\"none\" fill=\"#ffce9e\" /><rect x=\"195\" y=\"240\" width=\"45\" height=\"45\" class=\"square dark e3\" stroke=\"none\" fill=\"#d18b47\" /><rect x=\"240\" y=\"240\" width=\"45\" height=\"45\" class=\"square light f3\" stroke=\"none\" fill=\"#ffce9e\" /><rect x=\"285\" y=\"240\" width=\"45\" height=\"45\" class=\"square dark g3\" stroke=\"none\" fill=\"#d18b47\" /><rect x=\"330\" y=\"240\" width=\"45\" height=\"45\" class=\"square light h3\" stroke=\"none\" fill=\"#ffce9e\" /><rect x=\"15\" y=\"195\" width=\"45\" height=\"45\" class=\"square light a4\" stroke=\"none\" fill=\"#ffce9e\" /><rect x=\"60\" y=\"195\" width=\"45\" height=\"45\" class=\"square dark b4\" stroke=\"none\" fill=\"#d18b47\" /><rect x=\"105\" y=\"195\" width=\"45\" height=\"45\" class=\"square light c4\" stroke=\"none\" fill=\"#ffce9e\" /><rect x=\"150\" y=\"195\" width=\"45\" height=\"45\" class=\"square dark d4\" stroke=\"none\" fill=\"#d18b47\" /><rect x=\"195\" y=\"195\" width=\"45\" height=\"45\" class=\"square light e4\" stroke=\"none\" fill=\"#ffce9e\" /><rect x=\"240\" y=\"195\" width=\"45\" height=\"45\" class=\"square dark f4\" stroke=\"none\" fill=\"#d18b47\" /><rect x=\"285\" y=\"195\" width=\"45\" height=\"45\" class=\"square light g4\" stroke=\"none\" fill=\"#ffce9e\" /><rect x=\"330\" y=\"195\" width=\"45\" height=\"45\" class=\"square dark h4\" stroke=\"none\" fill=\"#d18b47\" /><rect x=\"15\" y=\"150\" width=\"45\" height=\"45\" class=\"square dark a5\" stroke=\"none\" fill=\"#d18b47\" /><rect x=\"60\" y=\"150\" width=\"45\" height=\"45\" class=\"square light b5\" stroke=\"none\" fill=\"#ffce9e\" /><rect x=\"105\" y=\"150\" width=\"45\" height=\"45\" class=\"square dark c5\" stroke=\"none\" fill=\"#d18b47\" /><rect x=\"150\" y=\"150\" width=\"45\" height=\"45\" class=\"square light d5\" stroke=\"none\" fill=\"#ffce9e\" /><rect x=\"195\" y=\"150\" width=\"45\" height=\"45\" class=\"square dark e5\" stroke=\"none\" fill=\"#d18b47\" /><rect x=\"240\" y=\"150\" width=\"45\" height=\"45\" class=\"square light f5\" stroke=\"none\" fill=\"#ffce9e\" /><rect x=\"285\" y=\"150\" width=\"45\" height=\"45\" class=\"square dark g5\" stroke=\"none\" fill=\"#d18b47\" /><rect x=\"330\" y=\"150\" width=\"45\" height=\"45\" class=\"square light h5\" stroke=\"none\" fill=\"#ffce9e\" /><rect x=\"15\" y=\"105\" width=\"45\" height=\"45\" class=\"square light a6\" stroke=\"none\" fill=\"#ffce9e\" /><rect x=\"60\" y=\"105\" width=\"45\" height=\"45\" class=\"square dark b6\" stroke=\"none\" fill=\"#d18b47\" /><rect x=\"105\" y=\"105\" width=\"45\" height=\"45\" class=\"square light c6\" stroke=\"none\" fill=\"#ffce9e\" /><rect x=\"150\" y=\"105\" width=\"45\" height=\"45\" class=\"square dark d6\" stroke=\"none\" fill=\"#d18b47\" /><rect x=\"195\" y=\"105\" width=\"45\" height=\"45\" class=\"square light e6\" stroke=\"none\" fill=\"#ffce9e\" /><rect x=\"240\" y=\"105\" width=\"45\" height=\"45\" class=\"square dark f6\" stroke=\"none\" fill=\"#d18b47\" /><rect x=\"285\" y=\"105\" width=\"45\" height=\"45\" class=\"square light g6\" stroke=\"none\" fill=\"#ffce9e\" /><rect x=\"330\" y=\"105\" width=\"45\" height=\"45\" class=\"square dark h6\" stroke=\"none\" fill=\"#d18b47\" /><rect x=\"15\" y=\"60\" width=\"45\" height=\"45\" class=\"square dark a7\" stroke=\"none\" fill=\"#d18b47\" /><rect x=\"60\" y=\"60\" width=\"45\" height=\"45\" class=\"square light b7\" stroke=\"none\" fill=\"#ffce9e\" /><rect x=\"105\" y=\"60\" width=\"45\" height=\"45\" class=\"square dark c7\" stroke=\"none\" fill=\"#d18b47\" /><rect x=\"150\" y=\"60\" width=\"45\" height=\"45\" class=\"square light d7\" stroke=\"none\" fill=\"#ffce9e\" /><rect x=\"195\" y=\"60\" width=\"45\" height=\"45\" class=\"square dark e7\" stroke=\"none\" fill=\"#d18b47\" /><rect x=\"240\" y=\"60\" width=\"45\" height=\"45\" class=\"square light f7\" stroke=\"none\" fill=\"#ffce9e\" /><rect x=\"285\" y=\"60\" width=\"45\" height=\"45\" class=\"square dark g7\" stroke=\"none\" fill=\"#d18b47\" /><rect x=\"330\" y=\"60\" width=\"45\" height=\"45\" class=\"square light h7\" stroke=\"none\" fill=\"#ffce9e\" /><rect x=\"15\" y=\"15\" width=\"45\" height=\"45\" class=\"square light a8\" stroke=\"none\" fill=\"#ffce9e\" /><rect x=\"60\" y=\"15\" width=\"45\" height=\"45\" class=\"square dark b8\" stroke=\"none\" fill=\"#d18b47\" /><rect x=\"105\" y=\"15\" width=\"45\" height=\"45\" class=\"square light c8\" stroke=\"none\" fill=\"#ffce9e\" /><rect x=\"150\" y=\"15\" width=\"45\" height=\"45\" class=\"square dark d8\" stroke=\"none\" fill=\"#d18b47\" /><rect x=\"195\" y=\"15\" width=\"45\" height=\"45\" class=\"square light e8\" stroke=\"none\" fill=\"#ffce9e\" /><rect x=\"240\" y=\"15\" width=\"45\" height=\"45\" class=\"square dark f8\" stroke=\"none\" fill=\"#d18b47\" /><rect x=\"285\" y=\"15\" width=\"45\" height=\"45\" class=\"square light g8\" stroke=\"none\" fill=\"#ffce9e\" /><rect x=\"330\" y=\"15\" width=\"45\" height=\"45\" class=\"square dark h8\" stroke=\"none\" fill=\"#d18b47\" /><use href=\"#white-rook\" xlink:href=\"#white-rook\" transform=\"translate(15, 330)\" /><use href=\"#white-knight\" xlink:href=\"#white-knight\" transform=\"translate(60, 330)\" /><use href=\"#white-bishop\" xlink:href=\"#white-bishop\" transform=\"translate(105, 330)\" /><use href=\"#white-queen\" xlink:href=\"#white-queen\" transform=\"translate(150, 330)\" /><use href=\"#white-king\" xlink:href=\"#white-king\" transform=\"translate(195, 330)\" /><use href=\"#white-bishop\" xlink:href=\"#white-bishop\" transform=\"translate(240, 330)\" /><use href=\"#white-knight\" xlink:href=\"#white-knight\" transform=\"translate(285, 330)\" /><use href=\"#white-rook\" xlink:href=\"#white-rook\" transform=\"translate(330, 330)\" /><use href=\"#white-pawn\" xlink:href=\"#white-pawn\" transform=\"translate(15, 285)\" /><use href=\"#white-pawn\" xlink:href=\"#white-pawn\" transform=\"translate(60, 285)\" /><use href=\"#white-pawn\" xlink:href=\"#white-pawn\" transform=\"translate(105, 285)\" /><use href=\"#white-pawn\" xlink:href=\"#white-pawn\" transform=\"translate(150, 285)\" /><use href=\"#white-pawn\" xlink:href=\"#white-pawn\" transform=\"translate(195, 285)\" /><use href=\"#white-pawn\" xlink:href=\"#white-pawn\" transform=\"translate(240, 285)\" /><use href=\"#white-pawn\" xlink:href=\"#white-pawn\" transform=\"translate(285, 285)\" /><use href=\"#white-pawn\" xlink:href=\"#white-pawn\" transform=\"translate(330, 285)\" /><use href=\"#black-pawn\" xlink:href=\"#black-pawn\" transform=\"translate(15, 60)\" /><use href=\"#black-pawn\" xlink:href=\"#black-pawn\" transform=\"translate(60, 60)\" /><use href=\"#black-pawn\" xlink:href=\"#black-pawn\" transform=\"translate(105, 60)\" /><use href=\"#black-pawn\" xlink:href=\"#black-pawn\" transform=\"translate(150, 60)\" /><use href=\"#black-pawn\" xlink:href=\"#black-pawn\" transform=\"translate(195, 60)\" /><use href=\"#black-pawn\" xlink:href=\"#black-pawn\" transform=\"translate(240, 60)\" /><use href=\"#black-pawn\" xlink:href=\"#black-pawn\" transform=\"translate(285, 60)\" /><use href=\"#black-pawn\" xlink:href=\"#black-pawn\" transform=\"translate(330, 60)\" /><use href=\"#black-rook\" xlink:href=\"#black-rook\" transform=\"translate(15, 15)\" /><use href=\"#black-knight\" xlink:href=\"#black-knight\" transform=\"translate(60, 15)\" /><use href=\"#black-bishop\" xlink:href=\"#black-bishop\" transform=\"translate(105, 15)\" /><use href=\"#black-queen\" xlink:href=\"#black-queen\" transform=\"translate(150, 15)\" /><use href=\"#black-king\" xlink:href=\"#black-king\" transform=\"translate(195, 15)\" /><use href=\"#black-bishop\" xlink:href=\"#black-bishop\" transform=\"translate(240, 15)\" /><use href=\"#black-knight\" xlink:href=\"#black-knight\" transform=\"translate(285, 15)\" /><use href=\"#black-rook\" xlink:href=\"#black-rook\" transform=\"translate(330, 15)\" /></svg>"
      ],
      "text/plain": [
       "Board('rnbqkbnr/pppppppp/8/8/8/8/PPPPPPPP/RNBQKBNR w KQkq - 0 1')"
      ]
     },
     "execution_count": 15,
     "metadata": {},
     "output_type": "execute_result"
    }
   ],
   "source": [
    "#Initialize an empty chessboard\n",
    "board = chess.Board()\n",
    "board"
   ]
  },
  {
   "cell_type": "code",
   "execution_count": 16,
   "id": "00eabaad-20d2-4470-a813-8b2dc97c6af6",
   "metadata": {},
   "outputs": [
    {
     "data": {
      "image/svg+xml": [
       "<svg xmlns=\"http://www.w3.org/2000/svg\" xmlns:xlink=\"http://www.w3.org/1999/xlink\" version=\"1.2\" baseProfile=\"tiny\" viewBox=\"0 0 390 390\" width=\"390\" height=\"390\"><desc><pre>r n b q k b n r\n",
       "p p p p p p p p\n",
       ". . . . . . . .\n",
       ". . . . . . . .\n",
       ". . . . P . . .\n",
       ". . . . . . . .\n",
       "P P P P . P P P\n",
       "R N B Q K B N R</pre></desc><defs><g id=\"white-pawn\" class=\"white pawn\"><path d=\"M22.5 9c-2.21 0-4 1.79-4 4 0 .89.29 1.71.78 2.38C17.33 16.5 16 18.59 16 21c0 2.03.94 3.84 2.41 5.03-3 1.06-7.41 5.55-7.41 13.47h23c0-7.92-4.41-12.41-7.41-13.47 1.47-1.19 2.41-3 2.41-5.03 0-2.41-1.33-4.5-3.28-5.62.49-.67.78-1.49.78-2.38 0-2.21-1.79-4-4-4z\" fill=\"#fff\" stroke=\"#000\" stroke-width=\"1.5\" stroke-linecap=\"round\" /></g><g id=\"white-knight\" class=\"white knight\" fill=\"none\" fill-rule=\"evenodd\" stroke=\"#000\" stroke-width=\"1.5\" stroke-linecap=\"round\" stroke-linejoin=\"round\"><path d=\"M 22,10 C 32.5,11 38.5,18 38,39 L 15,39 C 15,30 25,32.5 23,18\" style=\"fill:#ffffff; stroke:#000000;\" /><path d=\"M 24,18 C 24.38,20.91 18.45,25.37 16,27 C 13,29 13.18,31.34 11,31 C 9.958,30.06 12.41,27.96 11,28 C 10,28 11.19,29.23 10,30 C 9,30 5.997,31 6,26 C 6,24 12,14 12,14 C 12,14 13.89,12.1 14,10.5 C 13.27,9.506 13.5,8.5 13.5,7.5 C 14.5,6.5 16.5,10 16.5,10 L 18.5,10 C 18.5,10 19.28,8.008 21,7 C 22,7 22,10 22,10\" style=\"fill:#ffffff; stroke:#000000;\" /><path d=\"M 9.5 25.5 A 0.5 0.5 0 1 1 8.5,25.5 A 0.5 0.5 0 1 1 9.5 25.5 z\" style=\"fill:#000000; stroke:#000000;\" /><path d=\"M 15 15.5 A 0.5 1.5 0 1 1 14,15.5 A 0.5 1.5 0 1 1 15 15.5 z\" transform=\"matrix(0.866,0.5,-0.5,0.866,9.693,-5.173)\" style=\"fill:#000000; stroke:#000000;\" /></g><g id=\"white-bishop\" class=\"white bishop\" fill=\"none\" fill-rule=\"evenodd\" stroke=\"#000\" stroke-width=\"1.5\" stroke-linecap=\"round\" stroke-linejoin=\"round\"><g fill=\"#fff\" stroke-linecap=\"butt\"><path d=\"M9 36c3.39-.97 10.11.43 13.5-2 3.39 2.43 10.11 1.03 13.5 2 0 0 1.65.54 3 2-.68.97-1.65.99-3 .5-3.39-.97-10.11.46-13.5-1-3.39 1.46-10.11.03-13.5 1-1.354.49-2.323.47-3-.5 1.354-1.94 3-2 3-2zM15 32c2.5 2.5 12.5 2.5 15 0 .5-1.5 0-2 0-2 0-2.5-2.5-4-2.5-4 5.5-1.5 6-11.5-5-15.5-11 4-10.5 14-5 15.5 0 0-2.5 1.5-2.5 4 0 0-.5.5 0 2zM25 8a2.5 2.5 0 1 1-5 0 2.5 2.5 0 1 1 5 0z\" /></g><path d=\"M17.5 26h10M15 30h15m-7.5-14.5v5M20 18h5\" stroke-linejoin=\"miter\" /></g><g id=\"white-rook\" class=\"white rook\" fill=\"#fff\" fill-rule=\"evenodd\" stroke=\"#000\" stroke-width=\"1.5\" stroke-linecap=\"round\" stroke-linejoin=\"round\"><path d=\"M9 39h27v-3H9v3zM12 36v-4h21v4H12zM11 14V9h4v2h5V9h5v2h5V9h4v5\" stroke-linecap=\"butt\" /><path d=\"M34 14l-3 3H14l-3-3\" /><path d=\"M31 17v12.5H14V17\" stroke-linecap=\"butt\" stroke-linejoin=\"miter\" /><path d=\"M31 29.5l1.5 2.5h-20l1.5-2.5\" /><path d=\"M11 14h23\" fill=\"none\" stroke-linejoin=\"miter\" /></g><g id=\"white-queen\" class=\"white queen\" fill=\"#fff\" fill-rule=\"evenodd\" stroke=\"#000\" stroke-width=\"1.5\" stroke-linecap=\"round\" stroke-linejoin=\"round\"><path d=\"M8 12a2 2 0 1 1-4 0 2 2 0 1 1 4 0zM24.5 7.5a2 2 0 1 1-4 0 2 2 0 1 1 4 0zM41 12a2 2 0 1 1-4 0 2 2 0 1 1 4 0zM16 8.5a2 2 0 1 1-4 0 2 2 0 1 1 4 0zM33 9a2 2 0 1 1-4 0 2 2 0 1 1 4 0z\" /><path d=\"M9 26c8.5-1.5 21-1.5 27 0l2-12-7 11V11l-5.5 13.5-3-15-3 15-5.5-14V25L7 14l2 12zM9 26c0 2 1.5 2 2.5 4 1 1.5 1 1 .5 3.5-1.5 1-1.5 2.5-1.5 2.5-1.5 1.5.5 2.5.5 2.5 6.5 1 16.5 1 23 0 0 0 1.5-1 0-2.5 0 0 .5-1.5-1-2.5-.5-2.5-.5-2 .5-3.5 1-2 2.5-2 2.5-4-8.5-1.5-18.5-1.5-27 0z\" stroke-linecap=\"butt\" /><path d=\"M11.5 30c3.5-1 18.5-1 22 0M12 33.5c6-1 15-1 21 0\" fill=\"none\" /></g><g id=\"white-king\" class=\"white king\" fill=\"none\" fill-rule=\"evenodd\" stroke=\"#000\" stroke-width=\"1.5\" stroke-linecap=\"round\" stroke-linejoin=\"round\"><path d=\"M22.5 11.63V6M20 8h5\" stroke-linejoin=\"miter\" /><path d=\"M22.5 25s4.5-7.5 3-10.5c0 0-1-2.5-3-2.5s-3 2.5-3 2.5c-1.5 3 3 10.5 3 10.5\" fill=\"#fff\" stroke-linecap=\"butt\" stroke-linejoin=\"miter\" /><path d=\"M11.5 37c5.5 3.5 15.5 3.5 21 0v-7s9-4.5 6-10.5c-4-6.5-13.5-3.5-16 4V27v-3.5c-3.5-7.5-13-10.5-16-4-3 6 5 10 5 10V37z\" fill=\"#fff\" /><path d=\"M11.5 30c5.5-3 15.5-3 21 0m-21 3.5c5.5-3 15.5-3 21 0m-21 3.5c5.5-3 15.5-3 21 0\" /></g><g id=\"black-pawn\" class=\"black pawn\"><path d=\"M22.5 9c-2.21 0-4 1.79-4 4 0 .89.29 1.71.78 2.38C17.33 16.5 16 18.59 16 21c0 2.03.94 3.84 2.41 5.03-3 1.06-7.41 5.55-7.41 13.47h23c0-7.92-4.41-12.41-7.41-13.47 1.47-1.19 2.41-3 2.41-5.03 0-2.41-1.33-4.5-3.28-5.62.49-.67.78-1.49.78-2.38 0-2.21-1.79-4-4-4z\" fill=\"#000\" stroke=\"#000\" stroke-width=\"1.5\" stroke-linecap=\"round\" /></g><g id=\"black-knight\" class=\"black knight\" fill=\"none\" fill-rule=\"evenodd\" stroke=\"#000\" stroke-width=\"1.5\" stroke-linecap=\"round\" stroke-linejoin=\"round\"><path d=\"M 22,10 C 32.5,11 38.5,18 38,39 L 15,39 C 15,30 25,32.5 23,18\" style=\"fill:#000000; stroke:#000000;\" /><path d=\"M 24,18 C 24.38,20.91 18.45,25.37 16,27 C 13,29 13.18,31.34 11,31 C 9.958,30.06 12.41,27.96 11,28 C 10,28 11.19,29.23 10,30 C 9,30 5.997,31 6,26 C 6,24 12,14 12,14 C 12,14 13.89,12.1 14,10.5 C 13.27,9.506 13.5,8.5 13.5,7.5 C 14.5,6.5 16.5,10 16.5,10 L 18.5,10 C 18.5,10 19.28,8.008 21,7 C 22,7 22,10 22,10\" style=\"fill:#000000; stroke:#000000;\" /><path d=\"M 9.5 25.5 A 0.5 0.5 0 1 1 8.5,25.5 A 0.5 0.5 0 1 1 9.5 25.5 z\" style=\"fill:#ececec; stroke:#ececec;\" /><path d=\"M 15 15.5 A 0.5 1.5 0 1 1 14,15.5 A 0.5 1.5 0 1 1 15 15.5 z\" transform=\"matrix(0.866,0.5,-0.5,0.866,9.693,-5.173)\" style=\"fill:#ececec; stroke:#ececec;\" /><path d=\"M 24.55,10.4 L 24.1,11.85 L 24.6,12 C 27.75,13 30.25,14.49 32.5,18.75 C 34.75,23.01 35.75,29.06 35.25,39 L 35.2,39.5 L 37.45,39.5 L 37.5,39 C 38,28.94 36.62,22.15 34.25,17.66 C 31.88,13.17 28.46,11.02 25.06,10.5 L 24.55,10.4 z \" style=\"fill:#ececec; stroke:none;\" /></g><g id=\"black-bishop\" class=\"black bishop\" fill=\"none\" fill-rule=\"evenodd\" stroke=\"#000\" stroke-width=\"1.5\" stroke-linecap=\"round\" stroke-linejoin=\"round\"><path d=\"M9 36c3.39-.97 10.11.43 13.5-2 3.39 2.43 10.11 1.03 13.5 2 0 0 1.65.54 3 2-.68.97-1.65.99-3 .5-3.39-.97-10.11.46-13.5-1-3.39 1.46-10.11.03-13.5 1-1.354.49-2.323.47-3-.5 1.354-1.94 3-2 3-2zm6-4c2.5 2.5 12.5 2.5 15 0 .5-1.5 0-2 0-2 0-2.5-2.5-4-2.5-4 5.5-1.5 6-11.5-5-15.5-11 4-10.5 14-5 15.5 0 0-2.5 1.5-2.5 4 0 0-.5.5 0 2zM25 8a2.5 2.5 0 1 1-5 0 2.5 2.5 0 1 1 5 0z\" fill=\"#000\" stroke-linecap=\"butt\" /><path d=\"M17.5 26h10M15 30h15m-7.5-14.5v5M20 18h5\" stroke=\"#fff\" stroke-linejoin=\"miter\" /></g><g id=\"black-rook\" class=\"black rook\" fill=\"#000\" fill-rule=\"evenodd\" stroke=\"#000\" stroke-width=\"1.5\" stroke-linecap=\"round\" stroke-linejoin=\"round\"><path d=\"M9 39h27v-3H9v3zM12.5 32l1.5-2.5h17l1.5 2.5h-20zM12 36v-4h21v4H12z\" stroke-linecap=\"butt\" /><path d=\"M14 29.5v-13h17v13H14z\" stroke-linecap=\"butt\" stroke-linejoin=\"miter\" /><path d=\"M14 16.5L11 14h23l-3 2.5H14zM11 14V9h4v2h5V9h5v2h5V9h4v5H11z\" stroke-linecap=\"butt\" /><path d=\"M12 35.5h21M13 31.5h19M14 29.5h17M14 16.5h17M11 14h23\" fill=\"none\" stroke=\"#fff\" stroke-width=\"1\" stroke-linejoin=\"miter\" /></g><g id=\"black-queen\" class=\"black queen\" fill=\"#000\" fill-rule=\"evenodd\" stroke=\"#000\" stroke-width=\"1.5\" stroke-linecap=\"round\" stroke-linejoin=\"round\"><g fill=\"#000\" stroke=\"none\"><circle cx=\"6\" cy=\"12\" r=\"2.75\" /><circle cx=\"14\" cy=\"9\" r=\"2.75\" /><circle cx=\"22.5\" cy=\"8\" r=\"2.75\" /><circle cx=\"31\" cy=\"9\" r=\"2.75\" /><circle cx=\"39\" cy=\"12\" r=\"2.75\" /></g><path d=\"M9 26c8.5-1.5 21-1.5 27 0l2.5-12.5L31 25l-.3-14.1-5.2 13.6-3-14.5-3 14.5-5.2-13.6L14 25 6.5 13.5 9 26zM9 26c0 2 1.5 2 2.5 4 1 1.5 1 1 .5 3.5-1.5 1-1.5 2.5-1.5 2.5-1.5 1.5.5 2.5.5 2.5 6.5 1 16.5 1 23 0 0 0 1.5-1 0-2.5 0 0 .5-1.5-1-2.5-.5-2.5-.5-2 .5-3.5 1-2 2.5-2 2.5-4-8.5-1.5-18.5-1.5-27 0z\" stroke-linecap=\"butt\" /><path d=\"M11 38.5a35 35 1 0 0 23 0\" fill=\"none\" stroke-linecap=\"butt\" /><path d=\"M11 29a35 35 1 0 1 23 0M12.5 31.5h20M11.5 34.5a35 35 1 0 0 22 0M10.5 37.5a35 35 1 0 0 24 0\" fill=\"none\" stroke=\"#fff\" /></g><g id=\"black-king\" class=\"black king\" fill=\"none\" fill-rule=\"evenodd\" stroke=\"#000\" stroke-width=\"1.5\" stroke-linecap=\"round\" stroke-linejoin=\"round\"><path d=\"M22.5 11.63V6\" stroke-linejoin=\"miter\" /><path d=\"M22.5 25s4.5-7.5 3-10.5c0 0-1-2.5-3-2.5s-3 2.5-3 2.5c-1.5 3 3 10.5 3 10.5\" fill=\"#000\" stroke-linecap=\"butt\" stroke-linejoin=\"miter\" /><path d=\"M11.5 37c5.5 3.5 15.5 3.5 21 0v-7s9-4.5 6-10.5c-4-6.5-13.5-3.5-16 4V27v-3.5c-3.5-7.5-13-10.5-16-4-3 6 5 10 5 10V37z\" fill=\"#000\" /><path d=\"M20 8h5\" stroke-linejoin=\"miter\" /><path d=\"M32 29.5s8.5-4 6.03-9.65C34.15 14 25 18 22.5 24.5l.01 2.1-.01-2.1C20 18 9.906 14 6.997 19.85c-2.497 5.65 4.853 9 4.853 9M11.5 30c5.5-3 15.5-3 21 0m-21 3.5c5.5-3 15.5-3 21 0m-21 3.5c5.5-3 15.5-3 21 0\" stroke=\"#fff\" /></g></defs><rect x=\"0\" y=\"0\" width=\"390\" height=\"390\" fill=\"#212121\" /><g transform=\"translate(20, 0) scale(0.75, 0.75)\" fill=\"#e5e5e5\" stroke=\"#e5e5e5\"><path d=\"M23.328 10.016q-1.742 0-2.414.398-.672.398-.672 1.36 0 .765.5 1.218.508.445 1.375.445 1.196 0 1.914-.843.727-.852.727-2.258v-.32zm2.867-.594v4.992h-1.437v-1.328q-.492.797-1.227 1.18-.734.375-1.797.375-1.343 0-2.14-.75-.79-.758-.79-2.024 0-1.476.985-2.226.992-.75 2.953-.75h2.016V8.75q0-.992-.656-1.531-.649-.547-1.829-.547-.75 0-1.46.18-.711.18-1.368.539V6.062q.79-.304 1.532-.453.742-.156 1.445-.156 1.898 0 2.836.984.937.985.937 2.985z\" /></g><g transform=\"translate(20, 375) scale(0.75, 0.75)\" fill=\"#e5e5e5\" stroke=\"#e5e5e5\"><path d=\"M23.328 10.016q-1.742 0-2.414.398-.672.398-.672 1.36 0 .765.5 1.218.508.445 1.375.445 1.196 0 1.914-.843.727-.852.727-2.258v-.32zm2.867-.594v4.992h-1.437v-1.328q-.492.797-1.227 1.18-.734.375-1.797.375-1.343 0-2.14-.75-.79-.758-.79-2.024 0-1.476.985-2.226.992-.75 2.953-.75h2.016V8.75q0-.992-.656-1.531-.649-.547-1.829-.547-.75 0-1.46.18-.711.18-1.368.539V6.062q.79-.304 1.532-.453.742-.156 1.445-.156 1.898 0 2.836.984.937.985.937 2.985z\" /></g><g transform=\"translate(65, 0) scale(0.75, 0.75)\" fill=\"#e5e5e5\" stroke=\"#e5e5e5\"><path d=\"M24.922 10.047q0-1.586-.656-2.485-.649-.906-1.79-.906-1.14 0-1.796.906-.649.899-.649 2.485 0 1.586.649 2.492.656.898 1.797.898 1.14 0 1.789-.898.656-.906.656-2.492zm-4.89-3.055q.452-.781 1.14-1.156.695-.383 1.656-.383 1.594 0 2.586 1.266 1 1.265 1 3.328 0 2.062-1 3.328-.992 1.266-2.586 1.266-.96 0-1.656-.375-.688-.383-1.14-1.164v1.312h-1.446V2.258h1.445z\" /></g><g transform=\"translate(65, 375) scale(0.75, 0.75)\" fill=\"#e5e5e5\" stroke=\"#e5e5e5\"><path d=\"M24.922 10.047q0-1.586-.656-2.485-.649-.906-1.79-.906-1.14 0-1.796.906-.649.899-.649 2.485 0 1.586.649 2.492.656.898 1.797.898 1.14 0 1.789-.898.656-.906.656-2.492zm-4.89-3.055q.452-.781 1.14-1.156.695-.383 1.656-.383 1.594 0 2.586 1.266 1 1.265 1 3.328 0 2.062-1 3.328-.992 1.266-2.586 1.266-.96 0-1.656-.375-.688-.383-1.14-1.164v1.312h-1.446V2.258h1.445z\" /></g><g transform=\"translate(110, 0) scale(0.75, 0.75)\" fill=\"#e5e5e5\" stroke=\"#e5e5e5\"><path d=\"M25.96 6v1.344q-.608-.336-1.226-.5-.609-.172-1.234-.172-1.398 0-2.172.89-.773.883-.773 2.485 0 1.601.773 2.492.774.883 2.172.883.625 0 1.234-.164.618-.172 1.227-.508v1.328q-.602.281-1.25.422-.64.14-1.367.14-1.977 0-3.14-1.242-1.165-1.242-1.165-3.351 0-2.14 1.172-3.367 1.18-1.227 3.227-1.227.664 0 1.296.14.633.134 1.227.407z\" /></g><g transform=\"translate(110, 375) scale(0.75, 0.75)\" fill=\"#e5e5e5\" stroke=\"#e5e5e5\"><path d=\"M25.96 6v1.344q-.608-.336-1.226-.5-.609-.172-1.234-.172-1.398 0-2.172.89-.773.883-.773 2.485 0 1.601.773 2.492.774.883 2.172.883.625 0 1.234-.164.618-.172 1.227-.508v1.328q-.602.281-1.25.422-.64.14-1.367.14-1.977 0-3.14-1.242-1.165-1.242-1.165-3.351 0-2.14 1.172-3.367 1.18-1.227 3.227-1.227.664 0 1.296.14.633.134 1.227.407z\" /></g><g transform=\"translate(155, 0) scale(0.75, 0.75)\" fill=\"#e5e5e5\" stroke=\"#e5e5e5\"><path d=\"M24.973 6.992V2.258h1.437v12.156h-1.437v-1.312q-.453.78-1.149 1.164-.687.375-1.656.375-1.586 0-2.586-1.266-.992-1.266-.992-3.328 0-2.063.992-3.328 1-1.266 2.586-1.266.969 0 1.656.383.696.375 1.149 1.156zm-4.899 3.055q0 1.586.649 2.492.656.898 1.797.898 1.14 0 1.796-.898.657-.906.657-2.492 0-1.586-.657-2.485-.656-.906-1.796-.906-1.141 0-1.797.906-.649.899-.649 2.485z\" /></g><g transform=\"translate(155, 375) scale(0.75, 0.75)\" fill=\"#e5e5e5\" stroke=\"#e5e5e5\"><path d=\"M24.973 6.992V2.258h1.437v12.156h-1.437v-1.312q-.453.78-1.149 1.164-.687.375-1.656.375-1.586 0-2.586-1.266-.992-1.266-.992-3.328 0-2.063.992-3.328 1-1.266 2.586-1.266.969 0 1.656.383.696.375 1.149 1.156zm-4.899 3.055q0 1.586.649 2.492.656.898 1.797.898 1.14 0 1.796-.898.657-.906.657-2.492 0-1.586-.657-2.485-.656-.906-1.796-.906-1.141 0-1.797.906-.649.899-.649 2.485z\" /></g><g transform=\"translate(200, 0) scale(0.75, 0.75)\" fill=\"#e5e5e5\" stroke=\"#e5e5e5\"><path d=\"M26.555 9.68v.703h-6.61q.094 1.484.89 2.265.806.774 2.235.774.828 0 1.602-.203.781-.203 1.547-.61v1.36q-.774.328-1.586.5-.813.172-1.649.172-2.093 0-3.32-1.22-1.219-1.218-1.219-3.296 0-2.148 1.157-3.406 1.164-1.266 3.132-1.266 1.766 0 2.79 1.14 1.03 1.134 1.03 3.087zm-1.438-.422q-.015-1.18-.664-1.883-.64-.703-1.703-.703-1.203 0-1.93.68-.718.68-.828 1.914z\" /></g><g transform=\"translate(200, 375) scale(0.75, 0.75)\" fill=\"#e5e5e5\" stroke=\"#e5e5e5\"><path d=\"M26.555 9.68v.703h-6.61q.094 1.484.89 2.265.806.774 2.235.774.828 0 1.602-.203.781-.203 1.547-.61v1.36q-.774.328-1.586.5-.813.172-1.649.172-2.093 0-3.32-1.22-1.219-1.218-1.219-3.296 0-2.148 1.157-3.406 1.164-1.266 3.132-1.266 1.766 0 2.79 1.14 1.03 1.134 1.03 3.087zm-1.438-.422q-.015-1.18-.664-1.883-.64-.703-1.703-.703-1.203 0-1.93.68-.718.68-.828 1.914z\" /></g><g transform=\"translate(245, 0) scale(0.75, 0.75)\" fill=\"#e5e5e5\" stroke=\"#e5e5e5\"><path d=\"M25.285 2.258v1.195H23.91q-.773 0-1.078.313-.297.312-.297 1.125v.773h2.367v1.117h-2.367v7.633H21.09V6.781h-1.375V5.664h1.375v-.61q0-1.46.68-2.124.68-.672 2.156-.672z\" /></g><g transform=\"translate(245, 375) scale(0.75, 0.75)\" fill=\"#e5e5e5\" stroke=\"#e5e5e5\"><path d=\"M25.285 2.258v1.195H23.91q-.773 0-1.078.313-.297.312-.297 1.125v.773h2.367v1.117h-2.367v7.633H21.09V6.781h-1.375V5.664h1.375v-.61q0-1.46.68-2.124.68-.672 2.156-.672z\" /></g><g transform=\"translate(290, 0) scale(0.75, 0.75)\" fill=\"#e5e5e5\" stroke=\"#e5e5e5\"><path d=\"M24.973 9.937q0-1.562-.649-2.421-.64-.86-1.804-.86-1.157 0-1.805.86-.64.859-.64 2.421 0 1.555.64 2.415.648.859 1.805.859 1.164 0 1.804-.86.649-.859.649-2.414zm1.437 3.391q0 2.234-.992 3.32-.992 1.094-3.04 1.094-.757 0-1.429-.117-.672-.11-1.304-.344v-1.398q.632.344 1.25.508.617.164 1.257.164 1.414 0 2.118-.743.703-.734.703-2.226v-.711q-.446.773-1.141 1.156-.695.383-1.664.383-1.61 0-2.594-1.227-.984-1.226-.984-3.25 0-2.03.984-3.257.985-1.227 2.594-1.227.969 0 1.664.383t1.14 1.156V5.664h1.438z\" /></g><g transform=\"translate(290, 375) scale(0.75, 0.75)\" fill=\"#e5e5e5\" stroke=\"#e5e5e5\"><path d=\"M24.973 9.937q0-1.562-.649-2.421-.64-.86-1.804-.86-1.157 0-1.805.86-.64.859-.64 2.421 0 1.555.64 2.415.648.859 1.805.859 1.164 0 1.804-.86.649-.859.649-2.414zm1.437 3.391q0 2.234-.992 3.32-.992 1.094-3.04 1.094-.757 0-1.429-.117-.672-.11-1.304-.344v-1.398q.632.344 1.25.508.617.164 1.257.164 1.414 0 2.118-.743.703-.734.703-2.226v-.711q-.446.773-1.141 1.156-.695.383-1.664.383-1.61 0-2.594-1.227-.984-1.226-.984-3.25 0-2.03.984-3.257.985-1.227 2.594-1.227.969 0 1.664.383t1.14 1.156V5.664h1.438z\" /></g><g transform=\"translate(335, 0) scale(0.75, 0.75)\" fill=\"#e5e5e5\" stroke=\"#e5e5e5\"><path d=\"M26.164 9.133v5.281h-1.437V9.18q0-1.243-.485-1.86-.484-.617-1.453-.617-1.164 0-1.836.742-.672.742-.672 2.024v4.945h-1.445V2.258h1.445v4.765q.516-.789 1.211-1.18.703-.39 1.617-.39 1.508 0 2.282.938.773.93.773 2.742z\" /></g><g transform=\"translate(335, 375) scale(0.75, 0.75)\" fill=\"#e5e5e5\" stroke=\"#e5e5e5\"><path d=\"M26.164 9.133v5.281h-1.437V9.18q0-1.243-.485-1.86-.484-.617-1.453-.617-1.164 0-1.836.742-.672.742-.672 2.024v4.945h-1.445V2.258h1.445v4.765q.516-.789 1.211-1.18.703-.39 1.617-.39 1.508 0 2.282.938.773.93.773 2.742z\" /></g><g transform=\"translate(0, 335) scale(0.75, 0.75)\" fill=\"#e5e5e5\" stroke=\"#e5e5e5\"><path d=\"M6.754 26.996h2.578v-8.898l-2.805.562v-1.437l2.79-.563h1.578v10.336h2.578v1.328h-6.72z\" /></g><g transform=\"translate(375, 335) scale(0.75, 0.75)\" fill=\"#e5e5e5\" stroke=\"#e5e5e5\"><path d=\"M6.754 26.996h2.578v-8.898l-2.805.562v-1.437l2.79-.563h1.578v10.336h2.578v1.328h-6.72z\" /></g><g transform=\"translate(0, 290) scale(0.75, 0.75)\" fill=\"#e5e5e5\" stroke=\"#e5e5e5\"><path d=\"M8.195 26.996h5.508v1.328H6.297v-1.328q.898-.93 2.445-2.492 1.555-1.57 1.953-2.024.758-.851 1.055-1.437.305-.594.305-1.164 0-.93-.657-1.516-.648-.586-1.695-.586-.742 0-1.57.258-.82.258-1.758.781v-1.593q.953-.383 1.781-.578.828-.196 1.516-.196 1.812 0 2.89.906 1.079.907 1.079 2.422 0 .72-.274 1.368-.265.64-.976 1.515-.196.227-1.243 1.313-1.046 1.078-2.953 3.023z\" /></g><g transform=\"translate(375, 290) scale(0.75, 0.75)\" fill=\"#e5e5e5\" stroke=\"#e5e5e5\"><path d=\"M8.195 26.996h5.508v1.328H6.297v-1.328q.898-.93 2.445-2.492 1.555-1.57 1.953-2.024.758-.851 1.055-1.437.305-.594.305-1.164 0-.93-.657-1.516-.648-.586-1.695-.586-.742 0-1.57.258-.82.258-1.758.781v-1.593q.953-.383 1.781-.578.828-.196 1.516-.196 1.812 0 2.89.906 1.079.907 1.079 2.422 0 .72-.274 1.368-.265.64-.976 1.515-.196.227-1.243 1.313-1.046 1.078-2.953 3.023z\" /></g><g transform=\"translate(0, 245) scale(0.75, 0.75)\" fill=\"#e5e5e5\" stroke=\"#e5e5e5\"><path d=\"M11.434 22.035q1.132.242 1.765 1.008.64.766.64 1.89 0 1.727-1.187 2.672-1.187.946-3.375.946-.734 0-1.515-.149-.774-.14-1.602-.43V26.45q.656.383 1.438.578.78.196 1.632.196 1.485 0 2.258-.586.782-.586.782-1.703 0-1.032-.727-1.61-.719-.586-2.008-.586h-1.36v-1.297h1.423q1.164 0 1.78-.46.618-.47.618-1.344 0-.899-.64-1.375-.633-.485-1.82-.485-.65 0-1.391.141-.743.14-1.633.437V16.95q.898-.25 1.68-.375.788-.125 1.484-.125 1.797 0 2.844.82 1.046.813 1.046 2.204 0 .968-.554 1.64-.555.664-1.578.922z\" /></g><g transform=\"translate(375, 245) scale(0.75, 0.75)\" fill=\"#e5e5e5\" stroke=\"#e5e5e5\"><path d=\"M11.434 22.035q1.132.242 1.765 1.008.64.766.64 1.89 0 1.727-1.187 2.672-1.187.946-3.375.946-.734 0-1.515-.149-.774-.14-1.602-.43V26.45q.656.383 1.438.578.78.196 1.632.196 1.485 0 2.258-.586.782-.586.782-1.703 0-1.032-.727-1.61-.719-.586-2.008-.586h-1.36v-1.297h1.423q1.164 0 1.78-.46.618-.47.618-1.344 0-.899-.64-1.375-.633-.485-1.82-.485-.65 0-1.391.141-.743.14-1.633.437V16.95q.898-.25 1.68-.375.788-.125 1.484-.125 1.797 0 2.844.82 1.046.813 1.046 2.204 0 .968-.554 1.64-.555.664-1.578.922z\" /></g><g transform=\"translate(0, 200) scale(0.75, 0.75)\" fill=\"#e5e5e5\" stroke=\"#e5e5e5\"><path d=\"M11.016 18.035L7.03 24.262h3.985zm-.414-1.375h1.984v7.602h1.664v1.312h-1.664v2.75h-1.57v-2.75H5.75v-1.523z\" /></g><g transform=\"translate(375, 200) scale(0.75, 0.75)\" fill=\"#e5e5e5\" stroke=\"#e5e5e5\"><path d=\"M11.016 18.035L7.03 24.262h3.985zm-.414-1.375h1.984v7.602h1.664v1.312h-1.664v2.75h-1.57v-2.75H5.75v-1.523z\" /></g><g transform=\"translate(0, 155) scale(0.75, 0.75)\" fill=\"#e5e5e5\" stroke=\"#e5e5e5\"><path d=\"M6.719 16.66h6.195v1.328h-4.75v2.86q.344-.118.688-.172.343-.063.687-.063 1.953 0 3.094 1.07 1.14 1.07 1.14 2.899 0 1.883-1.171 2.93-1.172 1.039-3.305 1.039-.735 0-1.5-.125-.758-.125-1.57-.375v-1.586q.703.383 1.453.57.75.188 1.586.188 1.351 0 2.14-.711.79-.711.79-1.93 0-1.219-.79-1.93-.789-.71-2.14-.71-.633 0-1.266.14-.625.14-1.281.438z\" /></g><g transform=\"translate(375, 155) scale(0.75, 0.75)\" fill=\"#e5e5e5\" stroke=\"#e5e5e5\"><path d=\"M6.719 16.66h6.195v1.328h-4.75v2.86q.344-.118.688-.172.343-.063.687-.063 1.953 0 3.094 1.07 1.14 1.07 1.14 2.899 0 1.883-1.171 2.93-1.172 1.039-3.305 1.039-.735 0-1.5-.125-.758-.125-1.57-.375v-1.586q.703.383 1.453.57.75.188 1.586.188 1.351 0 2.14-.711.79-.711.79-1.93 0-1.219-.79-1.93-.789-.71-2.14-.71-.633 0-1.266.14-.625.14-1.281.438z\" /></g><g transform=\"translate(0, 110) scale(0.75, 0.75)\" fill=\"#e5e5e5\" stroke=\"#e5e5e5\"><path d=\"M10.137 21.863q-1.063 0-1.688.727-.617.726-.617 1.992 0 1.258.617 1.992.625.727 1.688.727 1.062 0 1.68-.727.624-.734.624-1.992 0-1.266-.625-1.992-.617-.727-1.68-.727zm3.133-4.945v1.437q-.594-.28-1.204-.43-.601-.148-1.195-.148-1.562 0-2.39 1.055-.82 1.055-.938 3.188.46-.68 1.156-1.04.696-.367 1.531-.367 1.758 0 2.774 1.07 1.023 1.063 1.023 2.899 0 1.797-1.062 2.883-1.063 1.086-2.828 1.086-2.024 0-3.094-1.547-1.07-1.555-1.07-4.5 0-2.766 1.312-4.406 1.313-1.649 3.524-1.649.593 0 1.195.117.61.118 1.266.352z\" /></g><g transform=\"translate(375, 110) scale(0.75, 0.75)\" fill=\"#e5e5e5\" stroke=\"#e5e5e5\"><path d=\"M10.137 21.863q-1.063 0-1.688.727-.617.726-.617 1.992 0 1.258.617 1.992.625.727 1.688.727 1.062 0 1.68-.727.624-.734.624-1.992 0-1.266-.625-1.992-.617-.727-1.68-.727zm3.133-4.945v1.437q-.594-.28-1.204-.43-.601-.148-1.195-.148-1.562 0-2.39 1.055-.82 1.055-.938 3.188.46-.68 1.156-1.04.696-.367 1.531-.367 1.758 0 2.774 1.07 1.023 1.063 1.023 2.899 0 1.797-1.062 2.883-1.063 1.086-2.828 1.086-2.024 0-3.094-1.547-1.07-1.555-1.07-4.5 0-2.766 1.312-4.406 1.313-1.649 3.524-1.649.593 0 1.195.117.61.118 1.266.352z\" /></g><g transform=\"translate(0, 65) scale(0.75, 0.75)\" fill=\"#e5e5e5\" stroke=\"#e5e5e5\"><path d=\"M6.25 16.66h7.5v.672L9.516 28.324H7.867l3.985-10.336H6.25z\" /></g><g transform=\"translate(375, 65) scale(0.75, 0.75)\" fill=\"#e5e5e5\" stroke=\"#e5e5e5\"><path d=\"M6.25 16.66h7.5v.672L9.516 28.324H7.867l3.985-10.336H6.25z\" /></g><g transform=\"translate(0, 20) scale(0.75, 0.75)\" fill=\"#e5e5e5\" stroke=\"#e5e5e5\"><path d=\"M10 22.785q-1.125 0-1.773.602-.641.601-.641 1.656t.64 1.656q.649.602 1.774.602t1.773-.602q.649-.61.649-1.656 0-1.055-.649-1.656-.64-.602-1.773-.602zm-1.578-.672q-1.016-.25-1.586-.945-.563-.695-.563-1.695 0-1.399.993-2.211 1-.813 2.734-.813 1.742 0 2.734.813.993.812.993 2.21 0 1-.57 1.696-.563.695-1.571.945 1.14.266 1.773 1.04.641.773.641 1.89 0 1.695-1.04 2.602-1.03.906-2.96.906t-2.969-.906Q6 26.738 6 25.043q0-1.117.64-1.89.641-.774 1.782-1.04zm-.578-2.492q0 .906.562 1.414.57.508 1.594.508 1.016 0 1.586-.508.578-.508.578-1.414 0-.906-.578-1.414-.57-.508-1.586-.508-1.023 0-1.594.508-.562.508-.562 1.414z\" /></g><g transform=\"translate(375, 20) scale(0.75, 0.75)\" fill=\"#e5e5e5\" stroke=\"#e5e5e5\"><path d=\"M10 22.785q-1.125 0-1.773.602-.641.601-.641 1.656t.64 1.656q.649.602 1.774.602t1.773-.602q.649-.61.649-1.656 0-1.055-.649-1.656-.64-.602-1.773-.602zm-1.578-.672q-1.016-.25-1.586-.945-.563-.695-.563-1.695 0-1.399.993-2.211 1-.813 2.734-.813 1.742 0 2.734.813.993.812.993 2.21 0 1-.57 1.696-.563.695-1.571.945 1.14.266 1.773 1.04.641.773.641 1.89 0 1.695-1.04 2.602-1.03.906-2.96.906t-2.969-.906Q6 26.738 6 25.043q0-1.117.64-1.89.641-.774 1.782-1.04zm-.578-2.492q0 .906.562 1.414.57.508 1.594.508 1.016 0 1.586-.508.578-.508.578-1.414 0-.906-.578-1.414-.57-.508-1.586-.508-1.023 0-1.594.508-.562.508-.562 1.414z\" /></g><rect x=\"15\" y=\"330\" width=\"45\" height=\"45\" class=\"square dark a1\" stroke=\"none\" fill=\"#d18b47\" /><rect x=\"60\" y=\"330\" width=\"45\" height=\"45\" class=\"square light b1\" stroke=\"none\" fill=\"#ffce9e\" /><rect x=\"105\" y=\"330\" width=\"45\" height=\"45\" class=\"square dark c1\" stroke=\"none\" fill=\"#d18b47\" /><rect x=\"150\" y=\"330\" width=\"45\" height=\"45\" class=\"square light d1\" stroke=\"none\" fill=\"#ffce9e\" /><rect x=\"195\" y=\"330\" width=\"45\" height=\"45\" class=\"square dark e1\" stroke=\"none\" fill=\"#d18b47\" /><rect x=\"240\" y=\"330\" width=\"45\" height=\"45\" class=\"square light f1\" stroke=\"none\" fill=\"#ffce9e\" /><rect x=\"285\" y=\"330\" width=\"45\" height=\"45\" class=\"square dark g1\" stroke=\"none\" fill=\"#d18b47\" /><rect x=\"330\" y=\"330\" width=\"45\" height=\"45\" class=\"square light h1\" stroke=\"none\" fill=\"#ffce9e\" /><rect x=\"15\" y=\"285\" width=\"45\" height=\"45\" class=\"square light a2\" stroke=\"none\" fill=\"#ffce9e\" /><rect x=\"60\" y=\"285\" width=\"45\" height=\"45\" class=\"square dark b2\" stroke=\"none\" fill=\"#d18b47\" /><rect x=\"105\" y=\"285\" width=\"45\" height=\"45\" class=\"square light c2\" stroke=\"none\" fill=\"#ffce9e\" /><rect x=\"150\" y=\"285\" width=\"45\" height=\"45\" class=\"square dark d2\" stroke=\"none\" fill=\"#d18b47\" /><rect x=\"195\" y=\"285\" width=\"45\" height=\"45\" class=\"square light lastmove e2\" stroke=\"none\" fill=\"#cdd16a\" /><rect x=\"240\" y=\"285\" width=\"45\" height=\"45\" class=\"square dark f2\" stroke=\"none\" fill=\"#d18b47\" /><rect x=\"285\" y=\"285\" width=\"45\" height=\"45\" class=\"square light g2\" stroke=\"none\" fill=\"#ffce9e\" /><rect x=\"330\" y=\"285\" width=\"45\" height=\"45\" class=\"square dark h2\" stroke=\"none\" fill=\"#d18b47\" /><rect x=\"15\" y=\"240\" width=\"45\" height=\"45\" class=\"square dark a3\" stroke=\"none\" fill=\"#d18b47\" /><rect x=\"60\" y=\"240\" width=\"45\" height=\"45\" class=\"square light b3\" stroke=\"none\" fill=\"#ffce9e\" /><rect x=\"105\" y=\"240\" width=\"45\" height=\"45\" class=\"square dark c3\" stroke=\"none\" fill=\"#d18b47\" /><rect x=\"150\" y=\"240\" width=\"45\" height=\"45\" class=\"square light d3\" stroke=\"none\" fill=\"#ffce9e\" /><rect x=\"195\" y=\"240\" width=\"45\" height=\"45\" class=\"square dark e3\" stroke=\"none\" fill=\"#d18b47\" /><rect x=\"240\" y=\"240\" width=\"45\" height=\"45\" class=\"square light f3\" stroke=\"none\" fill=\"#ffce9e\" /><rect x=\"285\" y=\"240\" width=\"45\" height=\"45\" class=\"square dark g3\" stroke=\"none\" fill=\"#d18b47\" /><rect x=\"330\" y=\"240\" width=\"45\" height=\"45\" class=\"square light h3\" stroke=\"none\" fill=\"#ffce9e\" /><rect x=\"15\" y=\"195\" width=\"45\" height=\"45\" class=\"square light a4\" stroke=\"none\" fill=\"#ffce9e\" /><rect x=\"60\" y=\"195\" width=\"45\" height=\"45\" class=\"square dark b4\" stroke=\"none\" fill=\"#d18b47\" /><rect x=\"105\" y=\"195\" width=\"45\" height=\"45\" class=\"square light c4\" stroke=\"none\" fill=\"#ffce9e\" /><rect x=\"150\" y=\"195\" width=\"45\" height=\"45\" class=\"square dark d4\" stroke=\"none\" fill=\"#d18b47\" /><rect x=\"195\" y=\"195\" width=\"45\" height=\"45\" class=\"square light lastmove e4\" stroke=\"none\" fill=\"#cdd16a\" /><rect x=\"240\" y=\"195\" width=\"45\" height=\"45\" class=\"square dark f4\" stroke=\"none\" fill=\"#d18b47\" /><rect x=\"285\" y=\"195\" width=\"45\" height=\"45\" class=\"square light g4\" stroke=\"none\" fill=\"#ffce9e\" /><rect x=\"330\" y=\"195\" width=\"45\" height=\"45\" class=\"square dark h4\" stroke=\"none\" fill=\"#d18b47\" /><rect x=\"15\" y=\"150\" width=\"45\" height=\"45\" class=\"square dark a5\" stroke=\"none\" fill=\"#d18b47\" /><rect x=\"60\" y=\"150\" width=\"45\" height=\"45\" class=\"square light b5\" stroke=\"none\" fill=\"#ffce9e\" /><rect x=\"105\" y=\"150\" width=\"45\" height=\"45\" class=\"square dark c5\" stroke=\"none\" fill=\"#d18b47\" /><rect x=\"150\" y=\"150\" width=\"45\" height=\"45\" class=\"square light d5\" stroke=\"none\" fill=\"#ffce9e\" /><rect x=\"195\" y=\"150\" width=\"45\" height=\"45\" class=\"square dark e5\" stroke=\"none\" fill=\"#d18b47\" /><rect x=\"240\" y=\"150\" width=\"45\" height=\"45\" class=\"square light f5\" stroke=\"none\" fill=\"#ffce9e\" /><rect x=\"285\" y=\"150\" width=\"45\" height=\"45\" class=\"square dark g5\" stroke=\"none\" fill=\"#d18b47\" /><rect x=\"330\" y=\"150\" width=\"45\" height=\"45\" class=\"square light h5\" stroke=\"none\" fill=\"#ffce9e\" /><rect x=\"15\" y=\"105\" width=\"45\" height=\"45\" class=\"square light a6\" stroke=\"none\" fill=\"#ffce9e\" /><rect x=\"60\" y=\"105\" width=\"45\" height=\"45\" class=\"square dark b6\" stroke=\"none\" fill=\"#d18b47\" /><rect x=\"105\" y=\"105\" width=\"45\" height=\"45\" class=\"square light c6\" stroke=\"none\" fill=\"#ffce9e\" /><rect x=\"150\" y=\"105\" width=\"45\" height=\"45\" class=\"square dark d6\" stroke=\"none\" fill=\"#d18b47\" /><rect x=\"195\" y=\"105\" width=\"45\" height=\"45\" class=\"square light e6\" stroke=\"none\" fill=\"#ffce9e\" /><rect x=\"240\" y=\"105\" width=\"45\" height=\"45\" class=\"square dark f6\" stroke=\"none\" fill=\"#d18b47\" /><rect x=\"285\" y=\"105\" width=\"45\" height=\"45\" class=\"square light g6\" stroke=\"none\" fill=\"#ffce9e\" /><rect x=\"330\" y=\"105\" width=\"45\" height=\"45\" class=\"square dark h6\" stroke=\"none\" fill=\"#d18b47\" /><rect x=\"15\" y=\"60\" width=\"45\" height=\"45\" class=\"square dark a7\" stroke=\"none\" fill=\"#d18b47\" /><rect x=\"60\" y=\"60\" width=\"45\" height=\"45\" class=\"square light b7\" stroke=\"none\" fill=\"#ffce9e\" /><rect x=\"105\" y=\"60\" width=\"45\" height=\"45\" class=\"square dark c7\" stroke=\"none\" fill=\"#d18b47\" /><rect x=\"150\" y=\"60\" width=\"45\" height=\"45\" class=\"square light d7\" stroke=\"none\" fill=\"#ffce9e\" /><rect x=\"195\" y=\"60\" width=\"45\" height=\"45\" class=\"square dark e7\" stroke=\"none\" fill=\"#d18b47\" /><rect x=\"240\" y=\"60\" width=\"45\" height=\"45\" class=\"square light f7\" stroke=\"none\" fill=\"#ffce9e\" /><rect x=\"285\" y=\"60\" width=\"45\" height=\"45\" class=\"square dark g7\" stroke=\"none\" fill=\"#d18b47\" /><rect x=\"330\" y=\"60\" width=\"45\" height=\"45\" class=\"square light h7\" stroke=\"none\" fill=\"#ffce9e\" /><rect x=\"15\" y=\"15\" width=\"45\" height=\"45\" class=\"square light a8\" stroke=\"none\" fill=\"#ffce9e\" /><rect x=\"60\" y=\"15\" width=\"45\" height=\"45\" class=\"square dark b8\" stroke=\"none\" fill=\"#d18b47\" /><rect x=\"105\" y=\"15\" width=\"45\" height=\"45\" class=\"square light c8\" stroke=\"none\" fill=\"#ffce9e\" /><rect x=\"150\" y=\"15\" width=\"45\" height=\"45\" class=\"square dark d8\" stroke=\"none\" fill=\"#d18b47\" /><rect x=\"195\" y=\"15\" width=\"45\" height=\"45\" class=\"square light e8\" stroke=\"none\" fill=\"#ffce9e\" /><rect x=\"240\" y=\"15\" width=\"45\" height=\"45\" class=\"square dark f8\" stroke=\"none\" fill=\"#d18b47\" /><rect x=\"285\" y=\"15\" width=\"45\" height=\"45\" class=\"square light g8\" stroke=\"none\" fill=\"#ffce9e\" /><rect x=\"330\" y=\"15\" width=\"45\" height=\"45\" class=\"square dark h8\" stroke=\"none\" fill=\"#d18b47\" /><use href=\"#white-rook\" xlink:href=\"#white-rook\" transform=\"translate(15, 330)\" /><use href=\"#white-knight\" xlink:href=\"#white-knight\" transform=\"translate(60, 330)\" /><use href=\"#white-bishop\" xlink:href=\"#white-bishop\" transform=\"translate(105, 330)\" /><use href=\"#white-queen\" xlink:href=\"#white-queen\" transform=\"translate(150, 330)\" /><use href=\"#white-king\" xlink:href=\"#white-king\" transform=\"translate(195, 330)\" /><use href=\"#white-bishop\" xlink:href=\"#white-bishop\" transform=\"translate(240, 330)\" /><use href=\"#white-knight\" xlink:href=\"#white-knight\" transform=\"translate(285, 330)\" /><use href=\"#white-rook\" xlink:href=\"#white-rook\" transform=\"translate(330, 330)\" /><use href=\"#white-pawn\" xlink:href=\"#white-pawn\" transform=\"translate(15, 285)\" /><use href=\"#white-pawn\" xlink:href=\"#white-pawn\" transform=\"translate(60, 285)\" /><use href=\"#white-pawn\" xlink:href=\"#white-pawn\" transform=\"translate(105, 285)\" /><use href=\"#white-pawn\" xlink:href=\"#white-pawn\" transform=\"translate(150, 285)\" /><use href=\"#white-pawn\" xlink:href=\"#white-pawn\" transform=\"translate(240, 285)\" /><use href=\"#white-pawn\" xlink:href=\"#white-pawn\" transform=\"translate(285, 285)\" /><use href=\"#white-pawn\" xlink:href=\"#white-pawn\" transform=\"translate(330, 285)\" /><use href=\"#white-pawn\" xlink:href=\"#white-pawn\" transform=\"translate(195, 195)\" /><use href=\"#black-pawn\" xlink:href=\"#black-pawn\" transform=\"translate(15, 60)\" /><use href=\"#black-pawn\" xlink:href=\"#black-pawn\" transform=\"translate(60, 60)\" /><use href=\"#black-pawn\" xlink:href=\"#black-pawn\" transform=\"translate(105, 60)\" /><use href=\"#black-pawn\" xlink:href=\"#black-pawn\" transform=\"translate(150, 60)\" /><use href=\"#black-pawn\" xlink:href=\"#black-pawn\" transform=\"translate(195, 60)\" /><use href=\"#black-pawn\" xlink:href=\"#black-pawn\" transform=\"translate(240, 60)\" /><use href=\"#black-pawn\" xlink:href=\"#black-pawn\" transform=\"translate(285, 60)\" /><use href=\"#black-pawn\" xlink:href=\"#black-pawn\" transform=\"translate(330, 60)\" /><use href=\"#black-rook\" xlink:href=\"#black-rook\" transform=\"translate(15, 15)\" /><use href=\"#black-knight\" xlink:href=\"#black-knight\" transform=\"translate(60, 15)\" /><use href=\"#black-bishop\" xlink:href=\"#black-bishop\" transform=\"translate(105, 15)\" /><use href=\"#black-queen\" xlink:href=\"#black-queen\" transform=\"translate(150, 15)\" /><use href=\"#black-king\" xlink:href=\"#black-king\" transform=\"translate(195, 15)\" /><use href=\"#black-bishop\" xlink:href=\"#black-bishop\" transform=\"translate(240, 15)\" /><use href=\"#black-knight\" xlink:href=\"#black-knight\" transform=\"translate(285, 15)\" /><use href=\"#black-rook\" xlink:href=\"#black-rook\" transform=\"translate(330, 15)\" /></svg>"
      ],
      "text/plain": [
       "Board('rnbqkbnr/pppppppp/8/8/4P3/8/PPPP1PPP/RNBQKBNR b KQkq - 0 1')"
      ]
     },
     "execution_count": 16,
     "metadata": {},
     "output_type": "execute_result"
    }
   ],
   "source": [
    "#Make a move using standard algebraic notation (SAN), taken from our list of moves\n",
    "board.push_san(moves[0])\n",
    "board"
   ]
  },
  {
   "cell_type": "code",
   "execution_count": 17,
   "id": "0c246d64-f34d-4e4f-953d-c6c16fbe6fd8",
   "metadata": {},
   "outputs": [
    {
     "data": {
      "image/svg+xml": [
       "<svg xmlns=\"http://www.w3.org/2000/svg\" xmlns:xlink=\"http://www.w3.org/1999/xlink\" version=\"1.2\" baseProfile=\"tiny\" viewBox=\"0 0 390 390\" width=\"390\" height=\"390\"><desc><pre>r n . q . r k .\n",
       ". b p . b p p .\n",
       "p . . p . n . p\n",
       ". p . P . . . .\n",
       ". . . . N . . .\n",
       "P . . . . N . .\n",
       ". P P . B P P P\n",
       "R . B Q R . K .</pre></desc><defs><g id=\"white-pawn\" class=\"white pawn\"><path d=\"M22.5 9c-2.21 0-4 1.79-4 4 0 .89.29 1.71.78 2.38C17.33 16.5 16 18.59 16 21c0 2.03.94 3.84 2.41 5.03-3 1.06-7.41 5.55-7.41 13.47h23c0-7.92-4.41-12.41-7.41-13.47 1.47-1.19 2.41-3 2.41-5.03 0-2.41-1.33-4.5-3.28-5.62.49-.67.78-1.49.78-2.38 0-2.21-1.79-4-4-4z\" fill=\"#fff\" stroke=\"#000\" stroke-width=\"1.5\" stroke-linecap=\"round\" /></g><g id=\"white-knight\" class=\"white knight\" fill=\"none\" fill-rule=\"evenodd\" stroke=\"#000\" stroke-width=\"1.5\" stroke-linecap=\"round\" stroke-linejoin=\"round\"><path d=\"M 22,10 C 32.5,11 38.5,18 38,39 L 15,39 C 15,30 25,32.5 23,18\" style=\"fill:#ffffff; stroke:#000000;\" /><path d=\"M 24,18 C 24.38,20.91 18.45,25.37 16,27 C 13,29 13.18,31.34 11,31 C 9.958,30.06 12.41,27.96 11,28 C 10,28 11.19,29.23 10,30 C 9,30 5.997,31 6,26 C 6,24 12,14 12,14 C 12,14 13.89,12.1 14,10.5 C 13.27,9.506 13.5,8.5 13.5,7.5 C 14.5,6.5 16.5,10 16.5,10 L 18.5,10 C 18.5,10 19.28,8.008 21,7 C 22,7 22,10 22,10\" style=\"fill:#ffffff; stroke:#000000;\" /><path d=\"M 9.5 25.5 A 0.5 0.5 0 1 1 8.5,25.5 A 0.5 0.5 0 1 1 9.5 25.5 z\" style=\"fill:#000000; stroke:#000000;\" /><path d=\"M 15 15.5 A 0.5 1.5 0 1 1 14,15.5 A 0.5 1.5 0 1 1 15 15.5 z\" transform=\"matrix(0.866,0.5,-0.5,0.866,9.693,-5.173)\" style=\"fill:#000000; stroke:#000000;\" /></g><g id=\"white-bishop\" class=\"white bishop\" fill=\"none\" fill-rule=\"evenodd\" stroke=\"#000\" stroke-width=\"1.5\" stroke-linecap=\"round\" stroke-linejoin=\"round\"><g fill=\"#fff\" stroke-linecap=\"butt\"><path d=\"M9 36c3.39-.97 10.11.43 13.5-2 3.39 2.43 10.11 1.03 13.5 2 0 0 1.65.54 3 2-.68.97-1.65.99-3 .5-3.39-.97-10.11.46-13.5-1-3.39 1.46-10.11.03-13.5 1-1.354.49-2.323.47-3-.5 1.354-1.94 3-2 3-2zM15 32c2.5 2.5 12.5 2.5 15 0 .5-1.5 0-2 0-2 0-2.5-2.5-4-2.5-4 5.5-1.5 6-11.5-5-15.5-11 4-10.5 14-5 15.5 0 0-2.5 1.5-2.5 4 0 0-.5.5 0 2zM25 8a2.5 2.5 0 1 1-5 0 2.5 2.5 0 1 1 5 0z\" /></g><path d=\"M17.5 26h10M15 30h15m-7.5-14.5v5M20 18h5\" stroke-linejoin=\"miter\" /></g><g id=\"white-rook\" class=\"white rook\" fill=\"#fff\" fill-rule=\"evenodd\" stroke=\"#000\" stroke-width=\"1.5\" stroke-linecap=\"round\" stroke-linejoin=\"round\"><path d=\"M9 39h27v-3H9v3zM12 36v-4h21v4H12zM11 14V9h4v2h5V9h5v2h5V9h4v5\" stroke-linecap=\"butt\" /><path d=\"M34 14l-3 3H14l-3-3\" /><path d=\"M31 17v12.5H14V17\" stroke-linecap=\"butt\" stroke-linejoin=\"miter\" /><path d=\"M31 29.5l1.5 2.5h-20l1.5-2.5\" /><path d=\"M11 14h23\" fill=\"none\" stroke-linejoin=\"miter\" /></g><g id=\"white-queen\" class=\"white queen\" fill=\"#fff\" fill-rule=\"evenodd\" stroke=\"#000\" stroke-width=\"1.5\" stroke-linecap=\"round\" stroke-linejoin=\"round\"><path d=\"M8 12a2 2 0 1 1-4 0 2 2 0 1 1 4 0zM24.5 7.5a2 2 0 1 1-4 0 2 2 0 1 1 4 0zM41 12a2 2 0 1 1-4 0 2 2 0 1 1 4 0zM16 8.5a2 2 0 1 1-4 0 2 2 0 1 1 4 0zM33 9a2 2 0 1 1-4 0 2 2 0 1 1 4 0z\" /><path d=\"M9 26c8.5-1.5 21-1.5 27 0l2-12-7 11V11l-5.5 13.5-3-15-3 15-5.5-14V25L7 14l2 12zM9 26c0 2 1.5 2 2.5 4 1 1.5 1 1 .5 3.5-1.5 1-1.5 2.5-1.5 2.5-1.5 1.5.5 2.5.5 2.5 6.5 1 16.5 1 23 0 0 0 1.5-1 0-2.5 0 0 .5-1.5-1-2.5-.5-2.5-.5-2 .5-3.5 1-2 2.5-2 2.5-4-8.5-1.5-18.5-1.5-27 0z\" stroke-linecap=\"butt\" /><path d=\"M11.5 30c3.5-1 18.5-1 22 0M12 33.5c6-1 15-1 21 0\" fill=\"none\" /></g><g id=\"white-king\" class=\"white king\" fill=\"none\" fill-rule=\"evenodd\" stroke=\"#000\" stroke-width=\"1.5\" stroke-linecap=\"round\" stroke-linejoin=\"round\"><path d=\"M22.5 11.63V6M20 8h5\" stroke-linejoin=\"miter\" /><path d=\"M22.5 25s4.5-7.5 3-10.5c0 0-1-2.5-3-2.5s-3 2.5-3 2.5c-1.5 3 3 10.5 3 10.5\" fill=\"#fff\" stroke-linecap=\"butt\" stroke-linejoin=\"miter\" /><path d=\"M11.5 37c5.5 3.5 15.5 3.5 21 0v-7s9-4.5 6-10.5c-4-6.5-13.5-3.5-16 4V27v-3.5c-3.5-7.5-13-10.5-16-4-3 6 5 10 5 10V37z\" fill=\"#fff\" /><path d=\"M11.5 30c5.5-3 15.5-3 21 0m-21 3.5c5.5-3 15.5-3 21 0m-21 3.5c5.5-3 15.5-3 21 0\" /></g><g id=\"black-pawn\" class=\"black pawn\"><path d=\"M22.5 9c-2.21 0-4 1.79-4 4 0 .89.29 1.71.78 2.38C17.33 16.5 16 18.59 16 21c0 2.03.94 3.84 2.41 5.03-3 1.06-7.41 5.55-7.41 13.47h23c0-7.92-4.41-12.41-7.41-13.47 1.47-1.19 2.41-3 2.41-5.03 0-2.41-1.33-4.5-3.28-5.62.49-.67.78-1.49.78-2.38 0-2.21-1.79-4-4-4z\" fill=\"#000\" stroke=\"#000\" stroke-width=\"1.5\" stroke-linecap=\"round\" /></g><g id=\"black-knight\" class=\"black knight\" fill=\"none\" fill-rule=\"evenodd\" stroke=\"#000\" stroke-width=\"1.5\" stroke-linecap=\"round\" stroke-linejoin=\"round\"><path d=\"M 22,10 C 32.5,11 38.5,18 38,39 L 15,39 C 15,30 25,32.5 23,18\" style=\"fill:#000000; stroke:#000000;\" /><path d=\"M 24,18 C 24.38,20.91 18.45,25.37 16,27 C 13,29 13.18,31.34 11,31 C 9.958,30.06 12.41,27.96 11,28 C 10,28 11.19,29.23 10,30 C 9,30 5.997,31 6,26 C 6,24 12,14 12,14 C 12,14 13.89,12.1 14,10.5 C 13.27,9.506 13.5,8.5 13.5,7.5 C 14.5,6.5 16.5,10 16.5,10 L 18.5,10 C 18.5,10 19.28,8.008 21,7 C 22,7 22,10 22,10\" style=\"fill:#000000; stroke:#000000;\" /><path d=\"M 9.5 25.5 A 0.5 0.5 0 1 1 8.5,25.5 A 0.5 0.5 0 1 1 9.5 25.5 z\" style=\"fill:#ececec; stroke:#ececec;\" /><path d=\"M 15 15.5 A 0.5 1.5 0 1 1 14,15.5 A 0.5 1.5 0 1 1 15 15.5 z\" transform=\"matrix(0.866,0.5,-0.5,0.866,9.693,-5.173)\" style=\"fill:#ececec; stroke:#ececec;\" /><path d=\"M 24.55,10.4 L 24.1,11.85 L 24.6,12 C 27.75,13 30.25,14.49 32.5,18.75 C 34.75,23.01 35.75,29.06 35.25,39 L 35.2,39.5 L 37.45,39.5 L 37.5,39 C 38,28.94 36.62,22.15 34.25,17.66 C 31.88,13.17 28.46,11.02 25.06,10.5 L 24.55,10.4 z \" style=\"fill:#ececec; stroke:none;\" /></g><g id=\"black-bishop\" class=\"black bishop\" fill=\"none\" fill-rule=\"evenodd\" stroke=\"#000\" stroke-width=\"1.5\" stroke-linecap=\"round\" stroke-linejoin=\"round\"><path d=\"M9 36c3.39-.97 10.11.43 13.5-2 3.39 2.43 10.11 1.03 13.5 2 0 0 1.65.54 3 2-.68.97-1.65.99-3 .5-3.39-.97-10.11.46-13.5-1-3.39 1.46-10.11.03-13.5 1-1.354.49-2.323.47-3-.5 1.354-1.94 3-2 3-2zm6-4c2.5 2.5 12.5 2.5 15 0 .5-1.5 0-2 0-2 0-2.5-2.5-4-2.5-4 5.5-1.5 6-11.5-5-15.5-11 4-10.5 14-5 15.5 0 0-2.5 1.5-2.5 4 0 0-.5.5 0 2zM25 8a2.5 2.5 0 1 1-5 0 2.5 2.5 0 1 1 5 0z\" fill=\"#000\" stroke-linecap=\"butt\" /><path d=\"M17.5 26h10M15 30h15m-7.5-14.5v5M20 18h5\" stroke=\"#fff\" stroke-linejoin=\"miter\" /></g><g id=\"black-rook\" class=\"black rook\" fill=\"#000\" fill-rule=\"evenodd\" stroke=\"#000\" stroke-width=\"1.5\" stroke-linecap=\"round\" stroke-linejoin=\"round\"><path d=\"M9 39h27v-3H9v3zM12.5 32l1.5-2.5h17l1.5 2.5h-20zM12 36v-4h21v4H12z\" stroke-linecap=\"butt\" /><path d=\"M14 29.5v-13h17v13H14z\" stroke-linecap=\"butt\" stroke-linejoin=\"miter\" /><path d=\"M14 16.5L11 14h23l-3 2.5H14zM11 14V9h4v2h5V9h5v2h5V9h4v5H11z\" stroke-linecap=\"butt\" /><path d=\"M12 35.5h21M13 31.5h19M14 29.5h17M14 16.5h17M11 14h23\" fill=\"none\" stroke=\"#fff\" stroke-width=\"1\" stroke-linejoin=\"miter\" /></g><g id=\"black-queen\" class=\"black queen\" fill=\"#000\" fill-rule=\"evenodd\" stroke=\"#000\" stroke-width=\"1.5\" stroke-linecap=\"round\" stroke-linejoin=\"round\"><g fill=\"#000\" stroke=\"none\"><circle cx=\"6\" cy=\"12\" r=\"2.75\" /><circle cx=\"14\" cy=\"9\" r=\"2.75\" /><circle cx=\"22.5\" cy=\"8\" r=\"2.75\" /><circle cx=\"31\" cy=\"9\" r=\"2.75\" /><circle cx=\"39\" cy=\"12\" r=\"2.75\" /></g><path d=\"M9 26c8.5-1.5 21-1.5 27 0l2.5-12.5L31 25l-.3-14.1-5.2 13.6-3-14.5-3 14.5-5.2-13.6L14 25 6.5 13.5 9 26zM9 26c0 2 1.5 2 2.5 4 1 1.5 1 1 .5 3.5-1.5 1-1.5 2.5-1.5 2.5-1.5 1.5.5 2.5.5 2.5 6.5 1 16.5 1 23 0 0 0 1.5-1 0-2.5 0 0 .5-1.5-1-2.5-.5-2.5-.5-2 .5-3.5 1-2 2.5-2 2.5-4-8.5-1.5-18.5-1.5-27 0z\" stroke-linecap=\"butt\" /><path d=\"M11 38.5a35 35 1 0 0 23 0\" fill=\"none\" stroke-linecap=\"butt\" /><path d=\"M11 29a35 35 1 0 1 23 0M12.5 31.5h20M11.5 34.5a35 35 1 0 0 22 0M10.5 37.5a35 35 1 0 0 24 0\" fill=\"none\" stroke=\"#fff\" /></g><g id=\"black-king\" class=\"black king\" fill=\"none\" fill-rule=\"evenodd\" stroke=\"#000\" stroke-width=\"1.5\" stroke-linecap=\"round\" stroke-linejoin=\"round\"><path d=\"M22.5 11.63V6\" stroke-linejoin=\"miter\" /><path d=\"M22.5 25s4.5-7.5 3-10.5c0 0-1-2.5-3-2.5s-3 2.5-3 2.5c-1.5 3 3 10.5 3 10.5\" fill=\"#000\" stroke-linecap=\"butt\" stroke-linejoin=\"miter\" /><path d=\"M11.5 37c5.5 3.5 15.5 3.5 21 0v-7s9-4.5 6-10.5c-4-6.5-13.5-3.5-16 4V27v-3.5c-3.5-7.5-13-10.5-16-4-3 6 5 10 5 10V37z\" fill=\"#000\" /><path d=\"M20 8h5\" stroke-linejoin=\"miter\" /><path d=\"M32 29.5s8.5-4 6.03-9.65C34.15 14 25 18 22.5 24.5l.01 2.1-.01-2.1C20 18 9.906 14 6.997 19.85c-2.497 5.65 4.853 9 4.853 9M11.5 30c5.5-3 15.5-3 21 0m-21 3.5c5.5-3 15.5-3 21 0m-21 3.5c5.5-3 15.5-3 21 0\" stroke=\"#fff\" /></g></defs><rect x=\"0\" y=\"0\" width=\"390\" height=\"390\" fill=\"#212121\" /><g transform=\"translate(20, 0) scale(0.75, 0.75)\" fill=\"#e5e5e5\" stroke=\"#e5e5e5\"><path d=\"M23.328 10.016q-1.742 0-2.414.398-.672.398-.672 1.36 0 .765.5 1.218.508.445 1.375.445 1.196 0 1.914-.843.727-.852.727-2.258v-.32zm2.867-.594v4.992h-1.437v-1.328q-.492.797-1.227 1.18-.734.375-1.797.375-1.343 0-2.14-.75-.79-.758-.79-2.024 0-1.476.985-2.226.992-.75 2.953-.75h2.016V8.75q0-.992-.656-1.531-.649-.547-1.829-.547-.75 0-1.46.18-.711.18-1.368.539V6.062q.79-.304 1.532-.453.742-.156 1.445-.156 1.898 0 2.836.984.937.985.937 2.985z\" /></g><g transform=\"translate(20, 375) scale(0.75, 0.75)\" fill=\"#e5e5e5\" stroke=\"#e5e5e5\"><path d=\"M23.328 10.016q-1.742 0-2.414.398-.672.398-.672 1.36 0 .765.5 1.218.508.445 1.375.445 1.196 0 1.914-.843.727-.852.727-2.258v-.32zm2.867-.594v4.992h-1.437v-1.328q-.492.797-1.227 1.18-.734.375-1.797.375-1.343 0-2.14-.75-.79-.758-.79-2.024 0-1.476.985-2.226.992-.75 2.953-.75h2.016V8.75q0-.992-.656-1.531-.649-.547-1.829-.547-.75 0-1.46.18-.711.18-1.368.539V6.062q.79-.304 1.532-.453.742-.156 1.445-.156 1.898 0 2.836.984.937.985.937 2.985z\" /></g><g transform=\"translate(65, 0) scale(0.75, 0.75)\" fill=\"#e5e5e5\" stroke=\"#e5e5e5\"><path d=\"M24.922 10.047q0-1.586-.656-2.485-.649-.906-1.79-.906-1.14 0-1.796.906-.649.899-.649 2.485 0 1.586.649 2.492.656.898 1.797.898 1.14 0 1.789-.898.656-.906.656-2.492zm-4.89-3.055q.452-.781 1.14-1.156.695-.383 1.656-.383 1.594 0 2.586 1.266 1 1.265 1 3.328 0 2.062-1 3.328-.992 1.266-2.586 1.266-.96 0-1.656-.375-.688-.383-1.14-1.164v1.312h-1.446V2.258h1.445z\" /></g><g transform=\"translate(65, 375) scale(0.75, 0.75)\" fill=\"#e5e5e5\" stroke=\"#e5e5e5\"><path d=\"M24.922 10.047q0-1.586-.656-2.485-.649-.906-1.79-.906-1.14 0-1.796.906-.649.899-.649 2.485 0 1.586.649 2.492.656.898 1.797.898 1.14 0 1.789-.898.656-.906.656-2.492zm-4.89-3.055q.452-.781 1.14-1.156.695-.383 1.656-.383 1.594 0 2.586 1.266 1 1.265 1 3.328 0 2.062-1 3.328-.992 1.266-2.586 1.266-.96 0-1.656-.375-.688-.383-1.14-1.164v1.312h-1.446V2.258h1.445z\" /></g><g transform=\"translate(110, 0) scale(0.75, 0.75)\" fill=\"#e5e5e5\" stroke=\"#e5e5e5\"><path d=\"M25.96 6v1.344q-.608-.336-1.226-.5-.609-.172-1.234-.172-1.398 0-2.172.89-.773.883-.773 2.485 0 1.601.773 2.492.774.883 2.172.883.625 0 1.234-.164.618-.172 1.227-.508v1.328q-.602.281-1.25.422-.64.14-1.367.14-1.977 0-3.14-1.242-1.165-1.242-1.165-3.351 0-2.14 1.172-3.367 1.18-1.227 3.227-1.227.664 0 1.296.14.633.134 1.227.407z\" /></g><g transform=\"translate(110, 375) scale(0.75, 0.75)\" fill=\"#e5e5e5\" stroke=\"#e5e5e5\"><path d=\"M25.96 6v1.344q-.608-.336-1.226-.5-.609-.172-1.234-.172-1.398 0-2.172.89-.773.883-.773 2.485 0 1.601.773 2.492.774.883 2.172.883.625 0 1.234-.164.618-.172 1.227-.508v1.328q-.602.281-1.25.422-.64.14-1.367.14-1.977 0-3.14-1.242-1.165-1.242-1.165-3.351 0-2.14 1.172-3.367 1.18-1.227 3.227-1.227.664 0 1.296.14.633.134 1.227.407z\" /></g><g transform=\"translate(155, 0) scale(0.75, 0.75)\" fill=\"#e5e5e5\" stroke=\"#e5e5e5\"><path d=\"M24.973 6.992V2.258h1.437v12.156h-1.437v-1.312q-.453.78-1.149 1.164-.687.375-1.656.375-1.586 0-2.586-1.266-.992-1.266-.992-3.328 0-2.063.992-3.328 1-1.266 2.586-1.266.969 0 1.656.383.696.375 1.149 1.156zm-4.899 3.055q0 1.586.649 2.492.656.898 1.797.898 1.14 0 1.796-.898.657-.906.657-2.492 0-1.586-.657-2.485-.656-.906-1.796-.906-1.141 0-1.797.906-.649.899-.649 2.485z\" /></g><g transform=\"translate(155, 375) scale(0.75, 0.75)\" fill=\"#e5e5e5\" stroke=\"#e5e5e5\"><path d=\"M24.973 6.992V2.258h1.437v12.156h-1.437v-1.312q-.453.78-1.149 1.164-.687.375-1.656.375-1.586 0-2.586-1.266-.992-1.266-.992-3.328 0-2.063.992-3.328 1-1.266 2.586-1.266.969 0 1.656.383.696.375 1.149 1.156zm-4.899 3.055q0 1.586.649 2.492.656.898 1.797.898 1.14 0 1.796-.898.657-.906.657-2.492 0-1.586-.657-2.485-.656-.906-1.796-.906-1.141 0-1.797.906-.649.899-.649 2.485z\" /></g><g transform=\"translate(200, 0) scale(0.75, 0.75)\" fill=\"#e5e5e5\" stroke=\"#e5e5e5\"><path d=\"M26.555 9.68v.703h-6.61q.094 1.484.89 2.265.806.774 2.235.774.828 0 1.602-.203.781-.203 1.547-.61v1.36q-.774.328-1.586.5-.813.172-1.649.172-2.093 0-3.32-1.22-1.219-1.218-1.219-3.296 0-2.148 1.157-3.406 1.164-1.266 3.132-1.266 1.766 0 2.79 1.14 1.03 1.134 1.03 3.087zm-1.438-.422q-.015-1.18-.664-1.883-.64-.703-1.703-.703-1.203 0-1.93.68-.718.68-.828 1.914z\" /></g><g transform=\"translate(200, 375) scale(0.75, 0.75)\" fill=\"#e5e5e5\" stroke=\"#e5e5e5\"><path d=\"M26.555 9.68v.703h-6.61q.094 1.484.89 2.265.806.774 2.235.774.828 0 1.602-.203.781-.203 1.547-.61v1.36q-.774.328-1.586.5-.813.172-1.649.172-2.093 0-3.32-1.22-1.219-1.218-1.219-3.296 0-2.148 1.157-3.406 1.164-1.266 3.132-1.266 1.766 0 2.79 1.14 1.03 1.134 1.03 3.087zm-1.438-.422q-.015-1.18-.664-1.883-.64-.703-1.703-.703-1.203 0-1.93.68-.718.68-.828 1.914z\" /></g><g transform=\"translate(245, 0) scale(0.75, 0.75)\" fill=\"#e5e5e5\" stroke=\"#e5e5e5\"><path d=\"M25.285 2.258v1.195H23.91q-.773 0-1.078.313-.297.312-.297 1.125v.773h2.367v1.117h-2.367v7.633H21.09V6.781h-1.375V5.664h1.375v-.61q0-1.46.68-2.124.68-.672 2.156-.672z\" /></g><g transform=\"translate(245, 375) scale(0.75, 0.75)\" fill=\"#e5e5e5\" stroke=\"#e5e5e5\"><path d=\"M25.285 2.258v1.195H23.91q-.773 0-1.078.313-.297.312-.297 1.125v.773h2.367v1.117h-2.367v7.633H21.09V6.781h-1.375V5.664h1.375v-.61q0-1.46.68-2.124.68-.672 2.156-.672z\" /></g><g transform=\"translate(290, 0) scale(0.75, 0.75)\" fill=\"#e5e5e5\" stroke=\"#e5e5e5\"><path d=\"M24.973 9.937q0-1.562-.649-2.421-.64-.86-1.804-.86-1.157 0-1.805.86-.64.859-.64 2.421 0 1.555.64 2.415.648.859 1.805.859 1.164 0 1.804-.86.649-.859.649-2.414zm1.437 3.391q0 2.234-.992 3.32-.992 1.094-3.04 1.094-.757 0-1.429-.117-.672-.11-1.304-.344v-1.398q.632.344 1.25.508.617.164 1.257.164 1.414 0 2.118-.743.703-.734.703-2.226v-.711q-.446.773-1.141 1.156-.695.383-1.664.383-1.61 0-2.594-1.227-.984-1.226-.984-3.25 0-2.03.984-3.257.985-1.227 2.594-1.227.969 0 1.664.383t1.14 1.156V5.664h1.438z\" /></g><g transform=\"translate(290, 375) scale(0.75, 0.75)\" fill=\"#e5e5e5\" stroke=\"#e5e5e5\"><path d=\"M24.973 9.937q0-1.562-.649-2.421-.64-.86-1.804-.86-1.157 0-1.805.86-.64.859-.64 2.421 0 1.555.64 2.415.648.859 1.805.859 1.164 0 1.804-.86.649-.859.649-2.414zm1.437 3.391q0 2.234-.992 3.32-.992 1.094-3.04 1.094-.757 0-1.429-.117-.672-.11-1.304-.344v-1.398q.632.344 1.25.508.617.164 1.257.164 1.414 0 2.118-.743.703-.734.703-2.226v-.711q-.446.773-1.141 1.156-.695.383-1.664.383-1.61 0-2.594-1.227-.984-1.226-.984-3.25 0-2.03.984-3.257.985-1.227 2.594-1.227.969 0 1.664.383t1.14 1.156V5.664h1.438z\" /></g><g transform=\"translate(335, 0) scale(0.75, 0.75)\" fill=\"#e5e5e5\" stroke=\"#e5e5e5\"><path d=\"M26.164 9.133v5.281h-1.437V9.18q0-1.243-.485-1.86-.484-.617-1.453-.617-1.164 0-1.836.742-.672.742-.672 2.024v4.945h-1.445V2.258h1.445v4.765q.516-.789 1.211-1.18.703-.39 1.617-.39 1.508 0 2.282.938.773.93.773 2.742z\" /></g><g transform=\"translate(335, 375) scale(0.75, 0.75)\" fill=\"#e5e5e5\" stroke=\"#e5e5e5\"><path d=\"M26.164 9.133v5.281h-1.437V9.18q0-1.243-.485-1.86-.484-.617-1.453-.617-1.164 0-1.836.742-.672.742-.672 2.024v4.945h-1.445V2.258h1.445v4.765q.516-.789 1.211-1.18.703-.39 1.617-.39 1.508 0 2.282.938.773.93.773 2.742z\" /></g><g transform=\"translate(0, 335) scale(0.75, 0.75)\" fill=\"#e5e5e5\" stroke=\"#e5e5e5\"><path d=\"M6.754 26.996h2.578v-8.898l-2.805.562v-1.437l2.79-.563h1.578v10.336h2.578v1.328h-6.72z\" /></g><g transform=\"translate(375, 335) scale(0.75, 0.75)\" fill=\"#e5e5e5\" stroke=\"#e5e5e5\"><path d=\"M6.754 26.996h2.578v-8.898l-2.805.562v-1.437l2.79-.563h1.578v10.336h2.578v1.328h-6.72z\" /></g><g transform=\"translate(0, 290) scale(0.75, 0.75)\" fill=\"#e5e5e5\" stroke=\"#e5e5e5\"><path d=\"M8.195 26.996h5.508v1.328H6.297v-1.328q.898-.93 2.445-2.492 1.555-1.57 1.953-2.024.758-.851 1.055-1.437.305-.594.305-1.164 0-.93-.657-1.516-.648-.586-1.695-.586-.742 0-1.57.258-.82.258-1.758.781v-1.593q.953-.383 1.781-.578.828-.196 1.516-.196 1.812 0 2.89.906 1.079.907 1.079 2.422 0 .72-.274 1.368-.265.64-.976 1.515-.196.227-1.243 1.313-1.046 1.078-2.953 3.023z\" /></g><g transform=\"translate(375, 290) scale(0.75, 0.75)\" fill=\"#e5e5e5\" stroke=\"#e5e5e5\"><path d=\"M8.195 26.996h5.508v1.328H6.297v-1.328q.898-.93 2.445-2.492 1.555-1.57 1.953-2.024.758-.851 1.055-1.437.305-.594.305-1.164 0-.93-.657-1.516-.648-.586-1.695-.586-.742 0-1.57.258-.82.258-1.758.781v-1.593q.953-.383 1.781-.578.828-.196 1.516-.196 1.812 0 2.89.906 1.079.907 1.079 2.422 0 .72-.274 1.368-.265.64-.976 1.515-.196.227-1.243 1.313-1.046 1.078-2.953 3.023z\" /></g><g transform=\"translate(0, 245) scale(0.75, 0.75)\" fill=\"#e5e5e5\" stroke=\"#e5e5e5\"><path d=\"M11.434 22.035q1.132.242 1.765 1.008.64.766.64 1.89 0 1.727-1.187 2.672-1.187.946-3.375.946-.734 0-1.515-.149-.774-.14-1.602-.43V26.45q.656.383 1.438.578.78.196 1.632.196 1.485 0 2.258-.586.782-.586.782-1.703 0-1.032-.727-1.61-.719-.586-2.008-.586h-1.36v-1.297h1.423q1.164 0 1.78-.46.618-.47.618-1.344 0-.899-.64-1.375-.633-.485-1.82-.485-.65 0-1.391.141-.743.14-1.633.437V16.95q.898-.25 1.68-.375.788-.125 1.484-.125 1.797 0 2.844.82 1.046.813 1.046 2.204 0 .968-.554 1.64-.555.664-1.578.922z\" /></g><g transform=\"translate(375, 245) scale(0.75, 0.75)\" fill=\"#e5e5e5\" stroke=\"#e5e5e5\"><path d=\"M11.434 22.035q1.132.242 1.765 1.008.64.766.64 1.89 0 1.727-1.187 2.672-1.187.946-3.375.946-.734 0-1.515-.149-.774-.14-1.602-.43V26.45q.656.383 1.438.578.78.196 1.632.196 1.485 0 2.258-.586.782-.586.782-1.703 0-1.032-.727-1.61-.719-.586-2.008-.586h-1.36v-1.297h1.423q1.164 0 1.78-.46.618-.47.618-1.344 0-.899-.64-1.375-.633-.485-1.82-.485-.65 0-1.391.141-.743.14-1.633.437V16.95q.898-.25 1.68-.375.788-.125 1.484-.125 1.797 0 2.844.82 1.046.813 1.046 2.204 0 .968-.554 1.64-.555.664-1.578.922z\" /></g><g transform=\"translate(0, 200) scale(0.75, 0.75)\" fill=\"#e5e5e5\" stroke=\"#e5e5e5\"><path d=\"M11.016 18.035L7.03 24.262h3.985zm-.414-1.375h1.984v7.602h1.664v1.312h-1.664v2.75h-1.57v-2.75H5.75v-1.523z\" /></g><g transform=\"translate(375, 200) scale(0.75, 0.75)\" fill=\"#e5e5e5\" stroke=\"#e5e5e5\"><path d=\"M11.016 18.035L7.03 24.262h3.985zm-.414-1.375h1.984v7.602h1.664v1.312h-1.664v2.75h-1.57v-2.75H5.75v-1.523z\" /></g><g transform=\"translate(0, 155) scale(0.75, 0.75)\" fill=\"#e5e5e5\" stroke=\"#e5e5e5\"><path d=\"M6.719 16.66h6.195v1.328h-4.75v2.86q.344-.118.688-.172.343-.063.687-.063 1.953 0 3.094 1.07 1.14 1.07 1.14 2.899 0 1.883-1.171 2.93-1.172 1.039-3.305 1.039-.735 0-1.5-.125-.758-.125-1.57-.375v-1.586q.703.383 1.453.57.75.188 1.586.188 1.351 0 2.14-.711.79-.711.79-1.93 0-1.219-.79-1.93-.789-.71-2.14-.71-.633 0-1.266.14-.625.14-1.281.438z\" /></g><g transform=\"translate(375, 155) scale(0.75, 0.75)\" fill=\"#e5e5e5\" stroke=\"#e5e5e5\"><path d=\"M6.719 16.66h6.195v1.328h-4.75v2.86q.344-.118.688-.172.343-.063.687-.063 1.953 0 3.094 1.07 1.14 1.07 1.14 2.899 0 1.883-1.171 2.93-1.172 1.039-3.305 1.039-.735 0-1.5-.125-.758-.125-1.57-.375v-1.586q.703.383 1.453.57.75.188 1.586.188 1.351 0 2.14-.711.79-.711.79-1.93 0-1.219-.79-1.93-.789-.71-2.14-.71-.633 0-1.266.14-.625.14-1.281.438z\" /></g><g transform=\"translate(0, 110) scale(0.75, 0.75)\" fill=\"#e5e5e5\" stroke=\"#e5e5e5\"><path d=\"M10.137 21.863q-1.063 0-1.688.727-.617.726-.617 1.992 0 1.258.617 1.992.625.727 1.688.727 1.062 0 1.68-.727.624-.734.624-1.992 0-1.266-.625-1.992-.617-.727-1.68-.727zm3.133-4.945v1.437q-.594-.28-1.204-.43-.601-.148-1.195-.148-1.562 0-2.39 1.055-.82 1.055-.938 3.188.46-.68 1.156-1.04.696-.367 1.531-.367 1.758 0 2.774 1.07 1.023 1.063 1.023 2.899 0 1.797-1.062 2.883-1.063 1.086-2.828 1.086-2.024 0-3.094-1.547-1.07-1.555-1.07-4.5 0-2.766 1.312-4.406 1.313-1.649 3.524-1.649.593 0 1.195.117.61.118 1.266.352z\" /></g><g transform=\"translate(375, 110) scale(0.75, 0.75)\" fill=\"#e5e5e5\" stroke=\"#e5e5e5\"><path d=\"M10.137 21.863q-1.063 0-1.688.727-.617.726-.617 1.992 0 1.258.617 1.992.625.727 1.688.727 1.062 0 1.68-.727.624-.734.624-1.992 0-1.266-.625-1.992-.617-.727-1.68-.727zm3.133-4.945v1.437q-.594-.28-1.204-.43-.601-.148-1.195-.148-1.562 0-2.39 1.055-.82 1.055-.938 3.188.46-.68 1.156-1.04.696-.367 1.531-.367 1.758 0 2.774 1.07 1.023 1.063 1.023 2.899 0 1.797-1.062 2.883-1.063 1.086-2.828 1.086-2.024 0-3.094-1.547-1.07-1.555-1.07-4.5 0-2.766 1.312-4.406 1.313-1.649 3.524-1.649.593 0 1.195.117.61.118 1.266.352z\" /></g><g transform=\"translate(0, 65) scale(0.75, 0.75)\" fill=\"#e5e5e5\" stroke=\"#e5e5e5\"><path d=\"M6.25 16.66h7.5v.672L9.516 28.324H7.867l3.985-10.336H6.25z\" /></g><g transform=\"translate(375, 65) scale(0.75, 0.75)\" fill=\"#e5e5e5\" stroke=\"#e5e5e5\"><path d=\"M6.25 16.66h7.5v.672L9.516 28.324H7.867l3.985-10.336H6.25z\" /></g><g transform=\"translate(0, 20) scale(0.75, 0.75)\" fill=\"#e5e5e5\" stroke=\"#e5e5e5\"><path d=\"M10 22.785q-1.125 0-1.773.602-.641.601-.641 1.656t.64 1.656q.649.602 1.774.602t1.773-.602q.649-.61.649-1.656 0-1.055-.649-1.656-.64-.602-1.773-.602zm-1.578-.672q-1.016-.25-1.586-.945-.563-.695-.563-1.695 0-1.399.993-2.211 1-.813 2.734-.813 1.742 0 2.734.813.993.812.993 2.21 0 1-.57 1.696-.563.695-1.571.945 1.14.266 1.773 1.04.641.773.641 1.89 0 1.695-1.04 2.602-1.03.906-2.96.906t-2.969-.906Q6 26.738 6 25.043q0-1.117.64-1.89.641-.774 1.782-1.04zm-.578-2.492q0 .906.562 1.414.57.508 1.594.508 1.016 0 1.586-.508.578-.508.578-1.414 0-.906-.578-1.414-.57-.508-1.586-.508-1.023 0-1.594.508-.562.508-.562 1.414z\" /></g><g transform=\"translate(375, 20) scale(0.75, 0.75)\" fill=\"#e5e5e5\" stroke=\"#e5e5e5\"><path d=\"M10 22.785q-1.125 0-1.773.602-.641.601-.641 1.656t.64 1.656q.649.602 1.774.602t1.773-.602q.649-.61.649-1.656 0-1.055-.649-1.656-.64-.602-1.773-.602zm-1.578-.672q-1.016-.25-1.586-.945-.563-.695-.563-1.695 0-1.399.993-2.211 1-.813 2.734-.813 1.742 0 2.734.813.993.812.993 2.21 0 1-.57 1.696-.563.695-1.571.945 1.14.266 1.773 1.04.641.773.641 1.89 0 1.695-1.04 2.602-1.03.906-2.96.906t-2.969-.906Q6 26.738 6 25.043q0-1.117.64-1.89.641-.774 1.782-1.04zm-.578-2.492q0 .906.562 1.414.57.508 1.594.508 1.016 0 1.586-.508.578-.508.578-1.414 0-.906-.578-1.414-.57-.508-1.586-.508-1.023 0-1.594.508-.562.508-.562 1.414z\" /></g><rect x=\"15\" y=\"330\" width=\"45\" height=\"45\" class=\"square dark a1\" stroke=\"none\" fill=\"#d18b47\" /><rect x=\"60\" y=\"330\" width=\"45\" height=\"45\" class=\"square light b1\" stroke=\"none\" fill=\"#ffce9e\" /><rect x=\"105\" y=\"330\" width=\"45\" height=\"45\" class=\"square dark c1\" stroke=\"none\" fill=\"#d18b47\" /><rect x=\"150\" y=\"330\" width=\"45\" height=\"45\" class=\"square light d1\" stroke=\"none\" fill=\"#ffce9e\" /><rect x=\"195\" y=\"330\" width=\"45\" height=\"45\" class=\"square dark e1\" stroke=\"none\" fill=\"#d18b47\" /><rect x=\"240\" y=\"330\" width=\"45\" height=\"45\" class=\"square light f1\" stroke=\"none\" fill=\"#ffce9e\" /><rect x=\"285\" y=\"330\" width=\"45\" height=\"45\" class=\"square dark g1\" stroke=\"none\" fill=\"#d18b47\" /><rect x=\"330\" y=\"330\" width=\"45\" height=\"45\" class=\"square light h1\" stroke=\"none\" fill=\"#ffce9e\" /><rect x=\"15\" y=\"285\" width=\"45\" height=\"45\" class=\"square light a2\" stroke=\"none\" fill=\"#ffce9e\" /><rect x=\"60\" y=\"285\" width=\"45\" height=\"45\" class=\"square dark b2\" stroke=\"none\" fill=\"#d18b47\" /><rect x=\"105\" y=\"285\" width=\"45\" height=\"45\" class=\"square light c2\" stroke=\"none\" fill=\"#ffce9e\" /><rect x=\"150\" y=\"285\" width=\"45\" height=\"45\" class=\"square dark d2\" stroke=\"none\" fill=\"#d18b47\" /><rect x=\"195\" y=\"285\" width=\"45\" height=\"45\" class=\"square light e2\" stroke=\"none\" fill=\"#ffce9e\" /><rect x=\"240\" y=\"285\" width=\"45\" height=\"45\" class=\"square dark f2\" stroke=\"none\" fill=\"#d18b47\" /><rect x=\"285\" y=\"285\" width=\"45\" height=\"45\" class=\"square light g2\" stroke=\"none\" fill=\"#ffce9e\" /><rect x=\"330\" y=\"285\" width=\"45\" height=\"45\" class=\"square dark h2\" stroke=\"none\" fill=\"#d18b47\" /><rect x=\"15\" y=\"240\" width=\"45\" height=\"45\" class=\"square dark a3\" stroke=\"none\" fill=\"#d18b47\" /><rect x=\"60\" y=\"240\" width=\"45\" height=\"45\" class=\"square light b3\" stroke=\"none\" fill=\"#ffce9e\" /><rect x=\"105\" y=\"240\" width=\"45\" height=\"45\" class=\"square dark c3\" stroke=\"none\" fill=\"#d18b47\" /><rect x=\"150\" y=\"240\" width=\"45\" height=\"45\" class=\"square light d3\" stroke=\"none\" fill=\"#ffce9e\" /><rect x=\"195\" y=\"240\" width=\"45\" height=\"45\" class=\"square dark e3\" stroke=\"none\" fill=\"#d18b47\" /><rect x=\"240\" y=\"240\" width=\"45\" height=\"45\" class=\"square light f3\" stroke=\"none\" fill=\"#ffce9e\" /><rect x=\"285\" y=\"240\" width=\"45\" height=\"45\" class=\"square dark g3\" stroke=\"none\" fill=\"#d18b47\" /><rect x=\"330\" y=\"240\" width=\"45\" height=\"45\" class=\"square light h3\" stroke=\"none\" fill=\"#ffce9e\" /><rect x=\"15\" y=\"195\" width=\"45\" height=\"45\" class=\"square light a4\" stroke=\"none\" fill=\"#ffce9e\" /><rect x=\"60\" y=\"195\" width=\"45\" height=\"45\" class=\"square dark b4\" stroke=\"none\" fill=\"#d18b47\" /><rect x=\"105\" y=\"195\" width=\"45\" height=\"45\" class=\"square light c4\" stroke=\"none\" fill=\"#ffce9e\" /><rect x=\"150\" y=\"195\" width=\"45\" height=\"45\" class=\"square dark d4\" stroke=\"none\" fill=\"#d18b47\" /><rect x=\"195\" y=\"195\" width=\"45\" height=\"45\" class=\"square light e4\" stroke=\"none\" fill=\"#ffce9e\" /><rect x=\"240\" y=\"195\" width=\"45\" height=\"45\" class=\"square dark f4\" stroke=\"none\" fill=\"#d18b47\" /><rect x=\"285\" y=\"195\" width=\"45\" height=\"45\" class=\"square light g4\" stroke=\"none\" fill=\"#ffce9e\" /><rect x=\"330\" y=\"195\" width=\"45\" height=\"45\" class=\"square dark h4\" stroke=\"none\" fill=\"#d18b47\" /><rect x=\"15\" y=\"150\" width=\"45\" height=\"45\" class=\"square dark a5\" stroke=\"none\" fill=\"#d18b47\" /><rect x=\"60\" y=\"150\" width=\"45\" height=\"45\" class=\"square light b5\" stroke=\"none\" fill=\"#ffce9e\" /><rect x=\"105\" y=\"150\" width=\"45\" height=\"45\" class=\"square dark c5\" stroke=\"none\" fill=\"#d18b47\" /><rect x=\"150\" y=\"150\" width=\"45\" height=\"45\" class=\"square light d5\" stroke=\"none\" fill=\"#ffce9e\" /><rect x=\"195\" y=\"150\" width=\"45\" height=\"45\" class=\"square dark e5\" stroke=\"none\" fill=\"#d18b47\" /><rect x=\"240\" y=\"150\" width=\"45\" height=\"45\" class=\"square light f5\" stroke=\"none\" fill=\"#ffce9e\" /><rect x=\"285\" y=\"150\" width=\"45\" height=\"45\" class=\"square dark g5\" stroke=\"none\" fill=\"#d18b47\" /><rect x=\"330\" y=\"150\" width=\"45\" height=\"45\" class=\"square light h5\" stroke=\"none\" fill=\"#ffce9e\" /><rect x=\"15\" y=\"105\" width=\"45\" height=\"45\" class=\"square light a6\" stroke=\"none\" fill=\"#ffce9e\" /><rect x=\"60\" y=\"105\" width=\"45\" height=\"45\" class=\"square dark b6\" stroke=\"none\" fill=\"#d18b47\" /><rect x=\"105\" y=\"105\" width=\"45\" height=\"45\" class=\"square light c6\" stroke=\"none\" fill=\"#ffce9e\" /><rect x=\"150\" y=\"105\" width=\"45\" height=\"45\" class=\"square dark d6\" stroke=\"none\" fill=\"#d18b47\" /><rect x=\"195\" y=\"105\" width=\"45\" height=\"45\" class=\"square light e6\" stroke=\"none\" fill=\"#ffce9e\" /><rect x=\"240\" y=\"105\" width=\"45\" height=\"45\" class=\"square dark lastmove f6\" stroke=\"none\" fill=\"#aaa23b\" /><rect x=\"285\" y=\"105\" width=\"45\" height=\"45\" class=\"square light g6\" stroke=\"none\" fill=\"#ffce9e\" /><rect x=\"330\" y=\"105\" width=\"45\" height=\"45\" class=\"square dark h6\" stroke=\"none\" fill=\"#d18b47\" /><rect x=\"15\" y=\"60\" width=\"45\" height=\"45\" class=\"square dark a7\" stroke=\"none\" fill=\"#d18b47\" /><rect x=\"60\" y=\"60\" width=\"45\" height=\"45\" class=\"square light b7\" stroke=\"none\" fill=\"#ffce9e\" /><rect x=\"105\" y=\"60\" width=\"45\" height=\"45\" class=\"square dark c7\" stroke=\"none\" fill=\"#d18b47\" /><rect x=\"150\" y=\"60\" width=\"45\" height=\"45\" class=\"square light d7\" stroke=\"none\" fill=\"#ffce9e\" /><rect x=\"195\" y=\"60\" width=\"45\" height=\"45\" class=\"square dark e7\" stroke=\"none\" fill=\"#d18b47\" /><rect x=\"240\" y=\"60\" width=\"45\" height=\"45\" class=\"square light f7\" stroke=\"none\" fill=\"#ffce9e\" /><rect x=\"285\" y=\"60\" width=\"45\" height=\"45\" class=\"square dark g7\" stroke=\"none\" fill=\"#d18b47\" /><rect x=\"330\" y=\"60\" width=\"45\" height=\"45\" class=\"square light lastmove h7\" stroke=\"none\" fill=\"#cdd16a\" /><rect x=\"15\" y=\"15\" width=\"45\" height=\"45\" class=\"square light a8\" stroke=\"none\" fill=\"#ffce9e\" /><rect x=\"60\" y=\"15\" width=\"45\" height=\"45\" class=\"square dark b8\" stroke=\"none\" fill=\"#d18b47\" /><rect x=\"105\" y=\"15\" width=\"45\" height=\"45\" class=\"square light c8\" stroke=\"none\" fill=\"#ffce9e\" /><rect x=\"150\" y=\"15\" width=\"45\" height=\"45\" class=\"square dark d8\" stroke=\"none\" fill=\"#d18b47\" /><rect x=\"195\" y=\"15\" width=\"45\" height=\"45\" class=\"square light e8\" stroke=\"none\" fill=\"#ffce9e\" /><rect x=\"240\" y=\"15\" width=\"45\" height=\"45\" class=\"square dark f8\" stroke=\"none\" fill=\"#d18b47\" /><rect x=\"285\" y=\"15\" width=\"45\" height=\"45\" class=\"square light g8\" stroke=\"none\" fill=\"#ffce9e\" /><rect x=\"330\" y=\"15\" width=\"45\" height=\"45\" class=\"square dark h8\" stroke=\"none\" fill=\"#d18b47\" /><use href=\"#white-rook\" xlink:href=\"#white-rook\" transform=\"translate(15, 330)\" /><use href=\"#white-bishop\" xlink:href=\"#white-bishop\" transform=\"translate(105, 330)\" /><use href=\"#white-queen\" xlink:href=\"#white-queen\" transform=\"translate(150, 330)\" /><use href=\"#white-rook\" xlink:href=\"#white-rook\" transform=\"translate(195, 330)\" /><use href=\"#white-king\" xlink:href=\"#white-king\" transform=\"translate(285, 330)\" /><use href=\"#white-pawn\" xlink:href=\"#white-pawn\" transform=\"translate(60, 285)\" /><use href=\"#white-pawn\" xlink:href=\"#white-pawn\" transform=\"translate(105, 285)\" /><use href=\"#white-bishop\" xlink:href=\"#white-bishop\" transform=\"translate(195, 285)\" /><use href=\"#white-pawn\" xlink:href=\"#white-pawn\" transform=\"translate(240, 285)\" /><use href=\"#white-pawn\" xlink:href=\"#white-pawn\" transform=\"translate(285, 285)\" /><use href=\"#white-pawn\" xlink:href=\"#white-pawn\" transform=\"translate(330, 285)\" /><use href=\"#white-pawn\" xlink:href=\"#white-pawn\" transform=\"translate(15, 240)\" /><use href=\"#white-knight\" xlink:href=\"#white-knight\" transform=\"translate(240, 240)\" /><use href=\"#white-knight\" xlink:href=\"#white-knight\" transform=\"translate(195, 195)\" /><use href=\"#black-pawn\" xlink:href=\"#black-pawn\" transform=\"translate(60, 150)\" /><use href=\"#white-pawn\" xlink:href=\"#white-pawn\" transform=\"translate(150, 150)\" /><use href=\"#black-pawn\" xlink:href=\"#black-pawn\" transform=\"translate(15, 105)\" /><use href=\"#black-pawn\" xlink:href=\"#black-pawn\" transform=\"translate(150, 105)\" /><use href=\"#black-knight\" xlink:href=\"#black-knight\" transform=\"translate(240, 105)\" /><use href=\"#black-pawn\" xlink:href=\"#black-pawn\" transform=\"translate(330, 105)\" /><use href=\"#black-bishop\" xlink:href=\"#black-bishop\" transform=\"translate(60, 60)\" /><use href=\"#black-pawn\" xlink:href=\"#black-pawn\" transform=\"translate(105, 60)\" /><use href=\"#black-bishop\" xlink:href=\"#black-bishop\" transform=\"translate(195, 60)\" /><use href=\"#black-pawn\" xlink:href=\"#black-pawn\" transform=\"translate(240, 60)\" /><use href=\"#black-pawn\" xlink:href=\"#black-pawn\" transform=\"translate(285, 60)\" /><use href=\"#black-rook\" xlink:href=\"#black-rook\" transform=\"translate(15, 15)\" /><use href=\"#black-knight\" xlink:href=\"#black-knight\" transform=\"translate(60, 15)\" /><use href=\"#black-queen\" xlink:href=\"#black-queen\" transform=\"translate(150, 15)\" /><use href=\"#black-rook\" xlink:href=\"#black-rook\" transform=\"translate(240, 15)\" /><use href=\"#black-king\" xlink:href=\"#black-king\" transform=\"translate(285, 15)\" /></svg>"
      ],
      "text/plain": [
       "Board('rn1q1rk1/1bp1bpp1/p2p1n1p/1p1P4/4N3/P4N2/1PP1BPPP/R1BQR1K1 w - - 3 14')"
      ]
     },
     "execution_count": 17,
     "metadata": {},
     "output_type": "execute_result"
    }
   ],
   "source": [
    "#Make the next 25 moves\n",
    "for move in moves[1:26]:\n",
    "    board.push_san(move)\n",
    "    \n",
    "board"
   ]
  },
  {
   "cell_type": "code",
   "execution_count": 18,
   "id": "4ffe992a-61b8-489b-abd3-53d0fd1bed6f",
   "metadata": {},
   "outputs": [
    {
     "data": {
      "text/plain": [
       "'rn1q1rk1/1bp1bpp1/p2p1n1p/1p1P4/4N3/P4N2/1PP1BPPP/R1BQR1K1 w - - 3 14'"
      ]
     },
     "execution_count": 18,
     "metadata": {},
     "output_type": "execute_result"
    }
   ],
   "source": [
    "# Get the FEN string representing the current state of the game\n",
    "fen = board.fen()\n",
    "fen"
   ]
  },
  {
   "cell_type": "code",
   "execution_count": 19,
   "id": "7c229c21-9c4a-49f4-8247-b56351d4db99",
   "metadata": {},
   "outputs": [],
   "source": [
    "#Try to make an illegal move: This will throw an IllegalMoveError\n",
    "# board.push_san('c6')"
   ]
  },
  {
   "cell_type": "markdown",
   "id": "93f686cb-d1b5-4558-8fba-ab9804e5933a",
   "metadata": {},
   "source": [
    "## Evaluate positions using Stockfish"
   ]
  },
  {
   "cell_type": "code",
   "execution_count": 20,
   "id": "3ea612e9-0988-403b-8d40-c3b6c9570a8d",
   "metadata": {},
   "outputs": [],
   "source": [
    "#Initialize Stockfish with a search depth of 15\n",
    "sf = Stockfish(stockfish_path, depth=15)\n",
    "\n",
    "#Set the number of cores and amount of memory Stockfish can use\n",
    "sf.update_engine_parameters({\n",
    "    'Threads':1,\n",
    "    \"Hash\":2048\n",
    "})"
   ]
  },
  {
   "cell_type": "markdown",
   "id": "ffc37062-6795-4ecb-ab9b-3490cb4527a2",
   "metadata": {},
   "source": [
    "### Starting board position"
   ]
  },
  {
   "cell_type": "code",
   "execution_count": 21,
   "id": "ef17dfc6-cb08-423c-9bd6-98d91e939998",
   "metadata": {},
   "outputs": [
    {
     "data": {
      "text/plain": [
       "[{'Move': 'e2e4', 'Centipawn': 36, 'Mate': None},\n",
       " {'Move': 'c2c4', 'Centipawn': 33, 'Mate': None},\n",
       " {'Move': 'd2d4', 'Centipawn': 32, 'Mate': None},\n",
       " {'Move': 'g1f3', 'Centipawn': 30, 'Mate': None},\n",
       " {'Move': 'g2g3', 'Centipawn': 22, 'Mate': None},\n",
       " {'Move': 'e2e3', 'Centipawn': 15, 'Mate': None},\n",
       " {'Move': 'c2c3', 'Centipawn': 6, 'Mate': None},\n",
       " {'Move': 'a2a3', 'Centipawn': 0, 'Mate': None},\n",
       " {'Move': 'b1c3', 'Centipawn': 0, 'Mate': None},\n",
       " {'Move': 'b2b3', 'Centipawn': -14, 'Mate': None}]"
      ]
     },
     "execution_count": 21,
     "metadata": {},
     "output_type": "execute_result"
    }
   ],
   "source": [
    "#Get the top 10 moves from the initial board position\n",
    "start = time.time()\n",
    "top_10_starters = sf.get_top_moves(10)\n",
    "end = time.time()\n",
    "\n",
    "top_10_starters"
   ]
  },
  {
   "cell_type": "code",
   "execution_count": 22,
   "id": "574c508b-bfd0-4929-90a7-adc2548c82a8",
   "metadata": {},
   "outputs": [
    {
     "data": {
      "text/plain": [
       "2.563939094543457"
      ]
     },
     "execution_count": 22,
     "metadata": {},
     "output_type": "execute_result"
    }
   ],
   "source": [
    "#How many seconds did it take to get these valuations?\n",
    "end - start"
   ]
  },
  {
   "cell_type": "code",
   "execution_count": 23,
   "id": "ad6126a3-acf3-4760-aa69-3f35e470371f",
   "metadata": {},
   "outputs": [
    {
     "data": {
      "text/plain": [
       "{'type': 'cp', 'value': 30}"
      ]
     },
     "execution_count": 23,
     "metadata": {},
     "output_type": "execute_result"
    }
   ],
   "source": [
    "#Get the evaluation (in centipawns of white advantage) of the initial position\n",
    "start = time.time()\n",
    "start_evaluation = sf.get_evaluation()\n",
    "end = time.time()\n",
    "\n",
    "start_evaluation"
   ]
  },
  {
   "cell_type": "code",
   "execution_count": 24,
   "id": "8974c097-2584-4c2f-968c-691816fdf7f2",
   "metadata": {},
   "outputs": [
    {
     "data": {
      "text/plain": [
       "0.04185295104980469"
      ]
     },
     "execution_count": 24,
     "metadata": {},
     "output_type": "execute_result"
    }
   ],
   "source": [
    "#How many seconds did it take to get this valuation?\n",
    "end - start"
   ]
  },
  {
   "cell_type": "markdown",
   "id": "1dc3fa6c-d3f0-4739-8a22-7ef356ce4aad",
   "metadata": {},
   "source": [
    "### Midgame position"
   ]
  },
  {
   "cell_type": "code",
   "execution_count": 25,
   "id": "bd487b9f-34d8-4642-8149-36d19269aa51",
   "metadata": {},
   "outputs": [],
   "source": [
    "#Set the position of Stockfish to the same board position as above (26 moves into the game)\n",
    "sf.set_fen_position(fen)"
   ]
  },
  {
   "cell_type": "code",
   "execution_count": 26,
   "id": "a6bf9c2e-c309-4713-8819-dd23ddc501e4",
   "metadata": {},
   "outputs": [
    {
     "data": {
      "text/plain": [
       "[{'Move': 'e4g3', 'Centipawn': 13, 'Mate': None},\n",
       " {'Move': 'e4f6', 'Centipawn': 9, 'Mate': None},\n",
       " {'Move': 'e2d3', 'Centipawn': 0, 'Mate': None},\n",
       " {'Move': 'e4c3', 'Centipawn': -19, 'Mate': None},\n",
       " {'Move': 'd1d4', 'Centipawn': -24, 'Mate': None},\n",
       " {'Move': 'e2f1', 'Centipawn': -26, 'Mate': None},\n",
       " {'Move': 'd1d3', 'Centipawn': -28, 'Mate': None},\n",
       " {'Move': 'e4d2', 'Centipawn': -68, 'Mate': None},\n",
       " {'Move': 'c1h6', 'Centipawn': -74, 'Mate': None},\n",
       " {'Move': 'f3d2', 'Centipawn': -86, 'Mate': None}]"
      ]
     },
     "execution_count": 26,
     "metadata": {},
     "output_type": "execute_result"
    }
   ],
   "source": [
    "#Get the top 10 moves from this position\n",
    "start = time.time()\n",
    "top_10_moves = sf.get_top_moves(10)\n",
    "end = time.time()\n",
    "\n",
    "top_10_moves"
   ]
  },
  {
   "cell_type": "code",
   "execution_count": 27,
   "id": "23a300af-5f78-4159-b3dc-9d4fb98b589f",
   "metadata": {},
   "outputs": [
    {
     "data": {
      "text/plain": [
       "1.69252610206604"
      ]
     },
     "execution_count": 27,
     "metadata": {},
     "output_type": "execute_result"
    }
   ],
   "source": [
    "#How many seconds did it take to get these valuations?\n",
    "end - start"
   ]
  },
  {
   "cell_type": "code",
   "execution_count": 28,
   "id": "669296ab-1c8d-453f-aef0-d6902ee3cdeb",
   "metadata": {},
   "outputs": [
    {
     "data": {
      "text/plain": [
       "{'type': 'cp', 'value': 22}"
      ]
     },
     "execution_count": 28,
     "metadata": {},
     "output_type": "execute_result"
    }
   ],
   "source": [
    "#Get the evaluation (in centipawns of white advantage) of this position\n",
    "start = time.time()\n",
    "evaluation = sf.get_evaluation()\n",
    "end = time.time()\n",
    "\n",
    "evaluation"
   ]
  },
  {
   "cell_type": "code",
   "execution_count": 29,
   "id": "c78304aa-b6ed-4565-94bb-e0ab2c7e88ea",
   "metadata": {},
   "outputs": [
    {
     "data": {
      "text/plain": [
       "0.1442699432373047"
      ]
     },
     "execution_count": 29,
     "metadata": {},
     "output_type": "execute_result"
    }
   ],
   "source": [
    "#How many seconds did it take to get this valuation?\n",
    "end - start"
   ]
  },
  {
   "cell_type": "markdown",
   "id": "e3a2dad5-0201-415e-b85b-9c2840b725c8",
   "metadata": {},
   "source": [
    "### Endgame position"
   ]
  },
  {
   "cell_type": "code",
   "execution_count": 30,
   "id": "01e21140-b40f-45cf-9e8e-9a3142f7b223",
   "metadata": {},
   "outputs": [
    {
     "data": {
      "image/svg+xml": [
       "<svg xmlns=\"http://www.w3.org/2000/svg\" xmlns:xlink=\"http://www.w3.org/1999/xlink\" version=\"1.2\" baseProfile=\"tiny\" viewBox=\"0 0 390 390\" width=\"390\" height=\"390\"><desc><pre>r . . . . r k .\n",
       ". b p q . p p .\n",
       "p n . p . . . p\n",
       ". . . P . . . .\n",
       ". P . Q . . . .\n",
       ". . . . . . . .\n",
       "B B . . . P P P\n",
       ". R . . R . K .</pre></desc><defs><g id=\"white-pawn\" class=\"white pawn\"><path d=\"M22.5 9c-2.21 0-4 1.79-4 4 0 .89.29 1.71.78 2.38C17.33 16.5 16 18.59 16 21c0 2.03.94 3.84 2.41 5.03-3 1.06-7.41 5.55-7.41 13.47h23c0-7.92-4.41-12.41-7.41-13.47 1.47-1.19 2.41-3 2.41-5.03 0-2.41-1.33-4.5-3.28-5.62.49-.67.78-1.49.78-2.38 0-2.21-1.79-4-4-4z\" fill=\"#fff\" stroke=\"#000\" stroke-width=\"1.5\" stroke-linecap=\"round\" /></g><g id=\"white-bishop\" class=\"white bishop\" fill=\"none\" fill-rule=\"evenodd\" stroke=\"#000\" stroke-width=\"1.5\" stroke-linecap=\"round\" stroke-linejoin=\"round\"><g fill=\"#fff\" stroke-linecap=\"butt\"><path d=\"M9 36c3.39-.97 10.11.43 13.5-2 3.39 2.43 10.11 1.03 13.5 2 0 0 1.65.54 3 2-.68.97-1.65.99-3 .5-3.39-.97-10.11.46-13.5-1-3.39 1.46-10.11.03-13.5 1-1.354.49-2.323.47-3-.5 1.354-1.94 3-2 3-2zM15 32c2.5 2.5 12.5 2.5 15 0 .5-1.5 0-2 0-2 0-2.5-2.5-4-2.5-4 5.5-1.5 6-11.5-5-15.5-11 4-10.5 14-5 15.5 0 0-2.5 1.5-2.5 4 0 0-.5.5 0 2zM25 8a2.5 2.5 0 1 1-5 0 2.5 2.5 0 1 1 5 0z\" /></g><path d=\"M17.5 26h10M15 30h15m-7.5-14.5v5M20 18h5\" stroke-linejoin=\"miter\" /></g><g id=\"white-rook\" class=\"white rook\" fill=\"#fff\" fill-rule=\"evenodd\" stroke=\"#000\" stroke-width=\"1.5\" stroke-linecap=\"round\" stroke-linejoin=\"round\"><path d=\"M9 39h27v-3H9v3zM12 36v-4h21v4H12zM11 14V9h4v2h5V9h5v2h5V9h4v5\" stroke-linecap=\"butt\" /><path d=\"M34 14l-3 3H14l-3-3\" /><path d=\"M31 17v12.5H14V17\" stroke-linecap=\"butt\" stroke-linejoin=\"miter\" /><path d=\"M31 29.5l1.5 2.5h-20l1.5-2.5\" /><path d=\"M11 14h23\" fill=\"none\" stroke-linejoin=\"miter\" /></g><g id=\"white-queen\" class=\"white queen\" fill=\"#fff\" fill-rule=\"evenodd\" stroke=\"#000\" stroke-width=\"1.5\" stroke-linecap=\"round\" stroke-linejoin=\"round\"><path d=\"M8 12a2 2 0 1 1-4 0 2 2 0 1 1 4 0zM24.5 7.5a2 2 0 1 1-4 0 2 2 0 1 1 4 0zM41 12a2 2 0 1 1-4 0 2 2 0 1 1 4 0zM16 8.5a2 2 0 1 1-4 0 2 2 0 1 1 4 0zM33 9a2 2 0 1 1-4 0 2 2 0 1 1 4 0z\" /><path d=\"M9 26c8.5-1.5 21-1.5 27 0l2-12-7 11V11l-5.5 13.5-3-15-3 15-5.5-14V25L7 14l2 12zM9 26c0 2 1.5 2 2.5 4 1 1.5 1 1 .5 3.5-1.5 1-1.5 2.5-1.5 2.5-1.5 1.5.5 2.5.5 2.5 6.5 1 16.5 1 23 0 0 0 1.5-1 0-2.5 0 0 .5-1.5-1-2.5-.5-2.5-.5-2 .5-3.5 1-2 2.5-2 2.5-4-8.5-1.5-18.5-1.5-27 0z\" stroke-linecap=\"butt\" /><path d=\"M11.5 30c3.5-1 18.5-1 22 0M12 33.5c6-1 15-1 21 0\" fill=\"none\" /></g><g id=\"white-king\" class=\"white king\" fill=\"none\" fill-rule=\"evenodd\" stroke=\"#000\" stroke-width=\"1.5\" stroke-linecap=\"round\" stroke-linejoin=\"round\"><path d=\"M22.5 11.63V6M20 8h5\" stroke-linejoin=\"miter\" /><path d=\"M22.5 25s4.5-7.5 3-10.5c0 0-1-2.5-3-2.5s-3 2.5-3 2.5c-1.5 3 3 10.5 3 10.5\" fill=\"#fff\" stroke-linecap=\"butt\" stroke-linejoin=\"miter\" /><path d=\"M11.5 37c5.5 3.5 15.5 3.5 21 0v-7s9-4.5 6-10.5c-4-6.5-13.5-3.5-16 4V27v-3.5c-3.5-7.5-13-10.5-16-4-3 6 5 10 5 10V37z\" fill=\"#fff\" /><path d=\"M11.5 30c5.5-3 15.5-3 21 0m-21 3.5c5.5-3 15.5-3 21 0m-21 3.5c5.5-3 15.5-3 21 0\" /></g><g id=\"black-pawn\" class=\"black pawn\"><path d=\"M22.5 9c-2.21 0-4 1.79-4 4 0 .89.29 1.71.78 2.38C17.33 16.5 16 18.59 16 21c0 2.03.94 3.84 2.41 5.03-3 1.06-7.41 5.55-7.41 13.47h23c0-7.92-4.41-12.41-7.41-13.47 1.47-1.19 2.41-3 2.41-5.03 0-2.41-1.33-4.5-3.28-5.62.49-.67.78-1.49.78-2.38 0-2.21-1.79-4-4-4z\" fill=\"#000\" stroke=\"#000\" stroke-width=\"1.5\" stroke-linecap=\"round\" /></g><g id=\"black-knight\" class=\"black knight\" fill=\"none\" fill-rule=\"evenodd\" stroke=\"#000\" stroke-width=\"1.5\" stroke-linecap=\"round\" stroke-linejoin=\"round\"><path d=\"M 22,10 C 32.5,11 38.5,18 38,39 L 15,39 C 15,30 25,32.5 23,18\" style=\"fill:#000000; stroke:#000000;\" /><path d=\"M 24,18 C 24.38,20.91 18.45,25.37 16,27 C 13,29 13.18,31.34 11,31 C 9.958,30.06 12.41,27.96 11,28 C 10,28 11.19,29.23 10,30 C 9,30 5.997,31 6,26 C 6,24 12,14 12,14 C 12,14 13.89,12.1 14,10.5 C 13.27,9.506 13.5,8.5 13.5,7.5 C 14.5,6.5 16.5,10 16.5,10 L 18.5,10 C 18.5,10 19.28,8.008 21,7 C 22,7 22,10 22,10\" style=\"fill:#000000; stroke:#000000;\" /><path d=\"M 9.5 25.5 A 0.5 0.5 0 1 1 8.5,25.5 A 0.5 0.5 0 1 1 9.5 25.5 z\" style=\"fill:#ececec; stroke:#ececec;\" /><path d=\"M 15 15.5 A 0.5 1.5 0 1 1 14,15.5 A 0.5 1.5 0 1 1 15 15.5 z\" transform=\"matrix(0.866,0.5,-0.5,0.866,9.693,-5.173)\" style=\"fill:#ececec; stroke:#ececec;\" /><path d=\"M 24.55,10.4 L 24.1,11.85 L 24.6,12 C 27.75,13 30.25,14.49 32.5,18.75 C 34.75,23.01 35.75,29.06 35.25,39 L 35.2,39.5 L 37.45,39.5 L 37.5,39 C 38,28.94 36.62,22.15 34.25,17.66 C 31.88,13.17 28.46,11.02 25.06,10.5 L 24.55,10.4 z \" style=\"fill:#ececec; stroke:none;\" /></g><g id=\"black-bishop\" class=\"black bishop\" fill=\"none\" fill-rule=\"evenodd\" stroke=\"#000\" stroke-width=\"1.5\" stroke-linecap=\"round\" stroke-linejoin=\"round\"><path d=\"M9 36c3.39-.97 10.11.43 13.5-2 3.39 2.43 10.11 1.03 13.5 2 0 0 1.65.54 3 2-.68.97-1.65.99-3 .5-3.39-.97-10.11.46-13.5-1-3.39 1.46-10.11.03-13.5 1-1.354.49-2.323.47-3-.5 1.354-1.94 3-2 3-2zm6-4c2.5 2.5 12.5 2.5 15 0 .5-1.5 0-2 0-2 0-2.5-2.5-4-2.5-4 5.5-1.5 6-11.5-5-15.5-11 4-10.5 14-5 15.5 0 0-2.5 1.5-2.5 4 0 0-.5.5 0 2zM25 8a2.5 2.5 0 1 1-5 0 2.5 2.5 0 1 1 5 0z\" fill=\"#000\" stroke-linecap=\"butt\" /><path d=\"M17.5 26h10M15 30h15m-7.5-14.5v5M20 18h5\" stroke=\"#fff\" stroke-linejoin=\"miter\" /></g><g id=\"black-rook\" class=\"black rook\" fill=\"#000\" fill-rule=\"evenodd\" stroke=\"#000\" stroke-width=\"1.5\" stroke-linecap=\"round\" stroke-linejoin=\"round\"><path d=\"M9 39h27v-3H9v3zM12.5 32l1.5-2.5h17l1.5 2.5h-20zM12 36v-4h21v4H12z\" stroke-linecap=\"butt\" /><path d=\"M14 29.5v-13h17v13H14z\" stroke-linecap=\"butt\" stroke-linejoin=\"miter\" /><path d=\"M14 16.5L11 14h23l-3 2.5H14zM11 14V9h4v2h5V9h5v2h5V9h4v5H11z\" stroke-linecap=\"butt\" /><path d=\"M12 35.5h21M13 31.5h19M14 29.5h17M14 16.5h17M11 14h23\" fill=\"none\" stroke=\"#fff\" stroke-width=\"1\" stroke-linejoin=\"miter\" /></g><g id=\"black-queen\" class=\"black queen\" fill=\"#000\" fill-rule=\"evenodd\" stroke=\"#000\" stroke-width=\"1.5\" stroke-linecap=\"round\" stroke-linejoin=\"round\"><g fill=\"#000\" stroke=\"none\"><circle cx=\"6\" cy=\"12\" r=\"2.75\" /><circle cx=\"14\" cy=\"9\" r=\"2.75\" /><circle cx=\"22.5\" cy=\"8\" r=\"2.75\" /><circle cx=\"31\" cy=\"9\" r=\"2.75\" /><circle cx=\"39\" cy=\"12\" r=\"2.75\" /></g><path d=\"M9 26c8.5-1.5 21-1.5 27 0l2.5-12.5L31 25l-.3-14.1-5.2 13.6-3-14.5-3 14.5-5.2-13.6L14 25 6.5 13.5 9 26zM9 26c0 2 1.5 2 2.5 4 1 1.5 1 1 .5 3.5-1.5 1-1.5 2.5-1.5 2.5-1.5 1.5.5 2.5.5 2.5 6.5 1 16.5 1 23 0 0 0 1.5-1 0-2.5 0 0 .5-1.5-1-2.5-.5-2.5-.5-2 .5-3.5 1-2 2.5-2 2.5-4-8.5-1.5-18.5-1.5-27 0z\" stroke-linecap=\"butt\" /><path d=\"M11 38.5a35 35 1 0 0 23 0\" fill=\"none\" stroke-linecap=\"butt\" /><path d=\"M11 29a35 35 1 0 1 23 0M12.5 31.5h20M11.5 34.5a35 35 1 0 0 22 0M10.5 37.5a35 35 1 0 0 24 0\" fill=\"none\" stroke=\"#fff\" /></g><g id=\"black-king\" class=\"black king\" fill=\"none\" fill-rule=\"evenodd\" stroke=\"#000\" stroke-width=\"1.5\" stroke-linecap=\"round\" stroke-linejoin=\"round\"><path d=\"M22.5 11.63V6\" stroke-linejoin=\"miter\" /><path d=\"M22.5 25s4.5-7.5 3-10.5c0 0-1-2.5-3-2.5s-3 2.5-3 2.5c-1.5 3 3 10.5 3 10.5\" fill=\"#000\" stroke-linecap=\"butt\" stroke-linejoin=\"miter\" /><path d=\"M11.5 37c5.5 3.5 15.5 3.5 21 0v-7s9-4.5 6-10.5c-4-6.5-13.5-3.5-16 4V27v-3.5c-3.5-7.5-13-10.5-16-4-3 6 5 10 5 10V37z\" fill=\"#000\" /><path d=\"M20 8h5\" stroke-linejoin=\"miter\" /><path d=\"M32 29.5s8.5-4 6.03-9.65C34.15 14 25 18 22.5 24.5l.01 2.1-.01-2.1C20 18 9.906 14 6.997 19.85c-2.497 5.65 4.853 9 4.853 9M11.5 30c5.5-3 15.5-3 21 0m-21 3.5c5.5-3 15.5-3 21 0m-21 3.5c5.5-3 15.5-3 21 0\" stroke=\"#fff\" /></g></defs><rect x=\"0\" y=\"0\" width=\"390\" height=\"390\" fill=\"#212121\" /><g transform=\"translate(20, 0) scale(0.75, 0.75)\" fill=\"#e5e5e5\" stroke=\"#e5e5e5\"><path d=\"M23.328 10.016q-1.742 0-2.414.398-.672.398-.672 1.36 0 .765.5 1.218.508.445 1.375.445 1.196 0 1.914-.843.727-.852.727-2.258v-.32zm2.867-.594v4.992h-1.437v-1.328q-.492.797-1.227 1.18-.734.375-1.797.375-1.343 0-2.14-.75-.79-.758-.79-2.024 0-1.476.985-2.226.992-.75 2.953-.75h2.016V8.75q0-.992-.656-1.531-.649-.547-1.829-.547-.75 0-1.46.18-.711.18-1.368.539V6.062q.79-.304 1.532-.453.742-.156 1.445-.156 1.898 0 2.836.984.937.985.937 2.985z\" /></g><g transform=\"translate(20, 375) scale(0.75, 0.75)\" fill=\"#e5e5e5\" stroke=\"#e5e5e5\"><path d=\"M23.328 10.016q-1.742 0-2.414.398-.672.398-.672 1.36 0 .765.5 1.218.508.445 1.375.445 1.196 0 1.914-.843.727-.852.727-2.258v-.32zm2.867-.594v4.992h-1.437v-1.328q-.492.797-1.227 1.18-.734.375-1.797.375-1.343 0-2.14-.75-.79-.758-.79-2.024 0-1.476.985-2.226.992-.75 2.953-.75h2.016V8.75q0-.992-.656-1.531-.649-.547-1.829-.547-.75 0-1.46.18-.711.18-1.368.539V6.062q.79-.304 1.532-.453.742-.156 1.445-.156 1.898 0 2.836.984.937.985.937 2.985z\" /></g><g transform=\"translate(65, 0) scale(0.75, 0.75)\" fill=\"#e5e5e5\" stroke=\"#e5e5e5\"><path d=\"M24.922 10.047q0-1.586-.656-2.485-.649-.906-1.79-.906-1.14 0-1.796.906-.649.899-.649 2.485 0 1.586.649 2.492.656.898 1.797.898 1.14 0 1.789-.898.656-.906.656-2.492zm-4.89-3.055q.452-.781 1.14-1.156.695-.383 1.656-.383 1.594 0 2.586 1.266 1 1.265 1 3.328 0 2.062-1 3.328-.992 1.266-2.586 1.266-.96 0-1.656-.375-.688-.383-1.14-1.164v1.312h-1.446V2.258h1.445z\" /></g><g transform=\"translate(65, 375) scale(0.75, 0.75)\" fill=\"#e5e5e5\" stroke=\"#e5e5e5\"><path d=\"M24.922 10.047q0-1.586-.656-2.485-.649-.906-1.79-.906-1.14 0-1.796.906-.649.899-.649 2.485 0 1.586.649 2.492.656.898 1.797.898 1.14 0 1.789-.898.656-.906.656-2.492zm-4.89-3.055q.452-.781 1.14-1.156.695-.383 1.656-.383 1.594 0 2.586 1.266 1 1.265 1 3.328 0 2.062-1 3.328-.992 1.266-2.586 1.266-.96 0-1.656-.375-.688-.383-1.14-1.164v1.312h-1.446V2.258h1.445z\" /></g><g transform=\"translate(110, 0) scale(0.75, 0.75)\" fill=\"#e5e5e5\" stroke=\"#e5e5e5\"><path d=\"M25.96 6v1.344q-.608-.336-1.226-.5-.609-.172-1.234-.172-1.398 0-2.172.89-.773.883-.773 2.485 0 1.601.773 2.492.774.883 2.172.883.625 0 1.234-.164.618-.172 1.227-.508v1.328q-.602.281-1.25.422-.64.14-1.367.14-1.977 0-3.14-1.242-1.165-1.242-1.165-3.351 0-2.14 1.172-3.367 1.18-1.227 3.227-1.227.664 0 1.296.14.633.134 1.227.407z\" /></g><g transform=\"translate(110, 375) scale(0.75, 0.75)\" fill=\"#e5e5e5\" stroke=\"#e5e5e5\"><path d=\"M25.96 6v1.344q-.608-.336-1.226-.5-.609-.172-1.234-.172-1.398 0-2.172.89-.773.883-.773 2.485 0 1.601.773 2.492.774.883 2.172.883.625 0 1.234-.164.618-.172 1.227-.508v1.328q-.602.281-1.25.422-.64.14-1.367.14-1.977 0-3.14-1.242-1.165-1.242-1.165-3.351 0-2.14 1.172-3.367 1.18-1.227 3.227-1.227.664 0 1.296.14.633.134 1.227.407z\" /></g><g transform=\"translate(155, 0) scale(0.75, 0.75)\" fill=\"#e5e5e5\" stroke=\"#e5e5e5\"><path d=\"M24.973 6.992V2.258h1.437v12.156h-1.437v-1.312q-.453.78-1.149 1.164-.687.375-1.656.375-1.586 0-2.586-1.266-.992-1.266-.992-3.328 0-2.063.992-3.328 1-1.266 2.586-1.266.969 0 1.656.383.696.375 1.149 1.156zm-4.899 3.055q0 1.586.649 2.492.656.898 1.797.898 1.14 0 1.796-.898.657-.906.657-2.492 0-1.586-.657-2.485-.656-.906-1.796-.906-1.141 0-1.797.906-.649.899-.649 2.485z\" /></g><g transform=\"translate(155, 375) scale(0.75, 0.75)\" fill=\"#e5e5e5\" stroke=\"#e5e5e5\"><path d=\"M24.973 6.992V2.258h1.437v12.156h-1.437v-1.312q-.453.78-1.149 1.164-.687.375-1.656.375-1.586 0-2.586-1.266-.992-1.266-.992-3.328 0-2.063.992-3.328 1-1.266 2.586-1.266.969 0 1.656.383.696.375 1.149 1.156zm-4.899 3.055q0 1.586.649 2.492.656.898 1.797.898 1.14 0 1.796-.898.657-.906.657-2.492 0-1.586-.657-2.485-.656-.906-1.796-.906-1.141 0-1.797.906-.649.899-.649 2.485z\" /></g><g transform=\"translate(200, 0) scale(0.75, 0.75)\" fill=\"#e5e5e5\" stroke=\"#e5e5e5\"><path d=\"M26.555 9.68v.703h-6.61q.094 1.484.89 2.265.806.774 2.235.774.828 0 1.602-.203.781-.203 1.547-.61v1.36q-.774.328-1.586.5-.813.172-1.649.172-2.093 0-3.32-1.22-1.219-1.218-1.219-3.296 0-2.148 1.157-3.406 1.164-1.266 3.132-1.266 1.766 0 2.79 1.14 1.03 1.134 1.03 3.087zm-1.438-.422q-.015-1.18-.664-1.883-.64-.703-1.703-.703-1.203 0-1.93.68-.718.68-.828 1.914z\" /></g><g transform=\"translate(200, 375) scale(0.75, 0.75)\" fill=\"#e5e5e5\" stroke=\"#e5e5e5\"><path d=\"M26.555 9.68v.703h-6.61q.094 1.484.89 2.265.806.774 2.235.774.828 0 1.602-.203.781-.203 1.547-.61v1.36q-.774.328-1.586.5-.813.172-1.649.172-2.093 0-3.32-1.22-1.219-1.218-1.219-3.296 0-2.148 1.157-3.406 1.164-1.266 3.132-1.266 1.766 0 2.79 1.14 1.03 1.134 1.03 3.087zm-1.438-.422q-.015-1.18-.664-1.883-.64-.703-1.703-.703-1.203 0-1.93.68-.718.68-.828 1.914z\" /></g><g transform=\"translate(245, 0) scale(0.75, 0.75)\" fill=\"#e5e5e5\" stroke=\"#e5e5e5\"><path d=\"M25.285 2.258v1.195H23.91q-.773 0-1.078.313-.297.312-.297 1.125v.773h2.367v1.117h-2.367v7.633H21.09V6.781h-1.375V5.664h1.375v-.61q0-1.46.68-2.124.68-.672 2.156-.672z\" /></g><g transform=\"translate(245, 375) scale(0.75, 0.75)\" fill=\"#e5e5e5\" stroke=\"#e5e5e5\"><path d=\"M25.285 2.258v1.195H23.91q-.773 0-1.078.313-.297.312-.297 1.125v.773h2.367v1.117h-2.367v7.633H21.09V6.781h-1.375V5.664h1.375v-.61q0-1.46.68-2.124.68-.672 2.156-.672z\" /></g><g transform=\"translate(290, 0) scale(0.75, 0.75)\" fill=\"#e5e5e5\" stroke=\"#e5e5e5\"><path d=\"M24.973 9.937q0-1.562-.649-2.421-.64-.86-1.804-.86-1.157 0-1.805.86-.64.859-.64 2.421 0 1.555.64 2.415.648.859 1.805.859 1.164 0 1.804-.86.649-.859.649-2.414zm1.437 3.391q0 2.234-.992 3.32-.992 1.094-3.04 1.094-.757 0-1.429-.117-.672-.11-1.304-.344v-1.398q.632.344 1.25.508.617.164 1.257.164 1.414 0 2.118-.743.703-.734.703-2.226v-.711q-.446.773-1.141 1.156-.695.383-1.664.383-1.61 0-2.594-1.227-.984-1.226-.984-3.25 0-2.03.984-3.257.985-1.227 2.594-1.227.969 0 1.664.383t1.14 1.156V5.664h1.438z\" /></g><g transform=\"translate(290, 375) scale(0.75, 0.75)\" fill=\"#e5e5e5\" stroke=\"#e5e5e5\"><path d=\"M24.973 9.937q0-1.562-.649-2.421-.64-.86-1.804-.86-1.157 0-1.805.86-.64.859-.64 2.421 0 1.555.64 2.415.648.859 1.805.859 1.164 0 1.804-.86.649-.859.649-2.414zm1.437 3.391q0 2.234-.992 3.32-.992 1.094-3.04 1.094-.757 0-1.429-.117-.672-.11-1.304-.344v-1.398q.632.344 1.25.508.617.164 1.257.164 1.414 0 2.118-.743.703-.734.703-2.226v-.711q-.446.773-1.141 1.156-.695.383-1.664.383-1.61 0-2.594-1.227-.984-1.226-.984-3.25 0-2.03.984-3.257.985-1.227 2.594-1.227.969 0 1.664.383t1.14 1.156V5.664h1.438z\" /></g><g transform=\"translate(335, 0) scale(0.75, 0.75)\" fill=\"#e5e5e5\" stroke=\"#e5e5e5\"><path d=\"M26.164 9.133v5.281h-1.437V9.18q0-1.243-.485-1.86-.484-.617-1.453-.617-1.164 0-1.836.742-.672.742-.672 2.024v4.945h-1.445V2.258h1.445v4.765q.516-.789 1.211-1.18.703-.39 1.617-.39 1.508 0 2.282.938.773.93.773 2.742z\" /></g><g transform=\"translate(335, 375) scale(0.75, 0.75)\" fill=\"#e5e5e5\" stroke=\"#e5e5e5\"><path d=\"M26.164 9.133v5.281h-1.437V9.18q0-1.243-.485-1.86-.484-.617-1.453-.617-1.164 0-1.836.742-.672.742-.672 2.024v4.945h-1.445V2.258h1.445v4.765q.516-.789 1.211-1.18.703-.39 1.617-.39 1.508 0 2.282.938.773.93.773 2.742z\" /></g><g transform=\"translate(0, 335) scale(0.75, 0.75)\" fill=\"#e5e5e5\" stroke=\"#e5e5e5\"><path d=\"M6.754 26.996h2.578v-8.898l-2.805.562v-1.437l2.79-.563h1.578v10.336h2.578v1.328h-6.72z\" /></g><g transform=\"translate(375, 335) scale(0.75, 0.75)\" fill=\"#e5e5e5\" stroke=\"#e5e5e5\"><path d=\"M6.754 26.996h2.578v-8.898l-2.805.562v-1.437l2.79-.563h1.578v10.336h2.578v1.328h-6.72z\" /></g><g transform=\"translate(0, 290) scale(0.75, 0.75)\" fill=\"#e5e5e5\" stroke=\"#e5e5e5\"><path d=\"M8.195 26.996h5.508v1.328H6.297v-1.328q.898-.93 2.445-2.492 1.555-1.57 1.953-2.024.758-.851 1.055-1.437.305-.594.305-1.164 0-.93-.657-1.516-.648-.586-1.695-.586-.742 0-1.57.258-.82.258-1.758.781v-1.593q.953-.383 1.781-.578.828-.196 1.516-.196 1.812 0 2.89.906 1.079.907 1.079 2.422 0 .72-.274 1.368-.265.64-.976 1.515-.196.227-1.243 1.313-1.046 1.078-2.953 3.023z\" /></g><g transform=\"translate(375, 290) scale(0.75, 0.75)\" fill=\"#e5e5e5\" stroke=\"#e5e5e5\"><path d=\"M8.195 26.996h5.508v1.328H6.297v-1.328q.898-.93 2.445-2.492 1.555-1.57 1.953-2.024.758-.851 1.055-1.437.305-.594.305-1.164 0-.93-.657-1.516-.648-.586-1.695-.586-.742 0-1.57.258-.82.258-1.758.781v-1.593q.953-.383 1.781-.578.828-.196 1.516-.196 1.812 0 2.89.906 1.079.907 1.079 2.422 0 .72-.274 1.368-.265.64-.976 1.515-.196.227-1.243 1.313-1.046 1.078-2.953 3.023z\" /></g><g transform=\"translate(0, 245) scale(0.75, 0.75)\" fill=\"#e5e5e5\" stroke=\"#e5e5e5\"><path d=\"M11.434 22.035q1.132.242 1.765 1.008.64.766.64 1.89 0 1.727-1.187 2.672-1.187.946-3.375.946-.734 0-1.515-.149-.774-.14-1.602-.43V26.45q.656.383 1.438.578.78.196 1.632.196 1.485 0 2.258-.586.782-.586.782-1.703 0-1.032-.727-1.61-.719-.586-2.008-.586h-1.36v-1.297h1.423q1.164 0 1.78-.46.618-.47.618-1.344 0-.899-.64-1.375-.633-.485-1.82-.485-.65 0-1.391.141-.743.14-1.633.437V16.95q.898-.25 1.68-.375.788-.125 1.484-.125 1.797 0 2.844.82 1.046.813 1.046 2.204 0 .968-.554 1.64-.555.664-1.578.922z\" /></g><g transform=\"translate(375, 245) scale(0.75, 0.75)\" fill=\"#e5e5e5\" stroke=\"#e5e5e5\"><path d=\"M11.434 22.035q1.132.242 1.765 1.008.64.766.64 1.89 0 1.727-1.187 2.672-1.187.946-3.375.946-.734 0-1.515-.149-.774-.14-1.602-.43V26.45q.656.383 1.438.578.78.196 1.632.196 1.485 0 2.258-.586.782-.586.782-1.703 0-1.032-.727-1.61-.719-.586-2.008-.586h-1.36v-1.297h1.423q1.164 0 1.78-.46.618-.47.618-1.344 0-.899-.64-1.375-.633-.485-1.82-.485-.65 0-1.391.141-.743.14-1.633.437V16.95q.898-.25 1.68-.375.788-.125 1.484-.125 1.797 0 2.844.82 1.046.813 1.046 2.204 0 .968-.554 1.64-.555.664-1.578.922z\" /></g><g transform=\"translate(0, 200) scale(0.75, 0.75)\" fill=\"#e5e5e5\" stroke=\"#e5e5e5\"><path d=\"M11.016 18.035L7.03 24.262h3.985zm-.414-1.375h1.984v7.602h1.664v1.312h-1.664v2.75h-1.57v-2.75H5.75v-1.523z\" /></g><g transform=\"translate(375, 200) scale(0.75, 0.75)\" fill=\"#e5e5e5\" stroke=\"#e5e5e5\"><path d=\"M11.016 18.035L7.03 24.262h3.985zm-.414-1.375h1.984v7.602h1.664v1.312h-1.664v2.75h-1.57v-2.75H5.75v-1.523z\" /></g><g transform=\"translate(0, 155) scale(0.75, 0.75)\" fill=\"#e5e5e5\" stroke=\"#e5e5e5\"><path d=\"M6.719 16.66h6.195v1.328h-4.75v2.86q.344-.118.688-.172.343-.063.687-.063 1.953 0 3.094 1.07 1.14 1.07 1.14 2.899 0 1.883-1.171 2.93-1.172 1.039-3.305 1.039-.735 0-1.5-.125-.758-.125-1.57-.375v-1.586q.703.383 1.453.57.75.188 1.586.188 1.351 0 2.14-.711.79-.711.79-1.93 0-1.219-.79-1.93-.789-.71-2.14-.71-.633 0-1.266.14-.625.14-1.281.438z\" /></g><g transform=\"translate(375, 155) scale(0.75, 0.75)\" fill=\"#e5e5e5\" stroke=\"#e5e5e5\"><path d=\"M6.719 16.66h6.195v1.328h-4.75v2.86q.344-.118.688-.172.343-.063.687-.063 1.953 0 3.094 1.07 1.14 1.07 1.14 2.899 0 1.883-1.171 2.93-1.172 1.039-3.305 1.039-.735 0-1.5-.125-.758-.125-1.57-.375v-1.586q.703.383 1.453.57.75.188 1.586.188 1.351 0 2.14-.711.79-.711.79-1.93 0-1.219-.79-1.93-.789-.71-2.14-.71-.633 0-1.266.14-.625.14-1.281.438z\" /></g><g transform=\"translate(0, 110) scale(0.75, 0.75)\" fill=\"#e5e5e5\" stroke=\"#e5e5e5\"><path d=\"M10.137 21.863q-1.063 0-1.688.727-.617.726-.617 1.992 0 1.258.617 1.992.625.727 1.688.727 1.062 0 1.68-.727.624-.734.624-1.992 0-1.266-.625-1.992-.617-.727-1.68-.727zm3.133-4.945v1.437q-.594-.28-1.204-.43-.601-.148-1.195-.148-1.562 0-2.39 1.055-.82 1.055-.938 3.188.46-.68 1.156-1.04.696-.367 1.531-.367 1.758 0 2.774 1.07 1.023 1.063 1.023 2.899 0 1.797-1.062 2.883-1.063 1.086-2.828 1.086-2.024 0-3.094-1.547-1.07-1.555-1.07-4.5 0-2.766 1.312-4.406 1.313-1.649 3.524-1.649.593 0 1.195.117.61.118 1.266.352z\" /></g><g transform=\"translate(375, 110) scale(0.75, 0.75)\" fill=\"#e5e5e5\" stroke=\"#e5e5e5\"><path d=\"M10.137 21.863q-1.063 0-1.688.727-.617.726-.617 1.992 0 1.258.617 1.992.625.727 1.688.727 1.062 0 1.68-.727.624-.734.624-1.992 0-1.266-.625-1.992-.617-.727-1.68-.727zm3.133-4.945v1.437q-.594-.28-1.204-.43-.601-.148-1.195-.148-1.562 0-2.39 1.055-.82 1.055-.938 3.188.46-.68 1.156-1.04.696-.367 1.531-.367 1.758 0 2.774 1.07 1.023 1.063 1.023 2.899 0 1.797-1.062 2.883-1.063 1.086-2.828 1.086-2.024 0-3.094-1.547-1.07-1.555-1.07-4.5 0-2.766 1.312-4.406 1.313-1.649 3.524-1.649.593 0 1.195.117.61.118 1.266.352z\" /></g><g transform=\"translate(0, 65) scale(0.75, 0.75)\" fill=\"#e5e5e5\" stroke=\"#e5e5e5\"><path d=\"M6.25 16.66h7.5v.672L9.516 28.324H7.867l3.985-10.336H6.25z\" /></g><g transform=\"translate(375, 65) scale(0.75, 0.75)\" fill=\"#e5e5e5\" stroke=\"#e5e5e5\"><path d=\"M6.25 16.66h7.5v.672L9.516 28.324H7.867l3.985-10.336H6.25z\" /></g><g transform=\"translate(0, 20) scale(0.75, 0.75)\" fill=\"#e5e5e5\" stroke=\"#e5e5e5\"><path d=\"M10 22.785q-1.125 0-1.773.602-.641.601-.641 1.656t.64 1.656q.649.602 1.774.602t1.773-.602q.649-.61.649-1.656 0-1.055-.649-1.656-.64-.602-1.773-.602zm-1.578-.672q-1.016-.25-1.586-.945-.563-.695-.563-1.695 0-1.399.993-2.211 1-.813 2.734-.813 1.742 0 2.734.813.993.812.993 2.21 0 1-.57 1.696-.563.695-1.571.945 1.14.266 1.773 1.04.641.773.641 1.89 0 1.695-1.04 2.602-1.03.906-2.96.906t-2.969-.906Q6 26.738 6 25.043q0-1.117.64-1.89.641-.774 1.782-1.04zm-.578-2.492q0 .906.562 1.414.57.508 1.594.508 1.016 0 1.586-.508.578-.508.578-1.414 0-.906-.578-1.414-.57-.508-1.586-.508-1.023 0-1.594.508-.562.508-.562 1.414z\" /></g><g transform=\"translate(375, 20) scale(0.75, 0.75)\" fill=\"#e5e5e5\" stroke=\"#e5e5e5\"><path d=\"M10 22.785q-1.125 0-1.773.602-.641.601-.641 1.656t.64 1.656q.649.602 1.774.602t1.773-.602q.649-.61.649-1.656 0-1.055-.649-1.656-.64-.602-1.773-.602zm-1.578-.672q-1.016-.25-1.586-.945-.563-.695-.563-1.695 0-1.399.993-2.211 1-.813 2.734-.813 1.742 0 2.734.813.993.812.993 2.21 0 1-.57 1.696-.563.695-1.571.945 1.14.266 1.773 1.04.641.773.641 1.89 0 1.695-1.04 2.602-1.03.906-2.96.906t-2.969-.906Q6 26.738 6 25.043q0-1.117.64-1.89.641-.774 1.782-1.04zm-.578-2.492q0 .906.562 1.414.57.508 1.594.508 1.016 0 1.586-.508.578-.508.578-1.414 0-.906-.578-1.414-.57-.508-1.586-.508-1.023 0-1.594.508-.562.508-.562 1.414z\" /></g><rect x=\"15\" y=\"330\" width=\"45\" height=\"45\" class=\"square dark a1\" stroke=\"none\" fill=\"#d18b47\" /><rect x=\"60\" y=\"330\" width=\"45\" height=\"45\" class=\"square light b1\" stroke=\"none\" fill=\"#ffce9e\" /><rect x=\"105\" y=\"330\" width=\"45\" height=\"45\" class=\"square dark c1\" stroke=\"none\" fill=\"#d18b47\" /><rect x=\"150\" y=\"330\" width=\"45\" height=\"45\" class=\"square light d1\" stroke=\"none\" fill=\"#ffce9e\" /><rect x=\"195\" y=\"330\" width=\"45\" height=\"45\" class=\"square dark e1\" stroke=\"none\" fill=\"#d18b47\" /><rect x=\"240\" y=\"330\" width=\"45\" height=\"45\" class=\"square light f1\" stroke=\"none\" fill=\"#ffce9e\" /><rect x=\"285\" y=\"330\" width=\"45\" height=\"45\" class=\"square dark g1\" stroke=\"none\" fill=\"#d18b47\" /><rect x=\"330\" y=\"330\" width=\"45\" height=\"45\" class=\"square light h1\" stroke=\"none\" fill=\"#ffce9e\" /><rect x=\"15\" y=\"285\" width=\"45\" height=\"45\" class=\"square light a2\" stroke=\"none\" fill=\"#ffce9e\" /><rect x=\"60\" y=\"285\" width=\"45\" height=\"45\" class=\"square dark b2\" stroke=\"none\" fill=\"#d18b47\" /><rect x=\"105\" y=\"285\" width=\"45\" height=\"45\" class=\"square light c2\" stroke=\"none\" fill=\"#ffce9e\" /><rect x=\"150\" y=\"285\" width=\"45\" height=\"45\" class=\"square dark d2\" stroke=\"none\" fill=\"#d18b47\" /><rect x=\"195\" y=\"285\" width=\"45\" height=\"45\" class=\"square light e2\" stroke=\"none\" fill=\"#ffce9e\" /><rect x=\"240\" y=\"285\" width=\"45\" height=\"45\" class=\"square dark f2\" stroke=\"none\" fill=\"#d18b47\" /><rect x=\"285\" y=\"285\" width=\"45\" height=\"45\" class=\"square light g2\" stroke=\"none\" fill=\"#ffce9e\" /><rect x=\"330\" y=\"285\" width=\"45\" height=\"45\" class=\"square dark h2\" stroke=\"none\" fill=\"#d18b47\" /><rect x=\"15\" y=\"240\" width=\"45\" height=\"45\" class=\"square dark a3\" stroke=\"none\" fill=\"#d18b47\" /><rect x=\"60\" y=\"240\" width=\"45\" height=\"45\" class=\"square light b3\" stroke=\"none\" fill=\"#ffce9e\" /><rect x=\"105\" y=\"240\" width=\"45\" height=\"45\" class=\"square dark c3\" stroke=\"none\" fill=\"#d18b47\" /><rect x=\"150\" y=\"240\" width=\"45\" height=\"45\" class=\"square light d3\" stroke=\"none\" fill=\"#ffce9e\" /><rect x=\"195\" y=\"240\" width=\"45\" height=\"45\" class=\"square dark e3\" stroke=\"none\" fill=\"#d18b47\" /><rect x=\"240\" y=\"240\" width=\"45\" height=\"45\" class=\"square light f3\" stroke=\"none\" fill=\"#ffce9e\" /><rect x=\"285\" y=\"240\" width=\"45\" height=\"45\" class=\"square dark g3\" stroke=\"none\" fill=\"#d18b47\" /><rect x=\"330\" y=\"240\" width=\"45\" height=\"45\" class=\"square light h3\" stroke=\"none\" fill=\"#ffce9e\" /><rect x=\"15\" y=\"195\" width=\"45\" height=\"45\" class=\"square light a4\" stroke=\"none\" fill=\"#ffce9e\" /><rect x=\"60\" y=\"195\" width=\"45\" height=\"45\" class=\"square dark b4\" stroke=\"none\" fill=\"#d18b47\" /><rect x=\"105\" y=\"195\" width=\"45\" height=\"45\" class=\"square light c4\" stroke=\"none\" fill=\"#ffce9e\" /><rect x=\"150\" y=\"195\" width=\"45\" height=\"45\" class=\"square dark d4\" stroke=\"none\" fill=\"#d18b47\" /><rect x=\"195\" y=\"195\" width=\"45\" height=\"45\" class=\"square light e4\" stroke=\"none\" fill=\"#ffce9e\" /><rect x=\"240\" y=\"195\" width=\"45\" height=\"45\" class=\"square dark f4\" stroke=\"none\" fill=\"#d18b47\" /><rect x=\"285\" y=\"195\" width=\"45\" height=\"45\" class=\"square light g4\" stroke=\"none\" fill=\"#ffce9e\" /><rect x=\"330\" y=\"195\" width=\"45\" height=\"45\" class=\"square dark h4\" stroke=\"none\" fill=\"#d18b47\" /><rect x=\"15\" y=\"150\" width=\"45\" height=\"45\" class=\"square dark a5\" stroke=\"none\" fill=\"#d18b47\" /><rect x=\"60\" y=\"150\" width=\"45\" height=\"45\" class=\"square light lastmove b5\" stroke=\"none\" fill=\"#cdd16a\" /><rect x=\"105\" y=\"150\" width=\"45\" height=\"45\" class=\"square dark c5\" stroke=\"none\" fill=\"#d18b47\" /><rect x=\"150\" y=\"150\" width=\"45\" height=\"45\" class=\"square light d5\" stroke=\"none\" fill=\"#ffce9e\" /><rect x=\"195\" y=\"150\" width=\"45\" height=\"45\" class=\"square dark e5\" stroke=\"none\" fill=\"#d18b47\" /><rect x=\"240\" y=\"150\" width=\"45\" height=\"45\" class=\"square light f5\" stroke=\"none\" fill=\"#ffce9e\" /><rect x=\"285\" y=\"150\" width=\"45\" height=\"45\" class=\"square dark g5\" stroke=\"none\" fill=\"#d18b47\" /><rect x=\"330\" y=\"150\" width=\"45\" height=\"45\" class=\"square light h5\" stroke=\"none\" fill=\"#ffce9e\" /><rect x=\"15\" y=\"105\" width=\"45\" height=\"45\" class=\"square light a6\" stroke=\"none\" fill=\"#ffce9e\" /><rect x=\"60\" y=\"105\" width=\"45\" height=\"45\" class=\"square dark b6\" stroke=\"none\" fill=\"#d18b47\" /><rect x=\"105\" y=\"105\" width=\"45\" height=\"45\" class=\"square light c6\" stroke=\"none\" fill=\"#ffce9e\" /><rect x=\"150\" y=\"105\" width=\"45\" height=\"45\" class=\"square dark d6\" stroke=\"none\" fill=\"#d18b47\" /><rect x=\"195\" y=\"105\" width=\"45\" height=\"45\" class=\"square light e6\" stroke=\"none\" fill=\"#ffce9e\" /><rect x=\"240\" y=\"105\" width=\"45\" height=\"45\" class=\"square dark f6\" stroke=\"none\" fill=\"#d18b47\" /><rect x=\"285\" y=\"105\" width=\"45\" height=\"45\" class=\"square light g6\" stroke=\"none\" fill=\"#ffce9e\" /><rect x=\"330\" y=\"105\" width=\"45\" height=\"45\" class=\"square dark h6\" stroke=\"none\" fill=\"#d18b47\" /><rect x=\"15\" y=\"60\" width=\"45\" height=\"45\" class=\"square dark a7\" stroke=\"none\" fill=\"#d18b47\" /><rect x=\"60\" y=\"60\" width=\"45\" height=\"45\" class=\"square light b7\" stroke=\"none\" fill=\"#ffce9e\" /><rect x=\"105\" y=\"60\" width=\"45\" height=\"45\" class=\"square dark c7\" stroke=\"none\" fill=\"#d18b47\" /><rect x=\"150\" y=\"60\" width=\"45\" height=\"45\" class=\"square light lastmove d7\" stroke=\"none\" fill=\"#cdd16a\" /><rect x=\"195\" y=\"60\" width=\"45\" height=\"45\" class=\"square dark e7\" stroke=\"none\" fill=\"#d18b47\" /><rect x=\"240\" y=\"60\" width=\"45\" height=\"45\" class=\"square light f7\" stroke=\"none\" fill=\"#ffce9e\" /><rect x=\"285\" y=\"60\" width=\"45\" height=\"45\" class=\"square dark g7\" stroke=\"none\" fill=\"#d18b47\" /><rect x=\"330\" y=\"60\" width=\"45\" height=\"45\" class=\"square light h7\" stroke=\"none\" fill=\"#ffce9e\" /><rect x=\"15\" y=\"15\" width=\"45\" height=\"45\" class=\"square light a8\" stroke=\"none\" fill=\"#ffce9e\" /><rect x=\"60\" y=\"15\" width=\"45\" height=\"45\" class=\"square dark b8\" stroke=\"none\" fill=\"#d18b47\" /><rect x=\"105\" y=\"15\" width=\"45\" height=\"45\" class=\"square light c8\" stroke=\"none\" fill=\"#ffce9e\" /><rect x=\"150\" y=\"15\" width=\"45\" height=\"45\" class=\"square dark d8\" stroke=\"none\" fill=\"#d18b47\" /><rect x=\"195\" y=\"15\" width=\"45\" height=\"45\" class=\"square light e8\" stroke=\"none\" fill=\"#ffce9e\" /><rect x=\"240\" y=\"15\" width=\"45\" height=\"45\" class=\"square dark f8\" stroke=\"none\" fill=\"#d18b47\" /><rect x=\"285\" y=\"15\" width=\"45\" height=\"45\" class=\"square light g8\" stroke=\"none\" fill=\"#ffce9e\" /><rect x=\"330\" y=\"15\" width=\"45\" height=\"45\" class=\"square dark h8\" stroke=\"none\" fill=\"#d18b47\" /><use href=\"#white-rook\" xlink:href=\"#white-rook\" transform=\"translate(60, 330)\" /><use href=\"#white-rook\" xlink:href=\"#white-rook\" transform=\"translate(195, 330)\" /><use href=\"#white-king\" xlink:href=\"#white-king\" transform=\"translate(285, 330)\" /><use href=\"#white-bishop\" xlink:href=\"#white-bishop\" transform=\"translate(15, 285)\" /><use href=\"#white-bishop\" xlink:href=\"#white-bishop\" transform=\"translate(60, 285)\" /><use href=\"#white-pawn\" xlink:href=\"#white-pawn\" transform=\"translate(240, 285)\" /><use href=\"#white-pawn\" xlink:href=\"#white-pawn\" transform=\"translate(285, 285)\" /><use href=\"#white-pawn\" xlink:href=\"#white-pawn\" transform=\"translate(330, 285)\" /><use href=\"#white-pawn\" xlink:href=\"#white-pawn\" transform=\"translate(60, 195)\" /><use href=\"#white-queen\" xlink:href=\"#white-queen\" transform=\"translate(150, 195)\" /><use href=\"#white-pawn\" xlink:href=\"#white-pawn\" transform=\"translate(150, 150)\" /><use href=\"#black-pawn\" xlink:href=\"#black-pawn\" transform=\"translate(15, 105)\" /><use href=\"#black-knight\" xlink:href=\"#black-knight\" transform=\"translate(60, 105)\" /><use href=\"#black-pawn\" xlink:href=\"#black-pawn\" transform=\"translate(150, 105)\" /><use href=\"#black-pawn\" xlink:href=\"#black-pawn\" transform=\"translate(330, 105)\" /><use href=\"#black-bishop\" xlink:href=\"#black-bishop\" transform=\"translate(60, 60)\" /><use href=\"#black-pawn\" xlink:href=\"#black-pawn\" transform=\"translate(105, 60)\" /><use href=\"#black-queen\" xlink:href=\"#black-queen\" transform=\"translate(150, 60)\" /><use href=\"#black-pawn\" xlink:href=\"#black-pawn\" transform=\"translate(240, 60)\" /><use href=\"#black-pawn\" xlink:href=\"#black-pawn\" transform=\"translate(285, 60)\" /><use href=\"#black-rook\" xlink:href=\"#black-rook\" transform=\"translate(15, 15)\" /><use href=\"#black-rook\" xlink:href=\"#black-rook\" transform=\"translate(240, 15)\" /><use href=\"#black-king\" xlink:href=\"#black-king\" transform=\"translate(285, 15)\" /></svg>"
      ],
      "text/plain": [
       "Board('r4rk1/1bpq1pp1/pn1p3p/3P4/1P1Q4/8/BB3PPP/1R2R1K1 w - - 3 24')"
      ]
     },
     "execution_count": 30,
     "metadata": {},
     "output_type": "execute_result"
    }
   ],
   "source": [
    "#Initialize a new board\n",
    "board = chess.Board()\n",
    "\n",
    "#Make all but the last move of the game\n",
    "for move in moves[:len(moves)-1]:\n",
    "    board.push_san(move)\n",
    "    \n",
    "board"
   ]
  },
  {
   "cell_type": "code",
   "execution_count": 31,
   "id": "bea13159-7cb7-4375-a39e-bd21f884ba72",
   "metadata": {},
   "outputs": [
    {
     "data": {
      "text/plain": [
       "'r4rk1/1bpq1pp1/pn1p3p/3P4/1P1Q4/8/BB3PPP/1R2R1K1 w - - 3 24'"
      ]
     },
     "execution_count": 31,
     "metadata": {},
     "output_type": "execute_result"
    }
   ],
   "source": [
    "# Get the FEN string representing the current state of the game\n",
    "fen = board.fen()\n",
    "fen"
   ]
  },
  {
   "cell_type": "code",
   "execution_count": 32,
   "id": "e4a98aa9-21ba-4c1c-9971-e4af60d5aeb6",
   "metadata": {},
   "outputs": [],
   "source": [
    "#Set the position of Stockfish to this board position\n",
    "sf.set_fen_position(fen)"
   ]
  },
  {
   "cell_type": "code",
   "execution_count": 33,
   "id": "d91f5634-cf2f-4311-a0fd-5517dbf3497c",
   "metadata": {},
   "outputs": [
    {
     "data": {
      "text/plain": [
       "[{'Move': 'd4g7', 'Centipawn': None, 'Mate': 1},\n",
       " {'Move': 'e1e7', 'Centipawn': 488, 'Mate': None},\n",
       " {'Move': 'b1c1', 'Centipawn': 97, 'Mate': None},\n",
       " {'Move': 'h2h3', 'Centipawn': 83, 'Mate': None},\n",
       " {'Move': 'b1d1', 'Centipawn': 65, 'Mate': None},\n",
       " {'Move': 'e1e3', 'Centipawn': 48, 'Mate': None},\n",
       " {'Move': 'h2h4', 'Centipawn': 35, 'Mate': None},\n",
       " {'Move': 'b2a1', 'Centipawn': 24, 'Mate': None},\n",
       " {'Move': 'b1a1', 'Centipawn': 19, 'Mate': None},\n",
       " {'Move': 'f2f3', 'Centipawn': 13, 'Mate': None}]"
      ]
     },
     "execution_count": 33,
     "metadata": {},
     "output_type": "execute_result"
    }
   ],
   "source": [
    "#Get the \"top 10\" moves from this position (there may be fewer than 10 legal moves)\n",
    "start = time.time()\n",
    "top_10_moves = sf.get_top_moves(10)\n",
    "end = time.time()\n",
    "\n",
    "top_10_moves"
   ]
  },
  {
   "cell_type": "code",
   "execution_count": 34,
   "id": "7e4dd09c-a265-44c7-a6fb-b652987b86c6",
   "metadata": {},
   "outputs": [
    {
     "data": {
      "text/plain": [
       "3.492755889892578"
      ]
     },
     "execution_count": 34,
     "metadata": {},
     "output_type": "execute_result"
    }
   ],
   "source": [
    "#How many seconds did it take to get these valuations?\n",
    "end - start"
   ]
  },
  {
   "cell_type": "code",
   "execution_count": 35,
   "id": "c7c1aa2f-b7c9-43d3-895c-36aae17324db",
   "metadata": {},
   "outputs": [
    {
     "data": {
      "text/plain": [
       "{'type': 'mate', 'value': 1}"
      ]
     },
     "execution_count": 35,
     "metadata": {},
     "output_type": "execute_result"
    }
   ],
   "source": [
    "#Get the evaluation (in moves until Checkmate) of this position\n",
    "start = time.time()\n",
    "evaluation = sf.get_evaluation()\n",
    "end = time.time()\n",
    "\n",
    "evaluation"
   ]
  },
  {
   "cell_type": "code",
   "execution_count": 36,
   "id": "a6d999f6-6aaf-4090-a3ea-3b3e18a1ba72",
   "metadata": {},
   "outputs": [
    {
     "data": {
      "text/plain": [
       "0.0011229515075683594"
      ]
     },
     "execution_count": 36,
     "metadata": {},
     "output_type": "execute_result"
    }
   ],
   "source": [
    "#How many seconds did it take to get this valuation?\n",
    "end - start"
   ]
  },
  {
   "cell_type": "code",
   "execution_count": 37,
   "id": "41623ee7-cdfa-4d6d-bb62-fbd0883e0eb1",
   "metadata": {},
   "outputs": [
    {
     "data": {
      "image/svg+xml": [
       "<svg xmlns=\"http://www.w3.org/2000/svg\" xmlns:xlink=\"http://www.w3.org/1999/xlink\" version=\"1.2\" baseProfile=\"tiny\" viewBox=\"0 0 390 390\" width=\"390\" height=\"390\"><desc><pre>r . . . . r k .\n",
       ". b p q . p Q .\n",
       "p n . p . . . p\n",
       ". . . P . . . .\n",
       ". P . . . . . .\n",
       ". . . . . . . .\n",
       "B B . . . P P P\n",
       ". R . . R . K .</pre></desc><defs><g id=\"white-pawn\" class=\"white pawn\"><path d=\"M22.5 9c-2.21 0-4 1.79-4 4 0 .89.29 1.71.78 2.38C17.33 16.5 16 18.59 16 21c0 2.03.94 3.84 2.41 5.03-3 1.06-7.41 5.55-7.41 13.47h23c0-7.92-4.41-12.41-7.41-13.47 1.47-1.19 2.41-3 2.41-5.03 0-2.41-1.33-4.5-3.28-5.62.49-.67.78-1.49.78-2.38 0-2.21-1.79-4-4-4z\" fill=\"#fff\" stroke=\"#000\" stroke-width=\"1.5\" stroke-linecap=\"round\" /></g><g id=\"white-bishop\" class=\"white bishop\" fill=\"none\" fill-rule=\"evenodd\" stroke=\"#000\" stroke-width=\"1.5\" stroke-linecap=\"round\" stroke-linejoin=\"round\"><g fill=\"#fff\" stroke-linecap=\"butt\"><path d=\"M9 36c3.39-.97 10.11.43 13.5-2 3.39 2.43 10.11 1.03 13.5 2 0 0 1.65.54 3 2-.68.97-1.65.99-3 .5-3.39-.97-10.11.46-13.5-1-3.39 1.46-10.11.03-13.5 1-1.354.49-2.323.47-3-.5 1.354-1.94 3-2 3-2zM15 32c2.5 2.5 12.5 2.5 15 0 .5-1.5 0-2 0-2 0-2.5-2.5-4-2.5-4 5.5-1.5 6-11.5-5-15.5-11 4-10.5 14-5 15.5 0 0-2.5 1.5-2.5 4 0 0-.5.5 0 2zM25 8a2.5 2.5 0 1 1-5 0 2.5 2.5 0 1 1 5 0z\" /></g><path d=\"M17.5 26h10M15 30h15m-7.5-14.5v5M20 18h5\" stroke-linejoin=\"miter\" /></g><g id=\"white-rook\" class=\"white rook\" fill=\"#fff\" fill-rule=\"evenodd\" stroke=\"#000\" stroke-width=\"1.5\" stroke-linecap=\"round\" stroke-linejoin=\"round\"><path d=\"M9 39h27v-3H9v3zM12 36v-4h21v4H12zM11 14V9h4v2h5V9h5v2h5V9h4v5\" stroke-linecap=\"butt\" /><path d=\"M34 14l-3 3H14l-3-3\" /><path d=\"M31 17v12.5H14V17\" stroke-linecap=\"butt\" stroke-linejoin=\"miter\" /><path d=\"M31 29.5l1.5 2.5h-20l1.5-2.5\" /><path d=\"M11 14h23\" fill=\"none\" stroke-linejoin=\"miter\" /></g><g id=\"white-queen\" class=\"white queen\" fill=\"#fff\" fill-rule=\"evenodd\" stroke=\"#000\" stroke-width=\"1.5\" stroke-linecap=\"round\" stroke-linejoin=\"round\"><path d=\"M8 12a2 2 0 1 1-4 0 2 2 0 1 1 4 0zM24.5 7.5a2 2 0 1 1-4 0 2 2 0 1 1 4 0zM41 12a2 2 0 1 1-4 0 2 2 0 1 1 4 0zM16 8.5a2 2 0 1 1-4 0 2 2 0 1 1 4 0zM33 9a2 2 0 1 1-4 0 2 2 0 1 1 4 0z\" /><path d=\"M9 26c8.5-1.5 21-1.5 27 0l2-12-7 11V11l-5.5 13.5-3-15-3 15-5.5-14V25L7 14l2 12zM9 26c0 2 1.5 2 2.5 4 1 1.5 1 1 .5 3.5-1.5 1-1.5 2.5-1.5 2.5-1.5 1.5.5 2.5.5 2.5 6.5 1 16.5 1 23 0 0 0 1.5-1 0-2.5 0 0 .5-1.5-1-2.5-.5-2.5-.5-2 .5-3.5 1-2 2.5-2 2.5-4-8.5-1.5-18.5-1.5-27 0z\" stroke-linecap=\"butt\" /><path d=\"M11.5 30c3.5-1 18.5-1 22 0M12 33.5c6-1 15-1 21 0\" fill=\"none\" /></g><g id=\"white-king\" class=\"white king\" fill=\"none\" fill-rule=\"evenodd\" stroke=\"#000\" stroke-width=\"1.5\" stroke-linecap=\"round\" stroke-linejoin=\"round\"><path d=\"M22.5 11.63V6M20 8h5\" stroke-linejoin=\"miter\" /><path d=\"M22.5 25s4.5-7.5 3-10.5c0 0-1-2.5-3-2.5s-3 2.5-3 2.5c-1.5 3 3 10.5 3 10.5\" fill=\"#fff\" stroke-linecap=\"butt\" stroke-linejoin=\"miter\" /><path d=\"M11.5 37c5.5 3.5 15.5 3.5 21 0v-7s9-4.5 6-10.5c-4-6.5-13.5-3.5-16 4V27v-3.5c-3.5-7.5-13-10.5-16-4-3 6 5 10 5 10V37z\" fill=\"#fff\" /><path d=\"M11.5 30c5.5-3 15.5-3 21 0m-21 3.5c5.5-3 15.5-3 21 0m-21 3.5c5.5-3 15.5-3 21 0\" /></g><g id=\"black-pawn\" class=\"black pawn\"><path d=\"M22.5 9c-2.21 0-4 1.79-4 4 0 .89.29 1.71.78 2.38C17.33 16.5 16 18.59 16 21c0 2.03.94 3.84 2.41 5.03-3 1.06-7.41 5.55-7.41 13.47h23c0-7.92-4.41-12.41-7.41-13.47 1.47-1.19 2.41-3 2.41-5.03 0-2.41-1.33-4.5-3.28-5.62.49-.67.78-1.49.78-2.38 0-2.21-1.79-4-4-4z\" fill=\"#000\" stroke=\"#000\" stroke-width=\"1.5\" stroke-linecap=\"round\" /></g><g id=\"black-knight\" class=\"black knight\" fill=\"none\" fill-rule=\"evenodd\" stroke=\"#000\" stroke-width=\"1.5\" stroke-linecap=\"round\" stroke-linejoin=\"round\"><path d=\"M 22,10 C 32.5,11 38.5,18 38,39 L 15,39 C 15,30 25,32.5 23,18\" style=\"fill:#000000; stroke:#000000;\" /><path d=\"M 24,18 C 24.38,20.91 18.45,25.37 16,27 C 13,29 13.18,31.34 11,31 C 9.958,30.06 12.41,27.96 11,28 C 10,28 11.19,29.23 10,30 C 9,30 5.997,31 6,26 C 6,24 12,14 12,14 C 12,14 13.89,12.1 14,10.5 C 13.27,9.506 13.5,8.5 13.5,7.5 C 14.5,6.5 16.5,10 16.5,10 L 18.5,10 C 18.5,10 19.28,8.008 21,7 C 22,7 22,10 22,10\" style=\"fill:#000000; stroke:#000000;\" /><path d=\"M 9.5 25.5 A 0.5 0.5 0 1 1 8.5,25.5 A 0.5 0.5 0 1 1 9.5 25.5 z\" style=\"fill:#ececec; stroke:#ececec;\" /><path d=\"M 15 15.5 A 0.5 1.5 0 1 1 14,15.5 A 0.5 1.5 0 1 1 15 15.5 z\" transform=\"matrix(0.866,0.5,-0.5,0.866,9.693,-5.173)\" style=\"fill:#ececec; stroke:#ececec;\" /><path d=\"M 24.55,10.4 L 24.1,11.85 L 24.6,12 C 27.75,13 30.25,14.49 32.5,18.75 C 34.75,23.01 35.75,29.06 35.25,39 L 35.2,39.5 L 37.45,39.5 L 37.5,39 C 38,28.94 36.62,22.15 34.25,17.66 C 31.88,13.17 28.46,11.02 25.06,10.5 L 24.55,10.4 z \" style=\"fill:#ececec; stroke:none;\" /></g><g id=\"black-bishop\" class=\"black bishop\" fill=\"none\" fill-rule=\"evenodd\" stroke=\"#000\" stroke-width=\"1.5\" stroke-linecap=\"round\" stroke-linejoin=\"round\"><path d=\"M9 36c3.39-.97 10.11.43 13.5-2 3.39 2.43 10.11 1.03 13.5 2 0 0 1.65.54 3 2-.68.97-1.65.99-3 .5-3.39-.97-10.11.46-13.5-1-3.39 1.46-10.11.03-13.5 1-1.354.49-2.323.47-3-.5 1.354-1.94 3-2 3-2zm6-4c2.5 2.5 12.5 2.5 15 0 .5-1.5 0-2 0-2 0-2.5-2.5-4-2.5-4 5.5-1.5 6-11.5-5-15.5-11 4-10.5 14-5 15.5 0 0-2.5 1.5-2.5 4 0 0-.5.5 0 2zM25 8a2.5 2.5 0 1 1-5 0 2.5 2.5 0 1 1 5 0z\" fill=\"#000\" stroke-linecap=\"butt\" /><path d=\"M17.5 26h10M15 30h15m-7.5-14.5v5M20 18h5\" stroke=\"#fff\" stroke-linejoin=\"miter\" /></g><g id=\"black-rook\" class=\"black rook\" fill=\"#000\" fill-rule=\"evenodd\" stroke=\"#000\" stroke-width=\"1.5\" stroke-linecap=\"round\" stroke-linejoin=\"round\"><path d=\"M9 39h27v-3H9v3zM12.5 32l1.5-2.5h17l1.5 2.5h-20zM12 36v-4h21v4H12z\" stroke-linecap=\"butt\" /><path d=\"M14 29.5v-13h17v13H14z\" stroke-linecap=\"butt\" stroke-linejoin=\"miter\" /><path d=\"M14 16.5L11 14h23l-3 2.5H14zM11 14V9h4v2h5V9h5v2h5V9h4v5H11z\" stroke-linecap=\"butt\" /><path d=\"M12 35.5h21M13 31.5h19M14 29.5h17M14 16.5h17M11 14h23\" fill=\"none\" stroke=\"#fff\" stroke-width=\"1\" stroke-linejoin=\"miter\" /></g><g id=\"black-queen\" class=\"black queen\" fill=\"#000\" fill-rule=\"evenodd\" stroke=\"#000\" stroke-width=\"1.5\" stroke-linecap=\"round\" stroke-linejoin=\"round\"><g fill=\"#000\" stroke=\"none\"><circle cx=\"6\" cy=\"12\" r=\"2.75\" /><circle cx=\"14\" cy=\"9\" r=\"2.75\" /><circle cx=\"22.5\" cy=\"8\" r=\"2.75\" /><circle cx=\"31\" cy=\"9\" r=\"2.75\" /><circle cx=\"39\" cy=\"12\" r=\"2.75\" /></g><path d=\"M9 26c8.5-1.5 21-1.5 27 0l2.5-12.5L31 25l-.3-14.1-5.2 13.6-3-14.5-3 14.5-5.2-13.6L14 25 6.5 13.5 9 26zM9 26c0 2 1.5 2 2.5 4 1 1.5 1 1 .5 3.5-1.5 1-1.5 2.5-1.5 2.5-1.5 1.5.5 2.5.5 2.5 6.5 1 16.5 1 23 0 0 0 1.5-1 0-2.5 0 0 .5-1.5-1-2.5-.5-2.5-.5-2 .5-3.5 1-2 2.5-2 2.5-4-8.5-1.5-18.5-1.5-27 0z\" stroke-linecap=\"butt\" /><path d=\"M11 38.5a35 35 1 0 0 23 0\" fill=\"none\" stroke-linecap=\"butt\" /><path d=\"M11 29a35 35 1 0 1 23 0M12.5 31.5h20M11.5 34.5a35 35 1 0 0 22 0M10.5 37.5a35 35 1 0 0 24 0\" fill=\"none\" stroke=\"#fff\" /></g><g id=\"black-king\" class=\"black king\" fill=\"none\" fill-rule=\"evenodd\" stroke=\"#000\" stroke-width=\"1.5\" stroke-linecap=\"round\" stroke-linejoin=\"round\"><path d=\"M22.5 11.63V6\" stroke-linejoin=\"miter\" /><path d=\"M22.5 25s4.5-7.5 3-10.5c0 0-1-2.5-3-2.5s-3 2.5-3 2.5c-1.5 3 3 10.5 3 10.5\" fill=\"#000\" stroke-linecap=\"butt\" stroke-linejoin=\"miter\" /><path d=\"M11.5 37c5.5 3.5 15.5 3.5 21 0v-7s9-4.5 6-10.5c-4-6.5-13.5-3.5-16 4V27v-3.5c-3.5-7.5-13-10.5-16-4-3 6 5 10 5 10V37z\" fill=\"#000\" /><path d=\"M20 8h5\" stroke-linejoin=\"miter\" /><path d=\"M32 29.5s8.5-4 6.03-9.65C34.15 14 25 18 22.5 24.5l.01 2.1-.01-2.1C20 18 9.906 14 6.997 19.85c-2.497 5.65 4.853 9 4.853 9M11.5 30c5.5-3 15.5-3 21 0m-21 3.5c5.5-3 15.5-3 21 0m-21 3.5c5.5-3 15.5-3 21 0\" stroke=\"#fff\" /></g><radialGradient id=\"check_gradient\" r=\"0.5\"><stop offset=\"0%\" stop-color=\"#ff0000\" stop-opacity=\"1.0\" /><stop offset=\"50%\" stop-color=\"#e70000\" stop-opacity=\"1.0\" /><stop offset=\"100%\" stop-color=\"#9e0000\" stop-opacity=\"0.0\" /></radialGradient></defs><rect x=\"0\" y=\"0\" width=\"390\" height=\"390\" fill=\"#212121\" /><g transform=\"translate(20, 0) scale(0.75, 0.75)\" fill=\"#e5e5e5\" stroke=\"#e5e5e5\"><path d=\"M23.328 10.016q-1.742 0-2.414.398-.672.398-.672 1.36 0 .765.5 1.218.508.445 1.375.445 1.196 0 1.914-.843.727-.852.727-2.258v-.32zm2.867-.594v4.992h-1.437v-1.328q-.492.797-1.227 1.18-.734.375-1.797.375-1.343 0-2.14-.75-.79-.758-.79-2.024 0-1.476.985-2.226.992-.75 2.953-.75h2.016V8.75q0-.992-.656-1.531-.649-.547-1.829-.547-.75 0-1.46.18-.711.18-1.368.539V6.062q.79-.304 1.532-.453.742-.156 1.445-.156 1.898 0 2.836.984.937.985.937 2.985z\" /></g><g transform=\"translate(20, 375) scale(0.75, 0.75)\" fill=\"#e5e5e5\" stroke=\"#e5e5e5\"><path d=\"M23.328 10.016q-1.742 0-2.414.398-.672.398-.672 1.36 0 .765.5 1.218.508.445 1.375.445 1.196 0 1.914-.843.727-.852.727-2.258v-.32zm2.867-.594v4.992h-1.437v-1.328q-.492.797-1.227 1.18-.734.375-1.797.375-1.343 0-2.14-.75-.79-.758-.79-2.024 0-1.476.985-2.226.992-.75 2.953-.75h2.016V8.75q0-.992-.656-1.531-.649-.547-1.829-.547-.75 0-1.46.18-.711.18-1.368.539V6.062q.79-.304 1.532-.453.742-.156 1.445-.156 1.898 0 2.836.984.937.985.937 2.985z\" /></g><g transform=\"translate(65, 0) scale(0.75, 0.75)\" fill=\"#e5e5e5\" stroke=\"#e5e5e5\"><path d=\"M24.922 10.047q0-1.586-.656-2.485-.649-.906-1.79-.906-1.14 0-1.796.906-.649.899-.649 2.485 0 1.586.649 2.492.656.898 1.797.898 1.14 0 1.789-.898.656-.906.656-2.492zm-4.89-3.055q.452-.781 1.14-1.156.695-.383 1.656-.383 1.594 0 2.586 1.266 1 1.265 1 3.328 0 2.062-1 3.328-.992 1.266-2.586 1.266-.96 0-1.656-.375-.688-.383-1.14-1.164v1.312h-1.446V2.258h1.445z\" /></g><g transform=\"translate(65, 375) scale(0.75, 0.75)\" fill=\"#e5e5e5\" stroke=\"#e5e5e5\"><path d=\"M24.922 10.047q0-1.586-.656-2.485-.649-.906-1.79-.906-1.14 0-1.796.906-.649.899-.649 2.485 0 1.586.649 2.492.656.898 1.797.898 1.14 0 1.789-.898.656-.906.656-2.492zm-4.89-3.055q.452-.781 1.14-1.156.695-.383 1.656-.383 1.594 0 2.586 1.266 1 1.265 1 3.328 0 2.062-1 3.328-.992 1.266-2.586 1.266-.96 0-1.656-.375-.688-.383-1.14-1.164v1.312h-1.446V2.258h1.445z\" /></g><g transform=\"translate(110, 0) scale(0.75, 0.75)\" fill=\"#e5e5e5\" stroke=\"#e5e5e5\"><path d=\"M25.96 6v1.344q-.608-.336-1.226-.5-.609-.172-1.234-.172-1.398 0-2.172.89-.773.883-.773 2.485 0 1.601.773 2.492.774.883 2.172.883.625 0 1.234-.164.618-.172 1.227-.508v1.328q-.602.281-1.25.422-.64.14-1.367.14-1.977 0-3.14-1.242-1.165-1.242-1.165-3.351 0-2.14 1.172-3.367 1.18-1.227 3.227-1.227.664 0 1.296.14.633.134 1.227.407z\" /></g><g transform=\"translate(110, 375) scale(0.75, 0.75)\" fill=\"#e5e5e5\" stroke=\"#e5e5e5\"><path d=\"M25.96 6v1.344q-.608-.336-1.226-.5-.609-.172-1.234-.172-1.398 0-2.172.89-.773.883-.773 2.485 0 1.601.773 2.492.774.883 2.172.883.625 0 1.234-.164.618-.172 1.227-.508v1.328q-.602.281-1.25.422-.64.14-1.367.14-1.977 0-3.14-1.242-1.165-1.242-1.165-3.351 0-2.14 1.172-3.367 1.18-1.227 3.227-1.227.664 0 1.296.14.633.134 1.227.407z\" /></g><g transform=\"translate(155, 0) scale(0.75, 0.75)\" fill=\"#e5e5e5\" stroke=\"#e5e5e5\"><path d=\"M24.973 6.992V2.258h1.437v12.156h-1.437v-1.312q-.453.78-1.149 1.164-.687.375-1.656.375-1.586 0-2.586-1.266-.992-1.266-.992-3.328 0-2.063.992-3.328 1-1.266 2.586-1.266.969 0 1.656.383.696.375 1.149 1.156zm-4.899 3.055q0 1.586.649 2.492.656.898 1.797.898 1.14 0 1.796-.898.657-.906.657-2.492 0-1.586-.657-2.485-.656-.906-1.796-.906-1.141 0-1.797.906-.649.899-.649 2.485z\" /></g><g transform=\"translate(155, 375) scale(0.75, 0.75)\" fill=\"#e5e5e5\" stroke=\"#e5e5e5\"><path d=\"M24.973 6.992V2.258h1.437v12.156h-1.437v-1.312q-.453.78-1.149 1.164-.687.375-1.656.375-1.586 0-2.586-1.266-.992-1.266-.992-3.328 0-2.063.992-3.328 1-1.266 2.586-1.266.969 0 1.656.383.696.375 1.149 1.156zm-4.899 3.055q0 1.586.649 2.492.656.898 1.797.898 1.14 0 1.796-.898.657-.906.657-2.492 0-1.586-.657-2.485-.656-.906-1.796-.906-1.141 0-1.797.906-.649.899-.649 2.485z\" /></g><g transform=\"translate(200, 0) scale(0.75, 0.75)\" fill=\"#e5e5e5\" stroke=\"#e5e5e5\"><path d=\"M26.555 9.68v.703h-6.61q.094 1.484.89 2.265.806.774 2.235.774.828 0 1.602-.203.781-.203 1.547-.61v1.36q-.774.328-1.586.5-.813.172-1.649.172-2.093 0-3.32-1.22-1.219-1.218-1.219-3.296 0-2.148 1.157-3.406 1.164-1.266 3.132-1.266 1.766 0 2.79 1.14 1.03 1.134 1.03 3.087zm-1.438-.422q-.015-1.18-.664-1.883-.64-.703-1.703-.703-1.203 0-1.93.68-.718.68-.828 1.914z\" /></g><g transform=\"translate(200, 375) scale(0.75, 0.75)\" fill=\"#e5e5e5\" stroke=\"#e5e5e5\"><path d=\"M26.555 9.68v.703h-6.61q.094 1.484.89 2.265.806.774 2.235.774.828 0 1.602-.203.781-.203 1.547-.61v1.36q-.774.328-1.586.5-.813.172-1.649.172-2.093 0-3.32-1.22-1.219-1.218-1.219-3.296 0-2.148 1.157-3.406 1.164-1.266 3.132-1.266 1.766 0 2.79 1.14 1.03 1.134 1.03 3.087zm-1.438-.422q-.015-1.18-.664-1.883-.64-.703-1.703-.703-1.203 0-1.93.68-.718.68-.828 1.914z\" /></g><g transform=\"translate(245, 0) scale(0.75, 0.75)\" fill=\"#e5e5e5\" stroke=\"#e5e5e5\"><path d=\"M25.285 2.258v1.195H23.91q-.773 0-1.078.313-.297.312-.297 1.125v.773h2.367v1.117h-2.367v7.633H21.09V6.781h-1.375V5.664h1.375v-.61q0-1.46.68-2.124.68-.672 2.156-.672z\" /></g><g transform=\"translate(245, 375) scale(0.75, 0.75)\" fill=\"#e5e5e5\" stroke=\"#e5e5e5\"><path d=\"M25.285 2.258v1.195H23.91q-.773 0-1.078.313-.297.312-.297 1.125v.773h2.367v1.117h-2.367v7.633H21.09V6.781h-1.375V5.664h1.375v-.61q0-1.46.68-2.124.68-.672 2.156-.672z\" /></g><g transform=\"translate(290, 0) scale(0.75, 0.75)\" fill=\"#e5e5e5\" stroke=\"#e5e5e5\"><path d=\"M24.973 9.937q0-1.562-.649-2.421-.64-.86-1.804-.86-1.157 0-1.805.86-.64.859-.64 2.421 0 1.555.64 2.415.648.859 1.805.859 1.164 0 1.804-.86.649-.859.649-2.414zm1.437 3.391q0 2.234-.992 3.32-.992 1.094-3.04 1.094-.757 0-1.429-.117-.672-.11-1.304-.344v-1.398q.632.344 1.25.508.617.164 1.257.164 1.414 0 2.118-.743.703-.734.703-2.226v-.711q-.446.773-1.141 1.156-.695.383-1.664.383-1.61 0-2.594-1.227-.984-1.226-.984-3.25 0-2.03.984-3.257.985-1.227 2.594-1.227.969 0 1.664.383t1.14 1.156V5.664h1.438z\" /></g><g transform=\"translate(290, 375) scale(0.75, 0.75)\" fill=\"#e5e5e5\" stroke=\"#e5e5e5\"><path d=\"M24.973 9.937q0-1.562-.649-2.421-.64-.86-1.804-.86-1.157 0-1.805.86-.64.859-.64 2.421 0 1.555.64 2.415.648.859 1.805.859 1.164 0 1.804-.86.649-.859.649-2.414zm1.437 3.391q0 2.234-.992 3.32-.992 1.094-3.04 1.094-.757 0-1.429-.117-.672-.11-1.304-.344v-1.398q.632.344 1.25.508.617.164 1.257.164 1.414 0 2.118-.743.703-.734.703-2.226v-.711q-.446.773-1.141 1.156-.695.383-1.664.383-1.61 0-2.594-1.227-.984-1.226-.984-3.25 0-2.03.984-3.257.985-1.227 2.594-1.227.969 0 1.664.383t1.14 1.156V5.664h1.438z\" /></g><g transform=\"translate(335, 0) scale(0.75, 0.75)\" fill=\"#e5e5e5\" stroke=\"#e5e5e5\"><path d=\"M26.164 9.133v5.281h-1.437V9.18q0-1.243-.485-1.86-.484-.617-1.453-.617-1.164 0-1.836.742-.672.742-.672 2.024v4.945h-1.445V2.258h1.445v4.765q.516-.789 1.211-1.18.703-.39 1.617-.39 1.508 0 2.282.938.773.93.773 2.742z\" /></g><g transform=\"translate(335, 375) scale(0.75, 0.75)\" fill=\"#e5e5e5\" stroke=\"#e5e5e5\"><path d=\"M26.164 9.133v5.281h-1.437V9.18q0-1.243-.485-1.86-.484-.617-1.453-.617-1.164 0-1.836.742-.672.742-.672 2.024v4.945h-1.445V2.258h1.445v4.765q.516-.789 1.211-1.18.703-.39 1.617-.39 1.508 0 2.282.938.773.93.773 2.742z\" /></g><g transform=\"translate(0, 335) scale(0.75, 0.75)\" fill=\"#e5e5e5\" stroke=\"#e5e5e5\"><path d=\"M6.754 26.996h2.578v-8.898l-2.805.562v-1.437l2.79-.563h1.578v10.336h2.578v1.328h-6.72z\" /></g><g transform=\"translate(375, 335) scale(0.75, 0.75)\" fill=\"#e5e5e5\" stroke=\"#e5e5e5\"><path d=\"M6.754 26.996h2.578v-8.898l-2.805.562v-1.437l2.79-.563h1.578v10.336h2.578v1.328h-6.72z\" /></g><g transform=\"translate(0, 290) scale(0.75, 0.75)\" fill=\"#e5e5e5\" stroke=\"#e5e5e5\"><path d=\"M8.195 26.996h5.508v1.328H6.297v-1.328q.898-.93 2.445-2.492 1.555-1.57 1.953-2.024.758-.851 1.055-1.437.305-.594.305-1.164 0-.93-.657-1.516-.648-.586-1.695-.586-.742 0-1.57.258-.82.258-1.758.781v-1.593q.953-.383 1.781-.578.828-.196 1.516-.196 1.812 0 2.89.906 1.079.907 1.079 2.422 0 .72-.274 1.368-.265.64-.976 1.515-.196.227-1.243 1.313-1.046 1.078-2.953 3.023z\" /></g><g transform=\"translate(375, 290) scale(0.75, 0.75)\" fill=\"#e5e5e5\" stroke=\"#e5e5e5\"><path d=\"M8.195 26.996h5.508v1.328H6.297v-1.328q.898-.93 2.445-2.492 1.555-1.57 1.953-2.024.758-.851 1.055-1.437.305-.594.305-1.164 0-.93-.657-1.516-.648-.586-1.695-.586-.742 0-1.57.258-.82.258-1.758.781v-1.593q.953-.383 1.781-.578.828-.196 1.516-.196 1.812 0 2.89.906 1.079.907 1.079 2.422 0 .72-.274 1.368-.265.64-.976 1.515-.196.227-1.243 1.313-1.046 1.078-2.953 3.023z\" /></g><g transform=\"translate(0, 245) scale(0.75, 0.75)\" fill=\"#e5e5e5\" stroke=\"#e5e5e5\"><path d=\"M11.434 22.035q1.132.242 1.765 1.008.64.766.64 1.89 0 1.727-1.187 2.672-1.187.946-3.375.946-.734 0-1.515-.149-.774-.14-1.602-.43V26.45q.656.383 1.438.578.78.196 1.632.196 1.485 0 2.258-.586.782-.586.782-1.703 0-1.032-.727-1.61-.719-.586-2.008-.586h-1.36v-1.297h1.423q1.164 0 1.78-.46.618-.47.618-1.344 0-.899-.64-1.375-.633-.485-1.82-.485-.65 0-1.391.141-.743.14-1.633.437V16.95q.898-.25 1.68-.375.788-.125 1.484-.125 1.797 0 2.844.82 1.046.813 1.046 2.204 0 .968-.554 1.64-.555.664-1.578.922z\" /></g><g transform=\"translate(375, 245) scale(0.75, 0.75)\" fill=\"#e5e5e5\" stroke=\"#e5e5e5\"><path d=\"M11.434 22.035q1.132.242 1.765 1.008.64.766.64 1.89 0 1.727-1.187 2.672-1.187.946-3.375.946-.734 0-1.515-.149-.774-.14-1.602-.43V26.45q.656.383 1.438.578.78.196 1.632.196 1.485 0 2.258-.586.782-.586.782-1.703 0-1.032-.727-1.61-.719-.586-2.008-.586h-1.36v-1.297h1.423q1.164 0 1.78-.46.618-.47.618-1.344 0-.899-.64-1.375-.633-.485-1.82-.485-.65 0-1.391.141-.743.14-1.633.437V16.95q.898-.25 1.68-.375.788-.125 1.484-.125 1.797 0 2.844.82 1.046.813 1.046 2.204 0 .968-.554 1.64-.555.664-1.578.922z\" /></g><g transform=\"translate(0, 200) scale(0.75, 0.75)\" fill=\"#e5e5e5\" stroke=\"#e5e5e5\"><path d=\"M11.016 18.035L7.03 24.262h3.985zm-.414-1.375h1.984v7.602h1.664v1.312h-1.664v2.75h-1.57v-2.75H5.75v-1.523z\" /></g><g transform=\"translate(375, 200) scale(0.75, 0.75)\" fill=\"#e5e5e5\" stroke=\"#e5e5e5\"><path d=\"M11.016 18.035L7.03 24.262h3.985zm-.414-1.375h1.984v7.602h1.664v1.312h-1.664v2.75h-1.57v-2.75H5.75v-1.523z\" /></g><g transform=\"translate(0, 155) scale(0.75, 0.75)\" fill=\"#e5e5e5\" stroke=\"#e5e5e5\"><path d=\"M6.719 16.66h6.195v1.328h-4.75v2.86q.344-.118.688-.172.343-.063.687-.063 1.953 0 3.094 1.07 1.14 1.07 1.14 2.899 0 1.883-1.171 2.93-1.172 1.039-3.305 1.039-.735 0-1.5-.125-.758-.125-1.57-.375v-1.586q.703.383 1.453.57.75.188 1.586.188 1.351 0 2.14-.711.79-.711.79-1.93 0-1.219-.79-1.93-.789-.71-2.14-.71-.633 0-1.266.14-.625.14-1.281.438z\" /></g><g transform=\"translate(375, 155) scale(0.75, 0.75)\" fill=\"#e5e5e5\" stroke=\"#e5e5e5\"><path d=\"M6.719 16.66h6.195v1.328h-4.75v2.86q.344-.118.688-.172.343-.063.687-.063 1.953 0 3.094 1.07 1.14 1.07 1.14 2.899 0 1.883-1.171 2.93-1.172 1.039-3.305 1.039-.735 0-1.5-.125-.758-.125-1.57-.375v-1.586q.703.383 1.453.57.75.188 1.586.188 1.351 0 2.14-.711.79-.711.79-1.93 0-1.219-.79-1.93-.789-.71-2.14-.71-.633 0-1.266.14-.625.14-1.281.438z\" /></g><g transform=\"translate(0, 110) scale(0.75, 0.75)\" fill=\"#e5e5e5\" stroke=\"#e5e5e5\"><path d=\"M10.137 21.863q-1.063 0-1.688.727-.617.726-.617 1.992 0 1.258.617 1.992.625.727 1.688.727 1.062 0 1.68-.727.624-.734.624-1.992 0-1.266-.625-1.992-.617-.727-1.68-.727zm3.133-4.945v1.437q-.594-.28-1.204-.43-.601-.148-1.195-.148-1.562 0-2.39 1.055-.82 1.055-.938 3.188.46-.68 1.156-1.04.696-.367 1.531-.367 1.758 0 2.774 1.07 1.023 1.063 1.023 2.899 0 1.797-1.062 2.883-1.063 1.086-2.828 1.086-2.024 0-3.094-1.547-1.07-1.555-1.07-4.5 0-2.766 1.312-4.406 1.313-1.649 3.524-1.649.593 0 1.195.117.61.118 1.266.352z\" /></g><g transform=\"translate(375, 110) scale(0.75, 0.75)\" fill=\"#e5e5e5\" stroke=\"#e5e5e5\"><path d=\"M10.137 21.863q-1.063 0-1.688.727-.617.726-.617 1.992 0 1.258.617 1.992.625.727 1.688.727 1.062 0 1.68-.727.624-.734.624-1.992 0-1.266-.625-1.992-.617-.727-1.68-.727zm3.133-4.945v1.437q-.594-.28-1.204-.43-.601-.148-1.195-.148-1.562 0-2.39 1.055-.82 1.055-.938 3.188.46-.68 1.156-1.04.696-.367 1.531-.367 1.758 0 2.774 1.07 1.023 1.063 1.023 2.899 0 1.797-1.062 2.883-1.063 1.086-2.828 1.086-2.024 0-3.094-1.547-1.07-1.555-1.07-4.5 0-2.766 1.312-4.406 1.313-1.649 3.524-1.649.593 0 1.195.117.61.118 1.266.352z\" /></g><g transform=\"translate(0, 65) scale(0.75, 0.75)\" fill=\"#e5e5e5\" stroke=\"#e5e5e5\"><path d=\"M6.25 16.66h7.5v.672L9.516 28.324H7.867l3.985-10.336H6.25z\" /></g><g transform=\"translate(375, 65) scale(0.75, 0.75)\" fill=\"#e5e5e5\" stroke=\"#e5e5e5\"><path d=\"M6.25 16.66h7.5v.672L9.516 28.324H7.867l3.985-10.336H6.25z\" /></g><g transform=\"translate(0, 20) scale(0.75, 0.75)\" fill=\"#e5e5e5\" stroke=\"#e5e5e5\"><path d=\"M10 22.785q-1.125 0-1.773.602-.641.601-.641 1.656t.64 1.656q.649.602 1.774.602t1.773-.602q.649-.61.649-1.656 0-1.055-.649-1.656-.64-.602-1.773-.602zm-1.578-.672q-1.016-.25-1.586-.945-.563-.695-.563-1.695 0-1.399.993-2.211 1-.813 2.734-.813 1.742 0 2.734.813.993.812.993 2.21 0 1-.57 1.696-.563.695-1.571.945 1.14.266 1.773 1.04.641.773.641 1.89 0 1.695-1.04 2.602-1.03.906-2.96.906t-2.969-.906Q6 26.738 6 25.043q0-1.117.64-1.89.641-.774 1.782-1.04zm-.578-2.492q0 .906.562 1.414.57.508 1.594.508 1.016 0 1.586-.508.578-.508.578-1.414 0-.906-.578-1.414-.57-.508-1.586-.508-1.023 0-1.594.508-.562.508-.562 1.414z\" /></g><g transform=\"translate(375, 20) scale(0.75, 0.75)\" fill=\"#e5e5e5\" stroke=\"#e5e5e5\"><path d=\"M10 22.785q-1.125 0-1.773.602-.641.601-.641 1.656t.64 1.656q.649.602 1.774.602t1.773-.602q.649-.61.649-1.656 0-1.055-.649-1.656-.64-.602-1.773-.602zm-1.578-.672q-1.016-.25-1.586-.945-.563-.695-.563-1.695 0-1.399.993-2.211 1-.813 2.734-.813 1.742 0 2.734.813.993.812.993 2.21 0 1-.57 1.696-.563.695-1.571.945 1.14.266 1.773 1.04.641.773.641 1.89 0 1.695-1.04 2.602-1.03.906-2.96.906t-2.969-.906Q6 26.738 6 25.043q0-1.117.64-1.89.641-.774 1.782-1.04zm-.578-2.492q0 .906.562 1.414.57.508 1.594.508 1.016 0 1.586-.508.578-.508.578-1.414 0-.906-.578-1.414-.57-.508-1.586-.508-1.023 0-1.594.508-.562.508-.562 1.414z\" /></g><rect x=\"15\" y=\"330\" width=\"45\" height=\"45\" class=\"square dark a1\" stroke=\"none\" fill=\"#d18b47\" /><rect x=\"60\" y=\"330\" width=\"45\" height=\"45\" class=\"square light b1\" stroke=\"none\" fill=\"#ffce9e\" /><rect x=\"105\" y=\"330\" width=\"45\" height=\"45\" class=\"square dark c1\" stroke=\"none\" fill=\"#d18b47\" /><rect x=\"150\" y=\"330\" width=\"45\" height=\"45\" class=\"square light d1\" stroke=\"none\" fill=\"#ffce9e\" /><rect x=\"195\" y=\"330\" width=\"45\" height=\"45\" class=\"square dark e1\" stroke=\"none\" fill=\"#d18b47\" /><rect x=\"240\" y=\"330\" width=\"45\" height=\"45\" class=\"square light f1\" stroke=\"none\" fill=\"#ffce9e\" /><rect x=\"285\" y=\"330\" width=\"45\" height=\"45\" class=\"square dark g1\" stroke=\"none\" fill=\"#d18b47\" /><rect x=\"330\" y=\"330\" width=\"45\" height=\"45\" class=\"square light h1\" stroke=\"none\" fill=\"#ffce9e\" /><rect x=\"15\" y=\"285\" width=\"45\" height=\"45\" class=\"square light a2\" stroke=\"none\" fill=\"#ffce9e\" /><rect x=\"60\" y=\"285\" width=\"45\" height=\"45\" class=\"square dark b2\" stroke=\"none\" fill=\"#d18b47\" /><rect x=\"105\" y=\"285\" width=\"45\" height=\"45\" class=\"square light c2\" stroke=\"none\" fill=\"#ffce9e\" /><rect x=\"150\" y=\"285\" width=\"45\" height=\"45\" class=\"square dark d2\" stroke=\"none\" fill=\"#d18b47\" /><rect x=\"195\" y=\"285\" width=\"45\" height=\"45\" class=\"square light e2\" stroke=\"none\" fill=\"#ffce9e\" /><rect x=\"240\" y=\"285\" width=\"45\" height=\"45\" class=\"square dark f2\" stroke=\"none\" fill=\"#d18b47\" /><rect x=\"285\" y=\"285\" width=\"45\" height=\"45\" class=\"square light g2\" stroke=\"none\" fill=\"#ffce9e\" /><rect x=\"330\" y=\"285\" width=\"45\" height=\"45\" class=\"square dark h2\" stroke=\"none\" fill=\"#d18b47\" /><rect x=\"15\" y=\"240\" width=\"45\" height=\"45\" class=\"square dark a3\" stroke=\"none\" fill=\"#d18b47\" /><rect x=\"60\" y=\"240\" width=\"45\" height=\"45\" class=\"square light b3\" stroke=\"none\" fill=\"#ffce9e\" /><rect x=\"105\" y=\"240\" width=\"45\" height=\"45\" class=\"square dark c3\" stroke=\"none\" fill=\"#d18b47\" /><rect x=\"150\" y=\"240\" width=\"45\" height=\"45\" class=\"square light d3\" stroke=\"none\" fill=\"#ffce9e\" /><rect x=\"195\" y=\"240\" width=\"45\" height=\"45\" class=\"square dark e3\" stroke=\"none\" fill=\"#d18b47\" /><rect x=\"240\" y=\"240\" width=\"45\" height=\"45\" class=\"square light f3\" stroke=\"none\" fill=\"#ffce9e\" /><rect x=\"285\" y=\"240\" width=\"45\" height=\"45\" class=\"square dark g3\" stroke=\"none\" fill=\"#d18b47\" /><rect x=\"330\" y=\"240\" width=\"45\" height=\"45\" class=\"square light h3\" stroke=\"none\" fill=\"#ffce9e\" /><rect x=\"15\" y=\"195\" width=\"45\" height=\"45\" class=\"square light a4\" stroke=\"none\" fill=\"#ffce9e\" /><rect x=\"60\" y=\"195\" width=\"45\" height=\"45\" class=\"square dark b4\" stroke=\"none\" fill=\"#d18b47\" /><rect x=\"105\" y=\"195\" width=\"45\" height=\"45\" class=\"square light c4\" stroke=\"none\" fill=\"#ffce9e\" /><rect x=\"150\" y=\"195\" width=\"45\" height=\"45\" class=\"square dark lastmove d4\" stroke=\"none\" fill=\"#aaa23b\" /><rect x=\"195\" y=\"195\" width=\"45\" height=\"45\" class=\"square light e4\" stroke=\"none\" fill=\"#ffce9e\" /><rect x=\"240\" y=\"195\" width=\"45\" height=\"45\" class=\"square dark f4\" stroke=\"none\" fill=\"#d18b47\" /><rect x=\"285\" y=\"195\" width=\"45\" height=\"45\" class=\"square light g4\" stroke=\"none\" fill=\"#ffce9e\" /><rect x=\"330\" y=\"195\" width=\"45\" height=\"45\" class=\"square dark h4\" stroke=\"none\" fill=\"#d18b47\" /><rect x=\"15\" y=\"150\" width=\"45\" height=\"45\" class=\"square dark a5\" stroke=\"none\" fill=\"#d18b47\" /><rect x=\"60\" y=\"150\" width=\"45\" height=\"45\" class=\"square light b5\" stroke=\"none\" fill=\"#ffce9e\" /><rect x=\"105\" y=\"150\" width=\"45\" height=\"45\" class=\"square dark c5\" stroke=\"none\" fill=\"#d18b47\" /><rect x=\"150\" y=\"150\" width=\"45\" height=\"45\" class=\"square light d5\" stroke=\"none\" fill=\"#ffce9e\" /><rect x=\"195\" y=\"150\" width=\"45\" height=\"45\" class=\"square dark e5\" stroke=\"none\" fill=\"#d18b47\" /><rect x=\"240\" y=\"150\" width=\"45\" height=\"45\" class=\"square light f5\" stroke=\"none\" fill=\"#ffce9e\" /><rect x=\"285\" y=\"150\" width=\"45\" height=\"45\" class=\"square dark g5\" stroke=\"none\" fill=\"#d18b47\" /><rect x=\"330\" y=\"150\" width=\"45\" height=\"45\" class=\"square light h5\" stroke=\"none\" fill=\"#ffce9e\" /><rect x=\"15\" y=\"105\" width=\"45\" height=\"45\" class=\"square light a6\" stroke=\"none\" fill=\"#ffce9e\" /><rect x=\"60\" y=\"105\" width=\"45\" height=\"45\" class=\"square dark b6\" stroke=\"none\" fill=\"#d18b47\" /><rect x=\"105\" y=\"105\" width=\"45\" height=\"45\" class=\"square light c6\" stroke=\"none\" fill=\"#ffce9e\" /><rect x=\"150\" y=\"105\" width=\"45\" height=\"45\" class=\"square dark d6\" stroke=\"none\" fill=\"#d18b47\" /><rect x=\"195\" y=\"105\" width=\"45\" height=\"45\" class=\"square light e6\" stroke=\"none\" fill=\"#ffce9e\" /><rect x=\"240\" y=\"105\" width=\"45\" height=\"45\" class=\"square dark f6\" stroke=\"none\" fill=\"#d18b47\" /><rect x=\"285\" y=\"105\" width=\"45\" height=\"45\" class=\"square light g6\" stroke=\"none\" fill=\"#ffce9e\" /><rect x=\"330\" y=\"105\" width=\"45\" height=\"45\" class=\"square dark h6\" stroke=\"none\" fill=\"#d18b47\" /><rect x=\"15\" y=\"60\" width=\"45\" height=\"45\" class=\"square dark a7\" stroke=\"none\" fill=\"#d18b47\" /><rect x=\"60\" y=\"60\" width=\"45\" height=\"45\" class=\"square light b7\" stroke=\"none\" fill=\"#ffce9e\" /><rect x=\"105\" y=\"60\" width=\"45\" height=\"45\" class=\"square dark c7\" stroke=\"none\" fill=\"#d18b47\" /><rect x=\"150\" y=\"60\" width=\"45\" height=\"45\" class=\"square light d7\" stroke=\"none\" fill=\"#ffce9e\" /><rect x=\"195\" y=\"60\" width=\"45\" height=\"45\" class=\"square dark e7\" stroke=\"none\" fill=\"#d18b47\" /><rect x=\"240\" y=\"60\" width=\"45\" height=\"45\" class=\"square light f7\" stroke=\"none\" fill=\"#ffce9e\" /><rect x=\"285\" y=\"60\" width=\"45\" height=\"45\" class=\"square dark lastmove g7\" stroke=\"none\" fill=\"#aaa23b\" /><rect x=\"330\" y=\"60\" width=\"45\" height=\"45\" class=\"square light h7\" stroke=\"none\" fill=\"#ffce9e\" /><rect x=\"15\" y=\"15\" width=\"45\" height=\"45\" class=\"square light a8\" stroke=\"none\" fill=\"#ffce9e\" /><rect x=\"60\" y=\"15\" width=\"45\" height=\"45\" class=\"square dark b8\" stroke=\"none\" fill=\"#d18b47\" /><rect x=\"105\" y=\"15\" width=\"45\" height=\"45\" class=\"square light c8\" stroke=\"none\" fill=\"#ffce9e\" /><rect x=\"150\" y=\"15\" width=\"45\" height=\"45\" class=\"square dark d8\" stroke=\"none\" fill=\"#d18b47\" /><rect x=\"195\" y=\"15\" width=\"45\" height=\"45\" class=\"square light e8\" stroke=\"none\" fill=\"#ffce9e\" /><rect x=\"240\" y=\"15\" width=\"45\" height=\"45\" class=\"square dark f8\" stroke=\"none\" fill=\"#d18b47\" /><rect x=\"285\" y=\"15\" width=\"45\" height=\"45\" class=\"square light g8\" stroke=\"none\" fill=\"#ffce9e\" /><rect x=\"330\" y=\"15\" width=\"45\" height=\"45\" class=\"square dark h8\" stroke=\"none\" fill=\"#d18b47\" /><rect x=\"285\" y=\"15\" width=\"45\" height=\"45\" class=\"check\" fill=\"url(#check_gradient)\" /><use href=\"#white-rook\" xlink:href=\"#white-rook\" transform=\"translate(60, 330)\" /><use href=\"#white-rook\" xlink:href=\"#white-rook\" transform=\"translate(195, 330)\" /><use href=\"#white-king\" xlink:href=\"#white-king\" transform=\"translate(285, 330)\" /><use href=\"#white-bishop\" xlink:href=\"#white-bishop\" transform=\"translate(15, 285)\" /><use href=\"#white-bishop\" xlink:href=\"#white-bishop\" transform=\"translate(60, 285)\" /><use href=\"#white-pawn\" xlink:href=\"#white-pawn\" transform=\"translate(240, 285)\" /><use href=\"#white-pawn\" xlink:href=\"#white-pawn\" transform=\"translate(285, 285)\" /><use href=\"#white-pawn\" xlink:href=\"#white-pawn\" transform=\"translate(330, 285)\" /><use href=\"#white-pawn\" xlink:href=\"#white-pawn\" transform=\"translate(60, 195)\" /><use href=\"#white-pawn\" xlink:href=\"#white-pawn\" transform=\"translate(150, 150)\" /><use href=\"#black-pawn\" xlink:href=\"#black-pawn\" transform=\"translate(15, 105)\" /><use href=\"#black-knight\" xlink:href=\"#black-knight\" transform=\"translate(60, 105)\" /><use href=\"#black-pawn\" xlink:href=\"#black-pawn\" transform=\"translate(150, 105)\" /><use href=\"#black-pawn\" xlink:href=\"#black-pawn\" transform=\"translate(330, 105)\" /><use href=\"#black-bishop\" xlink:href=\"#black-bishop\" transform=\"translate(60, 60)\" /><use href=\"#black-pawn\" xlink:href=\"#black-pawn\" transform=\"translate(105, 60)\" /><use href=\"#black-queen\" xlink:href=\"#black-queen\" transform=\"translate(150, 60)\" /><use href=\"#black-pawn\" xlink:href=\"#black-pawn\" transform=\"translate(240, 60)\" /><use href=\"#white-queen\" xlink:href=\"#white-queen\" transform=\"translate(285, 60)\" /><use href=\"#black-rook\" xlink:href=\"#black-rook\" transform=\"translate(15, 15)\" /><use href=\"#black-rook\" xlink:href=\"#black-rook\" transform=\"translate(240, 15)\" /><use href=\"#black-king\" xlink:href=\"#black-king\" transform=\"translate(285, 15)\" /></svg>"
      ],
      "text/plain": [
       "Board('r4rk1/1bpq1pQ1/pn1p3p/3P4/1P6/8/BB3PPP/1R2R1K1 b - - 0 24')"
      ]
     },
     "execution_count": 37,
     "metadata": {},
     "output_type": "execute_result"
    }
   ],
   "source": [
    "#Look at the final board position\n",
    "board.push_san(moves[len(moves)-1])\n",
    "board"
   ]
  },
  {
   "cell_type": "markdown",
   "id": "380e9930-5286-490f-8bcb-1982eae996d4",
   "metadata": {},
   "source": [
    "# Get the evaluations and top moves for an entire game"
   ]
  },
  {
   "cell_type": "markdown",
   "id": "199d9ac5-d246-4f61-9963-52fa98f6abc4",
   "metadata": {},
   "source": [
    "As we run through the games, we will only need to get the \"top moves\" for *one* of the two players.  For example, if the new player is playing White, then we will want to extract the following information:\n",
    "1. The evaluations of all board positions actually achieved in the game.\n",
    "2. The top 10 moves that were available to the *White* player during each of her turns.\n",
    "\n",
    "We will use these \"top 10\" moves to evaluate how good of a move the White player made out of the moves she *could have made*.  However, we do not need to find these \"top 10 moves\" for her opponent's turns, as we're not trying to directly evaluate how well the new player's *opponent* played during the game (other than through the information that is captured by the actual positions realized during the game).\n",
    "\n",
    "In what follows, we check how long it takes to complete this task.  For comparison, we also check how long this task would take if we only got the \"top 10 moves\" (and not the evaluations), as well as how long it would take if we got both the evaluations and the top 10 moves for *both players*."
   ]
  },
  {
   "cell_type": "markdown",
   "id": "4e6914d0-3b51-4407-a785-8879d6f5b7d3",
   "metadata": {},
   "source": [
    "### Getting the evaluations for all positions, and the top 10 moves for a single player"
   ]
  },
  {
   "cell_type": "code",
   "execution_count": 38,
   "id": "583cd37d-d085-4229-98f6-0427497813d0",
   "metadata": {},
   "outputs": [
    {
     "data": {
      "text/plain": [
       "50.71720790863037"
      ]
     },
     "execution_count": 38,
     "metadata": {},
     "output_type": "execute_result"
    }
   ],
   "source": [
    "#Get the information mentioned above, and see how long it takes\n",
    "start = time.time()\n",
    "\n",
    "board = chess.Board()\n",
    "moves_dict = {}\n",
    "\n",
    "for i, move in enumerate(moves):\n",
    "    moves_dict[i] = {}\n",
    "    \n",
    "    #Set Stockfish's position to the current position\n",
    "    sf.set_fen_position(board.fen())\n",
    "    \n",
    "    #Get the evaluation of the current position\n",
    "    moves_dict[i]['eval'] = sf.get_evaluation()\n",
    "    \n",
    "    #If this is the White player's turn, also get the top 10 moves\n",
    "    if i%2 == 0:\n",
    "        moves_dict[i]['top_10'] = sf.get_top_moves(10)\n",
    "        \n",
    "    #Finally, make the move that was actually played\n",
    "    board.push_san(move)\n",
    "        \n",
    "end = time.time()\n",
    "\n",
    "end-start"
   ]
  },
  {
   "cell_type": "code",
   "execution_count": 39,
   "id": "2641cf8e-ab26-4e0a-a1b3-4e5bdad49055",
   "metadata": {},
   "outputs": [
    {
     "data": {
      "text/plain": [
       "1.079089529970859"
      ]
     },
     "execution_count": 39,
     "metadata": {},
     "output_type": "execute_result"
    }
   ],
   "source": [
    "#How many seconds did this take per move in the game?\n",
    "(end-start)/len(moves)"
   ]
  },
  {
   "cell_type": "markdown",
   "id": "16771304-29d4-42e4-842d-773def54e932",
   "metadata": {},
   "source": [
    "### Only getting the top 10 moves (not the evaluations)"
   ]
  },
  {
   "cell_type": "code",
   "execution_count": 40,
   "id": "67e46fb3-402b-4297-a103-e8476bae0700",
   "metadata": {},
   "outputs": [
    {
     "data": {
      "text/plain": [
       "44.96898031234741"
      ]
     },
     "execution_count": 40,
     "metadata": {},
     "output_type": "execute_result"
    }
   ],
   "source": [
    "#Get the information mentioned above, and see how long it takes\n",
    "start = time.time()\n",
    "\n",
    "board = chess.Board()\n",
    "moves_dict = {}\n",
    "\n",
    "for i, move in enumerate(moves):\n",
    "    moves_dict[i] = {}\n",
    "    \n",
    "    #Set Stockfish's position to the current position\n",
    "    sf.set_fen_position(board.fen())\n",
    "    \n",
    "    #If this is the White player's turn, also get the top 10 moves\n",
    "    if i%2 == 0:\n",
    "        moves_dict[i]['top_10'] = sf.get_top_moves(10)\n",
    "        \n",
    "    #Finally, make the move that was actually played\n",
    "    board.push_san(move)\n",
    "        \n",
    "end = time.time()\n",
    "\n",
    "end-start"
   ]
  },
  {
   "cell_type": "code",
   "execution_count": 41,
   "id": "2451da08-d341-4d20-8f26-efc02aff722a",
   "metadata": {},
   "outputs": [
    {
     "data": {
      "text/plain": [
       "0.9567868151563279"
      ]
     },
     "execution_count": 41,
     "metadata": {},
     "output_type": "execute_result"
    }
   ],
   "source": [
    "#How many seconds did this take per move in the game?\n",
    "(end-start)/len(moves)"
   ]
  },
  {
   "cell_type": "markdown",
   "id": "15268a8d-ce53-4cc4-8017-a235f89f9e84",
   "metadata": {},
   "source": [
    "As we can see, electing not to get the evaluations did not save us much time."
   ]
  },
  {
   "cell_type": "markdown",
   "id": "363c1c81-6069-4b5c-adfa-819c429a8f84",
   "metadata": {},
   "source": [
    "### Getting the evaluations and top 10 moves for *both* players"
   ]
  },
  {
   "cell_type": "code",
   "execution_count": 42,
   "id": "5d93bb64-a809-4c9a-8fa3-fbf8cab87ce2",
   "metadata": {},
   "outputs": [
    {
     "data": {
      "text/plain": [
       "86.73001790046692"
      ]
     },
     "execution_count": 42,
     "metadata": {},
     "output_type": "execute_result"
    }
   ],
   "source": [
    "#How much longer does this take if we also get the top 10 moves for each of the opponent's turns?\n",
    "start = time.time()\n",
    "\n",
    "board = chess.Board()\n",
    "moves_dict = {}\n",
    "\n",
    "for i, move in enumerate(moves):\n",
    "    moves_dict[i] = {}\n",
    "    \n",
    "    #Set Stockfish's position to the current position\n",
    "    sf.set_fen_position(board.fen())\n",
    "    \n",
    "    #Get the evaluation of the current position\n",
    "    moves_dict[i]['eval'] = sf.get_evaluation()\n",
    "    \n",
    "    #Get the top 10 moves, regardless of whose turn it is\n",
    "    moves_dict[i]['top_10'] = sf.get_top_moves(10)\n",
    "        \n",
    "    #Finally, make the move that was actually played\n",
    "    board.push_san(move)\n",
    "        \n",
    "end = time.time()\n",
    "\n",
    "end-start"
   ]
  },
  {
   "cell_type": "code",
   "execution_count": 43,
   "id": "733e2ac4-11a7-4979-9a37-3b7436bc8c75",
   "metadata": {},
   "outputs": [
    {
     "data": {
      "text/plain": [
       "1.8453195297971685"
      ]
     },
     "execution_count": 43,
     "metadata": {},
     "output_type": "execute_result"
    }
   ],
   "source": [
    "#How many seconds did this take per move in the game?\n",
    "(end-start)/len(moves)"
   ]
  },
  {
   "cell_type": "markdown",
   "id": "d7fccde5-e47d-44f2-a67c-6b1f8f7917d9",
   "metadata": {},
   "source": [
    "As we can see, choosing to get the top 10 moves for *both* players made things take about twice as long."
   ]
  },
  {
   "cell_type": "markdown",
   "id": "6eb5b419-3672-4648-b75c-e87d04dfc8f0",
   "metadata": {},
   "source": [
    "## Repeating the exercise on a different game"
   ]
  },
  {
   "cell_type": "code",
   "execution_count": 44,
   "id": "47afa13a-4b80-4305-a692-3f9263798ee4",
   "metadata": {},
   "outputs": [
    {
     "data": {
      "text/plain": [
       "47"
      ]
     },
     "execution_count": 44,
     "metadata": {},
     "output_type": "execute_result"
    }
   ],
   "source": [
    "#How many moves were in the game we were using above?\n",
    "len(moves)"
   ]
  },
  {
   "cell_type": "code",
   "execution_count": 45,
   "id": "9d089c01-82ca-4dfc-9aef-5244688aa0e7",
   "metadata": {},
   "outputs": [
    {
     "name": "stdout",
     "output_type": "stream",
     "text": [
      "['e4', 'd6', 'd4', 'Nf6', 'Nc3', 'g6', 'Nf3', 'Bg7', 'Bd3', 'O-O', 'Be3', 'c6', 'Qd2', 'Re8', 'O-O-O', 'a6', 'Ne1', 'b5', 'f3', 'Nbd7', 'g4', 'Nb6', 'h4', 'Nc4', 'Bxc4', 'bxc4', 'Qe2', 'd5', 'e5', 'Nd7', 'f4', 'Nb6', 'Ng2', 'a5', 'h5', 'a4', 'a3', 'f6', 'hxg6', 'hxg6', 'exf6', 'exf6', 'Nh4', 'Kf7', 'f5', 'g5', 'Ng6', 'Nd7', 'Qf3', 'Rb8', 'Rde1', 'Qb6', 'Nd1', 'Ba6', 'c3', 'c5', 'Bf2', 'Qb3', 'Bg3', 'Bb7', 'Bxb8', 'Rxb8', 'Re7+', 'Kg8', 'Rxd7', 'cxd4', 'Qe2', 'dxc3', 'Qe6#']\n"
     ]
    }
   ],
   "source": [
    "#Choose another random game\n",
    "moves = games_1st.iloc[1234]['AN'].split(' ')\n",
    "print(moves)"
   ]
  },
  {
   "cell_type": "code",
   "execution_count": 46,
   "id": "af5e64bc-8c73-45a7-a52e-2cbc54d9ab8b",
   "metadata": {},
   "outputs": [
    {
     "data": {
      "text/plain": [
       "69"
      ]
     },
     "execution_count": 46,
     "metadata": {},
     "output_type": "execute_result"
    }
   ],
   "source": [
    "#How many moves are in this new game?\n",
    "len(moves)"
   ]
  },
  {
   "cell_type": "code",
   "execution_count": 47,
   "id": "02b18d1e-8b7d-48bb-b1dd-4cbd89a1d51a",
   "metadata": {},
   "outputs": [
    {
     "data": {
      "text/plain": [
       "78.45188021659851"
      ]
     },
     "execution_count": 47,
     "metadata": {},
     "output_type": "execute_result"
    }
   ],
   "source": [
    "#Get the information mentioned above, and see how long it takes\n",
    "start = time.time()\n",
    "\n",
    "board = chess.Board()\n",
    "moves_dict = {}\n",
    "\n",
    "for i, move in enumerate(moves):\n",
    "    moves_dict[i] = {}\n",
    "    \n",
    "    #Set Stockfish's position to the current position\n",
    "    sf.set_fen_position(board.fen())\n",
    "    \n",
    "    #Get the evaluation of the current position\n",
    "    moves_dict[i]['eval'] = sf.get_evaluation()\n",
    "    \n",
    "    #If this is the White player's turn, also get the top 10 moves\n",
    "    if i%2 == 0:\n",
    "        moves_dict[i]['top_10'] = sf.get_top_moves(10)\n",
    "        \n",
    "    #Finally, make the move that was actually played\n",
    "    board.push_san(move)\n",
    "        \n",
    "end = time.time()\n",
    "\n",
    "end-start"
   ]
  },
  {
   "cell_type": "code",
   "execution_count": 48,
   "id": "766b9de1-64c0-44ac-bbbf-1a5c8a80a6a6",
   "metadata": {},
   "outputs": [
    {
     "data": {
      "text/plain": [
       "1.1369837712550508"
      ]
     },
     "execution_count": 48,
     "metadata": {},
     "output_type": "execute_result"
    }
   ],
   "source": [
    "#How many seconds did this take per move in the game?\n",
    "(end-start)/len(moves)"
   ]
  },
  {
   "cell_type": "markdown",
   "id": "30569624-98b5-4ce9-94a6-e329b0d860ce",
   "metadata": {},
   "source": [
    "## Trying a third game"
   ]
  },
  {
   "cell_type": "code",
   "execution_count": 49,
   "id": "7b56da5c-0d2e-44e6-985c-7e25d4de7c2d",
   "metadata": {},
   "outputs": [
    {
     "name": "stdout",
     "output_type": "stream",
     "text": [
      "['e4', 'e6', 'd4', 'd5', 'Nc3', 'Nf6', 'e5', 'Nfd7', 'Nf3', 'c5', 'Be3', 'Nc6', 'Be2', 'Be7', 'O-O', 'O-O', 'Qd2', 'b6', 'Rfd1', 'f6', 'exf6', 'Nxf6', 'Bg5', 'Bd7', 'dxc5', 'bxc5', 'Bb5', 'a6', 'Bxc6', 'Bxc6', 'Bxf6', 'Rxf6', 'Ne5', 'Qb6', 'Nxc6', 'Qxc6', 'Ne2', 'Raf8', 'f3', 'c4', 'b3', 'Qb6+', 'Kh1', 'Bb4', 'c3', 'Bc5', 'bxc4', 'dxc4', 'Rab1', 'Qc7', 'Qd7', 'Qe5', 'Ng3', 'Qxg3', 'Rb7', 'Rh6', 'Qf7+', 'Rxf7', 'Rd8+', 'Rf8']\n"
     ]
    }
   ],
   "source": [
    "#Choose another random game\n",
    "moves = games_1st.iloc[44]['AN'].split(' ')\n",
    "print(moves)"
   ]
  },
  {
   "cell_type": "code",
   "execution_count": 50,
   "id": "ae0c459e-c94d-439d-b0f5-e1a519bd9a4c",
   "metadata": {},
   "outputs": [
    {
     "data": {
      "text/plain": [
       "60"
      ]
     },
     "execution_count": 50,
     "metadata": {},
     "output_type": "execute_result"
    }
   ],
   "source": [
    "#How many moves are in this new game?\n",
    "len(moves)"
   ]
  },
  {
   "cell_type": "code",
   "execution_count": 51,
   "id": "0b631e6c-e9f8-45fb-86c5-58fadd1768dd",
   "metadata": {},
   "outputs": [
    {
     "data": {
      "text/plain": [
       "67.61382603645325"
      ]
     },
     "execution_count": 51,
     "metadata": {},
     "output_type": "execute_result"
    }
   ],
   "source": [
    "#Get the information mentioned above, and see how long it takes\n",
    "start = time.time()\n",
    "\n",
    "board = chess.Board()\n",
    "moves_dict = {}\n",
    "\n",
    "for i, move in enumerate(moves):\n",
    "    moves_dict[i] = {}\n",
    "    \n",
    "    #Set Stockfish's position to the current position\n",
    "    sf.set_fen_position(board.fen())\n",
    "    \n",
    "    #Get the evaluation of the current position\n",
    "    moves_dict[i]['eval'] = sf.get_evaluation()\n",
    "    \n",
    "    #If this is the White player's turn, also get the top 10 moves\n",
    "    if i%2 == 0:\n",
    "        moves_dict[i]['top_10'] = sf.get_top_moves(10)\n",
    "        \n",
    "    #Finally, make the move that was actually played\n",
    "    board.push_san(move)\n",
    "        \n",
    "end = time.time()\n",
    "\n",
    "end-start"
   ]
  },
  {
   "cell_type": "code",
   "execution_count": 52,
   "id": "eee38767-ab52-4f4f-864e-16b3f30c30b5",
   "metadata": {},
   "outputs": [
    {
     "data": {
      "text/plain": [
       "1.126897100607554"
      ]
     },
     "execution_count": 52,
     "metadata": {},
     "output_type": "execute_result"
    }
   ],
   "source": [
    "#How many seconds did this take per move in the game?\n",
    "(end-start)/len(moves)"
   ]
  },
  {
   "cell_type": "markdown",
   "id": "00088f43-0c86-435b-8e9e-4401b72c5f68",
   "metadata": {},
   "source": [
    "# Verify Integrity of all Game Strings"
   ]
  },
  {
   "cell_type": "markdown",
   "id": "d3bee5b4-b75d-43ce-8e7f-867e00d0163e",
   "metadata": {},
   "source": [
    "We will want to automatically run through all the moves of each of the games in our data sets and compute the top moves and evaluations of the positions.  However, in order to do this, we need to make sure that `chess`'s `Board` object can read all of the game strings.\n",
    "\n",
    "Below, we play out all of the games using `Board` objects.  If we ever get an `IllegalMoveError`, we will record a value of 1 in a new column called `illegal`; oterhwise, we will set the `illegal` value to 0.\n",
    "\n",
    "As we go, we will also record the number of turns of each game in the `game_length` column, and we will record whether the game ended in a concession in the `conceded` column.  It is possible to tell this because each game that ends in checkmate (rather than concession) has a '#' character at the end of the game."
   ]
  },
  {
   "cell_type": "code",
   "execution_count": 53,
   "id": "b8d636a1-6f0d-4c7b-8ad0-f80d498a3080",
   "metadata": {},
   "outputs": [],
   "source": [
    "# Create new columns\n",
    "for df in games_1st, games_2nd, games_opp:\n",
    "    df['game_length'] = 0\n",
    "    df['illegal'] = 0\n",
    "    df['conceded'] = 0"
   ]
  },
  {
   "cell_type": "code",
   "execution_count": 54,
   "id": "13fc2964-9a00-49db-91aa-f55dcdb7b2ab",
   "metadata": {},
   "outputs": [
    {
     "data": {
      "text/html": [
       "<div>\n",
       "<style scoped>\n",
       "    .dataframe tbody tr th:only-of-type {\n",
       "        vertical-align: middle;\n",
       "    }\n",
       "\n",
       "    .dataframe tbody tr th {\n",
       "        vertical-align: top;\n",
       "    }\n",
       "\n",
       "    .dataframe thead th {\n",
       "        text-align: right;\n",
       "    }\n",
       "</style>\n",
       "<table border=\"1\" class=\"dataframe\">\n",
       "  <thead>\n",
       "    <tr style=\"text-align: right;\">\n",
       "      <th></th>\n",
       "      <th>Event</th>\n",
       "      <th>White</th>\n",
       "      <th>Black</th>\n",
       "      <th>Result</th>\n",
       "      <th>WhiteElo</th>\n",
       "      <th>BlackElo</th>\n",
       "      <th>WhiteRatingDiff</th>\n",
       "      <th>BlackRatingDiff</th>\n",
       "      <th>TimeControl</th>\n",
       "      <th>Termination</th>\n",
       "      <th>AN</th>\n",
       "      <th>datetime</th>\n",
       "      <th>timestamp</th>\n",
       "      <th>both_players_1st_game</th>\n",
       "      <th>game_length</th>\n",
       "      <th>illegal</th>\n",
       "      <th>conceded</th>\n",
       "    </tr>\n",
       "    <tr>\n",
       "      <th>name_of_pl_playing_1st_game</th>\n",
       "      <th></th>\n",
       "      <th></th>\n",
       "      <th></th>\n",
       "      <th></th>\n",
       "      <th></th>\n",
       "      <th></th>\n",
       "      <th></th>\n",
       "      <th></th>\n",
       "      <th></th>\n",
       "      <th></th>\n",
       "      <th></th>\n",
       "      <th></th>\n",
       "      <th></th>\n",
       "      <th></th>\n",
       "      <th></th>\n",
       "      <th></th>\n",
       "      <th></th>\n",
       "    </tr>\n",
       "  </thead>\n",
       "  <tbody>\n",
       "    <tr>\n",
       "      <th>sereno</th>\n",
       "      <td>Classical</td>\n",
       "      <td>fabikim</td>\n",
       "      <td>sereno</td>\n",
       "      <td>1-0</td>\n",
       "      <td>1630</td>\n",
       "      <td>1500</td>\n",
       "      <td>7.0</td>\n",
       "      <td>-7.0</td>\n",
       "      <td>420+5</td>\n",
       "      <td>Normal</td>\n",
       "      <td>e4 e5 Nf3 d6 Bc4 Nc6 d3 Na5 Na3 Nxc4 Nxc4 a6 N...</td>\n",
       "      <td>2016-06-30 22:00:02</td>\n",
       "      <td>1.467324e+09</td>\n",
       "      <td>0</td>\n",
       "      <td>0</td>\n",
       "      <td>0</td>\n",
       "      <td>0</td>\n",
       "    </tr>\n",
       "  </tbody>\n",
       "</table>\n",
       "</div>"
      ],
      "text/plain": [
       "                                 Event    White   Black Result  WhiteElo  \\\n",
       "name_of_pl_playing_1st_game                                                \n",
       "sereno                       Classical  fabikim  sereno    1-0      1630   \n",
       "\n",
       "                             BlackElo  WhiteRatingDiff  BlackRatingDiff  \\\n",
       "name_of_pl_playing_1st_game                                               \n",
       "sereno                           1500              7.0             -7.0   \n",
       "\n",
       "                            TimeControl Termination  \\\n",
       "name_of_pl_playing_1st_game                           \n",
       "sereno                            420+5      Normal   \n",
       "\n",
       "                                                                            AN  \\\n",
       "name_of_pl_playing_1st_game                                                      \n",
       "sereno                       e4 e5 Nf3 d6 Bc4 Nc6 d3 Na5 Na3 Nxc4 Nxc4 a6 N...   \n",
       "\n",
       "                                        datetime     timestamp  \\\n",
       "name_of_pl_playing_1st_game                                      \n",
       "sereno                       2016-06-30 22:00:02  1.467324e+09   \n",
       "\n",
       "                             both_players_1st_game  game_length  illegal  \\\n",
       "name_of_pl_playing_1st_game                                                \n",
       "sereno                                           0            0        0   \n",
       "\n",
       "                             conceded  \n",
       "name_of_pl_playing_1st_game            \n",
       "sereno                              0  "
      ]
     },
     "execution_count": 54,
     "metadata": {},
     "output_type": "execute_result"
    }
   ],
   "source": [
    "games_1st.head(1)"
   ]
  },
  {
   "cell_type": "code",
   "execution_count": 55,
   "id": "3d227633-b203-4552-b899-0372b388e6e3",
   "metadata": {},
   "outputs": [],
   "source": [
    "#Try to play out all the games, and record game length as you go\n",
    "\n",
    "for df in games_1st, games_2nd, games_opp:\n",
    "    for ind, row in df.iterrows():\n",
    "        #In the games_opp dataframe, some games are missing.  Skip these.\n",
    "        if pd.isnull(row['AN']):\n",
    "            continue\n",
    "        \n",
    "        #Get the moves of the game as a list\n",
    "        moves = row['AN'].split(' ')\n",
    "        #Record the number of moves in the game_length column\n",
    "        df.at[ind,'game_length'] = len(moves)\n",
    "        #If the game did not end in checkmate, set \"conceded\" to 1 for this game\n",
    "        if '#' not in moves[-1]:\n",
    "            df.at[ind,'conceded'] = 1\n",
    "        \n",
    "        #Try playing out the whole game\n",
    "        try:\n",
    "            board = chess.Board()\n",
    "            for move in moves:\n",
    "                board.push_san(move)  \n",
    "                \n",
    "        #If we ran into an error, set the \"illegal\" column value to 1 for this game\n",
    "        except:\n",
    "            df.at[ind, 'illegal'] = 1\n"
   ]
  },
  {
   "cell_type": "code",
   "execution_count": 56,
   "id": "b1fbe65b-e418-4c7c-98b5-625daea1bdcd",
   "metadata": {},
   "outputs": [
    {
     "data": {
      "text/plain": [
       "(0, 0, 0)"
      ]
     },
     "execution_count": 56,
     "metadata": {},
     "output_type": "execute_result"
    }
   ],
   "source": [
    "#Were there any games that could not be fully played out from the game strings?\n",
    "len(games_1st[games_1st['illegal']!=0]), len(games_2nd[games_2nd['illegal']!=0]), len(games_opp[games_opp['illegal']!=0])"
   ]
  },
  {
   "cell_type": "markdown",
   "id": "87b06c9f-e8a0-4516-8060-b67d210c5185",
   "metadata": {},
   "source": [
    "Great!  This means that our string-processing algorithms were able to translate every game string into a format that a `Board` object can process."
   ]
  },
  {
   "cell_type": "markdown",
   "id": "9d58f6d9-439a-464b-9c37-ce01a230a536",
   "metadata": {},
   "source": [
    "### Drop the `illegal` column since no games contain illegal moves"
   ]
  },
  {
   "cell_type": "code",
   "execution_count": 57,
   "id": "570a98af-3a6b-4f6b-a326-45144417be56",
   "metadata": {},
   "outputs": [],
   "source": [
    "for df in games_1st, games_2nd, games_opp:\n",
    "    df.drop(columns = 'illegal', inplace=True)"
   ]
  },
  {
   "cell_type": "markdown",
   "id": "d5ec8e03-7f9c-44b5-a64c-147fc719aa15",
   "metadata": {},
   "source": [
    "### Distributions of Game Lengths"
   ]
  },
  {
   "cell_type": "code",
   "execution_count": 58,
   "id": "b4b3e443-6c7d-40ac-8d35-2723a2669ff4",
   "metadata": {},
   "outputs": [
    {
     "data": {
      "image/png": "[encoded data removed]",
      "text/plain": [
       "<Figure size 640x480 with 1 Axes>"
      ]
     },
     "metadata": {},
     "output_type": "display_data"
    }
   ],
   "source": [
    "games_1st['game_length'].plot(kind='hist', xlim=[0,250], bins=50)\n",
    "plt.title(\"Histogram of Game Lengths (new players' 1st games)\");\n",
    "plt.axvline(games_1st['game_length'].mean(), color='r', label=f\"Mean={round(games_1st['game_length'].mean(), 1)}\");\n",
    "plt.legend();\n",
    "plt.tight_layout();\n",
    "plt.savefig('../images/game_lengths_1.jpg');"
   ]
  },
  {
   "cell_type": "code",
   "execution_count": 59,
   "id": "7e10fc70-1e8e-496f-b626-03127dbd1573",
   "metadata": {},
   "outputs": [
    {
     "data": {
      "image/png": "[encoded data removed]",
      "text/plain": [
       "<Figure size 640x480 with 1 Axes>"
      ]
     },
     "metadata": {},
     "output_type": "display_data"
    }
   ],
   "source": [
    "games_2nd['game_length'].plot(kind='hist', xlim=[0,250], bins=50)\n",
    "plt.title(\"Histogram of Game Lengths (new players' 2nd games)\");\n",
    "plt.axvline(games_2nd['game_length'].mean(), color='r', label=f\"Mean={round(games_2nd['game_length'].mean(), 1)}\");\n",
    "plt.legend();\n",
    "plt.tight_layout();\n",
    "plt.savefig('../images/game_lengths_2.jpg');"
   ]
  },
  {
   "cell_type": "code",
   "execution_count": 60,
   "id": "f5c4b573-43d7-4870-87f6-1dc92113ce59",
   "metadata": {},
   "outputs": [
    {
     "data": {
      "image/png": "[encoded data removed]",
      "text/plain": [
       "<Figure size 640x480 with 1 Axes>"
      ]
     },
     "metadata": {},
     "output_type": "display_data"
    }
   ],
   "source": [
    "#For the 2nd-game opponents of new players, only plot game lengths for those opponents\n",
    "#that DID play a game prior to playing the new player (in her 2nd game)\n",
    "games_opp[games_opp['game_length']>0]['game_length'].plot(kind='hist', xlim=[0,250], bins=50)\n",
    "plt.title(\"Histogram of Game Lengths\\n(new players' 2nd-game opponents' previous games)\");\n",
    "plt.axvline(games_opp['game_length'].mean(), color='r', label=f\"Mean={round(games_opp['game_length'].mean(), 1)}\");\n",
    "plt.legend();\n",
    "plt.tight_layout();\n",
    "plt.savefig('../images/game_lengths_opp.jpg');"
   ]
  },
  {
   "cell_type": "markdown",
   "id": "3fb79abc-3104-4df7-ae0a-739d9984dd42",
   "metadata": {},
   "source": [
    "## Adding in a column for whether the game ended in checkmate or concession"
   ]
  },
  {
   "cell_type": "code",
   "execution_count": 61,
   "id": "668bdb76-ab40-4a2d-9a7f-8325c6fec897",
   "metadata": {},
   "outputs": [
    {
     "data": {
      "text/plain": [
       "[0.6372920441442925, 0.6610113655081535, 0.6711414923406358]"
      ]
     },
     "execution_count": 61,
     "metadata": {},
     "output_type": "execute_result"
    }
   ],
   "source": [
    "conceded_proportions = []\n",
    "\n",
    "for df in games_1st, games_2nd, games_opp:\n",
    "    conceded_proportions.append(df['conceded'].mean())\n",
    "    \n",
    "conceded_proportions"
   ]
  },
  {
   "cell_type": "markdown",
   "id": "e9f0d4cc-d519-4064-8e4e-e36e0999ec19",
   "metadata": {},
   "source": [
    "# Dropping extremely short games"
   ]
  },
  {
   "cell_type": "markdown",
   "id": "1d3fb24c-8f4f-47d8-830b-cf19ec4f6442",
   "metadata": {},
   "source": [
    "Any game that lasts fewer than 10 turns is likely to be not particularly predictive of future games' results.  We will thus drop any new player whose *first game* lasts fewer than 10 turns (5 moves per player):"
   ]
  },
  {
   "cell_type": "code",
   "execution_count": 62,
   "id": "1d8d6df8-21a4-4af7-ba82-916ccaa8157f",
   "metadata": {},
   "outputs": [
    {
     "data": {
      "text/plain": [
       "864"
      ]
     },
     "execution_count": 62,
     "metadata": {},
     "output_type": "execute_result"
    }
   ],
   "source": [
    "#How many such new players will we be dropping in this way?\n",
    "len(games_1st[games_1st['game_length']<10])"
   ]
  },
  {
   "cell_type": "code",
   "execution_count": 63,
   "id": "8d541136-53a2-4f46-b6e2-c1637bf0da91",
   "metadata": {},
   "outputs": [],
   "source": [
    "bad_inds = list(games_1st[games_1st['game_length']<10].index)\n",
    "\n",
    "for df in games_1st, games_2nd, games_opp:\n",
    "    df.drop(index=bad_inds, inplace=True)"
   ]
  },
  {
   "cell_type": "code",
   "execution_count": 64,
   "id": "6d83271a-a4ca-45dc-a436-0ad6906d215d",
   "metadata": {},
   "outputs": [
    {
     "data": {
      "text/plain": [
       "(23420, 23420, 23420)"
      ]
     },
     "execution_count": 64,
     "metadata": {},
     "output_type": "execute_result"
    }
   ],
   "source": [
    "len(games_1st), len(games_2nd), len(games_opp)"
   ]
  },
  {
   "cell_type": "markdown",
   "id": "7a37d2f7-fa90-4e07-8bd6-63df4e32cf6f",
   "metadata": {},
   "source": [
    "### Look at the means of `conceded` and `game_length` after dropping"
   ]
  },
  {
   "cell_type": "code",
   "execution_count": 65,
   "id": "019a094c-df95-408f-9e92-d52f3ee40f40",
   "metadata": {},
   "outputs": [
    {
     "data": {
      "text/plain": [
       "[0.6274551665243382, 0.6601195559350982, 0.6704526046114432]"
      ]
     },
     "execution_count": 65,
     "metadata": {},
     "output_type": "execute_result"
    }
   ],
   "source": [
    "conceded_proportions = []\n",
    "mean_game_lengths = []\n",
    "\n",
    "for df in games_1st, games_2nd, games_opp:\n",
    "    conceded_proportions.append(df['conceded'].mean())\n",
    "    mean_game_lengths.append(df['game_length'].mean())\n",
    "    \n",
    "conceded_proportions"
   ]
  },
  {
   "cell_type": "markdown",
   "id": "e11882c0-b967-4f70-b954-f6ddf6b22917",
   "metadata": {},
   "source": [
    "As we can see, these players seem to concede about two-thirds of their games before checkmate is reached.  However, new players concede slightly less frequently during their *very first* game."
   ]
  },
  {
   "cell_type": "code",
   "execution_count": 66,
   "id": "b873dd5d-29a0-46c2-94d0-f9a41fc614fd",
   "metadata": {},
   "outputs": [
    {
     "data": {
      "text/plain": [
       "[59.56682322801025, 58.95550811272417, 61.52523484201537]"
      ]
     },
     "execution_count": 66,
     "metadata": {},
     "output_type": "execute_result"
    }
   ],
   "source": [
    "mean_game_lengths"
   ]
  },
  {
   "cell_type": "markdown",
   "id": "79ac5dee-d77b-4cec-882e-ab6e2f5dc237",
   "metadata": {},
   "source": [
    "The mean game length (after dropping games with fewer than 10 moves) is still about 60 for the new players' first and second games, as well as for their 2nd-game opponent's previous games."
   ]
  },
  {
   "cell_type": "markdown",
   "id": "ec9e763c-032e-4c3e-bbca-62159289d8c0",
   "metadata": {},
   "source": [
    "### How many games ended in a draw?"
   ]
  },
  {
   "cell_type": "code",
   "execution_count": 67,
   "id": "ef520d2b-1a3c-4b0c-a09f-566979cacc39",
   "metadata": {},
   "outputs": [
    {
     "data": {
      "text/plain": [
       "[772, 857, 845]"
      ]
     },
     "execution_count": 67,
     "metadata": {},
     "output_type": "execute_result"
    }
   ],
   "source": [
    "draw_nums = []\n",
    "\n",
    "for df in games_1st, games_2nd, games_opp:\n",
    "    draw_nums.append(len(df[df['Result']=='1/2-1/2']))\n",
    "\n",
    "draw_nums"
   ]
  },
  {
   "cell_type": "code",
   "execution_count": 68,
   "id": "9b0da394-bece-4965-85f5-93fcaa54edec",
   "metadata": {},
   "outputs": [
    {
     "data": {
      "text/plain": [
       "[0.03296327924850555, 0.03659265584970111, 0.0360802732707088]"
      ]
     },
     "execution_count": 68,
     "metadata": {},
     "output_type": "execute_result"
    }
   ],
   "source": [
    "#Get these numbers as proportions\n",
    "[x/len(games_1st) for x in draw_nums]"
   ]
  },
  {
   "cell_type": "markdown",
   "id": "82ea4a20-180b-422d-ba05-3908eda83882",
   "metadata": {},
   "source": [
    "We see that among each type of game, between 3.3% and 3.7% of games end in a draw."
   ]
  },
  {
   "cell_type": "markdown",
   "id": "ae714f73-dfef-4891-bb40-0a6aac510275",
   "metadata": {},
   "source": [
    "# Rename columns in terms of the new player"
   ]
  },
  {
   "cell_type": "markdown",
   "id": "f2d8eaab-fef5-4b88-8b8c-19e5438a8f1c",
   "metadata": {},
   "source": [
    "Rather than frame everything in terms of the \"White\" and \"Black\" players, it is more useful for us to frame everything in terms of the \"new player\" and \"new player's opponent.\"  For example, instead of the columns `WhiteElo` and `BlackElo`, we should have the columns `elo` and `opponent_elo`."
   ]
  },
  {
   "cell_type": "code",
   "execution_count": 69,
   "id": "98fcbb02-5e3b-45c9-9ff6-c0e9690a4332",
   "metadata": {},
   "outputs": [],
   "source": [
    "def did_white_win(x):\n",
    "    '''\n",
    "    Takes a string x of the form \"1-0\", \"0-1\" or \"1/2-1/2\".\n",
    "    Returns 1.0 if White won, 0.0 if Black won, and .5 if the game was a draw.\n",
    "    '''\n",
    "    if x == '1-0':\n",
    "        return 1.0\n",
    "    if x == '0-1':\n",
    "        return 0.0\n",
    "    if x == '1/2-1/2':\n",
    "        return .5"
   ]
  },
  {
   "cell_type": "markdown",
   "id": "756abb99-76ea-405c-b5cf-600d43e4431d",
   "metadata": {},
   "source": [
    "### First and second games of new players"
   ]
  },
  {
   "cell_type": "code",
   "execution_count": 70,
   "id": "366455f4-4f8c-45a0-a3ce-c512241cea7e",
   "metadata": {},
   "outputs": [],
   "source": [
    "for df in games_1st, games_2nd:\n",
    "    \n",
    "    #Initialize new columns\n",
    "    df['new_pl_color'] = pd.Series()\n",
    "    df['opponent'] = pd.Series()\n",
    "    df['new_pl_won'] = pd.Series()\n",
    "    df['new_pl_elo'] = pd.Series()\n",
    "    df['opp_elo'] = pd.Series()\n",
    "    df['new_pl_rating_diff'] = pd.Series()\n",
    "    df['opp_rating_diff'] = pd.Series()\n",
    "    \n",
    "    df['time_limit'] = pd.Series()\n",
    "    df['time_gain_per_move'] = pd.Series()\n",
    "    \n",
    "    #Loop over the rows\n",
    "    for ind, row in df.iterrows():\n",
    "        #Check whether the new player (listed in the index of this row) is White or Black this game\n",
    "        is_white = (row['White']==ind)\n",
    "        is_black = (row['Black']==ind)\n",
    "        \n",
    "        #Make sure we've identified the player in the index as either the White or Black player (and not both)\n",
    "        if (not (is_white or is_black)) or (is_white and is_black):\n",
    "            raise ValueError('Could not uniquely find name of new player among White and Black players')\n",
    "        \n",
    "        #Get the correct names and set the correct outcome of the game\n",
    "        if is_white:\n",
    "            new_pl = 'White'\n",
    "            opponent = 'Black'\n",
    "            df.at[ind, 'new_pl_won'] = did_white_win(row['Result'])\n",
    "        if is_black:\n",
    "            new_pl = 'Black'\n",
    "            opponent = 'White'\n",
    "            df.at[ind, 'new_pl_won'] = 1.0 - did_white_win(row['Result'])\n",
    "            \n",
    "        #Set the values appropriately in the new columns\n",
    "        df.at[ind,'new_pl_color'] = new_pl\n",
    "        df.at[ind,'opponent'] = row[f\"{opponent}\"]\n",
    "        df.at[ind,'new_pl_elo'] = row[f\"{new_pl}Elo\"]\n",
    "        df.at[ind,'opp_elo'] = row[f\"{opponent}Elo\"]\n",
    "        df.at[ind,'new_pl_rating_diff'] = row[f\"{new_pl}RatingDiff\"]\n",
    "        df.at[ind,'opp_rating_diff'] = row[f\"{opponent}RatingDiff\"]\n",
    "        \n",
    "        #Also, split up the `TimeControl` column into the time limit and the clock increment per move\n",
    "        df.at[ind,'time_limit'] = int(row['TimeControl'].split('+')[0])\n",
    "        df.at[ind,'time_gain_per_move'] = int(row['TimeControl'].split('+')[1])\n"
   ]
  },
  {
   "cell_type": "code",
   "execution_count": 71,
   "id": "78dfabce-658a-401c-9095-193cfca1301e",
   "metadata": {},
   "outputs": [
    {
     "data": {
      "text/html": [
       "<div>\n",
       "<style scoped>\n",
       "    .dataframe tbody tr th:only-of-type {\n",
       "        vertical-align: middle;\n",
       "    }\n",
       "\n",
       "    .dataframe tbody tr th {\n",
       "        vertical-align: top;\n",
       "    }\n",
       "\n",
       "    .dataframe thead th {\n",
       "        text-align: right;\n",
       "    }\n",
       "</style>\n",
       "<table border=\"1\" class=\"dataframe\">\n",
       "  <thead>\n",
       "    <tr style=\"text-align: right;\">\n",
       "      <th></th>\n",
       "      <th>Event</th>\n",
       "      <th>White</th>\n",
       "      <th>Black</th>\n",
       "      <th>Result</th>\n",
       "      <th>WhiteElo</th>\n",
       "      <th>BlackElo</th>\n",
       "      <th>WhiteRatingDiff</th>\n",
       "      <th>BlackRatingDiff</th>\n",
       "      <th>TimeControl</th>\n",
       "      <th>Termination</th>\n",
       "      <th>...</th>\n",
       "      <th>both_players_1st_game</th>\n",
       "      <th>game_length</th>\n",
       "      <th>conceded</th>\n",
       "      <th>new_pl_color</th>\n",
       "      <th>opponent</th>\n",
       "      <th>new_pl_won</th>\n",
       "      <th>new_pl_elo</th>\n",
       "      <th>opp_elo</th>\n",
       "      <th>new_pl_rating_diff</th>\n",
       "      <th>opp_rating_diff</th>\n",
       "    </tr>\n",
       "    <tr>\n",
       "      <th>name_of_pl_playing_1st_game</th>\n",
       "      <th></th>\n",
       "      <th></th>\n",
       "      <th></th>\n",
       "      <th></th>\n",
       "      <th></th>\n",
       "      <th></th>\n",
       "      <th></th>\n",
       "      <th></th>\n",
       "      <th></th>\n",
       "      <th></th>\n",
       "      <th></th>\n",
       "      <th></th>\n",
       "      <th></th>\n",
       "      <th></th>\n",
       "      <th></th>\n",
       "      <th></th>\n",
       "      <th></th>\n",
       "      <th></th>\n",
       "      <th></th>\n",
       "      <th></th>\n",
       "      <th></th>\n",
       "    </tr>\n",
       "  </thead>\n",
       "  <tbody>\n",
       "    <tr>\n",
       "      <th>sereno</th>\n",
       "      <td>Classical</td>\n",
       "      <td>fabikim</td>\n",
       "      <td>sereno</td>\n",
       "      <td>1-0</td>\n",
       "      <td>1630</td>\n",
       "      <td>1500</td>\n",
       "      <td>7.0</td>\n",
       "      <td>-7.0</td>\n",
       "      <td>420+5</td>\n",
       "      <td>Normal</td>\n",
       "      <td>...</td>\n",
       "      <td>0</td>\n",
       "      <td>69</td>\n",
       "      <td>1</td>\n",
       "      <td>Black</td>\n",
       "      <td>fabikim</td>\n",
       "      <td>0.0</td>\n",
       "      <td>1500.0</td>\n",
       "      <td>1630.0</td>\n",
       "      <td>-7.0</td>\n",
       "      <td>7.0</td>\n",
       "    </tr>\n",
       "    <tr>\n",
       "      <th>Veska</th>\n",
       "      <td>Classical</td>\n",
       "      <td>daan1982</td>\n",
       "      <td>Veska</td>\n",
       "      <td>1-0</td>\n",
       "      <td>1734</td>\n",
       "      <td>1500</td>\n",
       "      <td>4.0</td>\n",
       "      <td>-87.0</td>\n",
       "      <td>120+10</td>\n",
       "      <td>Time forfeit</td>\n",
       "      <td>...</td>\n",
       "      <td>0</td>\n",
       "      <td>49</td>\n",
       "      <td>1</td>\n",
       "      <td>Black</td>\n",
       "      <td>daan1982</td>\n",
       "      <td>0.0</td>\n",
       "      <td>1500.0</td>\n",
       "      <td>1734.0</td>\n",
       "      <td>-87.0</td>\n",
       "      <td>4.0</td>\n",
       "    </tr>\n",
       "    <tr>\n",
       "      <th>OhNoYouDidnt</th>\n",
       "      <td>Bullet</td>\n",
       "      <td>bianca2107</td>\n",
       "      <td>OhNoYouDidnt</td>\n",
       "      <td>0-1</td>\n",
       "      <td>1550</td>\n",
       "      <td>1500</td>\n",
       "      <td>-21.0</td>\n",
       "      <td>13.0</td>\n",
       "      <td>120+0</td>\n",
       "      <td>Time forfeit</td>\n",
       "      <td>...</td>\n",
       "      <td>0</td>\n",
       "      <td>42</td>\n",
       "      <td>1</td>\n",
       "      <td>Black</td>\n",
       "      <td>bianca2107</td>\n",
       "      <td>1.0</td>\n",
       "      <td>1500.0</td>\n",
       "      <td>1550.0</td>\n",
       "      <td>13.0</td>\n",
       "      <td>-21.0</td>\n",
       "    </tr>\n",
       "    <tr>\n",
       "      <th>Kevpod</th>\n",
       "      <td>Bullet</td>\n",
       "      <td>Kevpod</td>\n",
       "      <td>SOLODSV72</td>\n",
       "      <td>0-1</td>\n",
       "      <td>1500</td>\n",
       "      <td>1359</td>\n",
       "      <td>-260.0</td>\n",
       "      <td>9.0</td>\n",
       "      <td>120+0</td>\n",
       "      <td>Time forfeit</td>\n",
       "      <td>...</td>\n",
       "      <td>0</td>\n",
       "      <td>50</td>\n",
       "      <td>1</td>\n",
       "      <td>White</td>\n",
       "      <td>SOLODSV72</td>\n",
       "      <td>0.0</td>\n",
       "      <td>1500.0</td>\n",
       "      <td>1359.0</td>\n",
       "      <td>-260.0</td>\n",
       "      <td>9.0</td>\n",
       "    </tr>\n",
       "    <tr>\n",
       "      <th>Jesu</th>\n",
       "      <td>Classical</td>\n",
       "      <td>Jesu</td>\n",
       "      <td>mostafaman</td>\n",
       "      <td>0-1</td>\n",
       "      <td>1500</td>\n",
       "      <td>1477</td>\n",
       "      <td>-183.0</td>\n",
       "      <td>23.0</td>\n",
       "      <td>480+0</td>\n",
       "      <td>Normal</td>\n",
       "      <td>...</td>\n",
       "      <td>0</td>\n",
       "      <td>98</td>\n",
       "      <td>0</td>\n",
       "      <td>White</td>\n",
       "      <td>mostafaman</td>\n",
       "      <td>0.0</td>\n",
       "      <td>1500.0</td>\n",
       "      <td>1477.0</td>\n",
       "      <td>-183.0</td>\n",
       "      <td>23.0</td>\n",
       "    </tr>\n",
       "  </tbody>\n",
       "</table>\n",
       "<p>5 rows × 23 columns</p>\n",
       "</div>"
      ],
      "text/plain": [
       "                                 Event       White         Black Result  \\\n",
       "name_of_pl_playing_1st_game                                               \n",
       "sereno                       Classical     fabikim        sereno    1-0   \n",
       "Veska                        Classical    daan1982         Veska    1-0   \n",
       "OhNoYouDidnt                    Bullet  bianca2107  OhNoYouDidnt    0-1   \n",
       "Kevpod                          Bullet      Kevpod     SOLODSV72    0-1   \n",
       "Jesu                         Classical        Jesu    mostafaman    0-1   \n",
       "\n",
       "                             WhiteElo  BlackElo  WhiteRatingDiff  \\\n",
       "name_of_pl_playing_1st_game                                        \n",
       "sereno                           1630      1500              7.0   \n",
       "Veska                            1734      1500              4.0   \n",
       "OhNoYouDidnt                     1550      1500            -21.0   \n",
       "Kevpod                           1500      1359           -260.0   \n",
       "Jesu                             1500      1477           -183.0   \n",
       "\n",
       "                             BlackRatingDiff TimeControl   Termination  ...  \\\n",
       "name_of_pl_playing_1st_game                                             ...   \n",
       "sereno                                  -7.0       420+5        Normal  ...   \n",
       "Veska                                  -87.0      120+10  Time forfeit  ...   \n",
       "OhNoYouDidnt                            13.0       120+0  Time forfeit  ...   \n",
       "Kevpod                                   9.0       120+0  Time forfeit  ...   \n",
       "Jesu                                    23.0       480+0        Normal  ...   \n",
       "\n",
       "                            both_players_1st_game game_length  conceded  \\\n",
       "name_of_pl_playing_1st_game                                               \n",
       "sereno                                          0          69         1   \n",
       "Veska                                           0          49         1   \n",
       "OhNoYouDidnt                                    0          42         1   \n",
       "Kevpod                                          0          50         1   \n",
       "Jesu                                            0          98         0   \n",
       "\n",
       "                             new_pl_color    opponent  new_pl_won new_pl_elo  \\\n",
       "name_of_pl_playing_1st_game                                                    \n",
       "sereno                              Black     fabikim         0.0     1500.0   \n",
       "Veska                               Black    daan1982         0.0     1500.0   \n",
       "OhNoYouDidnt                        Black  bianca2107         1.0     1500.0   \n",
       "Kevpod                              White   SOLODSV72         0.0     1500.0   \n",
       "Jesu                                White  mostafaman         0.0     1500.0   \n",
       "\n",
       "                            opp_elo  new_pl_rating_diff  opp_rating_diff  \n",
       "name_of_pl_playing_1st_game                                               \n",
       "sereno                       1630.0                -7.0              7.0  \n",
       "Veska                        1734.0               -87.0              4.0  \n",
       "OhNoYouDidnt                 1550.0                13.0            -21.0  \n",
       "Kevpod                       1359.0              -260.0              9.0  \n",
       "Jesu                         1477.0              -183.0             23.0  \n",
       "\n",
       "[5 rows x 23 columns]"
      ]
     },
     "execution_count": 71,
     "metadata": {},
     "output_type": "execute_result"
    }
   ],
   "source": [
    "#Check that everything based on the players was transferred properly\n",
    "games_1st.drop(columns=['time_limit', 'time_gain_per_move']).head()\n",
    "#Look at the first several and last several columns of these games to see that it worked!"
   ]
  },
  {
   "cell_type": "code",
   "execution_count": 72,
   "id": "3c2d82fb-0176-41a7-adae-c50bfb230f06",
   "metadata": {},
   "outputs": [
    {
     "data": {
      "text/html": [
       "<div>\n",
       "<style scoped>\n",
       "    .dataframe tbody tr th:only-of-type {\n",
       "        vertical-align: middle;\n",
       "    }\n",
       "\n",
       "    .dataframe tbody tr th {\n",
       "        vertical-align: top;\n",
       "    }\n",
       "\n",
       "    .dataframe thead th {\n",
       "        text-align: right;\n",
       "    }\n",
       "</style>\n",
       "<table border=\"1\" class=\"dataframe\">\n",
       "  <thead>\n",
       "    <tr style=\"text-align: right;\">\n",
       "      <th></th>\n",
       "      <th>Event</th>\n",
       "      <th>White</th>\n",
       "      <th>Black</th>\n",
       "      <th>Result</th>\n",
       "      <th>WhiteElo</th>\n",
       "      <th>BlackElo</th>\n",
       "      <th>WhiteRatingDiff</th>\n",
       "      <th>BlackRatingDiff</th>\n",
       "      <th>TimeControl</th>\n",
       "      <th>Termination</th>\n",
       "      <th>...</th>\n",
       "      <th>both_players_1st_game</th>\n",
       "      <th>game_length</th>\n",
       "      <th>conceded</th>\n",
       "      <th>new_pl_color</th>\n",
       "      <th>opponent</th>\n",
       "      <th>new_pl_won</th>\n",
       "      <th>new_pl_elo</th>\n",
       "      <th>opp_elo</th>\n",
       "      <th>new_pl_rating_diff</th>\n",
       "      <th>opp_rating_diff</th>\n",
       "    </tr>\n",
       "    <tr>\n",
       "      <th>name_of_pl_playing_1st_game</th>\n",
       "      <th></th>\n",
       "      <th></th>\n",
       "      <th></th>\n",
       "      <th></th>\n",
       "      <th></th>\n",
       "      <th></th>\n",
       "      <th></th>\n",
       "      <th></th>\n",
       "      <th></th>\n",
       "      <th></th>\n",
       "      <th></th>\n",
       "      <th></th>\n",
       "      <th></th>\n",
       "      <th></th>\n",
       "      <th></th>\n",
       "      <th></th>\n",
       "      <th></th>\n",
       "      <th></th>\n",
       "      <th></th>\n",
       "      <th></th>\n",
       "      <th></th>\n",
       "    </tr>\n",
       "  </thead>\n",
       "  <tbody>\n",
       "    <tr>\n",
       "      <th>ViklunDtv</th>\n",
       "      <td>Blitz</td>\n",
       "      <td>jacek-k-37</td>\n",
       "      <td>ViklunDtv</td>\n",
       "      <td>1/2-1/2</td>\n",
       "      <td>1532</td>\n",
       "      <td>1500</td>\n",
       "      <td>0.0</td>\n",
       "      <td>16.0</td>\n",
       "      <td>300+0</td>\n",
       "      <td>Normal</td>\n",
       "      <td>...</td>\n",
       "      <td>0</td>\n",
       "      <td>136</td>\n",
       "      <td>1</td>\n",
       "      <td>Black</td>\n",
       "      <td>jacek-k-37</td>\n",
       "      <td>0.5</td>\n",
       "      <td>1500.0</td>\n",
       "      <td>1532.0</td>\n",
       "      <td>16.0</td>\n",
       "      <td>0.0</td>\n",
       "    </tr>\n",
       "    <tr>\n",
       "      <th>Voltair</th>\n",
       "      <td>Bullet</td>\n",
       "      <td>BrazilianStorm</td>\n",
       "      <td>Voltair</td>\n",
       "      <td>1/2-1/2</td>\n",
       "      <td>1274</td>\n",
       "      <td>1500</td>\n",
       "      <td>3.0</td>\n",
       "      <td>-117.0</td>\n",
       "      <td>30+3</td>\n",
       "      <td>Normal</td>\n",
       "      <td>...</td>\n",
       "      <td>0</td>\n",
       "      <td>66</td>\n",
       "      <td>1</td>\n",
       "      <td>Black</td>\n",
       "      <td>BrazilianStorm</td>\n",
       "      <td>0.5</td>\n",
       "      <td>1500.0</td>\n",
       "      <td>1274.0</td>\n",
       "      <td>-117.0</td>\n",
       "      <td>3.0</td>\n",
       "    </tr>\n",
       "    <tr>\n",
       "      <th>VANY11A</th>\n",
       "      <td>Classical</td>\n",
       "      <td>VANY11A</td>\n",
       "      <td>Enconuta</td>\n",
       "      <td>1/2-1/2</td>\n",
       "      <td>1500</td>\n",
       "      <td>1459</td>\n",
       "      <td>-20.0</td>\n",
       "      <td>1.0</td>\n",
       "      <td>600+0</td>\n",
       "      <td>Time forfeit</td>\n",
       "      <td>...</td>\n",
       "      <td>0</td>\n",
       "      <td>124</td>\n",
       "      <td>1</td>\n",
       "      <td>White</td>\n",
       "      <td>Enconuta</td>\n",
       "      <td>0.5</td>\n",
       "      <td>1500.0</td>\n",
       "      <td>1459.0</td>\n",
       "      <td>-20.0</td>\n",
       "      <td>1.0</td>\n",
       "    </tr>\n",
       "    <tr>\n",
       "      <th>sidinei</th>\n",
       "      <td>Classical</td>\n",
       "      <td>sidinei</td>\n",
       "      <td>Hektorhr3</td>\n",
       "      <td>1/2-1/2</td>\n",
       "      <td>1500</td>\n",
       "      <td>1493</td>\n",
       "      <td>-4.0</td>\n",
       "      <td>0.0</td>\n",
       "      <td>600+0</td>\n",
       "      <td>Normal</td>\n",
       "      <td>...</td>\n",
       "      <td>0</td>\n",
       "      <td>104</td>\n",
       "      <td>1</td>\n",
       "      <td>White</td>\n",
       "      <td>Hektorhr3</td>\n",
       "      <td>0.5</td>\n",
       "      <td>1500.0</td>\n",
       "      <td>1493.0</td>\n",
       "      <td>-4.0</td>\n",
       "      <td>0.0</td>\n",
       "    </tr>\n",
       "    <tr>\n",
       "      <th>chucho99</th>\n",
       "      <td>Classical</td>\n",
       "      <td>FedeGarcia</td>\n",
       "      <td>chucho99</td>\n",
       "      <td>1/2-1/2</td>\n",
       "      <td>1198</td>\n",
       "      <td>1500</td>\n",
       "      <td>26.0</td>\n",
       "      <td>-7.0</td>\n",
       "      <td>720+12</td>\n",
       "      <td>Time forfeit</td>\n",
       "      <td>...</td>\n",
       "      <td>0</td>\n",
       "      <td>110</td>\n",
       "      <td>1</td>\n",
       "      <td>Black</td>\n",
       "      <td>FedeGarcia</td>\n",
       "      <td>0.5</td>\n",
       "      <td>1500.0</td>\n",
       "      <td>1198.0</td>\n",
       "      <td>-7.0</td>\n",
       "      <td>26.0</td>\n",
       "    </tr>\n",
       "  </tbody>\n",
       "</table>\n",
       "<p>5 rows × 23 columns</p>\n",
       "</div>"
      ],
      "text/plain": [
       "                                 Event           White      Black   Result  \\\n",
       "name_of_pl_playing_1st_game                                                  \n",
       "ViklunDtv                        Blitz      jacek-k-37  ViklunDtv  1/2-1/2   \n",
       "Voltair                         Bullet  BrazilianStorm    Voltair  1/2-1/2   \n",
       "VANY11A                      Classical         VANY11A   Enconuta  1/2-1/2   \n",
       "sidinei                      Classical         sidinei  Hektorhr3  1/2-1/2   \n",
       "chucho99                     Classical      FedeGarcia   chucho99  1/2-1/2   \n",
       "\n",
       "                             WhiteElo  BlackElo  WhiteRatingDiff  \\\n",
       "name_of_pl_playing_1st_game                                        \n",
       "ViklunDtv                        1532      1500              0.0   \n",
       "Voltair                          1274      1500              3.0   \n",
       "VANY11A                          1500      1459            -20.0   \n",
       "sidinei                          1500      1493             -4.0   \n",
       "chucho99                         1198      1500             26.0   \n",
       "\n",
       "                             BlackRatingDiff TimeControl   Termination  ...  \\\n",
       "name_of_pl_playing_1st_game                                             ...   \n",
       "ViklunDtv                               16.0       300+0        Normal  ...   \n",
       "Voltair                               -117.0        30+3        Normal  ...   \n",
       "VANY11A                                  1.0       600+0  Time forfeit  ...   \n",
       "sidinei                                  0.0       600+0        Normal  ...   \n",
       "chucho99                                -7.0      720+12  Time forfeit  ...   \n",
       "\n",
       "                            both_players_1st_game game_length  conceded  \\\n",
       "name_of_pl_playing_1st_game                                               \n",
       "ViklunDtv                                       0         136         1   \n",
       "Voltair                                         0          66         1   \n",
       "VANY11A                                         0         124         1   \n",
       "sidinei                                         0         104         1   \n",
       "chucho99                                        0         110         1   \n",
       "\n",
       "                             new_pl_color        opponent  new_pl_won  \\\n",
       "name_of_pl_playing_1st_game                                             \n",
       "ViklunDtv                           Black      jacek-k-37         0.5   \n",
       "Voltair                             Black  BrazilianStorm         0.5   \n",
       "VANY11A                             White        Enconuta         0.5   \n",
       "sidinei                             White       Hektorhr3         0.5   \n",
       "chucho99                            Black      FedeGarcia         0.5   \n",
       "\n",
       "                            new_pl_elo opp_elo  new_pl_rating_diff  \\\n",
       "name_of_pl_playing_1st_game                                          \n",
       "ViklunDtv                       1500.0  1532.0                16.0   \n",
       "Voltair                         1500.0  1274.0              -117.0   \n",
       "VANY11A                         1500.0  1459.0               -20.0   \n",
       "sidinei                         1500.0  1493.0                -4.0   \n",
       "chucho99                        1500.0  1198.0                -7.0   \n",
       "\n",
       "                             opp_rating_diff  \n",
       "name_of_pl_playing_1st_game                   \n",
       "ViklunDtv                                0.0  \n",
       "Voltair                                  3.0  \n",
       "VANY11A                                  1.0  \n",
       "sidinei                                  0.0  \n",
       "chucho99                                26.0  \n",
       "\n",
       "[5 rows x 23 columns]"
      ]
     },
     "execution_count": 72,
     "metadata": {},
     "output_type": "execute_result"
    }
   ],
   "source": [
    "#Look at some rows corresponding to games that were a draw\n",
    "games_1st[games_1st['Result']=='1/2-1/2'].drop(columns=['time_limit', 'time_gain_per_move']).head()"
   ]
  },
  {
   "cell_type": "code",
   "execution_count": 73,
   "id": "f56a9ee0-3788-4351-a432-4fbb9fc9f35e",
   "metadata": {},
   "outputs": [
    {
     "data": {
      "text/html": [
       "<div>\n",
       "<style scoped>\n",
       "    .dataframe tbody tr th:only-of-type {\n",
       "        vertical-align: middle;\n",
       "    }\n",
       "\n",
       "    .dataframe tbody tr th {\n",
       "        vertical-align: top;\n",
       "    }\n",
       "\n",
       "    .dataframe thead th {\n",
       "        text-align: right;\n",
       "    }\n",
       "</style>\n",
       "<table border=\"1\" class=\"dataframe\">\n",
       "  <thead>\n",
       "    <tr style=\"text-align: right;\">\n",
       "      <th></th>\n",
       "      <th>TimeControl</th>\n",
       "      <th>time_limit</th>\n",
       "      <th>time_gain_per_move</th>\n",
       "    </tr>\n",
       "    <tr>\n",
       "      <th>name_of_pl_playing_1st_game</th>\n",
       "      <th></th>\n",
       "      <th></th>\n",
       "      <th></th>\n",
       "    </tr>\n",
       "  </thead>\n",
       "  <tbody>\n",
       "    <tr>\n",
       "      <th>sereno</th>\n",
       "      <td>420+5</td>\n",
       "      <td>420.0</td>\n",
       "      <td>5.0</td>\n",
       "    </tr>\n",
       "    <tr>\n",
       "      <th>Veska</th>\n",
       "      <td>120+10</td>\n",
       "      <td>120.0</td>\n",
       "      <td>10.0</td>\n",
       "    </tr>\n",
       "    <tr>\n",
       "      <th>OhNoYouDidnt</th>\n",
       "      <td>120+0</td>\n",
       "      <td>120.0</td>\n",
       "      <td>0.0</td>\n",
       "    </tr>\n",
       "    <tr>\n",
       "      <th>Kevpod</th>\n",
       "      <td>120+0</td>\n",
       "      <td>120.0</td>\n",
       "      <td>0.0</td>\n",
       "    </tr>\n",
       "    <tr>\n",
       "      <th>Jesu</th>\n",
       "      <td>480+0</td>\n",
       "      <td>480.0</td>\n",
       "      <td>0.0</td>\n",
       "    </tr>\n",
       "  </tbody>\n",
       "</table>\n",
       "</div>"
      ],
      "text/plain": [
       "                            TimeControl  time_limit  time_gain_per_move\n",
       "name_of_pl_playing_1st_game                                            \n",
       "sereno                            420+5       420.0                 5.0\n",
       "Veska                            120+10       120.0                10.0\n",
       "OhNoYouDidnt                      120+0       120.0                 0.0\n",
       "Kevpod                            120+0       120.0                 0.0\n",
       "Jesu                              480+0       480.0                 0.0"
      ]
     },
     "execution_count": 73,
     "metadata": {},
     "output_type": "execute_result"
    }
   ],
   "source": [
    "#Look at the `TimeControl` column vs. our new time columns\n",
    "games_1st[['TimeControl', 'time_limit', 'time_gain_per_move']].head()"
   ]
  },
  {
   "cell_type": "markdown",
   "id": "9542990a-5dda-4ac9-8f30-e9c7677bec6f",
   "metadata": {},
   "source": [
    "### Games played by new players' 2nd-game opponents immediately beforehand"
   ]
  },
  {
   "cell_type": "code",
   "execution_count": 74,
   "id": "3ce67576-1283-4950-8a51-04d081a472f8",
   "metadata": {},
   "outputs": [],
   "source": [
    "#Initialize new columns\n",
    "games_opp['opp_of_new_pl'] = pd.Series()\n",
    "games_opp['opp_of_opp'] = pd.Series()\n",
    "games_opp['opp_color'] = pd.Series()\n",
    "games_opp['opp_won'] = pd.Series()\n",
    "games_opp['opp_elo'] = pd.Series()\n",
    "games_opp['opp_opp_elo'] = pd.Series()\n",
    "games_opp['opp_rating_diff'] = pd.Series()\n",
    "games_opp['opp_opp_rating_diff'] = pd.Series()\n",
    "\n",
    "games_opp['time_limit'] = pd.Series()\n",
    "games_opp['time_gain_per_move'] = pd.Series()\n",
    "    \n",
    "for ind, row in games_opp.iterrows():\n",
    "    #If this row corresponds to a nonexistent game, skip it\n",
    "    if pd.isnull(row['AN']):\n",
    "        continue\n",
    "    \n",
    "    #Get the name of the user who's going to be the new player's opponent next game\n",
    "    opp_name = row['user_to_play_new_pl_next_game']\n",
    "    \n",
    "    #Check whether this \"opponent\" (of the new player) is White or Black this game\n",
    "    is_white = (row['White']==opp_name)\n",
    "    is_black = (row['Black']==opp_name)\n",
    "        \n",
    "    #Make sure we've identified this player as either the White or Black player (and not both)\n",
    "    if (not (is_white or is_black)) or (is_white and is_black):\n",
    "        raise ValueError(\"Could not uniquely find name of new player's opponent among White and Black players\")\n",
    "        \n",
    "    #Get the correct names and set the correct outcome of the game\n",
    "    if is_white:\n",
    "        opp = 'White'\n",
    "        opp_opp = 'Black'\n",
    "        games_opp.at[ind, 'opp_won'] = did_white_win(row['Result'])\n",
    "        \n",
    "    if is_black:\n",
    "        opp = 'Black'\n",
    "        opp_opp = 'White'\n",
    "        games_opp.at[ind, 'opp_won'] = 1.0 - did_white_win(row['Result'])\n",
    "            \n",
    "    #Set the values appropriately in the new columns\n",
    "    games_opp.at[ind,'opp_of_new_pl'] = opp_name\n",
    "    games_opp.at[ind,'opp_of_opp'] = row[opp_opp]\n",
    "    games_opp.at[ind,'opp_color'] = opp\n",
    "    games_opp.at[ind,'opp_elo'] = row[f\"{opp}Elo\"]\n",
    "    games_opp.at[ind,'opp_opp_elo'] = row[f\"{opp_opp}Elo\"]\n",
    "    games_opp.at[ind,'opp_rating_diff'] = row[f\"{opp}RatingDiff\"]\n",
    "    games_opp.at[ind,'opp_opp_rating_diff'] = row[f\"{opp_opp}RatingDiff\"]\n",
    "    \n",
    "    #Also, split up the `TimeControl` column into the time limit and the clock increment per move\n",
    "    games_opp.at[ind,'time_limit'] = int(row['TimeControl'].split('+')[0])\n",
    "    games_opp.at[ind,'time_gain_per_move'] = int(row['TimeControl'].split('+')[1])"
   ]
  },
  {
   "cell_type": "code",
   "execution_count": 75,
   "id": "521b6ca3-a228-437f-98c1-ae04fcfaa43e",
   "metadata": {},
   "outputs": [
    {
     "data": {
      "text/html": [
       "<div>\n",
       "<style scoped>\n",
       "    .dataframe tbody tr th:only-of-type {\n",
       "        vertical-align: middle;\n",
       "    }\n",
       "\n",
       "    .dataframe tbody tr th {\n",
       "        vertical-align: top;\n",
       "    }\n",
       "\n",
       "    .dataframe thead th {\n",
       "        text-align: right;\n",
       "    }\n",
       "</style>\n",
       "<table border=\"1\" class=\"dataframe\">\n",
       "  <thead>\n",
       "    <tr style=\"text-align: right;\">\n",
       "      <th></th>\n",
       "      <th>White</th>\n",
       "      <th>Black</th>\n",
       "      <th>Result</th>\n",
       "      <th>WhiteElo</th>\n",
       "      <th>BlackElo</th>\n",
       "      <th>WhiteRatingDiff</th>\n",
       "      <th>BlackRatingDiff</th>\n",
       "      <th>datetime</th>\n",
       "      <th>timestamp</th>\n",
       "      <th>user_to_play_new_pl_next_game</th>\n",
       "      <th>...</th>\n",
       "      <th>game_length</th>\n",
       "      <th>conceded</th>\n",
       "      <th>opp_of_new_pl</th>\n",
       "      <th>opp_of_opp</th>\n",
       "      <th>opp_color</th>\n",
       "      <th>opp_won</th>\n",
       "      <th>opp_elo</th>\n",
       "      <th>opp_opp_elo</th>\n",
       "      <th>opp_rating_diff</th>\n",
       "      <th>opp_opp_rating_diff</th>\n",
       "    </tr>\n",
       "    <tr>\n",
       "      <th>new_pl_to_be_played_next_game</th>\n",
       "      <th></th>\n",
       "      <th></th>\n",
       "      <th></th>\n",
       "      <th></th>\n",
       "      <th></th>\n",
       "      <th></th>\n",
       "      <th></th>\n",
       "      <th></th>\n",
       "      <th></th>\n",
       "      <th></th>\n",
       "      <th></th>\n",
       "      <th></th>\n",
       "      <th></th>\n",
       "      <th></th>\n",
       "      <th></th>\n",
       "      <th></th>\n",
       "      <th></th>\n",
       "      <th></th>\n",
       "      <th></th>\n",
       "      <th></th>\n",
       "      <th></th>\n",
       "    </tr>\n",
       "  </thead>\n",
       "  <tbody>\n",
       "    <tr>\n",
       "      <th>farfalla</th>\n",
       "      <td>Claudiosparov</td>\n",
       "      <td>gonzo0506</td>\n",
       "      <td>0-1</td>\n",
       "      <td>1432.0</td>\n",
       "      <td>1355.0</td>\n",
       "      <td>-14.0</td>\n",
       "      <td>13.0</td>\n",
       "      <td>2016-06-30 22:01:02</td>\n",
       "      <td>1.467324e+09</td>\n",
       "      <td>gonzo0506</td>\n",
       "      <td>...</td>\n",
       "      <td>47</td>\n",
       "      <td>1</td>\n",
       "      <td>gonzo0506</td>\n",
       "      <td>Claudiosparov</td>\n",
       "      <td>Black</td>\n",
       "      <td>1.0</td>\n",
       "      <td>1355.0</td>\n",
       "      <td>1432.0</td>\n",
       "      <td>13.0</td>\n",
       "      <td>-14.0</td>\n",
       "    </tr>\n",
       "    <tr>\n",
       "      <th>aluis</th>\n",
       "      <td>dn23</td>\n",
       "      <td>aluis</td>\n",
       "      <td>0-1</td>\n",
       "      <td>1509.0</td>\n",
       "      <td>1500.0</td>\n",
       "      <td>-19.0</td>\n",
       "      <td>183.0</td>\n",
       "      <td>2016-06-30 22:02:44</td>\n",
       "      <td>1.467324e+09</td>\n",
       "      <td>dn23</td>\n",
       "      <td>...</td>\n",
       "      <td>46</td>\n",
       "      <td>1</td>\n",
       "      <td>dn23</td>\n",
       "      <td>aluis</td>\n",
       "      <td>White</td>\n",
       "      <td>0.0</td>\n",
       "      <td>1509.0</td>\n",
       "      <td>1500.0</td>\n",
       "      <td>-19.0</td>\n",
       "      <td>183.0</td>\n",
       "    </tr>\n",
       "    <tr>\n",
       "      <th>sereno</th>\n",
       "      <td>Wolf92</td>\n",
       "      <td>David177</td>\n",
       "      <td>1-0</td>\n",
       "      <td>1723.0</td>\n",
       "      <td>1289.0</td>\n",
       "      <td>2.0</td>\n",
       "      <td>-2.0</td>\n",
       "      <td>2016-06-30 22:05:14</td>\n",
       "      <td>1.467324e+09</td>\n",
       "      <td>Wolf92</td>\n",
       "      <td>...</td>\n",
       "      <td>27</td>\n",
       "      <td>0</td>\n",
       "      <td>Wolf92</td>\n",
       "      <td>David177</td>\n",
       "      <td>White</td>\n",
       "      <td>1.0</td>\n",
       "      <td>1723.0</td>\n",
       "      <td>1289.0</td>\n",
       "      <td>2.0</td>\n",
       "      <td>-2.0</td>\n",
       "    </tr>\n",
       "    <tr>\n",
       "      <th>joselock</th>\n",
       "      <td>Kostas3360</td>\n",
       "      <td>C4stro</td>\n",
       "      <td>1-0</td>\n",
       "      <td>1343.0</td>\n",
       "      <td>1204.0</td>\n",
       "      <td>11.0</td>\n",
       "      <td>-8.0</td>\n",
       "      <td>2016-06-30 22:05:54</td>\n",
       "      <td>1.467324e+09</td>\n",
       "      <td>C4stro</td>\n",
       "      <td>...</td>\n",
       "      <td>43</td>\n",
       "      <td>0</td>\n",
       "      <td>C4stro</td>\n",
       "      <td>Kostas3360</td>\n",
       "      <td>Black</td>\n",
       "      <td>0.0</td>\n",
       "      <td>1204.0</td>\n",
       "      <td>1343.0</td>\n",
       "      <td>-8.0</td>\n",
       "      <td>11.0</td>\n",
       "    </tr>\n",
       "    <tr>\n",
       "      <th>casperownd</th>\n",
       "      <td>rodrigokenji</td>\n",
       "      <td>eilandje</td>\n",
       "      <td>0-1</td>\n",
       "      <td>1454.0</td>\n",
       "      <td>1517.0</td>\n",
       "      <td>-16.0</td>\n",
       "      <td>10.0</td>\n",
       "      <td>2016-06-30 22:06:42</td>\n",
       "      <td>1.467324e+09</td>\n",
       "      <td>eilandje</td>\n",
       "      <td>...</td>\n",
       "      <td>132</td>\n",
       "      <td>0</td>\n",
       "      <td>eilandje</td>\n",
       "      <td>rodrigokenji</td>\n",
       "      <td>Black</td>\n",
       "      <td>1.0</td>\n",
       "      <td>1517.0</td>\n",
       "      <td>1454.0</td>\n",
       "      <td>10.0</td>\n",
       "      <td>-16.0</td>\n",
       "    </tr>\n",
       "  </tbody>\n",
       "</table>\n",
       "<p>5 rows × 22 columns</p>\n",
       "</div>"
      ],
      "text/plain": [
       "                                       White      Black Result  WhiteElo  \\\n",
       "new_pl_to_be_played_next_game                                              \n",
       "farfalla                       Claudiosparov  gonzo0506    0-1    1432.0   \n",
       "aluis                                   dn23      aluis    0-1    1509.0   \n",
       "sereno                                Wolf92   David177    1-0    1723.0   \n",
       "joselock                          Kostas3360     C4stro    1-0    1343.0   \n",
       "casperownd                      rodrigokenji   eilandje    0-1    1454.0   \n",
       "\n",
       "                               BlackElo  WhiteRatingDiff  BlackRatingDiff  \\\n",
       "new_pl_to_be_played_next_game                                               \n",
       "farfalla                         1355.0            -14.0             13.0   \n",
       "aluis                            1500.0            -19.0            183.0   \n",
       "sereno                           1289.0              2.0             -2.0   \n",
       "joselock                         1204.0             11.0             -8.0   \n",
       "casperownd                       1517.0            -16.0             10.0   \n",
       "\n",
       "                                          datetime     timestamp  \\\n",
       "new_pl_to_be_played_next_game                                      \n",
       "farfalla                       2016-06-30 22:01:02  1.467324e+09   \n",
       "aluis                          2016-06-30 22:02:44  1.467324e+09   \n",
       "sereno                         2016-06-30 22:05:14  1.467324e+09   \n",
       "joselock                       2016-06-30 22:05:54  1.467324e+09   \n",
       "casperownd                     2016-06-30 22:06:42  1.467324e+09   \n",
       "\n",
       "                              user_to_play_new_pl_next_game  ...  game_length  \\\n",
       "new_pl_to_be_played_next_game                                ...                \n",
       "farfalla                                          gonzo0506  ...           47   \n",
       "aluis                                                  dn23  ...           46   \n",
       "sereno                                               Wolf92  ...           27   \n",
       "joselock                                             C4stro  ...           43   \n",
       "casperownd                                         eilandje  ...          132   \n",
       "\n",
       "                               conceded  opp_of_new_pl     opp_of_opp  \\\n",
       "new_pl_to_be_played_next_game                                           \n",
       "farfalla                              1      gonzo0506  Claudiosparov   \n",
       "aluis                                 1           dn23          aluis   \n",
       "sereno                                0         Wolf92       David177   \n",
       "joselock                              0         C4stro     Kostas3360   \n",
       "casperownd                            0       eilandje   rodrigokenji   \n",
       "\n",
       "                              opp_color opp_won opp_elo  opp_opp_elo  \\\n",
       "new_pl_to_be_played_next_game                                          \n",
       "farfalla                          Black     1.0  1355.0       1432.0   \n",
       "aluis                             White     0.0  1509.0       1500.0   \n",
       "sereno                            White     1.0  1723.0       1289.0   \n",
       "joselock                          Black     0.0  1204.0       1343.0   \n",
       "casperownd                        Black     1.0  1517.0       1454.0   \n",
       "\n",
       "                               opp_rating_diff  opp_opp_rating_diff  \n",
       "new_pl_to_be_played_next_game                                        \n",
       "farfalla                                  13.0                -14.0  \n",
       "aluis                                    -19.0                183.0  \n",
       "sereno                                     2.0                 -2.0  \n",
       "joselock                                  -8.0                 11.0  \n",
       "casperownd                                10.0                -16.0  \n",
       "\n",
       "[5 rows x 22 columns]"
      ]
     },
     "execution_count": 75,
     "metadata": {},
     "output_type": "execute_result"
    }
   ],
   "source": [
    "#Check that everything was transferred properly\n",
    "games_opp.drop(columns=['Event', 'TimeControl', 'Termination', 'AN', 'time_limit', 'time_gain_per_move']).head()\n",
    "#Look at the first several and last several columns of these games to see that it worked!"
   ]
  },
  {
   "cell_type": "code",
   "execution_count": 76,
   "id": "511d4537-42c5-41c3-9b49-dedd95dae779",
   "metadata": {},
   "outputs": [
    {
     "data": {
      "text/html": [
       "<div>\n",
       "<style scoped>\n",
       "    .dataframe tbody tr th:only-of-type {\n",
       "        vertical-align: middle;\n",
       "    }\n",
       "\n",
       "    .dataframe tbody tr th {\n",
       "        vertical-align: top;\n",
       "    }\n",
       "\n",
       "    .dataframe thead th {\n",
       "        text-align: right;\n",
       "    }\n",
       "</style>\n",
       "<table border=\"1\" class=\"dataframe\">\n",
       "  <thead>\n",
       "    <tr style=\"text-align: right;\">\n",
       "      <th></th>\n",
       "      <th>White</th>\n",
       "      <th>Black</th>\n",
       "      <th>Result</th>\n",
       "      <th>WhiteElo</th>\n",
       "      <th>BlackElo</th>\n",
       "      <th>WhiteRatingDiff</th>\n",
       "      <th>BlackRatingDiff</th>\n",
       "      <th>datetime</th>\n",
       "      <th>timestamp</th>\n",
       "      <th>user_to_play_new_pl_next_game</th>\n",
       "      <th>...</th>\n",
       "      <th>game_length</th>\n",
       "      <th>conceded</th>\n",
       "      <th>opp_of_new_pl</th>\n",
       "      <th>opp_of_opp</th>\n",
       "      <th>opp_color</th>\n",
       "      <th>opp_won</th>\n",
       "      <th>opp_elo</th>\n",
       "      <th>opp_opp_elo</th>\n",
       "      <th>opp_rating_diff</th>\n",
       "      <th>opp_opp_rating_diff</th>\n",
       "    </tr>\n",
       "    <tr>\n",
       "      <th>new_pl_to_be_played_next_game</th>\n",
       "      <th></th>\n",
       "      <th></th>\n",
       "      <th></th>\n",
       "      <th></th>\n",
       "      <th></th>\n",
       "      <th></th>\n",
       "      <th></th>\n",
       "      <th></th>\n",
       "      <th></th>\n",
       "      <th></th>\n",
       "      <th></th>\n",
       "      <th></th>\n",
       "      <th></th>\n",
       "      <th></th>\n",
       "      <th></th>\n",
       "      <th></th>\n",
       "      <th></th>\n",
       "      <th></th>\n",
       "      <th></th>\n",
       "      <th></th>\n",
       "      <th></th>\n",
       "    </tr>\n",
       "  </thead>\n",
       "  <tbody>\n",
       "    <tr>\n",
       "      <th>Voltair</th>\n",
       "      <td>alecs469</td>\n",
       "      <td>haplin</td>\n",
       "      <td>1/2-1/2</td>\n",
       "      <td>1390.0</td>\n",
       "      <td>1294.0</td>\n",
       "      <td>-3.0</td>\n",
       "      <td>3.0</td>\n",
       "      <td>2016-06-30 23:04:23</td>\n",
       "      <td>1.467328e+09</td>\n",
       "      <td>haplin</td>\n",
       "      <td>...</td>\n",
       "      <td>83</td>\n",
       "      <td>1</td>\n",
       "      <td>haplin</td>\n",
       "      <td>alecs469</td>\n",
       "      <td>Black</td>\n",
       "      <td>0.5</td>\n",
       "      <td>1294.0</td>\n",
       "      <td>1390.0</td>\n",
       "      <td>3.0</td>\n",
       "      <td>-3.0</td>\n",
       "    </tr>\n",
       "    <tr>\n",
       "      <th>Mohammadchess17</th>\n",
       "      <td>Mikel_1993</td>\n",
       "      <td>aisscovie</td>\n",
       "      <td>1/2-1/2</td>\n",
       "      <td>1512.0</td>\n",
       "      <td>1612.0</td>\n",
       "      <td>3.0</td>\n",
       "      <td>-3.0</td>\n",
       "      <td>2016-06-30 23:09:34</td>\n",
       "      <td>1.467328e+09</td>\n",
       "      <td>Mikel_1993</td>\n",
       "      <td>...</td>\n",
       "      <td>102</td>\n",
       "      <td>1</td>\n",
       "      <td>Mikel_1993</td>\n",
       "      <td>aisscovie</td>\n",
       "      <td>White</td>\n",
       "      <td>0.5</td>\n",
       "      <td>1512.0</td>\n",
       "      <td>1612.0</td>\n",
       "      <td>3.0</td>\n",
       "      <td>-3.0</td>\n",
       "    </tr>\n",
       "    <tr>\n",
       "      <th>otger</th>\n",
       "      <td>nin1877</td>\n",
       "      <td>cnnfoxmsn1</td>\n",
       "      <td>1/2-1/2</td>\n",
       "      <td>1570.0</td>\n",
       "      <td>1554.0</td>\n",
       "      <td>-1.0</td>\n",
       "      <td>0.0</td>\n",
       "      <td>2016-06-30 23:45:34</td>\n",
       "      <td>1.467330e+09</td>\n",
       "      <td>nin1877</td>\n",
       "      <td>...</td>\n",
       "      <td>101</td>\n",
       "      <td>1</td>\n",
       "      <td>nin1877</td>\n",
       "      <td>cnnfoxmsn1</td>\n",
       "      <td>White</td>\n",
       "      <td>0.5</td>\n",
       "      <td>1570.0</td>\n",
       "      <td>1554.0</td>\n",
       "      <td>-1.0</td>\n",
       "      <td>0.0</td>\n",
       "    </tr>\n",
       "    <tr>\n",
       "      <th>VANY11A</th>\n",
       "      <td>VANY11A</td>\n",
       "      <td>Enconuta</td>\n",
       "      <td>1/2-1/2</td>\n",
       "      <td>1500.0</td>\n",
       "      <td>1459.0</td>\n",
       "      <td>-20.0</td>\n",
       "      <td>1.0</td>\n",
       "      <td>2016-06-30 23:58:32</td>\n",
       "      <td>1.467331e+09</td>\n",
       "      <td>Enconuta</td>\n",
       "      <td>...</td>\n",
       "      <td>124</td>\n",
       "      <td>1</td>\n",
       "      <td>Enconuta</td>\n",
       "      <td>VANY11A</td>\n",
       "      <td>Black</td>\n",
       "      <td>0.5</td>\n",
       "      <td>1459.0</td>\n",
       "      <td>1500.0</td>\n",
       "      <td>1.0</td>\n",
       "      <td>-20.0</td>\n",
       "    </tr>\n",
       "    <tr>\n",
       "      <th>cugi061282</th>\n",
       "      <td>fahem</td>\n",
       "      <td>sharket</td>\n",
       "      <td>1/2-1/2</td>\n",
       "      <td>1135.0</td>\n",
       "      <td>1496.0</td>\n",
       "      <td>69.0</td>\n",
       "      <td>-7.0</td>\n",
       "      <td>2016-07-01 01:14:03</td>\n",
       "      <td>1.467336e+09</td>\n",
       "      <td>fahem</td>\n",
       "      <td>...</td>\n",
       "      <td>32</td>\n",
       "      <td>1</td>\n",
       "      <td>fahem</td>\n",
       "      <td>sharket</td>\n",
       "      <td>White</td>\n",
       "      <td>0.5</td>\n",
       "      <td>1135.0</td>\n",
       "      <td>1496.0</td>\n",
       "      <td>69.0</td>\n",
       "      <td>-7.0</td>\n",
       "    </tr>\n",
       "  </tbody>\n",
       "</table>\n",
       "<p>5 rows × 22 columns</p>\n",
       "</div>"
      ],
      "text/plain": [
       "                                    White       Black   Result  WhiteElo  \\\n",
       "new_pl_to_be_played_next_game                                              \n",
       "Voltair                          alecs469      haplin  1/2-1/2    1390.0   \n",
       "Mohammadchess17                Mikel_1993   aisscovie  1/2-1/2    1512.0   \n",
       "otger                             nin1877  cnnfoxmsn1  1/2-1/2    1570.0   \n",
       "VANY11A                           VANY11A    Enconuta  1/2-1/2    1500.0   \n",
       "cugi061282                          fahem     sharket  1/2-1/2    1135.0   \n",
       "\n",
       "                               BlackElo  WhiteRatingDiff  BlackRatingDiff  \\\n",
       "new_pl_to_be_played_next_game                                               \n",
       "Voltair                          1294.0             -3.0              3.0   \n",
       "Mohammadchess17                  1612.0              3.0             -3.0   \n",
       "otger                            1554.0             -1.0              0.0   \n",
       "VANY11A                          1459.0            -20.0              1.0   \n",
       "cugi061282                       1496.0             69.0             -7.0   \n",
       "\n",
       "                                          datetime     timestamp  \\\n",
       "new_pl_to_be_played_next_game                                      \n",
       "Voltair                        2016-06-30 23:04:23  1.467328e+09   \n",
       "Mohammadchess17                2016-06-30 23:09:34  1.467328e+09   \n",
       "otger                          2016-06-30 23:45:34  1.467330e+09   \n",
       "VANY11A                        2016-06-30 23:58:32  1.467331e+09   \n",
       "cugi061282                     2016-07-01 01:14:03  1.467336e+09   \n",
       "\n",
       "                              user_to_play_new_pl_next_game  ...  game_length  \\\n",
       "new_pl_to_be_played_next_game                                ...                \n",
       "Voltair                                              haplin  ...           83   \n",
       "Mohammadchess17                                  Mikel_1993  ...          102   \n",
       "otger                                               nin1877  ...          101   \n",
       "VANY11A                                            Enconuta  ...          124   \n",
       "cugi061282                                            fahem  ...           32   \n",
       "\n",
       "                               conceded  opp_of_new_pl  opp_of_opp opp_color  \\\n",
       "new_pl_to_be_played_next_game                                                  \n",
       "Voltair                               1         haplin    alecs469     Black   \n",
       "Mohammadchess17                       1     Mikel_1993   aisscovie     White   \n",
       "otger                                 1        nin1877  cnnfoxmsn1     White   \n",
       "VANY11A                               1       Enconuta     VANY11A     Black   \n",
       "cugi061282                            1          fahem     sharket     White   \n",
       "\n",
       "                              opp_won opp_elo  opp_opp_elo  opp_rating_diff  \\\n",
       "new_pl_to_be_played_next_game                                                 \n",
       "Voltair                           0.5  1294.0       1390.0              3.0   \n",
       "Mohammadchess17                   0.5  1512.0       1612.0              3.0   \n",
       "otger                             0.5  1570.0       1554.0             -1.0   \n",
       "VANY11A                           0.5  1459.0       1500.0              1.0   \n",
       "cugi061282                        0.5  1135.0       1496.0             69.0   \n",
       "\n",
       "                               opp_opp_rating_diff  \n",
       "new_pl_to_be_played_next_game                       \n",
       "Voltair                                       -3.0  \n",
       "Mohammadchess17                               -3.0  \n",
       "otger                                          0.0  \n",
       "VANY11A                                      -20.0  \n",
       "cugi061282                                    -7.0  \n",
       "\n",
       "[5 rows x 22 columns]"
      ]
     },
     "execution_count": 76,
     "metadata": {},
     "output_type": "execute_result"
    }
   ],
   "source": [
    "#Look at some rows corresponding to games that were a draw\n",
    "games_opp[games_opp['Result']=='1/2-1/2'].drop(columns=['Event', 'TimeControl', 'Termination', 'AN', 'time_limit', 'time_gain_per_move']).head()"
   ]
  },
  {
   "cell_type": "code",
   "execution_count": 77,
   "id": "6698c064-337f-41b5-85fa-90148db76a08",
   "metadata": {},
   "outputs": [
    {
     "data": {
      "text/html": [
       "<div>\n",
       "<style scoped>\n",
       "    .dataframe tbody tr th:only-of-type {\n",
       "        vertical-align: middle;\n",
       "    }\n",
       "\n",
       "    .dataframe tbody tr th {\n",
       "        vertical-align: top;\n",
       "    }\n",
       "\n",
       "    .dataframe thead th {\n",
       "        text-align: right;\n",
       "    }\n",
       "</style>\n",
       "<table border=\"1\" class=\"dataframe\">\n",
       "  <thead>\n",
       "    <tr style=\"text-align: right;\">\n",
       "      <th></th>\n",
       "      <th>TimeControl</th>\n",
       "      <th>time_limit</th>\n",
       "      <th>time_gain_per_move</th>\n",
       "    </tr>\n",
       "    <tr>\n",
       "      <th>new_pl_to_be_played_next_game</th>\n",
       "      <th></th>\n",
       "      <th></th>\n",
       "      <th></th>\n",
       "    </tr>\n",
       "  </thead>\n",
       "  <tbody>\n",
       "    <tr>\n",
       "      <th>farfalla</th>\n",
       "      <td>600+0</td>\n",
       "      <td>600.0</td>\n",
       "      <td>0.0</td>\n",
       "    </tr>\n",
       "    <tr>\n",
       "      <th>aluis</th>\n",
       "      <td>300+10</td>\n",
       "      <td>300.0</td>\n",
       "      <td>10.0</td>\n",
       "    </tr>\n",
       "    <tr>\n",
       "      <th>sereno</th>\n",
       "      <td>600+0</td>\n",
       "      <td>600.0</td>\n",
       "      <td>0.0</td>\n",
       "    </tr>\n",
       "    <tr>\n",
       "      <th>joselock</th>\n",
       "      <td>300+0</td>\n",
       "      <td>300.0</td>\n",
       "      <td>0.0</td>\n",
       "    </tr>\n",
       "    <tr>\n",
       "      <th>casperownd</th>\n",
       "      <td>1500+3</td>\n",
       "      <td>1500.0</td>\n",
       "      <td>3.0</td>\n",
       "    </tr>\n",
       "  </tbody>\n",
       "</table>\n",
       "</div>"
      ],
      "text/plain": [
       "                              TimeControl  time_limit  time_gain_per_move\n",
       "new_pl_to_be_played_next_game                                            \n",
       "farfalla                            600+0       600.0                 0.0\n",
       "aluis                              300+10       300.0                10.0\n",
       "sereno                              600+0       600.0                 0.0\n",
       "joselock                            300+0       300.0                 0.0\n",
       "casperownd                         1500+3      1500.0                 3.0"
      ]
     },
     "execution_count": 77,
     "metadata": {},
     "output_type": "execute_result"
    }
   ],
   "source": [
    "#Look at the `TimeControl` column vs. our new time columns\n",
    "games_opp[['TimeControl', 'time_limit', 'time_gain_per_move']].head()"
   ]
  },
  {
   "cell_type": "code",
   "execution_count": 78,
   "id": "fadd3908-7269-4b0a-bcee-6604a16a21da",
   "metadata": {},
   "outputs": [
    {
     "data": {
      "text/plain": [
       "Index(['Event', 'White', 'Black', 'Result', 'WhiteElo', 'BlackElo',\n",
       "       'WhiteRatingDiff', 'BlackRatingDiff', 'TimeControl', 'Termination',\n",
       "       'AN', 'datetime', 'timestamp', 'user_to_play_new_pl_next_game',\n",
       "       'both_users_to_play_new_pl_next', '2nd_game_opp_had_no_previous_game',\n",
       "       'game_length', 'conceded', 'opp_of_new_pl', 'opp_of_opp', 'opp_color',\n",
       "       'opp_won', 'opp_elo', 'opp_opp_elo', 'opp_rating_diff',\n",
       "       'opp_opp_rating_diff', 'time_limit', 'time_gain_per_move'],\n",
       "      dtype='object')"
      ]
     },
     "execution_count": 78,
     "metadata": {},
     "output_type": "execute_result"
    }
   ],
   "source": [
    "games_opp.columns"
   ]
  },
  {
   "cell_type": "code",
   "execution_count": 79,
   "id": "8d684502-4bdb-47c4-8de3-168af33522d3",
   "metadata": {},
   "outputs": [
    {
     "data": {
      "text/html": [
       "<div>\n",
       "<style scoped>\n",
       "    .dataframe tbody tr th:only-of-type {\n",
       "        vertical-align: middle;\n",
       "    }\n",
       "\n",
       "    .dataframe tbody tr th {\n",
       "        vertical-align: top;\n",
       "    }\n",
       "\n",
       "    .dataframe thead th {\n",
       "        text-align: right;\n",
       "    }\n",
       "</style>\n",
       "<table border=\"1\" class=\"dataframe\">\n",
       "  <thead>\n",
       "    <tr style=\"text-align: right;\">\n",
       "      <th></th>\n",
       "      <th>Event</th>\n",
       "      <th>White</th>\n",
       "      <th>Black</th>\n",
       "      <th>Result</th>\n",
       "      <th>WhiteElo</th>\n",
       "      <th>BlackElo</th>\n",
       "      <th>WhiteRatingDiff</th>\n",
       "      <th>BlackRatingDiff</th>\n",
       "      <th>TimeControl</th>\n",
       "      <th>Termination</th>\n",
       "      <th>...</th>\n",
       "      <th>opp_of_new_pl</th>\n",
       "      <th>opp_of_opp</th>\n",
       "      <th>opp_color</th>\n",
       "      <th>opp_won</th>\n",
       "      <th>opp_elo</th>\n",
       "      <th>opp_opp_elo</th>\n",
       "      <th>opp_rating_diff</th>\n",
       "      <th>opp_opp_rating_diff</th>\n",
       "      <th>time_limit</th>\n",
       "      <th>time_gain_per_move</th>\n",
       "    </tr>\n",
       "    <tr>\n",
       "      <th>new_pl_to_be_played_next_game</th>\n",
       "      <th></th>\n",
       "      <th></th>\n",
       "      <th></th>\n",
       "      <th></th>\n",
       "      <th></th>\n",
       "      <th></th>\n",
       "      <th></th>\n",
       "      <th></th>\n",
       "      <th></th>\n",
       "      <th></th>\n",
       "      <th></th>\n",
       "      <th></th>\n",
       "      <th></th>\n",
       "      <th></th>\n",
       "      <th></th>\n",
       "      <th></th>\n",
       "      <th></th>\n",
       "      <th></th>\n",
       "      <th></th>\n",
       "      <th></th>\n",
       "      <th></th>\n",
       "    </tr>\n",
       "  </thead>\n",
       "  <tbody>\n",
       "    <tr>\n",
       "      <th>xmen3000</th>\n",
       "      <td>NaN</td>\n",
       "      <td>NaN</td>\n",
       "      <td>NaN</td>\n",
       "      <td>NaN</td>\n",
       "      <td>NaN</td>\n",
       "      <td>NaN</td>\n",
       "      <td>NaN</td>\n",
       "      <td>NaN</td>\n",
       "      <td>NaN</td>\n",
       "      <td>NaN</td>\n",
       "      <td>...</td>\n",
       "      <td>NaN</td>\n",
       "      <td>NaN</td>\n",
       "      <td>NaN</td>\n",
       "      <td>NaN</td>\n",
       "      <td>NaN</td>\n",
       "      <td>NaN</td>\n",
       "      <td>NaN</td>\n",
       "      <td>NaN</td>\n",
       "      <td>NaN</td>\n",
       "      <td>NaN</td>\n",
       "    </tr>\n",
       "    <tr>\n",
       "      <th>alfa_khoirin</th>\n",
       "      <td>NaN</td>\n",
       "      <td>NaN</td>\n",
       "      <td>NaN</td>\n",
       "      <td>NaN</td>\n",
       "      <td>NaN</td>\n",
       "      <td>NaN</td>\n",
       "      <td>NaN</td>\n",
       "      <td>NaN</td>\n",
       "      <td>NaN</td>\n",
       "      <td>NaN</td>\n",
       "      <td>...</td>\n",
       "      <td>NaN</td>\n",
       "      <td>NaN</td>\n",
       "      <td>NaN</td>\n",
       "      <td>NaN</td>\n",
       "      <td>NaN</td>\n",
       "      <td>NaN</td>\n",
       "      <td>NaN</td>\n",
       "      <td>NaN</td>\n",
       "      <td>NaN</td>\n",
       "      <td>NaN</td>\n",
       "    </tr>\n",
       "    <tr>\n",
       "      <th>Manilkin</th>\n",
       "      <td>NaN</td>\n",
       "      <td>NaN</td>\n",
       "      <td>NaN</td>\n",
       "      <td>NaN</td>\n",
       "      <td>NaN</td>\n",
       "      <td>NaN</td>\n",
       "      <td>NaN</td>\n",
       "      <td>NaN</td>\n",
       "      <td>NaN</td>\n",
       "      <td>NaN</td>\n",
       "      <td>...</td>\n",
       "      <td>NaN</td>\n",
       "      <td>NaN</td>\n",
       "      <td>NaN</td>\n",
       "      <td>NaN</td>\n",
       "      <td>NaN</td>\n",
       "      <td>NaN</td>\n",
       "      <td>NaN</td>\n",
       "      <td>NaN</td>\n",
       "      <td>NaN</td>\n",
       "      <td>NaN</td>\n",
       "    </tr>\n",
       "    <tr>\n",
       "      <th>felipegamba45</th>\n",
       "      <td>NaN</td>\n",
       "      <td>NaN</td>\n",
       "      <td>NaN</td>\n",
       "      <td>NaN</td>\n",
       "      <td>NaN</td>\n",
       "      <td>NaN</td>\n",
       "      <td>NaN</td>\n",
       "      <td>NaN</td>\n",
       "      <td>NaN</td>\n",
       "      <td>NaN</td>\n",
       "      <td>...</td>\n",
       "      <td>NaN</td>\n",
       "      <td>NaN</td>\n",
       "      <td>NaN</td>\n",
       "      <td>NaN</td>\n",
       "      <td>NaN</td>\n",
       "      <td>NaN</td>\n",
       "      <td>NaN</td>\n",
       "      <td>NaN</td>\n",
       "      <td>NaN</td>\n",
       "      <td>NaN</td>\n",
       "    </tr>\n",
       "    <tr>\n",
       "      <th>Ueber-Ich</th>\n",
       "      <td>NaN</td>\n",
       "      <td>NaN</td>\n",
       "      <td>NaN</td>\n",
       "      <td>NaN</td>\n",
       "      <td>NaN</td>\n",
       "      <td>NaN</td>\n",
       "      <td>NaN</td>\n",
       "      <td>NaN</td>\n",
       "      <td>NaN</td>\n",
       "      <td>NaN</td>\n",
       "      <td>...</td>\n",
       "      <td>NaN</td>\n",
       "      <td>NaN</td>\n",
       "      <td>NaN</td>\n",
       "      <td>NaN</td>\n",
       "      <td>NaN</td>\n",
       "      <td>NaN</td>\n",
       "      <td>NaN</td>\n",
       "      <td>NaN</td>\n",
       "      <td>NaN</td>\n",
       "      <td>NaN</td>\n",
       "    </tr>\n",
       "  </tbody>\n",
       "</table>\n",
       "<p>5 rows × 28 columns</p>\n",
       "</div>"
      ],
      "text/plain": [
       "                              Event White Black Result  WhiteElo  BlackElo  \\\n",
       "new_pl_to_be_played_next_game                                                \n",
       "xmen3000                        NaN   NaN   NaN    NaN       NaN       NaN   \n",
       "alfa_khoirin                    NaN   NaN   NaN    NaN       NaN       NaN   \n",
       "Manilkin                        NaN   NaN   NaN    NaN       NaN       NaN   \n",
       "felipegamba45                   NaN   NaN   NaN    NaN       NaN       NaN   \n",
       "Ueber-Ich                       NaN   NaN   NaN    NaN       NaN       NaN   \n",
       "\n",
       "                               WhiteRatingDiff  BlackRatingDiff TimeControl  \\\n",
       "new_pl_to_be_played_next_game                                                 \n",
       "xmen3000                                   NaN              NaN         NaN   \n",
       "alfa_khoirin                               NaN              NaN         NaN   \n",
       "Manilkin                                   NaN              NaN         NaN   \n",
       "felipegamba45                              NaN              NaN         NaN   \n",
       "Ueber-Ich                                  NaN              NaN         NaN   \n",
       "\n",
       "                              Termination  ... opp_of_new_pl opp_of_opp  \\\n",
       "new_pl_to_be_played_next_game              ...                            \n",
       "xmen3000                              NaN  ...           NaN        NaN   \n",
       "alfa_khoirin                          NaN  ...           NaN        NaN   \n",
       "Manilkin                              NaN  ...           NaN        NaN   \n",
       "felipegamba45                         NaN  ...           NaN        NaN   \n",
       "Ueber-Ich                             NaN  ...           NaN        NaN   \n",
       "\n",
       "                               opp_color opp_won  opp_elo  opp_opp_elo  \\\n",
       "new_pl_to_be_played_next_game                                            \n",
       "xmen3000                             NaN     NaN      NaN          NaN   \n",
       "alfa_khoirin                         NaN     NaN      NaN          NaN   \n",
       "Manilkin                             NaN     NaN      NaN          NaN   \n",
       "felipegamba45                        NaN     NaN      NaN          NaN   \n",
       "Ueber-Ich                            NaN     NaN      NaN          NaN   \n",
       "\n",
       "                               opp_rating_diff  opp_opp_rating_diff  \\\n",
       "new_pl_to_be_played_next_game                                         \n",
       "xmen3000                                   NaN                  NaN   \n",
       "alfa_khoirin                               NaN                  NaN   \n",
       "Manilkin                                   NaN                  NaN   \n",
       "felipegamba45                              NaN                  NaN   \n",
       "Ueber-Ich                                  NaN                  NaN   \n",
       "\n",
       "                              time_limit time_gain_per_move  \n",
       "new_pl_to_be_played_next_game                                \n",
       "xmen3000                             NaN                NaN  \n",
       "alfa_khoirin                         NaN                NaN  \n",
       "Manilkin                             NaN                NaN  \n",
       "felipegamba45                        NaN                NaN  \n",
       "Ueber-Ich                            NaN                NaN  \n",
       "\n",
       "[5 rows x 28 columns]"
      ]
     },
     "execution_count": 79,
     "metadata": {},
     "output_type": "execute_result"
    }
   ],
   "source": [
    "#Look at some rows corresponding to nonexistent \"previous games\"\n",
    "games_opp[games_opp['2nd_game_opp_had_no_previous_game']==1].head()"
   ]
  },
  {
   "cell_type": "markdown",
   "id": "c05e8551-a02d-45a6-92a3-bd790978e2a3",
   "metadata": {},
   "source": [
    "## Delete superfluous columns, and rename and reorder columns"
   ]
  },
  {
   "cell_type": "code",
   "execution_count": 80,
   "id": "e8ffbe42-ad15-4e48-b294-c771db4fe32e",
   "metadata": {},
   "outputs": [],
   "source": [
    "#Drop the old columns now that we have extracted their information\n",
    "for df in games_1st, games_2nd, games_opp:\n",
    "    df.drop(columns=['White', 'Black', 'Result', 'WhiteElo', 'BlackElo', \\\n",
    "                     'WhiteRatingDiff', 'BlackRatingDiff', 'TimeControl'],\n",
    "            inplace=True)\n",
    "    \n",
    "    #Rename the other columns\n",
    "    df.rename(columns={'Event':'event', 'Termination':'termination', 'AN':'moves'}, inplace=True)"
   ]
  },
  {
   "cell_type": "code",
   "execution_count": 81,
   "id": "dd50a2b8-1d87-474a-93e5-d9b9db84cb3c",
   "metadata": {},
   "outputs": [],
   "source": [
    "#Delete this superfluous column since we stored its information in 'opp_of_new_pl'\n",
    "games_opp.drop(columns='user_to_play_new_pl_next_game', inplace=True)"
   ]
  },
  {
   "cell_type": "markdown",
   "id": "893fbb6a-929e-4858-b5b9-f0137b1a14db",
   "metadata": {},
   "source": [
    "### Re-order the columns"
   ]
  },
  {
   "cell_type": "markdown",
   "id": "5d4896bb-3ca6-4091-b3f9-eadc11f14a36",
   "metadata": {},
   "source": [
    "#### First and second games of new players"
   ]
  },
  {
   "cell_type": "code",
   "execution_count": 82,
   "id": "8249af8d-d9fd-4e77-851e-f4b1dece4e7f",
   "metadata": {},
   "outputs": [
    {
     "data": {
      "text/plain": [
       "Index(['event', 'termination', 'moves', 'datetime', 'timestamp',\n",
       "       'both_players_1st_game', 'game_length', 'conceded', 'new_pl_color',\n",
       "       'opponent', 'new_pl_won', 'new_pl_elo', 'opp_elo', 'new_pl_rating_diff',\n",
       "       'opp_rating_diff', 'time_limit', 'time_gain_per_move'],\n",
       "      dtype='object')"
      ]
     },
     "execution_count": 82,
     "metadata": {},
     "output_type": "execute_result"
    }
   ],
   "source": [
    "games_1st.columns"
   ]
  },
  {
   "cell_type": "code",
   "execution_count": 83,
   "id": "4d5e76da-e9c0-4142-9bfc-7419d6bb0cd1",
   "metadata": {},
   "outputs": [],
   "source": [
    "ordered_columns = ['opponent', 'new_pl_color', 'new_pl_won', 'new_pl_elo', 'opp_elo', 'new_pl_rating_diff', \\\n",
    "                    'opp_rating_diff', 'game_length', 'time_limit', 'time_gain_per_move', 'event', \\\n",
    "                    'termination', 'conceded', 'datetime', 'timestamp', 'moves']"
   ]
  },
  {
   "cell_type": "code",
   "execution_count": 84,
   "id": "f0100b1b-a8fa-4f42-b3a2-5efc00b9bf9d",
   "metadata": {},
   "outputs": [
    {
     "data": {
      "text/plain": [
       "1"
      ]
     },
     "execution_count": 84,
     "metadata": {},
     "output_type": "execute_result"
    }
   ],
   "source": [
    "#There should only be one column that we didn't name, i.e. \"both_players_1st_game\"\n",
    "len(games_1st.columns) - len(ordered_columns)"
   ]
  },
  {
   "cell_type": "code",
   "execution_count": 85,
   "id": "86226c78-7d11-462b-852d-a24884b40015",
   "metadata": {},
   "outputs": [],
   "source": [
    "#Re-order the columns\n",
    "games_1st = games_1st[ordered_columns+['both_players_1st_game']]\n",
    "games_2nd = games_2nd[ordered_columns+['both_players_2nd_game']]"
   ]
  },
  {
   "cell_type": "code",
   "execution_count": 86,
   "id": "69d407d5-0594-4c85-9613-d17128d85984",
   "metadata": {},
   "outputs": [
    {
     "data": {
      "text/html": [
       "<div>\n",
       "<style scoped>\n",
       "    .dataframe tbody tr th:only-of-type {\n",
       "        vertical-align: middle;\n",
       "    }\n",
       "\n",
       "    .dataframe tbody tr th {\n",
       "        vertical-align: top;\n",
       "    }\n",
       "\n",
       "    .dataframe thead th {\n",
       "        text-align: right;\n",
       "    }\n",
       "</style>\n",
       "<table border=\"1\" class=\"dataframe\">\n",
       "  <thead>\n",
       "    <tr style=\"text-align: right;\">\n",
       "      <th></th>\n",
       "      <th>opponent</th>\n",
       "      <th>new_pl_color</th>\n",
       "      <th>new_pl_won</th>\n",
       "      <th>new_pl_elo</th>\n",
       "      <th>opp_elo</th>\n",
       "      <th>new_pl_rating_diff</th>\n",
       "      <th>opp_rating_diff</th>\n",
       "      <th>game_length</th>\n",
       "      <th>time_limit</th>\n",
       "      <th>time_gain_per_move</th>\n",
       "      <th>event</th>\n",
       "      <th>termination</th>\n",
       "      <th>conceded</th>\n",
       "      <th>datetime</th>\n",
       "      <th>timestamp</th>\n",
       "      <th>moves</th>\n",
       "      <th>both_players_1st_game</th>\n",
       "    </tr>\n",
       "    <tr>\n",
       "      <th>name_of_pl_playing_1st_game</th>\n",
       "      <th></th>\n",
       "      <th></th>\n",
       "      <th></th>\n",
       "      <th></th>\n",
       "      <th></th>\n",
       "      <th></th>\n",
       "      <th></th>\n",
       "      <th></th>\n",
       "      <th></th>\n",
       "      <th></th>\n",
       "      <th></th>\n",
       "      <th></th>\n",
       "      <th></th>\n",
       "      <th></th>\n",
       "      <th></th>\n",
       "      <th></th>\n",
       "      <th></th>\n",
       "    </tr>\n",
       "  </thead>\n",
       "  <tbody>\n",
       "    <tr>\n",
       "      <th>sereno</th>\n",
       "      <td>fabikim</td>\n",
       "      <td>Black</td>\n",
       "      <td>0.0</td>\n",
       "      <td>1500.0</td>\n",
       "      <td>1630.0</td>\n",
       "      <td>-7.0</td>\n",
       "      <td>7.0</td>\n",
       "      <td>69</td>\n",
       "      <td>420.0</td>\n",
       "      <td>5.0</td>\n",
       "      <td>Classical</td>\n",
       "      <td>Normal</td>\n",
       "      <td>1</td>\n",
       "      <td>2016-06-30 22:00:02</td>\n",
       "      <td>1.467324e+09</td>\n",
       "      <td>e4 e5 Nf3 d6 Bc4 Nc6 d3 Na5 Na3 Nxc4 Nxc4 a6 N...</td>\n",
       "      <td>0</td>\n",
       "    </tr>\n",
       "  </tbody>\n",
       "</table>\n",
       "</div>"
      ],
      "text/plain": [
       "                            opponent new_pl_color  new_pl_won  new_pl_elo  \\\n",
       "name_of_pl_playing_1st_game                                                 \n",
       "sereno                       fabikim        Black         0.0      1500.0   \n",
       "\n",
       "                             opp_elo  new_pl_rating_diff  opp_rating_diff  \\\n",
       "name_of_pl_playing_1st_game                                                 \n",
       "sereno                        1630.0                -7.0              7.0   \n",
       "\n",
       "                             game_length  time_limit  time_gain_per_move  \\\n",
       "name_of_pl_playing_1st_game                                                \n",
       "sereno                                69       420.0                 5.0   \n",
       "\n",
       "                                 event termination  conceded  \\\n",
       "name_of_pl_playing_1st_game                                    \n",
       "sereno                       Classical      Normal         1   \n",
       "\n",
       "                                        datetime     timestamp  \\\n",
       "name_of_pl_playing_1st_game                                      \n",
       "sereno                       2016-06-30 22:00:02  1.467324e+09   \n",
       "\n",
       "                                                                         moves  \\\n",
       "name_of_pl_playing_1st_game                                                      \n",
       "sereno                       e4 e5 Nf3 d6 Bc4 Nc6 d3 Na5 Na3 Nxc4 Nxc4 a6 N...   \n",
       "\n",
       "                             both_players_1st_game  \n",
       "name_of_pl_playing_1st_game                         \n",
       "sereno                                           0  "
      ]
     },
     "execution_count": 86,
     "metadata": {},
     "output_type": "execute_result"
    }
   ],
   "source": [
    "#Check that things are correct\n",
    "games_1st.head(1)"
   ]
  },
  {
   "cell_type": "markdown",
   "id": "fe7d5464-701f-494b-aca1-3de4f99f1eb9",
   "metadata": {},
   "source": [
    "This looks *nice*."
   ]
  },
  {
   "cell_type": "code",
   "execution_count": 87,
   "id": "822ae1be-48e9-4a0b-94ca-5e54f862194a",
   "metadata": {},
   "outputs": [
    {
     "data": {
      "text/html": [
       "<div>\n",
       "<style scoped>\n",
       "    .dataframe tbody tr th:only-of-type {\n",
       "        vertical-align: middle;\n",
       "    }\n",
       "\n",
       "    .dataframe tbody tr th {\n",
       "        vertical-align: top;\n",
       "    }\n",
       "\n",
       "    .dataframe thead th {\n",
       "        text-align: right;\n",
       "    }\n",
       "</style>\n",
       "<table border=\"1\" class=\"dataframe\">\n",
       "  <thead>\n",
       "    <tr style=\"text-align: right;\">\n",
       "      <th></th>\n",
       "      <th>opponent</th>\n",
       "      <th>new_pl_color</th>\n",
       "      <th>new_pl_won</th>\n",
       "      <th>new_pl_elo</th>\n",
       "      <th>opp_elo</th>\n",
       "      <th>new_pl_rating_diff</th>\n",
       "      <th>opp_rating_diff</th>\n",
       "      <th>game_length</th>\n",
       "      <th>time_limit</th>\n",
       "      <th>time_gain_per_move</th>\n",
       "      <th>event</th>\n",
       "      <th>termination</th>\n",
       "      <th>conceded</th>\n",
       "      <th>datetime</th>\n",
       "      <th>timestamp</th>\n",
       "      <th>moves</th>\n",
       "      <th>both_players_2nd_game</th>\n",
       "    </tr>\n",
       "    <tr>\n",
       "      <th>name_of_pl_playing_2nd_game</th>\n",
       "      <th></th>\n",
       "      <th></th>\n",
       "      <th></th>\n",
       "      <th></th>\n",
       "      <th></th>\n",
       "      <th></th>\n",
       "      <th></th>\n",
       "      <th></th>\n",
       "      <th></th>\n",
       "      <th></th>\n",
       "      <th></th>\n",
       "      <th></th>\n",
       "      <th></th>\n",
       "      <th></th>\n",
       "      <th></th>\n",
       "      <th></th>\n",
       "      <th></th>\n",
       "    </tr>\n",
       "  </thead>\n",
       "  <tbody>\n",
       "    <tr>\n",
       "      <th>Kevpod</th>\n",
       "      <td>ale19</td>\n",
       "      <td>White</td>\n",
       "      <td>0.0</td>\n",
       "      <td>1500.0</td>\n",
       "      <td>1412.0</td>\n",
       "      <td>-222.0</td>\n",
       "      <td>9.0</td>\n",
       "      <td>78</td>\n",
       "      <td>300.0</td>\n",
       "      <td>1.0</td>\n",
       "      <td>Blitz</td>\n",
       "      <td>Time forfeit</td>\n",
       "      <td>1</td>\n",
       "      <td>2016-06-30 22:06:12</td>\n",
       "      <td>1.467324e+09</td>\n",
       "      <td>d4 Nf6 Nf3 Ne4 e3 c6 Bd3 Nxf2 Kxf2 Qc7 Nc3 e6 ...</td>\n",
       "      <td>0</td>\n",
       "    </tr>\n",
       "  </tbody>\n",
       "</table>\n",
       "</div>"
      ],
      "text/plain": [
       "                            opponent new_pl_color  new_pl_won  new_pl_elo  \\\n",
       "name_of_pl_playing_2nd_game                                                 \n",
       "Kevpod                         ale19        White         0.0      1500.0   \n",
       "\n",
       "                             opp_elo  new_pl_rating_diff  opp_rating_diff  \\\n",
       "name_of_pl_playing_2nd_game                                                 \n",
       "Kevpod                        1412.0              -222.0              9.0   \n",
       "\n",
       "                             game_length  time_limit  time_gain_per_move  \\\n",
       "name_of_pl_playing_2nd_game                                                \n",
       "Kevpod                                78       300.0                 1.0   \n",
       "\n",
       "                             event   termination  conceded  \\\n",
       "name_of_pl_playing_2nd_game                                  \n",
       "Kevpod                       Blitz  Time forfeit         1   \n",
       "\n",
       "                                        datetime     timestamp  \\\n",
       "name_of_pl_playing_2nd_game                                      \n",
       "Kevpod                       2016-06-30 22:06:12  1.467324e+09   \n",
       "\n",
       "                                                                         moves  \\\n",
       "name_of_pl_playing_2nd_game                                                      \n",
       "Kevpod                       d4 Nf6 Nf3 Ne4 e3 c6 Bd3 Nxf2 Kxf2 Qc7 Nc3 e6 ...   \n",
       "\n",
       "                             both_players_2nd_game  \n",
       "name_of_pl_playing_2nd_game                         \n",
       "Kevpod                                           0  "
      ]
     },
     "execution_count": 87,
     "metadata": {},
     "output_type": "execute_result"
    }
   ],
   "source": [
    "#Check that things are correct\n",
    "games_2nd.head(1)"
   ]
  },
  {
   "cell_type": "markdown",
   "id": "ebf87347-2319-4107-8d18-d54b0814875b",
   "metadata": {},
   "source": [
    "This also looks good."
   ]
  },
  {
   "cell_type": "markdown",
   "id": "0c28d398-1e08-4890-91c3-ea5315a3c1bd",
   "metadata": {},
   "source": [
    "#### New players' 2nd-game opponents' previous games"
   ]
  },
  {
   "cell_type": "code",
   "execution_count": 88,
   "id": "4c40b7d5-99d3-48f5-ab0b-b8ae9dea0fe1",
   "metadata": {},
   "outputs": [
    {
     "data": {
      "text/plain": [
       "Index(['event', 'termination', 'moves', 'datetime', 'timestamp',\n",
       "       'both_users_to_play_new_pl_next', '2nd_game_opp_had_no_previous_game',\n",
       "       'game_length', 'conceded', 'opp_of_new_pl', 'opp_of_opp', 'opp_color',\n",
       "       'opp_won', 'opp_elo', 'opp_opp_elo', 'opp_rating_diff',\n",
       "       'opp_opp_rating_diff', 'time_limit', 'time_gain_per_move'],\n",
       "      dtype='object')"
      ]
     },
     "execution_count": 88,
     "metadata": {},
     "output_type": "execute_result"
    }
   ],
   "source": [
    "games_opp.columns"
   ]
  },
  {
   "cell_type": "code",
   "execution_count": 89,
   "id": "1a3981db-c4b4-430a-a8a0-c8d7de7de736",
   "metadata": {},
   "outputs": [],
   "source": [
    "ordered_cols = ['opp_of_new_pl', 'opp_of_opp', 'opp_color', 'opp_won', 'opp_elo', 'opp_opp_elo', \\\n",
    "                'opp_rating_diff', 'opp_opp_rating_diff', 'game_length', 'time_limit', 'time_gain_per_move', \\\n",
    "                'event', 'termination', 'conceded', 'datetime', 'timestamp', 'moves', \\\n",
    "                'both_users_to_play_new_pl_next', '2nd_game_opp_had_no_previous_game']"
   ]
  },
  {
   "cell_type": "code",
   "execution_count": 90,
   "id": "bde2bb9d-1d95-4dd7-9123-b291dc79e083",
   "metadata": {},
   "outputs": [
    {
     "data": {
      "text/plain": [
       "True"
      ]
     },
     "execution_count": 90,
     "metadata": {},
     "output_type": "execute_result"
    }
   ],
   "source": [
    "set(games_opp.columns) == set(ordered_cols)"
   ]
  },
  {
   "cell_type": "code",
   "execution_count": 91,
   "id": "ff0ac070-446a-45ff-b1cb-c938ca15effc",
   "metadata": {},
   "outputs": [],
   "source": [
    "games_opp = games_opp[ordered_cols]"
   ]
  },
  {
   "cell_type": "code",
   "execution_count": 92,
   "id": "f279f70a-4c4d-451f-878d-a63a64451534",
   "metadata": {},
   "outputs": [
    {
     "data": {
      "text/html": [
       "<div>\n",
       "<style scoped>\n",
       "    .dataframe tbody tr th:only-of-type {\n",
       "        vertical-align: middle;\n",
       "    }\n",
       "\n",
       "    .dataframe tbody tr th {\n",
       "        vertical-align: top;\n",
       "    }\n",
       "\n",
       "    .dataframe thead th {\n",
       "        text-align: right;\n",
       "    }\n",
       "</style>\n",
       "<table border=\"1\" class=\"dataframe\">\n",
       "  <thead>\n",
       "    <tr style=\"text-align: right;\">\n",
       "      <th></th>\n",
       "      <th>opp_of_new_pl</th>\n",
       "      <th>opp_of_opp</th>\n",
       "      <th>opp_color</th>\n",
       "      <th>opp_won</th>\n",
       "      <th>opp_elo</th>\n",
       "      <th>opp_opp_elo</th>\n",
       "      <th>opp_rating_diff</th>\n",
       "      <th>opp_opp_rating_diff</th>\n",
       "      <th>game_length</th>\n",
       "      <th>time_limit</th>\n",
       "      <th>time_gain_per_move</th>\n",
       "      <th>event</th>\n",
       "      <th>termination</th>\n",
       "      <th>conceded</th>\n",
       "      <th>datetime</th>\n",
       "      <th>timestamp</th>\n",
       "      <th>moves</th>\n",
       "      <th>both_users_to_play_new_pl_next</th>\n",
       "      <th>2nd_game_opp_had_no_previous_game</th>\n",
       "    </tr>\n",
       "    <tr>\n",
       "      <th>new_pl_to_be_played_next_game</th>\n",
       "      <th></th>\n",
       "      <th></th>\n",
       "      <th></th>\n",
       "      <th></th>\n",
       "      <th></th>\n",
       "      <th></th>\n",
       "      <th></th>\n",
       "      <th></th>\n",
       "      <th></th>\n",
       "      <th></th>\n",
       "      <th></th>\n",
       "      <th></th>\n",
       "      <th></th>\n",
       "      <th></th>\n",
       "      <th></th>\n",
       "      <th></th>\n",
       "      <th></th>\n",
       "      <th></th>\n",
       "      <th></th>\n",
       "    </tr>\n",
       "  </thead>\n",
       "  <tbody>\n",
       "    <tr>\n",
       "      <th>farfalla</th>\n",
       "      <td>gonzo0506</td>\n",
       "      <td>Claudiosparov</td>\n",
       "      <td>Black</td>\n",
       "      <td>1.0</td>\n",
       "      <td>1355.0</td>\n",
       "      <td>1432.0</td>\n",
       "      <td>13.0</td>\n",
       "      <td>-14.0</td>\n",
       "      <td>47</td>\n",
       "      <td>600.0</td>\n",
       "      <td>0.0</td>\n",
       "      <td>Classical</td>\n",
       "      <td>Normal</td>\n",
       "      <td>1</td>\n",
       "      <td>2016-06-30 22:01:02</td>\n",
       "      <td>1.467324e+09</td>\n",
       "      <td>a3 d5 b4 b5 Bb2 Nc6 e3 e5 d4 e4 f3 Bf5 g4 Qh4+...</td>\n",
       "      <td>0</td>\n",
       "      <td>0</td>\n",
       "    </tr>\n",
       "  </tbody>\n",
       "</table>\n",
       "</div>"
      ],
      "text/plain": [
       "                              opp_of_new_pl     opp_of_opp opp_color  opp_won  \\\n",
       "new_pl_to_be_played_next_game                                                   \n",
       "farfalla                          gonzo0506  Claudiosparov     Black      1.0   \n",
       "\n",
       "                               opp_elo  opp_opp_elo  opp_rating_diff  \\\n",
       "new_pl_to_be_played_next_game                                          \n",
       "farfalla                        1355.0       1432.0             13.0   \n",
       "\n",
       "                               opp_opp_rating_diff  game_length  time_limit  \\\n",
       "new_pl_to_be_played_next_game                                                 \n",
       "farfalla                                     -14.0           47       600.0   \n",
       "\n",
       "                               time_gain_per_move      event termination  \\\n",
       "new_pl_to_be_played_next_game                                              \n",
       "farfalla                                      0.0  Classical      Normal   \n",
       "\n",
       "                               conceded             datetime     timestamp  \\\n",
       "new_pl_to_be_played_next_game                                                \n",
       "farfalla                              1  2016-06-30 22:01:02  1.467324e+09   \n",
       "\n",
       "                                                                           moves  \\\n",
       "new_pl_to_be_played_next_game                                                      \n",
       "farfalla                       a3 d5 b4 b5 Bb2 Nc6 e3 e5 d4 e4 f3 Bf5 g4 Qh4+...   \n",
       "\n",
       "                               both_users_to_play_new_pl_next  \\\n",
       "new_pl_to_be_played_next_game                                   \n",
       "farfalla                                                    0   \n",
       "\n",
       "                               2nd_game_opp_had_no_previous_game  \n",
       "new_pl_to_be_played_next_game                                     \n",
       "farfalla                                                       0  "
      ]
     },
     "execution_count": 92,
     "metadata": {},
     "output_type": "execute_result"
    }
   ],
   "source": [
    "#Check that things are correct\n",
    "games_opp.head(1)"
   ]
  },
  {
   "cell_type": "markdown",
   "id": "0400dd2d-b5fc-4c73-9c71-ba5220013ff4",
   "metadata": {},
   "source": [
    "# Double-Check the Data Types and Missing Values"
   ]
  },
  {
   "cell_type": "code",
   "execution_count": 93,
   "id": "02be71a5-3bf0-479c-be39-fe17c25457eb",
   "metadata": {},
   "outputs": [
    {
     "name": "stdout",
     "output_type": "stream",
     "text": [
      "<class 'pandas.core.frame.DataFrame'>\n",
      "Index: 23420 entries, sereno to CLauDio989N\n",
      "Data columns (total 17 columns):\n",
      " #   Column                 Non-Null Count  Dtype  \n",
      "---  ------                 --------------  -----  \n",
      " 0   opponent               23420 non-null  object \n",
      " 1   new_pl_color           23420 non-null  object \n",
      " 2   new_pl_won             23420 non-null  float64\n",
      " 3   new_pl_elo             23420 non-null  float64\n",
      " 4   opp_elo                23420 non-null  float64\n",
      " 5   new_pl_rating_diff     23420 non-null  float64\n",
      " 6   opp_rating_diff        23420 non-null  float64\n",
      " 7   game_length            23420 non-null  int64  \n",
      " 8   time_limit             23420 non-null  float64\n",
      " 9   time_gain_per_move     23420 non-null  float64\n",
      " 10  event                  23420 non-null  object \n",
      " 11  termination            23420 non-null  object \n",
      " 12  conceded               23420 non-null  int64  \n",
      " 13  datetime               23420 non-null  object \n",
      " 14  timestamp              23420 non-null  float64\n",
      " 15  moves                  23420 non-null  object \n",
      " 16  both_players_1st_game  23420 non-null  int64  \n",
      "dtypes: float64(8), int64(3), object(6)\n",
      "memory usage: 3.7+ MB\n"
     ]
    }
   ],
   "source": [
    "games_1st.info()"
   ]
  },
  {
   "cell_type": "code",
   "execution_count": 94,
   "id": "caa59d02-3520-4959-9b36-7d57640fc1cc",
   "metadata": {},
   "outputs": [
    {
     "name": "stdout",
     "output_type": "stream",
     "text": [
      "<class 'pandas.core.frame.DataFrame'>\n",
      "Index: 23420 entries, Kevpod to silvificknigthchess9\n",
      "Data columns (total 17 columns):\n",
      " #   Column                 Non-Null Count  Dtype  \n",
      "---  ------                 --------------  -----  \n",
      " 0   opponent               23420 non-null  object \n",
      " 1   new_pl_color           23420 non-null  object \n",
      " 2   new_pl_won             23420 non-null  float64\n",
      " 3   new_pl_elo             23420 non-null  float64\n",
      " 4   opp_elo                23420 non-null  float64\n",
      " 5   new_pl_rating_diff     23420 non-null  float64\n",
      " 6   opp_rating_diff        23420 non-null  float64\n",
      " 7   game_length            23420 non-null  int64  \n",
      " 8   time_limit             23420 non-null  float64\n",
      " 9   time_gain_per_move     23420 non-null  float64\n",
      " 10  event                  23420 non-null  object \n",
      " 11  termination            23420 non-null  object \n",
      " 12  conceded               23420 non-null  int64  \n",
      " 13  datetime               23420 non-null  object \n",
      " 14  timestamp              23420 non-null  float64\n",
      " 15  moves                  23420 non-null  object \n",
      " 16  both_players_2nd_game  23420 non-null  int64  \n",
      "dtypes: float64(8), int64(3), object(6)\n",
      "memory usage: 3.7+ MB\n"
     ]
    }
   ],
   "source": [
    "games_2nd.info()"
   ]
  },
  {
   "cell_type": "code",
   "execution_count": 95,
   "id": "b2e36775-ba6d-4c7c-90d5-8acb9f2e3add",
   "metadata": {},
   "outputs": [
    {
     "name": "stdout",
     "output_type": "stream",
     "text": [
      "<class 'pandas.core.frame.DataFrame'>\n",
      "Index: 23420 entries, farfalla to hoholupus\n",
      "Data columns (total 19 columns):\n",
      " #   Column                             Non-Null Count  Dtype  \n",
      "---  ------                             --------------  -----  \n",
      " 0   opp_of_new_pl                      22974 non-null  object \n",
      " 1   opp_of_opp                         22974 non-null  object \n",
      " 2   opp_color                          22974 non-null  object \n",
      " 3   opp_won                            22974 non-null  float64\n",
      " 4   opp_elo                            22974 non-null  float64\n",
      " 5   opp_opp_elo                        22974 non-null  float64\n",
      " 6   opp_rating_diff                    22974 non-null  float64\n",
      " 7   opp_opp_rating_diff                22974 non-null  float64\n",
      " 8   game_length                        23420 non-null  int64  \n",
      " 9   time_limit                         22974 non-null  float64\n",
      " 10  time_gain_per_move                 22974 non-null  float64\n",
      " 11  event                              22974 non-null  object \n",
      " 12  termination                        22974 non-null  object \n",
      " 13  conceded                           23420 non-null  int64  \n",
      " 14  datetime                           22974 non-null  object \n",
      " 15  timestamp                          22974 non-null  float64\n",
      " 16  moves                              22974 non-null  object \n",
      " 17  both_users_to_play_new_pl_next     23420 non-null  int64  \n",
      " 18  2nd_game_opp_had_no_previous_game  23420 non-null  int64  \n",
      "dtypes: float64(8), int64(4), object(7)\n",
      "memory usage: 4.1+ MB\n"
     ]
    }
   ],
   "source": [
    "games_opp.info()"
   ]
  },
  {
   "cell_type": "markdown",
   "id": "1607acdf-f911-462c-b0e4-5a0156a537e9",
   "metadata": {},
   "source": [
    "# Train / Test / Validate Split"
   ]
  },
  {
   "cell_type": "markdown",
   "id": "63fd29a4-3de5-4bc4-9259-373161435079",
   "metadata": {},
   "source": [
    "We will reserve 1500 new players for test data and another 1500 new players for validation data.  We will use the test data to help select between our models, but we will not look at the validation data until we have identified our production model.\n",
    "\n",
    "The most imbalanced of the categorical variables in our dataframes is the `2nd_game_opp_had_no_previous_game` variable from the dataframe of the new players' 2nd-game opponents' previous games:"
   ]
  },
  {
   "cell_type": "code",
   "execution_count": 96,
   "id": "dc08df39-2504-4038-b59a-69a971e1814c",
   "metadata": {},
   "outputs": [
    {
     "data": {
      "text/plain": [
       "0    0.980956\n",
       "1    0.019044\n",
       "Name: 2nd_game_opp_had_no_previous_game, dtype: float64"
      ]
     },
     "execution_count": 96,
     "metadata": {},
     "output_type": "execute_result"
    }
   ],
   "source": [
    "games_opp['2nd_game_opp_had_no_previous_game'].value_counts(normalize=True)"
   ]
  },
  {
   "cell_type": "markdown",
   "id": "19f5b8d6-c2bf-4ecb-b06f-aa68529cf3ff",
   "metadata": {},
   "source": [
    "That is, fewer than 2% of the 23420 new players had a 2nd-game opponent who had *no* previous games this month.  We will therefore stratify our random train/test/validate split by this variable. "
   ]
  },
  {
   "cell_type": "code",
   "execution_count": 97,
   "id": "5f468437-cb88-432f-9f18-5c38ef2e6b4c",
   "metadata": {},
   "outputs": [],
   "source": [
    "#Take off 3000 new players for test and validation data\n",
    "train_opp, test_opp = train_test_split(games_opp,\n",
    "                                       random_state = 123,\n",
    "                                       stratify = games_opp['2nd_game_opp_had_no_previous_game'],\n",
    "                                       test_size = 3000)"
   ]
  },
  {
   "cell_type": "code",
   "execution_count": 98,
   "id": "707b4c7f-ec96-4266-9786-98391762f1c2",
   "metadata": {},
   "outputs": [],
   "source": [
    "#Split these 3000 new players into 1500 for test data and 1500 for validation data\n",
    "test_opp, val_opp = train_test_split(test_opp,\n",
    "                                       random_state = 42,\n",
    "                                       stratify = test_opp['2nd_game_opp_had_no_previous_game'],\n",
    "                                       test_size = 1500)"
   ]
  },
  {
   "cell_type": "code",
   "execution_count": 99,
   "id": "491d4867-de57-43e8-9c9d-5263532bd466",
   "metadata": {},
   "outputs": [
    {
     "data": {
      "text/plain": [
       "(20420, 1500, 1500)"
      ]
     },
     "execution_count": 99,
     "metadata": {},
     "output_type": "execute_result"
    }
   ],
   "source": [
    "#Check that the data were properly split up\n",
    "len(train_opp), len(test_opp), len(val_opp)"
   ]
  },
  {
   "cell_type": "code",
   "execution_count": 100,
   "id": "6936ec60-df53-4e9f-b200-fd0fdd7884b3",
   "metadata": {},
   "outputs": [],
   "source": [
    "train_inds = train_opp.index\n",
    "test_inds = test_opp.index\n",
    "val_inds = val_opp.index"
   ]
  },
  {
   "cell_type": "code",
   "execution_count": 101,
   "id": "1a204259-fb26-40dc-a122-25bbf638854c",
   "metadata": {},
   "outputs": [],
   "source": [
    "#Split up the new players' 1st and 2nd games into the same train/test/validate groups\n",
    "train_1st = games_1st.loc[train_inds]\n",
    "test_1st = games_1st.loc[test_inds]\n",
    "val_1st = games_1st.loc[val_inds]\n",
    "\n",
    "train_2nd = games_2nd.loc[train_inds]\n",
    "test_2nd = games_2nd.loc[test_inds]\n",
    "val_2nd = games_2nd.loc[val_inds]"
   ]
  },
  {
   "cell_type": "code",
   "execution_count": 102,
   "id": "a35df0fb-4280-4ae8-8b55-dc3cbe8ce83c",
   "metadata": {},
   "outputs": [
    {
     "data": {
      "text/plain": [
       "(20420, 1500, 1500)"
      ]
     },
     "execution_count": 102,
     "metadata": {},
     "output_type": "execute_result"
    }
   ],
   "source": [
    "#Check lengths of 1st-game datasets\n",
    "len(train_1st), len(test_1st), len(val_1st)"
   ]
  },
  {
   "cell_type": "code",
   "execution_count": 103,
   "id": "415c1987-1b8a-4cdf-863d-675083413a5c",
   "metadata": {},
   "outputs": [
    {
     "data": {
      "text/plain": [
       "(20420, 1500, 1500)"
      ]
     },
     "execution_count": 103,
     "metadata": {},
     "output_type": "execute_result"
    }
   ],
   "source": [
    "#Check lengths of 2nd-game datasets\n",
    "len(train_2nd), len(test_2nd), len(val_2nd)"
   ]
  },
  {
   "cell_type": "code",
   "execution_count": 104,
   "id": "0c58a93d-6d3c-43e7-8e9c-0c1d9fe71284",
   "metadata": {},
   "outputs": [
    {
     "data": {
      "text/html": [
       "<div>\n",
       "<style scoped>\n",
       "    .dataframe tbody tr th:only-of-type {\n",
       "        vertical-align: middle;\n",
       "    }\n",
       "\n",
       "    .dataframe tbody tr th {\n",
       "        vertical-align: top;\n",
       "    }\n",
       "\n",
       "    .dataframe thead th {\n",
       "        text-align: right;\n",
       "    }\n",
       "</style>\n",
       "<table border=\"1\" class=\"dataframe\">\n",
       "  <thead>\n",
       "    <tr style=\"text-align: right;\">\n",
       "      <th></th>\n",
       "      <th>opponent</th>\n",
       "      <th>new_pl_color</th>\n",
       "      <th>new_pl_won</th>\n",
       "      <th>new_pl_elo</th>\n",
       "      <th>opp_elo</th>\n",
       "      <th>new_pl_rating_diff</th>\n",
       "      <th>opp_rating_diff</th>\n",
       "      <th>game_length</th>\n",
       "      <th>time_limit</th>\n",
       "      <th>time_gain_per_move</th>\n",
       "      <th>event</th>\n",
       "      <th>termination</th>\n",
       "      <th>conceded</th>\n",
       "      <th>datetime</th>\n",
       "      <th>timestamp</th>\n",
       "      <th>moves</th>\n",
       "      <th>both_players_1st_game</th>\n",
       "    </tr>\n",
       "    <tr>\n",
       "      <th>new_pl_to_be_played_next_game</th>\n",
       "      <th></th>\n",
       "      <th></th>\n",
       "      <th></th>\n",
       "      <th></th>\n",
       "      <th></th>\n",
       "      <th></th>\n",
       "      <th></th>\n",
       "      <th></th>\n",
       "      <th></th>\n",
       "      <th></th>\n",
       "      <th></th>\n",
       "      <th></th>\n",
       "      <th></th>\n",
       "      <th></th>\n",
       "      <th></th>\n",
       "      <th></th>\n",
       "      <th></th>\n",
       "    </tr>\n",
       "  </thead>\n",
       "  <tbody>\n",
       "    <tr>\n",
       "      <th>SAKATBIRAKAN</th>\n",
       "      <td>maxmorpheus</td>\n",
       "      <td>White</td>\n",
       "      <td>1.0</td>\n",
       "      <td>1500.0</td>\n",
       "      <td>1417.0</td>\n",
       "      <td>138.0</td>\n",
       "      <td>-6.0</td>\n",
       "      <td>65</td>\n",
       "      <td>480.0</td>\n",
       "      <td>5.0</td>\n",
       "      <td>Classical</td>\n",
       "      <td>Normal</td>\n",
       "      <td>0</td>\n",
       "      <td>2016-07-13 19:55:19</td>\n",
       "      <td>1.468440e+09</td>\n",
       "      <td>e4 e5 Nf3 Nc6 Bb5 a6 Ba4 b5 Bb3 Qe7 Nc3 Nb4 a3...</td>\n",
       "      <td>0</td>\n",
       "    </tr>\n",
       "    <tr>\n",
       "      <th>bv44</th>\n",
       "      <td>ATMarley12</td>\n",
       "      <td>White</td>\n",
       "      <td>1.0</td>\n",
       "      <td>1500.0</td>\n",
       "      <td>1445.0</td>\n",
       "      <td>150.0</td>\n",
       "      <td>-6.0</td>\n",
       "      <td>15</td>\n",
       "      <td>480.0</td>\n",
       "      <td>0.0</td>\n",
       "      <td>Classical</td>\n",
       "      <td>Normal</td>\n",
       "      <td>1</td>\n",
       "      <td>2016-07-19 14:57:47</td>\n",
       "      <td>1.468940e+09</td>\n",
       "      <td>e4 e5 Bc4 Nf6 Nf3 Nxe4 Qe2 d5 Bb3 Qf6 Nc3 Bf5 ...</td>\n",
       "      <td>0</td>\n",
       "    </tr>\n",
       "    <tr>\n",
       "      <th>mister_fix_it</th>\n",
       "      <td>koha</td>\n",
       "      <td>White</td>\n",
       "      <td>1.0</td>\n",
       "      <td>1500.0</td>\n",
       "      <td>1522.0</td>\n",
       "      <td>186.0</td>\n",
       "      <td>-7.0</td>\n",
       "      <td>41</td>\n",
       "      <td>600.0</td>\n",
       "      <td>2.0</td>\n",
       "      <td>Classical</td>\n",
       "      <td>Time forfeit</td>\n",
       "      <td>1</td>\n",
       "      <td>2016-07-15 08:51:17</td>\n",
       "      <td>1.468573e+09</td>\n",
       "      <td>e4 e5 Nf3 Nc6 Bb5 a6 Ba4 b5 Bb3 h6 c3 Nf6 O-O ...</td>\n",
       "      <td>0</td>\n",
       "    </tr>\n",
       "  </tbody>\n",
       "</table>\n",
       "</div>"
      ],
      "text/plain": [
       "                                  opponent new_pl_color  new_pl_won  \\\n",
       "new_pl_to_be_played_next_game                                         \n",
       "SAKATBIRAKAN                   maxmorpheus        White         1.0   \n",
       "bv44                            ATMarley12        White         1.0   \n",
       "mister_fix_it                         koha        White         1.0   \n",
       "\n",
       "                               new_pl_elo  opp_elo  new_pl_rating_diff  \\\n",
       "new_pl_to_be_played_next_game                                            \n",
       "SAKATBIRAKAN                       1500.0   1417.0               138.0   \n",
       "bv44                               1500.0   1445.0               150.0   \n",
       "mister_fix_it                      1500.0   1522.0               186.0   \n",
       "\n",
       "                               opp_rating_diff  game_length  time_limit  \\\n",
       "new_pl_to_be_played_next_game                                             \n",
       "SAKATBIRAKAN                              -6.0           65       480.0   \n",
       "bv44                                      -6.0           15       480.0   \n",
       "mister_fix_it                             -7.0           41       600.0   \n",
       "\n",
       "                               time_gain_per_move      event   termination  \\\n",
       "new_pl_to_be_played_next_game                                                \n",
       "SAKATBIRAKAN                                  5.0  Classical        Normal   \n",
       "bv44                                          0.0  Classical        Normal   \n",
       "mister_fix_it                                 2.0  Classical  Time forfeit   \n",
       "\n",
       "                               conceded             datetime     timestamp  \\\n",
       "new_pl_to_be_played_next_game                                                \n",
       "SAKATBIRAKAN                          0  2016-07-13 19:55:19  1.468440e+09   \n",
       "bv44                                  1  2016-07-19 14:57:47  1.468940e+09   \n",
       "mister_fix_it                         1  2016-07-15 08:51:17  1.468573e+09   \n",
       "\n",
       "                                                                           moves  \\\n",
       "new_pl_to_be_played_next_game                                                      \n",
       "SAKATBIRAKAN                   e4 e5 Nf3 Nc6 Bb5 a6 Ba4 b5 Bb3 Qe7 Nc3 Nb4 a3...   \n",
       "bv44                           e4 e5 Bc4 Nf6 Nf3 Nxe4 Qe2 d5 Bb3 Qf6 Nc3 Bf5 ...   \n",
       "mister_fix_it                  e4 e5 Nf3 Nc6 Bb5 a6 Ba4 b5 Bb3 h6 c3 Nf6 O-O ...   \n",
       "\n",
       "                               both_players_1st_game  \n",
       "new_pl_to_be_played_next_game                         \n",
       "SAKATBIRAKAN                                       0  \n",
       "bv44                                               0  \n",
       "mister_fix_it                                      0  "
      ]
     },
     "execution_count": 104,
     "metadata": {},
     "output_type": "execute_result"
    }
   ],
   "source": [
    "#Look at a few rows - they should no longer be sorted by timestamp\n",
    "train_1st.head(3)"
   ]
  },
  {
   "cell_type": "code",
   "execution_count": 105,
   "id": "047072b7-caeb-4f7e-9119-3d8119cb7058",
   "metadata": {},
   "outputs": [
    {
     "data": {
      "text/html": [
       "<div>\n",
       "<style scoped>\n",
       "    .dataframe tbody tr th:only-of-type {\n",
       "        vertical-align: middle;\n",
       "    }\n",
       "\n",
       "    .dataframe tbody tr th {\n",
       "        vertical-align: top;\n",
       "    }\n",
       "\n",
       "    .dataframe thead th {\n",
       "        text-align: right;\n",
       "    }\n",
       "</style>\n",
       "<table border=\"1\" class=\"dataframe\">\n",
       "  <thead>\n",
       "    <tr style=\"text-align: right;\">\n",
       "      <th></th>\n",
       "      <th>opponent</th>\n",
       "      <th>new_pl_color</th>\n",
       "      <th>new_pl_won</th>\n",
       "      <th>new_pl_elo</th>\n",
       "      <th>opp_elo</th>\n",
       "      <th>new_pl_rating_diff</th>\n",
       "      <th>opp_rating_diff</th>\n",
       "      <th>game_length</th>\n",
       "      <th>time_limit</th>\n",
       "      <th>time_gain_per_move</th>\n",
       "      <th>event</th>\n",
       "      <th>termination</th>\n",
       "      <th>conceded</th>\n",
       "      <th>datetime</th>\n",
       "      <th>timestamp</th>\n",
       "      <th>moves</th>\n",
       "      <th>both_players_2nd_game</th>\n",
       "    </tr>\n",
       "    <tr>\n",
       "      <th>new_pl_to_be_played_next_game</th>\n",
       "      <th></th>\n",
       "      <th></th>\n",
       "      <th></th>\n",
       "      <th></th>\n",
       "      <th></th>\n",
       "      <th></th>\n",
       "      <th></th>\n",
       "      <th></th>\n",
       "      <th></th>\n",
       "      <th></th>\n",
       "      <th></th>\n",
       "      <th></th>\n",
       "      <th></th>\n",
       "      <th></th>\n",
       "      <th></th>\n",
       "      <th></th>\n",
       "      <th></th>\n",
       "    </tr>\n",
       "  </thead>\n",
       "  <tbody>\n",
       "    <tr>\n",
       "      <th>SsAaRrAa</th>\n",
       "      <td>evgenyi</td>\n",
       "      <td>Black</td>\n",
       "      <td>0.0</td>\n",
       "      <td>1677.0</td>\n",
       "      <td>1667.0</td>\n",
       "      <td>-117.0</td>\n",
       "      <td>26.0</td>\n",
       "      <td>103</td>\n",
       "      <td>1500.0</td>\n",
       "      <td>0.0</td>\n",
       "      <td>Classical</td>\n",
       "      <td>Normal</td>\n",
       "      <td>0</td>\n",
       "      <td>2016-07-05 17:34:02</td>\n",
       "      <td>1.467740e+09</td>\n",
       "      <td>e4 e5 Nf3 Nc6 d4 Nf6 dxe5 Nxe4 Qe2 d5 g3 Bc5 B...</td>\n",
       "      <td>0</td>\n",
       "    </tr>\n",
       "    <tr>\n",
       "      <th>BSB17</th>\n",
       "      <td>gmatrix</td>\n",
       "      <td>White</td>\n",
       "      <td>0.0</td>\n",
       "      <td>1341.0</td>\n",
       "      <td>1718.0</td>\n",
       "      <td>-31.0</td>\n",
       "      <td>4.0</td>\n",
       "      <td>74</td>\n",
       "      <td>900.0</td>\n",
       "      <td>0.0</td>\n",
       "      <td>Classical</td>\n",
       "      <td>Normal</td>\n",
       "      <td>0</td>\n",
       "      <td>2016-07-06 20:45:20</td>\n",
       "      <td>1.467838e+09</td>\n",
       "      <td>Nf3 e6 g3 d5 Bg2 Nf6 O-O Nc6 d3 Be7 Nbd2 O-O e...</td>\n",
       "      <td>0</td>\n",
       "    </tr>\n",
       "    <tr>\n",
       "      <th>BeautifulBot</th>\n",
       "      <td>enzo1970</td>\n",
       "      <td>Black</td>\n",
       "      <td>1.0</td>\n",
       "      <td>1382.0</td>\n",
       "      <td>1720.0</td>\n",
       "      <td>266.0</td>\n",
       "      <td>-15.0</td>\n",
       "      <td>66</td>\n",
       "      <td>60.0</td>\n",
       "      <td>0.0</td>\n",
       "      <td>Bullet</td>\n",
       "      <td>Time forfeit</td>\n",
       "      <td>1</td>\n",
       "      <td>2016-07-04 13:03:20</td>\n",
       "      <td>1.467637e+09</td>\n",
       "      <td>Nf3 c5 d4 b6 d5 e6 d6 g6 e4 Bg7 e5 Nc6 Bf4 Bb7...</td>\n",
       "      <td>0</td>\n",
       "    </tr>\n",
       "  </tbody>\n",
       "</table>\n",
       "</div>"
      ],
      "text/plain": [
       "                               opponent new_pl_color  new_pl_won  new_pl_elo  \\\n",
       "new_pl_to_be_played_next_game                                                  \n",
       "SsAaRrAa                        evgenyi        Black         0.0      1677.0   \n",
       "BSB17                           gmatrix        White         0.0      1341.0   \n",
       "BeautifulBot                   enzo1970        Black         1.0      1382.0   \n",
       "\n",
       "                               opp_elo  new_pl_rating_diff  opp_rating_diff  \\\n",
       "new_pl_to_be_played_next_game                                                 \n",
       "SsAaRrAa                        1667.0              -117.0             26.0   \n",
       "BSB17                           1718.0               -31.0              4.0   \n",
       "BeautifulBot                    1720.0               266.0            -15.0   \n",
       "\n",
       "                               game_length  time_limit  time_gain_per_move  \\\n",
       "new_pl_to_be_played_next_game                                                \n",
       "SsAaRrAa                               103      1500.0                 0.0   \n",
       "BSB17                                   74       900.0                 0.0   \n",
       "BeautifulBot                            66        60.0                 0.0   \n",
       "\n",
       "                                   event   termination  conceded  \\\n",
       "new_pl_to_be_played_next_game                                      \n",
       "SsAaRrAa                       Classical        Normal         0   \n",
       "BSB17                          Classical        Normal         0   \n",
       "BeautifulBot                      Bullet  Time forfeit         1   \n",
       "\n",
       "                                          datetime     timestamp  \\\n",
       "new_pl_to_be_played_next_game                                      \n",
       "SsAaRrAa                       2016-07-05 17:34:02  1.467740e+09   \n",
       "BSB17                          2016-07-06 20:45:20  1.467838e+09   \n",
       "BeautifulBot                   2016-07-04 13:03:20  1.467637e+09   \n",
       "\n",
       "                                                                           moves  \\\n",
       "new_pl_to_be_played_next_game                                                      \n",
       "SsAaRrAa                       e4 e5 Nf3 Nc6 d4 Nf6 dxe5 Nxe4 Qe2 d5 g3 Bc5 B...   \n",
       "BSB17                          Nf3 e6 g3 d5 Bg2 Nf6 O-O Nc6 d3 Be7 Nbd2 O-O e...   \n",
       "BeautifulBot                   Nf3 c5 d4 b6 d5 e6 d6 g6 e4 Bg7 e5 Nc6 Bf4 Bb7...   \n",
       "\n",
       "                               both_players_2nd_game  \n",
       "new_pl_to_be_played_next_game                         \n",
       "SsAaRrAa                                           0  \n",
       "BSB17                                              0  \n",
       "BeautifulBot                                       0  "
      ]
     },
     "execution_count": 105,
     "metadata": {},
     "output_type": "execute_result"
    }
   ],
   "source": [
    "test_2nd.head(3)"
   ]
  },
  {
   "cell_type": "code",
   "execution_count": 106,
   "id": "a0af5e06-4413-4b25-882b-c25746d842f0",
   "metadata": {},
   "outputs": [
    {
     "data": {
      "text/html": [
       "<div>\n",
       "<style scoped>\n",
       "    .dataframe tbody tr th:only-of-type {\n",
       "        vertical-align: middle;\n",
       "    }\n",
       "\n",
       "    .dataframe tbody tr th {\n",
       "        vertical-align: top;\n",
       "    }\n",
       "\n",
       "    .dataframe thead th {\n",
       "        text-align: right;\n",
       "    }\n",
       "</style>\n",
       "<table border=\"1\" class=\"dataframe\">\n",
       "  <thead>\n",
       "    <tr style=\"text-align: right;\">\n",
       "      <th></th>\n",
       "      <th>opp_of_new_pl</th>\n",
       "      <th>opp_of_opp</th>\n",
       "      <th>opp_color</th>\n",
       "      <th>opp_won</th>\n",
       "      <th>opp_elo</th>\n",
       "      <th>opp_opp_elo</th>\n",
       "      <th>opp_rating_diff</th>\n",
       "      <th>opp_opp_rating_diff</th>\n",
       "      <th>game_length</th>\n",
       "      <th>time_limit</th>\n",
       "      <th>time_gain_per_move</th>\n",
       "      <th>event</th>\n",
       "      <th>termination</th>\n",
       "      <th>conceded</th>\n",
       "      <th>datetime</th>\n",
       "      <th>timestamp</th>\n",
       "      <th>moves</th>\n",
       "      <th>both_users_to_play_new_pl_next</th>\n",
       "      <th>2nd_game_opp_had_no_previous_game</th>\n",
       "    </tr>\n",
       "    <tr>\n",
       "      <th>new_pl_to_be_played_next_game</th>\n",
       "      <th></th>\n",
       "      <th></th>\n",
       "      <th></th>\n",
       "      <th></th>\n",
       "      <th></th>\n",
       "      <th></th>\n",
       "      <th></th>\n",
       "      <th></th>\n",
       "      <th></th>\n",
       "      <th></th>\n",
       "      <th></th>\n",
       "      <th></th>\n",
       "      <th></th>\n",
       "      <th></th>\n",
       "      <th></th>\n",
       "      <th></th>\n",
       "      <th></th>\n",
       "      <th></th>\n",
       "      <th></th>\n",
       "    </tr>\n",
       "  </thead>\n",
       "  <tbody>\n",
       "    <tr>\n",
       "      <th>noobstyle</th>\n",
       "      <td>puffknuckle</td>\n",
       "      <td>pexon77</td>\n",
       "      <td>Black</td>\n",
       "      <td>0.0</td>\n",
       "      <td>1640.0</td>\n",
       "      <td>1759.0</td>\n",
       "      <td>-7.0</td>\n",
       "      <td>8.0</td>\n",
       "      <td>77</td>\n",
       "      <td>600.0</td>\n",
       "      <td>0.0</td>\n",
       "      <td>Classical</td>\n",
       "      <td>Time forfeit</td>\n",
       "      <td>1</td>\n",
       "      <td>2016-07-26 06:27:48</td>\n",
       "      <td>1.469514e+09</td>\n",
       "      <td>e4 d6 f4 Nf6 d3 Nc6 c3 h6 Nf3 e6 Na3 d5 e5 Nd7...</td>\n",
       "      <td>0</td>\n",
       "      <td>0</td>\n",
       "    </tr>\n",
       "    <tr>\n",
       "      <th>DeepEjaculater</th>\n",
       "      <td>MolonLabe</td>\n",
       "      <td>DeepEjaculater</td>\n",
       "      <td>Black</td>\n",
       "      <td>0.0</td>\n",
       "      <td>1609.0</td>\n",
       "      <td>1500.0</td>\n",
       "      <td>-9.0</td>\n",
       "      <td>238.0</td>\n",
       "      <td>27</td>\n",
       "      <td>120.0</td>\n",
       "      <td>0.0</td>\n",
       "      <td>Bullet</td>\n",
       "      <td>Normal</td>\n",
       "      <td>0</td>\n",
       "      <td>2016-07-08 14:22:58</td>\n",
       "      <td>1.467988e+09</td>\n",
       "      <td>d4 d6 Nf3 Nd7 Nc3 e5 e4 Ngf6 dxe5 dxe5 Bc4 g6 ...</td>\n",
       "      <td>0</td>\n",
       "      <td>0</td>\n",
       "    </tr>\n",
       "    <tr>\n",
       "      <th>Schlafmaus</th>\n",
       "      <td>Lachen</td>\n",
       "      <td>loneknight</td>\n",
       "      <td>White</td>\n",
       "      <td>0.0</td>\n",
       "      <td>1361.0</td>\n",
       "      <td>1505.0</td>\n",
       "      <td>-7.0</td>\n",
       "      <td>7.0</td>\n",
       "      <td>70</td>\n",
       "      <td>300.0</td>\n",
       "      <td>0.0</td>\n",
       "      <td>Blitz</td>\n",
       "      <td>Time forfeit</td>\n",
       "      <td>1</td>\n",
       "      <td>2016-07-07 22:34:20</td>\n",
       "      <td>1.467931e+09</td>\n",
       "      <td>e4 e5 Nf3 d6 Bc4 Nf6 c3 c6 Ng5 d5 exd5 cxd5 Bb...</td>\n",
       "      <td>0</td>\n",
       "      <td>0</td>\n",
       "    </tr>\n",
       "  </tbody>\n",
       "</table>\n",
       "</div>"
      ],
      "text/plain": [
       "                              opp_of_new_pl      opp_of_opp opp_color  \\\n",
       "new_pl_to_be_played_next_game                                           \n",
       "noobstyle                       puffknuckle         pexon77     Black   \n",
       "DeepEjaculater                    MolonLabe  DeepEjaculater     Black   \n",
       "Schlafmaus                           Lachen      loneknight     White   \n",
       "\n",
       "                               opp_won  opp_elo  opp_opp_elo  opp_rating_diff  \\\n",
       "new_pl_to_be_played_next_game                                                   \n",
       "noobstyle                          0.0   1640.0       1759.0             -7.0   \n",
       "DeepEjaculater                     0.0   1609.0       1500.0             -9.0   \n",
       "Schlafmaus                         0.0   1361.0       1505.0             -7.0   \n",
       "\n",
       "                               opp_opp_rating_diff  game_length  time_limit  \\\n",
       "new_pl_to_be_played_next_game                                                 \n",
       "noobstyle                                      8.0           77       600.0   \n",
       "DeepEjaculater                               238.0           27       120.0   \n",
       "Schlafmaus                                     7.0           70       300.0   \n",
       "\n",
       "                               time_gain_per_move      event   termination  \\\n",
       "new_pl_to_be_played_next_game                                                \n",
       "noobstyle                                     0.0  Classical  Time forfeit   \n",
       "DeepEjaculater                                0.0     Bullet        Normal   \n",
       "Schlafmaus                                    0.0      Blitz  Time forfeit   \n",
       "\n",
       "                               conceded             datetime     timestamp  \\\n",
       "new_pl_to_be_played_next_game                                                \n",
       "noobstyle                             1  2016-07-26 06:27:48  1.469514e+09   \n",
       "DeepEjaculater                        0  2016-07-08 14:22:58  1.467988e+09   \n",
       "Schlafmaus                            1  2016-07-07 22:34:20  1.467931e+09   \n",
       "\n",
       "                                                                           moves  \\\n",
       "new_pl_to_be_played_next_game                                                      \n",
       "noobstyle                      e4 d6 f4 Nf6 d3 Nc6 c3 h6 Nf3 e6 Na3 d5 e5 Nd7...   \n",
       "DeepEjaculater                 d4 d6 Nf3 Nd7 Nc3 e5 e4 Ngf6 dxe5 dxe5 Bc4 g6 ...   \n",
       "Schlafmaus                     e4 e5 Nf3 d6 Bc4 Nf6 c3 c6 Ng5 d5 exd5 cxd5 Bb...   \n",
       "\n",
       "                               both_users_to_play_new_pl_next  \\\n",
       "new_pl_to_be_played_next_game                                   \n",
       "noobstyle                                                   0   \n",
       "DeepEjaculater                                              0   \n",
       "Schlafmaus                                                  0   \n",
       "\n",
       "                               2nd_game_opp_had_no_previous_game  \n",
       "new_pl_to_be_played_next_game                                     \n",
       "noobstyle                                                      0  \n",
       "DeepEjaculater                                                 0  \n",
       "Schlafmaus                                                     0  "
      ]
     },
     "execution_count": 106,
     "metadata": {},
     "output_type": "execute_result"
    }
   ],
   "source": [
    "val_opp.head(3)"
   ]
  },
  {
   "cell_type": "code",
   "execution_count": 107,
   "id": "1597ace2-1b54-4aa5-a0e0-76d364d48b80",
   "metadata": {},
   "outputs": [],
   "source": [
    "#Export all the dataframes as CSVs\n",
    "index_names_dict = {\n",
    "    '1st':'name_of_pl_playing_1st_game',\n",
    "    '2nd':'name_of_pl_playing_2nd_game',\n",
    "    'opp':'new_pl_to_be_played_next_game'\n",
    "}\n",
    "\n",
    "for ttv, kind in itertools.product(['train', 'test', 'val'], ['1st', '2nd', 'opp']):\n",
    "    locals()[f\"{ttv}_{kind}\"].to_csv(f\"../data/processed/{ttv}/{ttv}_{kind}.csv\",\n",
    "                                    index_label = index_names_dict[kind])"
   ]
  }
 ],
 "metadata": {
  "kernelspec": {
   "display_name": "Python 3 (ipykernel)",
   "language": "python",
   "name": "python3"
  },
  "language_info": {
   "codemirror_mode": {
    "name": "ipython",
    "version": 3
   },
   "file_extension": ".py",
   "mimetype": "text/x-python",
   "name": "python",
   "nbconvert_exporter": "python",
   "pygments_lexer": "ipython3",
   "version": "3.9.16"
  }
 },
 "nbformat": 4,
 "nbformat_minor": 5
}
